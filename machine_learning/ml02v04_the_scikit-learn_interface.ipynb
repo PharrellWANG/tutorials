{
 "cells": [
  {
   "cell_type": "markdown",
   "metadata": {},
   "source": [
    "# The scikit-learn interface"
   ]
  },
  {
   "cell_type": "code",
   "execution_count": 1,
   "metadata": {
    "collapsed": false
   },
   "outputs": [
    {
     "data": {
      "text/html": [
       "<div id='toc-container'><script type='text/javascript'>\n",
       "$(function() {\n",
       "    function regenTOC(){\n",
       "        element = $(\"#toc-container\");\n",
       "\n",
       "\tvar toc = document.createElement(\"div\");\n",
       "\t$(toc).attr(\"class\", \"table-of-contents\");\n",
       "\n",
       "\tvar curLevel = 0;\n",
       "\tvar containerStack = [toc];\n",
       "\tvar levelOfTag = {\"h2\": 1, \"h3\": 2, \"h4\": 3, \"h5\": 4};\n",
       "\n",
       "\tfunction pushLevel() {\n",
       "            var list = document.createElement(\"ul\");\n",
       "            containerStack.push(list);\n",
       "            curLevel++;\n",
       "\t}\n",
       "\t\n",
       "\tfunction popLevel() {\n",
       "            var lastContainer = containerStack.pop();\n",
       "            $(lastContainer).appendTo(containerStack[containerStack.length - 1]);\n",
       "            curLevel--;\n",
       "\t}\n",
       "\t\n",
       "\t$(\".text_cell_render :header\").each(function (i, elem) {\n",
       "            var level = levelOfTag[ elem.tagName.toLowerCase() ];\n",
       "\n",
       "            if (level === undefined)\n",
       "\t\treturn;\n",
       "\n",
       "            while (curLevel < level)\n",
       "\t\tpushLevel();\n",
       "            while (curLevel > level)\n",
       "\t\tpopLevel();\n",
       "            \n",
       "            var listItem = document.createElement(\"li\");\n",
       "            var link = document.createElement(\"a\");\n",
       "            $(link)\n",
       "\t\t.text($(elem).contents().first().text()) // Remove the pilcrow sign\n",
       "\t\t.attr(\"href\", \"#\" + $(elem).attr(\"id\"))\n",
       "\t\t.appendTo(listItem);\n",
       "            $(listItem).appendTo(containerStack[containerStack.length - 1]);\n",
       "\t});\n",
       "\t\n",
       "\twhile (curLevel > 0)\n",
       "            popLevel();\n",
       "\n",
       "        $(\"<a class='btn-update' href='#'>Update</a>\")\n",
       "          .click(regenTOC).prependTo(toc);\n",
       "\n",
       "\t$(toc).prepend(\"<div class='title'>Contents</div>\")\n",
       "          .wrap(\"<div class='toc-headings'/>\");\n",
       "\n",
       "        $(element).empty();\n",
       "        $(element).append(toc);\n",
       "    }\n",
       "\n",
       "    if (typeof(IPython) !== 'undefined')\n",
       "        $([IPython.events]).on('notebook_loaded.Notebook', regenTOC);\n",
       "    regenTOC();\n",
       "});\n",
       "\n",
       "</script></div>"
      ],
      "text/plain": [
       "<IPython.core.display.HTML object>"
      ]
     },
     "execution_count": 1,
     "metadata": {},
     "output_type": "execute_result"
    }
   ],
   "source": [
    "import addutils.toc ; addutils.toc.js(ipy_notebook=True)"
   ]
  },
  {
   "cell_type": "code",
   "execution_count": 2,
   "metadata": {
    "collapsed": false
   },
   "outputs": [
    {
     "data": {
      "text/html": [
       "<style>\n",
       ".text_cell_render @font-face {\n",
       "    font-family: \"Computer Modern\";\n",
       "    src: url('http://mirrors.ctan.org/fonts/cm-unicode/fonts/otf/cmunss.otf');\n",
       "}\n",
       "\n",
       "div.cell {\n",
       "    width: 900px;\n",
       "    margin-left: 0% !important;\n",
       "    margin-right: 0%;\n",
       "}\n",
       "\n",
       "code {\n",
       "    font-size:10pt;\n",
       "}\n",
       "\n",
       ".text_cell_render  h1 {\n",
       "    font-family: Tahoma, sans-serif;\n",
       "    color: rgb( 10, 88, 126 );\n",
       "    font-size:28pt;\n",
       "}\n",
       ".text_cell_render h2 {\n",
       "    font-family: Tahoma, sans-serif;\n",
       "    color: rgb( 10, 88, 126 );\n",
       "    font-size:24pt;\n",
       "}\n",
       ".text_cell_render h3 {\n",
       "    font-family: Tahoma, sans-serif;\n",
       "    color: rgb( 10, 88, 126 );\n",
       "    font-size:20pt;\n",
       "}\n",
       ".text_cell_render h4 {\n",
       "    font-family: Tahoma, sans-serif;\n",
       "    color: rgb( 10, 88, 126 );\n",
       "    font-size:18pt;\n",
       "    margin-top:12px;\n",
       "    margin-bottom: 3px;\n",
       "}\n",
       "\n",
       ".text_cell_render h5 {\n",
       "    font-weight: 300;\n",
       "    font-size: 11pt;\n",
       "    color: rgb( 48, 48, 48 );\n",
       "    font-style: italic;\n",
       "    margin-bottom: .5em;\n",
       "    margin-top: 0.5em;\n",
       "    display: block;\n",
       "}\n",
       "\n",
       ".text_cell_render ul {\n",
       "    font-family: Tahoma, sans-serif;\n",
       "    color: rgb( 90, 90, 90 );\n",
       "    font-size:11pt;\n",
       "    line-height: 185%;\n",
       "}\n",
       "\n",
       ".text_cell_render yp {\n",
       "    font-family: Tahoma, sans-serif;\n",
       "    color: rgb( 90, 90, 90 );\n",
       "    font-size:11pt;\n",
       "}\n",
       "\n",
       ".text_cell_render strong {\n",
       "    font-family: Tahoma, sans-serif;\n",
       "    color: rgb( 30, 30, 30 );\n",
       "    font-size:11pt;\n",
       "}\n",
       "\n",
       ".text_cell_render a:link {\n",
       "    font-family: Tahoma, sans-serif;\n",
       "    color: rgb( 10, 88, 126 );\n",
       "    font-size:11pt;\n",
       "}\n",
       "\n",
       ".text_cell_render a:visited {\n",
       "    color:rgb( 10, 88, 126 );\n",
       "}\n",
       "\n",
       ".text_cell_render {\n",
       "    font-family: Helvetica, Courier, Computer Modern, \"Helvetica Neue\", Arial, Geneva, sans-serif;\n",
       "    color: rgb( 84, 84, 84 );\n",
       "    font-size:11pt;\n",
       "    line-height: 125%;\n",
       "    font-size: 100%;\n",
       "    width:800px;\n",
       "}\n",
       "\n",
       ".CodeMirror {\n",
       "    font-family: Courier, \"Source Code Pro\", source-code-pro,Consolas, monospace;\n",
       "}\n",
       "\n",
       ".warning {\n",
       "    color: rgb( 240, 20, 20 );\n",
       "}\n",
       "\n",
       "/* Pandas tables */\n",
       "/*\n",
       ".rendered_html td {\n",
       "    text-align: right;\n",
       "}\n",
       "*/\n",
       "\n",
       "table.dataframe td {\n",
       "    text-align: right;\n",
       "}\n",
       "\n",
       ".output .table-of-contents {\n",
       "    border: 1px #cecece solid;\n",
       "    background-color: #fafafa;\n",
       "    padding-top: 10px;\n",
       "    padding-bottom: 5px;\n",
       "    padding-right: 15px;\n",
       "    padding-left: 0px;\n",
       "    margin-bottom: 20px;\n",
       "    display: inline-block;\n",
       "    position: relative;\n",
       "}\n",
       "\n",
       ".output .table-of-contents ul {\n",
       "    list-style-type: none;\n",
       "    padding-left: 20px;\n",
       "}\n",
       "\n",
       ".output .table-of-contents .title {\n",
       "    font-weight: bold;\n",
       "    font-height: 11pt;\n",
       "    padding-left: 20px; /* looks better if it's the same to the <ul> */\n",
       "}\n",
       "\n",
       ".output .table-of-contents .btn-update {\n",
       "    position: absolute;\n",
       "    float: right;\n",
       "    right: 11px;\n",
       "    top: 4px;\n",
       "    font-size: 9pt;\n",
       "}\n",
       "\n",
       "</style>\n",
       "<script>\n",
       "    MathJax.Hub.Config({\n",
       "                        TeX: {\n",
       "                           extensions: [\"AMSmath.js\"]\n",
       "                           },\n",
       "                displayAlign: 'center', // Change this to 'center' to center equations.\n",
       "                \"HTML-CSS\": {\n",
       "                    styles: {'.MathJax_Display': {\"margin\": 4}}\n",
       "                }\n",
       "        });\n",
       "</script>\n"
      ],
      "text/plain": [
       "<IPython.core.display.HTML object>"
      ]
     },
     "execution_count": 2,
     "metadata": {},
     "output_type": "execute_result"
    }
   ],
   "source": [
    "import scipy.io\n",
    "import numpy as np\n",
    "import pandas as pd\n",
    "from addutils import css_notebook\n",
    "css_notebook()"
   ]
  },
  {
   "cell_type": "markdown",
   "metadata": {},
   "source": [
    "## Defining the estimator object"
   ]
  },
  {
   "cell_type": "markdown",
   "metadata": {},
   "source": [
    "In scikit-learn, almost all operations are done through an **estimator object**. For example, a linear regression estimator can be instantiated as follows:"
   ]
  },
  {
   "cell_type": "code",
   "execution_count": 3,
   "metadata": {
    "collapsed": false
   },
   "outputs": [
    {
     "name": "stdout",
     "output_type": "stream",
     "text": [
      "LinearRegression(copy_X=True, fit_intercept=True, n_jobs=1, normalize=True)\n"
     ]
    }
   ],
   "source": [
    "from sklearn import linear_model\n",
    "model = linear_model.LinearRegression(fit_intercept=True, normalize=True)\n",
    "print(model)"
   ]
  },
  {
   "cell_type": "markdown",
   "metadata": {},
   "source": [
    "In brackets are displayed the current values for the “hyperparameters” of the estimator. To learn about the specific “hyperparameters” check the documentation:"
   ]
  },
  {
   "cell_type": "code",
   "execution_count": 4,
   "metadata": {
    "collapsed": false
   },
   "outputs": [],
   "source": [
    "# Try: model?"
   ]
  },
  {
   "cell_type": "markdown",
   "metadata": {},
   "source": [
    "Meta parameters can be changed after the model has been created:"
   ]
  },
  {
   "cell_type": "code",
   "execution_count": 5,
   "metadata": {
    "collapsed": false
   },
   "outputs": [
    {
     "name": "stdout",
     "output_type": "stream",
     "text": [
      "LinearRegression(copy_X=True, fit_intercept=False, n_jobs=1, normalize=True)\n"
     ]
    }
   ],
   "source": [
    "model.fit_intercept = False\n",
    "print(model)"
   ]
  },
  {
   "cell_type": "markdown",
   "metadata": {},
   "source": [
    "Given a scikit-learn *estimator* object named `model`, the following methods are available:\n",
    "\n",
    "* *Available in all Estimators*\n",
    "  * `model.fit()` : fit training data.\n",
    "      * For supervised learning, this accepts two arguments: `model.fit(X, y)`.\n",
    "      * For unsupervised learning, this accepts only a single argument `model.fit(X)`.\n",
    "* *Available in supervised estimators*\n",
    "  * `model.predict()` : predict the label of a new set of data. This accepts one argument `model.predict(X_new)`).\n",
    "  * `model.predict_proba()`: Returns the probability of a categorical label. The label itself is returned by `model.predict()`.\n",
    "  * `model.score()`: Scores are between 0 and 1, with a larger score indicating a better fit.\n",
    "* *Available in unsupervised estimators*\n",
    "  * `model.transform()`: Transform new data into the new basis. This accepts one argument `X_new`, and returns the new representation of the data.\n",
    "  * `model.fit_transform()`: some estimators implement this method, which more efficiently performs a fit and a transform on the same input data."
   ]
  },
  {
   "cell_type": "markdown",
   "metadata": {},
   "source": [
    "## 1 Simple estimator example: fit a linear regression model"
   ]
  },
  {
   "cell_type": "code",
   "execution_count": 6,
   "metadata": {
    "collapsed": false
   },
   "outputs": [
    {
     "data": {
      "text/html": [
       "\n",
       "    <div class=\"bk-root\">\n",
       "        <a href=\"http://bokeh.pydata.org\" target=\"_blank\" class=\"bk-logo bk-logo-small bk-logo-notebook\"></a>\n",
       "        <span id=\"9f5d64e4-0895-4e5e-9047-87d90c3c8e85\">Loading BokehJS ...</span>\n",
       "    </div>"
      ]
     },
     "metadata": {},
     "output_type": "display_data"
    },
    {
     "data": {
      "application/javascript": [
       "\n",
       "(function(global) {\n",
       "  function now() {\n",
       "    return new Date();\n",
       "  }\n",
       "\n",
       "  var force = true;\n",
       "\n",
       "  if (typeof (window._bokeh_onload_callbacks) === \"undefined\" || force === true) {\n",
       "    window._bokeh_onload_callbacks = [];\n",
       "    window._bokeh_is_loading = undefined;\n",
       "  }\n",
       "\n",
       "\n",
       "  \n",
       "  if (typeof (window._bokeh_timeout) === \"undefined\" || force === true) {\n",
       "    window._bokeh_timeout = Date.now() + 5000;\n",
       "    window._bokeh_failed_load = false;\n",
       "  }\n",
       "\n",
       "  var NB_LOAD_WARNING = {'data': {'text/html':\n",
       "     \"<div style='background-color: #fdd'>\\n\"+\n",
       "     \"<p>\\n\"+\n",
       "     \"BokehJS does not appear to have successfully loaded. If loading BokehJS from CDN, this \\n\"+\n",
       "     \"may be due to a slow or bad network connection. Possible fixes:\\n\"+\n",
       "     \"</p>\\n\"+\n",
       "     \"<ul>\\n\"+\n",
       "     \"<li>re-rerun `output_notebook()` to attempt to load from CDN again, or</li>\\n\"+\n",
       "     \"<li>use INLINE resources instead, as so:</li>\\n\"+\n",
       "     \"</ul>\\n\"+\n",
       "     \"<code>\\n\"+\n",
       "     \"from bokeh.resources import INLINE\\n\"+\n",
       "     \"output_notebook(resources=INLINE)\\n\"+\n",
       "     \"</code>\\n\"+\n",
       "     \"</div>\"}};\n",
       "\n",
       "  function display_loaded() {\n",
       "    if (window.Bokeh !== undefined) {\n",
       "      document.getElementById(\"9f5d64e4-0895-4e5e-9047-87d90c3c8e85\").textContent = \"BokehJS successfully loaded.\";\n",
       "    } else if (Date.now() < window._bokeh_timeout) {\n",
       "      setTimeout(display_loaded, 100)\n",
       "    }\n",
       "  }\n",
       "\n",
       "  function run_callbacks() {\n",
       "    window._bokeh_onload_callbacks.forEach(function(callback) { callback() });\n",
       "    delete window._bokeh_onload_callbacks\n",
       "    console.info(\"Bokeh: all callbacks have finished\");\n",
       "  }\n",
       "\n",
       "  function load_libs(js_urls, callback) {\n",
       "    window._bokeh_onload_callbacks.push(callback);\n",
       "    if (window._bokeh_is_loading > 0) {\n",
       "      console.log(\"Bokeh: BokehJS is being loaded, scheduling callback at\", now());\n",
       "      return null;\n",
       "    }\n",
       "    if (js_urls == null || js_urls.length === 0) {\n",
       "      run_callbacks();\n",
       "      return null;\n",
       "    }\n",
       "    console.log(\"Bokeh: BokehJS not loaded, scheduling load and callback at\", now());\n",
       "    window._bokeh_is_loading = js_urls.length;\n",
       "    for (var i = 0; i < js_urls.length; i++) {\n",
       "      var url = js_urls[i];\n",
       "      var s = document.createElement('script');\n",
       "      s.src = url;\n",
       "      s.async = false;\n",
       "      s.onreadystatechange = s.onload = function() {\n",
       "        window._bokeh_is_loading--;\n",
       "        if (window._bokeh_is_loading === 0) {\n",
       "          console.log(\"Bokeh: all BokehJS libraries loaded\");\n",
       "          run_callbacks()\n",
       "        }\n",
       "      };\n",
       "      s.onerror = function() {\n",
       "        console.warn(\"failed to load library \" + url);\n",
       "      };\n",
       "      console.log(\"Bokeh: injecting script tag for BokehJS library: \", url);\n",
       "      document.getElementsByTagName(\"head\")[0].appendChild(s);\n",
       "    }\n",
       "  };var element = document.getElementById(\"9f5d64e4-0895-4e5e-9047-87d90c3c8e85\");\n",
       "  if (element == null) {\n",
       "    console.log(\"Bokeh: ERROR: autoload.js configured with elementid '9f5d64e4-0895-4e5e-9047-87d90c3c8e85' but no matching script tag was found. \")\n",
       "    return false;\n",
       "  }\n",
       "\n",
       "  var js_urls = [\"https://cdn.pydata.org/bokeh/release/bokeh-0.12.4.min.js\", \"https://cdn.pydata.org/bokeh/release/bokeh-widgets-0.12.4.min.js\"];\n",
       "\n",
       "  var inline_js = [\n",
       "    function(Bokeh) {\n",
       "      Bokeh.set_log_level(\"info\");\n",
       "    },\n",
       "    \n",
       "    function(Bokeh) {\n",
       "      \n",
       "      document.getElementById(\"9f5d64e4-0895-4e5e-9047-87d90c3c8e85\").textContent = \"BokehJS is loading...\";\n",
       "    },\n",
       "    function(Bokeh) {\n",
       "      console.log(\"Bokeh: injecting CSS: https://cdn.pydata.org/bokeh/release/bokeh-0.12.4.min.css\");\n",
       "      Bokeh.embed.inject_css(\"https://cdn.pydata.org/bokeh/release/bokeh-0.12.4.min.css\");\n",
       "      console.log(\"Bokeh: injecting CSS: https://cdn.pydata.org/bokeh/release/bokeh-widgets-0.12.4.min.css\");\n",
       "      Bokeh.embed.inject_css(\"https://cdn.pydata.org/bokeh/release/bokeh-widgets-0.12.4.min.css\");\n",
       "    }\n",
       "  ];\n",
       "\n",
       "  function run_inline_js() {\n",
       "    \n",
       "    if ((window.Bokeh !== undefined) || (force === true)) {\n",
       "      for (var i = 0; i < inline_js.length; i++) {\n",
       "        inline_js[i](window.Bokeh);\n",
       "      }if (force === true) {\n",
       "        display_loaded();\n",
       "      }} else if (Date.now() < window._bokeh_timeout) {\n",
       "      setTimeout(run_inline_js, 100);\n",
       "    } else if (!window._bokeh_failed_load) {\n",
       "      console.log(\"Bokeh: BokehJS failed to load within specified timeout.\");\n",
       "      window._bokeh_failed_load = true;\n",
       "    } else if (force !== true) {\n",
       "      var cell = $(document.getElementById(\"9f5d64e4-0895-4e5e-9047-87d90c3c8e85\")).parents('.cell').data().cell;\n",
       "      cell.output_area.append_execute_result(NB_LOAD_WARNING)\n",
       "    }\n",
       "\n",
       "  }\n",
       "\n",
       "  if (window._bokeh_is_loading === 0) {\n",
       "    console.log(\"Bokeh: BokehJS loaded, going straight to plotting\");\n",
       "    run_inline_js();\n",
       "  } else {\n",
       "    load_libs(js_urls, function() {\n",
       "      console.log(\"Bokeh: BokehJS plotting callback run at\", now());\n",
       "      run_inline_js();\n",
       "    });\n",
       "  }\n",
       "}(this));"
      ]
     },
     "metadata": {},
     "output_type": "display_data"
    }
   ],
   "source": [
    "import bokeh.plotting as bk\n",
    "bk.output_notebook()"
   ]
  },
  {
   "cell_type": "code",
   "execution_count": 7,
   "metadata": {
    "collapsed": false
   },
   "outputs": [
    {
     "name": "stdout",
     "output_type": "stream",
     "text": [
      "LinearRegression(copy_X=True, fit_intercept=True, n_jobs=1, normalize=False)\n",
      "Model coefficient: 275.99550, and intercept: -145.41186\n",
      "Mean Squared Error: 23.04\n"
     ]
    },
    {
     "data": {
      "text/html": [
       "\n",
       "\n",
       "    <div class=\"bk-root\">\n",
       "        <div class=\"bk-plotdiv\" id=\"d87322ac-7e68-49ce-9fc6-880b4d26cbe0\"></div>\n",
       "    </div>\n",
       "<script type=\"text/javascript\">\n",
       "  \n",
       "  (function(global) {\n",
       "    function now() {\n",
       "      return new Date();\n",
       "    }\n",
       "  \n",
       "    var force = false;\n",
       "  \n",
       "    if (typeof (window._bokeh_onload_callbacks) === \"undefined\" || force === true) {\n",
       "      window._bokeh_onload_callbacks = [];\n",
       "      window._bokeh_is_loading = undefined;\n",
       "    }\n",
       "  \n",
       "  \n",
       "    \n",
       "    if (typeof (window._bokeh_timeout) === \"undefined\" || force === true) {\n",
       "      window._bokeh_timeout = Date.now() + 0;\n",
       "      window._bokeh_failed_load = false;\n",
       "    }\n",
       "  \n",
       "    var NB_LOAD_WARNING = {'data': {'text/html':\n",
       "       \"<div style='background-color: #fdd'>\\n\"+\n",
       "       \"<p>\\n\"+\n",
       "       \"BokehJS does not appear to have successfully loaded. If loading BokehJS from CDN, this \\n\"+\n",
       "       \"may be due to a slow or bad network connection. Possible fixes:\\n\"+\n",
       "       \"</p>\\n\"+\n",
       "       \"<ul>\\n\"+\n",
       "       \"<li>re-rerun `output_notebook()` to attempt to load from CDN again, or</li>\\n\"+\n",
       "       \"<li>use INLINE resources instead, as so:</li>\\n\"+\n",
       "       \"</ul>\\n\"+\n",
       "       \"<code>\\n\"+\n",
       "       \"from bokeh.resources import INLINE\\n\"+\n",
       "       \"output_notebook(resources=INLINE)\\n\"+\n",
       "       \"</code>\\n\"+\n",
       "       \"</div>\"}};\n",
       "  \n",
       "    function display_loaded() {\n",
       "      if (window.Bokeh !== undefined) {\n",
       "        document.getElementById(\"d87322ac-7e68-49ce-9fc6-880b4d26cbe0\").textContent = \"BokehJS successfully loaded.\";\n",
       "      } else if (Date.now() < window._bokeh_timeout) {\n",
       "        setTimeout(display_loaded, 100)\n",
       "      }\n",
       "    }\n",
       "  \n",
       "    function run_callbacks() {\n",
       "      window._bokeh_onload_callbacks.forEach(function(callback) { callback() });\n",
       "      delete window._bokeh_onload_callbacks\n",
       "      console.info(\"Bokeh: all callbacks have finished\");\n",
       "    }\n",
       "  \n",
       "    function load_libs(js_urls, callback) {\n",
       "      window._bokeh_onload_callbacks.push(callback);\n",
       "      if (window._bokeh_is_loading > 0) {\n",
       "        console.log(\"Bokeh: BokehJS is being loaded, scheduling callback at\", now());\n",
       "        return null;\n",
       "      }\n",
       "      if (js_urls == null || js_urls.length === 0) {\n",
       "        run_callbacks();\n",
       "        return null;\n",
       "      }\n",
       "      console.log(\"Bokeh: BokehJS not loaded, scheduling load and callback at\", now());\n",
       "      window._bokeh_is_loading = js_urls.length;\n",
       "      for (var i = 0; i < js_urls.length; i++) {\n",
       "        var url = js_urls[i];\n",
       "        var s = document.createElement('script');\n",
       "        s.src = url;\n",
       "        s.async = false;\n",
       "        s.onreadystatechange = s.onload = function() {\n",
       "          window._bokeh_is_loading--;\n",
       "          if (window._bokeh_is_loading === 0) {\n",
       "            console.log(\"Bokeh: all BokehJS libraries loaded\");\n",
       "            run_callbacks()\n",
       "          }\n",
       "        };\n",
       "        s.onerror = function() {\n",
       "          console.warn(\"failed to load library \" + url);\n",
       "        };\n",
       "        console.log(\"Bokeh: injecting script tag for BokehJS library: \", url);\n",
       "        document.getElementsByTagName(\"head\")[0].appendChild(s);\n",
       "      }\n",
       "    };var element = document.getElementById(\"d87322ac-7e68-49ce-9fc6-880b4d26cbe0\");\n",
       "    if (element == null) {\n",
       "      console.log(\"Bokeh: ERROR: autoload.js configured with elementid 'd87322ac-7e68-49ce-9fc6-880b4d26cbe0' but no matching script tag was found. \")\n",
       "      return false;\n",
       "    }\n",
       "  \n",
       "    var js_urls = [];\n",
       "  \n",
       "    var inline_js = [\n",
       "      function(Bokeh) {\n",
       "        (function() {\n",
       "          var fn = function() {\n",
       "            var docs_json = {\"e7c19858-87d8-4e4a-a813-fa24f54eeec3\":{\"roots\":{\"references\":[{\"attributes\":{\"callback\":null},\"id\":\"22982fff-30eb-4b7a-b5b3-d4b74ae06475\",\"type\":\"DataRange1d\"},{\"attributes\":{\"plot\":{\"id\":\"fbd4cd01-1b98-4b47-b0f2-70f29d46213b\",\"subtype\":\"Figure\",\"type\":\"Plot\"},\"ticker\":{\"id\":\"1c8d75d6-013f-4307-8fd3-80c2125ff658\",\"type\":\"BasicTicker\"}},\"id\":\"95975d29-a461-457f-b287-7bf68eff2a6f\",\"type\":\"Grid\"},{\"attributes\":{},\"id\":\"82a0674c-0a01-4bbe-be1a-9922fbb8c083\",\"type\":\"BasicTicker\"},{\"attributes\":{\"plot\":null,\"text\":\"Simple Regression\"},\"id\":\"5447246b-c6af-43cb-94b2-023b5c3484f5\",\"type\":\"Title\"},{\"attributes\":{\"line_color\":{\"value\":\"blue\"},\"x\":{\"field\":\"x\"},\"y\":{\"field\":\"y\"}},\"id\":\"80bc1f06-b04a-49a2-98d6-2e4a1e990b3d\",\"type\":\"Line\"},{\"attributes\":{\"callback\":null,\"column_names\":[\"y\",\"x\"],\"data\":{\"x\":{\"__ndarray__\":\"AAAAAAAAAAAAAAAAAADwPw==\",\"dtype\":\"float64\",\"shape\":[2]},\"y\":{\"__ndarray__\":\"796e/C0tYsBdvJQprVJgQA==\",\"dtype\":\"float64\",\"shape\":[2]}}},\"id\":\"b5b18103-6611-49ba-b263-11d0f6480696\",\"type\":\"ColumnDataSource\"},{\"attributes\":{\"plot\":{\"id\":\"fbd4cd01-1b98-4b47-b0f2-70f29d46213b\",\"subtype\":\"Figure\",\"type\":\"Plot\"}},\"id\":\"ae7cff0c-98db-4cbb-9853-993cce9852f2\",\"type\":\"HelpTool\"},{\"attributes\":{\"label\":{\"value\":\"Measured Data\"},\"renderers\":[{\"id\":\"544a60ed-27fa-4ce2-8d8c-3bedaf608382\",\"type\":\"GlyphRenderer\"}]},\"id\":\"c7728ab0-8b76-4fde-98ab-5cf3e894272d\",\"type\":\"LegendItem\"},{\"attributes\":{\"overlay\":{\"id\":\"1840b7a1-71ca-485d-81c3-f9f974a61d3f\",\"type\":\"BoxAnnotation\"},\"plot\":{\"id\":\"fbd4cd01-1b98-4b47-b0f2-70f29d46213b\",\"subtype\":\"Figure\",\"type\":\"Plot\"}},\"id\":\"1e854ed7-8e37-4ab7-a017-a46da101db53\",\"type\":\"BoxZoomTool\"},{\"attributes\":{\"bottom_units\":\"screen\",\"fill_alpha\":{\"value\":0.5},\"fill_color\":{\"value\":\"lightgrey\"},\"left_units\":\"screen\",\"level\":\"overlay\",\"line_alpha\":{\"value\":1.0},\"line_color\":{\"value\":\"black\"},\"line_dash\":[4,4],\"line_width\":{\"value\":2},\"plot\":null,\"render_mode\":\"css\",\"right_units\":\"screen\",\"top_units\":\"screen\"},\"id\":\"1840b7a1-71ca-485d-81c3-f9f974a61d3f\",\"type\":\"BoxAnnotation\"},{\"attributes\":{\"plot\":{\"id\":\"fbd4cd01-1b98-4b47-b0f2-70f29d46213b\",\"subtype\":\"Figure\",\"type\":\"Plot\"}},\"id\":\"05f91859-2cfc-4e02-85ad-117eda7243eb\",\"type\":\"ResetTool\"},{\"attributes\":{\"active_drag\":\"auto\",\"active_scroll\":\"auto\",\"active_tap\":\"auto\",\"tools\":[{\"id\":\"ebcecb55-2541-442f-9be8-0e5c33e4f7f4\",\"type\":\"PanTool\"},{\"id\":\"0140f2a5-5f07-4d9e-8177-7c554dafbf99\",\"type\":\"WheelZoomTool\"},{\"id\":\"1e854ed7-8e37-4ab7-a017-a46da101db53\",\"type\":\"BoxZoomTool\"},{\"id\":\"b6a99e6f-bcb9-4e3a-bb16-9309cbdeac2e\",\"type\":\"SaveTool\"},{\"id\":\"05f91859-2cfc-4e02-85ad-117eda7243eb\",\"type\":\"ResetTool\"},{\"id\":\"ae7cff0c-98db-4cbb-9853-993cce9852f2\",\"type\":\"HelpTool\"}]},\"id\":\"e9dea62b-8bbd-43b3-b810-cfa3b689ac06\",\"type\":\"Toolbar\"},{\"attributes\":{},\"id\":\"1c8d75d6-013f-4307-8fd3-80c2125ff658\",\"type\":\"BasicTicker\"},{\"attributes\":{\"plot\":{\"id\":\"fbd4cd01-1b98-4b47-b0f2-70f29d46213b\",\"subtype\":\"Figure\",\"type\":\"Plot\"}},\"id\":\"ebcecb55-2541-442f-9be8-0e5c33e4f7f4\",\"type\":\"PanTool\"},{\"attributes\":{\"line_alpha\":{\"value\":0.1},\"line_color\":{\"value\":\"#1f77b4\"},\"x\":{\"field\":\"x\"},\"y\":{\"field\":\"y\"}},\"id\":\"c1d06d56-3671-498e-af3f-24b4c9b9af39\",\"type\":\"Line\"},{\"attributes\":{\"callback\":null},\"id\":\"90cd2286-e65b-427e-8730-0f35ba09d93d\",\"type\":\"DataRange1d\"},{\"attributes\":{},\"id\":\"85be451b-feac-48ac-998a-b07be79a5824\",\"type\":\"BasicTickFormatter\"},{\"attributes\":{\"data_source\":{\"id\":\"a1034647-a69a-4b50-bd7b-7bb4bb1a4e63\",\"type\":\"ColumnDataSource\"},\"glyph\":{\"id\":\"60cdb233-e5ad-4211-b844-9fb1280879dc\",\"type\":\"Circle\"},\"hover_glyph\":null,\"nonselection_glyph\":{\"id\":\"cee707a9-b556-4347-9975-510c127d81a9\",\"type\":\"Circle\"},\"selection_glyph\":null},\"id\":\"544a60ed-27fa-4ce2-8d8c-3bedaf608382\",\"type\":\"GlyphRenderer\"},{\"attributes\":{\"fill_alpha\":{\"value\":0.5},\"fill_color\":{\"value\":\"green\"},\"line_color\":{\"value\":\"darkgreen\"},\"size\":{\"units\":\"screen\",\"value\":10},\"x\":{\"field\":\"x\"},\"y\":{\"field\":\"y\"}},\"id\":\"60cdb233-e5ad-4211-b844-9fb1280879dc\",\"type\":\"Circle\"},{\"attributes\":{},\"id\":\"73a4d5a2-e585-427b-b179-d17c2ac5b021\",\"type\":\"BasicTickFormatter\"},{\"attributes\":{\"axis_label\":\"X scaled\",\"formatter\":{\"id\":\"85be451b-feac-48ac-998a-b07be79a5824\",\"type\":\"BasicTickFormatter\"},\"plot\":{\"id\":\"fbd4cd01-1b98-4b47-b0f2-70f29d46213b\",\"subtype\":\"Figure\",\"type\":\"Plot\"},\"ticker\":{\"id\":\"1c8d75d6-013f-4307-8fd3-80c2125ff658\",\"type\":\"BasicTicker\"}},\"id\":\"fc174eac-42db-47f7-b6b0-95a9b13f0eb0\",\"type\":\"LinearAxis\"},{\"attributes\":{\"below\":[{\"id\":\"fc174eac-42db-47f7-b6b0-95a9b13f0eb0\",\"type\":\"LinearAxis\"}],\"left\":[{\"id\":\"3a81a7d5-907e-4497-bbbc-16dc9372bf5e\",\"type\":\"LinearAxis\"}],\"plot_height\":300,\"renderers\":[{\"id\":\"fc174eac-42db-47f7-b6b0-95a9b13f0eb0\",\"type\":\"LinearAxis\"},{\"id\":\"95975d29-a461-457f-b287-7bf68eff2a6f\",\"type\":\"Grid\"},{\"id\":\"3a81a7d5-907e-4497-bbbc-16dc9372bf5e\",\"type\":\"LinearAxis\"},{\"id\":\"dd3a371a-a39f-41d6-937d-990bc62f4ca1\",\"type\":\"Grid\"},{\"id\":\"1840b7a1-71ca-485d-81c3-f9f974a61d3f\",\"type\":\"BoxAnnotation\"},{\"id\":\"d618ab76-05ae-4d8c-8919-d4fa8ebb4121\",\"type\":\"Legend\"},{\"id\":\"544a60ed-27fa-4ce2-8d8c-3bedaf608382\",\"type\":\"GlyphRenderer\"},{\"id\":\"762199f5-474f-4945-8f6d-13daa77ca350\",\"type\":\"GlyphRenderer\"}],\"title\":{\"id\":\"5447246b-c6af-43cb-94b2-023b5c3484f5\",\"type\":\"Title\"},\"tool_events\":{\"id\":\"97049186-9c71-4f0e-b7c5-780e5cf49873\",\"type\":\"ToolEvents\"},\"toolbar\":{\"id\":\"e9dea62b-8bbd-43b3-b810-cfa3b689ac06\",\"type\":\"Toolbar\"},\"x_range\":{\"id\":\"90cd2286-e65b-427e-8730-0f35ba09d93d\",\"type\":\"DataRange1d\"},\"y_range\":{\"id\":\"22982fff-30eb-4b7a-b5b3-d4b74ae06475\",\"type\":\"DataRange1d\"}},\"id\":\"fbd4cd01-1b98-4b47-b0f2-70f29d46213b\",\"subtype\":\"Figure\",\"type\":\"Plot\"},{\"attributes\":{\"callback\":null,\"column_names\":[\"y\",\"x\"],\"data\":{\"x\":{\"__ndarray__\":\"R5MkkUS93D++AhuVNhnmP0IKp+BWJ+M/lB0l7imM3D+4xXLJO7/hP/L5tOUJ8cU//qAOJWEO3z8Ricohsx3bP7AXcxqfG90/+Cx0VNJU7T8wkXXz7h3iP2bw0A4pHOs/////////7z9jct+qOuXhPyS8B37MB9g/SgTUBpr02D9ghjRQ//7VPzFvtO+uwOA/CCIXYuF9yD+H6oTJRz7hP87m5GXocuM/P+IpGoLi4z+3kqEPAarjP8y5GfrxEc4/DTB6M4uL1j+1gxhCFxnWP2AIxRkt4u0/V3mUiOne3z8PjbswZD7nP9biMy4DecY/cy+7LxFB0T8PGXSm5qzmPyBenibPluo/sMuoa81G5T9+5kFZIMjjPwFStvHAgeM/Xx4FOET95T/WWdkn8OroP79+0UjN1tU//cFPWA5v5z8AAAAAAAAAAKq/Gt7dENw/Zg8shcoQ3T9MJUEqVgTjP8zariDKSOE/38J5626w6j+Lpr4qwPfhPwMUxZ5W8uI/BPYxWR3e3T/M1ju4+c7vP5YrFwySKM0/ZnpyqSp22T+OSY33pALkP0XtRWrIGds/U/m6PO320z/BsXpgM2XfP51sfKGKYeE/Zc1tnyH64T+U8Ak5ouzIP5aPoiojKN8/Gm1VtESY4z9WFheMOUHgP8I3BHNs2uo/kk6aoagW1z+a5gbzODbSP2xx5TMrQ90/bKa8SwGl7D9NTAcTWRrpP0o1ZqIQ6dQ/ED0IvIBfvj8=\",\"dtype\":\"float64\",\"shape\":[70]},\"y\":{\"__ndarray__\":\"OPITuPtIM8A4mChlpmlBQPAr3nUYPTZAIogSUvv1OMCrYWZDiskhQH/SmpLaYVnAKUXFgFtbJ8BYfvMnIcM4wOgamcrj9yrAg4sGVNamWUCEbO9MiesyQK2asKkP1VRAbvt1cyoHYUD0fy6bvIMxQJzGLT6q2kTAX5nTjYM3SMB3LwmBZ0BLwCSWEkdTof2/R1URhvDKVcCZV4t8aKsWQEZjYCv/CzZAd8lqxBs2OUCrjE8k1R8zQDsmBXzsHVLAE8q3NGsPSsBr6MX0Iv1GwKpPQarktl1AEHXlTY/xLcBiJeHyxjZMQFZEDFIr9FbAKJTqR2A+U8An8dWM01NLQB4OcLyy2FZAolixNJovQkBA6nYwS+s4QPk1+voBxzdAXFyZoVBNQkBAIKPEHg1RQMveFg7G60nAMQQFWdYWSkD68xdsOcthwIdIxT5VBjrA5n+i4ejZMsDQggJBkZE2QGs9M5FHtQvALv6xn05/V0B1n557BuAeQGAMd06S2zJAKFXz/VUgOsDkBapRBF9gQMaUbcsbxFPAx/BrP59dQcAHEuuZC5A2QMNzgJfvTjzANaDSS4xiSsAycQN+QYslwGTbf8h6F+u/dNo9CnHe+D9JMVbgNCBXwKWC5k6g3R7ArAcbJzJ9OUDM9b8k/Bj1v7lwgWJZGlZAl+pCVC3vRsCZoYGhnnRQwMLJ7MLUsi/AELKZA1gkWUAouyAXdGBQQPKUZG0pmUnA6logX/cdXsA=\",\"dtype\":\"float64\",\"shape\":[70]}}},\"id\":\"a1034647-a69a-4b50-bd7b-7bb4bb1a4e63\",\"type\":\"ColumnDataSource\"},{\"attributes\":{},\"id\":\"97049186-9c71-4f0e-b7c5-780e5cf49873\",\"type\":\"ToolEvents\"},{\"attributes\":{\"items\":[{\"id\":\"c7728ab0-8b76-4fde-98ab-5cf3e894272d\",\"type\":\"LegendItem\"},{\"id\":\"846b6fe6-222e-466d-ae03-965794fff117\",\"type\":\"LegendItem\"}],\"location\":\"bottom_right\",\"plot\":{\"id\":\"fbd4cd01-1b98-4b47-b0f2-70f29d46213b\",\"subtype\":\"Figure\",\"type\":\"Plot\"}},\"id\":\"d618ab76-05ae-4d8c-8919-d4fa8ebb4121\",\"type\":\"Legend\"},{\"attributes\":{\"fill_alpha\":{\"value\":0.1},\"fill_color\":{\"value\":\"#1f77b4\"},\"line_alpha\":{\"value\":0.1},\"line_color\":{\"value\":\"#1f77b4\"},\"size\":{\"units\":\"screen\",\"value\":10},\"x\":{\"field\":\"x\"},\"y\":{\"field\":\"y\"}},\"id\":\"cee707a9-b556-4347-9975-510c127d81a9\",\"type\":\"Circle\"},{\"attributes\":{\"plot\":{\"id\":\"fbd4cd01-1b98-4b47-b0f2-70f29d46213b\",\"subtype\":\"Figure\",\"type\":\"Plot\"}},\"id\":\"0140f2a5-5f07-4d9e-8177-7c554dafbf99\",\"type\":\"WheelZoomTool\"},{\"attributes\":{\"plot\":{\"id\":\"fbd4cd01-1b98-4b47-b0f2-70f29d46213b\",\"subtype\":\"Figure\",\"type\":\"Plot\"}},\"id\":\"b6a99e6f-bcb9-4e3a-bb16-9309cbdeac2e\",\"type\":\"SaveTool\"},{\"attributes\":{\"data_source\":{\"id\":\"b5b18103-6611-49ba-b263-11d0f6480696\",\"type\":\"ColumnDataSource\"},\"glyph\":{\"id\":\"80bc1f06-b04a-49a2-98d6-2e4a1e990b3d\",\"type\":\"Line\"},\"hover_glyph\":null,\"nonselection_glyph\":{\"id\":\"c1d06d56-3671-498e-af3f-24b4c9b9af39\",\"type\":\"Line\"},\"selection_glyph\":null},\"id\":\"762199f5-474f-4945-8f6d-13daa77ca350\",\"type\":\"GlyphRenderer\"},{\"attributes\":{\"label\":{\"value\":\"Predicted Values\"},\"renderers\":[{\"id\":\"762199f5-474f-4945-8f6d-13daa77ca350\",\"type\":\"GlyphRenderer\"}]},\"id\":\"846b6fe6-222e-466d-ae03-965794fff117\",\"type\":\"LegendItem\"},{\"attributes\":{\"dimension\":1,\"plot\":{\"id\":\"fbd4cd01-1b98-4b47-b0f2-70f29d46213b\",\"subtype\":\"Figure\",\"type\":\"Plot\"},\"ticker\":{\"id\":\"82a0674c-0a01-4bbe-be1a-9922fbb8c083\",\"type\":\"BasicTicker\"}},\"id\":\"dd3a371a-a39f-41d6-937d-990bc62f4ca1\",\"type\":\"Grid\"},{\"attributes\":{\"axis_label\":\"y\",\"formatter\":{\"id\":\"73a4d5a2-e585-427b-b179-d17c2ac5b021\",\"type\":\"BasicTickFormatter\"},\"plot\":{\"id\":\"fbd4cd01-1b98-4b47-b0f2-70f29d46213b\",\"subtype\":\"Figure\",\"type\":\"Plot\"},\"ticker\":{\"id\":\"82a0674c-0a01-4bbe-be1a-9922fbb8c083\",\"type\":\"BasicTicker\"}},\"id\":\"3a81a7d5-907e-4497-bbbc-16dc9372bf5e\",\"type\":\"LinearAxis\"}],\"root_ids\":[\"fbd4cd01-1b98-4b47-b0f2-70f29d46213b\"]},\"title\":\"Bokeh Application\",\"version\":\"0.12.4\"}};\n",
       "            var render_items = [{\"docid\":\"e7c19858-87d8-4e4a-a813-fa24f54eeec3\",\"elementid\":\"d87322ac-7e68-49ce-9fc6-880b4d26cbe0\",\"modelid\":\"fbd4cd01-1b98-4b47-b0f2-70f29d46213b\"}];\n",
       "            \n",
       "            Bokeh.embed.embed_items(docs_json, render_items);\n",
       "          };\n",
       "          if (document.readyState != \"loading\") fn();\n",
       "          else document.addEventListener(\"DOMContentLoaded\", fn);\n",
       "        })();\n",
       "      },\n",
       "      function(Bokeh) {\n",
       "      }\n",
       "    ];\n",
       "  \n",
       "    function run_inline_js() {\n",
       "      \n",
       "      if ((window.Bokeh !== undefined) || (force === true)) {\n",
       "        for (var i = 0; i < inline_js.length; i++) {\n",
       "          inline_js[i](window.Bokeh);\n",
       "        }if (force === true) {\n",
       "          display_loaded();\n",
       "        }} else if (Date.now() < window._bokeh_timeout) {\n",
       "        setTimeout(run_inline_js, 100);\n",
       "      } else if (!window._bokeh_failed_load) {\n",
       "        console.log(\"Bokeh: BokehJS failed to load within specified timeout.\");\n",
       "        window._bokeh_failed_load = true;\n",
       "      } else if (force !== true) {\n",
       "        var cell = $(document.getElementById(\"d87322ac-7e68-49ce-9fc6-880b4d26cbe0\")).parents('.cell').data().cell;\n",
       "        cell.output_area.append_execute_result(NB_LOAD_WARNING)\n",
       "      }\n",
       "  \n",
       "    }\n",
       "  \n",
       "    if (window._bokeh_is_loading === 0) {\n",
       "      console.log(\"Bokeh: BokehJS loaded, going straight to plotting\");\n",
       "      run_inline_js();\n",
       "    } else {\n",
       "      load_libs(js_urls, function() {\n",
       "        console.log(\"Bokeh: BokehJS plotting callback run at\", now());\n",
       "        run_inline_js();\n",
       "      });\n",
       "    }\n",
       "  }(this));\n",
       "</script>"
      ]
     },
     "metadata": {},
     "output_type": "display_data"
    }
   ],
   "source": [
    "from sklearn import datasets, preprocessing, metrics\n",
    "X, y = datasets.samples_generator.make_regression(n_samples=70,\n",
    "                                                  n_features=1, n_informative=1,\n",
    "                                                  random_state=0, noise=5)\n",
    "scaler = preprocessing.MinMaxScaler()\n",
    "X_sc = scaler.fit_transform(X)\n",
    "\n",
    "lin = linear_model.LinearRegression(fit_intercept=True)\n",
    "lin.fit(X_sc, y)\n",
    "\n",
    "print(lin)\n",
    "print(\"Model coefficient: %.5f, and intercept: %.5f\" % (lin.coef_, lin.intercept_))\n",
    "err = metrics.mean_squared_error(lin.predict(X_sc), y)\n",
    "print(\"Mean Squared Error: %.2f\" % err)\n",
    "\n",
    "# Plot the data and the model prediction\n",
    "X_p = np.linspace(0, 1, 2)[:, np.newaxis]\n",
    "y_p = lin.predict(X_p)\n",
    "\n",
    "fig = bk.figure(title='Simple Regression', \n",
    "                x_axis_label='X scaled',\n",
    "                y_axis_label='y',\n",
    "                plot_width=600, plot_height=300)\n",
    "fig.circle(X_sc.squeeze(), y, line_color='darkgreen', size=10,\n",
    "           fill_color='green', fill_alpha=0.5, legend='Measured Data')\n",
    "fig.line(X_p.ravel(), y_p, line_color='blue', legend='Predicted Values')\n",
    "fig.legend.location = 'bottom_right'\n",
    "bk.show(fig)"
   ]
  },
  {
   "cell_type": "markdown",
   "metadata": {},
   "source": [
    "## 2 Separate Training and Validation Sets"
   ]
  },
  {
   "cell_type": "markdown",
   "metadata": {},
   "source": [
    "**Fitting a model and testing it on the same data is a methodological mistake:** a model could have a perfect score but would fail to predict anything useful on yet-unseen data. This situation is called <font color=\"Red\">overfitting</font>. To avoid it, it is common practice to hold out part of the available data as a **Validation  Set** `X_valid, y_valid`.\n",
    "\n",
    "In scikit-learn a random split into **Training** and **Validation** sets can be quickly computed with the `train_test_split` helper function:"
   ]
  },
  {
   "cell_type": "code",
   "execution_count": 8,
   "metadata": {
    "collapsed": false
   },
   "outputs": [
    {
     "name": "stdout",
     "output_type": "stream",
     "text": [
      "Mean Squared Error: 23.34\n",
      "Model coefficient: 273.00288, and intercept: -143.70277\n"
     ]
    },
    {
     "data": {
      "text/html": [
       "\n",
       "\n",
       "    <div class=\"bk-root\">\n",
       "        <div class=\"bk-plotdiv\" id=\"51ac8cdb-abd3-490c-9de2-5a5fafe46b43\"></div>\n",
       "    </div>\n",
       "<script type=\"text/javascript\">\n",
       "  \n",
       "  (function(global) {\n",
       "    function now() {\n",
       "      return new Date();\n",
       "    }\n",
       "  \n",
       "    var force = false;\n",
       "  \n",
       "    if (typeof (window._bokeh_onload_callbacks) === \"undefined\" || force === true) {\n",
       "      window._bokeh_onload_callbacks = [];\n",
       "      window._bokeh_is_loading = undefined;\n",
       "    }\n",
       "  \n",
       "  \n",
       "    \n",
       "    if (typeof (window._bokeh_timeout) === \"undefined\" || force === true) {\n",
       "      window._bokeh_timeout = Date.now() + 0;\n",
       "      window._bokeh_failed_load = false;\n",
       "    }\n",
       "  \n",
       "    var NB_LOAD_WARNING = {'data': {'text/html':\n",
       "       \"<div style='background-color: #fdd'>\\n\"+\n",
       "       \"<p>\\n\"+\n",
       "       \"BokehJS does not appear to have successfully loaded. If loading BokehJS from CDN, this \\n\"+\n",
       "       \"may be due to a slow or bad network connection. Possible fixes:\\n\"+\n",
       "       \"</p>\\n\"+\n",
       "       \"<ul>\\n\"+\n",
       "       \"<li>re-rerun `output_notebook()` to attempt to load from CDN again, or</li>\\n\"+\n",
       "       \"<li>use INLINE resources instead, as so:</li>\\n\"+\n",
       "       \"</ul>\\n\"+\n",
       "       \"<code>\\n\"+\n",
       "       \"from bokeh.resources import INLINE\\n\"+\n",
       "       \"output_notebook(resources=INLINE)\\n\"+\n",
       "       \"</code>\\n\"+\n",
       "       \"</div>\"}};\n",
       "  \n",
       "    function display_loaded() {\n",
       "      if (window.Bokeh !== undefined) {\n",
       "        document.getElementById(\"51ac8cdb-abd3-490c-9de2-5a5fafe46b43\").textContent = \"BokehJS successfully loaded.\";\n",
       "      } else if (Date.now() < window._bokeh_timeout) {\n",
       "        setTimeout(display_loaded, 100)\n",
       "      }\n",
       "    }\n",
       "  \n",
       "    function run_callbacks() {\n",
       "      window._bokeh_onload_callbacks.forEach(function(callback) { callback() });\n",
       "      delete window._bokeh_onload_callbacks\n",
       "      console.info(\"Bokeh: all callbacks have finished\");\n",
       "    }\n",
       "  \n",
       "    function load_libs(js_urls, callback) {\n",
       "      window._bokeh_onload_callbacks.push(callback);\n",
       "      if (window._bokeh_is_loading > 0) {\n",
       "        console.log(\"Bokeh: BokehJS is being loaded, scheduling callback at\", now());\n",
       "        return null;\n",
       "      }\n",
       "      if (js_urls == null || js_urls.length === 0) {\n",
       "        run_callbacks();\n",
       "        return null;\n",
       "      }\n",
       "      console.log(\"Bokeh: BokehJS not loaded, scheduling load and callback at\", now());\n",
       "      window._bokeh_is_loading = js_urls.length;\n",
       "      for (var i = 0; i < js_urls.length; i++) {\n",
       "        var url = js_urls[i];\n",
       "        var s = document.createElement('script');\n",
       "        s.src = url;\n",
       "        s.async = false;\n",
       "        s.onreadystatechange = s.onload = function() {\n",
       "          window._bokeh_is_loading--;\n",
       "          if (window._bokeh_is_loading === 0) {\n",
       "            console.log(\"Bokeh: all BokehJS libraries loaded\");\n",
       "            run_callbacks()\n",
       "          }\n",
       "        };\n",
       "        s.onerror = function() {\n",
       "          console.warn(\"failed to load library \" + url);\n",
       "        };\n",
       "        console.log(\"Bokeh: injecting script tag for BokehJS library: \", url);\n",
       "        document.getElementsByTagName(\"head\")[0].appendChild(s);\n",
       "      }\n",
       "    };var element = document.getElementById(\"51ac8cdb-abd3-490c-9de2-5a5fafe46b43\");\n",
       "    if (element == null) {\n",
       "      console.log(\"Bokeh: ERROR: autoload.js configured with elementid '51ac8cdb-abd3-490c-9de2-5a5fafe46b43' but no matching script tag was found. \")\n",
       "      return false;\n",
       "    }\n",
       "  \n",
       "    var js_urls = [];\n",
       "  \n",
       "    var inline_js = [\n",
       "      function(Bokeh) {\n",
       "        (function() {\n",
       "          var fn = function() {\n",
       "            var docs_json = {\"9accabdd-e50b-4f82-a0cb-09b9754310f4\":{\"roots\":{\"references\":[{\"attributes\":{\"overlay\":{\"id\":\"78a350b8-d73d-44be-9a96-1a9bb0a8e1b4\",\"type\":\"BoxAnnotation\"},\"plot\":{\"id\":\"8557be9f-d39f-4b47-a308-0d85d68b1c06\",\"subtype\":\"Figure\",\"type\":\"Plot\"}},\"id\":\"808e4cd6-c132-4ce8-9d7d-37d52599d6b5\",\"type\":\"BoxZoomTool\"},{\"attributes\":{\"formatter\":{\"id\":\"e9e6d582-5940-43f8-81d8-44bc91b7d0c2\",\"type\":\"BasicTickFormatter\"},\"plot\":{\"id\":\"8557be9f-d39f-4b47-a308-0d85d68b1c06\",\"subtype\":\"Figure\",\"type\":\"Plot\"},\"ticker\":{\"id\":\"4989b2d8-bcec-4757-a425-4ea6fa8c5aeb\",\"type\":\"BasicTicker\"}},\"id\":\"199ebbb1-094e-4af8-969d-c6af39c8e244\",\"type\":\"LinearAxis\"},{\"attributes\":{\"fill_alpha\":{\"value\":0.1},\"fill_color\":{\"value\":\"#1f77b4\"},\"line_alpha\":{\"value\":0.1},\"line_color\":{\"value\":\"#1f77b4\"},\"size\":{\"units\":\"screen\",\"value\":5},\"x\":{\"field\":\"x\"},\"y\":{\"field\":\"y\"}},\"id\":\"6d79e0ee-1e49-4de2-bf56-488177a38a60\",\"type\":\"Circle\"},{\"attributes\":{\"below\":[{\"id\":\"6dfa194b-3798-4018-a2b4-fb6b6d087a72\",\"type\":\"LinearAxis\"}],\"left\":[{\"id\":\"199ebbb1-094e-4af8-969d-c6af39c8e244\",\"type\":\"LinearAxis\"}],\"plot_height\":400,\"plot_width\":700,\"renderers\":[{\"id\":\"6dfa194b-3798-4018-a2b4-fb6b6d087a72\",\"type\":\"LinearAxis\"},{\"id\":\"99a730f4-69a1-449b-9294-ceac24381acc\",\"type\":\"Grid\"},{\"id\":\"199ebbb1-094e-4af8-969d-c6af39c8e244\",\"type\":\"LinearAxis\"},{\"id\":\"a89854ce-9b6d-43c8-937b-3d2db2d2f065\",\"type\":\"Grid\"},{\"id\":\"78a350b8-d73d-44be-9a96-1a9bb0a8e1b4\",\"type\":\"BoxAnnotation\"},{\"id\":\"5f95367e-fcf8-4dc3-a8ad-385fe2ff209d\",\"type\":\"Legend\"},{\"id\":\"428876ad-19d3-4977-911b-91bed2f898e8\",\"type\":\"GlyphRenderer\"},{\"id\":\"2612637d-8016-4e40-8aba-876f0c0bbc28\",\"type\":\"GlyphRenderer\"},{\"id\":\"2177c6ef-ddc4-4702-af5f-2898dc408264\",\"type\":\"GlyphRenderer\"}],\"title\":{\"id\":\"112af7a2-4fa4-41d2-bb09-ffe8b8ecbe2c\",\"type\":\"Title\"},\"tool_events\":{\"id\":\"17fa5f65-f9d7-4cac-9d34-048fd24730bd\",\"type\":\"ToolEvents\"},\"toolbar\":{\"id\":\"3c7bd0fc-c658-44f2-9396-5d4bb6634e71\",\"type\":\"Toolbar\"},\"x_range\":{\"id\":\"53c6cbf7-a485-44be-92da-c8883c884527\",\"type\":\"DataRange1d\"},\"y_range\":{\"id\":\"574d74d1-8975-455f-96a0-bf526aa34b0d\",\"type\":\"DataRange1d\"}},\"id\":\"8557be9f-d39f-4b47-a308-0d85d68b1c06\",\"subtype\":\"Figure\",\"type\":\"Plot\"},{\"attributes\":{\"fill_alpha\":{\"value\":0.1},\"fill_color\":{\"value\":\"#1f77b4\"},\"line_alpha\":{\"value\":0.1},\"line_color\":{\"value\":\"#1f77b4\"},\"size\":{\"units\":\"screen\",\"value\":5},\"x\":{\"field\":\"x\"},\"y\":{\"field\":\"y\"}},\"id\":\"838c04d8-f574-4d3c-8344-ef93c3d8ef85\",\"type\":\"Circle\"},{\"attributes\":{},\"id\":\"36740ba6-099b-4650-96c6-91b2e97f43d0\",\"type\":\"BasicTickFormatter\"},{\"attributes\":{\"line_alpha\":{\"value\":0.1},\"line_color\":{\"value\":\"#1f77b4\"},\"x\":{\"field\":\"x\"},\"y\":{\"field\":\"y\"}},\"id\":\"d1508899-977a-4ae3-9ad1-3f65a442f519\",\"type\":\"Line\"},{\"attributes\":{\"dimension\":1,\"plot\":{\"id\":\"8557be9f-d39f-4b47-a308-0d85d68b1c06\",\"subtype\":\"Figure\",\"type\":\"Plot\"},\"ticker\":{\"id\":\"4989b2d8-bcec-4757-a425-4ea6fa8c5aeb\",\"type\":\"BasicTicker\"}},\"id\":\"a89854ce-9b6d-43c8-937b-3d2db2d2f065\",\"type\":\"Grid\"},{\"attributes\":{\"formatter\":{\"id\":\"36740ba6-099b-4650-96c6-91b2e97f43d0\",\"type\":\"BasicTickFormatter\"},\"plot\":{\"id\":\"8557be9f-d39f-4b47-a308-0d85d68b1c06\",\"subtype\":\"Figure\",\"type\":\"Plot\"},\"ticker\":{\"id\":\"3d62aef8-f26d-49f3-9bab-b6eb8f6a2be6\",\"type\":\"BasicTicker\"}},\"id\":\"6dfa194b-3798-4018-a2b4-fb6b6d087a72\",\"type\":\"LinearAxis\"},{\"attributes\":{\"line_color\":{\"value\":\"blue\"},\"x\":{\"field\":\"x\"},\"y\":{\"field\":\"y\"}},\"id\":\"e469517c-9ad3-429b-8da9-14ca06fa4098\",\"type\":\"Line\"},{\"attributes\":{\"items\":[{\"id\":\"7f238c9f-0ce6-4f29-a943-a3b0268cbd3b\",\"type\":\"LegendItem\"},{\"id\":\"afd794e4-2c34-4ffb-93fa-c9b0ac8bf256\",\"type\":\"LegendItem\"},{\"id\":\"434a0580-3572-4983-857d-9477f86a9d64\",\"type\":\"LegendItem\"}],\"location\":\"bottom_right\",\"plot\":{\"id\":\"8557be9f-d39f-4b47-a308-0d85d68b1c06\",\"subtype\":\"Figure\",\"type\":\"Plot\"}},\"id\":\"5f95367e-fcf8-4dc3-a8ad-385fe2ff209d\",\"type\":\"Legend\"},{\"attributes\":{},\"id\":\"17fa5f65-f9d7-4cac-9d34-048fd24730bd\",\"type\":\"ToolEvents\"},{\"attributes\":{\"plot\":{\"id\":\"8557be9f-d39f-4b47-a308-0d85d68b1c06\",\"subtype\":\"Figure\",\"type\":\"Plot\"}},\"id\":\"2ebf91fe-054c-46e6-8b3b-c96ca97ce4a5\",\"type\":\"SaveTool\"},{\"attributes\":{\"data_source\":{\"id\":\"2d7a2a78-5f72-4505-9099-f77b265e2009\",\"type\":\"ColumnDataSource\"},\"glyph\":{\"id\":\"31530f89-d2de-4dcb-83e7-383762f6074d\",\"type\":\"Circle\"},\"hover_glyph\":null,\"nonselection_glyph\":{\"id\":\"838c04d8-f574-4d3c-8344-ef93c3d8ef85\",\"type\":\"Circle\"},\"selection_glyph\":null},\"id\":\"428876ad-19d3-4977-911b-91bed2f898e8\",\"type\":\"GlyphRenderer\"},{\"attributes\":{\"plot\":{\"id\":\"8557be9f-d39f-4b47-a308-0d85d68b1c06\",\"subtype\":\"Figure\",\"type\":\"Plot\"}},\"id\":\"af990b46-e22f-4db8-aa07-51515036334b\",\"type\":\"PanTool\"},{\"attributes\":{\"plot\":{\"id\":\"8557be9f-d39f-4b47-a308-0d85d68b1c06\",\"subtype\":\"Figure\",\"type\":\"Plot\"}},\"id\":\"ab804bda-896f-473c-afd4-a521c8a421bf\",\"type\":\"ResetTool\"},{\"attributes\":{\"bottom_units\":\"screen\",\"fill_alpha\":{\"value\":0.5},\"fill_color\":{\"value\":\"lightgrey\"},\"left_units\":\"screen\",\"level\":\"overlay\",\"line_alpha\":{\"value\":1.0},\"line_color\":{\"value\":\"black\"},\"line_dash\":[4,4],\"line_width\":{\"value\":2},\"plot\":null,\"render_mode\":\"css\",\"right_units\":\"screen\",\"top_units\":\"screen\"},\"id\":\"78a350b8-d73d-44be-9a96-1a9bb0a8e1b4\",\"type\":\"BoxAnnotation\"},{\"attributes\":{},\"id\":\"e9e6d582-5940-43f8-81d8-44bc91b7d0c2\",\"type\":\"BasicTickFormatter\"},{\"attributes\":{\"fill_color\":{\"value\":\"green\"},\"line_alpha\":{\"value\":0.85},\"line_color\":{\"value\":\"darkgreen\"},\"size\":{\"units\":\"screen\",\"value\":5},\"x\":{\"field\":\"x\"},\"y\":{\"field\":\"y\"}},\"id\":\"31530f89-d2de-4dcb-83e7-383762f6074d\",\"type\":\"Circle\"},{\"attributes\":{\"fill_color\":{\"value\":\"orangered\"},\"line_alpha\":{\"value\":0.85},\"line_color\":{\"value\":\"#1f77b4\"},\"size\":{\"units\":\"screen\",\"value\":5},\"x\":{\"field\":\"x\"},\"y\":{\"field\":\"y\"}},\"id\":\"08703769-fcd0-4bdc-acea-09cf57dd776d\",\"type\":\"Circle\"},{\"attributes\":{\"label\":{\"value\":\"Linear Regression\"},\"renderers\":[{\"id\":\"2177c6ef-ddc4-4702-af5f-2898dc408264\",\"type\":\"GlyphRenderer\"}]},\"id\":\"434a0580-3572-4983-857d-9477f86a9d64\",\"type\":\"LegendItem\"},{\"attributes\":{\"plot\":null,\"text\":\"Training and Validation Sets\"},\"id\":\"112af7a2-4fa4-41d2-bb09-ffe8b8ecbe2c\",\"type\":\"Title\"},{\"attributes\":{\"callback\":null,\"column_names\":[\"y\",\"x\"],\"data\":{\"x\":{\"__ndarray__\":\"lisXDJIozT9CCqfgVifjPwAAAAAAAAAAZvDQDikc6z+UHSXuKYzcP1P5ujzt9tM/38J5626w6j8wkXXz7h3iP6q/Gt7dENw/zNY7uPnO7z9F7UVqyBnbP2XNbZ8h+uE/IF6eJs+W6j8kvAd+zAfYP01MBxNZGuk/h+qEyUc+4T/W4jMuA3nGP45JjfekAuQ/AVK28cCB4z8IIhdi4X3IP0eTJJFEvdw/SgTUBpr02D/y+bTlCfHFP2CGNFD//tU/zubkZehy4z9sprxLAaXsP7AXcxqfG90/Y3Lfqjrl4T+1gxhCFxnWP9ZZ2Sfw6ug/MW+0767A4D8abVW0RJjjP4umvirA9+E/kk6aoagW1z/9wU9YDm/nP79+0UjN1tU/vgIblTYZ5j+U8Ak5ouzIP////////+8/VhYXjDlB4D8NMHozi4vWP/6gDiVhDt8/zLkZ+vERzj9fHgU4RP3lPz/iKRqC4uM/+Cx0VNJU7T+a5gbzODbSPwMUxZ5W8uI/zNquIMpI4T8=\",\"dtype\":\"float64\",\"shape\":[49]},\"y\":{\"__ndarray__\":\"xpRtyxvEU8DwK951GD02QPrzF2w5y2HArZqwqQ/VVEAiiBJS+/U4wDWg0kuMYkrALv6xn05/V0CEbO9MiesyQIdIxT5VBjrA5AWqUQRfYEDDc4CX7048wHTaPQpx3vg/Hg5wvLLYVkCcxi0+qtpEwCi7IBd0YFBAmVeLfGirFkBWRAxSK/RWwAcS65kLkDZA+TX6+gHHN0BHVRGG8MpVwDjyE7j7SDPAX5nTjYM3SMB/0pqS2mFZwHcvCYFnQEvARmNgK/8LNkAQspkDWCRZQOgamcrj9yrA9H8um7yDMUBr6MX0Iv1GwEAgo8QeDVFAJJYSR1Oh/b+sBxsnMn05QHWfnnsG4B5Al+pCVC3vRsAxBAVZ1hZKQMveFg7G60nAOJgoZaZpQUBJMVbgNCBXwG77dXMqB2FAzPW/JPwY9b8Tyrc0aw9KwClFxYBbWyfAOyYFfOwdUsBcXJmhUE1CQHfJasQbNjlAg4sGVNamWUCZoYGhnnRQwGAMd06S2zJAaz0zkUe1C8A=\",\"dtype\":\"float64\",\"shape\":[49]}}},\"id\":\"2d7a2a78-5f72-4505-9099-f77b265e2009\",\"type\":\"ColumnDataSource\"},{\"attributes\":{\"label\":{\"value\":\"Validation Set\"},\"renderers\":[{\"id\":\"2612637d-8016-4e40-8aba-876f0c0bbc28\",\"type\":\"GlyphRenderer\"}]},\"id\":\"afd794e4-2c34-4ffb-93fa-c9b0ac8bf256\",\"type\":\"LegendItem\"},{\"attributes\":{\"data_source\":{\"id\":\"3bb5e4f8-3908-4e61-917b-2bb178373d94\",\"type\":\"ColumnDataSource\"},\"glyph\":{\"id\":\"08703769-fcd0-4bdc-acea-09cf57dd776d\",\"type\":\"Circle\"},\"hover_glyph\":null,\"nonselection_glyph\":{\"id\":\"6d79e0ee-1e49-4de2-bf56-488177a38a60\",\"type\":\"Circle\"},\"selection_glyph\":null},\"id\":\"2612637d-8016-4e40-8aba-876f0c0bbc28\",\"type\":\"GlyphRenderer\"},{\"attributes\":{\"plot\":{\"id\":\"8557be9f-d39f-4b47-a308-0d85d68b1c06\",\"subtype\":\"Figure\",\"type\":\"Plot\"}},\"id\":\"d4b88267-e358-408d-9337-58699a76cd7d\",\"type\":\"WheelZoomTool\"},{\"attributes\":{\"plot\":{\"id\":\"8557be9f-d39f-4b47-a308-0d85d68b1c06\",\"subtype\":\"Figure\",\"type\":\"Plot\"},\"ticker\":{\"id\":\"3d62aef8-f26d-49f3-9bab-b6eb8f6a2be6\",\"type\":\"BasicTicker\"}},\"id\":\"99a730f4-69a1-449b-9294-ceac24381acc\",\"type\":\"Grid\"},{\"attributes\":{\"label\":{\"value\":\"Training Set\"},\"renderers\":[{\"id\":\"428876ad-19d3-4977-911b-91bed2f898e8\",\"type\":\"GlyphRenderer\"}]},\"id\":\"7f238c9f-0ce6-4f29-a943-a3b0268cbd3b\",\"type\":\"LegendItem\"},{\"attributes\":{},\"id\":\"3d62aef8-f26d-49f3-9bab-b6eb8f6a2be6\",\"type\":\"BasicTicker\"},{\"attributes\":{\"callback\":null,\"column_names\":[\"y\",\"x\"],\"data\":{\"x\":{\"__ndarray__\":\"YAjFGS3i7T9XeZSI6d7fPwT2MVkd3t0/t5KhDwGq4z9zL7svEUHRP2Z6cqkqdtk/EYnKIbMd2z+Wj6IqIyjfP37mQVkgyOM/ED0IvIBfvj+dbHyhimHhPw+NuzBkPuc/Dxl0puas5j9mDyyFyhDdP7DLqGvNRuU/wbF6YDNl3z9KNWaiEOnUP8I3BHNs2uo/TCVBKlYE4z+4xXLJO7/hP2xx5TMrQ90/\",\"dtype\":\"float64\",\"shape\":[21]},\"y\":{\"__ndarray__\":\"qk9BquS2XUAQdeVNj/EtwChV8/1VIDrAq4xPJNUfM0AolOpHYD5TwMfwaz+fXUHAWH7zJyHDOMClguZOoN0ewEDqdjBL6zhA6logX/cdXsBk23/Iehfrv2Il4fLGNkxAJ/HVjNNTS0Dmf6Lh6NkywKJYsTSaL0JAMnEDfkGLJcDylGRtKZlJwLlwgWJZGlZA0IICQZGRNkCrYWZDiskhQMLJ7MLUsi/A\",\"dtype\":\"float64\",\"shape\":[21]}}},\"id\":\"3bb5e4f8-3908-4e61-917b-2bb178373d94\",\"type\":\"ColumnDataSource\"},{\"attributes\":{\"active_drag\":\"auto\",\"active_scroll\":\"auto\",\"active_tap\":\"auto\",\"tools\":[{\"id\":\"af990b46-e22f-4db8-aa07-51515036334b\",\"type\":\"PanTool\"},{\"id\":\"d4b88267-e358-408d-9337-58699a76cd7d\",\"type\":\"WheelZoomTool\"},{\"id\":\"808e4cd6-c132-4ce8-9d7d-37d52599d6b5\",\"type\":\"BoxZoomTool\"},{\"id\":\"2ebf91fe-054c-46e6-8b3b-c96ca97ce4a5\",\"type\":\"SaveTool\"},{\"id\":\"ab804bda-896f-473c-afd4-a521c8a421bf\",\"type\":\"ResetTool\"},{\"id\":\"8e0a04ea-ca3e-4db0-8ac0-694901cd5684\",\"type\":\"HelpTool\"}]},\"id\":\"3c7bd0fc-c658-44f2-9396-5d4bb6634e71\",\"type\":\"Toolbar\"},{\"attributes\":{\"callback\":null},\"id\":\"574d74d1-8975-455f-96a0-bf526aa34b0d\",\"type\":\"DataRange1d\"},{\"attributes\":{\"callback\":null},\"id\":\"53c6cbf7-a485-44be-92da-c8883c884527\",\"type\":\"DataRange1d\"},{\"attributes\":{},\"id\":\"4989b2d8-bcec-4757-a425-4ea6fa8c5aeb\",\"type\":\"BasicTicker\"},{\"attributes\":{\"callback\":null,\"column_names\":[\"y\",\"x\"],\"data\":{\"x\":{\"__ndarray__\":\"AAAAAAAAAAAAAAAAAADwPw==\",\"dtype\":\"float64\",\"shape\":[2]},\"y\":{\"__ndarray__\":\"y7T4GH32YcBvxIaGmilgQA==\",\"dtype\":\"float64\",\"shape\":[2]}}},\"id\":\"e5499fa7-ee26-4d51-81c5-db8e85d2e64c\",\"type\":\"ColumnDataSource\"},{\"attributes\":{\"data_source\":{\"id\":\"e5499fa7-ee26-4d51-81c5-db8e85d2e64c\",\"type\":\"ColumnDataSource\"},\"glyph\":{\"id\":\"e469517c-9ad3-429b-8da9-14ca06fa4098\",\"type\":\"Line\"},\"hover_glyph\":null,\"nonselection_glyph\":{\"id\":\"d1508899-977a-4ae3-9ad1-3f65a442f519\",\"type\":\"Line\"},\"selection_glyph\":null},\"id\":\"2177c6ef-ddc4-4702-af5f-2898dc408264\",\"type\":\"GlyphRenderer\"},{\"attributes\":{\"plot\":{\"id\":\"8557be9f-d39f-4b47-a308-0d85d68b1c06\",\"subtype\":\"Figure\",\"type\":\"Plot\"}},\"id\":\"8e0a04ea-ca3e-4db0-8ac0-694901cd5684\",\"type\":\"HelpTool\"}],\"root_ids\":[\"8557be9f-d39f-4b47-a308-0d85d68b1c06\"]},\"title\":\"Bokeh Application\",\"version\":\"0.12.4\"}};\n",
       "            var render_items = [{\"docid\":\"9accabdd-e50b-4f82-a0cb-09b9754310f4\",\"elementid\":\"51ac8cdb-abd3-490c-9de2-5a5fafe46b43\",\"modelid\":\"8557be9f-d39f-4b47-a308-0d85d68b1c06\"}];\n",
       "            \n",
       "            Bokeh.embed.embed_items(docs_json, render_items);\n",
       "          };\n",
       "          if (document.readyState != \"loading\") fn();\n",
       "          else document.addEventListener(\"DOMContentLoaded\", fn);\n",
       "        })();\n",
       "      },\n",
       "      function(Bokeh) {\n",
       "      }\n",
       "    ];\n",
       "  \n",
       "    function run_inline_js() {\n",
       "      \n",
       "      if ((window.Bokeh !== undefined) || (force === true)) {\n",
       "        for (var i = 0; i < inline_js.length; i++) {\n",
       "          inline_js[i](window.Bokeh);\n",
       "        }if (force === true) {\n",
       "          display_loaded();\n",
       "        }} else if (Date.now() < window._bokeh_timeout) {\n",
       "        setTimeout(run_inline_js, 100);\n",
       "      } else if (!window._bokeh_failed_load) {\n",
       "        console.log(\"Bokeh: BokehJS failed to load within specified timeout.\");\n",
       "        window._bokeh_failed_load = true;\n",
       "      } else if (force !== true) {\n",
       "        var cell = $(document.getElementById(\"51ac8cdb-abd3-490c-9de2-5a5fafe46b43\")).parents('.cell').data().cell;\n",
       "        cell.output_area.append_execute_result(NB_LOAD_WARNING)\n",
       "      }\n",
       "  \n",
       "    }\n",
       "  \n",
       "    if (window._bokeh_is_loading === 0) {\n",
       "      console.log(\"Bokeh: BokehJS loaded, going straight to plotting\");\n",
       "      run_inline_js();\n",
       "    } else {\n",
       "      load_libs(js_urls, function() {\n",
       "        console.log(\"Bokeh: BokehJS plotting callback run at\", now());\n",
       "        run_inline_js();\n",
       "      });\n",
       "    }\n",
       "  }(this));\n",
       "</script>"
      ]
     },
     "metadata": {},
     "output_type": "display_data"
    }
   ],
   "source": [
    "from sklearn import model_selection\n",
    "X_tr, X_valid, y_tr, y_valid = model_selection.train_test_split(X_sc, y,\n",
    "                                                                 test_size=0.30, random_state=0)\n",
    "lin.fit(X_tr, y_tr)\n",
    "MSE = metrics.mean_squared_error(lin.predict(X_valid), y_valid)\n",
    "print(\"Mean Squared Error: %.2f\" % MSE)\n",
    "print(\"Model coefficient: %.5f, and intercept: %.5f\" % (lin.coef_, lin.intercept_))\n",
    "\n",
    "X_predicted = np.linspace(0, 1, 2)[:, np.newaxis]\n",
    "y_predicted = lin.predict(X_predicted)\n",
    "fig = bk.figure(title='Training and Validation Sets', \n",
    "                plot_width=700, plot_height=400)\n",
    "fig.circle(X_tr.squeeze(), y_tr,\n",
    "           size=5, line_alpha=0.85, fill_color='green', line_color='darkgreen',\n",
    "           legend='Training Set')\n",
    "fig.circle(X_valid.squeeze(), y_valid, \n",
    "           size=5, line_alpha=0.85, fill_color='orangered', legend='Validation Set')\n",
    "fig.line(X_predicted.ravel(), y_predicted, line_color='blue', legend='Linear Regression')\n",
    "fig.legend.location = 'bottom_right'\n",
    "bk.show(fig)"
   ]
  },
  {
   "cell_type": "markdown",
   "metadata": {},
   "source": [
    "### 2.1 Example: Do a Regression Analysis on MATLAB<sup>&reg;</sup> data"
   ]
  },
  {
   "cell_type": "markdown",
   "metadata": {},
   "source": [
    "The data are generated with the following MATLAB code:\n",
    "\n",
    "    % Generate Regression Test Data 02 ----------------------------------------\n",
    "    samples = 100; features = 5;\n",
    "    \n",
    "    X = rand(samples, features)\n",
    "    for i = 1:samples\n",
    "        X(i,:) = (X(i,:)*i)+i+0.1;\n",
    "    end\n",
    "    % Calculate y as a linear combination of features with coeff. 1.5, 2.5, ...\n",
    "    % and add some noise\n",
    "    noise = 0.1;\n",
    "    lin_comb = (1:features) + 0.5\n",
    "    y = (X+rand(samples, features)*noise)*lin_comb'\n",
    "    % Define feature names as 'F001', ... , 'Fnnn' up to 9999 features\n",
    "    feat_names = sprintf('F%04i',1);\n",
    "    for i = 2:features\n",
    "        feat_names = strvcat(feat_names, sprintf('F%04i',i));\n",
    "    end\n",
    "    \n",
    "    save ('matlab_test_data_02', 'X','y', 'feat_names')"
   ]
  },
  {
   "cell_type": "code",
   "execution_count": 9,
   "metadata": {
    "collapsed": false
   },
   "outputs": [],
   "source": [
    "from sklearn import preprocessing, linear_model\n",
    "mat = scipy.io.loadmat('example_data/matlab_test_data_02.mat')\n",
    "col = [s.strip() for s in list(mat['feat_names'])]"
   ]
  },
  {
   "cell_type": "code",
   "execution_count": 10,
   "metadata": {
    "collapsed": false
   },
   "outputs": [],
   "source": [
    "Xt,Xv,yt,yv = model_selection.train_test_split(mat['X'], mat['y'],test_size=0.30,\n",
    "                                                random_state=0)\n",
    "Xt = pd.DataFrame(Xt, columns=col)\n",
    "Xv = pd.DataFrame(Xv, columns=col)\n",
    "yt = pd.DataFrame(yt, columns=['measured'])\n",
    "yv = pd.DataFrame(yv, columns=['measured'])"
   ]
  },
  {
   "cell_type": "code",
   "execution_count": 11,
   "metadata": {
    "collapsed": false
   },
   "outputs": [
    {
     "data": {
      "text/html": [
       "<div>\n",
       "<table border=\"1\" class=\"dataframe\">\n",
       "  <thead>\n",
       "    <tr style=\"text-align: right;\">\n",
       "      <th></th>\n",
       "      <th>F0001</th>\n",
       "      <th>F0002</th>\n",
       "      <th>F0003</th>\n",
       "      <th>F0004</th>\n",
       "      <th>F0005</th>\n",
       "      <th>F0006</th>\n",
       "    </tr>\n",
       "  </thead>\n",
       "  <tbody>\n",
       "    <tr>\n",
       "      <th>0</th>\n",
       "      <td>131.391611</td>\n",
       "      <td>178.588071</td>\n",
       "      <td>191.836028</td>\n",
       "      <td>206.928031</td>\n",
       "      <td>188.601869</td>\n",
       "      <td>195.879822</td>\n",
       "    </tr>\n",
       "    <tr>\n",
       "      <th>1</th>\n",
       "      <td>137.771630</td>\n",
       "      <td>91.462643</td>\n",
       "      <td>76.438656</td>\n",
       "      <td>104.585583</td>\n",
       "      <td>123.265090</td>\n",
       "      <td>73.587835</td>\n",
       "    </tr>\n",
       "    <tr>\n",
       "      <th>2</th>\n",
       "      <td>789.737369</td>\n",
       "      <td>671.934539</td>\n",
       "      <td>835.830887</td>\n",
       "      <td>515.921167</td>\n",
       "      <td>901.167154</td>\n",
       "      <td>813.659391</td>\n",
       "    </tr>\n",
       "  </tbody>\n",
       "</table>\n",
       "</div>"
      ],
      "text/plain": [
       "        F0001       F0002       F0003       F0004       F0005       F0006\n",
       "0  131.391611  178.588071  191.836028  206.928031  188.601869  195.879822\n",
       "1  137.771630   91.462643   76.438656  104.585583  123.265090   73.587835\n",
       "2  789.737369  671.934539  835.830887  515.921167  901.167154  813.659391"
      ]
     },
     "execution_count": 11,
     "metadata": {},
     "output_type": "execute_result"
    }
   ],
   "source": [
    "Xt.head(3)"
   ]
  },
  {
   "cell_type": "code",
   "execution_count": 12,
   "metadata": {
    "collapsed": false
   },
   "outputs": [],
   "source": [
    "# Scaler is fitted only on training data\n",
    "Xts = Xt.copy()\n",
    "Xvs = Xv.copy()\n",
    "scaler = preprocessing.StandardScaler(copy=False, with_mean=True, with_std=True).fit(Xt)\n",
    "scaler.transform(Xts)\n",
    "scaler.transform(Xv);"
   ]
  },
  {
   "cell_type": "code",
   "execution_count": 13,
   "metadata": {
    "collapsed": false
   },
   "outputs": [
    {
     "data": {
      "text/html": [
       "<div>\n",
       "<table border=\"1\" class=\"dataframe\">\n",
       "  <thead>\n",
       "    <tr style=\"text-align: right;\">\n",
       "      <th></th>\n",
       "      <th>F0001</th>\n",
       "      <th>F0002</th>\n",
       "      <th>F0003</th>\n",
       "      <th>F0004</th>\n",
       "      <th>F0005</th>\n",
       "      <th>F0006</th>\n",
       "    </tr>\n",
       "  </thead>\n",
       "  <tbody>\n",
       "    <tr>\n",
       "      <th>0</th>\n",
       "      <td>-1.294851</td>\n",
       "      <td>-1.210162</td>\n",
       "      <td>-1.171325</td>\n",
       "      <td>-1.148142</td>\n",
       "      <td>-1.198971</td>\n",
       "      <td>-1.160278</td>\n",
       "    </tr>\n",
       "    <tr>\n",
       "      <th>1</th>\n",
       "      <td>-1.281377</td>\n",
       "      <td>-1.399557</td>\n",
       "      <td>-1.416333</td>\n",
       "      <td>-1.371187</td>\n",
       "      <td>-1.344097</td>\n",
       "      <td>-1.424161</td>\n",
       "    </tr>\n",
       "    <tr>\n",
       "      <th>2</th>\n",
       "      <td>0.095500</td>\n",
       "      <td>-0.137716</td>\n",
       "      <td>0.195982</td>\n",
       "      <td>-0.474723</td>\n",
       "      <td>0.383782</td>\n",
       "      <td>0.172776</td>\n",
       "    </tr>\n",
       "  </tbody>\n",
       "</table>\n",
       "</div>"
      ],
      "text/plain": [
       "      F0001     F0002     F0003     F0004     F0005     F0006\n",
       "0 -1.294851 -1.210162 -1.171325 -1.148142 -1.198971 -1.160278\n",
       "1 -1.281377 -1.399557 -1.416333 -1.371187 -1.344097 -1.424161\n",
       "2  0.095500 -0.137716  0.195982 -0.474723  0.383782  0.172776"
      ]
     },
     "execution_count": 13,
     "metadata": {},
     "output_type": "execute_result"
    }
   ],
   "source": [
    "Xts.head(3)"
   ]
  },
  {
   "cell_type": "code",
   "execution_count": 14,
   "metadata": {
    "collapsed": false
   },
   "outputs": [
    {
     "name": "stdout",
     "output_type": "stream",
     "text": [
      "[[  708.82319504  1153.80993668  1647.24008556  2066.72663569\n",
      "   2474.24236679  3011.70541794]]\n",
      "[ 17692.80536173]\n"
     ]
    }
   ],
   "source": [
    "model = linear_model.LinearRegression(fit_intercept=True, normalize=True)\n",
    "model.fit(Xts, yt)\n",
    "# NOTICE: coefficients are much different from 1.5, 2.5, ... when fitting on scaled data\n",
    "print(model.coef_)\n",
    "print(model.intercept_)"
   ]
  },
  {
   "cell_type": "code",
   "execution_count": 15,
   "metadata": {
    "collapsed": false,
    "scrolled": false
   },
   "outputs": [
    {
     "data": {
      "text/html": [
       "\n",
       "\n",
       "    <div class=\"bk-root\">\n",
       "        <div class=\"bk-plotdiv\" id=\"67646b3b-9a4f-4a9e-bed3-16c01f8b8e61\"></div>\n",
       "    </div>\n",
       "<script type=\"text/javascript\">\n",
       "  \n",
       "  (function(global) {\n",
       "    function now() {\n",
       "      return new Date();\n",
       "    }\n",
       "  \n",
       "    var force = false;\n",
       "  \n",
       "    if (typeof (window._bokeh_onload_callbacks) === \"undefined\" || force === true) {\n",
       "      window._bokeh_onload_callbacks = [];\n",
       "      window._bokeh_is_loading = undefined;\n",
       "    }\n",
       "  \n",
       "  \n",
       "    \n",
       "    if (typeof (window._bokeh_timeout) === \"undefined\" || force === true) {\n",
       "      window._bokeh_timeout = Date.now() + 0;\n",
       "      window._bokeh_failed_load = false;\n",
       "    }\n",
       "  \n",
       "    var NB_LOAD_WARNING = {'data': {'text/html':\n",
       "       \"<div style='background-color: #fdd'>\\n\"+\n",
       "       \"<p>\\n\"+\n",
       "       \"BokehJS does not appear to have successfully loaded. If loading BokehJS from CDN, this \\n\"+\n",
       "       \"may be due to a slow or bad network connection. Possible fixes:\\n\"+\n",
       "       \"</p>\\n\"+\n",
       "       \"<ul>\\n\"+\n",
       "       \"<li>re-rerun `output_notebook()` to attempt to load from CDN again, or</li>\\n\"+\n",
       "       \"<li>use INLINE resources instead, as so:</li>\\n\"+\n",
       "       \"</ul>\\n\"+\n",
       "       \"<code>\\n\"+\n",
       "       \"from bokeh.resources import INLINE\\n\"+\n",
       "       \"output_notebook(resources=INLINE)\\n\"+\n",
       "       \"</code>\\n\"+\n",
       "       \"</div>\"}};\n",
       "  \n",
       "    function display_loaded() {\n",
       "      if (window.Bokeh !== undefined) {\n",
       "        document.getElementById(\"67646b3b-9a4f-4a9e-bed3-16c01f8b8e61\").textContent = \"BokehJS successfully loaded.\";\n",
       "      } else if (Date.now() < window._bokeh_timeout) {\n",
       "        setTimeout(display_loaded, 100)\n",
       "      }\n",
       "    }\n",
       "  \n",
       "    function run_callbacks() {\n",
       "      window._bokeh_onload_callbacks.forEach(function(callback) { callback() });\n",
       "      delete window._bokeh_onload_callbacks\n",
       "      console.info(\"Bokeh: all callbacks have finished\");\n",
       "    }\n",
       "  \n",
       "    function load_libs(js_urls, callback) {\n",
       "      window._bokeh_onload_callbacks.push(callback);\n",
       "      if (window._bokeh_is_loading > 0) {\n",
       "        console.log(\"Bokeh: BokehJS is being loaded, scheduling callback at\", now());\n",
       "        return null;\n",
       "      }\n",
       "      if (js_urls == null || js_urls.length === 0) {\n",
       "        run_callbacks();\n",
       "        return null;\n",
       "      }\n",
       "      console.log(\"Bokeh: BokehJS not loaded, scheduling load and callback at\", now());\n",
       "      window._bokeh_is_loading = js_urls.length;\n",
       "      for (var i = 0; i < js_urls.length; i++) {\n",
       "        var url = js_urls[i];\n",
       "        var s = document.createElement('script');\n",
       "        s.src = url;\n",
       "        s.async = false;\n",
       "        s.onreadystatechange = s.onload = function() {\n",
       "          window._bokeh_is_loading--;\n",
       "          if (window._bokeh_is_loading === 0) {\n",
       "            console.log(\"Bokeh: all BokehJS libraries loaded\");\n",
       "            run_callbacks()\n",
       "          }\n",
       "        };\n",
       "        s.onerror = function() {\n",
       "          console.warn(\"failed to load library \" + url);\n",
       "        };\n",
       "        console.log(\"Bokeh: injecting script tag for BokehJS library: \", url);\n",
       "        document.getElementsByTagName(\"head\")[0].appendChild(s);\n",
       "      }\n",
       "    };var element = document.getElementById(\"67646b3b-9a4f-4a9e-bed3-16c01f8b8e61\");\n",
       "    if (element == null) {\n",
       "      console.log(\"Bokeh: ERROR: autoload.js configured with elementid '67646b3b-9a4f-4a9e-bed3-16c01f8b8e61' but no matching script tag was found. \")\n",
       "      return false;\n",
       "    }\n",
       "  \n",
       "    var js_urls = [];\n",
       "  \n",
       "    var inline_js = [\n",
       "      function(Bokeh) {\n",
       "        (function() {\n",
       "          var fn = function() {\n",
       "            var docs_json = {\"4a895630-5fcf-41b6-957e-9ca5ea76199a\":{\"roots\":{\"references\":[{\"attributes\":{\"callback\":null,\"column_names\":[\"y\",\"x\"],\"data\":{\"x\":{\"__ndarray__\":\"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\",\"dtype\":\"float64\",\"shape\":[300]},\"y\":{\"__ndarray__\":\"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\",\"dtype\":\"float64\",\"shape\":[300]}}},\"id\":\"1c11cb0f-b2a3-48e0-ad15-31eb652f8f75\",\"type\":\"ColumnDataSource\"},{\"attributes\":{\"overlay\":{\"id\":\"b76e0d78-6238-4ba8-b836-e70628e18e76\",\"type\":\"BoxAnnotation\"},\"plot\":{\"id\":\"df0bffa3-e903-4eff-abd9-cebe3517ca68\",\"subtype\":\"Figure\",\"type\":\"Plot\"}},\"id\":\"dd0b8fb6-c4b8-434e-9c63-92da6dd02f6a\",\"type\":\"BoxZoomTool\"},{\"attributes\":{\"plot\":{\"id\":\"df0bffa3-e903-4eff-abd9-cebe3517ca68\",\"subtype\":\"Figure\",\"type\":\"Plot\"}},\"id\":\"e3335306-a937-4a84-a71a-22675aa1c6ff\",\"type\":\"SaveTool\"},{\"attributes\":{\"bottom_units\":\"screen\",\"fill_alpha\":{\"value\":0.5},\"fill_color\":{\"value\":\"lightgrey\"},\"left_units\":\"screen\",\"level\":\"overlay\",\"line_alpha\":{\"value\":1.0},\"line_color\":{\"value\":\"black\"},\"line_dash\":[4,4],\"line_width\":{\"value\":2},\"plot\":null,\"render_mode\":\"css\",\"right_units\":\"screen\",\"top_units\":\"screen\"},\"id\":\"b76e0d78-6238-4ba8-b836-e70628e18e76\",\"type\":\"BoxAnnotation\"},{\"attributes\":{\"data_source\":{\"id\":\"1c11cb0f-b2a3-48e0-ad15-31eb652f8f75\",\"type\":\"ColumnDataSource\"},\"glyph\":{\"id\":\"0c683739-7d0e-4d78-9512-7998ae39c618\",\"type\":\"Circle\"},\"hover_glyph\":null,\"nonselection_glyph\":{\"id\":\"a972cd0b-ca24-4be3-a691-b89064ccbf5f\",\"type\":\"Circle\"},\"selection_glyph\":null},\"id\":\"9f63a68a-d900-4d76-a99c-f0feac25cff8\",\"type\":\"GlyphRenderer\"},{\"attributes\":{\"plot\":null,\"text\":\"Measured Values VS Predicted Values\"},\"id\":\"183f904f-c2d2-42a8-97f2-9c9ad6eb949d\",\"type\":\"Title\"},{\"attributes\":{\"plot\":{\"id\":\"df0bffa3-e903-4eff-abd9-cebe3517ca68\",\"subtype\":\"Figure\",\"type\":\"Plot\"}},\"id\":\"11d8ba52-0a17-4b9e-ba41-f84a3fba2a97\",\"type\":\"PanTool\"},{\"attributes\":{\"fill_alpha\":{\"value\":0.1},\"fill_color\":{\"value\":\"#1f77b4\"},\"line_alpha\":{\"value\":0.1},\"line_color\":{\"value\":\"#1f77b4\"},\"size\":{\"units\":\"screen\",\"value\":8},\"x\":{\"field\":\"x\"},\"y\":{\"field\":\"y\"}},\"id\":\"a972cd0b-ca24-4be3-a691-b89064ccbf5f\",\"type\":\"Circle\"},{\"attributes\":{\"plot\":{\"id\":\"df0bffa3-e903-4eff-abd9-cebe3517ca68\",\"subtype\":\"Figure\",\"type\":\"Plot\"}},\"id\":\"4b723a13-8803-4441-99ad-06365c4f2ca7\",\"type\":\"ResetTool\"},{\"attributes\":{\"axis_label\":\"y val\",\"formatter\":{\"id\":\"1963de73-689c-4f06-876b-f3dc474e6e85\",\"type\":\"BasicTickFormatter\"},\"plot\":{\"id\":\"df0bffa3-e903-4eff-abd9-cebe3517ca68\",\"subtype\":\"Figure\",\"type\":\"Plot\"},\"ticker\":{\"id\":\"0aa9bfe5-eb7f-42e7-b2a8-a0a7b028d888\",\"type\":\"BasicTicker\"}},\"id\":\"27ae3af3-861f-4679-8264-5e0e405eb9fa\",\"type\":\"LinearAxis\"},{\"attributes\":{},\"id\":\"0aa9bfe5-eb7f-42e7-b2a8-a0a7b028d888\",\"type\":\"BasicTicker\"},{\"attributes\":{\"plot\":{\"id\":\"df0bffa3-e903-4eff-abd9-cebe3517ca68\",\"subtype\":\"Figure\",\"type\":\"Plot\"}},\"id\":\"fe3095c4-1250-46aa-8b4f-f387040870cf\",\"type\":\"HelpTool\"},{\"attributes\":{\"fill_alpha\":{\"value\":0.5},\"fill_color\":{\"value\":\"blue\"},\"line_alpha\":{\"value\":0.2},\"size\":{\"units\":\"screen\",\"value\":8},\"x\":{\"field\":\"x\"},\"y\":{\"field\":\"y\"}},\"id\":\"0c683739-7d0e-4d78-9512-7998ae39c618\",\"type\":\"Circle\"},{\"attributes\":{},\"id\":\"0911ff92-7167-4f1b-95b9-9c13cf784854\",\"type\":\"BasicTickFormatter\"},{\"attributes\":{\"below\":[{\"id\":\"27ae3af3-861f-4679-8264-5e0e405eb9fa\",\"type\":\"LinearAxis\"}],\"left\":[{\"id\":\"a1a8df30-2fbf-4606-8148-89116b64ac6d\",\"type\":\"LinearAxis\"}],\"plot_height\":400,\"renderers\":[{\"id\":\"27ae3af3-861f-4679-8264-5e0e405eb9fa\",\"type\":\"LinearAxis\"},{\"id\":\"0f21649f-374b-4585-9aa2-abe6173217bb\",\"type\":\"Grid\"},{\"id\":\"a1a8df30-2fbf-4606-8148-89116b64ac6d\",\"type\":\"LinearAxis\"},{\"id\":\"e13d415d-5fa3-4cc1-a172-3a01d0c36efa\",\"type\":\"Grid\"},{\"id\":\"b76e0d78-6238-4ba8-b836-e70628e18e76\",\"type\":\"BoxAnnotation\"},{\"id\":\"9f63a68a-d900-4d76-a99c-f0feac25cff8\",\"type\":\"GlyphRenderer\"}],\"title\":{\"id\":\"183f904f-c2d2-42a8-97f2-9c9ad6eb949d\",\"type\":\"Title\"},\"tool_events\":{\"id\":\"5bb39bc2-bf0d-47bf-8269-258938f25e33\",\"type\":\"ToolEvents\"},\"toolbar\":{\"id\":\"25bad31e-94c7-4d97-a21d-b3fc7864c437\",\"type\":\"Toolbar\"},\"x_range\":{\"id\":\"87026828-62db-47a0-ba79-a0c5d1a7defb\",\"type\":\"DataRange1d\"},\"y_range\":{\"id\":\"8ac0dbf5-c012-49dd-90e4-e9f0c4850dad\",\"type\":\"DataRange1d\"}},\"id\":\"df0bffa3-e903-4eff-abd9-cebe3517ca68\",\"subtype\":\"Figure\",\"type\":\"Plot\"},{\"attributes\":{\"callback\":null},\"id\":\"8ac0dbf5-c012-49dd-90e4-e9f0c4850dad\",\"type\":\"DataRange1d\"},{\"attributes\":{},\"id\":\"54f09433-4d4d-4ba2-8a8d-b4782a70c105\",\"type\":\"BasicTicker\"},{\"attributes\":{\"callback\":null},\"id\":\"87026828-62db-47a0-ba79-a0c5d1a7defb\",\"type\":\"DataRange1d\"},{\"attributes\":{\"axis_label\":\"y pred\",\"formatter\":{\"id\":\"0911ff92-7167-4f1b-95b9-9c13cf784854\",\"type\":\"BasicTickFormatter\"},\"plot\":{\"id\":\"df0bffa3-e903-4eff-abd9-cebe3517ca68\",\"subtype\":\"Figure\",\"type\":\"Plot\"},\"ticker\":{\"id\":\"54f09433-4d4d-4ba2-8a8d-b4782a70c105\",\"type\":\"BasicTicker\"}},\"id\":\"a1a8df30-2fbf-4606-8148-89116b64ac6d\",\"type\":\"LinearAxis\"},{\"attributes\":{\"active_drag\":\"auto\",\"active_scroll\":\"auto\",\"active_tap\":\"auto\",\"tools\":[{\"id\":\"11d8ba52-0a17-4b9e-ba41-f84a3fba2a97\",\"type\":\"PanTool\"},{\"id\":\"2c0d935b-320d-4136-81b5-5a8017fdee23\",\"type\":\"WheelZoomTool\"},{\"id\":\"dd0b8fb6-c4b8-434e-9c63-92da6dd02f6a\",\"type\":\"BoxZoomTool\"},{\"id\":\"e3335306-a937-4a84-a71a-22675aa1c6ff\",\"type\":\"SaveTool\"},{\"id\":\"4b723a13-8803-4441-99ad-06365c4f2ca7\",\"type\":\"ResetTool\"},{\"id\":\"fe3095c4-1250-46aa-8b4f-f387040870cf\",\"type\":\"HelpTool\"}]},\"id\":\"25bad31e-94c7-4d97-a21d-b3fc7864c437\",\"type\":\"Toolbar\"},{\"attributes\":{},\"id\":\"5bb39bc2-bf0d-47bf-8269-258938f25e33\",\"type\":\"ToolEvents\"},{\"attributes\":{\"plot\":{\"id\":\"df0bffa3-e903-4eff-abd9-cebe3517ca68\",\"subtype\":\"Figure\",\"type\":\"Plot\"}},\"id\":\"2c0d935b-320d-4136-81b5-5a8017fdee23\",\"type\":\"WheelZoomTool\"},{\"attributes\":{\"dimension\":1,\"plot\":{\"id\":\"df0bffa3-e903-4eff-abd9-cebe3517ca68\",\"subtype\":\"Figure\",\"type\":\"Plot\"},\"ticker\":{\"id\":\"54f09433-4d4d-4ba2-8a8d-b4782a70c105\",\"type\":\"BasicTicker\"}},\"id\":\"e13d415d-5fa3-4cc1-a172-3a01d0c36efa\",\"type\":\"Grid\"},{\"attributes\":{\"plot\":{\"id\":\"df0bffa3-e903-4eff-abd9-cebe3517ca68\",\"subtype\":\"Figure\",\"type\":\"Plot\"},\"ticker\":{\"id\":\"0aa9bfe5-eb7f-42e7-b2a8-a0a7b028d888\",\"type\":\"BasicTicker\"}},\"id\":\"0f21649f-374b-4585-9aa2-abe6173217bb\",\"type\":\"Grid\"},{\"attributes\":{},\"id\":\"1963de73-689c-4f06-876b-f3dc474e6e85\",\"type\":\"BasicTickFormatter\"}],\"root_ids\":[\"df0bffa3-e903-4eff-abd9-cebe3517ca68\"]},\"title\":\"Bokeh Application\",\"version\":\"0.12.4\"}};\n",
       "            var render_items = [{\"docid\":\"4a895630-5fcf-41b6-957e-9ca5ea76199a\",\"elementid\":\"67646b3b-9a4f-4a9e-bed3-16c01f8b8e61\",\"modelid\":\"df0bffa3-e903-4eff-abd9-cebe3517ca68\"}];\n",
       "            \n",
       "            Bokeh.embed.embed_items(docs_json, render_items);\n",
       "          };\n",
       "          if (document.readyState != \"loading\") fn();\n",
       "          else document.addEventListener(\"DOMContentLoaded\", fn);\n",
       "        })();\n",
       "      },\n",
       "      function(Bokeh) {\n",
       "      }\n",
       "    ];\n",
       "  \n",
       "    function run_inline_js() {\n",
       "      \n",
       "      if ((window.Bokeh !== undefined) || (force === true)) {\n",
       "        for (var i = 0; i < inline_js.length; i++) {\n",
       "          inline_js[i](window.Bokeh);\n",
       "        }if (force === true) {\n",
       "          display_loaded();\n",
       "        }} else if (Date.now() < window._bokeh_timeout) {\n",
       "        setTimeout(run_inline_js, 100);\n",
       "      } else if (!window._bokeh_failed_load) {\n",
       "        console.log(\"Bokeh: BokehJS failed to load within specified timeout.\");\n",
       "        window._bokeh_failed_load = true;\n",
       "      } else if (force !== true) {\n",
       "        var cell = $(document.getElementById(\"67646b3b-9a4f-4a9e-bed3-16c01f8b8e61\")).parents('.cell').data().cell;\n",
       "        cell.output_area.append_execute_result(NB_LOAD_WARNING)\n",
       "      }\n",
       "  \n",
       "    }\n",
       "  \n",
       "    if (window._bokeh_is_loading === 0) {\n",
       "      console.log(\"Bokeh: BokehJS loaded, going straight to plotting\");\n",
       "      run_inline_js();\n",
       "    } else {\n",
       "      load_libs(js_urls, function() {\n",
       "        console.log(\"Bokeh: BokehJS plotting callback run at\", now());\n",
       "        run_inline_js();\n",
       "      });\n",
       "    }\n",
       "  }(this));\n",
       "</script>"
      ]
     },
     "metadata": {},
     "output_type": "display_data"
    }
   ],
   "source": [
    "# Plot the data and the model prediction\n",
    "yp = model.predict(Xvs)\n",
    "fig = bk.figure(title='Measured Values VS Predicted Values',\n",
    "                x_axis_label='y val', y_axis_label='y pred',\n",
    "                plot_width=600, plot_height=400)\n",
    "fig.circle(yv['measured'], yp[:,0], size=8,\n",
    "           fill_color='blue', fill_alpha=0.5, line_color='black', alpha=0.2)\n",
    "bk.show(fig)"
   ]
  },
  {
   "cell_type": "markdown",
   "metadata": {},
   "source": [
    "### 2.2 Example: Training and a Validation Sets on a Classification Problem"
   ]
  },
  {
   "cell_type": "markdown",
   "metadata": {},
   "source": [
    "The K-neighbors is an instance-based classifier that predicts the label of an unknown point based on the labels of the *K* nearest points in the parameter space:"
   ]
  },
  {
   "cell_type": "code",
   "execution_count": 16,
   "metadata": {
    "collapsed": false
   },
   "outputs": [
    {
     "name": "stdout",
     "output_type": "stream",
     "text": [
      "[[178   0   0   0   0   0   0   0   0   0]\n",
      " [  0 182   0   0   0   0   0   0   0   0]\n",
      " [  0   0 177   0   0   0   0   0   0   0]\n",
      " [  0   0   0 183   0   0   0   0   0   0]\n",
      " [  0   0   0   0 181   0   0   0   0   0]\n",
      " [  0   0   0   0   0 182   0   0   0   0]\n",
      " [  0   0   0   0   0   0 181   0   0   0]\n",
      " [  0   0   0   0   0   0   0 179   0   0]\n",
      " [  0   0   0   0   0   0   0   0 174   0]\n",
      " [  0   0   0   0   0   0   0   0   0 180]]\n",
      "\n",
      "F1 Score:   1.0\n"
     ]
    }
   ],
   "source": [
    "from sklearn import neighbors\n",
    "digits = datasets.load_digits()\n",
    "X, y = digits.data, digits.target\n",
    "\n",
    "clf = neighbors.KNeighborsClassifier(n_neighbors=1)\n",
    "clf.fit(X, y)\n",
    "y_pred = clf.predict(X)\n",
    "print(metrics.confusion_matrix(y_pred, y))\n",
    "print('\\nF1 Score:  ', metrics.f1_score(y_pred, y, average='weighted'))"
   ]
  },
  {
   "cell_type": "markdown",
   "metadata": {},
   "source": [
    "Apparently, we've found a perfect classifier!  But this is misleading for the reasons we saw before: the classifier essentially \"memorizes\" all the samples it has already seen.  To really test how well this algorithm does, we need to try some samples it *hasn't* yet seen.\n",
    "\n",
    "Here we split the original data in **Training** and **Validation** sets and run again the previous algorithm. In this case we see that we still have a good classifier but the precision is reduced:"
   ]
  },
  {
   "cell_type": "code",
   "execution_count": 17,
   "metadata": {
    "collapsed": false
   },
   "outputs": [
    {
     "name": "stdout",
     "output_type": "stream",
     "text": [
      "[[60  0  0  0  0  0  0  0  0  0]\n",
      " [ 0 73  0  0  0  0  0  0  0  0]\n",
      " [ 0  0 71  0  0  0  0  0  0  0]\n",
      " [ 0  0  0 70  0  0  0  0  0  0]\n",
      " [ 0  0  0  0 63  0  0  0  0  0]\n",
      " [ 0  0  0  0  0 87  1  0  0  1]\n",
      " [ 0  0  0  0  0  0 76  0  0  0]\n",
      " [ 0  0  0  0  0  0  0 65  0  0]\n",
      " [ 0  2  0  1  0  0  0  0 74  1]\n",
      " [ 0  0  0  2  0  1  0  0  0 71]]\n",
      "\n",
      "F1 Score:   0.987441080752\n"
     ]
    }
   ],
   "source": [
    "X_tr, X_valid, y_tr, y_valid = model_selection.train_test_split(X, \n",
    "                                                                 y,\n",
    "                                                                 test_size=0.40, \n",
    "                                                                 random_state=0)\n",
    "clf = neighbors.KNeighborsClassifier(n_neighbors=1).fit(X_tr, y_tr)\n",
    "y_pred = clf.predict(X_valid)\n",
    "print(metrics.confusion_matrix(y_valid, y_pred))\n",
    "print('\\nF1 Score:  ', metrics.f1_score(y_valid, y_pred, average='weighted'))"
   ]
  },
  {
   "cell_type": "markdown",
   "metadata": {},
   "source": [
    "## 3 Cross Validation (CV)"
   ]
  },
  {
   "cell_type": "markdown",
   "metadata": {},
   "source": [
    "By partitioning the available data into **Training** and **Validation** sets, we reduce the number of samples which can be used for learning the model.\n",
    "\n",
    "By using cross-validation **(CV)** the *validation set is defined automatically by the CV algoritm. * The training set is split into k smaller sets and:\n",
    "\n",
    "* A model is trained using k-1 of the folds as training data\n",
    "* The resulting model is validated on the remaining part of the data\n",
    "\n",
    "In this example we first calculate the Mean Squared Error on the Test DatasetSet (which is a methodological error) and then we calculate again the same MSE using a KFold CV. The MSE calculated with Cv is much larger:"
   ]
  },
  {
   "cell_type": "code",
   "execution_count": 18,
   "metadata": {
    "collapsed": false
   },
   "outputs": [
    {
     "name": "stdout",
     "output_type": "stream",
     "text": [
      "MSE Calculated on the Training Set:    19.5876545263\n",
      "MSE Calculated with Cross Validation: -49.85 (+/- 80.06)\n"
     ]
    }
   ],
   "source": [
    "X, y = datasets.samples_generator.make_regression(n_samples=7,\n",
    "                                                  n_features=1, n_informative=1,\n",
    "                                                  random_state=0, noise=5)\n",
    "lin = linear_model.LinearRegression(fit_intercept=True)\n",
    "lin.fit(X, y)\n",
    "MSE = metrics.mean_squared_error(lin.predict(X), y)\n",
    "print('MSE Calculated on the Training Set:   ', MSE)\n",
    "MSE_CV = model_selection.cross_val_score(lin, X, y, cv=5, scoring='neg_mean_squared_error')\n",
    "print(\"MSE Calculated with Cross Validation: %0.2f (+/- %0.2f)\"\n",
    "      % (MSE_CV.mean(), MSE_CV.std() * 2))"
   ]
  },
  {
   "cell_type": "markdown",
   "metadata": {},
   "source": [
    "When the `cv` argument is an integer like `cv=10`, `cross_val_score` uses the `KFold` or `StratifiedKFold` strategies. It is also possible to use other cross validation strategies by passing a cross validation iterator instead, for instance we can use `model_selection.ShuffleSplit` where `n_iter` is the number of re-shuffling and splitting operations:"
   ]
  },
  {
   "cell_type": "code",
   "execution_count": 19,
   "metadata": {
    "collapsed": false
   },
   "outputs": [
    {
     "name": "stdout",
     "output_type": "stream",
     "text": [
      "MSE Calculated with Cross Validation: -31.07 (+/- 36.74)\n"
     ]
    }
   ],
   "source": [
    "n_samples = X.shape[0]\n",
    "cv_iter = model_selection.ShuffleSplit(n_samples, test_size=0.2, random_state=0)\n",
    "MSE_CV = model_selection.cross_val_score(lin, X, y, cv=cv_iter, scoring='neg_mean_squared_error')\n",
    "print(\"MSE Calculated with Cross Validation: %0.2f (+/- %0.2f)\"\n",
    "      % (MSE_CV.mean(), MSE_CV.std() * 2))"
   ]
  },
  {
   "cell_type": "markdown",
   "metadata": {},
   "source": [
    "### 3.1 Cross Validation: test many estimators on the same dataset:"
   ]
  },
  {
   "cell_type": "markdown",
   "metadata": {},
   "source": [
    "In this example *we use the \"diabetes\" dataset* to fit tree different linear models. For each model the default CV score is calculated and displayed:"
   ]
  },
  {
   "cell_type": "code",
   "execution_count": 20,
   "metadata": {
    "collapsed": false
   },
   "outputs": [
    {
     "name": "stdout",
     "output_type": "stream",
     "text": [
      "LinearRegression :  0.488702767247\n",
      "Ridge :  0.409427438303\n",
      "Lasso :  0.353800083299\n"
     ]
    }
   ],
   "source": [
    "data = datasets.load_diabetes()\n",
    "X, y = data.data, data.target\n",
    "\n",
    "for Model in [linear_model.LinearRegression,\n",
    "              linear_model.Ridge,\n",
    "              linear_model.Lasso]:\n",
    "    model = Model()\n",
    "    print(Model.__name__, ': ', model_selection.cross_val_score(model, X, y).mean())"
   ]
  },
  {
   "cell_type": "markdown",
   "metadata": {},
   "source": [
    "### 3.2 Cross Validation: test many hyperparamaters and estimators on the same dataset:"
   ]
  },
  {
   "cell_type": "markdown",
   "metadata": {},
   "source": [
    "`Lasso` and `Ridge` accept a regularization parameter `alpha`. Here we plot the CV Score for different values of alpha"
   ]
  },
  {
   "cell_type": "code",
   "execution_count": 21,
   "metadata": {
    "collapsed": false
   },
   "outputs": [
    {
     "data": {
      "text/html": [
       "\n",
       "\n",
       "    <div class=\"bk-root\">\n",
       "        <div class=\"bk-plotdiv\" id=\"8f0132c8-29fe-4c34-b99b-f19a2f896752\"></div>\n",
       "    </div>\n",
       "<script type=\"text/javascript\">\n",
       "  \n",
       "  (function(global) {\n",
       "    function now() {\n",
       "      return new Date();\n",
       "    }\n",
       "  \n",
       "    var force = false;\n",
       "  \n",
       "    if (typeof (window._bokeh_onload_callbacks) === \"undefined\" || force === true) {\n",
       "      window._bokeh_onload_callbacks = [];\n",
       "      window._bokeh_is_loading = undefined;\n",
       "    }\n",
       "  \n",
       "  \n",
       "    \n",
       "    if (typeof (window._bokeh_timeout) === \"undefined\" || force === true) {\n",
       "      window._bokeh_timeout = Date.now() + 0;\n",
       "      window._bokeh_failed_load = false;\n",
       "    }\n",
       "  \n",
       "    var NB_LOAD_WARNING = {'data': {'text/html':\n",
       "       \"<div style='background-color: #fdd'>\\n\"+\n",
       "       \"<p>\\n\"+\n",
       "       \"BokehJS does not appear to have successfully loaded. If loading BokehJS from CDN, this \\n\"+\n",
       "       \"may be due to a slow or bad network connection. Possible fixes:\\n\"+\n",
       "       \"</p>\\n\"+\n",
       "       \"<ul>\\n\"+\n",
       "       \"<li>re-rerun `output_notebook()` to attempt to load from CDN again, or</li>\\n\"+\n",
       "       \"<li>use INLINE resources instead, as so:</li>\\n\"+\n",
       "       \"</ul>\\n\"+\n",
       "       \"<code>\\n\"+\n",
       "       \"from bokeh.resources import INLINE\\n\"+\n",
       "       \"output_notebook(resources=INLINE)\\n\"+\n",
       "       \"</code>\\n\"+\n",
       "       \"</div>\"}};\n",
       "  \n",
       "    function display_loaded() {\n",
       "      if (window.Bokeh !== undefined) {\n",
       "        document.getElementById(\"8f0132c8-29fe-4c34-b99b-f19a2f896752\").textContent = \"BokehJS successfully loaded.\";\n",
       "      } else if (Date.now() < window._bokeh_timeout) {\n",
       "        setTimeout(display_loaded, 100)\n",
       "      }\n",
       "    }\n",
       "  \n",
       "    function run_callbacks() {\n",
       "      window._bokeh_onload_callbacks.forEach(function(callback) { callback() });\n",
       "      delete window._bokeh_onload_callbacks\n",
       "      console.info(\"Bokeh: all callbacks have finished\");\n",
       "    }\n",
       "  \n",
       "    function load_libs(js_urls, callback) {\n",
       "      window._bokeh_onload_callbacks.push(callback);\n",
       "      if (window._bokeh_is_loading > 0) {\n",
       "        console.log(\"Bokeh: BokehJS is being loaded, scheduling callback at\", now());\n",
       "        return null;\n",
       "      }\n",
       "      if (js_urls == null || js_urls.length === 0) {\n",
       "        run_callbacks();\n",
       "        return null;\n",
       "      }\n",
       "      console.log(\"Bokeh: BokehJS not loaded, scheduling load and callback at\", now());\n",
       "      window._bokeh_is_loading = js_urls.length;\n",
       "      for (var i = 0; i < js_urls.length; i++) {\n",
       "        var url = js_urls[i];\n",
       "        var s = document.createElement('script');\n",
       "        s.src = url;\n",
       "        s.async = false;\n",
       "        s.onreadystatechange = s.onload = function() {\n",
       "          window._bokeh_is_loading--;\n",
       "          if (window._bokeh_is_loading === 0) {\n",
       "            console.log(\"Bokeh: all BokehJS libraries loaded\");\n",
       "            run_callbacks()\n",
       "          }\n",
       "        };\n",
       "        s.onerror = function() {\n",
       "          console.warn(\"failed to load library \" + url);\n",
       "        };\n",
       "        console.log(\"Bokeh: injecting script tag for BokehJS library: \", url);\n",
       "        document.getElementsByTagName(\"head\")[0].appendChild(s);\n",
       "      }\n",
       "    };var element = document.getElementById(\"8f0132c8-29fe-4c34-b99b-f19a2f896752\");\n",
       "    if (element == null) {\n",
       "      console.log(\"Bokeh: ERROR: autoload.js configured with elementid '8f0132c8-29fe-4c34-b99b-f19a2f896752' but no matching script tag was found. \")\n",
       "      return false;\n",
       "    }\n",
       "  \n",
       "    var js_urls = [];\n",
       "  \n",
       "    var inline_js = [\n",
       "      function(Bokeh) {\n",
       "        (function() {\n",
       "          var fn = function() {\n",
       "            var docs_json = {\"403533e6-6ae7-4816-be7c-f6567bdef1d1\":{\"roots\":{\"references\":[{\"attributes\":{\"line_color\":{\"value\":\"blue\"},\"x\":{\"field\":\"x\"},\"y\":{\"field\":\"y\"}},\"id\":\"daf93056-e2a7-402a-b809-d26b29963893\",\"type\":\"Line\"},{\"attributes\":{\"line_alpha\":{\"value\":0.1},\"line_color\":{\"value\":\"#1f77b4\"},\"x\":{\"field\":\"x\"},\"y\":{\"field\":\"y\"}},\"id\":\"7e508130-804b-4a8c-9a57-bd1ff70b3e74\",\"type\":\"Line\"},{\"attributes\":{\"plot\":{\"id\":\"6bdf95ab-160c-4f28-b255-13b1a2e3fe64\",\"subtype\":\"Figure\",\"type\":\"Plot\"}},\"id\":\"4d2f6b0d-b186-4142-a764-eda73f97d7cc\",\"type\":\"HelpTool\"},{\"attributes\":{\"data_source\":{\"id\":\"269d0db1-b2e4-4220-a0a3-f798b1d690d7\",\"type\":\"ColumnDataSource\"},\"glyph\":{\"id\":\"c0ebc752-d775-445e-aa03-00648980a979\",\"type\":\"Line\"},\"hover_glyph\":null,\"nonselection_glyph\":{\"id\":\"7e508130-804b-4a8c-9a57-bd1ff70b3e74\",\"type\":\"Line\"},\"selection_glyph\":null},\"id\":\"04fdda03-1f64-4f75-82fc-0b7760197b1c\",\"type\":\"GlyphRenderer\"},{\"attributes\":{\"callback\":null,\"end\":0.1,\"start\":0.0001},\"id\":\"09662a71-20f0-436b-8b17-8fd2e3f1877b\",\"type\":\"Range1d\"},{\"attributes\":{\"below\":[{\"id\":\"9d57cd5b-5ed1-44d9-838d-da835ee69d3e\",\"type\":\"LogAxis\"}],\"left\":[{\"id\":\"b6d6eebf-efde-4ea9-8d4a-843792771bf8\",\"type\":\"LinearAxis\"}],\"plot_height\":300,\"plot_width\":700,\"renderers\":[{\"id\":\"9d57cd5b-5ed1-44d9-838d-da835ee69d3e\",\"type\":\"LogAxis\"},{\"id\":\"40f71a9e-4c19-4d8a-bbd9-d32de27b6452\",\"type\":\"Grid\"},{\"id\":\"b6d6eebf-efde-4ea9-8d4a-843792771bf8\",\"type\":\"LinearAxis\"},{\"id\":\"ad405d6c-a105-4c02-a6c9-58cec82cfb6b\",\"type\":\"Grid\"},{\"id\":\"b6b506f4-217e-413a-936f-5aa453502ed1\",\"type\":\"BoxAnnotation\"},{\"id\":\"3f2be557-ee2d-45b9-916a-a53e8394b5ef\",\"type\":\"Legend\"},{\"id\":\"3d42162b-b84a-45bd-81e7-1c7368897f63\",\"type\":\"GlyphRenderer\"},{\"id\":\"04fdda03-1f64-4f75-82fc-0b7760197b1c\",\"type\":\"GlyphRenderer\"}],\"title\":{\"id\":\"3863d644-a85c-4a8a-a4e5-511c2e14eb51\",\"type\":\"Title\"},\"tool_events\":{\"id\":\"d46c5e77-7404-4cfc-8bed-656c4b6182c4\",\"type\":\"ToolEvents\"},\"toolbar\":{\"id\":\"5ca43d0b-b849-4be3-8975-92d05707128c\",\"type\":\"Toolbar\"},\"x_mapper_type\":\"log\",\"x_range\":{\"id\":\"09662a71-20f0-436b-8b17-8fd2e3f1877b\",\"type\":\"Range1d\"},\"y_range\":{\"id\":\"8609babf-499f-4bb2-8e88-d644a9a83638\",\"type\":\"DataRange1d\"}},\"id\":\"6bdf95ab-160c-4f28-b255-13b1a2e3fe64\",\"subtype\":\"Figure\",\"type\":\"Plot\"},{\"attributes\":{\"label\":{\"value\":\"Lasso\"},\"renderers\":[{\"id\":\"04fdda03-1f64-4f75-82fc-0b7760197b1c\",\"type\":\"GlyphRenderer\"}]},\"id\":\"f21be813-4432-4a6f-ad09-7ce2640da49f\",\"type\":\"LegendItem\"},{\"attributes\":{\"items\":[{\"id\":\"a61c1634-1ff8-48d4-90a3-f02d55a1305c\",\"type\":\"LegendItem\"},{\"id\":\"f21be813-4432-4a6f-ad09-7ce2640da49f\",\"type\":\"LegendItem\"}],\"location\":\"bottom_left\",\"plot\":{\"id\":\"6bdf95ab-160c-4f28-b255-13b1a2e3fe64\",\"subtype\":\"Figure\",\"type\":\"Plot\"}},\"id\":\"3f2be557-ee2d-45b9-916a-a53e8394b5ef\",\"type\":\"Legend\"},{\"attributes\":{\"overlay\":{\"id\":\"b6b506f4-217e-413a-936f-5aa453502ed1\",\"type\":\"BoxAnnotation\"},\"plot\":{\"id\":\"6bdf95ab-160c-4f28-b255-13b1a2e3fe64\",\"subtype\":\"Figure\",\"type\":\"Plot\"}},\"id\":\"192524a0-bc49-48f2-a3af-975161e6f8f7\",\"type\":\"BoxZoomTool\"},{\"attributes\":{},\"id\":\"dd568a00-1fb1-4d9d-be30-a8549871aaf7\",\"type\":\"BasicTicker\"},{\"attributes\":{},\"id\":\"d46c5e77-7404-4cfc-8bed-656c4b6182c4\",\"type\":\"ToolEvents\"},{\"attributes\":{\"num_minor_ticks\":10},\"id\":\"da5d2dd7-359a-4128-99c6-7febd9f8efd2\",\"type\":\"LogTicker\"},{\"attributes\":{\"active_drag\":\"auto\",\"active_scroll\":\"auto\",\"active_tap\":\"auto\",\"tools\":[{\"id\":\"0e05ff21-b0e4-477f-a940-be42a1be9b60\",\"type\":\"PanTool\"},{\"id\":\"3cb8397b-ce69-4ca9-b9fc-f711d8d9cf46\",\"type\":\"WheelZoomTool\"},{\"id\":\"192524a0-bc49-48f2-a3af-975161e6f8f7\",\"type\":\"BoxZoomTool\"},{\"id\":\"1e3ca6d1-9a1f-494c-9bad-22db3da5db42\",\"type\":\"SaveTool\"},{\"id\":\"e08bdaf6-a38a-4c2c-ad81-32630f093641\",\"type\":\"ResetTool\"},{\"id\":\"4d2f6b0d-b186-4142-a764-eda73f97d7cc\",\"type\":\"HelpTool\"}]},\"id\":\"5ca43d0b-b849-4be3-8975-92d05707128c\",\"type\":\"Toolbar\"},{\"attributes\":{},\"id\":\"d4655042-4935-4655-b7f3-9466f3f44678\",\"type\":\"BasicTickFormatter\"},{\"attributes\":{\"plot\":null,\"text\":\"Alpha sensitiveness on different models\"},\"id\":\"3863d644-a85c-4a8a-a4e5-511c2e14eb51\",\"type\":\"Title\"},{\"attributes\":{\"plot\":{\"id\":\"6bdf95ab-160c-4f28-b255-13b1a2e3fe64\",\"subtype\":\"Figure\",\"type\":\"Plot\"},\"ticker\":{\"id\":\"da5d2dd7-359a-4128-99c6-7febd9f8efd2\",\"type\":\"LogTicker\"}},\"id\":\"40f71a9e-4c19-4d8a-bbd9-d32de27b6452\",\"type\":\"Grid\"},{\"attributes\":{\"data_source\":{\"id\":\"4f1295d8-f3eb-425a-a302-c8e52a7c0ef1\",\"type\":\"ColumnDataSource\"},\"glyph\":{\"id\":\"daf93056-e2a7-402a-b809-d26b29963893\",\"type\":\"Line\"},\"hover_glyph\":null,\"nonselection_glyph\":{\"id\":\"5eefc227-1f8a-41f6-9c04-1ab736546b5f\",\"type\":\"Line\"},\"selection_glyph\":null},\"id\":\"3d42162b-b84a-45bd-81e7-1c7368897f63\",\"type\":\"GlyphRenderer\"},{\"attributes\":{\"ticker\":null},\"id\":\"7b8450f9-8975-4ff8-959f-f129c906300b\",\"type\":\"LogTickFormatter\"},{\"attributes\":{\"callback\":null},\"id\":\"8609babf-499f-4bb2-8e88-d644a9a83638\",\"type\":\"DataRange1d\"},{\"attributes\":{\"plot\":{\"id\":\"6bdf95ab-160c-4f28-b255-13b1a2e3fe64\",\"subtype\":\"Figure\",\"type\":\"Plot\"}},\"id\":\"0e05ff21-b0e4-477f-a940-be42a1be9b60\",\"type\":\"PanTool\"},{\"attributes\":{\"label\":{\"value\":\"Ridge\"},\"renderers\":[{\"id\":\"3d42162b-b84a-45bd-81e7-1c7368897f63\",\"type\":\"GlyphRenderer\"}]},\"id\":\"a61c1634-1ff8-48d4-90a3-f02d55a1305c\",\"type\":\"LegendItem\"},{\"attributes\":{\"plot\":{\"id\":\"6bdf95ab-160c-4f28-b255-13b1a2e3fe64\",\"subtype\":\"Figure\",\"type\":\"Plot\"}},\"id\":\"1e3ca6d1-9a1f-494c-9bad-22db3da5db42\",\"type\":\"SaveTool\"},{\"attributes\":{\"plot\":{\"id\":\"6bdf95ab-160c-4f28-b255-13b1a2e3fe64\",\"subtype\":\"Figure\",\"type\":\"Plot\"}},\"id\":\"e08bdaf6-a38a-4c2c-ad81-32630f093641\",\"type\":\"ResetTool\"},{\"attributes\":{\"bottom_units\":\"screen\",\"fill_alpha\":{\"value\":0.5},\"fill_color\":{\"value\":\"lightgrey\"},\"left_units\":\"screen\",\"level\":\"overlay\",\"line_alpha\":{\"value\":1.0},\"line_color\":{\"value\":\"black\"},\"line_dash\":[4,4],\"line_width\":{\"value\":2},\"plot\":null,\"render_mode\":\"css\",\"right_units\":\"screen\",\"top_units\":\"screen\"},\"id\":\"b6b506f4-217e-413a-936f-5aa453502ed1\",\"type\":\"BoxAnnotation\"},{\"attributes\":{\"plot\":{\"id\":\"6bdf95ab-160c-4f28-b255-13b1a2e3fe64\",\"subtype\":\"Figure\",\"type\":\"Plot\"}},\"id\":\"3cb8397b-ce69-4ca9-b9fc-f711d8d9cf46\",\"type\":\"WheelZoomTool\"},{\"attributes\":{\"formatter\":{\"id\":\"7b8450f9-8975-4ff8-959f-f129c906300b\",\"type\":\"LogTickFormatter\"},\"plot\":{\"id\":\"6bdf95ab-160c-4f28-b255-13b1a2e3fe64\",\"subtype\":\"Figure\",\"type\":\"Plot\"},\"ticker\":{\"id\":\"da5d2dd7-359a-4128-99c6-7febd9f8efd2\",\"type\":\"LogTicker\"}},\"id\":\"9d57cd5b-5ed1-44d9-838d-da835ee69d3e\",\"type\":\"LogAxis\"},{\"attributes\":{\"formatter\":{\"id\":\"d4655042-4935-4655-b7f3-9466f3f44678\",\"type\":\"BasicTickFormatter\"},\"plot\":{\"id\":\"6bdf95ab-160c-4f28-b255-13b1a2e3fe64\",\"subtype\":\"Figure\",\"type\":\"Plot\"},\"ticker\":{\"id\":\"dd568a00-1fb1-4d9d-be30-a8549871aaf7\",\"type\":\"BasicTicker\"}},\"id\":\"b6d6eebf-efde-4ea9-8d4a-843792771bf8\",\"type\":\"LinearAxis\"},{\"attributes\":{\"dimension\":1,\"plot\":{\"id\":\"6bdf95ab-160c-4f28-b255-13b1a2e3fe64\",\"subtype\":\"Figure\",\"type\":\"Plot\"},\"ticker\":{\"id\":\"dd568a00-1fb1-4d9d-be30-a8549871aaf7\",\"type\":\"BasicTicker\"}},\"id\":\"ad405d6c-a105-4c02-a6c9-58cec82cfb6b\",\"type\":\"Grid\"},{\"attributes\":{\"callback\":null,\"column_names\":[\"y\",\"x\"],\"data\":{\"x\":{\"__ndarray__\":\"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\",\"dtype\":\"float64\",\"shape\":[200]},\"y\":[0.4823198719804238,0.48231991884559233,0.48231996700377405,0.48232001435008465,0.4823200641088565,0.48232011438925626,0.4823201651660526,0.48232021628554095,0.4823202688235386,0.48232031506480577,0.4823203646383532,0.4823204159736383,0.48232046553209856,0.482320516352849,0.4823205652553114,0.4823206147625639,0.4823206609496345,0.48232070830886675,0.4823207512358609,0.482320797206757,0.4823208395067294,0.48232086987668144,0.4823209035572457,0.48232093772119244,0.4823209701433882,0.4823209937028287,0.4823210121764812,0.48232102938033955,0.4823210383036353,0.4823210382246398,0.4823210367267542,0.48232102291351353,0.48232100188189336,0.4823209750026871,0.4823209277652788,0.48232087933243156,0.48232080072971284,0.4823207262236314,0.48232062869260883,0.4823205123628167,0.48232038389357185,0.48232023409844027,0.4823200606957142,0.4823198630682636,0.4823196435370619,0.48231939042330474,0.4823191108923064,0.48231878968779507,0.48231843884325176,0.48231805021518487,0.482317618820265,0.48231712705368307,0.48231660577889623,0.4823160117270618,0.4823153648336954,0.48231465857648625,0.4823138863846255,0.48231304096732464,0.4823121039781089,0.48231108218033364,0.48230996012143973,0.4823087455313269,0.48230741896421864,0.482305978413876,0.482304406454792,0.4823027044475654,0.48230545853492474,0.48231236488885987,0.48232198419781025,0.48233192592164953,0.4823420813307693,0.48235254829327623,0.48236328171946086,0.48237432164243293,0.48238559388143454,0.48239721511385414,0.48240912808098085,0.4824213411520935,0.4824338789446873,0.48244661269627176,0.48245976034662946,0.4824682457515436,0.48247049879835613,0.4824726143270068,0.48247456686107026,0.48247632449469985,0.4824778429299572,0.48247920875228684,0.4824802464699305,0.4824810677509467,0.48248142894293655,0.4824815421097517,0.48248688644729876,0.48249238411036577,0.48249777820428585,0.48250292043971843,0.4825077757035716,0.4825123092297484,0.4825165537139525,0.4825202985083378,0.4825236486196308,0.48252651183548184,0.482528745396613,0.48253037056428844,0.48253113755992205,0.4825312510779879,0.48252725863151724,0.482519124511132,0.4825095818562354,0.4824991672498397,0.482487143299243,0.4824732775368445,0.48245738377572556,0.4824355164872955,0.48238751971959815,0.48233330431589894,0.4822766797802669,0.4822171802659293,0.48215421786198903,0.4820878622482356,0.48201796066394687,0.4819445464894012,0.4818668451908086,0.4817850519347996,0.48169878203634753,0.4816077538268825,0.4815119907254619,0.48141173238577817,0.48131684493045856,0.48125683521420565,0.4812150218369049,0.48116892423598606,0.4811179249238876,0.4810983464073743,0.4810991293643679,0.48111933133830787,0.48115650678595134,0.4811802956093871,0.4811998162709455,0.4812176290120428,0.48123329144705396,0.48124695209799845,0.4812844503876915,0.48134172073405673,0.4814039306194536,0.48146432253306076,0.48152029004309665,0.48157635653669484,0.4816320306416987,0.481687577177062,0.481717153147682,0.4817349085093469,0.4817519852888578,0.4817686187602728,0.48178530060589253,0.4818002392200416,0.4818144922628632,0.4818275421949744,0.481840393524093,0.4818499462414998,0.4818827756845915,0.4819158961621567,0.48194828087696584,0.4819797313850289,0.4820098554769894,0.482038668903985,0.48206586949108116,0.48208595408295735,0.4820995110582837,0.4821082651529761,0.4821152713189608,0.48211654452643826,0.48211416669872625,0.48210766275813344,0.4820967786702234,0.48208085909182874,0.4820630346952136,0.48204909514844074,0.4820428973029266,0.4820423170478307,0.48203535099700207,0.48202268559982053,0.48200295920617026,0.4819759672586835,0.4819411629935084,0.4818878476797265,0.48181757338938336,0.48173951676780763,0.4816510140889866,0.4815350476045719,0.48140495190257815,0.4812627586024198,0.4811058827242256,0.4809344025096175,0.48074660077664505,0.4805416840899059,0.48031758713672235,0.4800731162349868,0.4798063836521422,0.4795161392064994]}},\"id\":\"269d0db1-b2e4-4220-a0a3-f798b1d690d7\",\"type\":\"ColumnDataSource\"},{\"attributes\":{\"line_color\":{\"value\":\"green\"},\"x\":{\"field\":\"x\"},\"y\":{\"field\":\"y\"}},\"id\":\"c0ebc752-d775-445e-aa03-00648980a979\",\"type\":\"Line\"},{\"attributes\":{\"line_alpha\":{\"value\":0.1},\"line_color\":{\"value\":\"#1f77b4\"},\"x\":{\"field\":\"x\"},\"y\":{\"field\":\"y\"}},\"id\":\"5eefc227-1f8a-41f6-9c04-1ab736546b5f\",\"type\":\"Line\"},{\"attributes\":{\"callback\":null,\"column_names\":[\"y\",\"x\"],\"data\":{\"x\":{\"__ndarray__\":\"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\",\"dtype\":\"float64\",\"shape\":[200]},\"y\":[0.4823231384163484,0.48232328486322984,0.4823234343437865,0.48232358681895865,0.48232374223859775,0.4823239005404606,0.48232406164913294,0.48232422547487774,0.48232439191240284,0.4823245608395461,0.4823247321158702,0.4823249055811646,0.48232508105384736,0.48232525832926376,0.4823254371778744,0.482325617343328,0.48232579854041296,0.4823259804528813,0.4823261627311388,0.48232634498979665,0.48232652680507615,0.48232670771205993,0.482326887201786,0.48232706471817466,0.48232723965478363,0.4823274113513851,0.4823275790903562,0.4823277420928795,0.48232789951494504,0.48232805044314964,0.48232819389028714,0.48232832879072374,0.482328453995556,0.4823285682675455,0.48232867027582743,0.48232875859039037,0.48232883167632623,0.4823288878878488,0.4823289254620818,0.48232894251261815,0.4823289370228556,0.48232890683911045,0.4823288496635187,0.482328763046734,0.48232864438043127,0.48232849088963226,0.482328299624867,0.4823280674541938,0.4823277910550961,0.4823274669062859,0.4823270912794409,0.48232666023091025,0.482326169593425,0.48232561496785814,0.48232499171507665,0.48232429494794216,0.4823235195235121,0.48232266003550733,0.48232171080710967,0.48232066588416717,0.48231951902888,0.48231826371405706,0.48231689311802955,0.48231540012031865,0.4823137772981596,0.48231201692398845,0.4823101109640035,0.48230805107791924,0.4823058286200331,0.4823034346417322,0.4823008598955666,0.4822980948410214,0.4822951296521204,0.48229195422699433,0.4822885581995452,0.48228493095334,0.48228106163785966,0.4822769391872262,0.4822725523415256,0.4822678896708334,0.48226293960204325,0.4822576904485816,0.48225213044308307,0.48224624777308234,0.48224003061975795,0.4822334671997467,0.4822265458100225,0.48221925487580786,0.48221158300146055,0.4822035190242513,0.48219505207091035,0.4821861716167987,0.48217686754751715,0.48216713022273777,0.4821569505420043,0.4821463200122128,0.48213523081644905,0.48212367588382155,0.48211164895989966,0.4820991446773282,0.4820861586261609,0.4820726874234298,0.4820587287814383,0.482044281574243,0.4820293459017761,0.4820139231510435,0.4819980160538243,0.4819816287402941,0.48196476678799993,0.48194743726561773,0.48192964877093897,0.48191141146255206,0.4818927370847114,0.48187363898491586,0.48185413212375555,0.4818342330766311,0.48181396002699295,0.48179333275080094,0.48177237259196176,0.4817511024285569,0.48172954662973666,0.48170773100321773,0.48168568273338447,0.4816634303100571,0.48164100344805105,0.48161843299771423,0.4815957508466827,0.48157298981314955,0.4815501835309945,0.48152736632716076,0.4815045730917055,0.4814818391409861,0.48145920007446275,0.48143669162562325,0.4814143495075406,0.4813922092535835,0.48137030605378905,0.48134867458740355,0.48132734885206985,0.48130636199012305,0.48128574611241814,0.48126553212007794,0.4812457495245046,0.48122642626595413,0.4812075885309107,0.48118926056845435,0.48117146450574316,0.4811542201626783,0.48113754486575316,0.4811214532610223,0.4811059571260648,0.4810910651807472,0.4810767828965325,0.481063112304016,0.48105005179830995,0.4810375959418403,0.481025735264068,0.481014456057587,0.48100374017001346,0.48099356479102945,0.4809839022339101,0.48097471971082156,0.4809659791011561,0.48095763671213776,0.48094964303091753,0.4809419424673611,0.4809344730867252,0.4809271663314171,0.48091994673103555,0.4809127315999054,0.480905430721333,0.48089794601783986,0.4808901712066616,0.48088199143984395,0.4808732829283164,0.48086391254938166,0.48085373743712934,0.4808426045553581,0.48083035025267806,0.48081679979956304,0.4808017669072296,0.4807850532283398,0.48076644783965394,0.48074572670690047,0.48072265213228516,0.48069697218522467,0.48066842011706595,0.4806367137607433,0.48060155491652,0.48056262872517913,0.48051960303023994,0.4804721277310173,0.4804198341285775,0.48036233426689295,0.48029922027175764,0.48023006369028814,0.4801544148341006,0.4800718021295253,0.4799817314784969,0.47988368563401884]}},\"id\":\"4f1295d8-f3eb-425a-a302-c8e52a7c0ef1\",\"type\":\"ColumnDataSource\"}],\"root_ids\":[\"6bdf95ab-160c-4f28-b255-13b1a2e3fe64\"]},\"title\":\"Bokeh Application\",\"version\":\"0.12.4\"}};\n",
       "            var render_items = [{\"docid\":\"403533e6-6ae7-4816-be7c-f6567bdef1d1\",\"elementid\":\"8f0132c8-29fe-4c34-b99b-f19a2f896752\",\"modelid\":\"6bdf95ab-160c-4f28-b255-13b1a2e3fe64\"}];\n",
       "            \n",
       "            Bokeh.embed.embed_items(docs_json, render_items);\n",
       "          };\n",
       "          if (document.readyState != \"loading\") fn();\n",
       "          else document.addEventListener(\"DOMContentLoaded\", fn);\n",
       "        })();\n",
       "      },\n",
       "      function(Bokeh) {\n",
       "      }\n",
       "    ];\n",
       "  \n",
       "    function run_inline_js() {\n",
       "      \n",
       "      if ((window.Bokeh !== undefined) || (force === true)) {\n",
       "        for (var i = 0; i < inline_js.length; i++) {\n",
       "          inline_js[i](window.Bokeh);\n",
       "        }if (force === true) {\n",
       "          display_loaded();\n",
       "        }} else if (Date.now() < window._bokeh_timeout) {\n",
       "        setTimeout(run_inline_js, 100);\n",
       "      } else if (!window._bokeh_failed_load) {\n",
       "        console.log(\"Bokeh: BokehJS failed to load within specified timeout.\");\n",
       "        window._bokeh_failed_load = true;\n",
       "      } else if (force !== true) {\n",
       "        var cell = $(document.getElementById(\"8f0132c8-29fe-4c34-b99b-f19a2f896752\")).parents('.cell').data().cell;\n",
       "        cell.output_area.append_execute_result(NB_LOAD_WARNING)\n",
       "      }\n",
       "  \n",
       "    }\n",
       "  \n",
       "    if (window._bokeh_is_loading === 0) {\n",
       "      console.log(\"Bokeh: BokehJS loaded, going straight to plotting\");\n",
       "      run_inline_js();\n",
       "    } else {\n",
       "      load_libs(js_urls, function() {\n",
       "        console.log(\"Bokeh: BokehJS plotting callback run at\", now());\n",
       "        run_inline_js();\n",
       "      });\n",
       "    }\n",
       "  }(this));\n",
       "</script>"
      ]
     },
     "metadata": {},
     "output_type": "display_data"
    }
   ],
   "source": [
    "from bokeh.models.axes import LogAxis\n",
    "\n",
    "alphas = np.logspace(-4, -1, 200)\n",
    "fig = bk.figure(title='Alpha sensitiveness on different models',\n",
    "                plot_width=700, plot_height=300,\n",
    "                x_axis_type='log', \n",
    "                x_range=(min(alphas), max(alphas)))\n",
    "\n",
    "for Model, color in [(linear_model.Ridge, 'blue'), (linear_model.Lasso, 'green')]:\n",
    "    scores = [model_selection.cross_val_score(Model(alpha=a), X, y, cv=5).mean()\n",
    "              for a in alphas]\n",
    "    fig.line(alphas, scores, line_color=color, legend=Model.__name__)\n",
    "\n",
    "fig.legend.location = 'bottom_left'\n",
    "bk.show(fig)"
   ]
  },
  {
   "cell_type": "markdown",
   "metadata": {},
   "source": [
    "### 3.3 Model specific Cross Validation:"
   ]
  },
  {
   "cell_type": "markdown",
   "metadata": {},
   "source": [
    "Some models can fit data for a range of parameters almost as efficiently as fitting for a single parameter. The most common parameter amenable to this strategy is the strength of the regularizer. In this case we say that we compute the regularization path of the estimator.\n",
    "\n",
    "This is a particular case of what we are going to see in the next paragraph: **Grid Search**.\n",
    "\n",
    "Model Specific Cross Validation is supported by the following models:\n",
    "\n",
    "* **RidgeCV**\n",
    "* **RidgeClassifierCV**\n",
    "* **LarsCV**\n",
    "* **LassoLarsCV**\n",
    "* **LassoCV**\n",
    "* **ElasticNetCV**"
   ]
  },
  {
   "cell_type": "code",
   "execution_count": 22,
   "metadata": {
    "collapsed": false
   },
   "outputs": [
    {
     "name": "stdout",
     "output_type": "stream",
     "text": [
      "RidgeCV :  0.000373993730248\n",
      "LassoCV :  0.00382749447852\n"
     ]
    }
   ],
   "source": [
    "for Model in [linear_model.RidgeCV, linear_model.LassoCV]:\n",
    "    model = Model(alphas=alphas, cv=5).fit(X, y)\n",
    "    print(Model.__name__, ': ', model.alpha_)"
   ]
  },
  {
   "cell_type": "markdown",
   "metadata": {},
   "source": [
    "### 3.4 Cross-validation iterators"
   ]
  },
  {
   "cell_type": "markdown",
   "metadata": {},
   "source": [
    "* **K-fold** - divide all samples in *K* groups, if *K=n* it is equivalent to leave-one-out.\n",
    "* **Statified K-fold** - each set contains the same prercentage of the target classes as the whole set\n",
    "* **Leave-One-Out (LOO)** - all samples except one\n",
    "* **Leave-P-Out (LPO)** - create all possible training sets by removing *p* samples from the whole set\n",
    "* **Leave-One-Label-Out (LOLO)** - holds out the samples according to a third-party provided label\n",
    "* **ShuffleSplit** - shuffles than split data in train and test sets\n",
    "* **StratifiedShuffleSplit** - ShuffleSplits by preserving percentage\n",
    "* **Bootstrap** - generate independent splits and then resample with replacement each split"
   ]
  },
  {
   "cell_type": "code",
   "execution_count": 23,
   "metadata": {
    "collapsed": false
   },
   "outputs": [],
   "source": [
    "X = np.arange(20).reshape(10,2)\n",
    "y = np.arange(10)"
   ]
  },
  {
   "cell_type": "markdown",
   "metadata": {},
   "source": [
    "**KFold** split dataset into k consecutive folds (without shuffling):"
   ]
  },
  {
   "cell_type": "code",
   "execution_count": 24,
   "metadata": {
    "collapsed": false
   },
   "outputs": [
    {
     "name": "stdout",
     "output_type": "stream",
     "text": [
      "[2 3 4 5 6 7 8 9] [0 1]\n",
      "[0 1 4 5 6 7 8 9] [2 3]\n",
      "[0 1 2 3 6 7 8 9] [4 5]\n",
      "[0 1 2 3 4 5 8 9] [6 7]\n",
      "[0 1 2 3 4 5 6 7] [8 9]\n"
     ]
    }
   ],
   "source": [
    "kf = model_selection.KFold(n_splits=5)\n",
    "for train, test in kf.split(X):\n",
    "    print(train, test)"
   ]
  },
  {
   "cell_type": "markdown",
   "metadata": {},
   "source": [
    "**ShuffleSplit** do not guarantee that all folds will be different:"
   ]
  },
  {
   "cell_type": "code",
   "execution_count": 25,
   "metadata": {
    "collapsed": false
   },
   "outputs": [
    {
     "name": "stdout",
     "output_type": "stream",
     "text": [
      "[2 5 0 8 7 1 4 6] [9 3]\n",
      "[3 5 0 7 9 6 1 4] [8 2]\n",
      "[1 9 0 7 3 5 6 2] [8 4]\n",
      "[5 9 2 7 0 6 4 3] [8 1]\n",
      "[9 7 8 4 5 2 1 3] [0 6]\n"
     ]
    }
   ],
   "source": [
    "ss = model_selection.ShuffleSplit(n_splits=5, test_size=0.2)\n",
    "for train, test in ss.split(X):\n",
    "    print(train, test)"
   ]
  },
  {
   "cell_type": "markdown",
   "metadata": {},
   "source": [
    "**Bootstrap** example:"
   ]
  },
  {
   "cell_type": "code",
   "execution_count": 26,
   "metadata": {
    "collapsed": false
   },
   "outputs": [
    {
     "name": "stdout",
     "output_type": "stream",
     "text": [
      "[1 2 3 4 5 6 7 8 9] [0]\n",
      "[0 2 3 4 5 6 7 8 9] [1]\n",
      "[0 1 3 4 5 6 7 8 9] [2]\n",
      "[0 1 2 4 5 6 7 8 9] [3]\n",
      "[0 1 2 3 5 6 7 8 9] [4]\n",
      "[0 1 2 3 4 6 7 8 9] [5]\n",
      "[0 1 2 3 4 5 7 8 9] [6]\n",
      "[0 1 2 3 4 5 6 8 9] [7]\n",
      "[0 1 2 3 4 5 6 7 9] [8]\n",
      "[0 1 2 3 4 5 6 7 8] [9]\n"
     ]
    }
   ],
   "source": [
    "bs = model_selection.LeaveOneOut()\n",
    "for train, test in bs.split(X):\n",
    "    print(train, test)"
   ]
  },
  {
   "cell_type": "markdown",
   "metadata": {},
   "source": [
    "## 4 Grid Search: Searching for estimator hyperparameters"
   ]
  },
  {
   "cell_type": "markdown",
   "metadata": {},
   "source": [
    "`GridSearchCV` can optimize any parameter provided by `estimator.get_params()` by exhaustively fitting the model with any parameter combination.\n",
    "\n",
    "When evaluating different settings (“hyperparameters”) for estimators.\n",
    "\n",
    "`GridSearchCV` will optimize the hyperparameters on the **TRAINING set** (whereas the **VALIDATION set** is generated by CV). After the optimization has been done, the performances of the estimator can be evaluated on a third set called **TEST set**:"
   ]
  },
  {
   "cell_type": "markdown",
   "metadata": {},
   "source": [
    "### 4.1 Exhaustive Grid Search"
   ]
  },
  {
   "cell_type": "markdown",
   "metadata": {},
   "source": [
    "We'll pass to `GridSearchCV` a dictionary of parameters containing a list of hyperparameters to be searched. In this case we set `verbose=2` to see an output about all the searches done by the algorithm:"
   ]
  },
  {
   "cell_type": "code",
   "execution_count": 32,
   "metadata": {
    "collapsed": false
   },
   "outputs": [
    {
     "name": "stdout",
     "output_type": "stream",
     "text": [
      "Fitting 2 folds for each of 4 candidates, totalling 8 fits\n",
      "[CV] kernel=linear, C=1 ..............................................\n",
      "[CV] kernel=linear, C=1 ..............................................\n",
      "[CV] kernel=linear, C=10 .............................................\n",
      "[CV] kernel=linear, C=10 .............................................\n",
      "[CV] gamma=0.1, kernel=rbf, C=2 ......................................\n",
      "[CV] gamma=0.1, kernel=rbf, C=2 ......................................\n",
      "[CV] gamma=0.01, kernel=rbf, C=2 .....................................\n",
      "[CV] gamma=0.01, kernel=rbf, C=2 .....................................\n",
      "[CV] ............................... kernel=linear, C=1, total=   0.0s\n",
      "[CV] ............................... kernel=linear, C=1, total=   0.0s\n",
      "[CV] .............................. kernel=linear, C=10, total=   0.0s\n",
      "[CV] ....................... gamma=0.1, kernel=rbf, C=2, total=   0.0s\n",
      "[CV] ...................... gamma=0.01, kernel=rbf, C=2, total=   0.0s\n",
      "[CV] .............................. kernel=linear, C=10, total=   0.0s\n",
      "[CV] ...................... gamma=0.01, kernel=rbf, C=2, total=   0.0s\n",
      "[CV] ....................... gamma=0.1, kernel=rbf, C=2, total=   0.0s\n"
     ]
    },
    {
     "name": "stderr",
     "output_type": "stream",
     "text": [
      "[Parallel(n_jobs=-1)]: Done   5 out of   8 | elapsed:    0.0s remaining:    0.0s\n",
      "[Parallel(n_jobs=-1)]: Done   8 out of   8 | elapsed:    0.0s finished\n"
     ]
    },
    {
     "data": {
      "text/plain": [
       "GridSearchCV(cv=2, error_score='raise',\n",
       "       estimator=SVC(C=1.0, cache_size=200, class_weight=None, coef0=0.0,\n",
       "  decision_function_shape=None, degree=3, gamma='auto', kernel='rbf',\n",
       "  max_iter=-1, probability=False, random_state=None, shrinking=True,\n",
       "  tol=0.001, verbose=False),\n",
       "       fit_params={}, iid=True, n_jobs=-1,\n",
       "       param_grid=[{'kernel': ['linear'], 'C': [1, 10]}, {'gamma': [0.1, 0.01], 'kernel': ['rbf'], 'C': [2]}],\n",
       "       pre_dispatch='2*n_jobs', refit=True, return_train_score=True,\n",
       "       scoring=None, verbose=2)"
      ]
     },
     "execution_count": 32,
     "metadata": {},
     "output_type": "execute_result"
    }
   ],
   "source": [
    "from sklearn import svm\n",
    "# Standardize the data\n",
    "iris = datasets.load_iris()\n",
    "scaler = preprocessing.StandardScaler(copy=True, with_mean=True, with_std=True)\n",
    "X = scaler.fit_transform(iris.data)\n",
    "# Keep out the Test Set\n",
    "X_tr, X_test, y_tr, y_test = model_selection.train_test_split(X, iris.target,\n",
    "                                                               test_size=0.30, random_state=0)\n",
    "# Define the Search Grid\n",
    "param_grid = [{'C': [1, 10], 'kernel': ['linear']},\n",
    "              {'C': [2], 'gamma': [0.1, 0.01], 'kernel': ['rbf']}]\n",
    "# GridSearchCV\n",
    "clf = model_selection.GridSearchCV(svm.SVC(), param_grid, cv=2, n_jobs=-1, verbose=2)\n",
    "clf.fit(X_tr, y_tr)"
   ]
  },
  {
   "cell_type": "markdown",
   "metadata": {},
   "source": [
    "**TODO -** Create a Surf Plot with the accuracy values found on an hyperparameter grid using the .grid_scores_ data"
   ]
  },
  {
   "cell_type": "code",
   "execution_count": 39,
   "metadata": {
    "collapsed": false
   },
   "outputs": [
    {
     "name": "stdout",
     "output_type": "stream",
     "text": [
      "rank_test_score: [1 3 1 4]\n",
      "param_gamma: [-- -- 0.1 0.01]\n",
      "std_fit_time: [  1.70469284e-04   1.60217285e-04   3.76224518e-04   4.50611115e-05]\n",
      "split1_test_score: [ 0.94230769  0.94230769  0.96153846  0.88461538]\n",
      "std_train_score: [ 0.00979681  0.00961538  0.00018142  0.00852685]\n",
      "std_test_score: [ 0.00997778  0.00054424  0.00907071  0.01777858]\n",
      "split0_train_score: [ 0.96153846  0.98076923  0.98076923  0.90384615]\n",
      "params: ({'kernel': 'linear', 'C': 1}, {'kernel': 'linear', 'C': 10}, {'gamma': 0.1, 'kernel': 'rbf', 'C': 2}, {'gamma': 0.01, 'kernel': 'rbf', 'C': 2})\n",
      "mean_fit_time: [ 0.00176406  0.00157309  0.00150323  0.00172424]\n",
      "mean_test_score: [ 0.95238095  0.94285714  0.95238095  0.86666667]\n",
      "param_C: [1 10 2 2]\n",
      "split0_test_score: [ 0.96226415  0.94339623  0.94339623  0.8490566 ]\n",
      "param_kernel: ['linear' 'linear' 'rbf' 'rbf']\n",
      "mean_score_time: [ 0.00065899  0.0005796   0.00055051  0.00071001]\n",
      "split1_train_score: [ 0.98113208  1.          0.98113208  0.88679245]\n",
      "std_score_time: [  4.76837158e-07   6.43730164e-06   1.60932541e-04   3.09944153e-06]\n",
      "mean_train_score: [ 0.97133527  0.99038462  0.98095065  0.8953193 ]\n"
     ]
    }
   ],
   "source": [
    "for item in clf.cv_results_:\n",
    "    print('{}: {}'.format(item, clf.cv_results_[item]))"
   ]
  },
  {
   "cell_type": "markdown",
   "metadata": {},
   "source": [
    "Then we can check the accuracy on the **Test Set**:"
   ]
  },
  {
   "cell_type": "code",
   "execution_count": 40,
   "metadata": {
    "collapsed": false
   },
   "outputs": [
    {
     "name": "stdout",
     "output_type": "stream",
     "text": [
      "Best estimator:  SVC(C=1, cache_size=200, class_weight=None, coef0=0.0,\n",
      "  decision_function_shape=None, degree=3, gamma='auto', kernel='linear',\n",
      "  max_iter=-1, probability=False, random_state=None, shrinking=True,\n",
      "  tol=0.001, verbose=False)\n",
      "Accuracy: 0.91 (+/- 0.22)\n"
     ]
    }
   ],
   "source": [
    "best = clf.best_estimator_\n",
    "print('Best estimator: ', best)\n",
    "scores = model_selection.cross_val_score(best, X_test, y_test, cv=10)\n",
    "print(\"Accuracy: %0.2f (+/- %0.2f)\" % (scores.mean(), scores.std() * 2))"
   ]
  },
  {
   "cell_type": "markdown",
   "metadata": {},
   "source": [
    "Different `score` metrics can be used while doing `GridSearchCV`:"
   ]
  },
  {
   "cell_type": "code",
   "execution_count": 41,
   "metadata": {
    "collapsed": false
   },
   "outputs": [
    {
     "name": "stdout",
     "output_type": "stream",
     "text": [
      "PRECISION: fraction of retrieved instances that are relevant\n",
      "RECALL:    fraction of relevant instances that are retrieved\n",
      "\n",
      "Tuning hyper-parameters for: precision_weighted\n",
      "\n",
      "Best parameters set found on development (training) set:\n",
      "SVC(C=0.5, cache_size=200, class_weight=None, coef0=0.0,\n",
      "  decision_function_shape=None, degree=3, gamma='auto', kernel='linear',\n",
      "  max_iter=-1, probability=False, random_state=None, shrinking=True,\n",
      "  tol=0.001, verbose=False)\n",
      "\n",
      "Grid Scores on development set:\n",
      "mean: 0.92000, std: 0.08354, params: {'kernel': 'linear', 'C': 0.125}\n",
      "mean: 0.95333, std: 0.06504, params: {'kernel': 'linear', 'C': 0.25}\n",
      "mean: 0.98667, std: 0.02667, params: {'kernel': 'linear', 'C': 0.5}\n",
      "mean: 0.97417, std: 0.03480, params: {'kernel': 'linear', 'C': 1.0}\n",
      "mean: 0.94083, std: 0.06132, params: {'gamma': 0.1, 'kernel': 'rbf', 'C': 1}\n",
      "mean: 0.97417, std: 0.03480, params: {'gamma': 0.1, 'kernel': 'rbf', 'C': 10}\n",
      "\n",
      "Detailed classification report (on Testing Set)\n",
      "             precision    recall  f1-score   support\n",
      "\n",
      "          0       1.00      1.00      1.00        26\n",
      "          1       0.89      1.00      0.94        33\n",
      "          2       1.00      0.87      0.93        31\n",
      "\n",
      "avg / total       0.96      0.96      0.96        90\n",
      "\n",
      "-----------------------------------------------------\n",
      "\n",
      "Tuning hyper-parameters for: recall_weighted\n",
      "\n",
      "Best parameters set found on development (training) set:\n",
      "SVC(C=0.5, cache_size=200, class_weight=None, coef0=0.0,\n",
      "  decision_function_shape=None, degree=3, gamma='auto', kernel='linear',\n",
      "  max_iter=-1, probability=False, random_state=None, shrinking=True,\n",
      "  tol=0.001, verbose=False)\n",
      "\n",
      "Grid Scores on development set:\n",
      "mean: 0.91667, std: 0.08287, params: {'kernel': 'linear', 'C': 0.125}\n",
      "mean: 0.95000, std: 0.06607, params: {'kernel': 'linear', 'C': 0.25}\n",
      "mean: 0.98333, std: 0.03333, params: {'kernel': 'linear', 'C': 0.5}\n",
      "mean: 0.96667, std: 0.04522, params: {'kernel': 'linear', 'C': 1.0}\n",
      "mean: 0.93333, std: 0.06338, params: {'gamma': 0.1, 'kernel': 'rbf', 'C': 1}\n",
      "mean: 0.96667, std: 0.04522, params: {'gamma': 0.1, 'kernel': 'rbf', 'C': 10}\n",
      "\n",
      "Detailed classification report (on Testing Set)\n",
      "             precision    recall  f1-score   support\n",
      "\n",
      "          0       1.00      1.00      1.00        26\n",
      "          1       0.89      1.00      0.94        33\n",
      "          2       1.00      0.87      0.93        31\n",
      "\n",
      "avg / total       0.96      0.96      0.96        90\n",
      "\n",
      "-----------------------------------------------------\n"
     ]
    }
   ],
   "source": [
    "X_tr, X_test, y_tr, y_test = model_selection.train_test_split(X, \n",
    "                                                               iris.target,\n",
    "                                                               test_size=0.60, \n",
    "                                                               random_state=0)\n",
    "scores = ['precision_weighted', 'recall_weighted']\n",
    "param_grid = [{'C': np.logspace(-3,0,4, base=2), 'kernel': ['linear']},\n",
    "              {'C': [1, 10], 'gamma': [0.1], 'kernel': ['rbf']}]\n",
    "print('PRECISION: fraction of retrieved instances that are relevant')\n",
    "print('RECALL:    fraction of relevant instances that are retrieved')\n",
    "for score in scores:\n",
    "    print('\\nTuning hyper-parameters for: %s' % score)\n",
    "    clf = grid_search.GridSearchCV(svm.SVC(), param_grid, cv=5, scoring=score)\n",
    "    clf.fit(X_tr, y_tr)\n",
    "    print('\\nBest parameters set found on development (training) set:')\n",
    "    print(clf.best_estimator_)\n",
    "    print('\\nGrid Scores on development set:')\n",
    "    for item in clf.grid_scores_:\n",
    "        print(item)\n",
    "    print('\\nDetailed classification report (on Testing Set)')\n",
    "    y_true, y_pred = y_test, clf.predict(X_test)\n",
    "    print(metrics.classification_report(y_true, y_pred))\n",
    "    print('-----------------------------------------------------')\n",
    "        "
   ]
  },
  {
   "cell_type": "markdown",
   "metadata": {},
   "source": [
    "### 4.2 Randomized Parameter Optimization"
   ]
  },
  {
   "cell_type": "markdown",
   "metadata": {},
   "source": [
    "`RandomizedSearchCV` implements a randomized search over parameters, where each setting is sampled from a distribution over possible parameter values. This has two main benefits:\n",
    "\n",
    "* A budget can be chosen independent of the number of parameters and possible values.\n",
    "* Adding parameters that do not influence the performance does not decrease efficiency.\n",
    "\n",
    "Specifying how parameters should be sampled is done using a dictionary. The number of sampling iterations, is specified using the `n_iter` parameter. For each parameter, either a distribution over possible values or a list of discrete choices (which will be sampled uniformly) can be specified. This is a little example of the many statistical distributions available in `scipy`:"
   ]
  },
  {
   "cell_type": "code",
   "execution_count": 42,
   "metadata": {
    "collapsed": false
   },
   "outputs": [
    {
     "name": "stderr",
     "output_type": "stream",
     "text": [
      "/home/matteo/anaconda3/envs/addtrain/lib/python3.5/site-packages/scipy/stats/_continuous_distns.py:1095: VisibleDeprecationWarning: using a non-integer number instead of an integer will result in an error in the future\n",
      "  return self._random_state.standard_exponential(self._size)\n",
      "/home/matteo/anaconda3/envs/addtrain/lib/python3.5/site-packages/scipy/stats/_continuous_distns.py:127: VisibleDeprecationWarning: using a non-integer number instead of an integer will result in an error in the future\n",
      "  return self._random_state.standard_normal(self._size)\n",
      "/home/matteo/anaconda3/envs/addtrain/lib/python3.5/site-packages/scipy/stats/_continuous_distns.py:4894: VisibleDeprecationWarning: using a non-integer number instead of an integer will result in an error in the future\n",
      "  return self._random_state.uniform(0.0, 1.0, self._size)\n",
      "/home/matteo/anaconda3/envs/addtrain/lib/python3.5/site-packages/scipy/stats/_continuous_distns.py:377: VisibleDeprecationWarning: using a non-integer number instead of an integer will result in an error in the future\n",
      "  return self._random_state.beta(a, b, self._size)\n"
     ]
    },
    {
     "data": {
      "text/html": [
       "\n",
       "\n",
       "    <div class=\"bk-root\">\n",
       "        <div class=\"bk-plotdiv\" id=\"25313650-59dd-4012-87fb-21c30d6f2c0f\"></div>\n",
       "    </div>\n",
       "<script type=\"text/javascript\">\n",
       "  \n",
       "  (function(global) {\n",
       "    function now() {\n",
       "      return new Date();\n",
       "    }\n",
       "  \n",
       "    var force = false;\n",
       "  \n",
       "    if (typeof (window._bokeh_onload_callbacks) === \"undefined\" || force === true) {\n",
       "      window._bokeh_onload_callbacks = [];\n",
       "      window._bokeh_is_loading = undefined;\n",
       "    }\n",
       "  \n",
       "  \n",
       "    \n",
       "    if (typeof (window._bokeh_timeout) === \"undefined\" || force === true) {\n",
       "      window._bokeh_timeout = Date.now() + 0;\n",
       "      window._bokeh_failed_load = false;\n",
       "    }\n",
       "  \n",
       "    var NB_LOAD_WARNING = {'data': {'text/html':\n",
       "       \"<div style='background-color: #fdd'>\\n\"+\n",
       "       \"<p>\\n\"+\n",
       "       \"BokehJS does not appear to have successfully loaded. If loading BokehJS from CDN, this \\n\"+\n",
       "       \"may be due to a slow or bad network connection. Possible fixes:\\n\"+\n",
       "       \"</p>\\n\"+\n",
       "       \"<ul>\\n\"+\n",
       "       \"<li>re-rerun `output_notebook()` to attempt to load from CDN again, or</li>\\n\"+\n",
       "       \"<li>use INLINE resources instead, as so:</li>\\n\"+\n",
       "       \"</ul>\\n\"+\n",
       "       \"<code>\\n\"+\n",
       "       \"from bokeh.resources import INLINE\\n\"+\n",
       "       \"output_notebook(resources=INLINE)\\n\"+\n",
       "       \"</code>\\n\"+\n",
       "       \"</div>\"}};\n",
       "  \n",
       "    function display_loaded() {\n",
       "      if (window.Bokeh !== undefined) {\n",
       "        document.getElementById(\"25313650-59dd-4012-87fb-21c30d6f2c0f\").textContent = \"BokehJS successfully loaded.\";\n",
       "      } else if (Date.now() < window._bokeh_timeout) {\n",
       "        setTimeout(display_loaded, 100)\n",
       "      }\n",
       "    }\n",
       "  \n",
       "    function run_callbacks() {\n",
       "      window._bokeh_onload_callbacks.forEach(function(callback) { callback() });\n",
       "      delete window._bokeh_onload_callbacks\n",
       "      console.info(\"Bokeh: all callbacks have finished\");\n",
       "    }\n",
       "  \n",
       "    function load_libs(js_urls, callback) {\n",
       "      window._bokeh_onload_callbacks.push(callback);\n",
       "      if (window._bokeh_is_loading > 0) {\n",
       "        console.log(\"Bokeh: BokehJS is being loaded, scheduling callback at\", now());\n",
       "        return null;\n",
       "      }\n",
       "      if (js_urls == null || js_urls.length === 0) {\n",
       "        run_callbacks();\n",
       "        return null;\n",
       "      }\n",
       "      console.log(\"Bokeh: BokehJS not loaded, scheduling load and callback at\", now());\n",
       "      window._bokeh_is_loading = js_urls.length;\n",
       "      for (var i = 0; i < js_urls.length; i++) {\n",
       "        var url = js_urls[i];\n",
       "        var s = document.createElement('script');\n",
       "        s.src = url;\n",
       "        s.async = false;\n",
       "        s.onreadystatechange = s.onload = function() {\n",
       "          window._bokeh_is_loading--;\n",
       "          if (window._bokeh_is_loading === 0) {\n",
       "            console.log(\"Bokeh: all BokehJS libraries loaded\");\n",
       "            run_callbacks()\n",
       "          }\n",
       "        };\n",
       "        s.onerror = function() {\n",
       "          console.warn(\"failed to load library \" + url);\n",
       "        };\n",
       "        console.log(\"Bokeh: injecting script tag for BokehJS library: \", url);\n",
       "        document.getElementsByTagName(\"head\")[0].appendChild(s);\n",
       "      }\n",
       "    };var element = document.getElementById(\"25313650-59dd-4012-87fb-21c30d6f2c0f\");\n",
       "    if (element == null) {\n",
       "      console.log(\"Bokeh: ERROR: autoload.js configured with elementid '25313650-59dd-4012-87fb-21c30d6f2c0f' but no matching script tag was found. \")\n",
       "      return false;\n",
       "    }\n",
       "  \n",
       "    var js_urls = [];\n",
       "  \n",
       "    var inline_js = [\n",
       "      function(Bokeh) {\n",
       "        (function() {\n",
       "          var fn = function() {\n",
       "            var docs_json = {\"76c0ceb9-606b-409d-ab3c-7262b92ab353\":{\"roots\":{\"references\":[{\"attributes\":{\"callback\":null,\"column_names\":[\"y\",\"fill_alpha\",\"label\",\"line_alpha\",\"x\",\"line_color\",\"color\",\"height\",\"width\"],\"data\":{\"chart_index\":[\"(64.421758, 66.377847]\"],\"color\":[\"#f22c40\"],\"fill_alpha\":[0.8],\"height\":[307.0],\"label\":[\"(64.421758, 66.377847]\"],\"line_alpha\":[1.0],\"line_color\":[\"black\"],\"width\":[1.9560889049004118],\"x\":[\"65.39980249999999\"],\"y\":[153.5]}},\"id\":\"74b1ef0a-b454-4353-9133-08b2282baba3\",\"type\":\"ColumnDataSource\"},{\"attributes\":{\"callback\":null,\"column_names\":[\"y\",\"fill_alpha\",\"label\",\"line_alpha\",\"x\",\"line_color\",\"color\",\"height\",\"width\"],\"data\":{\"chart_index\":[\"[20.004672, 22.004464]\"],\"color\":[\"#f22c40\"],\"fill_alpha\":[0.8],\"height\":[228.0],\"label\":[\"[20.004672, 22.004464]\"],\"line_alpha\":[1.0],\"line_color\":[\"black\"],\"width\":[1.9997923043628987],\"x\":[\"21.004568\"],\"y\":[114.0]}},\"id\":\"52c7127c-defa-4cc8-b03d-b65448c62c53\",\"type\":\"ColumnDataSource\"},{\"attributes\":{\"data_source\":{\"id\":\"aa9ed638-53c4-47d7-b7a4-caeb07438623\",\"type\":\"ColumnDataSource\"},\"glyph\":{\"id\":\"d06f02c6-8056-47bb-bc28-fc176ffd2f71\",\"type\":\"Rect\"},\"hover_glyph\":null,\"nonselection_glyph\":null,\"selection_glyph\":null},\"id\":\"db6c2309-a091-4c43-8eaf-868d5c3647f1\",\"type\":\"GlyphRenderer\"},{\"attributes\":{\"fill_alpha\":{\"field\":\"fill_alpha\"},\"fill_color\":{\"field\":\"color\"},\"height\":{\"field\":\"height\",\"units\":\"data\"},\"line_color\":{\"field\":\"line_color\"},\"width\":{\"field\":\"width\",\"units\":\"data\"},\"x\":{\"field\":\"x\"},\"y\":{\"field\":\"y\"}},\"id\":\"fb2b1d49-8ace-476a-aa0c-25eab0ca9989\",\"type\":\"Rect\"},{\"attributes\":{\"data_source\":{\"id\":\"5403ff90-f9f9-48b5-a7b5-dd234a4ccfee\",\"type\":\"ColumnDataSource\"},\"glyph\":{\"id\":\"dec0d1b0-572c-481e-88c2-93ba2ab1ca90\",\"type\":\"Rect\"},\"hover_glyph\":null,\"nonselection_glyph\":null,\"selection_glyph\":null},\"id\":\"49b94cbd-50be-46f4-88dd-709c2bc65fb4\",\"type\":\"GlyphRenderer\"},{\"attributes\":{\"callback\":null,\"column_names\":[\"y\",\"fill_alpha\",\"label\",\"line_alpha\",\"x\",\"line_color\",\"color\",\"height\",\"width\"],\"data\":{\"chart_index\":[\"(612.162379, 631.909389]\"],\"color\":[\"#f22c40\"],\"fill_alpha\":[0.8],\"height\":[7.0],\"label\":[\"(612.162379, 631.909389]\"],\"line_alpha\":[1.0],\"line_color\":[\"black\"],\"width\":[19.74700911880643],\"x\":[\"622.035884\"],\"y\":[3.5]}},\"id\":\"926bc1d3-073d-4602-a271-91ae97997b5c\",\"type\":\"ColumnDataSource\"},{\"attributes\":{\"fill_alpha\":{\"field\":\"fill_alpha\"},\"fill_color\":{\"field\":\"color\"},\"height\":{\"field\":\"height\",\"units\":\"data\"},\"line_color\":{\"field\":\"line_color\"},\"width\":{\"field\":\"width\",\"units\":\"data\"},\"x\":{\"field\":\"x\"},\"y\":{\"field\":\"y\"}},\"id\":\"bcbbef78-33ae-4139-b6d7-a43bcdeb738a\",\"type\":\"Rect\"},{\"attributes\":{\"fill_alpha\":{\"field\":\"fill_alpha\"},\"fill_color\":{\"field\":\"color\"},\"height\":{\"field\":\"height\",\"units\":\"data\"},\"line_color\":{\"field\":\"line_color\"},\"width\":{\"field\":\"width\",\"units\":\"data\"},\"x\":{\"field\":\"x\"},\"y\":{\"field\":\"y\"}},\"id\":\"abbe1fba-be69-4f02-b73b-422a2145306e\",\"type\":\"Rect\"},{\"attributes\":{\"callback\":null,\"column_names\":[\"y\",\"fill_alpha\",\"label\",\"line_alpha\",\"x\",\"line_color\",\"color\",\"height\",\"width\"],\"data\":{\"chart_index\":[\"(29.212158, 31.168247]\"],\"color\":[\"#f22c40\"],\"fill_alpha\":[0.8],\"height\":[101.0],\"label\":[\"(29.212158, 31.168247]\"],\"line_alpha\":[1.0],\"line_color\":[\"black\"],\"width\":[1.9560889049004082],\"x\":[\"30.190202499999998\"],\"y\":[50.5]}},\"id\":\"a0ae62ad-e86a-477e-b731-c0248138f245\",\"type\":\"ColumnDataSource\"},{\"attributes\":{\"bottom_units\":\"screen\",\"fill_alpha\":{\"value\":0.5},\"fill_color\":{\"value\":\"lightgrey\"},\"left_units\":\"screen\",\"level\":\"overlay\",\"line_alpha\":{\"value\":1.0},\"line_color\":{\"value\":\"black\"},\"line_dash\":[4,4],\"line_width\":{\"value\":2},\"plot\":null,\"render_mode\":\"css\",\"right_units\":\"screen\",\"top_units\":\"screen\"},\"id\":\"40c6d669-642a-419a-a9cb-cfae9d7cf540\",\"type\":\"BoxAnnotation\"},{\"attributes\":{\"fill_alpha\":{\"field\":\"fill_alpha\"},\"fill_color\":{\"field\":\"color\"},\"height\":{\"field\":\"height\",\"units\":\"data\"},\"line_color\":{\"field\":\"line_color\"},\"width\":{\"field\":\"width\",\"units\":\"data\"},\"x\":{\"field\":\"x\"},\"y\":{\"field\":\"y\"}},\"id\":\"d88b7c50-616b-4294-a74d-e5487e35197e\",\"type\":\"Rect\"},{\"attributes\":{\"fill_alpha\":{\"field\":\"fill_alpha\"},\"fill_color\":{\"field\":\"color\"},\"height\":{\"field\":\"height\",\"units\":\"data\"},\"line_color\":{\"field\":\"line_color\"},\"width\":{\"field\":\"width\",\"units\":\"data\"},\"x\":{\"field\":\"x\"},\"y\":{\"field\":\"y\"}},\"id\":\"95604688-ab9a-4e83-a276-b0697aa8cb27\",\"type\":\"Rect\"},{\"attributes\":{\"data_source\":{\"id\":\"25f119ca-2278-45eb-9e76-3f53153a80d8\",\"type\":\"ColumnDataSource\"},\"glyph\":{\"id\":\"6c9853f7-fe41-470d-af39-5ee888b42272\",\"type\":\"Rect\"},\"hover_glyph\":null,\"nonselection_glyph\":null,\"selection_glyph\":null},\"id\":\"47babe31-2d30-491d-953c-c8b66aee7767\",\"type\":\"GlyphRenderer\"},{\"attributes\":{\"fill_alpha\":{\"field\":\"fill_alpha\"},\"fill_color\":{\"field\":\"color\"},\"height\":{\"field\":\"height\",\"units\":\"data\"},\"line_color\":{\"field\":\"line_color\"},\"width\":{\"field\":\"width\",\"units\":\"data\"},\"x\":{\"field\":\"x\"},\"y\":{\"field\":\"y\"}},\"id\":\"60794be9-e65b-48a0-897b-e471968dd406\",\"type\":\"Rect\"},{\"attributes\":{\"callback\":null,\"column_names\":[\"y\",\"fill_alpha\",\"label\",\"line_alpha\",\"x\",\"line_color\",\"color\",\"height\",\"width\"],\"data\":{\"chart_index\":[\"(10.315484, 11.866025]\"],\"color\":[\"#f22c40\"],\"fill_alpha\":[0.8],\"height\":[13.0],\"label\":[\"(10.315484, 11.866025]\"],\"line_alpha\":[1.0],\"line_color\":[\"black\"],\"width\":[1.550540015708986],\"x\":[\"11.0907545\"],\"y\":[6.5]}},\"id\":\"ee8dc73f-3eff-4c19-92bb-c44e46c0ec61\",\"type\":\"ColumnDataSource\"},{\"attributes\":{\"fill_alpha\":{\"field\":\"fill_alpha\"},\"fill_color\":{\"field\":\"color\"},\"height\":{\"field\":\"height\",\"units\":\"data\"},\"line_color\":{\"field\":\"line_color\"},\"width\":{\"field\":\"width\",\"units\":\"data\"},\"x\":{\"field\":\"x\"},\"y\":{\"field\":\"y\"}},\"id\":\"5535d088-ff8b-4dce-a42d-113d0c34b056\",\"type\":\"Rect\"},{\"attributes\":{\"data_source\":{\"id\":\"f37674ab-875e-4d27-b374-5c28abb6ac9e\",\"type\":\"ColumnDataSource\"},\"glyph\":{\"id\":\"0e16cc46-6735-4659-9f68-d3ef3b2c873b\",\"type\":\"Rect\"},\"hover_glyph\":null,\"nonselection_glyph\":null,\"selection_glyph\":null},\"id\":\"130ce64c-4cfd-4185-846b-7720a7451163\",\"type\":\"GlyphRenderer\"},{\"attributes\":{\"active_drag\":\"auto\",\"active_scroll\":\"auto\",\"active_tap\":\"auto\",\"tools\":[{\"id\":\"788dca95-1918-42c3-980c-7ca2dd1732b2\",\"type\":\"PanTool\"},{\"id\":\"7ffcade7-9c6a-4e7f-83e0-ab31613c589f\",\"type\":\"WheelZoomTool\"},{\"id\":\"797c5a8e-d451-4fe4-9d7c-f310c65d9601\",\"type\":\"BoxZoomTool\"},{\"id\":\"51720956-25a0-4870-95de-4514270d7a20\",\"type\":\"SaveTool\"},{\"id\":\"07b45603-3560-4a65-a70f-83140780a64b\",\"type\":\"ResetTool\"},{\"id\":\"3250a1cb-7fb0-49ed-abec-8be076e089c3\",\"type\":\"HelpTool\"}]},\"id\":\"7c51ddd0-b67b-462a-8cd4-d98a2eb7286c\",\"type\":\"Toolbar\"},{\"attributes\":{},\"id\":\"22143703-3f79-4c8c-aa05-1ee5cf1093e5\",\"type\":\"BasicTicker\"},{\"attributes\":{\"fill_alpha\":{\"field\":\"fill_alpha\"},\"fill_color\":{\"field\":\"color\"},\"height\":{\"field\":\"height\",\"units\":\"data\"},\"line_color\":{\"field\":\"line_color\"},\"width\":{\"field\":\"width\",\"units\":\"data\"},\"x\":{\"field\":\"x\"},\"y\":{\"field\":\"y\"}},\"id\":\"30bc09af-c43d-4835-b9fa-6c129b98906d\",\"type\":\"Rect\"},{\"attributes\":{\"fill_alpha\":{\"field\":\"fill_alpha\"},\"fill_color\":{\"field\":\"color\"},\"height\":{\"field\":\"height\",\"units\":\"data\"},\"line_color\":{\"field\":\"line_color\"},\"width\":{\"field\":\"width\",\"units\":\"data\"},\"x\":{\"field\":\"x\"},\"y\":{\"field\":\"y\"}},\"id\":\"03dbca02-7f0b-4113-bd7a-9c0566548139\",\"type\":\"Rect\"},{\"attributes\":{\"fill_alpha\":{\"field\":\"fill_alpha\"},\"fill_color\":{\"field\":\"color\"},\"height\":{\"field\":\"height\",\"units\":\"data\"},\"line_color\":{\"field\":\"line_color\"},\"width\":{\"field\":\"width\",\"units\":\"data\"},\"x\":{\"field\":\"x\"},\"y\":{\"field\":\"y\"}},\"id\":\"ad9f7de6-d1b2-4bc4-bab0-7422d0fb2f56\",\"type\":\"Rect\"},{\"attributes\":{\"data_source\":{\"id\":\"41771fcb-b091-4fed-8007-3a7e728dcf15\",\"type\":\"ColumnDataSource\"},\"glyph\":{\"id\":\"2fa49bcf-6b6a-4916-8995-e8e6bbc127a1\",\"type\":\"Rect\"},\"hover_glyph\":null,\"nonselection_glyph\":null,\"selection_glyph\":null},\"id\":\"cca89689-268d-4e0f-a831-fb4b15d316a1\",\"type\":\"GlyphRenderer\"},{\"attributes\":{\"fill_alpha\":{\"field\":\"fill_alpha\"},\"fill_color\":{\"field\":\"color\"},\"height\":{\"field\":\"height\",\"units\":\"data\"},\"line_color\":{\"field\":\"line_color\"},\"width\":{\"field\":\"width\",\"units\":\"data\"},\"x\":{\"field\":\"x\"},\"y\":{\"field\":\"y\"}},\"id\":\"0bf8a483-29f0-4858-bb82-8da564b15e56\",\"type\":\"Rect\"},{\"attributes\":{\"callback\":null,\"column_names\":[\"y\",\"fill_alpha\",\"label\",\"line_alpha\",\"x\",\"line_color\",\"color\",\"height\",\"width\"],\"data\":{\"chart_index\":[\"(91.997195, 93.996987]\"],\"color\":[\"#f22c40\"],\"fill_alpha\":[0.8],\"height\":[191.0],\"label\":[\"(91.997195, 93.996987]\"],\"line_alpha\":[1.0],\"line_color\":[\"black\"],\"width\":[1.9997923043628987],\"x\":[\"92.99709100000001\"],\"y\":[95.5]}},\"id\":\"2176126c-a93c-49a0-bd68-e5d8c20c18e4\",\"type\":\"ColumnDataSource\"},{\"attributes\":{\"callback\":null,\"column_names\":[\"y\",\"fill_alpha\",\"label\",\"line_alpha\",\"x\",\"line_color\",\"color\",\"height\",\"width\"],\"data\":{\"chart_index\":[\"(67.999687, 69.999479]\"],\"color\":[\"#f22c40\"],\"fill_alpha\":[0.8],\"height\":[212.0],\"label\":[\"(67.999687, 69.999479]\"],\"line_alpha\":[1.0],\"line_color\":[\"black\"],\"width\":[1.9997923043628987],\"x\":[\"68.999583\"],\"y\":[106.0]}},\"id\":\"b523c7c0-b9f7-4fb7-812f-6a36bcef17ff\",\"type\":\"ColumnDataSource\"},{\"attributes\":{\"fill_alpha\":{\"field\":\"fill_alpha\"},\"fill_color\":{\"field\":\"color\"},\"height\":{\"field\":\"height\",\"units\":\"data\"},\"line_color\":{\"field\":\"line_color\"},\"width\":{\"field\":\"width\",\"units\":\"data\"},\"x\":{\"field\":\"x\"},\"y\":{\"field\":\"y\"}},\"id\":\"ab6ae1ff-f0bb-443f-b596-c2f12c281528\",\"type\":\"Rect\"},{\"attributes\":{\"fill_alpha\":{\"field\":\"fill_alpha\"},\"fill_color\":{\"field\":\"color\"},\"height\":{\"field\":\"height\",\"units\":\"data\"},\"line_color\":{\"field\":\"line_color\"},\"width\":{\"field\":\"width\",\"units\":\"data\"},\"x\":{\"field\":\"x\"},\"y\":{\"field\":\"y\"}},\"id\":\"dbb400e1-2bb6-47d6-abaa-752dca31e473\",\"type\":\"Rect\"},{\"attributes\":{\"fill_alpha\":{\"field\":\"fill_alpha\"},\"fill_color\":{\"field\":\"color\"},\"height\":{\"field\":\"height\",\"units\":\"data\"},\"line_color\":{\"field\":\"line_color\"},\"width\":{\"field\":\"width\",\"units\":\"data\"},\"x\":{\"field\":\"x\"},\"y\":{\"field\":\"y\"}},\"id\":\"e32dbbba-0dd7-457a-beb7-5e9925338557\",\"type\":\"Rect\"},{\"attributes\":{\"fill_alpha\":{\"field\":\"fill_alpha\"},\"fill_color\":{\"field\":\"color\"},\"height\":{\"field\":\"height\",\"units\":\"data\"},\"line_color\":{\"field\":\"line_color\"},\"width\":{\"field\":\"width\",\"units\":\"data\"},\"x\":{\"field\":\"x\"},\"y\":{\"field\":\"y\"}},\"id\":\"ecfbc020-a46d-479c-b6c8-da828fb602c0\",\"type\":\"Rect\"},{\"attributes\":{\"fill_alpha\":{\"field\":\"fill_alpha\"},\"fill_color\":{\"field\":\"color\"},\"height\":{\"field\":\"height\",\"units\":\"data\"},\"line_color\":{\"field\":\"line_color\"},\"width\":{\"field\":\"width\",\"units\":\"data\"},\"x\":{\"field\":\"x\"},\"y\":{\"field\":\"y\"}},\"id\":\"d7465cbe-ccbc-4de4-9fc7-61ff4c8e629b\",\"type\":\"Rect\"},{\"attributes\":{\"data_source\":{\"id\":\"89aa9084-e1f5-481b-a3a5-ae48d275c468\",\"type\":\"ColumnDataSource\"},\"glyph\":{\"id\":\"eb35ae61-ebe5-4d87-8aac-6252bbfec561\",\"type\":\"Rect\"},\"hover_glyph\":null,\"nonselection_glyph\":null,\"selection_glyph\":null},\"id\":\"57c62e2b-12f0-44c8-b499-e3d97f25a079\",\"type\":\"GlyphRenderer\"},{\"attributes\":{\"data_source\":{\"id\":\"180bf7b5-d0fa-4d68-808e-4315fd43b3b6\",\"type\":\"ColumnDataSource\"},\"glyph\":{\"id\":\"cc0f7a90-bbfe-4893-930b-8d1f3f290649\",\"type\":\"Rect\"},\"hover_glyph\":null,\"nonselection_glyph\":null,\"selection_glyph\":null},\"id\":\"65151d46-d262-4525-817f-4a4c951022ce\",\"type\":\"GlyphRenderer\"},{\"attributes\":{\"bottom_units\":\"screen\",\"fill_alpha\":{\"value\":0.5},\"fill_color\":{\"value\":\"lightgrey\"},\"left_units\":\"screen\",\"level\":\"overlay\",\"line_alpha\":{\"value\":1.0},\"line_color\":{\"value\":\"black\"},\"line_dash\":[4,4],\"line_width\":{\"value\":2},\"plot\":null,\"render_mode\":\"css\",\"right_units\":\"screen\",\"top_units\":\"screen\"},\"id\":\"683beb0e-57f9-490f-9720-56e0733a7bea\",\"type\":\"BoxAnnotation\"},{\"attributes\":{},\"id\":\"97a39d2a-fae9-4384-9815-40db4965ac8d\",\"type\":\"BasicTicker\"},{\"attributes\":{\"data_source\":{\"id\":\"87871719-528b-4ab2-b1bc-c2178f96f3ff\",\"type\":\"ColumnDataSource\"},\"glyph\":{\"id\":\"71981a52-346b-4710-87c8-31918b574c86\",\"type\":\"Rect\"},\"hover_glyph\":null,\"nonselection_glyph\":null,\"selection_glyph\":null},\"id\":\"c2a40d99-681b-4ddc-98ed-b673e2cf8f17\",\"type\":\"GlyphRenderer\"},{\"attributes\":{\"fill_alpha\":{\"field\":\"fill_alpha\"},\"fill_color\":{\"field\":\"color\"},\"height\":{\"field\":\"height\",\"units\":\"data\"},\"line_color\":{\"field\":\"line_color\"},\"width\":{\"field\":\"width\",\"units\":\"data\"},\"x\":{\"field\":\"x\"},\"y\":{\"field\":\"y\"}},\"id\":\"db23a2ba-03f4-4e12-b919-4f421a29aac4\",\"type\":\"Rect\"},{\"attributes\":{\"data_source\":{\"id\":\"f302a27f-1522-48be-bb3d-0e2375b6cf62\",\"type\":\"ColumnDataSource\"},\"glyph\":{\"id\":\"6342ec02-1ee8-4a0b-89bf-d6aa92b7b695\",\"type\":\"Rect\"},\"hover_glyph\":null,\"nonselection_glyph\":null,\"selection_glyph\":null},\"id\":\"b29d7f12-eabf-4e97-97b5-7066aa630000\",\"type\":\"GlyphRenderer\"},{\"attributes\":{\"data_source\":{\"id\":\"c3366fe3-059f-484e-9cd0-b858da696bc2\",\"type\":\"ColumnDataSource\"},\"glyph\":{\"id\":\"e057da8c-1126-41d4-8eef-6e23d098124e\",\"type\":\"Rect\"},\"hover_glyph\":null,\"nonselection_glyph\":null,\"selection_glyph\":null},\"id\":\"6c714077-9f65-4478-a19f-62bbaea3e248\",\"type\":\"GlyphRenderer\"},{\"attributes\":{\"callback\":null,\"column_names\":[\"y\",\"fill_alpha\",\"label\",\"line_alpha\",\"x\",\"line_color\",\"color\",\"height\",\"width\"],\"data\":{\"chart_index\":[\"(138.234161, 157.981170]\"],\"color\":[\"#f22c40\"],\"fill_alpha\":[0.8],\"height\":[441.0],\"label\":[\"(138.234161, 157.981170]\"],\"line_alpha\":[1.0],\"line_color\":[\"black\"],\"width\":[19.747009118806403],\"x\":[\"148.1076655\"],\"y\":[220.5]}},\"id\":\"c64d3fb7-11ce-4285-9221-e359dee29197\",\"type\":\"ColumnDataSource\"},{\"attributes\":{\"data_source\":{\"id\":\"cc365957-540e-44d6-87cb-ad5395997d98\",\"type\":\"ColumnDataSource\"},\"glyph\":{\"id\":\"0f991b76-33a1-4edc-8297-0250259d077a\",\"type\":\"Rect\"},\"hover_glyph\":null,\"nonselection_glyph\":null,\"selection_glyph\":null},\"id\":\"379a91a6-d69e-40b2-99f0-85bda41de12e\",\"type\":\"GlyphRenderer\"},{\"attributes\":{\"fill_alpha\":{\"field\":\"fill_alpha\"},\"fill_color\":{\"field\":\"color\"},\"height\":{\"field\":\"height\",\"units\":\"data\"},\"line_color\":{\"field\":\"line_color\"},\"width\":{\"field\":\"width\",\"units\":\"data\"},\"x\":{\"field\":\"x\"},\"y\":{\"field\":\"y\"}},\"id\":\"d5329a90-d7f6-45e6-8e8b-40a47b17031b\",\"type\":\"Rect\"},{\"attributes\":{\"fill_alpha\":{\"field\":\"fill_alpha\"},\"fill_color\":{\"field\":\"color\"},\"height\":{\"field\":\"height\",\"units\":\"data\"},\"line_color\":{\"field\":\"line_color\"},\"width\":{\"field\":\"width\",\"units\":\"data\"},\"x\":{\"field\":\"x\"},\"y\":{\"field\":\"y\"}},\"id\":\"348c9162-d07f-4520-93d3-c38d1688d9ce\",\"type\":\"Rect\"},{\"attributes\":{\"active_drag\":\"auto\",\"active_scroll\":\"auto\",\"active_tap\":\"auto\",\"tools\":[{\"id\":\"9df4eb32-7e3d-4119-a6fc-ee2966a4af5c\",\"type\":\"PanTool\"},{\"id\":\"b3096ebc-2cc0-481b-bbe0-b9999abc33e3\",\"type\":\"WheelZoomTool\"},{\"id\":\"6834e13f-2872-44df-a1f9-ccb594e8a386\",\"type\":\"BoxZoomTool\"},{\"id\":\"2cedf573-8ba0-4c24-ae1d-494def2b2e49\",\"type\":\"SaveTool\"},{\"id\":\"c32cd5e4-5bb5-4095-96b7-bff7ae7b4b49\",\"type\":\"ResetTool\"},{\"id\":\"e9d55058-478e-4203-9f1e-348f673b0c7c\",\"type\":\"HelpTool\"}]},\"id\":\"3e66da9e-8d33-4bd0-a4d3-2dfbc11d9653\",\"type\":\"Toolbar\"},{\"attributes\":{\"callback\":null,\"column_names\":[\"y\",\"fill_alpha\",\"label\",\"line_alpha\",\"x\",\"line_color\",\"color\",\"height\",\"width\"],\"data\":{\"chart_index\":[\"(118.487152, 138.234161]\"],\"color\":[\"#f22c40\"],\"fill_alpha\":[0.8],\"height\":[520.0],\"label\":[\"(118.487152, 138.234161]\"],\"line_alpha\":[1.0],\"line_color\":[\"black\"],\"width\":[19.747009118806417],\"x\":[\"128.3606565\"],\"y\":[260.0]}},\"id\":\"2a5c081e-4ffc-468c-806e-d1bf311e36ad\",\"type\":\"ColumnDataSource\"},{\"attributes\":{\"fill_alpha\":{\"field\":\"fill_alpha\"},\"fill_color\":{\"field\":\"color\"},\"height\":{\"field\":\"height\",\"units\":\"data\"},\"line_color\":{\"field\":\"line_color\"},\"width\":{\"field\":\"width\",\"units\":\"data\"},\"x\":{\"field\":\"x\"},\"y\":{\"field\":\"y\"}},\"id\":\"47a75b62-9dd9-470b-9c70-6be18671dd3a\",\"type\":\"Rect\"},{\"attributes\":{\"callback\":null,\"column_names\":[\"y\",\"fill_alpha\",\"label\",\"line_alpha\",\"x\",\"line_color\",\"color\",\"height\",\"width\"],\"data\":{\"chart_index\":[\"(30.472505, 32.023045]\"],\"color\":[\"#f22c40\"],\"fill_alpha\":[0.8],\"height\":[409.0],\"label\":[\"(30.472505, 32.023045]\"],\"line_alpha\":[1.0],\"line_color\":[\"black\"],\"width\":[1.550540015708986],\"x\":[\"31.247775000000004\"],\"y\":[204.5]}},\"id\":\"5c08840e-1c29-48e5-afea-757a217821b4\",\"type\":\"ColumnDataSource\"},{\"attributes\":{\"plot\":null,\"text\":null},\"id\":\"489d59c6-7bb8-467d-9bfb-9958b955db05\",\"type\":\"Title\"},{\"attributes\":{\"callback\":null,\"column_names\":[\"y\",\"fill_alpha\",\"label\",\"line_alpha\",\"x\",\"line_color\",\"color\",\"height\",\"width\"],\"data\":{\"chart_index\":[\"(25.820885, 27.371425]\"],\"color\":[\"#f22c40\"],\"fill_alpha\":[0.8],\"height\":[289.0],\"label\":[\"(25.820885, 27.371425]\"],\"line_alpha\":[1.0],\"line_color\":[\"black\"],\"width\":[1.550540015708986],\"x\":[\"26.596155\"],\"y\":[144.5]}},\"id\":\"06f61fcc-764a-4485-be29-dc27d708236a\",\"type\":\"ColumnDataSource\"},{\"attributes\":{\"callback\":null,\"column_names\":[\"y\",\"fill_alpha\",\"label\",\"line_alpha\",\"x\",\"line_color\",\"color\",\"height\",\"width\"],\"data\":{\"chart_index\":[\"(72.337085, 73.887625]\"],\"color\":[\"#f22c40\"],\"fill_alpha\":[0.8],\"height\":[4.0],\"label\":[\"(72.337085, 73.887625]\"],\"line_alpha\":[1.0],\"line_color\":[\"black\"],\"width\":[1.5505400157089895],\"x\":[\"73.11235500000001\"],\"y\":[2.0]}},\"id\":\"41771fcb-b091-4fed-8007-3a7e728dcf15\",\"type\":\"ColumnDataSource\"},{\"attributes\":{\"data_source\":{\"id\":\"a3eca96b-f115-4608-8216-ab0b5a9d77e3\",\"type\":\"ColumnDataSource\"},\"glyph\":{\"id\":\"ddf6c78f-b32b-477f-816f-6e4b2a3bdf2f\",\"type\":\"Rect\"},\"hover_glyph\":null,\"nonselection_glyph\":null,\"selection_glyph\":null},\"id\":\"c65016be-10ba-45be-9867-835256ccc5bb\",\"type\":\"GlyphRenderer\"},{\"attributes\":{\"data_source\":{\"id\":\"3cbebb67-f544-477b-9f9a-0579033672a5\",\"type\":\"ColumnDataSource\"},\"glyph\":{\"id\":\"0de6f102-b6bc-4145-8aa6-5e7d7dc632f2\",\"type\":\"Rect\"},\"hover_glyph\":null,\"nonselection_glyph\":null,\"selection_glyph\":null},\"id\":\"05b8ff20-c0e6-4bdc-b0bb-2c04af32ec08\",\"type\":\"GlyphRenderer\"},{\"attributes\":{\"callback\":null,\"column_names\":[\"y\",\"fill_alpha\",\"label\",\"line_alpha\",\"x\",\"line_color\",\"color\",\"height\",\"width\"],\"data\":{\"chart_index\":[\"(54.001141, 56.000933]\"],\"color\":[\"#f22c40\"],\"fill_alpha\":[0.8],\"height\":[194.0],\"label\":[\"(54.001141, 56.000933]\"],\"line_alpha\":[1.0],\"line_color\":[\"black\"],\"width\":[1.9997923043628987],\"x\":[\"55.001037\"],\"y\":[97.0]}},\"id\":\"5423de81-12e6-41a1-a76c-f5546ce3836a\",\"type\":\"ColumnDataSource\"},{\"attributes\":{\"fill_alpha\":{\"field\":\"fill_alpha\"},\"fill_color\":{\"field\":\"color\"},\"height\":{\"field\":\"height\",\"units\":\"data\"},\"line_color\":{\"field\":\"line_color\"},\"width\":{\"field\":\"width\",\"units\":\"data\"},\"x\":{\"field\":\"x\"},\"y\":{\"field\":\"y\"}},\"id\":\"5e6c62bb-8dc0-4928-8b1a-4988654adbd6\",\"type\":\"Rect\"},{\"attributes\":{\"callback\":null,\"column_names\":[\"y\",\"fill_alpha\",\"label\",\"line_alpha\",\"x\",\"line_color\",\"color\",\"height\",\"width\"],\"data\":{\"chart_index\":[\"(95.719181, 97.675270]\"],\"color\":[\"#f22c40\"],\"fill_alpha\":[0.8],\"height\":[220.0],\"label\":[\"(95.719181, 97.675270]\"],\"line_alpha\":[1.0],\"line_color\":[\"black\"],\"width\":[1.9560889049004118],\"x\":[\"96.6972255\"],\"y\":[110.0]}},\"id\":\"ba314e4f-948d-4424-aa93-6b0c8271b03a\",\"type\":\"ColumnDataSource\"},{\"attributes\":{\"plot\":{\"id\":\"42cfec60-226a-4b10-b05a-c87660a395df\",\"subtype\":\"Chart\",\"type\":\"Plot\"}},\"id\":\"b3096ebc-2cc0-481b-bbe0-b9999abc33e3\",\"type\":\"WheelZoomTool\"},{\"attributes\":{\"fill_alpha\":{\"field\":\"fill_alpha\"},\"fill_color\":{\"field\":\"color\"},\"height\":{\"field\":\"height\",\"units\":\"data\"},\"line_color\":{\"field\":\"line_color\"},\"width\":{\"field\":\"width\",\"units\":\"data\"},\"x\":{\"field\":\"x\"},\"y\":{\"field\":\"y\"}},\"id\":\"7ef1737a-3074-4542-8cd5-507713c79726\",\"type\":\"Rect\"},{\"attributes\":{\"callback\":null,\"column_names\":[\"y\",\"fill_alpha\",\"label\",\"line_alpha\",\"x\",\"line_color\",\"color\",\"height\",\"width\"],\"data\":{\"chart_index\":[\"(109.995325, 111.995118]\"],\"color\":[\"#f22c40\"],\"fill_alpha\":[0.8],\"height\":[222.0],\"label\":[\"(109.995325, 111.995118]\"],\"line_alpha\":[1.0],\"line_color\":[\"black\"],\"width\":[1.9997923043628987],\"x\":[\"110.9952215\"],\"y\":[111.0]}},\"id\":\"180bf7b5-d0fa-4d68-808e-4315fd43b3b6\",\"type\":\"ColumnDataSource\"},{\"attributes\":{\"data_source\":{\"id\":\"2176126c-a93c-49a0-bd68-e5d8c20c18e4\",\"type\":\"ColumnDataSource\"},\"glyph\":{\"id\":\"51b6f706-7c4e-4ebc-bc87-1e816ead747e\",\"type\":\"Rect\"},\"hover_glyph\":null,\"nonselection_glyph\":null,\"selection_glyph\":null},\"id\":\"aeecfcbb-f576-40e4-84de-7454c4713968\",\"type\":\"GlyphRenderer\"},{\"attributes\":{\"fill_alpha\":{\"field\":\"fill_alpha\"},\"fill_color\":{\"field\":\"color\"},\"height\":{\"field\":\"height\",\"units\":\"data\"},\"line_color\":{\"field\":\"line_color\"},\"width\":{\"field\":\"width\",\"units\":\"data\"},\"x\":{\"field\":\"x\"},\"y\":{\"field\":\"y\"}},\"id\":\"c7f6ccdd-5757-4843-9bd6-cb46edd1c997\",\"type\":\"Rect\"},{\"attributes\":{\"data_source\":{\"id\":\"d013271d-0c69-42c4-a97a-0a32a7db0152\",\"type\":\"ColumnDataSource\"},\"glyph\":{\"id\":\"145da337-6cb9-43de-84d4-1e02203b4b81\",\"type\":\"Rect\"},\"hover_glyph\":null,\"nonselection_glyph\":null,\"selection_glyph\":null},\"id\":\"87e4979d-d28a-4046-8a78-95abf31a4e0e\",\"type\":\"GlyphRenderer\"},{\"attributes\":{\"data_source\":{\"id\":\"06f61fcc-764a-4485-be29-dc27d708236a\",\"type\":\"ColumnDataSource\"},\"glyph\":{\"id\":\"d5329a90-d7f6-45e6-8e8b-40a47b17031b\",\"type\":\"Rect\"},\"hover_glyph\":null,\"nonselection_glyph\":null,\"selection_glyph\":null},\"id\":\"64648b63-7003-4f5a-bcd3-73e2962f2f56\",\"type\":\"GlyphRenderer\"},{\"attributes\":{\"data_source\":{\"id\":\"30d92429-cdeb-41c2-ad4c-1152c4b5acee\",\"type\":\"ColumnDataSource\"},\"glyph\":{\"id\":\"b2b78ace-7a57-4b7e-8155-91bdae710a4b\",\"type\":\"Rect\"},\"hover_glyph\":null,\"nonselection_glyph\":null,\"selection_glyph\":null},\"id\":\"0f91c32d-a82f-4aaf-aad4-dbd38a3b1e98\",\"type\":\"GlyphRenderer\"},{\"attributes\":{\"callback\":null,\"column_names\":[\"y\",\"fill_alpha\",\"label\",\"line_alpha\",\"x\",\"line_color\",\"color\",\"height\",\"width\"],\"data\":{\"chart_index\":[\"(46.001972, 48.001764]\"],\"color\":[\"#f22c40\"],\"fill_alpha\":[0.8],\"height\":[219.0],\"label\":[\"(46.001972, 48.001764]\"],\"line_alpha\":[1.0],\"line_color\":[\"black\"],\"width\":[1.9997923043628987],\"x\":[\"47.001868\"],\"y\":[109.5]}},\"id\":\"7c715464-c444-40a8-a0cd-5b222f7a163e\",\"type\":\"ColumnDataSource\"},{\"attributes\":{\"callback\":null,\"column_names\":[\"y\",\"fill_alpha\",\"label\",\"line_alpha\",\"x\",\"line_color\",\"color\",\"height\",\"width\"],\"data\":{\"chart_index\":[\"(89.850914, 91.807003]\"],\"color\":[\"#f22c40\"],\"fill_alpha\":[0.8],\"height\":[249.0],\"label\":[\"(89.850914, 91.807003]\"],\"line_alpha\":[1.0],\"line_color\":[\"black\"],\"width\":[1.9560889049004118],\"x\":[\"90.8289585\"],\"y\":[124.5]}},\"id\":\"c3366fe3-059f-484e-9cd0-b858da696bc2\",\"type\":\"ColumnDataSource\"},{\"attributes\":{\"callback\":null,\"column_names\":[\"y\",\"fill_alpha\",\"label\",\"line_alpha\",\"x\",\"line_color\",\"color\",\"height\",\"width\"],\"data\":{\"chart_index\":[\"(54.641314, 56.597403]\"],\"color\":[\"#f22c40\"],\"fill_alpha\":[0.8],\"height\":[279.0],\"label\":[\"(54.641314, 56.597403]\"],\"line_alpha\":[1.0],\"line_color\":[\"black\"],\"width\":[1.9560889049004118],\"x\":[\"55.619358500000004\"],\"y\":[139.5]}},\"id\":\"53edae50-9079-4d47-98ae-1986ae40782b\",\"type\":\"ColumnDataSource\"},{\"attributes\":{\"data_source\":{\"id\":\"7c715464-c444-40a8-a0cd-5b222f7a163e\",\"type\":\"ColumnDataSource\"},\"glyph\":{\"id\":\"735b3d45-5b5d-43b8-ab9b-61acecafaa63\",\"type\":\"Rect\"},\"hover_glyph\":null,\"nonselection_glyph\":null,\"selection_glyph\":null},\"id\":\"1f63011e-9f2b-420c-a611-b7467c0b18ad\",\"type\":\"GlyphRenderer\"},{\"attributes\":{\"callback\":null,\"column_names\":[\"y\",\"fill_alpha\",\"label\",\"line_alpha\",\"x\",\"line_color\",\"color\",\"height\",\"width\"],\"data\":{\"chart_index\":[\"(37.036514, 38.992603]\"],\"color\":[\"#f22c40\"],\"fill_alpha\":[0.8],\"height\":[157.0],\"label\":[\"(37.036514, 38.992603]\"],\"line_alpha\":[1.0],\"line_color\":[\"black\"],\"width\":[1.9560889049004118],\"x\":[\"38.0145585\"],\"y\":[78.5]}},\"id\":\"7bcc8cd5-2c3a-48bb-8b5b-8d99881ecded\",\"type\":\"ColumnDataSource\"},{\"attributes\":{\"data_source\":{\"id\":\"5c9d757c-bec1-4d54-9d3d-fc516e9c5bc4\",\"type\":\"ColumnDataSource\"},\"glyph\":{\"id\":\"fa274159-e239-45f6-918f-af9d0f31403c\",\"type\":\"Rect\"},\"hover_glyph\":null,\"nonselection_glyph\":null,\"selection_glyph\":null},\"id\":\"6b48dbed-e0c7-4fee-9648-9d378291319f\",\"type\":\"GlyphRenderer\"},{\"attributes\":{\"sizing_mode\":\"scale_width\",\"toolbar_location\":\"above\",\"tools\":[{\"id\":\"616a64c6-f255-4d0e-96f7-4895b8e16b52\",\"type\":\"PanTool\"},{\"id\":\"29675712-0cbf-4b38-a473-68b1191c4e8f\",\"type\":\"WheelZoomTool\"},{\"id\":\"60dbb18e-1ebb-441f-8988-d56575b2f7be\",\"type\":\"BoxZoomTool\"},{\"id\":\"6ca9fbbb-3851-40a5-8cd6-7f66a156c78d\",\"type\":\"SaveTool\"},{\"id\":\"47f9e7b3-3101-4878-a122-634fdf208483\",\"type\":\"ResetTool\"},{\"id\":\"2d1a4c14-6098-4cfd-a992-9c32e8abd5e0\",\"type\":\"HelpTool\"},{\"id\":\"76c54841-be19-477b-936d-de2373e72c69\",\"type\":\"PanTool\"},{\"id\":\"cd92cea0-fdc3-4048-98d6-0540264da520\",\"type\":\"WheelZoomTool\"},{\"id\":\"379b9d4a-16f5-4d54-aa8c-29013f49e5fd\",\"type\":\"BoxZoomTool\"},{\"id\":\"45620457-10dc-4733-a215-b63efbf67d7a\",\"type\":\"SaveTool\"},{\"id\":\"16135be8-910c-49fa-9004-4ace567daeb4\",\"type\":\"ResetTool\"},{\"id\":\"c973e485-8fb3-44ec-9e01-512df3a8a18c\",\"type\":\"HelpTool\"},{\"id\":\"788dca95-1918-42c3-980c-7ca2dd1732b2\",\"type\":\"PanTool\"},{\"id\":\"7ffcade7-9c6a-4e7f-83e0-ab31613c589f\",\"type\":\"WheelZoomTool\"},{\"id\":\"797c5a8e-d451-4fe4-9d7c-f310c65d9601\",\"type\":\"BoxZoomTool\"},{\"id\":\"51720956-25a0-4870-95de-4514270d7a20\",\"type\":\"SaveTool\"},{\"id\":\"07b45603-3560-4a65-a70f-83140780a64b\",\"type\":\"ResetTool\"},{\"id\":\"3250a1cb-7fb0-49ed-abec-8be076e089c3\",\"type\":\"HelpTool\"},{\"id\":\"9df4eb32-7e3d-4119-a6fc-ee2966a4af5c\",\"type\":\"PanTool\"},{\"id\":\"b3096ebc-2cc0-481b-bbe0-b9999abc33e3\",\"type\":\"WheelZoomTool\"},{\"id\":\"6834e13f-2872-44df-a1f9-ccb594e8a386\",\"type\":\"BoxZoomTool\"},{\"id\":\"2cedf573-8ba0-4c24-ae1d-494def2b2e49\",\"type\":\"SaveTool\"},{\"id\":\"c32cd5e4-5bb5-4095-96b7-bff7ae7b4b49\",\"type\":\"ResetTool\"},{\"id\":\"e9d55058-478e-4203-9f1e-348f673b0c7c\",\"type\":\"HelpTool\"}]},\"id\":\"fc314acb-341d-4dc8-9959-30e7e8d48402\",\"type\":\"ToolbarBox\"},{\"attributes\":{\"callback\":null,\"column_names\":[\"y\",\"fill_alpha\",\"label\",\"line_alpha\",\"x\",\"line_color\",\"color\",\"height\",\"width\"],\"data\":{\"chart_index\":[\"(730.644434, 750.391443]\"],\"color\":[\"#f22c40\"],\"fill_alpha\":[0.8],\"height\":[2.0],\"label\":[\"(730.644434, 750.391443]\"],\"line_alpha\":[1.0],\"line_color\":[\"black\"],\"width\":[19.74700911880643],\"x\":[\"740.5179385\"],\"y\":[1.0]}},\"id\":\"12a08d23-27a1-4656-a62d-523884930659\",\"type\":\"ColumnDataSource\"},{\"attributes\":{\"callback\":null,\"column_names\":[\"y\",\"fill_alpha\",\"label\",\"line_alpha\",\"x\",\"line_color\",\"color\",\"height\",\"width\"],\"data\":{\"chart_index\":[\"(78.114381, 80.070470]\"],\"color\":[\"#f22c40\"],\"fill_alpha\":[0.8],\"height\":[254.0],\"label\":[\"(78.114381, 80.070470]\"],\"line_alpha\":[1.0],\"line_color\":[\"black\"],\"width\":[1.9560889049004118],\"x\":[\"79.09242549999999\"],\"y\":[127.0]}},\"id\":\"b8b20d25-6059-49fe-ab90-527adfd1d04e\",\"type\":\"ColumnDataSource\"},{\"attributes\":{\"fill_alpha\":{\"field\":\"fill_alpha\"},\"fill_color\":{\"field\":\"color\"},\"height\":{\"field\":\"height\",\"units\":\"data\"},\"line_color\":{\"field\":\"line_color\"},\"width\":{\"field\":\"width\",\"units\":\"data\"},\"x\":{\"field\":\"x\"},\"y\":{\"field\":\"y\"}},\"id\":\"3ff3d768-99df-4201-923f-67e992512583\",\"type\":\"Rect\"},{\"attributes\":{\"fill_alpha\":{\"field\":\"fill_alpha\"},\"fill_color\":{\"field\":\"color\"},\"height\":{\"field\":\"height\",\"units\":\"data\"},\"line_color\":{\"field\":\"line_color\"},\"width\":{\"field\":\"width\",\"units\":\"data\"},\"x\":{\"field\":\"x\"},\"y\":{\"field\":\"y\"}},\"id\":\"0ad4e028-926a-423e-b282-37d55b2a42e6\",\"type\":\"Rect\"},{\"attributes\":{\"data_source\":{\"id\":\"3f0009f5-0c3e-4986-9cd8-9ffca432d35d\",\"type\":\"ColumnDataSource\"},\"glyph\":{\"id\":\"90b4f61d-309e-4b92-92b8-1a1b37b37376\",\"type\":\"Rect\"},\"hover_glyph\":null,\"nonselection_glyph\":null,\"selection_glyph\":null},\"id\":\"d0986f2b-c647-401f-8548-cfb8fb99a7c3\",\"type\":\"GlyphRenderer\"},{\"attributes\":{\"data_source\":{\"id\":\"045e1811-259d-4678-bf01-e8030d60d512\",\"type\":\"ColumnDataSource\"},\"glyph\":{\"id\":\"75c6c00d-70d1-48e6-bc07-77b0be1238c8\",\"type\":\"Rect\"},\"hover_glyph\":null,\"nonselection_glyph\":null,\"selection_glyph\":null},\"id\":\"92c1fc04-696b-4f74-be6e-03361cfda69f\",\"type\":\"GlyphRenderer\"},{\"attributes\":{\"data_source\":{\"id\":\"1900c433-dbf7-40b7-ade1-ee409de4869f\",\"type\":\"ColumnDataSource\"},\"glyph\":{\"id\":\"26a900f0-dd32-47e2-90e8-d0505a83cd7e\",\"type\":\"Rect\"},\"hover_glyph\":null,\"nonselection_glyph\":null,\"selection_glyph\":null},\"id\":\"1c1277f3-2800-460b-8a15-f008e3562cf1\",\"type\":\"GlyphRenderer\"},{\"attributes\":{\"data_source\":{\"id\":\"9354a8c4-1dad-4622-aa90-4b21279930b8\",\"type\":\"ColumnDataSource\"},\"glyph\":{\"id\":\"ad9f7de6-d1b2-4bc4-bab0-7422d0fb2f56\",\"type\":\"Rect\"},\"hover_glyph\":null,\"nonselection_glyph\":null,\"selection_glyph\":null},\"id\":\"05403b13-5b65-4686-ae6e-74ee284381fd\",\"type\":\"GlyphRenderer\"},{\"attributes\":{\"callback\":null,\"column_names\":[\"y\",\"fill_alpha\",\"label\",\"line_alpha\",\"x\",\"line_color\",\"color\",\"height\",\"width\"],\"data\":{\"chart_index\":[\"(117.236159, 119.192248]\"],\"color\":[\"#f22c40\"],\"fill_alpha\":[0.8],\"height\":[21.0],\"label\":[\"(117.236159, 119.192248]\"],\"line_alpha\":[1.0],\"line_color\":[\"black\"],\"width\":[1.9560889049004118],\"x\":[\"118.2142035\"],\"y\":[10.5]}},\"id\":\"045e1811-259d-4678-bf01-e8030d60d512\",\"type\":\"ColumnDataSource\"},{\"attributes\":{\"fill_alpha\":{\"field\":\"fill_alpha\"},\"fill_color\":{\"field\":\"color\"},\"height\":{\"field\":\"height\",\"units\":\"data\"},\"line_color\":{\"field\":\"line_color\"},\"width\":{\"field\":\"width\",\"units\":\"data\"},\"x\":{\"field\":\"x\"},\"y\":{\"field\":\"y\"}},\"id\":\"f5713565-0d72-412f-a5e7-e08899e55c39\",\"type\":\"Rect\"},{\"attributes\":{},\"id\":\"41e48dc1-133b-470e-9fad-c22eee129989\",\"type\":\"BasicTicker\"},{\"attributes\":{\"fill_alpha\":{\"field\":\"fill_alpha\"},\"fill_color\":{\"field\":\"color\"},\"height\":{\"field\":\"height\",\"units\":\"data\"},\"line_color\":{\"field\":\"line_color\"},\"width\":{\"field\":\"width\",\"units\":\"data\"},\"x\":{\"field\":\"x\"},\"y\":{\"field\":\"y\"}},\"id\":\"da6c05a5-184e-4d0f-aeea-86c94a94d299\",\"type\":\"Rect\"},{\"attributes\":{\"callback\":null,\"column_names\":[\"y\",\"fill_alpha\",\"label\",\"line_alpha\",\"x\",\"line_color\",\"color\",\"height\",\"width\"],\"data\":{\"chart_index\":[\"(967.608544, 987.355553]\"],\"color\":[\"#f22c40\"],\"fill_alpha\":[0.8],\"height\":[1.0],\"label\":[\"(967.608544, 987.355553]\"],\"line_alpha\":[1.0],\"line_color\":[\"black\"],\"width\":[19.74700911880643],\"x\":[\"977.4820485\"],\"y\":[0.5]}},\"id\":\"c25ea22f-4238-4e27-a99e-d0b864ee1be3\",\"type\":\"ColumnDataSource\"},{\"attributes\":{\"data_source\":{\"id\":\"2e516377-2b5e-4c0e-a70a-08c8b79624dc\",\"type\":\"ColumnDataSource\"},\"glyph\":{\"id\":\"87199e86-15fb-4f60-842d-5350f45f5514\",\"type\":\"Rect\"},\"hover_glyph\":null,\"nonselection_glyph\":null,\"selection_glyph\":null},\"id\":\"a0011f0e-4b68-4b2e-a764-ae4833cece6c\",\"type\":\"GlyphRenderer\"},{\"attributes\":{\"fill_alpha\":{\"field\":\"fill_alpha\"},\"fill_color\":{\"field\":\"color\"},\"height\":{\"field\":\"height\",\"units\":\"data\"},\"line_color\":{\"field\":\"line_color\"},\"width\":{\"field\":\"width\",\"units\":\"data\"},\"x\":{\"field\":\"x\"},\"y\":{\"field\":\"y\"}},\"id\":\"606ac3a4-0e54-40f3-83a9-b2adc5df30ee\",\"type\":\"Rect\"},{\"attributes\":{\"callback\":null,\"column_names\":[\"y\",\"fill_alpha\",\"label\",\"line_alpha\",\"x\",\"line_color\",\"color\",\"height\",\"width\"],\"data\":{\"chart_index\":[\"(2.562784, 4.113324]\"],\"color\":[\"#f22c40\"],\"fill_alpha\":[0.8],\"height\":[0.0],\"label\":[\"(2.562784, 4.113324]\"],\"line_alpha\":[1.0],\"line_color\":[\"black\"],\"width\":[1.5505400157089868],\"x\":[\"3.3380540000000005\"],\"y\":[0.0]}},\"id\":\"ce592784-a6ba-41f6-a484-4d965cc62853\",\"type\":\"ColumnDataSource\"},{\"attributes\":{\"fill_alpha\":{\"field\":\"fill_alpha\"},\"fill_color\":{\"field\":\"color\"},\"height\":{\"field\":\"height\",\"units\":\"data\"},\"line_color\":{\"field\":\"line_color\"},\"width\":{\"field\":\"width\",\"units\":\"data\"},\"x\":{\"field\":\"x\"},\"y\":{\"field\":\"y\"}},\"id\":\"fe56a257-d336-4d5a-8d60-354ea6a035e2\",\"type\":\"Rect\"},{\"attributes\":{\"data_source\":{\"id\":\"b4892b67-0d9a-4f9e-9fb2-f60ea7c40e1a\",\"type\":\"ColumnDataSource\"},\"glyph\":{\"id\":\"e4dd4a77-e6a4-48e8-b10a-b51dc6bab9af\",\"type\":\"Rect\"},\"hover_glyph\":null,\"nonselection_glyph\":null,\"selection_glyph\":null},\"id\":\"93067e60-caa9-43c2-808f-2dc3f4e366ba\",\"type\":\"GlyphRenderer\"},{\"attributes\":{\"callback\":null,\"column_names\":[\"y\",\"fill_alpha\",\"label\",\"line_alpha\",\"x\",\"line_color\",\"color\",\"height\",\"width\"],\"data\":{\"chart_index\":[\"(69.999479, 71.999271]\"],\"color\":[\"#f22c40\"],\"fill_alpha\":[0.8],\"height\":[207.0],\"label\":[\"(69.999479, 71.999271]\"],\"line_alpha\":[1.0],\"line_color\":[\"black\"],\"width\":[1.9997923043628987],\"x\":[\"70.99937499999999\"],\"y\":[103.5]}},\"id\":\"3c30f1ac-36bb-404b-96a7-9bc35597612b\",\"type\":\"ColumnDataSource\"},{\"attributes\":{\"callback\":null,\"column_names\":[\"y\",\"fill_alpha\",\"label\",\"line_alpha\",\"x\",\"line_color\",\"color\",\"height\",\"width\"],\"data\":{\"chart_index\":[\"(829.379480, 849.126489]\"],\"color\":[\"#f22c40\"],\"fill_alpha\":[0.8],\"height\":[0.0],\"label\":[\"(829.379480, 849.126489]\"],\"line_alpha\":[1.0],\"line_color\":[\"black\"],\"width\":[19.74700911880643],\"x\":[\"839.2529844999999\"],\"y\":[0.0]}},\"id\":\"c9fe10d3-64ec-41bc-bef2-da8a82eb620a\",\"type\":\"ColumnDataSource\"},{\"attributes\":{\"data_source\":{\"id\":\"bebd7a0f-0055-4d70-9d75-829e1ce1f23a\",\"type\":\"ColumnDataSource\"},\"glyph\":{\"id\":\"07ee8638-e2ac-40dc-85b5-86adddb42ca6\",\"type\":\"Rect\"},\"hover_glyph\":null,\"nonselection_glyph\":null,\"selection_glyph\":null},\"id\":\"4007b4ae-9eb5-4a00-a44d-ca537fb250d3\",\"type\":\"GlyphRenderer\"},{\"attributes\":{\"callback\":null,\"column_names\":[\"y\",\"fill_alpha\",\"label\",\"line_alpha\",\"x\",\"line_color\",\"color\",\"height\",\"width\"],\"data\":{\"chart_index\":[\"(58.553492, 60.509581]\"],\"color\":[\"#f22c40\"],\"fill_alpha\":[0.8],\"height\":[271.0],\"label\":[\"(58.553492, 60.509581]\"],\"line_alpha\":[1.0],\"line_color\":[\"black\"],\"width\":[1.9560889049004118],\"x\":[\"59.5315365\"],\"y\":[135.5]}},\"id\":\"294defcb-e98b-49d8-80ae-7f57780fcac8\",\"type\":\"ColumnDataSource\"},{\"attributes\":{\"callback\":null,\"column_names\":[\"y\",\"fill_alpha\",\"label\",\"line_alpha\",\"x\",\"line_color\",\"color\",\"height\",\"width\"],\"data\":{\"chart_index\":[\"(50.001556, 52.001348]\"],\"color\":[\"#f22c40\"],\"fill_alpha\":[0.8],\"height\":[210.0],\"label\":[\"(50.001556, 52.001348]\"],\"line_alpha\":[1.0],\"line_color\":[\"black\"],\"width\":[1.9997923043628987],\"x\":[\"51.001452\"],\"y\":[105.0]}},\"id\":\"b4e3d4d7-c2f7-4eba-a9b4-7b4baccb849a\",\"type\":\"ColumnDataSource\"},{\"attributes\":{\"data_source\":{\"id\":\"a9346f39-cd4d-4275-b556-76704982b41f\",\"type\":\"ColumnDataSource\"},\"glyph\":{\"id\":\"cfa80fac-67c2-4dff-860f-d1e3774e1d5f\",\"type\":\"Rect\"},\"hover_glyph\":null,\"nonselection_glyph\":null,\"selection_glyph\":null},\"id\":\"474d40ba-fe84-462f-9462-1e8402de36c4\",\"type\":\"GlyphRenderer\"},{\"attributes\":{\"callback\":null,\"column_names\":[\"y\",\"fill_alpha\",\"label\",\"line_alpha\",\"x\",\"line_color\",\"color\",\"height\",\"width\"],\"data\":{\"chart_index\":[\"(375.198270, 394.945279]\"],\"color\":[\"#f22c40\"],\"fill_alpha\":[0.8],\"height\":[49.0],\"label\":[\"(375.198270, 394.945279]\"],\"line_alpha\":[1.0],\"line_color\":[\"black\"],\"width\":[19.747009118806375],\"x\":[\"385.0717745\"],\"y\":[24.5]}},\"id\":\"e29db95b-7cd5-4005-a50a-106a78631742\",\"type\":\"ColumnDataSource\"},{\"attributes\":{\"fill_alpha\":{\"field\":\"fill_alpha\"},\"fill_color\":{\"field\":\"color\"},\"height\":{\"field\":\"height\",\"units\":\"data\"},\"line_color\":{\"field\":\"line_color\"},\"width\":{\"field\":\"width\",\"units\":\"data\"},\"x\":{\"field\":\"x\"},\"y\":{\"field\":\"y\"}},\"id\":\"53169768-99be-41a0-8cf6-63637c14498d\",\"type\":\"Rect\"},{\"attributes\":{\"fill_alpha\":{\"field\":\"fill_alpha\"},\"fill_color\":{\"field\":\"color\"},\"height\":{\"field\":\"height\",\"units\":\"data\"},\"line_color\":{\"field\":\"line_color\"},\"width\":{\"field\":\"width\",\"units\":\"data\"},\"x\":{\"field\":\"x\"},\"y\":{\"field\":\"y\"}},\"id\":\"a3b3eb76-66c7-4f0a-88b8-1665c6692ef7\",\"type\":\"Rect\"},{\"attributes\":{\"fill_alpha\":{\"field\":\"fill_alpha\"},\"fill_color\":{\"field\":\"color\"},\"height\":{\"field\":\"height\",\"units\":\"data\"},\"line_color\":{\"field\":\"line_color\"},\"width\":{\"field\":\"width\",\"units\":\"data\"},\"x\":{\"field\":\"x\"},\"y\":{\"field\":\"y\"}},\"id\":\"563c7ae4-2fe4-41c7-9b56-265b24b64035\",\"type\":\"Rect\"},{\"attributes\":{\"data_source\":{\"id\":\"4121a25c-e421-413f-bffc-5d6f6f2332cc\",\"type\":\"ColumnDataSource\"},\"glyph\":{\"id\":\"ab6ae1ff-f0bb-443f-b596-c2f12c281528\",\"type\":\"Rect\"},\"hover_glyph\":null,\"nonselection_glyph\":null,\"selection_glyph\":null},\"id\":\"0a8795b6-1bc7-4212-ba76-189d11687793\",\"type\":\"GlyphRenderer\"},{\"attributes\":{\"callback\":null,\"column_names\":[\"y\",\"fill_alpha\",\"label\",\"line_alpha\",\"x\",\"line_color\",\"color\",\"height\",\"width\"],\"data\":{\"chart_index\":[\"(552.921352, 572.668361]\"],\"color\":[\"#f22c40\"],\"fill_alpha\":[0.8],\"height\":[8.0],\"label\":[\"(552.921352, 572.668361]\"],\"line_alpha\":[1.0],\"line_color\":[\"black\"],\"width\":[19.74700911880643],\"x\":[\"562.7948564999999\"],\"y\":[4.0]}},\"id\":\"3cbebb67-f544-477b-9f9a-0579033672a5\",\"type\":\"ColumnDataSource\"},{\"attributes\":{\"data_source\":{\"id\":\"f5a395d4-28c5-404f-b842-c5223eeed422\",\"type\":\"ColumnDataSource\"},\"glyph\":{\"id\":\"05dfaea2-ed66-44d6-9c65-af1932eb34cb\",\"type\":\"Rect\"},\"hover_glyph\":null,\"nonselection_glyph\":null,\"selection_glyph\":null},\"id\":\"4c86abbd-98f8-4786-8888-3f8ae12e73f7\",\"type\":\"GlyphRenderer\"},{\"attributes\":{\"data_source\":{\"id\":\"a5c8d1f0-5e0f-4d35-aad3-d99569afb456\",\"type\":\"ColumnDataSource\"},\"glyph\":{\"id\":\"87ac124f-124b-4401-a4ce-d44e12641873\",\"type\":\"Rect\"},\"hover_glyph\":null,\"nonselection_glyph\":null,\"selection_glyph\":null},\"id\":\"133173be-208f-4320-a3d1-797d796ee884\",\"type\":\"GlyphRenderer\"},{\"attributes\":{\"fill_alpha\":{\"field\":\"fill_alpha\"},\"fill_color\":{\"field\":\"color\"},\"height\":{\"field\":\"height\",\"units\":\"data\"},\"line_color\":{\"field\":\"line_color\"},\"width\":{\"field\":\"width\",\"units\":\"data\"},\"x\":{\"field\":\"x\"},\"y\":{\"field\":\"y\"}},\"id\":\"d088c94f-c99d-4f13-af31-9ffe98ceb13f\",\"type\":\"Rect\"},{\"attributes\":{\"data_source\":{\"id\":\"7186e8e6-a89d-467c-92cd-1b4677b08360\",\"type\":\"ColumnDataSource\"},\"glyph\":{\"id\":\"f8c5b476-4475-4142-bca6-d91e5bda38cf\",\"type\":\"Rect\"},\"hover_glyph\":null,\"nonselection_glyph\":null,\"selection_glyph\":null},\"id\":\"a5fd5f3d-5b54-4175-ab7a-2b35949309a2\",\"type\":\"GlyphRenderer\"},{\"attributes\":{\"bottom_units\":\"screen\",\"fill_alpha\":{\"value\":0.5},\"fill_color\":{\"value\":\"lightgrey\"},\"left_units\":\"screen\",\"level\":\"overlay\",\"line_alpha\":{\"value\":1.0},\"line_color\":{\"value\":\"black\"},\"line_dash\":[4,4],\"line_width\":{\"value\":2},\"plot\":null,\"render_mode\":\"css\",\"right_units\":\"screen\",\"top_units\":\"screen\"},\"id\":\"e4c92dc2-19b5-4291-904a-2f9f0684d463\",\"type\":\"BoxAnnotation\"},{\"attributes\":{\"fill_alpha\":{\"field\":\"fill_alpha\"},\"fill_color\":{\"field\":\"color\"},\"height\":{\"field\":\"height\",\"units\":\"data\"},\"line_color\":{\"field\":\"line_color\"},\"width\":{\"field\":\"width\",\"units\":\"data\"},\"x\":{\"field\":\"x\"},\"y\":{\"field\":\"y\"}},\"id\":\"1df3b58c-7a2d-4f34-a1d7-c3a68beeb879\",\"type\":\"Rect\"},{\"attributes\":{\"plot\":{\"id\":\"42cfec60-226a-4b10-b05a-c87660a395df\",\"subtype\":\"Chart\",\"type\":\"Plot\"}},\"id\":\"2cedf573-8ba0-4c24-ae1d-494def2b2e49\",\"type\":\"SaveTool\"},{\"attributes\":{\"fill_alpha\":{\"field\":\"fill_alpha\"},\"fill_color\":{\"field\":\"color\"},\"height\":{\"field\":\"height\",\"units\":\"data\"},\"line_color\":{\"field\":\"line_color\"},\"width\":{\"field\":\"width\",\"units\":\"data\"},\"x\":{\"field\":\"x\"},\"y\":{\"field\":\"y\"}},\"id\":\"83395ac2-3ab9-463c-81f5-25a5072f4278\",\"type\":\"Rect\"},{\"attributes\":{\"fill_alpha\":{\"field\":\"fill_alpha\"},\"fill_color\":{\"field\":\"color\"},\"height\":{\"field\":\"height\",\"units\":\"data\"},\"line_color\":{\"field\":\"line_color\"},\"width\":{\"field\":\"width\",\"units\":\"data\"},\"x\":{\"field\":\"x\"},\"y\":{\"field\":\"y\"}},\"id\":\"6171acca-28a9-4259-87ba-3633e378e63b\",\"type\":\"Rect\"},{\"attributes\":{\"data_source\":{\"id\":\"344b1990-7c13-4074-9921-5ca8828d2799\",\"type\":\"ColumnDataSource\"},\"glyph\":{\"id\":\"969bb375-2c9e-415e-aeeb-e62a9c28f5de\",\"type\":\"Rect\"},\"hover_glyph\":null,\"nonselection_glyph\":null,\"selection_glyph\":null},\"id\":\"bff3ed5d-7111-42ef-a4e0-366638138f5c\",\"type\":\"GlyphRenderer\"},{\"attributes\":{},\"id\":\"634d84f2-a8fb-4441-b862-30d029731ed1\",\"type\":\"BasicTicker\"},{\"attributes\":{\"fill_alpha\":{\"field\":\"fill_alpha\"},\"fill_color\":{\"field\":\"color\"},\"height\":{\"field\":\"height\",\"units\":\"data\"},\"line_color\":{\"field\":\"line_color\"},\"width\":{\"field\":\"width\",\"units\":\"data\"},\"x\":{\"field\":\"x\"},\"y\":{\"field\":\"y\"}},\"id\":\"e9471b23-ad47-46d6-9cb7-4088ab6bae69\",\"type\":\"Rect\"},{\"attributes\":{\"callback\":null,\"column_names\":[\"y\",\"fill_alpha\",\"label\",\"line_alpha\",\"x\",\"line_color\",\"color\",\"height\",\"width\"],\"data\":{\"chart_index\":[\"(111.995118, 113.994910]\"],\"color\":[\"#f22c40\"],\"fill_alpha\":[0.8],\"height\":[191.0],\"label\":[\"(111.995118, 113.994910]\"],\"line_alpha\":[1.0],\"line_color\":[\"black\"],\"width\":[1.9997923043628987],\"x\":[\"112.995014\"],\"y\":[95.5]}},\"id\":\"642db14a-ca92-43b4-8b68-d15f606d8099\",\"type\":\"ColumnDataSource\"},{\"attributes\":{\"fill_alpha\":{\"field\":\"fill_alpha\"},\"fill_color\":{\"field\":\"color\"},\"height\":{\"field\":\"height\",\"units\":\"data\"},\"line_color\":{\"field\":\"line_color\"},\"width\":{\"field\":\"width\",\"units\":\"data\"},\"x\":{\"field\":\"x\"},\"y\":{\"field\":\"y\"}},\"id\":\"acd0e18a-3c2c-404f-b746-1f65de42e99f\",\"type\":\"Rect\"},{\"attributes\":{\"callback\":null,\"column_names\":[\"y\",\"fill_alpha\",\"label\",\"line_alpha\",\"x\",\"line_color\",\"color\",\"height\",\"width\"],\"data\":{\"chart_index\":[\"(928.114525, 947.861535]\"],\"color\":[\"#f22c40\"],\"fill_alpha\":[0.8],\"height\":[1.0],\"label\":[\"(928.114525, 947.861535]\"],\"line_alpha\":[1.0],\"line_color\":[\"black\"],\"width\":[19.74700911880643],\"x\":[\"937.98803\"],\"y\":[0.5]}},\"id\":\"bffce4e5-6b89-45a9-b88f-bac52ecbefe7\",\"type\":\"ColumnDataSource\"},{\"attributes\":{\"fill_alpha\":{\"field\":\"fill_alpha\"},\"fill_color\":{\"field\":\"color\"},\"height\":{\"field\":\"height\",\"units\":\"data\"},\"line_color\":{\"field\":\"line_color\"},\"width\":{\"field\":\"width\",\"units\":\"data\"},\"x\":{\"field\":\"x\"},\"y\":{\"field\":\"y\"}},\"id\":\"dec0d1b0-572c-481e-88c2-93ba2ab1ca90\",\"type\":\"Rect\"},{\"attributes\":{\"callback\":null,\"column_names\":[\"y\",\"fill_alpha\",\"label\",\"line_alpha\",\"x\",\"line_color\",\"color\",\"height\",\"width\"],\"data\":{\"chart_index\":[\"(39.499115, 59.246124]\"],\"color\":[\"#f22c40\"],\"fill_alpha\":[0.8],\"height\":[1193.0],\"label\":[\"(39.499115, 59.246124]\"],\"line_alpha\":[1.0],\"line_color\":[\"black\"],\"width\":[19.74700911880641],\"x\":[\"49.3726195\"],\"y\":[596.5]}},\"id\":\"bebd7a0f-0055-4d70-9d75-829e1ce1f23a\",\"type\":\"ColumnDataSource\"},{\"attributes\":{\"fill_alpha\":{\"field\":\"fill_alpha\"},\"fill_color\":{\"field\":\"color\"},\"height\":{\"field\":\"height\",\"units\":\"data\"},\"line_color\":{\"field\":\"line_color\"},\"width\":{\"field\":\"width\",\"units\":\"data\"},\"x\":{\"field\":\"x\"},\"y\":{\"field\":\"y\"}},\"id\":\"f7b2cedd-91ae-4b79-ba25-a8ab98d8ed9f\",\"type\":\"Rect\"},{\"attributes\":{\"callback\":null,\"end\":1919.5000000000002},\"id\":\"0b79402f-7abc-45e5-b5ef-0dd58183ab45\",\"type\":\"Range1d\"},{\"attributes\":{\"data_source\":{\"id\":\"9431f7e2-12d5-4c6d-895d-d997d0b5feb7\",\"type\":\"ColumnDataSource\"},\"glyph\":{\"id\":\"c5530880-8dbb-4ac3-8717-fb60b99fb2cd\",\"type\":\"Rect\"},\"hover_glyph\":null,\"nonselection_glyph\":null,\"selection_glyph\":null},\"id\":\"f4807438-180a-42a7-98ff-71f919007042\",\"type\":\"GlyphRenderer\"},{\"attributes\":{\"data_source\":{\"id\":\"7d5fc69e-98b0-4077-aa20-7ba0007a33b4\",\"type\":\"ColumnDataSource\"},\"glyph\":{\"id\":\"abbe1fba-be69-4f02-b73b-422a2145306e\",\"type\":\"Rect\"},\"hover_glyph\":null,\"nonselection_glyph\":null,\"selection_glyph\":null},\"id\":\"453e0803-f38b-411f-a3a0-b312fa7a7fa3\",\"type\":\"GlyphRenderer\"},{\"attributes\":{},\"id\":\"d2700ba2-ad07-4864-b356-2f2da1f354e4\",\"type\":\"ToolEvents\"},{\"attributes\":{\"plot\":{\"id\":\"42cfec60-226a-4b10-b05a-c87660a395df\",\"subtype\":\"Chart\",\"type\":\"Plot\"}},\"id\":\"9df4eb32-7e3d-4119-a6fc-ee2966a4af5c\",\"type\":\"PanTool\"},{\"attributes\":{\"callback\":null,\"column_names\":[\"y\",\"fill_alpha\",\"label\",\"line_alpha\",\"x\",\"line_color\",\"color\",\"height\",\"width\"],\"data\":{\"chart_index\":[\"(77.998648, 79.998441]\"],\"color\":[\"#f22c40\"],\"fill_alpha\":[0.8],\"height\":[210.0],\"label\":[\"(77.998648, 79.998441]\"],\"line_alpha\":[1.0],\"line_color\":[\"black\"],\"width\":[1.9997923043628987],\"x\":[\"78.99854450000001\"],\"y\":[105.0]}},\"id\":\"e16160d4-32c7-456c-8d6f-5fc66d133778\",\"type\":\"ColumnDataSource\"},{\"attributes\":{\"data_source\":{\"id\":\"a27349ce-df6b-4bef-a10c-6fed33127453\",\"type\":\"ColumnDataSource\"},\"glyph\":{\"id\":\"2ebd4ec7-58f0-488c-ae93-9aac1d46c0a7\",\"type\":\"Rect\"},\"hover_glyph\":null,\"nonselection_glyph\":null,\"selection_glyph\":null},\"id\":\"d12d1cd1-016e-4961-a45d-36740bdc9c61\",\"type\":\"GlyphRenderer\"},{\"attributes\":{\"plot\":{\"id\":\"e248c624-063b-473b-9b7d-e65e46602b02\",\"subtype\":\"Chart\",\"type\":\"Plot\"}},\"id\":\"45620457-10dc-4733-a215-b63efbf67d7a\",\"type\":\"SaveTool\"},{\"attributes\":{\"fill_alpha\":{\"field\":\"fill_alpha\"},\"fill_color\":{\"field\":\"color\"},\"height\":{\"field\":\"height\",\"units\":\"data\"},\"line_color\":{\"field\":\"line_color\"},\"width\":{\"field\":\"width\",\"units\":\"data\"},\"x\":{\"field\":\"x\"},\"y\":{\"field\":\"y\"}},\"id\":\"8b69af00-2580-4026-a4ad-b9ba6168cc49\",\"type\":\"Rect\"},{\"attributes\":{\"plot\":null,\"text\":null},\"id\":\"e24364f1-3000-406f-b02d-1575067add9b\",\"type\":\"Title\"},{\"attributes\":{\"data_source\":{\"id\":\"f9d16b59-de75-4d34-a252-851dc8f110a7\",\"type\":\"ColumnDataSource\"},\"glyph\":{\"id\":\"82381cea-99d6-4499-9acc-819165d5157d\",\"type\":\"Rect\"},\"hover_glyph\":null,\"nonselection_glyph\":null,\"selection_glyph\":null},\"id\":\"6c43aadb-8683-4164-9c25-74645d4e2bf0\",\"type\":\"GlyphRenderer\"},{\"attributes\":{\"plot\":{\"id\":\"e248c624-063b-473b-9b7d-e65e46602b02\",\"subtype\":\"Chart\",\"type\":\"Plot\"}},\"id\":\"cd92cea0-fdc3-4048-98d6-0540264da520\",\"type\":\"WheelZoomTool\"},{\"attributes\":{\"fill_alpha\":{\"field\":\"fill_alpha\"},\"fill_color\":{\"field\":\"color\"},\"height\":{\"field\":\"height\",\"units\":\"data\"},\"line_color\":{\"field\":\"line_color\"},\"width\":{\"field\":\"width\",\"units\":\"data\"},\"x\":{\"field\":\"x\"},\"y\":{\"field\":\"y\"}},\"id\":\"4ea3149f-dc9f-4115-919d-35ba0a675723\",\"type\":\"Rect\"},{\"attributes\":{},\"id\":\"093a0d03-c8c1-4284-86fd-98de0dc52488\",\"type\":\"ToolEvents\"},{\"attributes\":{\"data_source\":{\"id\":\"9f5bc2da-98b8-4707-98d9-b5910f5af582\",\"type\":\"ColumnDataSource\"},\"glyph\":{\"id\":\"da6c05a5-184e-4d0f-aeea-86c94a94d299\",\"type\":\"Rect\"},\"hover_glyph\":null,\"nonselection_glyph\":null,\"selection_glyph\":null},\"id\":\"e591f0ea-6885-4a51-a507-0fc93f7690fe\",\"type\":\"GlyphRenderer\"},{\"attributes\":{\"fill_alpha\":{\"field\":\"fill_alpha\"},\"fill_color\":{\"field\":\"color\"},\"height\":{\"field\":\"height\",\"units\":\"data\"},\"line_color\":{\"field\":\"line_color\"},\"width\":{\"field\":\"width\",\"units\":\"data\"},\"x\":{\"field\":\"x\"},\"y\":{\"field\":\"y\"}},\"id\":\"3de6e56c-e3c4-4509-8437-8cf7120a6322\",\"type\":\"Rect\"},{\"attributes\":{\"data_source\":{\"id\":\"bc9f4daa-d71c-47d7-baee-ee8c99ed88df\",\"type\":\"ColumnDataSource\"},\"glyph\":{\"id\":\"0dfb0f8c-69ee-45f3-8ec2-c804ababd222\",\"type\":\"Rect\"},\"hover_glyph\":null,\"nonselection_glyph\":null,\"selection_glyph\":null},\"id\":\"b1284478-cfc8-443d-962d-675a6f8e795e\",\"type\":\"GlyphRenderer\"},{\"attributes\":{\"fill_alpha\":{\"field\":\"fill_alpha\"},\"fill_color\":{\"field\":\"color\"},\"height\":{\"field\":\"height\",\"units\":\"data\"},\"line_color\":{\"field\":\"line_color\"},\"width\":{\"field\":\"width\",\"units\":\"data\"},\"x\":{\"field\":\"x\"},\"y\":{\"field\":\"y\"}},\"id\":\"e1f3c286-70a5-4ab6-ace2-9144df5a9500\",\"type\":\"Rect\"},{\"attributes\":{\"callback\":null,\"column_names\":[\"y\",\"fill_alpha\",\"label\",\"line_alpha\",\"x\",\"line_color\",\"color\",\"height\",\"width\"],\"data\":{\"chart_index\":[\"(70.786545, 72.337085]\"],\"color\":[\"#f22c40\"],\"fill_alpha\":[0.8],\"height\":[4.0],\"label\":[\"(70.786545, 72.337085]\"],\"line_alpha\":[1.0],\"line_color\":[\"black\"],\"width\":[1.5505400157089895],\"x\":[\"71.561815\"],\"y\":[2.0]}},\"id\":\"40ec2b1c-aea0-4d33-a56d-ec7be95623d2\",\"type\":\"ColumnDataSource\"},{\"attributes\":{\"callback\":null,\"column_names\":[\"y\",\"fill_alpha\",\"label\",\"line_alpha\",\"x\",\"line_color\",\"color\",\"height\",\"width\"],\"data\":{\"chart_index\":[\"(30.003633, 32.003425]\"],\"color\":[\"#f22c40\"],\"fill_alpha\":[0.8],\"height\":[203.0],\"label\":[\"(30.003633, 32.003425]\"],\"line_alpha\":[1.0],\"line_color\":[\"black\"],\"width\":[1.9997923043628951],\"x\":[\"31.003529\"],\"y\":[101.5]}},\"id\":\"bb20b5d0-5add-4158-83bc-2d6ee920401c\",\"type\":\"ColumnDataSource\"},{\"attributes\":{\"callback\":null,\"column_names\":[\"y\",\"fill_alpha\",\"label\",\"line_alpha\",\"x\",\"line_color\",\"color\",\"height\",\"width\"],\"data\":{\"chart_index\":[\"(157.981170, 177.728179]\"],\"color\":[\"#f22c40\"],\"fill_alpha\":[0.8],\"height\":[367.0],\"label\":[\"(157.981170, 177.728179]\"],\"line_alpha\":[1.0],\"line_color\":[\"black\"],\"width\":[19.747009118806403],\"x\":[\"167.8546745\"],\"y\":[183.5]}},\"id\":\"491a75d3-24c8-41a1-9bc9-d75a8822d02e\",\"type\":\"ColumnDataSource\"},{\"attributes\":{\"fill_alpha\":{\"field\":\"fill_alpha\"},\"fill_color\":{\"field\":\"color\"},\"height\":{\"field\":\"height\",\"units\":\"data\"},\"line_color\":{\"field\":\"line_color\"},\"width\":{\"field\":\"width\",\"units\":\"data\"},\"x\":{\"field\":\"x\"},\"y\":{\"field\":\"y\"}},\"id\":\"2c5f3c8b-0190-4cea-949a-43ec624b1ef7\",\"type\":\"Rect\"},{\"attributes\":{\"callback\":null,\"column_names\":[\"y\",\"fill_alpha\",\"label\",\"line_alpha\",\"x\",\"line_color\",\"color\",\"height\",\"width\"],\"data\":{\"chart_index\":[\"(50.729136, 52.685225]\"],\"color\":[\"#f22c40\"],\"fill_alpha\":[0.8],\"height\":[236.0],\"label\":[\"(50.729136, 52.685225]\"],\"line_alpha\":[1.0],\"line_color\":[\"black\"],\"width\":[1.9560889049004047],\"x\":[\"51.7071805\"],\"y\":[118.0]}},\"id\":\"a5c8d1f0-5e0f-4d35-aad3-d99569afb456\",\"type\":\"ColumnDataSource\"},{\"attributes\":{\"callback\":null,\"column_names\":[\"y\",\"fill_alpha\",\"label\",\"line_alpha\",\"x\",\"line_color\",\"color\",\"height\",\"width\"],\"data\":{\"chart_index\":[\"(56.597403, 58.553492]\"],\"color\":[\"#f22c40\"],\"fill_alpha\":[0.8],\"height\":[267.0],\"label\":[\"(56.597403, 58.553492]\"],\"line_alpha\":[1.0],\"line_color\":[\"black\"],\"width\":[1.9560889049004047],\"x\":[\"57.575447499999996\"],\"y\":[133.5]}},\"id\":\"3b0b860e-a8d0-40e2-ac1c-11512ba22e78\",\"type\":\"ColumnDataSource\"},{\"attributes\":{\"data_source\":{\"id\":\"41473bc3-49f1-46ab-911d-98d57b04f9f3\",\"type\":\"ColumnDataSource\"},\"glyph\":{\"id\":\"ea10decd-efcf-4adf-b5e1-17fbe06984f7\",\"type\":\"Rect\"},\"hover_glyph\":null,\"nonselection_glyph\":null,\"selection_glyph\":null},\"id\":\"5a8843ce-df94-468b-8206-ea740cdc5961\",\"type\":\"GlyphRenderer\"},{\"attributes\":{\"callback\":null,\"column_names\":[\"y\",\"fill_alpha\",\"label\",\"line_alpha\",\"x\",\"line_color\",\"color\",\"height\",\"width\"],\"data\":{\"chart_index\":[\"(868.873498, 888.620507]\"],\"color\":[\"#f22c40\"],\"fill_alpha\":[0.8],\"height\":[0.0],\"label\":[\"(868.873498, 888.620507]\"],\"line_alpha\":[1.0],\"line_color\":[\"black\"],\"width\":[19.74700911880643],\"x\":[\"878.7470025\"],\"y\":[0.0]}},\"id\":\"26e64d31-7de1-4199-a873-c95c9ce8dfb5\",\"type\":\"ColumnDataSource\"},{\"attributes\":{\"fill_alpha\":{\"field\":\"fill_alpha\"},\"fill_color\":{\"field\":\"color\"},\"height\":{\"field\":\"height\",\"units\":\"data\"},\"line_color\":{\"field\":\"line_color\"},\"width\":{\"field\":\"width\",\"units\":\"data\"},\"x\":{\"field\":\"x\"},\"y\":{\"field\":\"y\"}},\"id\":\"0e16cc46-6735-4659-9f68-d3ef3b2c873b\",\"type\":\"Rect\"},{\"attributes\":{\"callback\":null,\"column_names\":[\"y\",\"fill_alpha\",\"label\",\"line_alpha\",\"x\",\"line_color\",\"color\",\"height\",\"width\"],\"data\":{\"chart_index\":[\"(8.764944, 10.315484]\"],\"color\":[\"#f22c40\"],\"fill_alpha\":[0.8],\"height\":[7.0],\"label\":[\"(8.764944, 10.315484]\"],\"line_alpha\":[1.0],\"line_color\":[\"black\"],\"width\":[1.5505400157089877],\"x\":[\"9.540213999999999\"],\"y\":[3.5]}},\"id\":\"4121a25c-e421-413f-bffc-5d6f6f2332cc\",\"type\":\"ColumnDataSource\"},{\"attributes\":{\"fill_alpha\":{\"field\":\"fill_alpha\"},\"fill_color\":{\"field\":\"color\"},\"height\":{\"field\":\"height\",\"units\":\"data\"},\"line_color\":{\"field\":\"line_color\"},\"width\":{\"field\":\"width\",\"units\":\"data\"},\"x\":{\"field\":\"x\"},\"y\":{\"field\":\"y\"}},\"id\":\"4678cee3-a159-4346-98a2-7b76fd58d596\",\"type\":\"Rect\"},{\"attributes\":{\"plot\":{\"id\":\"ebf80998-1d9b-4911-98bb-96a6b2bac537\",\"subtype\":\"Chart\",\"type\":\"Plot\"}},\"id\":\"2d1a4c14-6098-4cfd-a992-9c32e8abd5e0\",\"type\":\"HelpTool\"},{\"attributes\":{\"fill_alpha\":{\"field\":\"fill_alpha\"},\"fill_color\":{\"field\":\"color\"},\"height\":{\"field\":\"height\",\"units\":\"data\"},\"line_color\":{\"field\":\"line_color\"},\"width\":{\"field\":\"width\",\"units\":\"data\"},\"x\":{\"field\":\"x\"},\"y\":{\"field\":\"y\"}},\"id\":\"6865b796-bb48-42c8-a48b-97ad3c026225\",\"type\":\"Rect\"},{\"attributes\":{\"callback\":null,\"column_names\":[\"y\",\"fill_alpha\",\"label\",\"line_alpha\",\"x\",\"line_color\",\"color\",\"height\",\"width\"],\"data\":{\"chart_index\":[\"[-0.538296, 1.012244]\"],\"color\":[\"#f22c40\"],\"fill_alpha\":[0.8],\"height\":[1.0],\"label\":[\"[-0.538296, 1.012244]\"],\"line_alpha\":[1.0],\"line_color\":[\"black\"],\"width\":[1.5505400157089868],\"x\":[\"0.23697399999999996\"],\"y\":[0.5]}},\"id\":\"98cd2683-1668-41f8-b034-9a921f4e59b1\",\"type\":\"ColumnDataSource\"},{\"attributes\":{\"callback\":null,\"column_names\":[\"y\",\"fill_alpha\",\"label\",\"line_alpha\",\"x\",\"line_color\",\"color\",\"height\",\"width\"],\"data\":{\"chart_index\":[\"[21.387802, 23.343891]\"],\"color\":[\"#f22c40\"],\"fill_alpha\":[0.8],\"height\":[37.0],\"label\":[\"[21.387802, 23.343891]\"],\"line_alpha\":[1.0],\"line_color\":[\"black\"],\"width\":[1.9560889049004082],\"x\":[\"22.3658465\"],\"y\":[18.5]}},\"id\":\"ac25e28d-cd5c-4594-b377-0137c302f897\",\"type\":\"ColumnDataSource\"},{\"attributes\":{\"axis_label\":\"a\",\"formatter\":{\"id\":\"58d8f96a-a619-4e06-adcd-1cae550f3e51\",\"type\":\"BasicTickFormatter\"},\"plot\":{\"id\":\"42cfec60-226a-4b10-b05a-c87660a395df\",\"subtype\":\"Chart\",\"type\":\"Plot\"},\"ticker\":{\"id\":\"634d84f2-a8fb-4441-b862-30d029731ed1\",\"type\":\"BasicTicker\"}},\"id\":\"62db9dbb-b640-4fd7-b857-c6870cc36c48\",\"type\":\"LinearAxis\"},{\"attributes\":{\"fill_alpha\":{\"field\":\"fill_alpha\"},\"fill_color\":{\"field\":\"color\"},\"height\":{\"field\":\"height\",\"units\":\"data\"},\"line_color\":{\"field\":\"line_color\"},\"width\":{\"field\":\"width\",\"units\":\"data\"},\"x\":{\"field\":\"x\"},\"y\":{\"field\":\"y\"}},\"id\":\"78882794-45b0-4f5e-aad4-453fb898fbf9\",\"type\":\"Rect\"},{\"attributes\":{\"fill_alpha\":{\"field\":\"fill_alpha\"},\"fill_color\":{\"field\":\"color\"},\"height\":{\"field\":\"height\",\"units\":\"data\"},\"line_color\":{\"field\":\"line_color\"},\"width\":{\"field\":\"width\",\"units\":\"data\"},\"x\":{\"field\":\"x\"},\"y\":{\"field\":\"y\"}},\"id\":\"05b5c788-430f-4416-ad0f-7c16d44c0c68\",\"type\":\"Rect\"},{\"attributes\":{},\"id\":\"8bee6a3a-443c-4d8e-947f-84a3e752a48c\",\"type\":\"BasicTicker\"},{\"attributes\":{\"data_source\":{\"id\":\"9fa9c741-f4c8-4ff9-9dd6-e9e590d08216\",\"type\":\"ColumnDataSource\"},\"glyph\":{\"id\":\"03dbca02-7f0b-4113-bd7a-9c0566548139\",\"type\":\"Rect\"},\"hover_glyph\":null,\"nonselection_glyph\":null,\"selection_glyph\":null},\"id\":\"3cd69d30-1298-49f4-b747-f2f714ee4297\",\"type\":\"GlyphRenderer\"},{\"attributes\":{\"callback\":null,\"column_names\":[\"y\",\"fill_alpha\",\"label\",\"line_alpha\",\"x\",\"line_color\",\"color\",\"height\",\"width\"],\"data\":{\"chart_index\":[\"(62.000310, 64.000102]\"],\"color\":[\"#f22c40\"],\"fill_alpha\":[0.8],\"height\":[194.0],\"label\":[\"(62.000310, 64.000102]\"],\"line_alpha\":[1.0],\"line_color\":[\"black\"],\"width\":[1.9997923043629058],\"x\":[\"63.000206\"],\"y\":[97.0]}},\"id\":\"cc544274-4c62-463c-8572-90ca6f138c2e\",\"type\":\"ColumnDataSource\"},{\"attributes\":{\"fill_alpha\":{\"field\":\"fill_alpha\"},\"fill_color\":{\"field\":\"color\"},\"height\":{\"field\":\"height\",\"units\":\"data\"},\"line_color\":{\"field\":\"line_color\"},\"width\":{\"field\":\"width\",\"units\":\"data\"},\"x\":{\"field\":\"x\"},\"y\":{\"field\":\"y\"}},\"id\":\"80f93319-d509-401d-9169-a1b38057805b\",\"type\":\"Rect\"},{\"attributes\":{\"fill_alpha\":{\"field\":\"fill_alpha\"},\"fill_color\":{\"field\":\"color\"},\"height\":{\"field\":\"height\",\"units\":\"data\"},\"line_color\":{\"field\":\"line_color\"},\"width\":{\"field\":\"width\",\"units\":\"data\"},\"x\":{\"field\":\"x\"},\"y\":{\"field\":\"y\"}},\"id\":\"46529d49-9529-4805-ab61-c7a37e75ad0d\",\"type\":\"Rect\"},{\"attributes\":{\"plot\":{\"id\":\"7a1cd8b3-4ad4-43a6-9e36-4c8297df94c3\",\"subtype\":\"Chart\",\"type\":\"Plot\"}},\"id\":\"51720956-25a0-4870-95de-4514270d7a20\",\"type\":\"SaveTool\"},{\"attributes\":{\"callback\":null,\"column_names\":[\"y\",\"fill_alpha\",\"label\",\"line_alpha\",\"x\",\"line_color\",\"color\",\"height\",\"width\"],\"data\":{\"chart_index\":[\"(44.860869, 46.816958]\"],\"color\":[\"#f22c40\"],\"fill_alpha\":[0.8],\"height\":[203.0],\"label\":[\"(44.860869, 46.816958]\"],\"line_alpha\":[1.0],\"line_color\":[\"black\"],\"width\":[1.9560889049004047],\"x\":[\"45.838913500000004\"],\"y\":[101.5]}},\"id\":\"34d8bd31-aa6a-4838-92eb-25a363fcacd8\",\"type\":\"ColumnDataSource\"},{\"attributes\":{\"callback\":null,\"column_names\":[\"y\",\"fill_alpha\",\"label\",\"line_alpha\",\"x\",\"line_color\",\"color\",\"height\",\"width\"],\"data\":{\"chart_index\":[\"(671.403407, 691.150416]\"],\"color\":[\"#f22c40\"],\"fill_alpha\":[0.8],\"height\":[3.0],\"label\":[\"(671.403407, 691.150416]\"],\"line_alpha\":[1.0],\"line_color\":[\"black\"],\"width\":[19.747009118806318],\"x\":[\"681.2769115\"],\"y\":[1.5]}},\"id\":\"0151c009-4ae0-440a-ae68-d354c971d8f4\",\"type\":\"ColumnDataSource\"},{\"attributes\":{\"data_source\":{\"id\":\"ca64e8b3-0c8d-4c50-9030-4f76638e049b\",\"type\":\"ColumnDataSource\"},\"glyph\":{\"id\":\"f755c3f0-75a4-46e2-a29b-81b02346d990\",\"type\":\"Rect\"},\"hover_glyph\":null,\"nonselection_glyph\":null,\"selection_glyph\":null},\"id\":\"5201a242-bdf9-40e0-8dc9-434e291d72b7\",\"type\":\"GlyphRenderer\"},{\"attributes\":{\"fill_alpha\":{\"field\":\"fill_alpha\"},\"fill_color\":{\"field\":\"color\"},\"height\":{\"field\":\"height\",\"units\":\"data\"},\"line_color\":{\"field\":\"line_color\"},\"width\":{\"field\":\"width\",\"units\":\"data\"},\"x\":{\"field\":\"x\"},\"y\":{\"field\":\"y\"}},\"id\":\"6342ec02-1ee8-4a0b-89bf-d6aa92b7b695\",\"type\":\"Rect\"},{\"attributes\":{\"fill_alpha\":{\"field\":\"fill_alpha\"},\"fill_color\":{\"field\":\"color\"},\"height\":{\"field\":\"height\",\"units\":\"data\"},\"line_color\":{\"field\":\"line_color\"},\"width\":{\"field\":\"width\",\"units\":\"data\"},\"x\":{\"field\":\"x\"},\"y\":{\"field\":\"y\"}},\"id\":\"cfa80fac-67c2-4dff-860f-d1e3774e1d5f\",\"type\":\"Rect\"},{\"attributes\":{\"data_source\":{\"id\":\"9289e883-ed0a-47c7-a65e-c1dd8769f10b\",\"type\":\"ColumnDataSource\"},\"glyph\":{\"id\":\"78882794-45b0-4f5e-aad4-453fb898fbf9\",\"type\":\"Rect\"},\"hover_glyph\":null,\"nonselection_glyph\":null,\"selection_glyph\":null},\"id\":\"2d4da949-faea-4d4e-9640-bd907267757b\",\"type\":\"GlyphRenderer\"},{\"attributes\":{\"data_source\":{\"id\":\"44aa21a1-84c2-421d-a47e-0069581af9de\",\"type\":\"ColumnDataSource\"},\"glyph\":{\"id\":\"fd82cef5-d900-4b0a-b039-5f025c9e2384\",\"type\":\"Rect\"},\"hover_glyph\":null,\"nonselection_glyph\":null,\"selection_glyph\":null},\"id\":\"e101ebe7-f843-435d-bd61-af0f6c2b9b93\",\"type\":\"GlyphRenderer\"},{\"attributes\":{\"callback\":null,\"column_names\":[\"y\",\"fill_alpha\",\"label\",\"line_alpha\",\"x\",\"line_color\",\"color\",\"height\",\"width\"],\"data\":{\"chart_index\":[\"(36.674665, 38.225205]\"],\"color\":[\"#f22c40\"],\"fill_alpha\":[0.8],\"height\":[600.0],\"label\":[\"(36.674665, 38.225205]\"],\"line_alpha\":[1.0],\"line_color\":[\"black\"],\"width\":[1.5505400157089895],\"x\":[\"37.449934999999996\"],\"y\":[300.0]}},\"id\":\"5403ff90-f9f9-48b5-a7b5-dd234a4ccfee\",\"type\":\"ColumnDataSource\"},{\"attributes\":{\"data_source\":{\"id\":\"25d11197-b962-4fd6-8a38-a4e0a665867e\",\"type\":\"ColumnDataSource\"},\"glyph\":{\"id\":\"c584ac57-c208-4de9-a924-19e9f559b4f5\",\"type\":\"Rect\"},\"hover_glyph\":null,\"nonselection_glyph\":null,\"selection_glyph\":null},\"id\":\"3ef36950-08b2-4623-a881-69f94fdfe803\",\"type\":\"GlyphRenderer\"},{\"attributes\":{\"callback\":null,\"column_names\":[\"y\",\"fill_alpha\",\"label\",\"line_alpha\",\"x\",\"line_color\",\"color\",\"height\",\"width\"],\"data\":{\"chart_index\":[\"(69.236005, 70.786545]\"],\"color\":[\"#f22c40\"],\"fill_alpha\":[0.8],\"height\":[2.0],\"label\":[\"(69.236005, 70.786545]\"],\"line_alpha\":[1.0],\"line_color\":[\"black\"],\"width\":[1.5505400157089753],\"x\":[\"70.01127500000001\"],\"y\":[1.0]}},\"id\":\"5da3eb41-fdd6-40c5-9755-98089819478d\",\"type\":\"ColumnDataSource\"},{\"attributes\":{\"data_source\":{\"id\":\"bb20b5d0-5add-4158-83bc-2d6ee920401c\",\"type\":\"ColumnDataSource\"},\"glyph\":{\"id\":\"101e4dc0-f623-4716-b4f2-bc654c7d7e16\",\"type\":\"Rect\"},\"hover_glyph\":null,\"nonselection_glyph\":null,\"selection_glyph\":null},\"id\":\"3f710c54-8b8f-4de1-87f4-6cdd91177768\",\"type\":\"GlyphRenderer\"},{\"attributes\":{\"fill_alpha\":{\"field\":\"fill_alpha\"},\"fill_color\":{\"field\":\"color\"},\"height\":{\"field\":\"height\",\"units\":\"data\"},\"line_color\":{\"field\":\"line_color\"},\"width\":{\"field\":\"width\",\"units\":\"data\"},\"x\":{\"field\":\"x\"},\"y\":{\"field\":\"y\"}},\"id\":\"0260498c-41c9-4021-bba5-ac35905ff739\",\"type\":\"Rect\"},{\"attributes\":{\"callback\":null,\"column_names\":[\"y\",\"fill_alpha\",\"label\",\"line_alpha\",\"x\",\"line_color\",\"color\",\"height\",\"width\"],\"data\":{\"chart_index\":[\"(47.528445, 49.078985]\"],\"color\":[\"#f22c40\"],\"fill_alpha\":[0.8],\"height\":[446.0],\"label\":[\"(47.528445, 49.078985]\"],\"line_alpha\":[1.0],\"line_color\":[\"black\"],\"width\":[1.5505400157089895],\"x\":[\"48.303715\"],\"y\":[223.0]}},\"id\":\"bc9f4daa-d71c-47d7-baee-ee8c99ed88df\",\"type\":\"ColumnDataSource\"},{\"attributes\":{\"callback\":null,\"column_names\":[\"y\",\"fill_alpha\",\"label\",\"line_alpha\",\"x\",\"line_color\",\"color\",\"height\",\"width\"],\"data\":{\"chart_index\":[\"(27.256069, 29.212158]\"],\"color\":[\"#f22c40\"],\"fill_alpha\":[0.8],\"height\":[104.0],\"label\":[\"(27.256069, 29.212158]\"],\"line_alpha\":[1.0],\"line_color\":[\"black\"],\"width\":[1.9560889049004082],\"x\":[\"28.2341135\"],\"y\":[52.0]}},\"id\":\"ecd9d717-3f9b-4ff2-ad13-51e0f01387b3\",\"type\":\"ColumnDataSource\"},{\"attributes\":{\"data_source\":{\"id\":\"64b3c0e4-79d6-4ed8-9cde-0c4c99fb9b51\",\"type\":\"ColumnDataSource\"},\"glyph\":{\"id\":\"bcbbef78-33ae-4139-b6d7-a43bcdeb738a\",\"type\":\"Rect\"},\"hover_glyph\":null,\"nonselection_glyph\":null,\"selection_glyph\":null},\"id\":\"1928cb8c-13b6-45b4-b1bf-397fd1e30a57\",\"type\":\"GlyphRenderer\"},{\"attributes\":{\"data_source\":{\"id\":\"bcd5d964-ba94-4bea-8249-f5fe616dd506\",\"type\":\"ColumnDataSource\"},\"glyph\":{\"id\":\"6e6e572b-8492-4b77-9b37-e705e848e5fd\",\"type\":\"Rect\"},\"hover_glyph\":null,\"nonselection_glyph\":null,\"selection_glyph\":null},\"id\":\"732cb44e-cad9-4210-9e10-c1ab701ea107\",\"type\":\"GlyphRenderer\"},{\"attributes\":{\"fill_alpha\":{\"field\":\"fill_alpha\"},\"fill_color\":{\"field\":\"color\"},\"height\":{\"field\":\"height\",\"units\":\"data\"},\"line_color\":{\"field\":\"line_color\"},\"width\":{\"field\":\"width\",\"units\":\"data\"},\"x\":{\"field\":\"x\"},\"y\":{\"field\":\"y\"}},\"id\":\"b00f68c5-d87e-4dfc-b377-9ab1ab2b25a1\",\"type\":\"Rect\"},{\"attributes\":{\"fill_alpha\":{\"field\":\"fill_alpha\"},\"fill_color\":{\"field\":\"color\"},\"height\":{\"field\":\"height\",\"units\":\"data\"},\"line_color\":{\"field\":\"line_color\"},\"width\":{\"field\":\"width\",\"units\":\"data\"},\"x\":{\"field\":\"x\"},\"y\":{\"field\":\"y\"}},\"id\":\"db48ec0e-3769-4901-ac0a-e11f8630a46e\",\"type\":\"Rect\"},{\"attributes\":{\"plot\":null,\"text\":null},\"id\":\"0b579d8a-cdc3-46f0-aaea-79ea98d87fa1\",\"type\":\"Title\"},{\"attributes\":{\"fill_alpha\":{\"field\":\"fill_alpha\"},\"fill_color\":{\"field\":\"color\"},\"height\":{\"field\":\"height\",\"units\":\"data\"},\"line_color\":{\"field\":\"line_color\"},\"width\":{\"field\":\"width\",\"units\":\"data\"},\"x\":{\"field\":\"x\"},\"y\":{\"field\":\"y\"}},\"id\":\"c5530880-8dbb-4ac3-8717-fb60b99fb2cd\",\"type\":\"Rect\"},{\"attributes\":{\"callback\":null,\"column_names\":[\"y\",\"fill_alpha\",\"label\",\"line_alpha\",\"x\",\"line_color\",\"color\",\"height\",\"width\"],\"data\":{\"chart_index\":[\"(197.475188, 217.222197]\"],\"color\":[\"#f22c40\"],\"fill_alpha\":[0.8],\"height\":[277.0],\"label\":[\"(197.475188, 217.222197]\"],\"line_alpha\":[1.0],\"line_color\":[\"black\"],\"width\":[19.74700911880643],\"x\":[\"207.3486925\"],\"y\":[138.5]}},\"id\":\"17e2b5bf-e8d6-4283-bb27-41d59b608c3a\",\"type\":\"ColumnDataSource\"},{\"attributes\":{\"fill_alpha\":{\"field\":\"fill_alpha\"},\"fill_color\":{\"field\":\"color\"},\"height\":{\"field\":\"height\",\"units\":\"data\"},\"line_color\":{\"field\":\"line_color\"},\"width\":{\"field\":\"width\",\"units\":\"data\"},\"x\":{\"field\":\"x\"},\"y\":{\"field\":\"y\"}},\"id\":\"bf06aa9a-55cd-4329-8027-58f602b8855e\",\"type\":\"Rect\"},{\"attributes\":{\"fill_alpha\":{\"field\":\"fill_alpha\"},\"fill_color\":{\"field\":\"color\"},\"height\":{\"field\":\"height\",\"units\":\"data\"},\"line_color\":{\"field\":\"line_color\"},\"width\":{\"field\":\"width\",\"units\":\"data\"},\"x\":{\"field\":\"x\"},\"y\":{\"field\":\"y\"}},\"id\":\"67455355-62c8-4f61-b662-383926a7a3e4\",\"type\":\"Rect\"},{\"attributes\":{\"data_source\":{\"id\":\"072d11b3-50cb-4c7c-b4f5-af068e617113\",\"type\":\"ColumnDataSource\"},\"glyph\":{\"id\":\"8b876df3-60af-4c3a-94b0-aad07879e15d\",\"type\":\"Rect\"},\"hover_glyph\":null,\"nonselection_glyph\":null,\"selection_glyph\":null},\"id\":\"06c4e8cf-a249-42be-b227-a12437909819\",\"type\":\"GlyphRenderer\"},{\"attributes\":{\"data_source\":{\"id\":\"17e2b5bf-e8d6-4283-bb27-41d59b608c3a\",\"type\":\"ColumnDataSource\"},\"glyph\":{\"id\":\"60794be9-e65b-48a0-897b-e471968dd406\",\"type\":\"Rect\"},\"hover_glyph\":null,\"nonselection_glyph\":null,\"selection_glyph\":null},\"id\":\"e0db58f4-2b2e-4777-8d3e-d87c660930f5\",\"type\":\"GlyphRenderer\"},{\"attributes\":{\"plot\":{\"id\":\"42cfec60-226a-4b10-b05a-c87660a395df\",\"subtype\":\"Chart\",\"type\":\"Plot\"}},\"id\":\"c32cd5e4-5bb5-4095-96b7-bff7ae7b4b49\",\"type\":\"ResetTool\"},{\"attributes\":{\"callback\":null,\"column_names\":[\"y\",\"fill_alpha\",\"label\",\"line_alpha\",\"x\",\"line_color\",\"color\",\"height\",\"width\"],\"data\":{\"chart_index\":[\"(33.573585, 35.124125]\"],\"color\":[\"#f22c40\"],\"fill_alpha\":[0.8],\"height\":[555.0],\"label\":[\"(33.573585, 35.124125]\"],\"line_alpha\":[1.0],\"line_color\":[\"black\"],\"width\":[1.5505400157089824],\"x\":[\"34.348855\"],\"y\":[277.5]}},\"id\":\"e1efdeae-1084-4e5b-affe-80360b94afe9\",\"type\":\"ColumnDataSource\"},{\"attributes\":{\"callback\":null,\"column_names\":[\"y\",\"fill_alpha\",\"label\",\"line_alpha\",\"x\",\"line_color\",\"color\",\"height\",\"width\"],\"data\":{\"chart_index\":[\"(31.168247, 33.124336]\"],\"color\":[\"#f22c40\"],\"fill_alpha\":[0.8],\"height\":[133.0],\"label\":[\"(31.168247, 33.124336]\"],\"line_alpha\":[1.0],\"line_color\":[\"black\"],\"width\":[1.9560889049004047],\"x\":[\"32.146291500000004\"],\"y\":[66.5]}},\"id\":\"68d4ff1a-5e9d-4dc1-99ac-8f2d2ba80f5c\",\"type\":\"ColumnDataSource\"},{\"attributes\":{\"fill_alpha\":{\"field\":\"fill_alpha\"},\"fill_color\":{\"field\":\"color\"},\"height\":{\"field\":\"height\",\"units\":\"data\"},\"line_color\":{\"field\":\"line_color\"},\"width\":{\"field\":\"width\",\"units\":\"data\"},\"x\":{\"field\":\"x\"},\"y\":{\"field\":\"y\"}},\"id\":\"8a9f45fc-72da-4093-b00d-2a7bc3c1c405\",\"type\":\"Rect\"},{\"attributes\":{\"fill_alpha\":{\"field\":\"fill_alpha\"},\"fill_color\":{\"field\":\"color\"},\"height\":{\"field\":\"height\",\"units\":\"data\"},\"line_color\":{\"field\":\"line_color\"},\"width\":{\"field\":\"width\",\"units\":\"data\"},\"x\":{\"field\":\"x\"},\"y\":{\"field\":\"y\"}},\"id\":\"1598bce7-1c80-4890-a00e-cbef8118813d\",\"type\":\"Rect\"},{\"attributes\":{\"data_source\":{\"id\":\"e16160d4-32c7-456c-8d6f-5fc66d133778\",\"type\":\"ColumnDataSource\"},\"glyph\":{\"id\":\"32d534cf-54fa-4ed3-8fc0-08bf8ce2b38b\",\"type\":\"Rect\"},\"hover_glyph\":null,\"nonselection_glyph\":null,\"selection_glyph\":null},\"id\":\"4d673668-70e0-48e3-b9ba-133d1ac9f83e\",\"type\":\"GlyphRenderer\"},{\"attributes\":{\"callback\":null,\"column_names\":[\"y\",\"fill_alpha\",\"label\",\"line_alpha\",\"x\",\"line_color\",\"color\",\"height\",\"width\"],\"data\":{\"chart_index\":[\"(64.000102, 65.999895]\"],\"color\":[\"#f22c40\"],\"fill_alpha\":[0.8],\"height\":[193.0],\"label\":[\"(64.000102, 65.999895]\"],\"line_alpha\":[1.0],\"line_color\":[\"black\"],\"width\":[1.9997923043628987],\"x\":[\"64.9999985\"],\"y\":[96.5]}},\"id\":\"4f0f1018-2c5d-46bc-828b-c798d9263186\",\"type\":\"ColumnDataSource\"},{\"attributes\":{\"axis_label\":\"Count( A )\",\"formatter\":{\"id\":\"aa898bd2-a45b-497a-ac53-3a1751bed003\",\"type\":\"BasicTickFormatter\"},\"plot\":{\"id\":\"e248c624-063b-473b-9b7d-e65e46602b02\",\"subtype\":\"Chart\",\"type\":\"Plot\"},\"ticker\":{\"id\":\"0384cc9a-151d-44db-9eb8-a16e07bad895\",\"type\":\"BasicTicker\"}},\"id\":\"38889b36-eced-4be5-9d9d-b01600705edb\",\"type\":\"LinearAxis\"},{\"attributes\":{\"fill_alpha\":{\"field\":\"fill_alpha\"},\"fill_color\":{\"field\":\"color\"},\"height\":{\"field\":\"height\",\"units\":\"data\"},\"line_color\":{\"field\":\"line_color\"},\"width\":{\"field\":\"width\",\"units\":\"data\"},\"x\":{\"field\":\"x\"},\"y\":{\"field\":\"y\"}},\"id\":\"bffea19e-5314-4b44-bea5-04a6d5ca5a90\",\"type\":\"Rect\"},{\"attributes\":{\"callback\":null,\"column_names\":[\"y\",\"fill_alpha\",\"label\",\"line_alpha\",\"x\",\"line_color\",\"color\",\"height\",\"width\"],\"data\":{\"chart_index\":[\"(24.270345, 25.820885]\"],\"color\":[\"#f22c40\"],\"fill_alpha\":[0.8],\"height\":[200.0],\"label\":[\"(24.270345, 25.820885]\"],\"line_alpha\":[1.0],\"line_color\":[\"black\"],\"width\":[1.550540015708986],\"x\":[\"25.045614999999998\"],\"y\":[100.0]}},\"id\":\"072d11b3-50cb-4c7c-b4f5-af068e617113\",\"type\":\"ColumnDataSource\"},{\"attributes\":{\"fill_alpha\":{\"field\":\"fill_alpha\"},\"fill_color\":{\"field\":\"color\"},\"height\":{\"field\":\"height\",\"units\":\"data\"},\"line_color\":{\"field\":\"line_color\"},\"width\":{\"field\":\"width\",\"units\":\"data\"},\"x\":{\"field\":\"x\"},\"y\":{\"field\":\"y\"}},\"id\":\"ddf6c78f-b32b-477f-816f-6e4b2a3bdf2f\",\"type\":\"Rect\"},{\"attributes\":{\"callback\":null,\"column_names\":[\"y\",\"fill_alpha\",\"label\",\"line_alpha\",\"x\",\"line_color\",\"color\",\"height\",\"width\"],\"data\":{\"chart_index\":[\"(113.323981, 115.280070]\"],\"color\":[\"#f22c40\"],\"fill_alpha\":[0.8],\"height\":[56.0],\"label\":[\"(113.323981, 115.280070]\"],\"line_alpha\":[1.0],\"line_color\":[\"black\"],\"width\":[1.9560889049004118],\"x\":[\"114.3020255\"],\"y\":[28.0]}},\"id\":\"b72e0717-adb5-4297-a246-22482019b9ba\",\"type\":\"ColumnDataSource\"},{\"attributes\":{\"callback\":null,\"column_names\":[\"y\",\"fill_alpha\",\"label\",\"line_alpha\",\"x\",\"line_color\",\"color\",\"height\",\"width\"],\"data\":{\"chart_index\":[\"(71.999271, 73.999064]\"],\"color\":[\"#f22c40\"],\"fill_alpha\":[0.8],\"height\":[237.0],\"label\":[\"(71.999271, 73.999064]\"],\"line_alpha\":[1.0],\"line_color\":[\"black\"],\"width\":[1.9997923043628845],\"x\":[\"72.9991675\"],\"y\":[118.5]}},\"id\":\"4f556f6e-e4cf-4c69-a86c-811a32e28d6f\",\"type\":\"ColumnDataSource\"},{\"attributes\":{\"data_source\":{\"id\":\"731c1df4-4c79-4d4c-a6df-ad8967e51cfe\",\"type\":\"ColumnDataSource\"},\"glyph\":{\"id\":\"fa7818b3-8702-4ede-9c96-8b23e3c26c15\",\"type\":\"Rect\"},\"hover_glyph\":null,\"nonselection_glyph\":null,\"selection_glyph\":null},\"id\":\"2bb174b8-b24a-494f-9c29-7742bca4f9dc\",\"type\":\"GlyphRenderer\"},{\"attributes\":{\"data_source\":{\"id\":\"56d4edd4-f4a0-4c8a-aa14-f0dcd9212a02\",\"type\":\"ColumnDataSource\"},\"glyph\":{\"id\":\"321c1fa7-6e9d-4c9d-9daf-7e7d085919d3\",\"type\":\"Rect\"},\"hover_glyph\":null,\"nonselection_glyph\":null,\"selection_glyph\":null},\"id\":\"ce976a5a-aba9-4b2f-8c7f-3dd1e88e7d20\",\"type\":\"GlyphRenderer\"},{\"attributes\":{\"fill_alpha\":{\"field\":\"fill_alpha\"},\"fill_color\":{\"field\":\"color\"},\"height\":{\"field\":\"height\",\"units\":\"data\"},\"line_color\":{\"field\":\"line_color\"},\"width\":{\"field\":\"width\",\"units\":\"data\"},\"x\":{\"field\":\"x\"},\"y\":{\"field\":\"y\"}},\"id\":\"762cd8d2-ff81-4bb6-bdeb-59021335a9d6\",\"type\":\"Rect\"},{\"attributes\":{\"data_source\":{\"id\":\"f4b34476-57e6-41b4-8279-90c6f9706065\",\"type\":\"ColumnDataSource\"},\"glyph\":{\"id\":\"0260498c-41c9-4021-bba5-ac35905ff739\",\"type\":\"Rect\"},\"hover_glyph\":null,\"nonselection_glyph\":null,\"selection_glyph\":null},\"id\":\"6dce7b85-8207-43fd-83d6-b99814b58390\",\"type\":\"GlyphRenderer\"},{\"attributes\":{\"fill_alpha\":{\"field\":\"fill_alpha\"},\"fill_color\":{\"field\":\"color\"},\"height\":{\"field\":\"height\",\"units\":\"data\"},\"line_color\":{\"field\":\"line_color\"},\"width\":{\"field\":\"width\",\"units\":\"data\"},\"x\":{\"field\":\"x\"},\"y\":{\"field\":\"y\"}},\"id\":\"a6f96699-f054-487d-8692-1dc8c80519ba\",\"type\":\"Rect\"},{\"attributes\":{\"data_source\":{\"id\":\"62c49296-397d-4f85-886a-a872be82b81e\",\"type\":\"ColumnDataSource\"},\"glyph\":{\"id\":\"c4bb52a9-fc3f-4233-8bec-745734a2f767\",\"type\":\"Rect\"},\"hover_glyph\":null,\"nonselection_glyph\":null,\"selection_glyph\":null},\"id\":\"130bc728-22a2-4b4b-b3db-cb01b59e65cf\",\"type\":\"GlyphRenderer\"},{\"attributes\":{\"fill_alpha\":{\"field\":\"fill_alpha\"},\"fill_color\":{\"field\":\"color\"},\"height\":{\"field\":\"height\",\"units\":\"data\"},\"line_color\":{\"field\":\"line_color\"},\"width\":{\"field\":\"width\",\"units\":\"data\"},\"x\":{\"field\":\"x\"},\"y\":{\"field\":\"y\"}},\"id\":\"e057da8c-1126-41d4-8eef-6e23d098124e\",\"type\":\"Rect\"},{\"attributes\":{\"axis_label\":\"Count( A )\",\"formatter\":{\"id\":\"062a23b8-7102-4421-b631-0c587a577094\",\"type\":\"BasicTickFormatter\"},\"plot\":{\"id\":\"7a1cd8b3-4ad4-43a6-9e36-4c8297df94c3\",\"subtype\":\"Chart\",\"type\":\"Plot\"},\"ticker\":{\"id\":\"7688c5d6-f8ab-4258-b73a-ddf3537f666a\",\"type\":\"BasicTicker\"}},\"id\":\"7a4c5e84-1f14-4eda-aa02-2bdd071715e1\",\"type\":\"LinearAxis\"},{\"attributes\":{\"callback\":null,\"column_names\":[\"y\",\"fill_alpha\",\"label\",\"line_alpha\",\"x\",\"line_color\",\"color\",\"height\",\"width\"],\"data\":{\"chart_index\":[\"(21.169265, 22.719805]\"],\"color\":[\"#f22c40\"],\"fill_alpha\":[0.8],\"height\":[116.0],\"label\":[\"(21.169265, 22.719805]\"],\"line_alpha\":[1.0],\"line_color\":[\"black\"],\"width\":[1.550540015708986],\"x\":[\"21.944535000000002\"],\"y\":[58.0]}},\"id\":\"f4b34476-57e6-41b4-8279-90c6f9706065\",\"type\":\"ColumnDataSource\"},{\"attributes\":{\"fill_alpha\":{\"field\":\"fill_alpha\"},\"fill_color\":{\"field\":\"color\"},\"height\":{\"field\":\"height\",\"units\":\"data\"},\"line_color\":{\"field\":\"line_color\"},\"width\":{\"field\":\"width\",\"units\":\"data\"},\"x\":{\"field\":\"x\"},\"y\":{\"field\":\"y\"}},\"id\":\"87ac124f-124b-4401-a4ce-d44e12641873\",\"type\":\"Rect\"},{\"attributes\":{\"fill_alpha\":{\"field\":\"fill_alpha\"},\"fill_color\":{\"field\":\"color\"},\"height\":{\"field\":\"height\",\"units\":\"data\"},\"line_color\":{\"field\":\"line_color\"},\"width\":{\"field\":\"width\",\"units\":\"data\"},\"x\":{\"field\":\"x\"},\"y\":{\"field\":\"y\"}},\"id\":\"d99947ee-cab7-4902-a092-cd31747640e7\",\"type\":\"Rect\"},{\"attributes\":{\"callback\":null,\"column_names\":[\"y\",\"fill_alpha\",\"label\",\"line_alpha\",\"x\",\"line_color\",\"color\",\"height\",\"width\"],\"data\":{\"chart_index\":[\"(81.998233, 83.998025]\"],\"color\":[\"#f22c40\"],\"fill_alpha\":[0.8],\"height\":[192.0],\"label\":[\"(81.998233, 83.998025]\"],\"line_alpha\":[1.0],\"line_color\":[\"black\"],\"width\":[1.9997923043628987],\"x\":[\"82.998129\"],\"y\":[96.0]}},\"id\":\"45345d26-bd5f-42cc-948d-7d2fef7d0f25\",\"type\":\"ColumnDataSource\"},{\"attributes\":{\"data_source\":{\"id\":\"a32591a0-5df0-435b-9018-f6961571fe64\",\"type\":\"ColumnDataSource\"},\"glyph\":{\"id\":\"a8b14655-4d00-46cb-b1a7-acc80044fa74\",\"type\":\"Rect\"},\"hover_glyph\":null,\"nonselection_glyph\":null,\"selection_glyph\":null},\"id\":\"0e8da037-f28a-4aef-a451-af0b0662f785\",\"type\":\"GlyphRenderer\"},{\"attributes\":{\"fill_alpha\":{\"field\":\"fill_alpha\"},\"fill_color\":{\"field\":\"color\"},\"height\":{\"field\":\"height\",\"units\":\"data\"},\"line_color\":{\"field\":\"line_color\"},\"width\":{\"field\":\"width\",\"units\":\"data\"},\"x\":{\"field\":\"x\"},\"y\":{\"field\":\"y\"}},\"id\":\"0dfb0f8c-69ee-45f3-8ec2-c804ababd222\",\"type\":\"Rect\"},{\"attributes\":{\"data_source\":{\"id\":\"1819ed15-e34a-4a3d-9a65-8aca4e8b2f4e\",\"type\":\"ColumnDataSource\"},\"glyph\":{\"id\":\"110cf3a5-8670-4d58-b749-236852418819\",\"type\":\"Rect\"},\"hover_glyph\":null,\"nonselection_glyph\":null,\"selection_glyph\":null},\"id\":\"75fb5e2d-8cb4-49af-9298-a9086ff122db\",\"type\":\"GlyphRenderer\"},{\"attributes\":{\"callback\":null,\"column_names\":[\"y\",\"fill_alpha\",\"label\",\"line_alpha\",\"x\",\"line_color\",\"color\",\"height\",\"width\"],\"data\":{\"chart_index\":[\"(50.629525, 52.180065]\"],\"color\":[\"#f22c40\"],\"fill_alpha\":[0.8],\"height\":[332.0],\"label\":[\"(50.629525, 52.180065]\"],\"line_alpha\":[1.0],\"line_color\":[\"black\"],\"width\":[1.5505400157089824],\"x\":[\"51.404795\"],\"y\":[166.0]}},\"id\":\"ceb22121-7a36-4b84-8eab-56b799a4fbd9\",\"type\":\"ColumnDataSource\"},{\"attributes\":{\"callback\":null,\"column_names\":[\"y\",\"fill_alpha\",\"label\",\"line_alpha\",\"x\",\"line_color\",\"color\",\"height\",\"width\"],\"data\":{\"chart_index\":[\"(41.326285, 42.876825]\"],\"color\":[\"#f22c40\"],\"fill_alpha\":[0.8],\"height\":[622.0],\"label\":[\"(41.326285, 42.876825]\"],\"line_alpha\":[1.0],\"line_color\":[\"black\"],\"width\":[1.5505400157089895],\"x\":[\"42.101555\"],\"y\":[311.0]}},\"id\":\"1900c433-dbf7-40b7-ade1-ee409de4869f\",\"type\":\"ColumnDataSource\"},{\"attributes\":{\"data_source\":{\"id\":\"3a393941-ee33-49cc-89c9-793fc76df3d0\",\"type\":\"ColumnDataSource\"},\"glyph\":{\"id\":\"4dd1cfe3-64f4-4f82-9528-45ecacf1e755\",\"type\":\"Rect\"},\"hover_glyph\":null,\"nonselection_glyph\":null,\"selection_glyph\":null},\"id\":\"d34118b7-c2f1-4940-928c-5bd81ddcfedd\",\"type\":\"GlyphRenderer\"},{\"attributes\":{\"active_drag\":\"auto\",\"active_scroll\":\"auto\",\"active_tap\":\"auto\",\"tools\":[{\"id\":\"76c54841-be19-477b-936d-de2373e72c69\",\"type\":\"PanTool\"},{\"id\":\"cd92cea0-fdc3-4048-98d6-0540264da520\",\"type\":\"WheelZoomTool\"},{\"id\":\"379b9d4a-16f5-4d54-aa8c-29013f49e5fd\",\"type\":\"BoxZoomTool\"},{\"id\":\"45620457-10dc-4733-a215-b63efbf67d7a\",\"type\":\"SaveTool\"},{\"id\":\"16135be8-910c-49fa-9004-4ace567daeb4\",\"type\":\"ResetTool\"},{\"id\":\"c973e485-8fb3-44ec-9e01-512df3a8a18c\",\"type\":\"HelpTool\"}]},\"id\":\"5e4445cb-e43f-4e5f-b25d-fa7ef42e463c\",\"type\":\"Toolbar\"},{\"attributes\":{\"callback\":null,\"end\":708.4000000000001},\"id\":\"44fdc10f-5c7a-4218-b2ea-da157ecc2f09\",\"type\":\"Range1d\"},{\"attributes\":{\"fill_alpha\":{\"field\":\"fill_alpha\"},\"fill_color\":{\"field\":\"color\"},\"height\":{\"field\":\"height\",\"units\":\"data\"},\"line_color\":{\"field\":\"line_color\"},\"width\":{\"field\":\"width\",\"units\":\"data\"},\"x\":{\"field\":\"x\"},\"y\":{\"field\":\"y\"}},\"id\":\"085bd7f1-1c82-428f-bca1-6dc69a5c9032\",\"type\":\"Rect\"},{\"attributes\":{\"callback\":null,\"column_names\":[\"y\",\"fill_alpha\",\"label\",\"line_alpha\",\"x\",\"line_color\",\"color\",\"height\",\"width\"],\"data\":{\"chart_index\":[\"(89.997402, 91.997195]\"],\"color\":[\"#f22c40\"],\"fill_alpha\":[0.8],\"height\":[213.0],\"label\":[\"(89.997402, 91.997195]\"],\"line_alpha\":[1.0],\"line_color\":[\"black\"],\"width\":[1.9997923043628987],\"x\":[\"90.9972985\"],\"y\":[106.5]}},\"id\":\"f9d16b59-de75-4d34-a252-851dc8f110a7\",\"type\":\"ColumnDataSource\"},{\"attributes\":{\"axis_label\":\"a\",\"formatter\":{\"id\":\"7d006244-b469-494d-99f6-d17c379136a2\",\"type\":\"BasicTickFormatter\"},\"plot\":{\"id\":\"7a1cd8b3-4ad4-43a6-9e36-4c8297df94c3\",\"subtype\":\"Chart\",\"type\":\"Plot\"},\"ticker\":{\"id\":\"8bee6a3a-443c-4d8e-947f-84a3e752a48c\",\"type\":\"BasicTicker\"}},\"id\":\"5d6efc35-a807-4b1f-ae43-68b6a348e116\",\"type\":\"LinearAxis\"},{\"attributes\":{\"callback\":null,\"column_names\":[\"y\",\"fill_alpha\",\"label\",\"line_alpha\",\"x\",\"line_color\",\"color\",\"height\",\"width\"],\"data\":{\"chart_index\":[\"(335.704252, 355.451261]\"],\"color\":[\"#f22c40\"],\"fill_alpha\":[0.8],\"height\":[68.0],\"label\":[\"(335.704252, 355.451261]\"],\"line_alpha\":[1.0],\"line_color\":[\"black\"],\"width\":[19.747009118806375],\"x\":[\"345.57775649999996\"],\"y\":[34.0]}},\"id\":\"1477ece2-23fb-4b15-82a8-73335366cd9e\",\"type\":\"ColumnDataSource\"},{\"attributes\":{\"callback\":null,\"column_names\":[\"y\",\"fill_alpha\",\"label\",\"line_alpha\",\"x\",\"line_color\",\"color\",\"height\",\"width\"],\"data\":{\"chart_index\":[\"(63.033845, 64.584385]\"],\"color\":[\"#f22c40\"],\"fill_alpha\":[0.8],\"height\":[31.0],\"label\":[\"(63.033845, 64.584385]\"],\"line_alpha\":[1.0],\"line_color\":[\"black\"],\"width\":[1.5505400157089824],\"x\":[\"63.809115\"],\"y\":[15.5]}},\"id\":\"d6d58196-a30c-4436-a6cb-a3e676730dce\",\"type\":\"ColumnDataSource\"},{\"attributes\":{\"callback\":null,\"column_names\":[\"y\",\"fill_alpha\",\"label\",\"line_alpha\",\"x\",\"line_color\",\"color\",\"height\",\"width\"],\"data\":{\"chart_index\":[\"(750.391443, 770.138452]\"],\"color\":[\"#f22c40\"],\"fill_alpha\":[0.8],\"height\":[2.0],\"label\":[\"(750.391443, 770.138452]\"],\"line_alpha\":[1.0],\"line_color\":[\"black\"],\"width\":[19.74700911880643],\"x\":[\"760.2649475000001\"],\"y\":[1.0]}},\"id\":\"4e2310d9-4b6b-4265-b3e1-698f4cf8d466\",\"type\":\"ColumnDataSource\"},{\"attributes\":{\"callback\":null,\"column_names\":[\"y\",\"fill_alpha\",\"label\",\"line_alpha\",\"x\",\"line_color\",\"color\",\"height\",\"width\"],\"data\":{\"chart_index\":[\"(56.831685, 58.382225]\"],\"color\":[\"#f22c40\"],\"fill_alpha\":[0.8],\"height\":[142.0],\"label\":[\"(56.831685, 58.382225]\"],\"line_alpha\":[1.0],\"line_color\":[\"black\"],\"width\":[1.5505400157089895],\"x\":[\"57.606955\"],\"y\":[71.0]}},\"id\":\"3c2bc2b2-b2d8-43f4-a261-e607043f4950\",\"type\":\"ColumnDataSource\"},{\"attributes\":{\"data_source\":{\"id\":\"373d507b-6e2b-44dc-8fd7-054ae1c8e480\",\"type\":\"ColumnDataSource\"},\"glyph\":{\"id\":\"5557f4b4-7989-4f3b-98a0-50f1c08f0b8d\",\"type\":\"Rect\"},\"hover_glyph\":null,\"nonselection_glyph\":null,\"selection_glyph\":null},\"id\":\"b56bfbd0-f4b6-44d6-8a04-d4769c039218\",\"type\":\"GlyphRenderer\"},{\"attributes\":{\"callback\":null,\"column_names\":[\"y\",\"fill_alpha\",\"label\",\"line_alpha\",\"x\",\"line_color\",\"color\",\"height\",\"width\"],\"data\":{\"chart_index\":[\"(105.995741, 107.995533]\"],\"color\":[\"#f22c40\"],\"fill_alpha\":[0.8],\"height\":[199.0],\"label\":[\"(105.995741, 107.995533]\"],\"line_alpha\":[1.0],\"line_color\":[\"black\"],\"width\":[1.9997923043628987],\"x\":[\"106.99563699999999\"],\"y\":[99.5]}},\"id\":\"9f5bc2da-98b8-4707-98d9-b5910f5af582\",\"type\":\"ColumnDataSource\"},{\"attributes\":{\"fill_alpha\":{\"field\":\"fill_alpha\"},\"fill_color\":{\"field\":\"color\"},\"height\":{\"field\":\"height\",\"units\":\"data\"},\"line_color\":{\"field\":\"line_color\"},\"width\":{\"field\":\"width\",\"units\":\"data\"},\"x\":{\"field\":\"x\"},\"y\":{\"field\":\"y\"}},\"id\":\"110cf3a5-8670-4d58-b749-236852418819\",\"type\":\"Rect\"},{\"attributes\":{\"fill_alpha\":{\"field\":\"fill_alpha\"},\"fill_color\":{\"field\":\"color\"},\"height\":{\"field\":\"height\",\"units\":\"data\"},\"line_color\":{\"field\":\"line_color\"},\"width\":{\"field\":\"width\",\"units\":\"data\"},\"x\":{\"field\":\"x\"},\"y\":{\"field\":\"y\"}},\"id\":\"90b4f61d-309e-4b92-92b8-1a1b37b37376\",\"type\":\"Rect\"},{\"attributes\":{\"callback\":null,\"column_names\":[\"y\",\"fill_alpha\",\"label\",\"line_alpha\",\"x\",\"line_color\",\"color\",\"height\",\"width\"],\"data\":{\"chart_index\":[\"(1.012244, 2.562784]\"],\"color\":[\"#f22c40\"],\"fill_alpha\":[0.8],\"height\":[0.0],\"label\":[\"(1.012244, 2.562784]\"],\"line_alpha\":[1.0],\"line_color\":[\"black\"],\"width\":[1.5505400157089868],\"x\":[\"1.787514\"],\"y\":[0.0]}},\"id\":\"811de089-32c0-4980-ae4e-7ff6b44ed462\",\"type\":\"ColumnDataSource\"},{\"attributes\":{\"dimension\":1,\"plot\":{\"id\":\"e248c624-063b-473b-9b7d-e65e46602b02\",\"subtype\":\"Chart\",\"type\":\"Plot\"},\"ticker\":{\"id\":\"0384cc9a-151d-44db-9eb8-a16e07bad895\",\"type\":\"BasicTicker\"}},\"id\":\"da20b654-b64f-4df3-bcf5-944eb8986ece\",\"type\":\"Grid\"},{\"attributes\":{\"fill_alpha\":{\"field\":\"fill_alpha\"},\"fill_color\":{\"field\":\"color\"},\"height\":{\"field\":\"height\",\"units\":\"data\"},\"line_color\":{\"field\":\"line_color\"},\"width\":{\"field\":\"width\",\"units\":\"data\"},\"x\":{\"field\":\"x\"},\"y\":{\"field\":\"y\"}},\"id\":\"323d5360-327e-4ced-a8cd-3cc81d4203e5\",\"type\":\"Rect\"},{\"attributes\":{\"callback\":null,\"column_names\":[\"y\",\"fill_alpha\",\"label\",\"line_alpha\",\"x\",\"line_color\",\"color\",\"height\",\"width\"],\"data\":{\"chart_index\":[\"(83.998025, 85.997818]\"],\"color\":[\"#f22c40\"],\"fill_alpha\":[0.8],\"height\":[185.0],\"label\":[\"(83.998025, 85.997818]\"],\"line_alpha\":[1.0],\"line_color\":[\"black\"],\"width\":[1.9997923043628845],\"x\":[\"84.99792149999999\"],\"y\":[92.5]}},\"id\":\"b4892b67-0d9a-4f9e-9fb2-f60ea7c40e1a\",\"type\":\"ColumnDataSource\"},{\"attributes\":{\"callback\":null,\"column_names\":[\"y\",\"fill_alpha\",\"label\",\"line_alpha\",\"x\",\"line_color\",\"color\",\"height\",\"width\"],\"data\":{\"chart_index\":[\"(454.186307, 473.933316]\"],\"color\":[\"#f22c40\"],\"fill_alpha\":[0.8],\"height\":[21.0],\"label\":[\"(454.186307, 473.933316]\"],\"line_alpha\":[1.0],\"line_color\":[\"black\"],\"width\":[19.74700911880643],\"x\":[\"464.0598115\"],\"y\":[10.5]}},\"id\":\"41e72712-ceab-4c9c-9ebb-a4378964efea\",\"type\":\"ColumnDataSource\"},{\"attributes\":{\"fill_alpha\":{\"field\":\"fill_alpha\"},\"fill_color\":{\"field\":\"color\"},\"height\":{\"field\":\"height\",\"units\":\"data\"},\"line_color\":{\"field\":\"line_color\"},\"width\":{\"field\":\"width\",\"units\":\"data\"},\"x\":{\"field\":\"x\"},\"y\":{\"field\":\"y\"}},\"id\":\"6ba80ab6-bca2-45f5-9152-bf163d66332d\",\"type\":\"Rect\"},{\"attributes\":{\"callback\":null,\"column_names\":[\"y\",\"fill_alpha\",\"label\",\"line_alpha\",\"x\",\"line_color\",\"color\",\"height\",\"width\"],\"data\":{\"chart_index\":[\"(355.451261, 375.198270]\"],\"color\":[\"#f22c40\"],\"fill_alpha\":[0.8],\"height\":[52.0],\"label\":[\"(355.451261, 375.198270]\"],\"line_alpha\":[1.0],\"line_color\":[\"black\"],\"width\":[19.74700911880643],\"x\":[\"365.3247655\"],\"y\":[26.0]}},\"id\":\"4dcd9ddf-11b5-4855-b7c3-971a3fddafc7\",\"type\":\"ColumnDataSource\"},{\"attributes\":{\"fill_alpha\":{\"field\":\"fill_alpha\"},\"fill_color\":{\"field\":\"color\"},\"height\":{\"field\":\"height\",\"units\":\"data\"},\"line_color\":{\"field\":\"line_color\"},\"width\":{\"field\":\"width\",\"units\":\"data\"},\"x\":{\"field\":\"x\"},\"y\":{\"field\":\"y\"}},\"id\":\"101e4dc0-f623-4716-b4f2-bc654c7d7e16\",\"type\":\"Rect\"},{\"attributes\":{\"data_source\":{\"id\":\"7004f0f0-1506-454d-886d-fbe309ba09c6\",\"type\":\"ColumnDataSource\"},\"glyph\":{\"id\":\"540b5acf-dce3-49bf-beb0-ddc70f0cb10c\",\"type\":\"Rect\"},\"hover_glyph\":null,\"nonselection_glyph\":null,\"selection_glyph\":null},\"id\":\"fe806e50-12bc-4e3a-a3a5-38266c1a175f\",\"type\":\"GlyphRenderer\"},{\"attributes\":{\"data_source\":{\"id\":\"fc0cb526-e5a5-4d65-bcdd-0304c3c8d6f5\",\"type\":\"ColumnDataSource\"},\"glyph\":{\"id\":\"9b3bcb29-6a65-4392-b785-d3676111a6a7\",\"type\":\"Rect\"},\"hover_glyph\":null,\"nonselection_glyph\":null,\"selection_glyph\":null},\"id\":\"f1497d44-0782-42df-84ba-1c147e7e061f\",\"type\":\"GlyphRenderer\"},{\"attributes\":{\"callback\":null,\"column_names\":[\"y\",\"fill_alpha\",\"label\",\"line_alpha\",\"x\",\"line_color\",\"color\",\"height\",\"width\"],\"data\":{\"chart_index\":[\"(849.126489, 868.873498]\"],\"color\":[\"#f22c40\"],\"fill_alpha\":[0.8],\"height\":[1.0],\"label\":[\"(849.126489, 868.873498]\"],\"line_alpha\":[1.0],\"line_color\":[\"black\"],\"width\":[19.74700911880643],\"x\":[\"858.9999935000001\"],\"y\":[0.5]}},\"id\":\"b9311cca-990d-4e5b-80fd-ed8f75cc314a\",\"type\":\"ColumnDataSource\"},{\"attributes\":{\"data_source\":{\"id\":\"30b9042b-b0da-4df4-af54-03f00c3ee8f1\",\"type\":\"ColumnDataSource\"},\"glyph\":{\"id\":\"be94f6bb-08bd-4bc3-833b-bd168329002b\",\"type\":\"Rect\"},\"hover_glyph\":null,\"nonselection_glyph\":null,\"selection_glyph\":null},\"id\":\"4a978c00-cef2-4333-8667-549a608a37b8\",\"type\":\"GlyphRenderer\"},{\"attributes\":{\"callback\":null,\"column_names\":[\"y\",\"fill_alpha\",\"label\",\"line_alpha\",\"x\",\"line_color\",\"color\",\"height\",\"width\"],\"data\":{\"chart_index\":[\"(789.885462, 809.632471]\"],\"color\":[\"#f22c40\"],\"fill_alpha\":[0.8],\"height\":[0.0],\"label\":[\"(789.885462, 809.632471]\"],\"line_alpha\":[1.0],\"line_color\":[\"black\"],\"width\":[19.74700911880643],\"x\":[\"799.7589665\"],\"y\":[0.0]}},\"id\":\"2958b524-9bae-4b77-b7c9-5debd698dea6\",\"type\":\"ColumnDataSource\"},{\"attributes\":{\"callback\":null,\"column_names\":[\"y\",\"fill_alpha\",\"label\",\"line_alpha\",\"x\",\"line_color\",\"color\",\"height\",\"width\"],\"data\":{\"chart_index\":[\"(59.932765, 61.483305]\"],\"color\":[\"#f22c40\"],\"fill_alpha\":[0.8],\"height\":[87.0],\"label\":[\"(59.932765, 61.483305]\"],\"line_alpha\":[1.0],\"line_color\":[\"black\"],\"width\":[1.5505400157089895],\"x\":[\"60.708035\"],\"y\":[43.5]}},\"id\":\"fedc639c-7713-46d4-9716-6c42a8fbe74e\",\"type\":\"ColumnDataSource\"},{\"attributes\":{\"fill_alpha\":{\"field\":\"fill_alpha\"},\"fill_color\":{\"field\":\"color\"},\"height\":{\"field\":\"height\",\"units\":\"data\"},\"line_color\":{\"field\":\"line_color\"},\"width\":{\"field\":\"width\",\"units\":\"data\"},\"x\":{\"field\":\"x\"},\"y\":{\"field\":\"y\"}},\"id\":\"2ebd4ec7-58f0-488c-ae93-9aac1d46c0a7\",\"type\":\"Rect\"},{\"attributes\":{\"callback\":null,\"column_names\":[\"y\",\"fill_alpha\",\"label\",\"line_alpha\",\"x\",\"line_color\",\"color\",\"height\",\"width\"],\"data\":{\"chart_index\":[\"(93.996987, 95.996779]\"],\"color\":[\"#f22c40\"],\"fill_alpha\":[0.8],\"height\":[205.0],\"label\":[\"(93.996987, 95.996779]\"],\"line_alpha\":[1.0],\"line_color\":[\"black\"],\"width\":[1.9997923043628987],\"x\":[\"94.996883\"],\"y\":[102.5]}},\"id\":\"aa9ed638-53c4-47d7-b7a4-caeb07438623\",\"type\":\"ColumnDataSource\"},{\"attributes\":{\"fill_alpha\":{\"field\":\"fill_alpha\"},\"fill_color\":{\"field\":\"color\"},\"height\":{\"field\":\"height\",\"units\":\"data\"},\"line_color\":{\"field\":\"line_color\"},\"width\":{\"field\":\"width\",\"units\":\"data\"},\"x\":{\"field\":\"x\"},\"y\":{\"field\":\"y\"}},\"id\":\"da3aa46d-7119-4925-bc48-c3577b03e7d5\",\"type\":\"Rect\"},{\"attributes\":{\"below\":[{\"id\":\"b58272d6-43b3-48b8-807a-a321c75f7e6a\",\"type\":\"LinearAxis\"}],\"css_classes\":null,\"height\":300,\"left\":[{\"id\":\"38889b36-eced-4be5-9d9d-b01600705edb\",\"type\":\"LinearAxis\"}],\"renderers\":[{\"id\":\"e4c92dc2-19b5-4291-904a-2f9f0684d463\",\"type\":\"BoxAnnotation\"},{\"id\":\"7792cf21-5b79-413c-b363-dc4d00779c67\",\"type\":\"GlyphRenderer\"},{\"id\":\"09ab21db-1649-4e44-9856-0294828142c1\",\"type\":\"GlyphRenderer\"},{\"id\":\"2ceeb5e7-f066-488a-be9d-7b313eaa17ad\",\"type\":\"GlyphRenderer\"},{\"id\":\"60059bfb-00ed-4ac9-b240-3c17b7f9abee\",\"type\":\"GlyphRenderer\"},{\"id\":\"97559179-da78-45b7-a6d0-10e3cbf8a262\",\"type\":\"GlyphRenderer\"},{\"id\":\"0baf8660-3d40-4875-8ade-afd5c704fa30\",\"type\":\"GlyphRenderer\"},{\"id\":\"0a8795b6-1bc7-4212-ba76-189d11687793\",\"type\":\"GlyphRenderer\"},{\"id\":\"d4fb139a-a93f-4887-b263-0e184c1218e3\",\"type\":\"GlyphRenderer\"},{\"id\":\"6310178d-853d-447f-a4bd-f718305e1370\",\"type\":\"GlyphRenderer\"},{\"id\":\"cd72a65b-eac7-43b8-a615-4eddc1e7c6ef\",\"type\":\"GlyphRenderer\"},{\"id\":\"13226cd4-d511-4413-b5f8-02f5ddacde7c\",\"type\":\"GlyphRenderer\"},{\"id\":\"7034b9c3-80ad-4f8b-aaed-178a661e4200\",\"type\":\"GlyphRenderer\"},{\"id\":\"21ad09d6-deaa-418e-8e1a-bf5be3e218cc\",\"type\":\"GlyphRenderer\"},{\"id\":\"9bc8c680-38d8-4c33-a0ef-9e3bcd6f6e7c\",\"type\":\"GlyphRenderer\"},{\"id\":\"6dce7b85-8207-43fd-83d6-b99814b58390\",\"type\":\"GlyphRenderer\"},{\"id\":\"ea0b5b70-62da-47a9-a964-02a4d59f2547\",\"type\":\"GlyphRenderer\"},{\"id\":\"06c4e8cf-a249-42be-b227-a12437909819\",\"type\":\"GlyphRenderer\"},{\"id\":\"64648b63-7003-4f5a-bcd3-73e2962f2f56\",\"type\":\"GlyphRenderer\"},{\"id\":\"3ef36950-08b2-4623-a881-69f94fdfe803\",\"type\":\"GlyphRenderer\"},{\"id\":\"acf035d8-6597-4e2d-93db-a3a84315880d\",\"type\":\"GlyphRenderer\"},{\"id\":\"b24a4baa-b250-46cc-81c1-d30004e1ca2d\",\"type\":\"GlyphRenderer\"},{\"id\":\"8caf2190-f542-4ac8-94db-22c90886d621\",\"type\":\"GlyphRenderer\"},{\"id\":\"32fce07a-708d-4360-a7bc-dbc47cda6b46\",\"type\":\"GlyphRenderer\"},{\"id\":\"f1497d44-0782-42df-84ba-1c147e7e061f\",\"type\":\"GlyphRenderer\"},{\"id\":\"49b94cbd-50be-46f4-88dd-709c2bc65fb4\",\"type\":\"GlyphRenderer\"},{\"id\":\"c65016be-10ba-45be-9867-835256ccc5bb\",\"type\":\"GlyphRenderer\"},{\"id\":\"0f91c32d-a82f-4aaf-aad4-dbd38a3b1e98\",\"type\":\"GlyphRenderer\"},{\"id\":\"1c1277f3-2800-460b-8a15-f008e3562cf1\",\"type\":\"GlyphRenderer\"},{\"id\":\"ff49b862-3363-4f36-9b68-cffa82237c78\",\"type\":\"GlyphRenderer\"},{\"id\":\"e3be8071-aa1c-44bb-9e95-c195492d5bc7\",\"type\":\"GlyphRenderer\"},{\"id\":\"518fe13a-7647-40ff-b1c3-92928cffc464\",\"type\":\"GlyphRenderer\"},{\"id\":\"b1284478-cfc8-443d-962d-675a6f8e795e\",\"type\":\"GlyphRenderer\"},{\"id\":\"ce976a5a-aba9-4b2f-8c7f-3dd1e88e7d20\",\"type\":\"GlyphRenderer\"},{\"id\":\"6a048001-a113-44b8-bfb0-2d136f7bd8c1\",\"type\":\"GlyphRenderer\"},{\"id\":\"379a91a6-d69e-40b2-99f0-85bda41de12e\",\"type\":\"GlyphRenderer\"},{\"id\":\"fb02ac7e-0f70-4118-bf6d-e2788c31cdf4\",\"type\":\"GlyphRenderer\"},{\"id\":\"af890a3f-3622-4cd2-801c-3c0b2b48985f\",\"type\":\"GlyphRenderer\"},{\"id\":\"21daecb0-56c6-4c15-bd9e-3ad4273a5cc1\",\"type\":\"GlyphRenderer\"},{\"id\":\"e4a86b95-9b1d-4dda-b939-6cad56427be0\",\"type\":\"GlyphRenderer\"},{\"id\":\"fb03f005-fb42-4177-94b8-65f884730fac\",\"type\":\"GlyphRenderer\"},{\"id\":\"8ace3293-e61c-4ca4-bfca-520ef28fd18f\",\"type\":\"GlyphRenderer\"},{\"id\":\"78549cb6-bb8f-40ca-88d0-679983e746cd\",\"type\":\"GlyphRenderer\"},{\"id\":\"78d6e035-78df-476e-9ac9-6ed0e705f6ab\",\"type\":\"GlyphRenderer\"},{\"id\":\"453e0803-f38b-411f-a3a0-b312fa7a7fa3\",\"type\":\"GlyphRenderer\"},{\"id\":\"63a9ad28-17ac-4269-b879-737c74279eee\",\"type\":\"GlyphRenderer\"},{\"id\":\"fc6ae4aa-1e79-4fdb-ac4f-2e54552c1bfc\",\"type\":\"GlyphRenderer\"},{\"id\":\"084c98e5-f3c7-4404-b49e-1f58ce35bb2d\",\"type\":\"GlyphRenderer\"},{\"id\":\"cca89689-268d-4e0f-a831-fb4b15d316a1\",\"type\":\"GlyphRenderer\"},{\"id\":\"d0986f2b-c647-401f-8548-cfb8fb99a7c3\",\"type\":\"GlyphRenderer\"},{\"id\":\"794e8905-4469-4fa2-b123-9c1caa369938\",\"type\":\"GlyphRenderer\"},{\"id\":\"e3a5cd1e-787a-42b1-b9ac-b2dc91229990\",\"type\":\"Legend\"},{\"id\":\"b58272d6-43b3-48b8-807a-a321c75f7e6a\",\"type\":\"LinearAxis\"},{\"id\":\"38889b36-eced-4be5-9d9d-b01600705edb\",\"type\":\"LinearAxis\"},{\"id\":\"da20b654-b64f-4df3-bcf5-944eb8986ece\",\"type\":\"Grid\"}],\"title\":{\"id\":\"0b579d8a-cdc3-46f0-aaea-79ea98d87fa1\",\"type\":\"Title\"},\"tool_events\":{\"id\":\"c1510329-8a52-4a0f-82ad-9e081a53d243\",\"type\":\"ToolEvents\"},\"toolbar\":{\"id\":\"5e4445cb-e43f-4e5f-b25d-fa7ef42e463c\",\"type\":\"Toolbar\"},\"toolbar_location\":null,\"width\":350,\"x_mapper_type\":\"auto\",\"x_range\":{\"id\":\"e7f66155-125e-492b-aded-689d66dff11d\",\"type\":\"Range1d\"},\"y_mapper_type\":\"auto\",\"y_range\":{\"id\":\"44fdc10f-5c7a-4218-b2ea-da157ecc2f09\",\"type\":\"Range1d\"}},\"id\":\"e248c624-063b-473b-9b7d-e65e46602b02\",\"subtype\":\"Chart\",\"type\":\"Plot\"},{\"attributes\":{\"dimension\":1,\"plot\":{\"id\":\"ebf80998-1d9b-4911-98bb-96a6b2bac537\",\"subtype\":\"Chart\",\"type\":\"Plot\"},\"ticker\":{\"id\":\"41e48dc1-133b-470e-9fad-c22eee129989\",\"type\":\"BasicTicker\"}},\"id\":\"ca34a870-35c7-46a5-be1b-aa538b37e13e\",\"type\":\"Grid\"},{\"attributes\":{\"fill_alpha\":{\"field\":\"fill_alpha\"},\"fill_color\":{\"field\":\"color\"},\"height\":{\"field\":\"height\",\"units\":\"data\"},\"line_color\":{\"field\":\"line_color\"},\"width\":{\"field\":\"width\",\"units\":\"data\"},\"x\":{\"field\":\"x\"},\"y\":{\"field\":\"y\"}},\"id\":\"aa752af4-d615-4a30-96fe-1d767eccd674\",\"type\":\"Rect\"},{\"attributes\":{\"fill_alpha\":{\"field\":\"fill_alpha\"},\"fill_color\":{\"field\":\"color\"},\"height\":{\"field\":\"height\",\"units\":\"data\"},\"line_color\":{\"field\":\"line_color\"},\"width\":{\"field\":\"width\",\"units\":\"data\"},\"x\":{\"field\":\"x\"},\"y\":{\"field\":\"y\"}},\"id\":\"c777b014-e11d-46e8-b69a-e427550eec4c\",\"type\":\"Rect\"},{\"attributes\":{\"fill_alpha\":{\"field\":\"fill_alpha\"},\"fill_color\":{\"field\":\"color\"},\"height\":{\"field\":\"height\",\"units\":\"data\"},\"line_color\":{\"field\":\"line_color\"},\"width\":{\"field\":\"width\",\"units\":\"data\"},\"x\":{\"field\":\"x\"},\"y\":{\"field\":\"y\"}},\"id\":\"b80081c9-710f-4eac-91ea-813b3d9002d2\",\"type\":\"Rect\"},{\"attributes\":{\"callback\":null,\"end\":346.5},\"id\":\"0e9dee5a-1115-4c48-bb74-bfafd4e0d336\",\"type\":\"Range1d\"},{\"attributes\":{\"callback\":null,\"column_names\":[\"y\",\"fill_alpha\",\"label\",\"line_alpha\",\"x\",\"line_color\",\"color\",\"height\",\"width\"],\"data\":{\"chart_index\":[\"(28.003841, 30.003633]\"],\"color\":[\"#f22c40\"],\"fill_alpha\":[0.8],\"height\":[181.0],\"label\":[\"(28.003841, 30.003633]\"],\"line_alpha\":[1.0],\"line_color\":[\"black\"],\"width\":[1.9997923043628987],\"x\":[\"29.003737\"],\"y\":[90.5]}},\"id\":\"eb519fcb-467c-481e-9967-23da754a2385\",\"type\":\"ColumnDataSource\"},{\"attributes\":{\"data_source\":{\"id\":\"c64d3fb7-11ce-4285-9221-e359dee29197\",\"type\":\"ColumnDataSource\"},\"glyph\":{\"id\":\"5aa660c0-1e22-4f32-b35a-7b2d44dcb532\",\"type\":\"Rect\"},\"hover_glyph\":null,\"nonselection_glyph\":null,\"selection_glyph\":null},\"id\":\"b101c438-441c-4bf5-91e2-a8799446fc1b\",\"type\":\"GlyphRenderer\"},{\"attributes\":{\"fill_alpha\":{\"field\":\"fill_alpha\"},\"fill_color\":{\"field\":\"color\"},\"height\":{\"field\":\"height\",\"units\":\"data\"},\"line_color\":{\"field\":\"line_color\"},\"width\":{\"field\":\"width\",\"units\":\"data\"},\"x\":{\"field\":\"x\"},\"y\":{\"field\":\"y\"}},\"id\":\"81306d3b-0605-4b1c-988b-c78749515351\",\"type\":\"Rect\"},{\"attributes\":{\"data_source\":{\"id\":\"53edae50-9079-4d47-98ae-1986ae40782b\",\"type\":\"ColumnDataSource\"},\"glyph\":{\"id\":\"d99947ee-cab7-4902-a092-cd31747640e7\",\"type\":\"Rect\"},\"hover_glyph\":null,\"nonselection_glyph\":null,\"selection_glyph\":null},\"id\":\"8b5a4e7e-622b-4852-a1c4-301acd617458\",\"type\":\"GlyphRenderer\"},{\"attributes\":{\"data_source\":{\"id\":\"45345d26-bd5f-42cc-948d-7d2fef7d0f25\",\"type\":\"ColumnDataSource\"},\"glyph\":{\"id\":\"43bc8812-c6cc-436d-b518-adc2c135d33f\",\"type\":\"Rect\"},\"hover_glyph\":null,\"nonselection_glyph\":null,\"selection_glyph\":null},\"id\":\"252a6231-7ae1-464e-ba47-d30aa7f51768\",\"type\":\"GlyphRenderer\"},{\"attributes\":{\"data_source\":{\"id\":\"a0ae62ad-e86a-477e-b731-c0248138f245\",\"type\":\"ColumnDataSource\"},\"glyph\":{\"id\":\"90b407d7-0927-49ea-ae14-183fc2b28ec9\",\"type\":\"Rect\"},\"hover_glyph\":null,\"nonselection_glyph\":null,\"selection_glyph\":null},\"id\":\"c681a6a1-aa40-444c-a72e-e28c85c89e91\",\"type\":\"GlyphRenderer\"},{\"attributes\":{\"callback\":null,\"column_names\":[\"y\",\"fill_alpha\",\"label\",\"line_alpha\",\"x\",\"line_color\",\"color\",\"height\",\"width\"],\"data\":{\"chart_index\":[\"(651.656398, 671.403407]\"],\"color\":[\"#f22c40\"],\"fill_alpha\":[0.8],\"height\":[1.0],\"label\":[\"(651.656398, 671.403407]\"],\"line_alpha\":[1.0],\"line_color\":[\"black\"],\"width\":[19.74700911880643],\"x\":[\"661.5299024999999\"],\"y\":[0.5]}},\"id\":\"5f36d08f-4c42-4bd4-8a35-2ddc34f56347\",\"type\":\"ColumnDataSource\"},{\"attributes\":{\"callback\":null,\"column_names\":[\"y\",\"fill_alpha\",\"label\",\"line_alpha\",\"x\",\"line_color\",\"color\",\"height\",\"width\"],\"data\":{\"chart_index\":[\"(74.202203, 76.158292]\"],\"color\":[\"#f22c40\"],\"fill_alpha\":[0.8],\"height\":[312.0],\"label\":[\"(74.202203, 76.158292]\"],\"line_alpha\":[1.0],\"line_color\":[\"black\"],\"width\":[1.9560889049003976],\"x\":[\"75.18024750000001\"],\"y\":[156.0]}},\"id\":\"7186e8e6-a89d-467c-92cd-1b4677b08360\",\"type\":\"ColumnDataSource\"},{\"attributes\":{\"data_source\":{\"id\":\"cc544274-4c62-463c-8572-90ca6f138c2e\",\"type\":\"ColumnDataSource\"},\"glyph\":{\"id\":\"570e04e2-28d9-466d-a0f4-97b3bbb1d5c7\",\"type\":\"Rect\"},\"hover_glyph\":null,\"nonselection_glyph\":null,\"selection_glyph\":null},\"id\":\"847f9257-bd59-4757-8a80-f37d9a5bfbf8\",\"type\":\"GlyphRenderer\"},{\"attributes\":{\"children\":[{\"id\":\"c7ded51f-eea9-447a-b2ab-21ad0daf2071\",\"type\":\"Row\"},{\"id\":\"5bb3a33c-d254-4abc-b761-71cff8e5dd0f\",\"type\":\"Row\"}]},\"id\":\"ec657db7-eb7e-4157-9132-62eeb670796a\",\"type\":\"Column\"},{\"attributes\":{\"fill_alpha\":{\"field\":\"fill_alpha\"},\"fill_color\":{\"field\":\"color\"},\"height\":{\"field\":\"height\",\"units\":\"data\"},\"line_color\":{\"field\":\"line_color\"},\"width\":{\"field\":\"width\",\"units\":\"data\"},\"x\":{\"field\":\"x\"},\"y\":{\"field\":\"y\"}},\"id\":\"735b3d45-5b5d-43b8-ab9b-61acecafaa63\",\"type\":\"Rect\"},{\"attributes\":{\"callback\":null,\"column_names\":[\"y\",\"fill_alpha\",\"label\",\"line_alpha\",\"x\",\"line_color\",\"color\",\"height\",\"width\"],\"data\":{\"chart_index\":[\"(22.719805, 24.270345]\"],\"color\":[\"#f22c40\"],\"fill_alpha\":[0.8],\"height\":[149.0],\"label\":[\"(22.719805, 24.270345]\"],\"line_alpha\":[1.0],\"line_color\":[\"black\"],\"width\":[1.550540015708986],\"x\":[\"23.495075\"],\"y\":[74.5]}},\"id\":\"a583efcc-f114-46a8-9e18-e7f8ca6be1cd\",\"type\":\"ColumnDataSource\"},{\"attributes\":{\"callback\":null,\"column_names\":[\"y\",\"fill_alpha\",\"label\",\"line_alpha\",\"x\",\"line_color\",\"color\",\"height\",\"width\"],\"data\":{\"chart_index\":[\"(947.861535, 967.608544]\"],\"color\":[\"#f22c40\"],\"fill_alpha\":[0.8],\"height\":[0.0],\"label\":[\"(947.861535, 967.608544]\"],\"line_alpha\":[1.0],\"line_color\":[\"black\"],\"width\":[19.74700911880643],\"x\":[\"957.7350395000001\"],\"y\":[0.0]}},\"id\":\"0b729064-621c-43fd-8585-66178593d02a\",\"type\":\"ColumnDataSource\"},{\"attributes\":{\"data_source\":{\"id\":\"f03c981d-6009-47e7-bb61-5433dc8338f4\",\"type\":\"ColumnDataSource\"},\"glyph\":{\"id\":\"f265ad61-17e7-4a3a-b9b2-92efeaa1302d\",\"type\":\"Rect\"},\"hover_glyph\":null,\"nonselection_glyph\":null,\"selection_glyph\":null},\"id\":\"a2be36ba-7928-4964-a9aa-39ec43bdb45f\",\"type\":\"GlyphRenderer\"},{\"attributes\":{\"callback\":null,\"column_names\":[\"y\",\"fill_alpha\",\"label\",\"line_alpha\",\"x\",\"line_color\",\"color\",\"height\",\"width\"],\"data\":{\"chart_index\":[\"(80.070470, 82.026559]\"],\"color\":[\"#f22c40\"],\"fill_alpha\":[0.8],\"height\":[275.0],\"label\":[\"(80.070470, 82.026559]\"],\"line_alpha\":[1.0],\"line_color\":[\"black\"],\"width\":[1.9560889049004118],\"x\":[\"81.04851450000001\"],\"y\":[137.5]}},\"id\":\"a58edac8-03a3-47e5-af39-e95615c6658b\",\"type\":\"ColumnDataSource\"},{\"attributes\":{\"data_source\":{\"id\":\"f34c3a8b-5b1d-4510-a81a-cf5ed44997fb\",\"type\":\"ColumnDataSource\"},\"glyph\":{\"id\":\"7b1de67c-f6db-45dd-89f0-cc5afa728450\",\"type\":\"Rect\"},\"hover_glyph\":null,\"nonselection_glyph\":null,\"selection_glyph\":null},\"id\":\"45727711-3077-486d-8c0e-679ff98e4ace\",\"type\":\"GlyphRenderer\"},{\"attributes\":{\"data_source\":{\"id\":\"e318fa9a-bd13-4f9a-a3fe-e22d445aa879\",\"type\":\"ColumnDataSource\"},\"glyph\":{\"id\":\"3ff3d768-99df-4201-923f-67e992512583\",\"type\":\"Rect\"},\"hover_glyph\":null,\"nonselection_glyph\":null,\"selection_glyph\":null},\"id\":\"b2bb3f16-acbc-4c8e-8342-85d26baa5c66\",\"type\":\"GlyphRenderer\"},{\"attributes\":{\"fill_alpha\":{\"field\":\"fill_alpha\"},\"fill_color\":{\"field\":\"color\"},\"height\":{\"field\":\"height\",\"units\":\"data\"},\"line_color\":{\"field\":\"line_color\"},\"width\":{\"field\":\"width\",\"units\":\"data\"},\"x\":{\"field\":\"x\"},\"y\":{\"field\":\"y\"}},\"id\":\"e4515c87-4d23-4104-81ae-797db3f65278\",\"type\":\"Rect\"},{\"attributes\":{\"callback\":null,\"end\":78.8999652328545,\"start\":-2.4495562328544933},\"id\":\"e7f66155-125e-492b-aded-689d66dff11d\",\"type\":\"Range1d\"},{\"attributes\":{\"callback\":null,\"column_names\":[\"y\",\"fill_alpha\",\"label\",\"line_alpha\",\"x\",\"line_color\",\"color\",\"height\",\"width\"],\"data\":{\"chart_index\":[\"(72.246114, 74.202203]\"],\"color\":[\"#f22c40\"],\"fill_alpha\":[0.8],\"height\":[289.0],\"label\":[\"(72.246114, 74.202203]\"],\"line_alpha\":[1.0],\"line_color\":[\"black\"],\"width\":[1.9560889049003976],\"x\":[\"73.2241585\"],\"y\":[144.5]}},\"id\":\"bcd5d964-ba94-4bea-8249-f5fe616dd506\",\"type\":\"ColumnDataSource\"},{\"attributes\":{\"location\":\"top_left\",\"plot\":{\"id\":\"e248c624-063b-473b-9b7d-e65e46602b02\",\"subtype\":\"Chart\",\"type\":\"Plot\"}},\"id\":\"e3a5cd1e-787a-42b1-b9ac-b2dc91229990\",\"type\":\"Legend\"},{\"attributes\":{\"data_source\":{\"id\":\"b291edd9-eb1c-4448-86a7-80f0aad13f8c\",\"type\":\"ColumnDataSource\"},\"glyph\":{\"id\":\"aae84e24-8817-46b2-9130-38bff2c7894c\",\"type\":\"Rect\"},\"hover_glyph\":null,\"nonselection_glyph\":null,\"selection_glyph\":null},\"id\":\"21d298e3-5676-406a-8ad9-d9164dabdb8b\",\"type\":\"GlyphRenderer\"},{\"attributes\":{\"callback\":null,\"column_names\":[\"y\",\"fill_alpha\",\"label\",\"line_alpha\",\"x\",\"line_color\",\"color\",\"height\",\"width\"],\"data\":{\"chart_index\":[\"(256.716215, 276.463224]\"],\"color\":[\"#f22c40\"],\"fill_alpha\":[0.8],\"height\":[133.0],\"label\":[\"(256.716215, 276.463224]\"],\"line_alpha\":[1.0],\"line_color\":[\"black\"],\"width\":[19.74700911880643],\"x\":[\"266.5897195\"],\"y\":[66.5]}},\"id\":\"662659e1-49f1-4162-b077-9d9ae0cc7b30\",\"type\":\"ColumnDataSource\"},{\"attributes\":{\"data_source\":{\"id\":\"233b621f-b677-42d2-a1e5-fb72012a1d0a\",\"type\":\"ColumnDataSource\"},\"glyph\":{\"id\":\"fda24bc3-00ac-4d04-9410-7c8b0c1048dc\",\"type\":\"Rect\"},\"hover_glyph\":null,\"nonselection_glyph\":null,\"selection_glyph\":null},\"id\":\"c8791145-613c-46c7-b817-a85dac1aab98\",\"type\":\"GlyphRenderer\"},{\"attributes\":{\"fill_alpha\":{\"field\":\"fill_alpha\"},\"fill_color\":{\"field\":\"color\"},\"height\":{\"field\":\"height\",\"units\":\"data\"},\"line_color\":{\"field\":\"line_color\"},\"width\":{\"field\":\"width\",\"units\":\"data\"},\"x\":{\"field\":\"x\"},\"y\":{\"field\":\"y\"}},\"id\":\"b8f3d078-48ae-4c51-824e-99b2df9e370e\",\"type\":\"Rect\"},{\"attributes\":{\"callback\":null,\"column_names\":[\"y\",\"fill_alpha\",\"label\",\"line_alpha\",\"x\",\"line_color\",\"color\",\"height\",\"width\"],\"data\":{\"chart_index\":[\"(58.382225, 59.932765]\"],\"color\":[\"#f22c40\"],\"fill_alpha\":[0.8],\"height\":[90.0],\"label\":[\"(58.382225, 59.932765]\"],\"line_alpha\":[1.0],\"line_color\":[\"black\"],\"width\":[1.5505400157089824],\"x\":[\"59.157495\"],\"y\":[45.0]}},\"id\":\"9648e2ec-6030-4025-bef7-f898e5180590\",\"type\":\"ColumnDataSource\"},{\"attributes\":{\"fill_alpha\":{\"field\":\"fill_alpha\"},\"fill_color\":{\"field\":\"color\"},\"height\":{\"field\":\"height\",\"units\":\"data\"},\"line_color\":{\"field\":\"line_color\"},\"width\":{\"field\":\"width\",\"units\":\"data\"},\"x\":{\"field\":\"x\"},\"y\":{\"field\":\"y\"}},\"id\":\"41b45b01-a59e-4e5d-8a6a-b0f2b9f8fe81\",\"type\":\"Rect\"},{\"attributes\":{\"callback\":null,\"column_names\":[\"y\",\"fill_alpha\",\"label\",\"line_alpha\",\"x\",\"line_color\",\"color\",\"height\",\"width\"],\"data\":{\"chart_index\":[\"(710.897425, 730.644434]\"],\"color\":[\"#f22c40\"],\"fill_alpha\":[0.8],\"height\":[0.0],\"label\":[\"(710.897425, 730.644434]\"],\"line_alpha\":[1.0],\"line_color\":[\"black\"],\"width\":[19.74700911880643],\"x\":[\"720.7709295\"],\"y\":[0.0]}},\"id\":\"de069982-4540-40ad-bcf1-5aed687c6626\",\"type\":\"ColumnDataSource\"},{\"attributes\":{\"data_source\":{\"id\":\"86953428-26c0-4912-ad47-7cbc85e97dd0\",\"type\":\"ColumnDataSource\"},\"glyph\":{\"id\":\"db8bd6fc-3acf-46ef-97f7-7d4883e85e39\",\"type\":\"Rect\"},\"hover_glyph\":null,\"nonselection_glyph\":null,\"selection_glyph\":null},\"id\":\"23cba686-f334-4a20-82ce-f16b9f0408c5\",\"type\":\"GlyphRenderer\"},{\"attributes\":{\"overlay\":{\"id\":\"40c6d669-642a-419a-a9cb-cfae9d7cf540\",\"type\":\"BoxAnnotation\"},\"plot\":{\"id\":\"42cfec60-226a-4b10-b05a-c87660a395df\",\"subtype\":\"Chart\",\"type\":\"Plot\"}},\"id\":\"6834e13f-2872-44df-a1f9-ccb594e8a386\",\"type\":\"BoxZoomTool\"},{\"attributes\":{\"data_source\":{\"id\":\"bffce4e5-6b89-45a9-b88f-bac52ecbefe7\",\"type\":\"ColumnDataSource\"},\"glyph\":{\"id\":\"bf06aa9a-55cd-4329-8027-58f602b8855e\",\"type\":\"Rect\"},\"hover_glyph\":null,\"nonselection_glyph\":null,\"selection_glyph\":null},\"id\":\"b500c9f1-d357-4e90-a18b-69c2372afde1\",\"type\":\"GlyphRenderer\"},{\"attributes\":{\"data_source\":{\"id\":\"24fa2a33-10b5-4e9c-b166-e8b8b10aba05\",\"type\":\"ColumnDataSource\"},\"glyph\":{\"id\":\"30bc09af-c43d-4835-b9fa-6c129b98906d\",\"type\":\"Rect\"},\"hover_glyph\":null,\"nonselection_glyph\":null,\"selection_glyph\":null},\"id\":\"97a94b16-9452-4eee-8389-0384b7dd3da0\",\"type\":\"GlyphRenderer\"},{\"attributes\":{\"callback\":null,\"column_names\":[\"y\",\"fill_alpha\",\"label\",\"line_alpha\",\"x\",\"line_color\",\"color\",\"height\",\"width\"],\"data\":{\"chart_index\":[\"(45.977905, 47.528445]\"],\"color\":[\"#f22c40\"],\"fill_alpha\":[0.8],\"height\":[450.0],\"label\":[\"(45.977905, 47.528445]\"],\"line_alpha\":[1.0],\"line_color\":[\"black\"],\"width\":[1.5505400157089824],\"x\":[\"46.753175\"],\"y\":[225.0]}},\"id\":\"20fc0015-9974-4434-8707-f63a2cd23ebd\",\"type\":\"ColumnDataSource\"},{\"attributes\":{\"data_source\":{\"id\":\"3709ef53-b793-48f9-a4b2-5032835a703b\",\"type\":\"ColumnDataSource\"},\"glyph\":{\"id\":\"2d187369-dab4-431a-a363-386db7c96f16\",\"type\":\"Rect\"},\"hover_glyph\":null,\"nonselection_glyph\":null,\"selection_glyph\":null},\"id\":\"e3be8071-aa1c-44bb-9e95-c195492d5bc7\",\"type\":\"GlyphRenderer\"},{\"attributes\":{\"callback\":null,\"column_names\":[\"y\",\"fill_alpha\",\"label\",\"line_alpha\",\"x\",\"line_color\",\"color\",\"height\",\"width\"],\"data\":{\"chart_index\":[\"(59.246124, 78.993133]\"],\"color\":[\"#f22c40\"],\"fill_alpha\":[0.8],\"height\":[1000.0],\"label\":[\"(59.246124, 78.993133]\"],\"line_alpha\":[1.0],\"line_color\":[\"black\"],\"width\":[19.74700911880641],\"x\":[\"69.1196285\"],\"y\":[500.0]}},\"id\":\"11b8ebb7-4a11-4e6f-adc9-5a49fd26c970\",\"type\":\"ColumnDataSource\"},{\"attributes\":{\"fill_alpha\":{\"field\":\"fill_alpha\"},\"fill_color\":{\"field\":\"color\"},\"height\":{\"field\":\"height\",\"units\":\"data\"},\"line_color\":{\"field\":\"line_color\"},\"width\":{\"field\":\"width\",\"units\":\"data\"},\"x\":{\"field\":\"x\"},\"y\":{\"field\":\"y\"}},\"id\":\"d5cf1d1f-c33d-48f2-9732-a7d52d53718b\",\"type\":\"Rect\"},{\"attributes\":{\"fill_alpha\":{\"field\":\"fill_alpha\"},\"fill_color\":{\"field\":\"color\"},\"height\":{\"field\":\"height\",\"units\":\"data\"},\"line_color\":{\"field\":\"line_color\"},\"width\":{\"field\":\"width\",\"units\":\"data\"},\"x\":{\"field\":\"x\"},\"y\":{\"field\":\"y\"}},\"id\":\"1fda4639-fa63-4c2b-b1fe-e4277a1cf930\",\"type\":\"Rect\"},{\"attributes\":{\"callback\":null,\"column_names\":[\"y\",\"fill_alpha\",\"label\",\"line_alpha\",\"x\",\"line_color\",\"color\",\"height\",\"width\"],\"data\":{\"chart_index\":[\"(62.465669, 64.421758]\"],\"color\":[\"#f22c40\"],\"fill_alpha\":[0.8],\"height\":[287.0],\"label\":[\"(62.465669, 64.421758]\"],\"line_alpha\":[1.0],\"line_color\":[\"black\"],\"width\":[1.9560889049003976],\"x\":[\"63.4437135\"],\"y\":[143.5]}},\"id\":\"abb4b375-1de7-4aeb-b76a-5d56833349cc\",\"type\":\"ColumnDataSource\"},{\"attributes\":{\"callback\":null,\"column_names\":[\"y\",\"fill_alpha\",\"label\",\"line_alpha\",\"x\",\"line_color\",\"color\",\"height\",\"width\"],\"data\":{\"chart_index\":[\"(79.998441, 81.998233]\"],\"color\":[\"#f22c40\"],\"fill_alpha\":[0.8],\"height\":[176.0],\"label\":[\"(79.998441, 81.998233]\"],\"line_alpha\":[1.0],\"line_color\":[\"black\"],\"width\":[1.9997923043628987],\"x\":[\"80.99833699999999\"],\"y\":[88.0]}},\"id\":\"f32822d2-ad56-4ee5-80be-d039543ba8b9\",\"type\":\"ColumnDataSource\"},{\"attributes\":{\"fill_alpha\":{\"field\":\"fill_alpha\"},\"fill_color\":{\"field\":\"color\"},\"height\":{\"field\":\"height\",\"units\":\"data\"},\"line_color\":{\"field\":\"line_color\"},\"width\":{\"field\":\"width\",\"units\":\"data\"},\"x\":{\"field\":\"x\"},\"y\":{\"field\":\"y\"}},\"id\":\"6c9853f7-fe41-470d-af39-5ee888b42272\",\"type\":\"Rect\"},{\"attributes\":{\"callback\":null,\"column_names\":[\"y\",\"fill_alpha\",\"label\",\"line_alpha\",\"x\",\"line_color\",\"color\",\"height\",\"width\"],\"data\":{\"chart_index\":[\"(70.290025, 72.246114]\"],\"color\":[\"#f22c40\"],\"fill_alpha\":[0.8],\"height\":[303.0],\"label\":[\"(70.290025, 72.246114]\"],\"line_alpha\":[1.0],\"line_color\":[\"black\"],\"width\":[1.9560889049004118],\"x\":[\"71.2680695\"],\"y\":[151.5]}},\"id\":\"c0f3b78d-f291-41ff-8664-8a080e70ea91\",\"type\":\"ColumnDataSource\"},{\"attributes\":{\"below\":[{\"id\":\"345b920c-7bc2-4f13-88b2-00b7f8f59b8b\",\"type\":\"LinearAxis\"}],\"css_classes\":null,\"height\":300,\"left\":[{\"id\":\"169e22d4-730f-48d5-a784-adb448ca164f\",\"type\":\"LinearAxis\"}],\"renderers\":[{\"id\":\"683beb0e-57f9-490f-9720-56e0733a7bea\",\"type\":\"BoxAnnotation\"},{\"id\":\"05403b13-5b65-4686-ae6e-74ee284381fd\",\"type\":\"GlyphRenderer\"},{\"id\":\"714923cd-3399-45dc-a364-33be51f12260\",\"type\":\"GlyphRenderer\"},{\"id\":\"4007b4ae-9eb5-4a00-a44d-ca537fb250d3\",\"type\":\"GlyphRenderer\"},{\"id\":\"9266de05-94a6-41e2-af51-68c31483115e\",\"type\":\"GlyphRenderer\"},{\"id\":\"4a978c00-cef2-4333-8667-549a608a37b8\",\"type\":\"GlyphRenderer\"},{\"id\":\"996aa07b-5cfe-499e-bde7-d841bd9cbd13\",\"type\":\"GlyphRenderer\"},{\"id\":\"21421db4-c386-48a7-b55c-c59e0255dfb8\",\"type\":\"GlyphRenderer\"},{\"id\":\"b101c438-441c-4bf5-91e2-a8799446fc1b\",\"type\":\"GlyphRenderer\"},{\"id\":\"f4d4d4c0-a416-406c-b971-a5d95e727a8b\",\"type\":\"GlyphRenderer\"},{\"id\":\"75fb5e2d-8cb4-49af-9298-a9086ff122db\",\"type\":\"GlyphRenderer\"},{\"id\":\"e0db58f4-2b2e-4777-8d3e-d87c660930f5\",\"type\":\"GlyphRenderer\"},{\"id\":\"fd8bec5c-55cd-4222-a8c7-e3e95ed49661\",\"type\":\"GlyphRenderer\"},{\"id\":\"4338c211-9388-4aa4-977b-4d3be04d4137\",\"type\":\"GlyphRenderer\"},{\"id\":\"051ad4d2-d2b0-4583-b12d-7939b100619f\",\"type\":\"GlyphRenderer\"},{\"id\":\"770e3072-ceeb-4134-af51-e79885d57d58\",\"type\":\"GlyphRenderer\"},{\"id\":\"8f1b8bbe-98ed-4c78-99e6-5c0a71ec9058\",\"type\":\"GlyphRenderer\"},{\"id\":\"f73e9c12-b9d7-4dd3-ac2b-0b049eadbb6f\",\"type\":\"GlyphRenderer\"},{\"id\":\"bb75840d-5c22-4959-9c3e-80fb7510aafd\",\"type\":\"GlyphRenderer\"},{\"id\":\"07e76078-d760-44ec-8305-3071948f4fc8\",\"type\":\"GlyphRenderer\"},{\"id\":\"4c12bd97-1749-425d-93dd-17d8d7fde086\",\"type\":\"GlyphRenderer\"},{\"id\":\"714353cf-d019-4bfc-a4cb-95afad5d7cec\",\"type\":\"GlyphRenderer\"},{\"id\":\"6a048321-bf28-4ea6-b7ff-43225f3e616b\",\"type\":\"GlyphRenderer\"},{\"id\":\"a66d2688-bb02-4603-a2c4-873f0c031d81\",\"type\":\"GlyphRenderer\"},{\"id\":\"bc6edc45-3825-44f5-b7e2-f49361fc3338\",\"type\":\"GlyphRenderer\"},{\"id\":\"d12d1cd1-016e-4961-a45d-36740bdc9c61\",\"type\":\"GlyphRenderer\"},{\"id\":\"27d229c1-41b5-4437-845a-954116821dc0\",\"type\":\"GlyphRenderer\"},{\"id\":\"b2bb3f16-acbc-4c8e-8342-85d26baa5c66\",\"type\":\"GlyphRenderer\"},{\"id\":\"a951058c-3450-4bd4-b741-5a61b8f4e145\",\"type\":\"GlyphRenderer\"},{\"id\":\"05b8ff20-c0e6-4bdc-b0bb-2c04af32ec08\",\"type\":\"GlyphRenderer\"},{\"id\":\"aff9d93d-6a4b-46c8-92e5-9cfd915cd5e0\",\"type\":\"GlyphRenderer\"},{\"id\":\"45727711-3077-486d-8c0e-679ff98e4ace\",\"type\":\"GlyphRenderer\"},{\"id\":\"0953af82-2b67-4318-868d-d64308ed16b1\",\"type\":\"GlyphRenderer\"},{\"id\":\"9c93d265-7e06-42c7-91e0-5346349fb87c\",\"type\":\"GlyphRenderer\"},{\"id\":\"22b4045b-eae4-49d3-8095-0fa77dd93323\",\"type\":\"GlyphRenderer\"},{\"id\":\"e5dd4f19-f968-475c-8012-3de6d4e32c83\",\"type\":\"GlyphRenderer\"},{\"id\":\"23cba686-f334-4a20-82ce-f16b9f0408c5\",\"type\":\"GlyphRenderer\"},{\"id\":\"cff82850-0dd7-49cc-893e-576710031c6a\",\"type\":\"GlyphRenderer\"},{\"id\":\"befe894a-17ff-4232-9b3a-b0036e0d8686\",\"type\":\"GlyphRenderer\"},{\"id\":\"bcd76839-be4a-4542-af73-2cbefd480012\",\"type\":\"GlyphRenderer\"},{\"id\":\"87e4979d-d28a-4046-8a78-95abf31a4e0e\",\"type\":\"GlyphRenderer\"},{\"id\":\"4ae9594b-b52c-4778-a586-6b0938095ab1\",\"type\":\"GlyphRenderer\"},{\"id\":\"713fb8fb-509e-4617-b1c6-639ffb96c121\",\"type\":\"GlyphRenderer\"},{\"id\":\"a6daafc9-57cb-447e-b668-0c7691bceb35\",\"type\":\"GlyphRenderer\"},{\"id\":\"c89b3fb9-e219-42a3-9bcc-0b959197a1a7\",\"type\":\"GlyphRenderer\"},{\"id\":\"bec5f901-d05b-40fd-a113-dffb8354a14b\",\"type\":\"GlyphRenderer\"},{\"id\":\"5a8843ce-df94-468b-8206-ea740cdc5961\",\"type\":\"GlyphRenderer\"},{\"id\":\"3ff5f8b4-765f-4048-b633-bf441c2e7d5b\",\"type\":\"GlyphRenderer\"},{\"id\":\"b500c9f1-d357-4e90-a18b-69c2372afde1\",\"type\":\"GlyphRenderer\"},{\"id\":\"acb55f49-90c6-412c-b145-47692e764449\",\"type\":\"GlyphRenderer\"},{\"id\":\"a837de00-6985-4985-b31d-11cdc8d3a6bc\",\"type\":\"GlyphRenderer\"},{\"id\":\"51af8cc9-5521-4016-a5c6-292f0c6fcd5c\",\"type\":\"Legend\"},{\"id\":\"345b920c-7bc2-4f13-88b2-00b7f8f59b8b\",\"type\":\"LinearAxis\"},{\"id\":\"169e22d4-730f-48d5-a784-adb448ca164f\",\"type\":\"LinearAxis\"},{\"id\":\"ca34a870-35c7-46a5-be1b-aa538b37e13e\",\"type\":\"Grid\"}],\"title\":{\"id\":\"5dbe535e-92bf-4dc9-8eb3-aee60e410169\",\"type\":\"Title\"},\"tool_events\":{\"id\":\"093a0d03-c8c1-4284-86fd-98de0dc52488\",\"type\":\"ToolEvents\"},\"toolbar\":{\"id\":\"3c7335cc-e6c4-4cc3-9426-e39972a226ed\",\"type\":\"Toolbar\"},\"toolbar_location\":null,\"width\":350,\"x_mapper_type\":\"auto\",\"x_range\":{\"id\":\"b8cd6db5-c7d8-4d8b-a534-e019438a915a\",\"type\":\"Range1d\"},\"y_mapper_type\":\"auto\",\"y_range\":{\"id\":\"0b79402f-7abc-45e5-b5ef-0dd58183ab45\",\"type\":\"Range1d\"}},\"id\":\"ebf80998-1d9b-4911-98bb-96a6b2bac537\",\"subtype\":\"Chart\",\"type\":\"Plot\"},{\"attributes\":{\"plot\":{\"id\":\"e248c624-063b-473b-9b7d-e65e46602b02\",\"subtype\":\"Chart\",\"type\":\"Plot\"}},\"id\":\"76c54841-be19-477b-936d-de2373e72c69\",\"type\":\"PanTool\"},{\"attributes\":{\"plot\":{\"id\":\"7a1cd8b3-4ad4-43a6-9e36-4c8297df94c3\",\"subtype\":\"Chart\",\"type\":\"Plot\"}},\"id\":\"07b45603-3560-4a65-a70f-83140780a64b\",\"type\":\"ResetTool\"},{\"attributes\":{\"data_source\":{\"id\":\"3b0b860e-a8d0-40e2-ac1c-11512ba22e78\",\"type\":\"ColumnDataSource\"},\"glyph\":{\"id\":\"d088c94f-c99d-4f13-af31-9ffe98ceb13f\",\"type\":\"Rect\"},\"hover_glyph\":null,\"nonselection_glyph\":null,\"selection_glyph\":null},\"id\":\"8e618c12-8871-4bbf-883f-374a788905a3\",\"type\":\"GlyphRenderer\"},{\"attributes\":{\"data_source\":{\"id\":\"3c30f1ac-36bb-404b-96a7-9bc35597612b\",\"type\":\"ColumnDataSource\"},\"glyph\":{\"id\":\"a6f96699-f054-487d-8692-1dc8c80519ba\",\"type\":\"Rect\"},\"hover_glyph\":null,\"nonselection_glyph\":null,\"selection_glyph\":null},\"id\":\"48837a5c-fee6-40ad-b02c-18c7d3abc6e9\",\"type\":\"GlyphRenderer\"},{\"attributes\":{\"children\":[{\"id\":\"fc314acb-341d-4dc8-9959-30e7e8d48402\",\"type\":\"ToolbarBox\"},{\"id\":\"ec657db7-eb7e-4157-9132-62eeb670796a\",\"type\":\"Column\"}]},\"id\":\"ee7e99b1-47c0-4522-a9cd-351bf9b71d8b\",\"type\":\"Column\"},{\"attributes\":{\"fill_alpha\":{\"field\":\"fill_alpha\"},\"fill_color\":{\"field\":\"color\"},\"height\":{\"field\":\"height\",\"units\":\"data\"},\"line_color\":{\"field\":\"line_color\"},\"width\":{\"field\":\"width\",\"units\":\"data\"},\"x\":{\"field\":\"x\"},\"y\":{\"field\":\"y\"}},\"id\":\"0df606f8-7e3d-4204-9c39-0edee9cf15b8\",\"type\":\"Rect\"},{\"attributes\":{\"fill_alpha\":{\"field\":\"fill_alpha\"},\"fill_color\":{\"field\":\"color\"},\"height\":{\"field\":\"height\",\"units\":\"data\"},\"line_color\":{\"field\":\"line_color\"},\"width\":{\"field\":\"width\",\"units\":\"data\"},\"x\":{\"field\":\"x\"},\"y\":{\"field\":\"y\"}},\"id\":\"4dd1cfe3-64f4-4f82-9528-45ecacf1e755\",\"type\":\"Rect\"},{\"attributes\":{\"fill_alpha\":{\"field\":\"fill_alpha\"},\"fill_color\":{\"field\":\"color\"},\"height\":{\"field\":\"height\",\"units\":\"data\"},\"line_color\":{\"field\":\"line_color\"},\"width\":{\"field\":\"width\",\"units\":\"data\"},\"x\":{\"field\":\"x\"},\"y\":{\"field\":\"y\"}},\"id\":\"fa274159-e239-45f6-918f-af9d0f31403c\",\"type\":\"Rect\"},{\"attributes\":{\"fill_alpha\":{\"field\":\"fill_alpha\"},\"fill_color\":{\"field\":\"color\"},\"height\":{\"field\":\"height\",\"units\":\"data\"},\"line_color\":{\"field\":\"line_color\"},\"width\":{\"field\":\"width\",\"units\":\"data\"},\"x\":{\"field\":\"x\"},\"y\":{\"field\":\"y\"}},\"id\":\"803ad6a0-ea7a-414d-89ba-c9a451cf896b\",\"type\":\"Rect\"},{\"attributes\":{\"fill_alpha\":{\"field\":\"fill_alpha\"},\"fill_color\":{\"field\":\"color\"},\"height\":{\"field\":\"height\",\"units\":\"data\"},\"line_color\":{\"field\":\"line_color\"},\"width\":{\"field\":\"width\",\"units\":\"data\"},\"x\":{\"field\":\"x\"},\"y\":{\"field\":\"y\"}},\"id\":\"2de036df-1986-47f9-8c2b-77697b2854e9\",\"type\":\"Rect\"},{\"attributes\":{\"fill_alpha\":{\"field\":\"fill_alpha\"},\"fill_color\":{\"field\":\"color\"},\"height\":{\"field\":\"height\",\"units\":\"data\"},\"line_color\":{\"field\":\"line_color\"},\"width\":{\"field\":\"width\",\"units\":\"data\"},\"x\":{\"field\":\"x\"},\"y\":{\"field\":\"y\"}},\"id\":\"540b5acf-dce3-49bf-beb0-ddc70f0cb10c\",\"type\":\"Rect\"},{\"attributes\":{\"callback\":null,\"column_names\":[\"y\",\"fill_alpha\",\"label\",\"line_alpha\",\"x\",\"line_color\",\"color\",\"height\",\"width\"],\"data\":{\"chart_index\":[\"(276.463224, 296.210234]\"],\"color\":[\"#f22c40\"],\"fill_alpha\":[0.8],\"height\":[120.0],\"label\":[\"(276.463224, 296.210234]\"],\"line_alpha\":[1.0],\"line_color\":[\"black\"],\"width\":[19.747009118806375],\"x\":[\"286.336729\"],\"y\":[60.0]}},\"id\":\"3e6a075e-8169-4703-9e82-22bf6e0382a4\",\"type\":\"ColumnDataSource\"},{\"attributes\":{\"data_source\":{\"id\":\"ee8dc73f-3eff-4c19-92bb-c44e46c0ec61\",\"type\":\"ColumnDataSource\"},\"glyph\":{\"id\":\"9bc0006d-d16f-490b-92b2-8849ac38b383\",\"type\":\"Rect\"},\"hover_glyph\":null,\"nonselection_glyph\":null,\"selection_glyph\":null},\"id\":\"d4fb139a-a93f-4887-b263-0e184c1218e3\",\"type\":\"GlyphRenderer\"},{\"attributes\":{},\"id\":\"2dda0ef5-6ea1-46f0-aec1-01be90dc029a\",\"type\":\"BasicTickFormatter\"},{\"attributes\":{\"data_source\":{\"id\":\"12a35edb-01f5-4218-912d-242894b3b978\",\"type\":\"ColumnDataSource\"},\"glyph\":{\"id\":\"67455355-62c8-4f61-b662-383926a7a3e4\",\"type\":\"Rect\"},\"hover_glyph\":null,\"nonselection_glyph\":null,\"selection_glyph\":null},\"id\":\"cf70bb9f-2a8d-4dea-b28c-5dc91e6afb38\",\"type\":\"GlyphRenderer\"},{\"attributes\":{\"callback\":null,\"column_names\":[\"y\",\"fill_alpha\",\"label\",\"line_alpha\",\"x\",\"line_color\",\"color\",\"height\",\"width\"],\"data\":{\"chart_index\":[\"(52.180065, 53.730605]\"],\"color\":[\"#f22c40\"],\"fill_alpha\":[0.8],\"height\":[258.0],\"label\":[\"(52.180065, 53.730605]\"],\"line_alpha\":[1.0],\"line_color\":[\"black\"],\"width\":[1.5505400157089895],\"x\":[\"52.955335\"],\"y\":[129.0]}},\"id\":\"cc365957-540e-44d6-87cb-ad5395997d98\",\"type\":\"ColumnDataSource\"},{\"attributes\":{\"data_source\":{\"id\":\"3e6a075e-8169-4703-9e82-22bf6e0382a4\",\"type\":\"ColumnDataSource\"},\"glyph\":{\"id\":\"46529d49-9529-4805-ab61-c7a37e75ad0d\",\"type\":\"Rect\"},\"hover_glyph\":null,\"nonselection_glyph\":null,\"selection_glyph\":null},\"id\":\"770e3072-ceeb-4134-af51-e79885d57d58\",\"type\":\"GlyphRenderer\"},{\"attributes\":{\"callback\":null,\"column_names\":[\"y\",\"fill_alpha\",\"label\",\"line_alpha\",\"x\",\"line_color\",\"color\",\"height\",\"width\"],\"data\":{\"chart_index\":[\"(101.587448, 103.543536]\"],\"color\":[\"#f22c40\"],\"fill_alpha\":[0.8],\"height\":[177.0],\"label\":[\"(101.587448, 103.543536]\"],\"line_alpha\":[1.0],\"line_color\":[\"black\"],\"width\":[1.9560889049004118],\"x\":[\"102.565492\"],\"y\":[88.5]}},\"id\":\"ac31fa51-bddc-40dd-bc78-18dbb3e0260b\",\"type\":\"ColumnDataSource\"},{\"attributes\":{\"fill_alpha\":{\"field\":\"fill_alpha\"},\"fill_color\":{\"field\":\"color\"},\"height\":{\"field\":\"height\",\"units\":\"data\"},\"line_color\":{\"field\":\"line_color\"},\"width\":{\"field\":\"width\",\"units\":\"data\"},\"x\":{\"field\":\"x\"},\"y\":{\"field\":\"y\"}},\"id\":\"5aa660c0-1e22-4f32-b35a-7b2d44dcb532\",\"type\":\"Rect\"},{\"attributes\":{\"data_source\":{\"id\":\"74b1ef0a-b454-4353-9133-08b2282baba3\",\"type\":\"ColumnDataSource\"},\"glyph\":{\"id\":\"adb4fd04-92f9-4279-94cf-168421208f1f\",\"type\":\"Rect\"},\"hover_glyph\":null,\"nonselection_glyph\":null,\"selection_glyph\":null},\"id\":\"26a0eb84-4244-4b88-95c0-5a08f943124a\",\"type\":\"GlyphRenderer\"},{\"attributes\":{\"plot\":{\"id\":\"ebf80998-1d9b-4911-98bb-96a6b2bac537\",\"subtype\":\"Chart\",\"type\":\"Plot\"}},\"id\":\"29675712-0cbf-4b38-a473-68b1191c4e8f\",\"type\":\"WheelZoomTool\"},{\"attributes\":{\"data_source\":{\"id\":\"b9306dc5-1ed0-4008-993e-5d727f2c5f25\",\"type\":\"ColumnDataSource\"},\"glyph\":{\"id\":\"606ac3a4-0e54-40f3-83a9-b2adc5df30ee\",\"type\":\"Rect\"},\"hover_glyph\":null,\"nonselection_glyph\":null,\"selection_glyph\":null},\"id\":\"6a048321-bf28-4ea6-b7ff-43225f3e616b\",\"type\":\"GlyphRenderer\"},{\"attributes\":{\"fill_alpha\":{\"field\":\"fill_alpha\"},\"fill_color\":{\"field\":\"color\"},\"height\":{\"field\":\"height\",\"units\":\"data\"},\"line_color\":{\"field\":\"line_color\"},\"width\":{\"field\":\"width\",\"units\":\"data\"},\"x\":{\"field\":\"x\"},\"y\":{\"field\":\"y\"}},\"id\":\"d8603532-ae9e-4515-ab5d-1d655105c0e5\",\"type\":\"Rect\"},{\"attributes\":{},\"id\":\"aa898bd2-a45b-497a-ac53-3a1751bed003\",\"type\":\"BasicTickFormatter\"},{\"attributes\":{\"callback\":null,\"column_names\":[\"y\",\"fill_alpha\",\"label\",\"line_alpha\",\"x\",\"line_color\",\"color\",\"height\",\"width\"],\"data\":{\"chart_index\":[\"(42.904780, 44.860869]\"],\"color\":[\"#f22c40\"],\"fill_alpha\":[0.8],\"height\":[218.0],\"label\":[\"(42.904780, 44.860869]\"],\"line_alpha\":[1.0],\"line_color\":[\"black\"],\"width\":[1.9560889049004118],\"x\":[\"43.8828245\"],\"y\":[109.0]}},\"id\":\"f302a27f-1522-48be-bb3d-0e2375b6cf62\",\"type\":\"ColumnDataSource\"},{\"attributes\":{\"fill_alpha\":{\"field\":\"fill_alpha\"},\"fill_color\":{\"field\":\"color\"},\"height\":{\"field\":\"height\",\"units\":\"data\"},\"line_color\":{\"field\":\"line_color\"},\"width\":{\"field\":\"width\",\"units\":\"data\"},\"x\":{\"field\":\"x\"},\"y\":{\"field\":\"y\"}},\"id\":\"669d5458-6414-4ea1-a052-7f597e6af951\",\"type\":\"Rect\"},{\"attributes\":{\"callback\":null,\"column_names\":[\"y\",\"fill_alpha\",\"label\",\"line_alpha\",\"x\",\"line_color\",\"color\",\"height\",\"width\"],\"data\":{\"chart_index\":[\"(101.996156, 103.995948]\"],\"color\":[\"#f22c40\"],\"fill_alpha\":[0.8],\"height\":[181.0],\"label\":[\"(101.996156, 103.995948]\"],\"line_alpha\":[1.0],\"line_color\":[\"black\"],\"width\":[1.9997923043628987],\"x\":[\"102.99605199999999\"],\"y\":[90.5]}},\"id\":\"9431f7e2-12d5-4c6d-895d-d997d0b5feb7\",\"type\":\"ColumnDataSource\"},{\"attributes\":{\"data_source\":{\"id\":\"3980a6d2-d705-4f4b-8474-f81c92107ec2\",\"type\":\"ColumnDataSource\"},\"glyph\":{\"id\":\"6929c529-ddce-4ad6-b377-79f2107f9806\",\"type\":\"Rect\"},\"hover_glyph\":null,\"nonselection_glyph\":null,\"selection_glyph\":null},\"id\":\"24e6540b-a6ea-401c-90b9-19404b2246e9\",\"type\":\"GlyphRenderer\"},{\"attributes\":{\"callback\":null,\"column_names\":[\"y\",\"fill_alpha\",\"label\",\"line_alpha\",\"x\",\"line_color\",\"color\",\"height\",\"width\"],\"data\":{\"chart_index\":[\"(493.680325, 513.427334]\"],\"color\":[\"#f22c40\"],\"fill_alpha\":[0.8],\"height\":[17.0],\"label\":[\"(493.680325, 513.427334]\"],\"line_alpha\":[1.0],\"line_color\":[\"black\"],\"width\":[19.747009118806375],\"x\":[\"503.5538295\"],\"y\":[8.5]}},\"id\":\"87b95995-40b5-4ba5-be72-de1cbe8fb4f5\",\"type\":\"ColumnDataSource\"},{\"attributes\":{\"data_source\":{\"id\":\"b72e0717-adb5-4297-a246-22482019b9ba\",\"type\":\"ColumnDataSource\"},\"glyph\":{\"id\":\"e86d0f9b-68dc-46ea-a415-a2edbca52968\",\"type\":\"Rect\"},\"hover_glyph\":null,\"nonselection_glyph\":null,\"selection_glyph\":null},\"id\":\"188c47ab-6b11-41ed-b04b-0fea6ae42102\",\"type\":\"GlyphRenderer\"},{\"attributes\":{\"data_source\":{\"id\":\"811de089-32c0-4980-ae4e-7ff6b44ed462\",\"type\":\"ColumnDataSource\"},\"glyph\":{\"id\":\"bb3f2d41-ab68-4de1-abc4-6a04915d8926\",\"type\":\"Rect\"},\"hover_glyph\":null,\"nonselection_glyph\":null,\"selection_glyph\":null},\"id\":\"09ab21db-1649-4e44-9856-0294828142c1\",\"type\":\"GlyphRenderer\"},{\"attributes\":{\"fill_alpha\":{\"field\":\"fill_alpha\"},\"fill_color\":{\"field\":\"color\"},\"height\":{\"field\":\"height\",\"units\":\"data\"},\"line_color\":{\"field\":\"line_color\"},\"width\":{\"field\":\"width\",\"units\":\"data\"},\"x\":{\"field\":\"x\"},\"y\":{\"field\":\"y\"}},\"id\":\"1cf15393-af13-46ce-b320-f6c9d55142dd\",\"type\":\"Rect\"},{\"attributes\":{\"fill_alpha\":{\"field\":\"fill_alpha\"},\"fill_color\":{\"field\":\"color\"},\"height\":{\"field\":\"height\",\"units\":\"data\"},\"line_color\":{\"field\":\"line_color\"},\"width\":{\"field\":\"width\",\"units\":\"data\"},\"x\":{\"field\":\"x\"},\"y\":{\"field\":\"y\"}},\"id\":\"537949fc-99f6-437b-968a-88736808cde9\",\"type\":\"Rect\"},{\"attributes\":{\"data_source\":{\"id\":\"5dc2dcae-1498-4fb8-84c8-0849e4aeac39\",\"type\":\"ColumnDataSource\"},\"glyph\":{\"id\":\"537949fc-99f6-437b-968a-88736808cde9\",\"type\":\"Rect\"},\"hover_glyph\":null,\"nonselection_glyph\":null,\"selection_glyph\":null},\"id\":\"093ddee6-fdda-4d24-b1e5-4749041f1328\",\"type\":\"GlyphRenderer\"},{\"attributes\":{\"fill_alpha\":{\"field\":\"fill_alpha\"},\"fill_color\":{\"field\":\"color\"},\"height\":{\"field\":\"height\",\"units\":\"data\"},\"line_color\":{\"field\":\"line_color\"},\"width\":{\"field\":\"width\",\"units\":\"data\"},\"x\":{\"field\":\"x\"},\"y\":{\"field\":\"y\"}},\"id\":\"c4bb52a9-fc3f-4233-8bec-745734a2f767\",\"type\":\"Rect\"},{\"attributes\":{\"data_source\":{\"id\":\"154ae6b5-fe36-40f8-bacd-a9308e094792\",\"type\":\"ColumnDataSource\"},\"glyph\":{\"id\":\"24bf55fd-ebe8-4ae4-92df-29d63241dd83\",\"type\":\"Rect\"},\"hover_glyph\":null,\"nonselection_glyph\":null,\"selection_glyph\":null},\"id\":\"9bc8c680-38d8-4c33-a0ef-9e3bcd6f6e7c\",\"type\":\"GlyphRenderer\"},{\"attributes\":{\"callback\":null,\"column_names\":[\"y\",\"fill_alpha\",\"label\",\"line_alpha\",\"x\",\"line_color\",\"color\",\"height\",\"width\"],\"data\":{\"chart_index\":[\"(19.618725, 21.169265]\"],\"color\":[\"#f22c40\"],\"fill_alpha\":[0.8],\"height\":[101.0],\"label\":[\"(19.618725, 21.169265]\"],\"line_alpha\":[1.0],\"line_color\":[\"black\"],\"width\":[1.5505400157089895],\"x\":[\"20.393995\"],\"y\":[50.5]}},\"id\":\"154ae6b5-fe36-40f8-bacd-a9308e094792\",\"type\":\"ColumnDataSource\"},{\"attributes\":{\"fill_alpha\":{\"field\":\"fill_alpha\"},\"fill_color\":{\"field\":\"color\"},\"height\":{\"field\":\"height\",\"units\":\"data\"},\"line_color\":{\"field\":\"line_color\"},\"width\":{\"field\":\"width\",\"units\":\"data\"},\"x\":{\"field\":\"x\"},\"y\":{\"field\":\"y\"}},\"id\":\"9b3bcb29-6a65-4392-b785-d3676111a6a7\",\"type\":\"Rect\"},{\"attributes\":{\"callback\":null,\"column_names\":[\"y\",\"fill_alpha\",\"label\",\"line_alpha\",\"x\",\"line_color\",\"color\",\"height\",\"width\"],\"data\":{\"chart_index\":[\"(75.438165, 76.988705]\"],\"color\":[\"#f22c40\"],\"fill_alpha\":[0.8],\"height\":[2.0],\"label\":[\"(75.438165, 76.988705]\"],\"line_alpha\":[1.0],\"line_color\":[\"black\"],\"width\":[1.5505400157089895],\"x\":[\"76.213435\"],\"y\":[1.0]}},\"id\":\"4c8fc038-d756-4c61-b345-4f5d5ad869c6\",\"type\":\"ColumnDataSource\"},{\"attributes\":{\"data_source\":{\"id\":\"b49bc488-87fc-4c5f-a9ab-a0b60881424e\",\"type\":\"ColumnDataSource\"},\"glyph\":{\"id\":\"c777b014-e11d-46e8-b69a-e427550eec4c\",\"type\":\"Rect\"},\"hover_glyph\":null,\"nonselection_glyph\":null,\"selection_glyph\":null},\"id\":\"60059bfb-00ed-4ac9-b240-3c17b7f9abee\",\"type\":\"GlyphRenderer\"},{\"attributes\":{},\"id\":\"062a23b8-7102-4421-b631-0c587a577094\",\"type\":\"BasicTickFormatter\"},{\"attributes\":{\"data_source\":{\"id\":\"61b267f2-e65b-4630-bbbc-59fc5c1afad3\",\"type\":\"ColumnDataSource\"},\"glyph\":{\"id\":\"0ad4e028-926a-423e-b282-37d55b2a42e6\",\"type\":\"Rect\"},\"hover_glyph\":null,\"nonselection_glyph\":null,\"selection_glyph\":null},\"id\":\"e4bfc5fd-42fc-434e-b059-8b0b0bbe133e\",\"type\":\"GlyphRenderer\"},{\"attributes\":{\"callback\":null,\"column_names\":[\"y\",\"fill_alpha\",\"label\",\"line_alpha\",\"x\",\"line_color\",\"color\",\"height\",\"width\"],\"data\":{\"chart_index\":[\"(46.816958, 48.773047]\"],\"color\":[\"#f22c40\"],\"fill_alpha\":[0.8],\"height\":[240.0],\"label\":[\"(46.816958, 48.773047]\"],\"line_alpha\":[1.0],\"line_color\":[\"black\"],\"width\":[1.9560889049004047],\"x\":[\"47.795002499999995\"],\"y\":[120.0]}},\"id\":\"b291edd9-eb1c-4448-86a7-80f0aad13f8c\",\"type\":\"ColumnDataSource\"},{\"attributes\":{\"data_source\":{\"id\":\"ad7e2e49-1bd2-427d-928c-b6d2cccb905d\",\"type\":\"ColumnDataSource\"},\"glyph\":{\"id\":\"fe56a257-d336-4d5a-8d60-354ea6a035e2\",\"type\":\"Rect\"},\"hover_glyph\":null,\"nonselection_glyph\":null,\"selection_glyph\":null},\"id\":\"8caf2190-f542-4ac8-94db-22c90886d621\",\"type\":\"GlyphRenderer\"},{\"attributes\":{\"data_source\":{\"id\":\"84455913-171c-45d6-b3b6-d364f94117dd\",\"type\":\"ColumnDataSource\"},\"glyph\":{\"id\":\"5e6c62bb-8dc0-4928-8b1a-4988654adbd6\",\"type\":\"Rect\"},\"hover_glyph\":null,\"nonselection_glyph\":null,\"selection_glyph\":null},\"id\":\"6310178d-853d-447f-a4bd-f718305e1370\",\"type\":\"GlyphRenderer\"},{\"attributes\":{\"callback\":null,\"column_names\":[\"y\",\"fill_alpha\",\"label\",\"line_alpha\",\"x\",\"line_color\",\"color\",\"height\",\"width\"],\"data\":{\"chart_index\":[\"(809.632471, 829.379480]\"],\"color\":[\"#f22c40\"],\"fill_alpha\":[0.8],\"height\":[2.0],\"label\":[\"(809.632471, 829.379480]\"],\"line_alpha\":[1.0],\"line_color\":[\"black\"],\"width\":[19.74700911880643],\"x\":[\"819.5059755\"],\"y\":[1.0]}},\"id\":\"b97a2447-d88a-438a-8d07-1fe238e4f86f\",\"type\":\"ColumnDataSource\"},{\"attributes\":{},\"id\":\"7688c5d6-f8ab-4258-b73a-ddf3537f666a\",\"type\":\"BasicTicker\"},{\"attributes\":{\"fill_alpha\":{\"field\":\"fill_alpha\"},\"fill_color\":{\"field\":\"color\"},\"height\":{\"field\":\"height\",\"units\":\"data\"},\"line_color\":{\"field\":\"line_color\"},\"width\":{\"field\":\"width\",\"units\":\"data\"},\"x\":{\"field\":\"x\"},\"y\":{\"field\":\"y\"}},\"id\":\"4f9e8aa5-dd5c-4696-b82a-3f4725f9c563\",\"type\":\"Rect\"},{\"attributes\":{\"data_source\":{\"id\":\"a58edac8-03a3-47e5-af39-e95615c6658b\",\"type\":\"ColumnDataSource\"},\"glyph\":{\"id\":\"88c3ba2f-c4b4-49ca-b267-cca20fbdb0f4\",\"type\":\"Rect\"},\"hover_glyph\":null,\"nonselection_glyph\":null,\"selection_glyph\":null},\"id\":\"9a42212c-b428-4f0c-b8cc-7bc3a39d8588\",\"type\":\"GlyphRenderer\"},{\"attributes\":{\"fill_alpha\":{\"field\":\"fill_alpha\"},\"fill_color\":{\"field\":\"color\"},\"height\":{\"field\":\"height\",\"units\":\"data\"},\"line_color\":{\"field\":\"line_color\"},\"width\":{\"field\":\"width\",\"units\":\"data\"},\"x\":{\"field\":\"x\"},\"y\":{\"field\":\"y\"}},\"id\":\"1f09d313-4164-4696-bc9b-1d577ba7a945\",\"type\":\"Rect\"},{\"attributes\":{\"fill_alpha\":{\"field\":\"fill_alpha\"},\"fill_color\":{\"field\":\"color\"},\"height\":{\"field\":\"height\",\"units\":\"data\"},\"line_color\":{\"field\":\"line_color\"},\"width\":{\"field\":\"width\",\"units\":\"data\"},\"x\":{\"field\":\"x\"},\"y\":{\"field\":\"y\"}},\"id\":\"7b1de67c-f6db-45dd-89f0-cc5afa728450\",\"type\":\"Rect\"},{\"attributes\":{\"fill_alpha\":{\"field\":\"fill_alpha\"},\"fill_color\":{\"field\":\"color\"},\"height\":{\"field\":\"height\",\"units\":\"data\"},\"line_color\":{\"field\":\"line_color\"},\"width\":{\"field\":\"width\",\"units\":\"data\"},\"x\":{\"field\":\"x\"},\"y\":{\"field\":\"y\"}},\"id\":\"ea10decd-efcf-4adf-b5e1-17fbe06984f7\",\"type\":\"Rect\"},{\"attributes\":{\"callback\":null,\"column_names\":[\"y\",\"fill_alpha\",\"label\",\"line_alpha\",\"x\",\"line_color\",\"color\",\"height\",\"width\"],\"data\":{\"chart_index\":[\"(7.214404, 8.764944]\"],\"color\":[\"#f22c40\"],\"fill_alpha\":[0.8],\"height\":[3.0],\"label\":[\"(7.214404, 8.764944]\"],\"line_alpha\":[1.0],\"line_color\":[\"black\"],\"width\":[1.5505400157089868],\"x\":[\"7.989674\"],\"y\":[1.5]}},\"id\":\"57105d1d-9616-4b16-a075-0187cdaae2c7\",\"type\":\"ColumnDataSource\"},{\"attributes\":{\"fill_alpha\":{\"field\":\"fill_alpha\"},\"fill_color\":{\"field\":\"color\"},\"height\":{\"field\":\"height\",\"units\":\"data\"},\"line_color\":{\"field\":\"line_color\"},\"width\":{\"field\":\"width\",\"units\":\"data\"},\"x\":{\"field\":\"x\"},\"y\":{\"field\":\"y\"}},\"id\":\"2d187369-dab4-431a-a363-386db7c96f16\",\"type\":\"Rect\"},{\"attributes\":{\"fill_alpha\":{\"field\":\"fill_alpha\"},\"fill_color\":{\"field\":\"color\"},\"height\":{\"field\":\"height\",\"units\":\"data\"},\"line_color\":{\"field\":\"line_color\"},\"width\":{\"field\":\"width\",\"units\":\"data\"},\"x\":{\"field\":\"x\"},\"y\":{\"field\":\"y\"}},\"id\":\"0981d29a-5358-43ec-930f-6906713c7163\",\"type\":\"Rect\"},{\"attributes\":{\"fill_alpha\":{\"field\":\"fill_alpha\"},\"fill_color\":{\"field\":\"color\"},\"height\":{\"field\":\"height\",\"units\":\"data\"},\"line_color\":{\"field\":\"line_color\"},\"width\":{\"field\":\"width\",\"units\":\"data\"},\"x\":{\"field\":\"x\"},\"y\":{\"field\":\"y\"}},\"id\":\"2fa49bcf-6b6a-4916-8995-e8e6bbc127a1\",\"type\":\"Rect\"},{\"attributes\":{\"plot\":{\"id\":\"e248c624-063b-473b-9b7d-e65e46602b02\",\"subtype\":\"Chart\",\"type\":\"Plot\"}},\"id\":\"c973e485-8fb3-44ec-9e01-512df3a8a18c\",\"type\":\"HelpTool\"},{\"attributes\":{\"data_source\":{\"id\":\"e29db95b-7cd5-4005-a50a-106a78631742\",\"type\":\"ColumnDataSource\"},\"glyph\":{\"id\":\"1f09d313-4164-4696-bc9b-1d577ba7a945\",\"type\":\"Rect\"},\"hover_glyph\":null,\"nonselection_glyph\":null,\"selection_glyph\":null},\"id\":\"4c12bd97-1749-425d-93dd-17d8d7fde086\",\"type\":\"GlyphRenderer\"},{\"attributes\":{\"data_source\":{\"id\":\"5f36d08f-4c42-4bd4-8a35-2ddc34f56347\",\"type\":\"ColumnDataSource\"},\"glyph\":{\"id\":\"f8039eb0-39ab-49d5-90fc-193aac2d638f\",\"type\":\"Rect\"},\"hover_glyph\":null,\"nonselection_glyph\":null,\"selection_glyph\":null},\"id\":\"22b4045b-eae4-49d3-8095-0fa77dd93323\",\"type\":\"GlyphRenderer\"},{\"attributes\":{\"callback\":null,\"column_names\":[\"y\",\"fill_alpha\",\"label\",\"line_alpha\",\"x\",\"line_color\",\"color\",\"height\",\"width\"],\"data\":{\"chart_index\":[\"(82.026559, 83.982647]\"],\"color\":[\"#f22c40\"],\"fill_alpha\":[0.8],\"height\":[296.0],\"label\":[\"(82.026559, 83.982647]\"],\"line_alpha\":[1.0],\"line_color\":[\"black\"],\"width\":[1.9560889049004118],\"x\":[\"83.004603\"],\"y\":[148.0]}},\"id\":\"54fe45f3-e5b1-4762-8cd7-d989bf2fd8d2\",\"type\":\"ColumnDataSource\"},{\"attributes\":{\"fill_alpha\":{\"field\":\"fill_alpha\"},\"fill_color\":{\"field\":\"color\"},\"height\":{\"field\":\"height\",\"units\":\"data\"},\"line_color\":{\"field\":\"line_color\"},\"width\":{\"field\":\"width\",\"units\":\"data\"},\"x\":{\"field\":\"x\"},\"y\":{\"field\":\"y\"}},\"id\":\"8b876df3-60af-4c3a-94b0-aad07879e15d\",\"type\":\"Rect\"},{\"attributes\":{\"callback\":null,\"column_names\":[\"y\",\"fill_alpha\",\"label\",\"line_alpha\",\"x\",\"line_color\",\"color\",\"height\",\"width\"],\"data\":{\"chart_index\":[\"(115.994702, 117.994494]\"],\"color\":[\"#f22c40\"],\"fill_alpha\":[0.8],\"height\":[190.0],\"label\":[\"(115.994702, 117.994494]\"],\"line_alpha\":[1.0],\"line_color\":[\"black\"],\"width\":[1.9997923043628987],\"x\":[\"116.994598\"],\"y\":[95.0]}},\"id\":\"fc2251da-72c2-4f6e-959c-36bfa5019aa9\",\"type\":\"ColumnDataSource\"},{\"attributes\":{\"fill_alpha\":{\"field\":\"fill_alpha\"},\"fill_color\":{\"field\":\"color\"},\"height\":{\"field\":\"height\",\"units\":\"data\"},\"line_color\":{\"field\":\"line_color\"},\"width\":{\"field\":\"width\",\"units\":\"data\"},\"x\":{\"field\":\"x\"},\"y\":{\"field\":\"y\"}},\"id\":\"24bf55fd-ebe8-4ae4-92df-29d63241dd83\",\"type\":\"Rect\"},{\"attributes\":{\"callback\":null,\"column_names\":[\"y\",\"fill_alpha\",\"label\",\"line_alpha\",\"x\",\"line_color\",\"color\",\"height\",\"width\"],\"data\":{\"chart_index\":[\"(35.124125, 36.674665]\"],\"color\":[\"#f22c40\"],\"fill_alpha\":[0.8],\"height\":[538.0],\"label\":[\"(35.124125, 36.674665]\"],\"line_alpha\":[1.0],\"line_color\":[\"black\"],\"width\":[1.5505400157089895],\"x\":[\"35.899395\"],\"y\":[269.0]}},\"id\":\"fc0cb526-e5a5-4d65-bcdd-0304c3c8d6f5\",\"type\":\"ColumnDataSource\"},{\"attributes\":{\"data_source\":{\"id\":\"52c7127c-defa-4cc8-b03d-b65448c62c53\",\"type\":\"ColumnDataSource\"},\"glyph\":{\"id\":\"3e55f9a3-ab59-417c-95c4-92f1994d8414\",\"type\":\"Rect\"},\"hover_glyph\":null,\"nonselection_glyph\":null,\"selection_glyph\":null},\"id\":\"970cb5fc-5f7b-48f7-bb2f-43b73f5247b5\",\"type\":\"GlyphRenderer\"},{\"attributes\":{\"data_source\":{\"id\":\"63b4d267-d53c-4350-b109-56db4fe7e54a\",\"type\":\"ColumnDataSource\"},\"glyph\":{\"id\":\"d75a17df-bcd2-4e6f-887a-c02edabfedc1\",\"type\":\"Rect\"},\"hover_glyph\":null,\"nonselection_glyph\":null,\"selection_glyph\":null},\"id\":\"21ad09d6-deaa-418e-8e1a-bf5be3e218cc\",\"type\":\"GlyphRenderer\"},{\"attributes\":{\"data_source\":{\"id\":\"e870aac3-6742-4f3d-a557-a8b88c7faf13\",\"type\":\"ColumnDataSource\"},\"glyph\":{\"id\":\"085bd7f1-1c82-428f-bca1-6dc69a5c9032\",\"type\":\"Rect\"},\"hover_glyph\":null,\"nonselection_glyph\":null,\"selection_glyph\":null},\"id\":\"9c93d265-7e06-42c7-91e0-5346349fb87c\",\"type\":\"GlyphRenderer\"},{\"attributes\":{\"data_source\":{\"id\":\"98cd2683-1668-41f8-b034-9a921f4e59b1\",\"type\":\"ColumnDataSource\"},\"glyph\":{\"id\":\"a17a69da-e2c6-4b4c-981b-4fc2a244e66a\",\"type\":\"Rect\"},\"hover_glyph\":null,\"nonselection_glyph\":null,\"selection_glyph\":null},\"id\":\"7792cf21-5b79-413c-b363-dc4d00779c67\",\"type\":\"GlyphRenderer\"},{\"attributes\":{\"callback\":null,\"column_names\":[\"y\",\"fill_alpha\",\"label\",\"line_alpha\",\"x\",\"line_color\",\"color\",\"height\",\"width\"],\"data\":{\"chart_index\":[\"(83.982647, 85.938736]\"],\"color\":[\"#f22c40\"],\"fill_alpha\":[0.8],\"height\":[264.0],\"label\":[\"(83.982647, 85.938736]\"],\"line_alpha\":[1.0],\"line_color\":[\"black\"],\"width\":[1.9560889049004118],\"x\":[\"84.9606915\"],\"y\":[132.0]}},\"id\":\"353a0c5b-e051-4a09-b8fc-ac12e695b3db\",\"type\":\"ColumnDataSource\"},{\"attributes\":{\"fill_alpha\":{\"field\":\"fill_alpha\"},\"fill_color\":{\"field\":\"color\"},\"height\":{\"field\":\"height\",\"units\":\"data\"},\"line_color\":{\"field\":\"line_color\"},\"width\":{\"field\":\"width\",\"units\":\"data\"},\"x\":{\"field\":\"x\"},\"y\":{\"field\":\"y\"}},\"id\":\"90b407d7-0927-49ea-ae14-183fc2b28ec9\",\"type\":\"Rect\"},{\"attributes\":{\"callback\":null,\"column_names\":[\"y\",\"fill_alpha\",\"label\",\"line_alpha\",\"x\",\"line_color\",\"color\",\"height\",\"width\"],\"data\":{\"chart_index\":[\"(55.281145, 56.831685]\"],\"color\":[\"#f22c40\"],\"fill_alpha\":[0.8],\"height\":[162.0],\"label\":[\"(55.281145, 56.831685]\"],\"line_alpha\":[1.0],\"line_color\":[\"black\"],\"width\":[1.5505400157089895],\"x\":[\"56.056415\"],\"y\":[81.0]}},\"id\":\"7246d587-0367-4c02-a339-697b5b4ea7be\",\"type\":\"ColumnDataSource\"},{\"attributes\":{\"data_source\":{\"id\":\"0b729064-621c-43fd-8585-66178593d02a\",\"type\":\"ColumnDataSource\"},\"glyph\":{\"id\":\"67ec458c-0d73-4da5-bb54-bf0ee9ce4d40\",\"type\":\"Rect\"},\"hover_glyph\":null,\"nonselection_glyph\":null,\"selection_glyph\":null},\"id\":\"acb55f49-90c6-412c-b145-47692e764449\",\"type\":\"GlyphRenderer\"},{\"attributes\":{\"fill_alpha\":{\"field\":\"fill_alpha\"},\"fill_color\":{\"field\":\"color\"},\"height\":{\"field\":\"height\",\"units\":\"data\"},\"line_color\":{\"field\":\"line_color\"},\"width\":{\"field\":\"width\",\"units\":\"data\"},\"x\":{\"field\":\"x\"},\"y\":{\"field\":\"y\"}},\"id\":\"f8c5b476-4475-4142-bca6-d91e5bda38cf\",\"type\":\"Rect\"},{\"attributes\":{\"data_source\":{\"id\":\"e3b9fa86-a1fb-483f-a64b-d5218fa7ea50\",\"type\":\"ColumnDataSource\"},\"glyph\":{\"id\":\"6f2c6a84-3224-4dfe-ab72-d0efef44fdf4\",\"type\":\"Rect\"},\"hover_glyph\":null,\"nonselection_glyph\":null,\"selection_glyph\":null},\"id\":\"5104553a-fbe3-404e-887f-9b8c02024385\",\"type\":\"GlyphRenderer\"},{\"attributes\":{\"callback\":null,\"column_names\":[\"y\",\"fill_alpha\",\"label\",\"line_alpha\",\"x\",\"line_color\",\"color\",\"height\",\"width\"],\"data\":{\"chart_index\":[\"(78.993133, 98.740142]\"],\"color\":[\"#f22c40\"],\"fill_alpha\":[0.8],\"height\":[778.0],\"label\":[\"(78.993133, 98.740142]\"],\"line_alpha\":[1.0],\"line_color\":[\"black\"],\"width\":[19.747009118806403],\"x\":[\"88.8666375\"],\"y\":[389.0]}},\"id\":\"30b9042b-b0da-4df4-af54-03f00c3ee8f1\",\"type\":\"ColumnDataSource\"},{\"attributes\":{\"fill_alpha\":{\"field\":\"fill_alpha\"},\"fill_color\":{\"field\":\"color\"},\"height\":{\"field\":\"height\",\"units\":\"data\"},\"line_color\":{\"field\":\"line_color\"},\"width\":{\"field\":\"width\",\"units\":\"data\"},\"x\":{\"field\":\"x\"},\"y\":{\"field\":\"y\"}},\"id\":\"67ec458c-0d73-4da5-bb54-bf0ee9ce4d40\",\"type\":\"Rect\"},{\"attributes\":{\"callback\":null,\"column_names\":[\"y\",\"fill_alpha\",\"label\",\"line_alpha\",\"x\",\"line_color\",\"color\",\"height\",\"width\"],\"data\":{\"chart_index\":[\"(908.367516, 928.114525]\"],\"color\":[\"#f22c40\"],\"fill_alpha\":[0.8],\"height\":[0.0],\"label\":[\"(908.367516, 928.114525]\"],\"line_alpha\":[1.0],\"line_color\":[\"black\"],\"width\":[19.74700911880643],\"x\":[\"918.2410205\"],\"y\":[0.0]}},\"id\":\"08374b74-c12a-4d82-8d0c-42c0ba49fb17\",\"type\":\"ColumnDataSource\"},{\"attributes\":{\"fill_alpha\":{\"field\":\"fill_alpha\"},\"fill_color\":{\"field\":\"color\"},\"height\":{\"field\":\"height\",\"units\":\"data\"},\"line_color\":{\"field\":\"line_color\"},\"width\":{\"field\":\"width\",\"units\":\"data\"},\"x\":{\"field\":\"x\"},\"y\":{\"field\":\"y\"}},\"id\":\"a17a69da-e2c6-4b4c-981b-4fc2a244e66a\",\"type\":\"Rect\"},{\"attributes\":{\"fill_alpha\":{\"field\":\"fill_alpha\"},\"fill_color\":{\"field\":\"color\"},\"height\":{\"field\":\"height\",\"units\":\"data\"},\"line_color\":{\"field\":\"line_color\"},\"width\":{\"field\":\"width\",\"units\":\"data\"},\"x\":{\"field\":\"x\"},\"y\":{\"field\":\"y\"}},\"id\":\"145da337-6cb9-43de-84d4-1e02203b4b81\",\"type\":\"Rect\"},{\"attributes\":{\"callback\":null,\"column_names\":[\"y\",\"fill_alpha\",\"label\",\"line_alpha\",\"x\",\"line_color\",\"color\",\"height\",\"width\"],\"data\":{\"chart_index\":[\"(113.994910, 115.994702]\"],\"color\":[\"#f22c40\"],\"fill_alpha\":[0.8],\"height\":[204.0],\"label\":[\"(113.994910, 115.994702]\"],\"line_alpha\":[1.0],\"line_color\":[\"black\"],\"width\":[1.9997923043628987],\"x\":[\"114.99480600000001\"],\"y\":[102.0]}},\"id\":\"e3b9fa86-a1fb-483f-a64b-d5218fa7ea50\",\"type\":\"ColumnDataSource\"},{\"attributes\":{\"fill_alpha\":{\"field\":\"fill_alpha\"},\"fill_color\":{\"field\":\"color\"},\"height\":{\"field\":\"height\",\"units\":\"data\"},\"line_color\":{\"field\":\"line_color\"},\"width\":{\"field\":\"width\",\"units\":\"data\"},\"x\":{\"field\":\"x\"},\"y\":{\"field\":\"y\"}},\"id\":\"bb3f2d41-ab68-4de1-abc4-6a04915d8926\",\"type\":\"Rect\"},{\"attributes\":{\"callback\":null,\"end\":122.7067492024502,\"start\":17.873300797549796},\"id\":\"eaec2e11-48f1-4a94-8dc8-af5314f58e95\",\"type\":\"Range1d\"},{\"attributes\":{\"fill_alpha\":{\"field\":\"fill_alpha\"},\"fill_color\":{\"field\":\"color\"},\"height\":{\"field\":\"height\",\"units\":\"data\"},\"line_color\":{\"field\":\"line_color\"},\"width\":{\"field\":\"width\",\"units\":\"data\"},\"x\":{\"field\":\"x\"},\"y\":{\"field\":\"y\"}},\"id\":\"fa7818b3-8702-4ede-9c96-8b23e3c26c15\",\"type\":\"Rect\"},{\"attributes\":{\"data_source\":{\"id\":\"b523c7c0-b9f7-4fb7-812f-6a36bcef17ff\",\"type\":\"ColumnDataSource\"},\"glyph\":{\"id\":\"cb786360-cc6b-4074-966c-07cc62f1fd32\",\"type\":\"Rect\"},\"hover_glyph\":null,\"nonselection_glyph\":null,\"selection_glyph\":null},\"id\":\"37596f95-0a47-434c-8985-d236f3311217\",\"type\":\"GlyphRenderer\"},{\"attributes\":{\"callback\":null,\"column_names\":[\"y\",\"fill_alpha\",\"label\",\"line_alpha\",\"x\",\"line_color\",\"color\",\"height\",\"width\"],\"data\":{\"chart_index\":[\"(103.543536, 105.499625]\"],\"color\":[\"#f22c40\"],\"fill_alpha\":[0.8],\"height\":[136.0],\"label\":[\"(103.543536, 105.499625]\"],\"line_alpha\":[1.0],\"line_color\":[\"black\"],\"width\":[1.9560889049004118],\"x\":[\"104.5215805\"],\"y\":[68.0]}},\"id\":\"2726d15b-d265-4c9b-95eb-226ad1ef2075\",\"type\":\"ColumnDataSource\"},{\"attributes\":{\"plot\":{\"id\":\"42cfec60-226a-4b10-b05a-c87660a395df\",\"subtype\":\"Chart\",\"type\":\"Plot\"}},\"id\":\"e9d55058-478e-4203-9f1e-348f673b0c7c\",\"type\":\"HelpTool\"},{\"attributes\":{\"data_source\":{\"id\":\"a583efcc-f114-46a8-9e18-e7f8ca6be1cd\",\"type\":\"ColumnDataSource\"},\"glyph\":{\"id\":\"92fcc1cb-c930-46e2-b140-e629f9b20e6b\",\"type\":\"Rect\"},\"hover_glyph\":null,\"nonselection_glyph\":null,\"selection_glyph\":null},\"id\":\"ea0b5b70-62da-47a9-a964-02a4d59f2547\",\"type\":\"GlyphRenderer\"},{\"attributes\":{\"callback\":null,\"column_names\":[\"y\",\"fill_alpha\",\"label\",\"line_alpha\",\"x\",\"line_color\",\"color\",\"height\",\"width\"],\"data\":{\"chart_index\":[\"(24.004256, 26.004048]\"],\"color\":[\"#f22c40\"],\"fill_alpha\":[0.8],\"height\":[185.0],\"label\":[\"(24.004256, 26.004048]\"],\"line_alpha\":[1.0],\"line_color\":[\"black\"],\"width\":[1.9997923043628987],\"x\":[\"25.004152\"],\"y\":[92.5]}},\"id\":\"2d5162ee-8be8-4726-9e2c-a6dc00c796bf\",\"type\":\"ColumnDataSource\"},{\"attributes\":{\"data_source\":{\"id\":\"7bcc8cd5-2c3a-48bb-8b5b-8d99881ecded\",\"type\":\"ColumnDataSource\"},\"glyph\":{\"id\":\"4678cee3-a159-4346-98a2-7b76fd58d596\",\"type\":\"Rect\"},\"hover_glyph\":null,\"nonselection_glyph\":null,\"selection_glyph\":null},\"id\":\"99a0eda2-bb86-4c60-84ab-3cf56914050f\",\"type\":\"GlyphRenderer\"},{\"attributes\":{\"plot\":{\"id\":\"ebf80998-1d9b-4911-98bb-96a6b2bac537\",\"subtype\":\"Chart\",\"type\":\"Plot\"}},\"id\":\"6ca9fbbb-3851-40a5-8cd6-7f66a156c78d\",\"type\":\"SaveTool\"},{\"attributes\":{\"callback\":null,\"column_names\":[\"y\",\"fill_alpha\",\"label\",\"line_alpha\",\"x\",\"line_color\",\"color\",\"height\",\"width\"],\"data\":{\"chart_index\":[\"(66.134925, 67.685465]\"],\"color\":[\"#f22c40\"],\"fill_alpha\":[0.8],\"height\":[15.0],\"label\":[\"(66.134925, 67.685465]\"],\"line_alpha\":[1.0],\"line_color\":[\"black\"],\"width\":[1.5505400157089895],\"x\":[\"66.91019499999999\"],\"y\":[7.5]}},\"id\":\"7d5fc69e-98b0-4077-aa20-7ba0007a33b4\",\"type\":\"ColumnDataSource\"},{\"attributes\":{\"callback\":null,\"column_names\":[\"y\",\"fill_alpha\",\"label\",\"line_alpha\",\"x\",\"line_color\",\"color\",\"height\",\"width\"],\"data\":{\"chart_index\":[\"(32.003425, 34.003218]\"],\"color\":[\"#f22c40\"],\"fill_alpha\":[0.8],\"height\":[197.0],\"label\":[\"(32.003425, 34.003218]\"],\"line_alpha\":[1.0],\"line_color\":[\"black\"],\"width\":[1.9997923043628987],\"x\":[\"33.0033215\"],\"y\":[98.5]}},\"id\":\"44aa21a1-84c2-421d-a47e-0069581af9de\",\"type\":\"ColumnDataSource\"},{\"attributes\":{\"callback\":null,\"column_names\":[\"y\",\"fill_alpha\",\"label\",\"line_alpha\",\"x\",\"line_color\",\"color\",\"height\",\"width\"],\"data\":{\"chart_index\":[\"(27.371425, 28.921965]\"],\"color\":[\"#f22c40\"],\"fill_alpha\":[0.8],\"height\":[294.0],\"label\":[\"(27.371425, 28.921965]\"],\"line_alpha\":[1.0],\"line_color\":[\"black\"],\"width\":[1.5505400157089895],\"x\":[\"28.146695\"],\"y\":[147.0]}},\"id\":\"25d11197-b962-4fd6-8a38-a4e0a665867e\",\"type\":\"ColumnDataSource\"},{\"attributes\":{\"callback\":null,\"end\":260.70000000000005},\"id\":\"737f5e13-01a9-46a1-8300-11f8d552b706\",\"type\":\"Range1d\"},{\"attributes\":{\"data_source\":{\"id\":\"dbd9bdc4-1acf-4996-a7df-0ae9fa9b6bd3\",\"type\":\"ColumnDataSource\"},\"glyph\":{\"id\":\"0eca5f23-ccc1-4d6b-9956-25d3c597b51d\",\"type\":\"Rect\"},\"hover_glyph\":null,\"nonselection_glyph\":null,\"selection_glyph\":null},\"id\":\"ef446f9f-c3f1-45b4-a670-f3fbaf7cc334\",\"type\":\"GlyphRenderer\"},{\"attributes\":{\"plot\":{\"id\":\"7a1cd8b3-4ad4-43a6-9e36-4c8297df94c3\",\"subtype\":\"Chart\",\"type\":\"Plot\"}},\"id\":\"3250a1cb-7fb0-49ed-abec-8be076e089c3\",\"type\":\"HelpTool\"},{\"attributes\":{\"fill_alpha\":{\"field\":\"fill_alpha\"},\"fill_color\":{\"field\":\"color\"},\"height\":{\"field\":\"height\",\"units\":\"data\"},\"line_color\":{\"field\":\"line_color\"},\"width\":{\"field\":\"width\",\"units\":\"data\"},\"x\":{\"field\":\"x\"},\"y\":{\"field\":\"y\"}},\"id\":\"df2e260c-3915-483b-9e01-f64949666c23\",\"type\":\"Rect\"},{\"attributes\":{\"callback\":null,\"column_names\":[\"y\",\"fill_alpha\",\"label\",\"line_alpha\",\"x\",\"line_color\",\"color\",\"height\",\"width\"],\"data\":{\"chart_index\":[\"(48.001764, 50.001556]\"],\"color\":[\"#f22c40\"],\"fill_alpha\":[0.8],\"height\":[174.0],\"label\":[\"(48.001764, 50.001556]\"],\"line_alpha\":[1.0],\"line_color\":[\"black\"],\"width\":[1.9997923043628987],\"x\":[\"49.00166\"],\"y\":[87.0]}},\"id\":\"f90133e9-ea49-484e-9977-41ef7d2fef25\",\"type\":\"ColumnDataSource\"},{\"attributes\":{\"fill_alpha\":{\"field\":\"fill_alpha\"},\"fill_color\":{\"field\":\"color\"},\"height\":{\"field\":\"height\",\"units\":\"data\"},\"line_color\":{\"field\":\"line_color\"},\"width\":{\"field\":\"width\",\"units\":\"data\"},\"x\":{\"field\":\"x\"},\"y\":{\"field\":\"y\"}},\"id\":\"f265ad61-17e7-4a3a-b9b2-92efeaa1302d\",\"type\":\"Rect\"},{\"attributes\":{},\"id\":\"c1510329-8a52-4a0f-82ad-9e081a53d243\",\"type\":\"ToolEvents\"},{\"attributes\":{\"callback\":null,\"column_names\":[\"y\",\"fill_alpha\",\"label\",\"line_alpha\",\"x\",\"line_color\",\"color\",\"height\",\"width\"],\"data\":{\"chart_index\":[\"(592.415370, 612.162379]\"],\"color\":[\"#f22c40\"],\"fill_alpha\":[0.8],\"height\":[9.0],\"label\":[\"(592.415370, 612.162379]\"],\"line_alpha\":[1.0],\"line_color\":[\"black\"],\"width\":[19.74700911880643],\"x\":[\"602.2888745\"],\"y\":[4.5]}},\"id\":\"f34c3a8b-5b1d-4510-a81a-cf5ed44997fb\",\"type\":\"ColumnDataSource\"},{\"attributes\":{\"fill_alpha\":{\"field\":\"fill_alpha\"},\"fill_color\":{\"field\":\"color\"},\"height\":{\"field\":\"height\",\"units\":\"data\"},\"line_color\":{\"field\":\"line_color\"},\"width\":{\"field\":\"width\",\"units\":\"data\"},\"x\":{\"field\":\"x\"},\"y\":{\"field\":\"y\"}},\"id\":\"e43b5d17-ce51-4f44-8a5f-e67b269f3342\",\"type\":\"Rect\"},{\"attributes\":{\"fill_alpha\":{\"field\":\"fill_alpha\"},\"fill_color\":{\"field\":\"color\"},\"height\":{\"field\":\"height\",\"units\":\"data\"},\"line_color\":{\"field\":\"line_color\"},\"width\":{\"field\":\"width\",\"units\":\"data\"},\"x\":{\"field\":\"x\"},\"y\":{\"field\":\"y\"}},\"id\":\"e86d0f9b-68dc-46ea-a415-a2edbca52968\",\"type\":\"Rect\"},{\"attributes\":{\"plot\":{\"id\":\"e248c624-063b-473b-9b7d-e65e46602b02\",\"subtype\":\"Chart\",\"type\":\"Plot\"}},\"id\":\"16135be8-910c-49fa-9004-4ace567daeb4\",\"type\":\"ResetTool\"},{\"attributes\":{\"callback\":null,\"column_names\":[\"y\",\"fill_alpha\",\"label\",\"line_alpha\",\"x\",\"line_color\",\"color\",\"height\",\"width\"],\"data\":{\"chart_index\":[\"(394.945279, 414.692288]\"],\"color\":[\"#f22c40\"],\"fill_alpha\":[0.8],\"height\":[37.0],\"label\":[\"(394.945279, 414.692288]\"],\"line_alpha\":[1.0],\"line_color\":[\"black\"],\"width\":[19.74700911880643],\"x\":[\"404.8187835\"],\"y\":[18.5]}},\"id\":\"aa174068-ffa0-4099-a30d-b469ae2f5e9c\",\"type\":\"ColumnDataSource\"},{\"attributes\":{\"fill_alpha\":{\"field\":\"fill_alpha\"},\"fill_color\":{\"field\":\"color\"},\"height\":{\"field\":\"height\",\"units\":\"data\"},\"line_color\":{\"field\":\"line_color\"},\"width\":{\"field\":\"width\",\"units\":\"data\"},\"x\":{\"field\":\"x\"},\"y\":{\"field\":\"y\"}},\"id\":\"70322b00-b25f-474e-888c-d46a9bfca118\",\"type\":\"Rect\"},{\"attributes\":{\"data_source\":{\"id\":\"20fc0015-9974-4434-8707-f63a2cd23ebd\",\"type\":\"ColumnDataSource\"},\"glyph\":{\"id\":\"5535d088-ff8b-4dce-a42d-113d0c34b056\",\"type\":\"Rect\"},\"hover_glyph\":null,\"nonselection_glyph\":null,\"selection_glyph\":null},\"id\":\"518fe13a-7647-40ff-b1c3-92928cffc464\",\"type\":\"GlyphRenderer\"},{\"attributes\":{\"callback\":null,\"column_names\":[\"y\",\"fill_alpha\",\"label\",\"line_alpha\",\"x\",\"line_color\",\"color\",\"height\",\"width\"],\"data\":{\"chart_index\":[\"(18.068185, 19.618725]\"],\"color\":[\"#f22c40\"],\"fill_alpha\":[0.8],\"height\":[72.0],\"label\":[\"(18.068185, 19.618725]\"],\"line_alpha\":[1.0],\"line_color\":[\"black\"],\"width\":[1.550540015708986],\"x\":[\"18.843455\"],\"y\":[36.0]}},\"id\":\"63b4d267-d53c-4350-b109-56db4fe7e54a\",\"type\":\"ColumnDataSource\"},{\"attributes\":{\"overlay\":{\"id\":\"e4c92dc2-19b5-4291-904a-2f9f0684d463\",\"type\":\"BoxAnnotation\"},\"plot\":{\"id\":\"e248c624-063b-473b-9b7d-e65e46602b02\",\"subtype\":\"Chart\",\"type\":\"Plot\"}},\"id\":\"379b9d4a-16f5-4d54-aa8c-29013f49e5fd\",\"type\":\"BoxZoomTool\"},{\"attributes\":{\"fill_alpha\":{\"field\":\"fill_alpha\"},\"fill_color\":{\"field\":\"color\"},\"height\":{\"field\":\"height\",\"units\":\"data\"},\"line_color\":{\"field\":\"line_color\"},\"width\":{\"field\":\"width\",\"units\":\"data\"},\"x\":{\"field\":\"x\"},\"y\":{\"field\":\"y\"}},\"id\":\"51ea8496-dd20-45e9-9ad3-e1ccc0873e32\",\"type\":\"Rect\"},{\"attributes\":{\"data_source\":{\"id\":\"6f17a9ac-07fc-46fc-8f38-218a5858bd00\",\"type\":\"ColumnDataSource\"},\"glyph\":{\"id\":\"1df3b58c-7a2d-4f34-a1d7-c3a68beeb879\",\"type\":\"Rect\"},\"hover_glyph\":null,\"nonselection_glyph\":null,\"selection_glyph\":null},\"id\":\"3c3b3e7f-b82d-4065-aecd-f911f1f0b70d\",\"type\":\"GlyphRenderer\"},{\"attributes\":{\"callback\":null,\"column_names\":[\"y\",\"fill_alpha\",\"label\",\"line_alpha\",\"x\",\"line_color\",\"color\",\"height\",\"width\"],\"data\":{\"chart_index\":[\"(39.775745, 41.326285]\"],\"color\":[\"#f22c40\"],\"fill_alpha\":[0.8],\"height\":[644.0],\"label\":[\"(39.775745, 41.326285]\"],\"line_alpha\":[1.0],\"line_color\":[\"black\"],\"width\":[1.5505400157089895],\"x\":[\"40.551015\"],\"y\":[322.0]}},\"id\":\"30d92429-cdeb-41c2-ad4c-1152c4b5acee\",\"type\":\"ColumnDataSource\"},{\"attributes\":{\"fill_alpha\":{\"field\":\"fill_alpha\"},\"fill_color\":{\"field\":\"color\"},\"height\":{\"field\":\"height\",\"units\":\"data\"},\"line_color\":{\"field\":\"line_color\"},\"width\":{\"field\":\"width\",\"units\":\"data\"},\"x\":{\"field\":\"x\"},\"y\":{\"field\":\"y\"}},\"id\":\"87199e86-15fb-4f60-842d-5350f45f5514\",\"type\":\"Rect\"},{\"attributes\":{\"callback\":null,\"column_names\":[\"y\",\"fill_alpha\",\"label\",\"line_alpha\",\"x\",\"line_color\",\"color\",\"height\",\"width\"],\"data\":{\"chart_index\":[\"(473.933316, 493.680325]\"],\"color\":[\"#f22c40\"],\"fill_alpha\":[0.8],\"height\":[14.0],\"label\":[\"(473.933316, 493.680325]\"],\"line_alpha\":[1.0],\"line_color\":[\"black\"],\"width\":[19.74700911880643],\"x\":[\"483.80682049999996\"],\"y\":[7.0]}},\"id\":\"a27349ce-df6b-4bef-a10c-6fed33127453\",\"type\":\"ColumnDataSource\"},{\"attributes\":{\"callback\":null,\"end\":123.49426061468148,\"start\":16.50469788531855},\"id\":\"005437ad-0b27-4fec-ae6a-1e7ec464eedd\",\"type\":\"Range1d\"},{\"attributes\":{\"callback\":null,\"column_names\":[\"y\",\"fill_alpha\",\"label\",\"line_alpha\",\"x\",\"line_color\",\"color\",\"height\",\"width\"],\"data\":{\"chart_index\":[\"(38.225205, 39.775745]\"],\"color\":[\"#f22c40\"],\"fill_alpha\":[0.8],\"height\":[588.0],\"label\":[\"(38.225205, 39.775745]\"],\"line_alpha\":[1.0],\"line_color\":[\"black\"],\"width\":[1.5505400157089824],\"x\":[\"39.000475\"],\"y\":[294.0]}},\"id\":\"a3eca96b-f115-4608-8216-ab0b5a9d77e3\",\"type\":\"ColumnDataSource\"},{\"attributes\":{\"location\":\"top_left\",\"plot\":{\"id\":\"42cfec60-226a-4b10-b05a-c87660a395df\",\"subtype\":\"Chart\",\"type\":\"Plot\"}},\"id\":\"6fd03de5-1ce0-40ee-811f-dbda893959e4\",\"type\":\"Legend\"},{\"attributes\":{\"callback\":null,\"column_names\":[\"y\",\"fill_alpha\",\"label\",\"line_alpha\",\"x\",\"line_color\",\"color\",\"height\",\"width\"],\"data\":{\"chart_index\":[\"(770.138452, 789.885462]\"],\"color\":[\"#f22c40\"],\"fill_alpha\":[0.8],\"height\":[3.0],\"label\":[\"(770.138452, 789.885462]\"],\"line_alpha\":[1.0],\"line_color\":[\"black\"],\"width\":[19.747009118806318],\"x\":[\"780.0119569999999\"],\"y\":[1.5]}},\"id\":\"d013271d-0c69-42c4-a97a-0a32a7db0152\",\"type\":\"ColumnDataSource\"},{\"attributes\":{\"fill_alpha\":{\"field\":\"fill_alpha\"},\"fill_color\":{\"field\":\"color\"},\"height\":{\"field\":\"height\",\"units\":\"data\"},\"line_color\":{\"field\":\"line_color\"},\"width\":{\"field\":\"width\",\"units\":\"data\"},\"x\":{\"field\":\"x\"},\"y\":{\"field\":\"y\"}},\"id\":\"3e55f9a3-ab59-417c-95c4-92f1994d8414\",\"type\":\"Rect\"},{\"attributes\":{\"data_source\":{\"id\":\"40ec2b1c-aea0-4d33-a56d-ec7be95623d2\",\"type\":\"ColumnDataSource\"},\"glyph\":{\"id\":\"b1f458bd-0eca-4691-82c7-70f82517399c\",\"type\":\"Rect\"},\"hover_glyph\":null,\"nonselection_glyph\":null,\"selection_glyph\":null},\"id\":\"084c98e5-f3c7-4404-b49e-1f58ce35bb2d\",\"type\":\"GlyphRenderer\"},{\"attributes\":{\"fill_alpha\":{\"field\":\"fill_alpha\"},\"fill_color\":{\"field\":\"color\"},\"height\":{\"field\":\"height\",\"units\":\"data\"},\"line_color\":{\"field\":\"line_color\"},\"width\":{\"field\":\"width\",\"units\":\"data\"},\"x\":{\"field\":\"x\"},\"y\":{\"field\":\"y\"}},\"id\":\"198eaef3-0f65-49e6-b426-04f7298ddf4a\",\"type\":\"Rect\"},{\"attributes\":{\"data_source\":{\"id\":\"6a5abf69-1432-4476-9442-eba56f18b2b3\",\"type\":\"ColumnDataSource\"},\"glyph\":{\"id\":\"3a59c4da-fe14-4cc3-bbae-869a604a97a7\",\"type\":\"Rect\"},\"hover_glyph\":null,\"nonselection_glyph\":null,\"selection_glyph\":null},\"id\":\"28211538-4540-464a-83cc-3bfb4e71becb\",\"type\":\"GlyphRenderer\"},{\"attributes\":{\"callback\":null,\"column_names\":[\"y\",\"fill_alpha\",\"label\",\"line_alpha\",\"x\",\"line_color\",\"color\",\"height\",\"width\"],\"data\":{\"chart_index\":[\"(631.909389, 651.656398]\"],\"color\":[\"#f22c40\"],\"fill_alpha\":[0.8],\"height\":[6.0],\"label\":[\"(631.909389, 651.656398]\"],\"line_alpha\":[1.0],\"line_color\":[\"black\"],\"width\":[19.74700911880643],\"x\":[\"641.7828935\"],\"y\":[3.0]}},\"id\":\"e870aac3-6742-4f3d-a557-a8b88c7faf13\",\"type\":\"ColumnDataSource\"},{\"attributes\":{\"callback\":null,\"column_names\":[\"y\",\"fill_alpha\",\"label\",\"line_alpha\",\"x\",\"line_color\",\"color\",\"height\",\"width\"],\"data\":{\"chart_index\":[\"(34.003218, 36.003010]\"],\"color\":[\"#f22c40\"],\"fill_alpha\":[0.8],\"height\":[177.0],\"label\":[\"(34.003218, 36.003010]\"],\"line_alpha\":[1.0],\"line_color\":[\"black\"],\"width\":[1.9997923043628987],\"x\":[\"35.003114\"],\"y\":[88.5]}},\"id\":\"ac2189f0-380a-4c6b-9f17-f6e366a27d69\",\"type\":\"ColumnDataSource\"},{\"attributes\":{\"fill_alpha\":{\"field\":\"fill_alpha\"},\"fill_color\":{\"field\":\"color\"},\"height\":{\"field\":\"height\",\"units\":\"data\"},\"line_color\":{\"field\":\"line_color\"},\"width\":{\"field\":\"width\",\"units\":\"data\"},\"x\":{\"field\":\"x\"},\"y\":{\"field\":\"y\"}},\"id\":\"ff12e67d-d64f-4fc9-a341-5a334c493c29\",\"type\":\"Rect\"},{\"attributes\":{\"data_source\":{\"id\":\"e91f6b93-2b14-4096-9982-8719b749293b\",\"type\":\"ColumnDataSource\"},\"glyph\":{\"id\":\"0981d29a-5358-43ec-930f-6906713c7163\",\"type\":\"Rect\"},\"hover_glyph\":null,\"nonselection_glyph\":null,\"selection_glyph\":null},\"id\":\"d4e35b21-7744-4039-8192-17f6eecdeb87\",\"type\":\"GlyphRenderer\"},{\"attributes\":{\"axis_label\":\"Count( A )\",\"formatter\":{\"id\":\"07c46e95-711b-468b-bf4f-697b360b6ba3\",\"type\":\"BasicTickFormatter\"},\"plot\":{\"id\":\"ebf80998-1d9b-4911-98bb-96a6b2bac537\",\"subtype\":\"Chart\",\"type\":\"Plot\"},\"ticker\":{\"id\":\"41e48dc1-133b-470e-9fad-c22eee129989\",\"type\":\"BasicTicker\"}},\"id\":\"169e22d4-730f-48d5-a784-adb448ca164f\",\"type\":\"LinearAxis\"},{\"attributes\":{\"data_source\":{\"id\":\"a5138ef6-fc42-4859-9b9f-f0f76a90440e\",\"type\":\"ColumnDataSource\"},\"glyph\":{\"id\":\"80f93319-d509-401d-9169-a1b38057805b\",\"type\":\"Rect\"},\"hover_glyph\":null,\"nonselection_glyph\":null,\"selection_glyph\":null},\"id\":\"ff49b862-3363-4f36-9b68-cffa82237c78\",\"type\":\"GlyphRenderer\"},{\"attributes\":{\"fill_alpha\":{\"field\":\"fill_alpha\"},\"fill_color\":{\"field\":\"color\"},\"height\":{\"field\":\"height\",\"units\":\"data\"},\"line_color\":{\"field\":\"line_color\"},\"width\":{\"field\":\"width\",\"units\":\"data\"},\"x\":{\"field\":\"x\"},\"y\":{\"field\":\"y\"}},\"id\":\"07ee8638-e2ac-40dc-85b5-86adddb42ca6\",\"type\":\"Rect\"},{\"attributes\":{\"data_source\":{\"id\":\"31da0fbc-8f68-47fe-a7d4-baa57e713217\",\"type\":\"ColumnDataSource\"},\"glyph\":{\"id\":\"f5713565-0d72-412f-a5e7-e08899e55c39\",\"type\":\"Rect\"},\"hover_glyph\":null,\"nonselection_glyph\":null,\"selection_glyph\":null},\"id\":\"97559179-da78-45b7-a6d0-10e3cbf8a262\",\"type\":\"GlyphRenderer\"},{\"attributes\":{\"fill_alpha\":{\"field\":\"fill_alpha\"},\"fill_color\":{\"field\":\"color\"},\"height\":{\"field\":\"height\",\"units\":\"data\"},\"line_color\":{\"field\":\"line_color\"},\"width\":{\"field\":\"width\",\"units\":\"data\"},\"x\":{\"field\":\"x\"},\"y\":{\"field\":\"y\"}},\"id\":\"6e6e572b-8492-4b77-9b37-e705e848e5fd\",\"type\":\"Rect\"},{\"attributes\":{\"data_source\":{\"id\":\"5423de81-12e6-41a1-a76c-f5546ce3836a\",\"type\":\"ColumnDataSource\"},\"glyph\":{\"id\":\"3a3b8f38-1ee1-4574-901b-ae30c212eb17\",\"type\":\"Rect\"},\"hover_glyph\":null,\"nonselection_glyph\":null,\"selection_glyph\":null},\"id\":\"a401e9ca-72d9-4c0c-b128-aed32aa6c694\",\"type\":\"GlyphRenderer\"},{\"attributes\":{\"data_source\":{\"id\":\"c25ea22f-4238-4e27-a99e-d0b864ee1be3\",\"type\":\"ColumnDataSource\"},\"glyph\":{\"id\":\"6240105a-5d03-4b72-bacc-06e1f5e40c51\",\"type\":\"Rect\"},\"hover_glyph\":null,\"nonselection_glyph\":null,\"selection_glyph\":null},\"id\":\"a837de00-6985-4985-b31d-11cdc8d3a6bc\",\"type\":\"GlyphRenderer\"},{\"attributes\":{\"data_source\":{\"id\":\"ef6bc845-7bbf-4f3d-a090-4f20875c60be\",\"type\":\"ColumnDataSource\"},\"glyph\":{\"id\":\"6f6f0da8-a3ca-4a56-b070-0fad075ceead\",\"type\":\"Rect\"},\"hover_glyph\":null,\"nonselection_glyph\":null,\"selection_glyph\":null},\"id\":\"02bc2fcc-f763-45ad-bc61-cc07ede2239d\",\"type\":\"GlyphRenderer\"},{\"attributes\":{\"data_source\":{\"id\":\"ba314e4f-948d-4424-aa93-6b0c8271b03a\",\"type\":\"ColumnDataSource\"},\"glyph\":{\"id\":\"05b5c788-430f-4416-ad0f-7c16d44c0c68\",\"type\":\"Rect\"},\"hover_glyph\":null,\"nonselection_glyph\":null,\"selection_glyph\":null},\"id\":\"7a103df1-f95e-497d-bb6a-166aca99ff56\",\"type\":\"GlyphRenderer\"},{\"attributes\":{\"overlay\":{\"id\":\"113154cd-7598-47dd-867a-c0f401c38521\",\"type\":\"BoxAnnotation\"},\"plot\":{\"id\":\"7a1cd8b3-4ad4-43a6-9e36-4c8297df94c3\",\"subtype\":\"Chart\",\"type\":\"Plot\"}},\"id\":\"797c5a8e-d451-4fe4-9d7c-f310c65d9601\",\"type\":\"BoxZoomTool\"},{\"attributes\":{\"fill_alpha\":{\"field\":\"fill_alpha\"},\"fill_color\":{\"field\":\"color\"},\"height\":{\"field\":\"height\",\"units\":\"data\"},\"line_color\":{\"field\":\"line_color\"},\"width\":{\"field\":\"width\",\"units\":\"data\"},\"x\":{\"field\":\"x\"},\"y\":{\"field\":\"y\"}},\"id\":\"8052b428-12e8-45fd-9c11-a8710a448e08\",\"type\":\"Rect\"},{\"attributes\":{\"callback\":null,\"column_names\":[\"y\",\"fill_alpha\",\"label\",\"line_alpha\",\"x\",\"line_color\",\"color\",\"height\",\"width\"],\"data\":{\"chart_index\":[\"(111.367892, 113.323981]\"],\"color\":[\"#f22c40\"],\"fill_alpha\":[0.8],\"height\":[74.0],\"label\":[\"(111.367892, 113.323981]\"],\"line_alpha\":[1.0],\"line_color\":[\"black\"],\"width\":[1.9560889049003833],\"x\":[\"112.3459365\"],\"y\":[37.0]}},\"id\":\"61b267f2-e65b-4630-bbbc-59fc5c1afad3\",\"type\":\"ColumnDataSource\"},{\"attributes\":{\"fill_alpha\":{\"field\":\"fill_alpha\"},\"fill_color\":{\"field\":\"color\"},\"height\":{\"field\":\"height\",\"units\":\"data\"},\"line_color\":{\"field\":\"line_color\"},\"width\":{\"field\":\"width\",\"units\":\"data\"},\"x\":{\"field\":\"x\"},\"y\":{\"field\":\"y\"}},\"id\":\"cb7b6935-06ad-45b7-a490-305592da2fc0\",\"type\":\"Rect\"},{\"attributes\":{\"data_source\":{\"id\":\"2dea3017-2162-4452-9717-7ee910b163be\",\"type\":\"ColumnDataSource\"},\"glyph\":{\"id\":\"a1b3cc6a-d074-43d8-a6b8-a5f435c3896d\",\"type\":\"Rect\"},\"hover_glyph\":null,\"nonselection_glyph\":null,\"selection_glyph\":null},\"id\":\"092662bf-d965-4332-aac6-93fb9706f276\",\"type\":\"GlyphRenderer\"},{\"attributes\":{\"fill_alpha\":{\"field\":\"fill_alpha\"},\"fill_color\":{\"field\":\"color\"},\"height\":{\"field\":\"height\",\"units\":\"data\"},\"line_color\":{\"field\":\"line_color\"},\"width\":{\"field\":\"width\",\"units\":\"data\"},\"x\":{\"field\":\"x\"},\"y\":{\"field\":\"y\"}},\"id\":\"969bb375-2c9e-415e-aeeb-e62a9c28f5de\",\"type\":\"Rect\"},{\"attributes\":{\"callback\":null,\"column_names\":[\"y\",\"fill_alpha\",\"label\",\"line_alpha\",\"x\",\"line_color\",\"color\",\"height\",\"width\"],\"data\":{\"chart_index\":[\"(61.483305, 63.033845]\"],\"color\":[\"#f22c40\"],\"fill_alpha\":[0.8],\"height\":[52.0],\"label\":[\"(61.483305, 63.033845]\"],\"line_alpha\":[1.0],\"line_color\":[\"black\"],\"width\":[1.5505400157089895],\"x\":[\"62.258575\"],\"y\":[26.0]}},\"id\":\"0621f785-5802-4361-aa36-a9edac61a1c6\",\"type\":\"ColumnDataSource\"},{\"attributes\":{\"data_source\":{\"id\":\"5c08840e-1c29-48e5-afea-757a217821b4\",\"type\":\"ColumnDataSource\"},\"glyph\":{\"id\":\"f7b2cedd-91ae-4b79-ba25-a8ab98d8ed9f\",\"type\":\"Rect\"},\"hover_glyph\":null,\"nonselection_glyph\":null,\"selection_glyph\":null},\"id\":\"b24a4baa-b250-46cc-81c1-d30004e1ca2d\",\"type\":\"GlyphRenderer\"},{\"attributes\":{\"fill_alpha\":{\"field\":\"fill_alpha\"},\"fill_color\":{\"field\":\"color\"},\"height\":{\"field\":\"height\",\"units\":\"data\"},\"line_color\":{\"field\":\"line_color\"},\"width\":{\"field\":\"width\",\"units\":\"data\"},\"x\":{\"field\":\"x\"},\"y\":{\"field\":\"y\"}},\"id\":\"af9ff939-df8c-48f6-ac6b-0ae36ac9506d\",\"type\":\"Rect\"},{\"attributes\":{\"fill_alpha\":{\"field\":\"fill_alpha\"},\"fill_color\":{\"field\":\"color\"},\"height\":{\"field\":\"height\",\"units\":\"data\"},\"line_color\":{\"field\":\"line_color\"},\"width\":{\"field\":\"width\",\"units\":\"data\"},\"x\":{\"field\":\"x\"},\"y\":{\"field\":\"y\"}},\"id\":\"5557f4b4-7989-4f3b-98a0-50f1c08f0b8d\",\"type\":\"Rect\"},{\"attributes\":{\"fill_alpha\":{\"field\":\"fill_alpha\"},\"fill_color\":{\"field\":\"color\"},\"height\":{\"field\":\"height\",\"units\":\"data\"},\"line_color\":{\"field\":\"line_color\"},\"width\":{\"field\":\"width\",\"units\":\"data\"},\"x\":{\"field\":\"x\"},\"y\":{\"field\":\"y\"}},\"id\":\"588c6f7f-fd4f-4763-b742-0e9525ddcc5d\",\"type\":\"Rect\"},{\"attributes\":{\"fill_alpha\":{\"field\":\"fill_alpha\"},\"fill_color\":{\"field\":\"color\"},\"height\":{\"field\":\"height\",\"units\":\"data\"},\"line_color\":{\"field\":\"line_color\"},\"width\":{\"field\":\"width\",\"units\":\"data\"},\"x\":{\"field\":\"x\"},\"y\":{\"field\":\"y\"}},\"id\":\"3a59c4da-fe14-4cc3-bbae-869a604a97a7\",\"type\":\"Rect\"},{\"attributes\":{\"data_source\":{\"id\":\"4452b940-8b54-4c69-9fbc-f6928b4a2674\",\"type\":\"ColumnDataSource\"},\"glyph\":{\"id\":\"af9ff939-df8c-48f6-ac6b-0ae36ac9506d\",\"type\":\"Rect\"},\"hover_glyph\":null,\"nonselection_glyph\":null,\"selection_glyph\":null},\"id\":\"a951058c-3450-4bd4-b741-5a61b8f4e145\",\"type\":\"GlyphRenderer\"},{\"attributes\":{\"axis_label\":\"Count( A )\",\"formatter\":{\"id\":\"75c13de2-b18d-46e5-8d65-8930924fc080\",\"type\":\"BasicTickFormatter\"},\"plot\":{\"id\":\"42cfec60-226a-4b10-b05a-c87660a395df\",\"subtype\":\"Chart\",\"type\":\"Plot\"},\"ticker\":{\"id\":\"22143703-3f79-4c8c-aa05-1ee5cf1093e5\",\"type\":\"BasicTicker\"}},\"id\":\"899be959-006b-4ec5-af02-2658400af21e\",\"type\":\"LinearAxis\"},{\"attributes\":{\"fill_alpha\":{\"field\":\"fill_alpha\"},\"fill_color\":{\"field\":\"color\"},\"height\":{\"field\":\"height\",\"units\":\"data\"},\"line_color\":{\"field\":\"line_color\"},\"width\":{\"field\":\"width\",\"units\":\"data\"},\"x\":{\"field\":\"x\"},\"y\":{\"field\":\"y\"}},\"id\":\"b1f458bd-0eca-4691-82c7-70f82517399c\",\"type\":\"Rect\"},{\"attributes\":{\"callback\":null,\"column_names\":[\"y\",\"fill_alpha\",\"label\",\"line_alpha\",\"x\",\"line_color\",\"color\",\"height\",\"width\"],\"data\":{\"chart_index\":[\"(97.996571, 99.996364]\"],\"color\":[\"#f22c40\"],\"fill_alpha\":[0.8],\"height\":[168.0],\"label\":[\"(97.996571, 99.996364]\"],\"line_alpha\":[1.0],\"line_color\":[\"black\"],\"width\":[1.9997923043628987],\"x\":[\"98.9964675\"],\"y\":[84.0]}},\"id\":\"731c1df4-4c79-4d4c-a6df-ad8967e51cfe\",\"type\":\"ColumnDataSource\"},{\"attributes\":{\"plot\":{\"id\":\"ebf80998-1d9b-4911-98bb-96a6b2bac537\",\"subtype\":\"Chart\",\"type\":\"Plot\"}},\"id\":\"47f9e7b3-3101-4878-a122-634fdf208483\",\"type\":\"ResetTool\"},{\"attributes\":{\"dimension\":1,\"plot\":{\"id\":\"7a1cd8b3-4ad4-43a6-9e36-4c8297df94c3\",\"subtype\":\"Chart\",\"type\":\"Plot\"},\"ticker\":{\"id\":\"7688c5d6-f8ab-4258-b73a-ddf3537f666a\",\"type\":\"BasicTicker\"}},\"id\":\"317bdc6e-9812-49ac-802a-ae590cbee498\",\"type\":\"Grid\"},{\"attributes\":{\"callback\":null,\"column_names\":[\"y\",\"fill_alpha\",\"label\",\"line_alpha\",\"x\",\"line_color\",\"color\",\"height\",\"width\"],\"data\":{\"chart_index\":[\"(58.000725, 60.000518]\"],\"color\":[\"#f22c40\"],\"fill_alpha\":[0.8],\"height\":[219.0],\"label\":[\"(58.000725, 60.000518]\"],\"line_alpha\":[1.0],\"line_color\":[\"black\"],\"width\":[1.9997923043628987],\"x\":[\"59.0006215\"],\"y\":[109.5]}},\"id\":\"233b621f-b677-42d2-a1e5-fb72012a1d0a\",\"type\":\"ColumnDataSource\"},{\"attributes\":{\"fill_alpha\":{\"field\":\"fill_alpha\"},\"fill_color\":{\"field\":\"color\"},\"height\":{\"field\":\"height\",\"units\":\"data\"},\"line_color\":{\"field\":\"line_color\"},\"width\":{\"field\":\"width\",\"units\":\"data\"},\"x\":{\"field\":\"x\"},\"y\":{\"field\":\"y\"}},\"id\":\"6e3aeeeb-e8b2-4048-b784-d9fbf4f38113\",\"type\":\"Rect\"},{\"attributes\":{\"data_source\":{\"id\":\"3c2bc2b2-b2d8-43f4-a261-e607043f4950\",\"type\":\"ColumnDataSource\"},\"glyph\":{\"id\":\"70322b00-b25f-474e-888c-d46a9bfca118\",\"type\":\"Rect\"},\"hover_glyph\":null,\"nonselection_glyph\":null,\"selection_glyph\":null},\"id\":\"21daecb0-56c6-4c15-bd9e-3ad4273a5cc1\",\"type\":\"GlyphRenderer\"},{\"attributes\":{\"data_source\":{\"id\":\"41e72712-ceab-4c9c-9ebb-a4378964efea\",\"type\":\"ColumnDataSource\"},\"glyph\":{\"id\":\"8d8f655c-1639-4d9d-a03c-9a9521d5b502\",\"type\":\"Rect\"},\"hover_glyph\":null,\"nonselection_glyph\":null,\"selection_glyph\":null},\"id\":\"bc6edc45-3825-44f5-b7e2-f49361fc3338\",\"type\":\"GlyphRenderer\"},{\"attributes\":{\"fill_alpha\":{\"field\":\"fill_alpha\"},\"fill_color\":{\"field\":\"color\"},\"height\":{\"field\":\"height\",\"units\":\"data\"},\"line_color\":{\"field\":\"line_color\"},\"width\":{\"field\":\"width\",\"units\":\"data\"},\"x\":{\"field\":\"x\"},\"y\":{\"field\":\"y\"}},\"id\":\"672f8087-6211-4f29-8b98-409c77ce6f66\",\"type\":\"Rect\"},{\"attributes\":{\"fill_alpha\":{\"field\":\"fill_alpha\"},\"fill_color\":{\"field\":\"color\"},\"height\":{\"field\":\"height\",\"units\":\"data\"},\"line_color\":{\"field\":\"line_color\"},\"width\":{\"field\":\"width\",\"units\":\"data\"},\"x\":{\"field\":\"x\"},\"y\":{\"field\":\"y\"}},\"id\":\"a28b8db0-7568-494b-ad48-719f03e4eea7\",\"type\":\"Rect\"},{\"attributes\":{\"data_source\":{\"id\":\"9b4aa91d-c6a8-4100-912a-03f197cdc4ea\",\"type\":\"ColumnDataSource\"},\"glyph\":{\"id\":\"1cf15393-af13-46ce-b320-f6c9d55142dd\",\"type\":\"Rect\"},\"hover_glyph\":null,\"nonselection_glyph\":null,\"selection_glyph\":null},\"id\":\"c55493ce-f969-47c8-bc84-2e4fb5a0f202\",\"type\":\"GlyphRenderer\"},{\"attributes\":{\"callback\":null,\"column_names\":[\"y\",\"fill_alpha\",\"label\",\"line_alpha\",\"x\",\"line_color\",\"color\",\"height\",\"width\"],\"data\":{\"chart_index\":[\"(513.427334, 533.174343]\"],\"color\":[\"#f22c40\"],\"fill_alpha\":[0.8],\"height\":[11.0],\"label\":[\"(513.427334, 533.174343]\"],\"line_alpha\":[1.0],\"line_color\":[\"black\"],\"width\":[19.74700911880643],\"x\":[\"523.3008385\"],\"y\":[5.5]}},\"id\":\"e318fa9a-bd13-4f9a-a3fe-e22d445aa879\",\"type\":\"ColumnDataSource\"},{\"attributes\":{\"data_source\":{\"id\":\"99cc85ce-5d6e-4a89-9f19-9f4ccf36740e\",\"type\":\"ColumnDataSource\"},\"glyph\":{\"id\":\"a8529e8e-259e-4cb3-9b33-7ebb2ff27326\",\"type\":\"Rect\"},\"hover_glyph\":null,\"nonselection_glyph\":null,\"selection_glyph\":null},\"id\":\"714923cd-3399-45dc-a364-33be51f12260\",\"type\":\"GlyphRenderer\"},{\"attributes\":{\"fill_alpha\":{\"field\":\"fill_alpha\"},\"fill_color\":{\"field\":\"color\"},\"height\":{\"field\":\"height\",\"units\":\"data\"},\"line_color\":{\"field\":\"line_color\"},\"width\":{\"field\":\"width\",\"units\":\"data\"},\"x\":{\"field\":\"x\"},\"y\":{\"field\":\"y\"}},\"id\":\"a8b14655-4d00-46cb-b1a7-acc80044fa74\",\"type\":\"Rect\"},{\"attributes\":{\"callback\":null,\"column_names\":[\"y\",\"fill_alpha\",\"label\",\"line_alpha\",\"x\",\"line_color\",\"color\",\"height\",\"width\"],\"data\":{\"chart_index\":[\"(109.411803, 111.367892]\"],\"color\":[\"#f22c40\"],\"fill_alpha\":[0.8],\"height\":[92.0],\"label\":[\"(109.411803, 111.367892]\"],\"line_alpha\":[1.0],\"line_color\":[\"black\"],\"width\":[1.9560889049004118],\"x\":[\"110.3898475\"],\"y\":[46.0]}},\"id\":\"f301d7e4-f49d-43f9-a71e-277a62556f9f\",\"type\":\"ColumnDataSource\"},{\"attributes\":{\"data_source\":{\"id\":\"4c8fc038-d756-4c61-b345-4f5d5ad869c6\",\"type\":\"ColumnDataSource\"},\"glyph\":{\"id\":\"8052b428-12e8-45fd-9c11-a8710a448e08\",\"type\":\"Rect\"},\"hover_glyph\":null,\"nonselection_glyph\":null,\"selection_glyph\":null},\"id\":\"794e8905-4469-4fa2-b123-9c1caa369938\",\"type\":\"GlyphRenderer\"},{\"attributes\":{\"callback\":null,\"column_names\":[\"y\",\"fill_alpha\",\"label\",\"line_alpha\",\"x\",\"line_color\",\"color\",\"height\",\"width\"],\"data\":{\"chart_index\":[\"(91.807003, 93.763092]\"],\"color\":[\"#f22c40\"],\"fill_alpha\":[0.8],\"height\":[233.0],\"label\":[\"(91.807003, 93.763092]\"],\"line_alpha\":[1.0],\"line_color\":[\"black\"],\"width\":[1.9560889049004118],\"x\":[\"92.78504749999999\"],\"y\":[116.5]}},\"id\":\"4665e09e-fe20-4ac0-96a9-1d7839577b40\",\"type\":\"ColumnDataSource\"},{\"attributes\":{\"callback\":null,\"column_names\":[\"y\",\"fill_alpha\",\"label\",\"line_alpha\",\"x\",\"line_color\",\"color\",\"height\",\"width\"],\"data\":{\"chart_index\":[\"(36.003010, 38.002802]\"],\"color\":[\"#f22c40\"],\"fill_alpha\":[0.8],\"height\":[202.0],\"label\":[\"(36.003010, 38.002802]\"],\"line_alpha\":[1.0],\"line_color\":[\"black\"],\"width\":[1.9997923043628987],\"x\":[\"37.002906\"],\"y\":[101.0]}},\"id\":\"87871719-528b-4ab2-b1bc-c2178f96f3ff\",\"type\":\"ColumnDataSource\"},{\"attributes\":{},\"id\":\"07c46e95-711b-468b-bf4f-697b360b6ba3\",\"type\":\"BasicTickFormatter\"},{\"attributes\":{\"data_source\":{\"id\":\"aa174068-ffa0-4099-a30d-b469ae2f5e9c\",\"type\":\"ColumnDataSource\"},\"glyph\":{\"id\":\"6e3aeeeb-e8b2-4048-b784-d9fbf4f38113\",\"type\":\"Rect\"},\"hover_glyph\":null,\"nonselection_glyph\":null,\"selection_glyph\":null},\"id\":\"714353cf-d019-4bfc-a4cb-95afad5d7cec\",\"type\":\"GlyphRenderer\"},{\"attributes\":{\"fill_alpha\":{\"field\":\"fill_alpha\"},\"fill_color\":{\"field\":\"color\"},\"height\":{\"field\":\"height\",\"units\":\"data\"},\"line_color\":{\"field\":\"line_color\"},\"width\":{\"field\":\"width\",\"units\":\"data\"},\"x\":{\"field\":\"x\"},\"y\":{\"field\":\"y\"}},\"id\":\"c584ac57-c208-4de9-a924-19e9f559b4f5\",\"type\":\"Rect\"},{\"attributes\":{\"fill_alpha\":{\"field\":\"fill_alpha\"},\"fill_color\":{\"field\":\"color\"},\"height\":{\"field\":\"height\",\"units\":\"data\"},\"line_color\":{\"field\":\"line_color\"},\"width\":{\"field\":\"width\",\"units\":\"data\"},\"x\":{\"field\":\"x\"},\"y\":{\"field\":\"y\"}},\"id\":\"0de6f102-b6bc-4145-8aa6-5e7d7dc632f2\",\"type\":\"Rect\"},{\"attributes\":{\"fill_alpha\":{\"field\":\"fill_alpha\"},\"fill_color\":{\"field\":\"color\"},\"height\":{\"field\":\"height\",\"units\":\"data\"},\"line_color\":{\"field\":\"line_color\"},\"width\":{\"field\":\"width\",\"units\":\"data\"},\"x\":{\"field\":\"x\"},\"y\":{\"field\":\"y\"}},\"id\":\"8e2afebd-43ff-4597-a028-c9136c3ae9ec\",\"type\":\"Rect\"},{\"attributes\":{\"fill_alpha\":{\"field\":\"fill_alpha\"},\"fill_color\":{\"field\":\"color\"},\"height\":{\"field\":\"height\",\"units\":\"data\"},\"line_color\":{\"field\":\"line_color\"},\"width\":{\"field\":\"width\",\"units\":\"data\"},\"x\":{\"field\":\"x\"},\"y\":{\"field\":\"y\"}},\"id\":\"71981a52-346b-4710-87c8-31918b574c86\",\"type\":\"Rect\"},{\"attributes\":{\"data_source\":{\"id\":\"26e64d31-7de1-4199-a873-c95c9ce8dfb5\",\"type\":\"ColumnDataSource\"},\"glyph\":{\"id\":\"83395ac2-3ab9-463c-81f5-25a5072f4278\",\"type\":\"Rect\"},\"hover_glyph\":null,\"nonselection_glyph\":null,\"selection_glyph\":null},\"id\":\"bec5f901-d05b-40fd-a113-dffb8354a14b\",\"type\":\"GlyphRenderer\"},{\"attributes\":{\"fill_alpha\":{\"field\":\"fill_alpha\"},\"fill_color\":{\"field\":\"color\"},\"height\":{\"field\":\"height\",\"units\":\"data\"},\"line_color\":{\"field\":\"line_color\"},\"width\":{\"field\":\"width\",\"units\":\"data\"},\"x\":{\"field\":\"x\"},\"y\":{\"field\":\"y\"}},\"id\":\"f8039eb0-39ab-49d5-90fc-193aac2d638f\",\"type\":\"Rect\"},{\"attributes\":{\"callback\":null,\"column_names\":[\"y\",\"fill_alpha\",\"label\",\"line_alpha\",\"x\",\"line_color\",\"color\",\"height\",\"width\"],\"data\":{\"chart_index\":[\"(95.996779, 97.996571]\"],\"color\":[\"#f22c40\"],\"fill_alpha\":[0.8],\"height\":[186.0],\"label\":[\"(95.996779, 97.996571]\"],\"line_alpha\":[1.0],\"line_color\":[\"black\"],\"width\":[1.9997923043628987],\"x\":[\"96.99667500000001\"],\"y\":[93.0]}},\"id\":\"62c49296-397d-4f85-886a-a872be82b81e\",\"type\":\"ColumnDataSource\"},{\"attributes\":{\"fill_alpha\":{\"field\":\"fill_alpha\"},\"fill_color\":{\"field\":\"color\"},\"height\":{\"field\":\"height\",\"units\":\"data\"},\"line_color\":{\"field\":\"line_color\"},\"width\":{\"field\":\"width\",\"units\":\"data\"},\"x\":{\"field\":\"x\"},\"y\":{\"field\":\"y\"}},\"id\":\"e4dd4a77-e6a4-48e8-b10a-b51dc6bab9af\",\"type\":\"Rect\"},{\"attributes\":{\"data_source\":{\"id\":\"b4e3d4d7-c2f7-4eba-a9b4-7b4baccb849a\",\"type\":\"ColumnDataSource\"},\"glyph\":{\"id\":\"fb2b1d49-8ace-476a-aa0c-25eab0ca9989\",\"type\":\"Rect\"},\"hover_glyph\":null,\"nonselection_glyph\":null,\"selection_glyph\":null},\"id\":\"4667f12d-5507-4b3d-8966-da77213b1f4f\",\"type\":\"GlyphRenderer\"},{\"attributes\":{\"fill_alpha\":{\"field\":\"fill_alpha\"},\"fill_color\":{\"field\":\"color\"},\"height\":{\"field\":\"height\",\"units\":\"data\"},\"line_color\":{\"field\":\"line_color\"},\"width\":{\"field\":\"width\",\"units\":\"data\"},\"x\":{\"field\":\"x\"},\"y\":{\"field\":\"y\"}},\"id\":\"6f2c6a84-3224-4dfe-ab72-d0efef44fdf4\",\"type\":\"Rect\"},{\"attributes\":{\"fill_alpha\":{\"field\":\"fill_alpha\"},\"fill_color\":{\"field\":\"color\"},\"height\":{\"field\":\"height\",\"units\":\"data\"},\"line_color\":{\"field\":\"line_color\"},\"width\":{\"field\":\"width\",\"units\":\"data\"},\"x\":{\"field\":\"x\"},\"y\":{\"field\":\"y\"}},\"id\":\"759c1c76-33e2-479d-98bb-bd6ff2c75b71\",\"type\":\"Rect\"},{\"attributes\":{\"callback\":null,\"column_names\":[\"y\",\"fill_alpha\",\"label\",\"line_alpha\",\"x\",\"line_color\",\"color\",\"height\",\"width\"],\"data\":{\"chart_index\":[\"(65.999895, 67.999687]\"],\"color\":[\"#f22c40\"],\"fill_alpha\":[0.8],\"height\":[203.0],\"label\":[\"(65.999895, 67.999687]\"],\"line_alpha\":[1.0],\"line_color\":[\"black\"],\"width\":[1.9997923043628987],\"x\":[\"66.99979099999999\"],\"y\":[101.5]}},\"id\":\"2e516377-2b5e-4c0e-a70a-08c8b79624dc\",\"type\":\"ColumnDataSource\"},{\"attributes\":{\"callback\":null,\"column_names\":[\"y\",\"fill_alpha\",\"label\",\"line_alpha\",\"x\",\"line_color\",\"color\",\"height\",\"width\"],\"data\":{\"chart_index\":[\"(73.999064, 75.998856]\"],\"color\":[\"#f22c40\"],\"fill_alpha\":[0.8],\"height\":[203.0],\"label\":[\"(73.999064, 75.998856]\"],\"line_alpha\":[1.0],\"line_color\":[\"black\"],\"width\":[1.9997923043628987],\"x\":[\"74.99896000000001\"],\"y\":[101.5]}},\"id\":\"2dea3017-2162-4452-9717-7ee910b163be\",\"type\":\"ColumnDataSource\"},{\"attributes\":{\"data_source\":{\"id\":\"de069982-4540-40ad-bcf1-5aed687c6626\",\"type\":\"ColumnDataSource\"},\"glyph\":{\"id\":\"8e584cdb-7042-4eac-887a-f41831593f02\",\"type\":\"Rect\"},\"hover_glyph\":null,\"nonselection_glyph\":null,\"selection_glyph\":null},\"id\":\"cff82850-0dd7-49cc-893e-576710031c6a\",\"type\":\"GlyphRenderer\"},{\"attributes\":{\"callback\":null,\"column_names\":[\"y\",\"fill_alpha\",\"label\",\"line_alpha\",\"x\",\"line_color\",\"color\",\"height\",\"width\"],\"data\":{\"chart_index\":[\"(32.023045, 33.573585]\"],\"color\":[\"#f22c40\"],\"fill_alpha\":[0.8],\"height\":[487.0],\"label\":[\"(32.023045, 33.573585]\"],\"line_alpha\":[1.0],\"line_color\":[\"black\"],\"width\":[1.5505400157089895],\"x\":[\"32.798315\"],\"y\":[243.5]}},\"id\":\"ad7e2e49-1bd2-427d-928c-b6d2cccb905d\",\"type\":\"ColumnDataSource\"},{\"attributes\":{\"callback\":null,\"column_names\":[\"y\",\"fill_alpha\",\"label\",\"line_alpha\",\"x\",\"line_color\",\"color\",\"height\",\"width\"],\"data\":{\"chart_index\":[\"(414.692288, 434.439297]\"],\"color\":[\"#f22c40\"],\"fill_alpha\":[0.8],\"height\":[33.0],\"label\":[\"(414.692288, 434.439297]\"],\"line_alpha\":[1.0],\"line_color\":[\"black\"],\"width\":[19.74700911880643],\"x\":[\"424.56579250000004\"],\"y\":[16.5]}},\"id\":\"b9306dc5-1ed0-4008-993e-5d727f2c5f25\",\"type\":\"ColumnDataSource\"},{\"attributes\":{\"callback\":null,\"column_names\":[\"y\",\"fill_alpha\",\"label\",\"line_alpha\",\"x\",\"line_color\",\"color\",\"height\",\"width\"],\"data\":{\"chart_index\":[\"(16.517645, 18.068185]\"],\"color\":[\"#f22c40\"],\"fill_alpha\":[0.8],\"height\":[45.0],\"label\":[\"(16.517645, 18.068185]\"],\"line_alpha\":[1.0],\"line_color\":[\"black\"],\"width\":[1.550540015708986],\"x\":[\"17.292915\"],\"y\":[22.5]}},\"id\":\"91577255-7682-42a2-a333-d74c52add7d6\",\"type\":\"ColumnDataSource\"},{\"attributes\":{\"callback\":null,\"column_names\":[\"y\",\"fill_alpha\",\"label\",\"line_alpha\",\"x\",\"line_color\",\"color\",\"height\",\"width\"],\"data\":{\"chart_index\":[\"(85.997818, 87.997610]\"],\"color\":[\"#f22c40\"],\"fill_alpha\":[0.8],\"height\":[205.0],\"label\":[\"(85.997818, 87.997610]\"],\"line_alpha\":[1.0],\"line_color\":[\"black\"],\"width\":[1.9997923043628987],\"x\":[\"86.997714\"],\"y\":[102.5]}},\"id\":\"5dc2dcae-1498-4fb8-84c8-0849e4aeac39\",\"type\":\"ColumnDataSource\"},{\"attributes\":{\"fill_alpha\":{\"field\":\"fill_alpha\"},\"fill_color\":{\"field\":\"color\"},\"height\":{\"field\":\"height\",\"units\":\"data\"},\"line_color\":{\"field\":\"line_color\"},\"width\":{\"field\":\"width\",\"units\":\"data\"},\"x\":{\"field\":\"x\"},\"y\":{\"field\":\"y\"}},\"id\":\"ea9efcaf-a218-4abf-bf0b-4f50f4e38347\",\"type\":\"Rect\"},{\"attributes\":{\"data_source\":{\"id\":\"b97a2447-d88a-438a-8d07-1fe238e4f86f\",\"type\":\"ColumnDataSource\"},\"glyph\":{\"id\":\"da3aa46d-7119-4925-bc48-c3577b03e7d5\",\"type\":\"Rect\"},\"hover_glyph\":null,\"nonselection_glyph\":null,\"selection_glyph\":null},\"id\":\"713fb8fb-509e-4617-b1c6-639ffb96c121\",\"type\":\"GlyphRenderer\"},{\"attributes\":{\"fill_alpha\":{\"field\":\"fill_alpha\"},\"fill_color\":{\"field\":\"color\"},\"height\":{\"field\":\"height\",\"units\":\"data\"},\"line_color\":{\"field\":\"line_color\"},\"width\":{\"field\":\"width\",\"units\":\"data\"},\"x\":{\"field\":\"x\"},\"y\":{\"field\":\"y\"}},\"id\":\"a8529e8e-259e-4cb3-9b33-7ebb2ff27326\",\"type\":\"Rect\"},{\"attributes\":{},\"id\":\"7d006244-b469-494d-99f6-d17c379136a2\",\"type\":\"BasicTickFormatter\"},{\"attributes\":{\"plot\":{\"id\":\"7a1cd8b3-4ad4-43a6-9e36-4c8297df94c3\",\"subtype\":\"Chart\",\"type\":\"Plot\"}},\"id\":\"788dca95-1918-42c3-980c-7ca2dd1732b2\",\"type\":\"PanTool\"},{\"attributes\":{\"data_source\":{\"id\":\"d6d58196-a30c-4436-a6cb-a3e676730dce\",\"type\":\"ColumnDataSource\"},\"glyph\":{\"id\":\"588c6f7f-fd4f-4763-b742-0e9525ddcc5d\",\"type\":\"Rect\"},\"hover_glyph\":null,\"nonselection_glyph\":null,\"selection_glyph\":null},\"id\":\"78549cb6-bb8f-40ca-88d0-679983e746cd\",\"type\":\"GlyphRenderer\"},{\"attributes\":{\"data_source\":{\"id\":\"af158fd6-b928-476c-a2fb-911ced2cb1f7\",\"type\":\"ColumnDataSource\"},\"glyph\":{\"id\":\"0bf8a483-29f0-4858-bb82-8da564b15e56\",\"type\":\"Rect\"},\"hover_glyph\":null,\"nonselection_glyph\":null,\"selection_glyph\":null},\"id\":\"13226cd4-d511-4413-b5f8-02f5ddacde7c\",\"type\":\"GlyphRenderer\"},{\"attributes\":{\"fill_alpha\":{\"field\":\"fill_alpha\"},\"fill_color\":{\"field\":\"color\"},\"height\":{\"field\":\"height\",\"units\":\"data\"},\"line_color\":{\"field\":\"line_color\"},\"width\":{\"field\":\"width\",\"units\":\"data\"},\"x\":{\"field\":\"x\"},\"y\":{\"field\":\"y\"}},\"id\":\"aae84e24-8817-46b2-9130-38bff2c7894c\",\"type\":\"Rect\"},{\"attributes\":{\"data_source\":{\"id\":\"4f556f6e-e4cf-4c69-a86c-811a32e28d6f\",\"type\":\"ColumnDataSource\"},\"glyph\":{\"id\":\"ff12e67d-d64f-4fc9-a341-5a334c493c29\",\"type\":\"Rect\"},\"hover_glyph\":null,\"nonselection_glyph\":null,\"selection_glyph\":null},\"id\":\"eb5118bf-beeb-4849-aeab-e1de24207769\",\"type\":\"GlyphRenderer\"},{\"attributes\":{\"callback\":null,\"column_names\":[\"y\",\"fill_alpha\",\"label\",\"line_alpha\",\"x\",\"line_color\",\"color\",\"height\",\"width\"],\"data\":{\"chart_index\":[\"(107.995533, 109.995325]\"],\"color\":[\"#f22c40\"],\"fill_alpha\":[0.8],\"height\":[200.0],\"label\":[\"(107.995533, 109.995325]\"],\"line_alpha\":[1.0],\"line_color\":[\"black\"],\"width\":[1.9997923043628987],\"x\":[\"108.995429\"],\"y\":[100.0]}},\"id\":\"ef6bc845-7bbf-4f3d-a090-4f20875c60be\",\"type\":\"ColumnDataSource\"},{\"attributes\":{\"plot\":null,\"text\":null},\"id\":\"5dbe535e-92bf-4dc9-8eb3-aee60e410169\",\"type\":\"Title\"},{\"attributes\":{\"callback\":null,\"column_names\":[\"y\",\"fill_alpha\",\"label\",\"line_alpha\",\"x\",\"line_color\",\"color\",\"height\",\"width\"],\"data\":{\"chart_index\":[\"(42.002387, 44.002179]\"],\"color\":[\"#f22c40\"],\"fill_alpha\":[0.8],\"height\":[217.0],\"label\":[\"(42.002387, 44.002179]\"],\"line_alpha\":[1.0],\"line_color\":[\"black\"],\"width\":[1.9997923043628987],\"x\":[\"43.002283\"],\"y\":[108.5]}},\"id\":\"dbd9bdc4-1acf-4996-a7df-0ae9fa9b6bd3\",\"type\":\"ColumnDataSource\"},{\"attributes\":{\"fill_alpha\":{\"field\":\"fill_alpha\"},\"fill_color\":{\"field\":\"color\"},\"height\":{\"field\":\"height\",\"units\":\"data\"},\"line_color\":{\"field\":\"line_color\"},\"width\":{\"field\":\"width\",\"units\":\"data\"},\"x\":{\"field\":\"x\"},\"y\":{\"field\":\"y\"}},\"id\":\"9bc0006d-d16f-490b-92b2-8849ac38b383\",\"type\":\"Rect\"},{\"attributes\":{\"callback\":null,\"column_names\":[\"y\",\"fill_alpha\",\"label\",\"line_alpha\",\"x\",\"line_color\",\"color\",\"height\",\"width\"],\"data\":{\"chart_index\":[\"(103.995948, 105.995741]\"],\"color\":[\"#f22c40\"],\"fill_alpha\":[0.8],\"height\":[206.0],\"label\":[\"(103.995948, 105.995741]\"],\"line_alpha\":[1.0],\"line_color\":[\"black\"],\"width\":[1.9997923043628987],\"x\":[\"104.9958445\"],\"y\":[103.0]}},\"id\":\"373d507b-6e2b-44dc-8fd7-054ae1c8e480\",\"type\":\"ColumnDataSource\"},{\"attributes\":{\"data_source\":{\"id\":\"4fcb1fc4-37f8-46f6-a9ae-c912175da701\",\"type\":\"ColumnDataSource\"},\"glyph\":{\"id\":\"47a75b62-9dd9-470b-9c70-6be18671dd3a\",\"type\":\"Rect\"},\"hover_glyph\":null,\"nonselection_glyph\":null,\"selection_glyph\":null},\"id\":\"72113edc-5573-4b74-92f0-c24ab9e32c20\",\"type\":\"GlyphRenderer\"},{\"attributes\":{\"callback\":null,\"column_names\":[\"y\",\"fill_alpha\",\"label\",\"line_alpha\",\"x\",\"line_color\",\"color\",\"height\",\"width\"],\"data\":{\"chart_index\":[\"(38.992603, 40.948692]\"],\"color\":[\"#f22c40\"],\"fill_alpha\":[0.8],\"height\":[200.0],\"label\":[\"(38.992603, 40.948692]\"],\"line_alpha\":[1.0],\"line_color\":[\"black\"],\"width\":[1.9560889049004047],\"x\":[\"39.9706475\"],\"y\":[100.0]}},\"id\":\"f5a395d4-28c5-404f-b842-c5223eeed422\",\"type\":\"ColumnDataSource\"},{\"attributes\":{\"data_source\":{\"id\":\"9bac23f8-359f-466c-865f-95aa584f5a01\",\"type\":\"ColumnDataSource\"},\"glyph\":{\"id\":\"2c5f3c8b-0190-4cea-949a-43ec624b1ef7\",\"type\":\"Rect\"},\"hover_glyph\":null,\"nonselection_glyph\":null,\"selection_glyph\":null},\"id\":\"d660224a-6699-4ca5-8c10-f2e96d964939\",\"type\":\"GlyphRenderer\"},{\"attributes\":{\"callback\":null,\"column_names\":[\"y\",\"fill_alpha\",\"label\",\"line_alpha\",\"x\",\"line_color\",\"color\",\"height\",\"width\"],\"data\":{\"chart_index\":[\"(4.113324, 5.663864]\"],\"color\":[\"#f22c40\"],\"fill_alpha\":[0.8],\"height\":[1.0],\"label\":[\"(4.113324, 5.663864]\"],\"line_alpha\":[1.0],\"line_color\":[\"black\"],\"width\":[1.5505400157089868],\"x\":[\"4.888594\"],\"y\":[0.5]}},\"id\":\"b49bc488-87fc-4c5f-a9ab-a0b60881424e\",\"type\":\"ColumnDataSource\"},{\"attributes\":{\"fill_alpha\":{\"field\":\"fill_alpha\"},\"fill_color\":{\"field\":\"color\"},\"height\":{\"field\":\"height\",\"units\":\"data\"},\"line_color\":{\"field\":\"line_color\"},\"width\":{\"field\":\"width\",\"units\":\"data\"},\"x\":{\"field\":\"x\"},\"y\":{\"field\":\"y\"}},\"id\":\"32d534cf-54fa-4ed3-8fc0-08bf8ce2b38b\",\"type\":\"Rect\"},{\"attributes\":{\"data_source\":{\"id\":\"4dcd9ddf-11b5-4855-b7c3-971a3fddafc7\",\"type\":\"ColumnDataSource\"},\"glyph\":{\"id\":\"db23a2ba-03f4-4e12-b919-4f421a29aac4\",\"type\":\"Rect\"},\"hover_glyph\":null,\"nonselection_glyph\":null,\"selection_glyph\":null},\"id\":\"07e76078-d760-44ec-8305-3071948f4fc8\",\"type\":\"GlyphRenderer\"},{\"attributes\":{\"data_source\":{\"id\":\"491a75d3-24c8-41a1-9bc9-d75a8822d02e\",\"type\":\"ColumnDataSource\"},\"glyph\":{\"id\":\"bffea19e-5314-4b44-bea5-04a6d5ca5a90\",\"type\":\"Rect\"},\"hover_glyph\":null,\"nonselection_glyph\":null,\"selection_glyph\":null},\"id\":\"f4d4d4c0-a416-406c-b971-a5d95e727a8b\",\"type\":\"GlyphRenderer\"},{\"attributes\":{\"fill_alpha\":{\"field\":\"fill_alpha\"},\"fill_color\":{\"field\":\"color\"},\"height\":{\"field\":\"height\",\"units\":\"data\"},\"line_color\":{\"field\":\"line_color\"},\"width\":{\"field\":\"width\",\"units\":\"data\"},\"x\":{\"field\":\"x\"},\"y\":{\"field\":\"y\"}},\"id\":\"a1b3cc6a-d074-43d8-a6b8-a5f435c3896d\",\"type\":\"Rect\"},{\"attributes\":{\"dimension\":1,\"plot\":{\"id\":\"42cfec60-226a-4b10-b05a-c87660a395df\",\"subtype\":\"Chart\",\"type\":\"Plot\"},\"ticker\":{\"id\":\"22143703-3f79-4c8c-aa05-1ee5cf1093e5\",\"type\":\"BasicTicker\"}},\"id\":\"e7555eca-df05-4d50-a14d-2c00aad45a43\",\"type\":\"Grid\"},{\"attributes\":{\"fill_alpha\":{\"field\":\"fill_alpha\"},\"fill_color\":{\"field\":\"color\"},\"height\":{\"field\":\"height\",\"units\":\"data\"},\"line_color\":{\"field\":\"line_color\"},\"width\":{\"field\":\"width\",\"units\":\"data\"},\"x\":{\"field\":\"x\"},\"y\":{\"field\":\"y\"}},\"id\":\"6240105a-5d03-4b72-bacc-06e1f5e40c51\",\"type\":\"Rect\"},{\"attributes\":{\"data_source\":{\"id\":\"0621f785-5802-4361-aa36-a9edac61a1c6\",\"type\":\"ColumnDataSource\"},\"glyph\":{\"id\":\"cfe73879-b1e4-45c1-b1dc-a860a2d5f723\",\"type\":\"Rect\"},\"hover_glyph\":null,\"nonselection_glyph\":null,\"selection_glyph\":null},\"id\":\"8ace3293-e61c-4ca4-bfca-520ef28fd18f\",\"type\":\"GlyphRenderer\"},{\"attributes\":{\"data_source\":{\"id\":\"26097bf6-ada7-42cd-bb7c-add175b4e5e6\",\"type\":\"ColumnDataSource\"},\"glyph\":{\"id\":\"cb7b6935-06ad-45b7-a490-305592da2fc0\",\"type\":\"Rect\"},\"hover_glyph\":null,\"nonselection_glyph\":null,\"selection_glyph\":null},\"id\":\"e5b659c9-5b08-4f93-bb14-71e229896a95\",\"type\":\"GlyphRenderer\"},{\"attributes\":{\"fill_alpha\":{\"field\":\"fill_alpha\"},\"fill_color\":{\"field\":\"color\"},\"height\":{\"field\":\"height\",\"units\":\"data\"},\"line_color\":{\"field\":\"line_color\"},\"width\":{\"field\":\"width\",\"units\":\"data\"},\"x\":{\"field\":\"x\"},\"y\":{\"field\":\"y\"}},\"id\":\"8e584cdb-7042-4eac-887a-f41831593f02\",\"type\":\"Rect\"},{\"attributes\":{\"callback\":null,\"column_names\":[\"y\",\"fill_alpha\",\"label\",\"line_alpha\",\"x\",\"line_color\",\"color\",\"height\",\"width\"],\"data\":{\"chart_index\":[\"(23.343891, 25.299980]\"],\"color\":[\"#f22c40\"],\"fill_alpha\":[0.8],\"height\":[42.0],\"label\":[\"(23.343891, 25.299980]\"],\"line_alpha\":[1.0],\"line_color\":[\"black\"],\"width\":[1.9560889049004082],\"x\":[\"24.321935500000002\"],\"y\":[21.0]}},\"id\":\"a9346f39-cd4d-4275-b556-76704982b41f\",\"type\":\"ColumnDataSource\"},{\"attributes\":{\"callback\":null,\"column_names\":[\"y\",\"fill_alpha\",\"label\",\"line_alpha\",\"x\",\"line_color\",\"color\",\"height\",\"width\"],\"data\":{\"chart_index\":[\"(217.222197, 236.969206]\"],\"color\":[\"#f22c40\"],\"fill_alpha\":[0.8],\"height\":[214.0],\"label\":[\"(217.222197, 236.969206]\"],\"line_alpha\":[1.0],\"line_color\":[\"black\"],\"width\":[19.747009118806403],\"x\":[\"227.09570150000002\"],\"y\":[107.0]}},\"id\":\"17ba9708-0766-4ac3-8d45-0a644241b3fc\",\"type\":\"ColumnDataSource\"},{\"attributes\":{\"fill_alpha\":{\"field\":\"fill_alpha\"},\"fill_color\":{\"field\":\"color\"},\"height\":{\"field\":\"height\",\"units\":\"data\"},\"line_color\":{\"field\":\"line_color\"},\"width\":{\"field\":\"width\",\"units\":\"data\"},\"x\":{\"field\":\"x\"},\"y\":{\"field\":\"y\"}},\"id\":\"05dfaea2-ed66-44d6-9c65-af1932eb34cb\",\"type\":\"Rect\"},{\"attributes\":{\"callback\":null,\"column_names\":[\"y\",\"fill_alpha\",\"label\",\"line_alpha\",\"x\",\"line_color\",\"color\",\"height\",\"width\"],\"data\":{\"chart_index\":[\"(434.439297, 454.186307]\"],\"color\":[\"#f22c40\"],\"fill_alpha\":[0.8],\"height\":[25.0],\"label\":[\"(434.439297, 454.186307]\"],\"line_alpha\":[1.0],\"line_color\":[\"black\"],\"width\":[19.747009118806375],\"x\":[\"444.31280200000003\"],\"y\":[12.5]}},\"id\":\"33d86223-eb56-402c-baee-6be20b2f430a\",\"type\":\"ColumnDataSource\"},{\"attributes\":{\"callback\":null,\"column_names\":[\"y\",\"fill_alpha\",\"label\",\"line_alpha\",\"x\",\"line_color\",\"color\",\"height\",\"width\"],\"data\":{\"chart_index\":[\"(5.663864, 7.214404]\"],\"color\":[\"#f22c40\"],\"fill_alpha\":[0.8],\"height\":[1.0],\"label\":[\"(5.663864, 7.214404]\"],\"line_alpha\":[1.0],\"line_color\":[\"black\"],\"width\":[1.5505400157089868],\"x\":[\"6.439134\"],\"y\":[0.5]}},\"id\":\"31da0fbc-8f68-47fe-a7d4-baa57e713217\",\"type\":\"ColumnDataSource\"},{\"attributes\":{\"fill_alpha\":{\"field\":\"fill_alpha\"},\"fill_color\":{\"field\":\"color\"},\"height\":{\"field\":\"height\",\"units\":\"data\"},\"line_color\":{\"field\":\"line_color\"},\"width\":{\"field\":\"width\",\"units\":\"data\"},\"x\":{\"field\":\"x\"},\"y\":{\"field\":\"y\"}},\"id\":\"51b6f706-7c4e-4ebc-bc87-1e816ead747e\",\"type\":\"Rect\"},{\"attributes\":{\"fill_alpha\":{\"field\":\"fill_alpha\"},\"fill_color\":{\"field\":\"color\"},\"height\":{\"field\":\"height\",\"units\":\"data\"},\"line_color\":{\"field\":\"line_color\"},\"width\":{\"field\":\"width\",\"units\":\"data\"},\"x\":{\"field\":\"x\"},\"y\":{\"field\":\"y\"}},\"id\":\"938a336e-9449-4f89-a19a-fb2c13993bba\",\"type\":\"Rect\"},{\"attributes\":{\"data_source\":{\"id\":\"223d7369-91d0-4012-b8e6-be5914294e58\",\"type\":\"ColumnDataSource\"},\"glyph\":{\"id\":\"76b67f08-eb1d-43e5-a7d0-d094e14980b1\",\"type\":\"Rect\"},\"hover_glyph\":null,\"nonselection_glyph\":null,\"selection_glyph\":null},\"id\":\"080fe3bb-6622-49ad-a2bb-4719f2e8203c\",\"type\":\"GlyphRenderer\"},{\"attributes\":{\"callback\":null,\"column_names\":[\"y\",\"fill_alpha\",\"label\",\"line_alpha\",\"x\",\"line_color\",\"color\",\"height\",\"width\"],\"data\":{\"chart_index\":[\"(66.377847, 68.333936]\"],\"color\":[\"#f22c40\"],\"fill_alpha\":[0.8],\"height\":[307.0],\"label\":[\"(66.377847, 68.333936]\"],\"line_alpha\":[1.0],\"line_color\":[\"black\"],\"width\":[1.9560889049004118],\"x\":[\"67.3558915\"],\"y\":[153.5]}},\"id\":\"b06ec6ed-5203-485d-a5f6-e1c3d1563cea\",\"type\":\"ColumnDataSource\"},{\"attributes\":{\"callback\":null,\"column_names\":[\"y\",\"fill_alpha\",\"label\",\"line_alpha\",\"x\",\"line_color\",\"color\",\"height\",\"width\"],\"data\":{\"chart_index\":[\"(11.866025, 13.416565]\"],\"color\":[\"#f22c40\"],\"fill_alpha\":[0.8],\"height\":[16.0],\"label\":[\"(11.866025, 13.416565]\"],\"line_alpha\":[1.0],\"line_color\":[\"black\"],\"width\":[1.550540015708986],\"x\":[\"12.641295\"],\"y\":[8.0]}},\"id\":\"84455913-171c-45d6-b3b6-d364f94117dd\",\"type\":\"ColumnDataSource\"},{\"attributes\":{\"data_source\":{\"id\":\"54fe45f3-e5b1-4762-8cd7-d989bf2fd8d2\",\"type\":\"ColumnDataSource\"},\"glyph\":{\"id\":\"0df606f8-7e3d-4204-9c39-0edee9cf15b8\",\"type\":\"Rect\"},\"hover_glyph\":null,\"nonselection_glyph\":null,\"selection_glyph\":null},\"id\":\"8138a81f-e336-4af4-baf5-3581e4ad8b1c\",\"type\":\"GlyphRenderer\"},{\"attributes\":{\"fill_alpha\":{\"field\":\"fill_alpha\"},\"fill_color\":{\"field\":\"color\"},\"height\":{\"field\":\"height\",\"units\":\"data\"},\"line_color\":{\"field\":\"line_color\"},\"width\":{\"field\":\"width\",\"units\":\"data\"},\"x\":{\"field\":\"x\"},\"y\":{\"field\":\"y\"}},\"id\":\"d75a17df-bcd2-4e6f-887a-c02edabfedc1\",\"type\":\"Rect\"},{\"attributes\":{\"data_source\":{\"id\":\"68d4ff1a-5e9d-4dc1-99ac-8f2d2ba80f5c\",\"type\":\"ColumnDataSource\"},\"glyph\":{\"id\":\"323d5360-327e-4ced-a8cd-3cc81d4203e5\",\"type\":\"Rect\"},\"hover_glyph\":null,\"nonselection_glyph\":null,\"selection_glyph\":null},\"id\":\"f28d907e-1cef-483e-8d92-b920ea6196b1\",\"type\":\"GlyphRenderer\"},{\"attributes\":{\"bottom_units\":\"screen\",\"fill_alpha\":{\"value\":0.5},\"fill_color\":{\"value\":\"lightgrey\"},\"left_units\":\"screen\",\"level\":\"overlay\",\"line_alpha\":{\"value\":1.0},\"line_color\":{\"value\":\"black\"},\"line_dash\":[4,4],\"line_width\":{\"value\":2},\"plot\":null,\"render_mode\":\"css\",\"right_units\":\"screen\",\"top_units\":\"screen\"},\"id\":\"113154cd-7598-47dd-867a-c0f401c38521\",\"type\":\"BoxAnnotation\"},{\"attributes\":{\"data_source\":{\"id\":\"926bc1d3-073d-4602-a271-91ae97997b5c\",\"type\":\"ColumnDataSource\"},\"glyph\":{\"id\":\"d5cf1d1f-c33d-48f2-9732-a7d52d53718b\",\"type\":\"Rect\"},\"hover_glyph\":null,\"nonselection_glyph\":null,\"selection_glyph\":null},\"id\":\"0953af82-2b67-4318-868d-d64308ed16b1\",\"type\":\"GlyphRenderer\"},{\"attributes\":{\"callback\":null,\"column_names\":[\"y\",\"fill_alpha\",\"label\",\"line_alpha\",\"x\",\"line_color\",\"color\",\"height\",\"width\"],\"data\":{\"chart_index\":[\"(68.333936, 70.290025]\"],\"color\":[\"#f22c40\"],\"fill_alpha\":[0.8],\"height\":[315.0],\"label\":[\"(68.333936, 70.290025]\"],\"line_alpha\":[1.0],\"line_color\":[\"black\"],\"width\":[1.9560889049004118],\"x\":[\"69.3119805\"],\"y\":[157.5]}},\"id\":\"32a85188-7978-4ed6-b44d-15ae01c78dac\",\"type\":\"ColumnDataSource\"},{\"attributes\":{\"callback\":null,\"column_names\":[\"y\",\"fill_alpha\",\"label\",\"line_alpha\",\"x\",\"line_color\",\"color\",\"height\",\"width\"],\"data\":{\"chart_index\":[\"(44.427365, 45.977905]\"],\"color\":[\"#f22c40\"],\"fill_alpha\":[0.8],\"height\":[594.0],\"label\":[\"(44.427365, 45.977905]\"],\"line_alpha\":[1.0],\"line_color\":[\"black\"],\"width\":[1.5505400157089895],\"x\":[\"45.202635\"],\"y\":[297.0]}},\"id\":\"3709ef53-b793-48f9-a4b2-5032835a703b\",\"type\":\"ColumnDataSource\"},{\"attributes\":{\"fill_alpha\":{\"field\":\"fill_alpha\"},\"fill_color\":{\"field\":\"color\"},\"height\":{\"field\":\"height\",\"units\":\"data\"},\"line_color\":{\"field\":\"line_color\"},\"width\":{\"field\":\"width\",\"units\":\"data\"},\"x\":{\"field\":\"x\"},\"y\":{\"field\":\"y\"}},\"id\":\"5cb65332-0b50-40e4-8c0c-ed2a69056586\",\"type\":\"Rect\"},{\"attributes\":{\"callback\":null,\"column_names\":[\"y\",\"fill_alpha\",\"label\",\"line_alpha\",\"x\",\"line_color\",\"color\",\"height\",\"width\"],\"data\":{\"chart_index\":[\"(75.998856, 77.998648]\"],\"color\":[\"#f22c40\"],\"fill_alpha\":[0.8],\"height\":[199.0],\"label\":[\"(75.998856, 77.998648]\"],\"line_alpha\":[1.0],\"line_color\":[\"black\"],\"width\":[1.9997923043628987],\"x\":[\"76.998752\"],\"y\":[99.5]}},\"id\":\"9bac23f8-359f-466c-865f-95aa584f5a01\",\"type\":\"ColumnDataSource\"},{\"attributes\":{\"data_source\":{\"id\":\"4665e09e-fe20-4ac0-96a9-1d7839577b40\",\"type\":\"ColumnDataSource\"},\"glyph\":{\"id\":\"8a9f45fc-72da-4093-b00d-2a7bc3c1c405\",\"type\":\"Rect\"},\"hover_glyph\":null,\"nonselection_glyph\":null,\"selection_glyph\":null},\"id\":\"1b4451e0-9015-4f87-baa7-9c96090f946e\",\"type\":\"GlyphRenderer\"},{\"attributes\":{\"fill_alpha\":{\"field\":\"fill_alpha\"},\"fill_color\":{\"field\":\"color\"},\"height\":{\"field\":\"height\",\"units\":\"data\"},\"line_color\":{\"field\":\"line_color\"},\"width\":{\"field\":\"width\",\"units\":\"data\"},\"x\":{\"field\":\"x\"},\"y\":{\"field\":\"y\"}},\"id\":\"fda24bc3-00ac-4d04-9410-7c8b0c1048dc\",\"type\":\"Rect\"},{\"attributes\":{\"callback\":null,\"column_names\":[\"y\",\"fill_alpha\",\"label\",\"line_alpha\",\"x\",\"line_color\",\"color\",\"height\",\"width\"],\"data\":{\"chart_index\":[\"(22.004464, 24.004256]\"],\"color\":[\"#f22c40\"],\"fill_alpha\":[0.8],\"height\":[230.0],\"label\":[\"(22.004464, 24.004256]\"],\"line_alpha\":[1.0],\"line_color\":[\"black\"],\"width\":[1.9997923043628987],\"x\":[\"23.00436\"],\"y\":[115.0]}},\"id\":\"12a35edb-01f5-4218-912d-242894b3b978\",\"type\":\"ColumnDataSource\"},{\"attributes\":{\"callback\":null,\"column_names\":[\"y\",\"fill_alpha\",\"label\",\"line_alpha\",\"x\",\"line_color\",\"color\",\"height\",\"width\"],\"data\":{\"chart_index\":[\"(572.668361, 592.415370]\"],\"color\":[\"#f22c40\"],\"fill_alpha\":[0.8],\"height\":[4.0],\"label\":[\"(572.668361, 592.415370]\"],\"line_alpha\":[1.0],\"line_color\":[\"black\"],\"width\":[19.747009118806318],\"x\":[\"582.5418655000001\"],\"y\":[2.0]}},\"id\":\"c4861ef0-a587-47ce-9703-d6d35117eb43\",\"type\":\"ColumnDataSource\"},{\"attributes\":{\"fill_alpha\":{\"field\":\"fill_alpha\"},\"fill_color\":{\"field\":\"color\"},\"height\":{\"field\":\"height\",\"units\":\"data\"},\"line_color\":{\"field\":\"line_color\"},\"width\":{\"field\":\"width\",\"units\":\"data\"},\"x\":{\"field\":\"x\"},\"y\":{\"field\":\"y\"}},\"id\":\"88c3ba2f-c4b4-49ca-b267-cca20fbdb0f4\",\"type\":\"Rect\"},{\"attributes\":{\"plot\":{\"id\":\"ebf80998-1d9b-4911-98bb-96a6b2bac537\",\"subtype\":\"Chart\",\"type\":\"Plot\"}},\"id\":\"616a64c6-f255-4d0e-96f7-4895b8e16b52\",\"type\":\"PanTool\"},{\"attributes\":{},\"id\":\"0a2f0aa6-c8f3-4c41-90ea-b84362b2af10\",\"type\":\"BasicTicker\"},{\"attributes\":{\"callback\":null,\"column_names\":[\"y\",\"fill_alpha\",\"label\",\"line_alpha\",\"x\",\"line_color\",\"color\",\"height\",\"width\"],\"data\":{\"chart_index\":[\"(53.730605, 55.281145]\"],\"color\":[\"#f22c40\"],\"fill_alpha\":[0.8],\"height\":[212.0],\"label\":[\"(53.730605, 55.281145]\"],\"line_alpha\":[1.0],\"line_color\":[\"black\"],\"width\":[1.5505400157089824],\"x\":[\"54.505875\"],\"y\":[106.0]}},\"id\":\"7d716517-353d-475f-9871-b392f0b91207\",\"type\":\"ColumnDataSource\"},{\"attributes\":{\"data_source\":{\"id\":\"ecd9d717-3f9b-4ff2-ad13-51e0f01387b3\",\"type\":\"ColumnDataSource\"},\"glyph\":{\"id\":\"1598bce7-1c80-4890-a00e-cbef8118813d\",\"type\":\"Rect\"},\"hover_glyph\":null,\"nonselection_glyph\":null,\"selection_glyph\":null},\"id\":\"7731e8c1-312c-44dc-99ce-58a626c0920e\",\"type\":\"GlyphRenderer\"},{\"attributes\":{\"callback\":null,\"column_names\":[\"y\",\"fill_alpha\",\"label\",\"line_alpha\",\"x\",\"line_color\",\"color\",\"height\",\"width\"],\"data\":{\"chart_index\":[\"(28.921965, 30.472505]\"],\"color\":[\"#f22c40\"],\"fill_alpha\":[0.8],\"height\":[375.0],\"label\":[\"(28.921965, 30.472505]\"],\"line_alpha\":[1.0],\"line_color\":[\"black\"],\"width\":[1.550540015708986],\"x\":[\"29.697235\"],\"y\":[187.5]}},\"id\":\"48298d5f-1a57-4983-b159-e8ccf10378e6\",\"type\":\"ColumnDataSource\"},{\"attributes\":{\"callback\":null,\"column_names\":[\"y\",\"fill_alpha\",\"label\",\"line_alpha\",\"x\",\"line_color\",\"color\",\"height\",\"width\"],\"data\":{\"chart_index\":[\"(691.150416, 710.897425]\"],\"color\":[\"#f22c40\"],\"fill_alpha\":[0.8],\"height\":[2.0],\"label\":[\"(691.150416, 710.897425]\"],\"line_alpha\":[1.0],\"line_color\":[\"black\"],\"width\":[19.74700911880643],\"x\":[\"701.0239205\"],\"y\":[1.0]}},\"id\":\"86953428-26c0-4912-ad47-7cbc85e97dd0\",\"type\":\"ColumnDataSource\"},{\"attributes\":{\"callback\":null,\"column_names\":[\"y\",\"fill_alpha\",\"label\",\"line_alpha\",\"x\",\"line_color\",\"color\",\"height\",\"width\"],\"data\":{\"chart_index\":[\"(99.631359, 101.587448]\"],\"color\":[\"#f22c40\"],\"fill_alpha\":[0.8],\"height\":[186.0],\"label\":[\"(99.631359, 101.587448]\"],\"line_alpha\":[1.0],\"line_color\":[\"black\"],\"width\":[1.9560889049003833],\"x\":[\"100.6094035\"],\"y\":[93.0]}},\"id\":\"4fcb1fc4-37f8-46f6-a9ae-c912175da701\",\"type\":\"ColumnDataSource\"},{\"attributes\":{\"callback\":null,\"column_names\":[\"y\",\"fill_alpha\",\"label\",\"line_alpha\",\"x\",\"line_color\",\"color\",\"height\",\"width\"],\"data\":{\"chart_index\":[\"(93.763092, 95.719181]\"],\"color\":[\"#f22c40\"],\"fill_alpha\":[0.8],\"height\":[210.0],\"label\":[\"(93.763092, 95.719181]\"],\"line_alpha\":[1.0],\"line_color\":[\"black\"],\"width\":[1.9560889049004118],\"x\":[\"94.74113650000001\"],\"y\":[105.0]}},\"id\":\"62f94850-96cd-4961-873a-d71a7f29996c\",\"type\":\"ColumnDataSource\"},{\"attributes\":{\"data_source\":{\"id\":\"32a85188-7978-4ed6-b44d-15ae01c78dac\",\"type\":\"ColumnDataSource\"},\"glyph\":{\"id\":\"d88b7c50-616b-4294-a74d-e5487e35197e\",\"type\":\"Rect\"},\"hover_glyph\":null,\"nonselection_glyph\":null,\"selection_glyph\":null},\"id\":\"061a94e6-69e4-49c4-ad64-e62ceccc7b7d\",\"type\":\"GlyphRenderer\"},{\"attributes\":{\"data_source\":{\"id\":\"2726d15b-d265-4c9b-95eb-226ad1ef2075\",\"type\":\"ColumnDataSource\"},\"glyph\":{\"id\":\"803ad6a0-ea7a-414d-89ba-c9a451cf896b\",\"type\":\"Rect\"},\"hover_glyph\":null,\"nonselection_glyph\":null,\"selection_glyph\":null},\"id\":\"6c3d2aaa-88e9-41cd-ae30-9a8a8feaecd5\",\"type\":\"GlyphRenderer\"},{\"attributes\":{\"callback\":null,\"column_names\":[\"y\",\"fill_alpha\",\"label\",\"line_alpha\",\"x\",\"line_color\",\"color\",\"height\",\"width\"],\"data\":{\"chart_index\":[\"(52.685225, 54.641314]\"],\"color\":[\"#f22c40\"],\"fill_alpha\":[0.8],\"height\":[253.0],\"label\":[\"(52.685225, 54.641314]\"],\"line_alpha\":[1.0],\"line_color\":[\"black\"],\"width\":[1.9560889049004047],\"x\":[\"53.6632695\"],\"y\":[126.5]}},\"id\":\"26097bf6-ada7-42cd-bb7c-add175b4e5e6\",\"type\":\"ColumnDataSource\"},{\"attributes\":{\"fill_alpha\":{\"field\":\"fill_alpha\"},\"fill_color\":{\"field\":\"color\"},\"height\":{\"field\":\"height\",\"units\":\"data\"},\"line_color\":{\"field\":\"line_color\"},\"width\":{\"field\":\"width\",\"units\":\"data\"},\"x\":{\"field\":\"x\"},\"y\":{\"field\":\"y\"}},\"id\":\"d06f02c6-8056-47bb-bc28-fc176ffd2f71\",\"type\":\"Rect\"},{\"attributes\":{\"callback\":null,\"column_names\":[\"y\",\"fill_alpha\",\"label\",\"line_alpha\",\"x\",\"line_color\",\"color\",\"height\",\"width\"],\"data\":{\"chart_index\":[\"(35.080425, 37.036514]\"],\"color\":[\"#f22c40\"],\"fill_alpha\":[0.8],\"height\":[149.0],\"label\":[\"(35.080425, 37.036514]\"],\"line_alpha\":[1.0],\"line_color\":[\"black\"],\"width\":[1.9560889049004118],\"x\":[\"36.0584695\"],\"y\":[74.5]}},\"id\":\"6181ac2f-f66f-4f6f-9aff-a899cf656e28\",\"type\":\"ColumnDataSource\"},{\"attributes\":{\"callback\":null,\"column_names\":[\"y\",\"fill_alpha\",\"label\",\"line_alpha\",\"x\",\"line_color\",\"color\",\"height\",\"width\"],\"data\":{\"chart_index\":[\"[0.005097, 19.752106]\"],\"color\":[\"#f22c40\"],\"fill_alpha\":[0.8],\"height\":[1745.0],\"label\":[\"[0.005097, 19.752106]\"],\"line_alpha\":[1.0],\"line_color\":[\"black\"],\"width\":[19.74700911880641],\"x\":[\"9.8786015\"],\"y\":[872.5]}},\"id\":\"9354a8c4-1dad-4622-aa90-4b21279930b8\",\"type\":\"ColumnDataSource\"},{\"attributes\":{\"data_source\":{\"id\":\"91577255-7682-42a2-a333-d74c52add7d6\",\"type\":\"ColumnDataSource\"},\"glyph\":{\"id\":\"938a336e-9449-4f89-a19a-fb2c13993bba\",\"type\":\"Rect\"},\"hover_glyph\":null,\"nonselection_glyph\":null,\"selection_glyph\":null},\"id\":\"7034b9c3-80ad-4f8b-aaed-178a661e4200\",\"type\":\"GlyphRenderer\"},{\"attributes\":{\"data_source\":{\"id\":\"353a0c5b-e051-4a09-b8fc-ac12e695b3db\",\"type\":\"ColumnDataSource\"},\"glyph\":{\"id\":\"a3b3eb76-66c7-4f0a-88b8-1665c6692ef7\",\"type\":\"Rect\"},\"hover_glyph\":null,\"nonselection_glyph\":null,\"selection_glyph\":null},\"id\":\"58d8c0ae-d7be-422a-a93c-5538ba8da203\",\"type\":\"GlyphRenderer\"},{\"attributes\":{\"data_source\":{\"id\":\"e1efdeae-1084-4e5b-affe-80360b94afe9\",\"type\":\"ColumnDataSource\"},\"glyph\":{\"id\":\"8b69af00-2580-4026-a4ad-b9ba6168cc49\",\"type\":\"Rect\"},\"hover_glyph\":null,\"nonselection_glyph\":null,\"selection_glyph\":null},\"id\":\"32fce07a-708d-4360-a7bc-dbc47cda6b46\",\"type\":\"GlyphRenderer\"},{\"attributes\":{\"callback\":null,\"column_names\":[\"y\",\"fill_alpha\",\"label\",\"line_alpha\",\"x\",\"line_color\",\"color\",\"height\",\"width\"],\"data\":{\"chart_index\":[\"(87.894825, 89.850914]\"],\"color\":[\"#f22c40\"],\"fill_alpha\":[0.8],\"height\":[265.0],\"label\":[\"(87.894825, 89.850914]\"],\"line_alpha\":[1.0],\"line_color\":[\"black\"],\"width\":[1.9560889049004118],\"x\":[\"88.87286950000001\"],\"y\":[132.5]}},\"id\":\"84544d48-c96d-4d04-a8f8-4ff1f771a7d0\",\"type\":\"ColumnDataSource\"},{\"attributes\":{\"callback\":null,\"column_names\":[\"y\",\"fill_alpha\",\"label\",\"line_alpha\",\"x\",\"line_color\",\"color\",\"height\",\"width\"],\"data\":{\"chart_index\":[\"(76.158292, 78.114381]\"],\"color\":[\"#f22c40\"],\"fill_alpha\":[0.8],\"height\":[260.0],\"label\":[\"(76.158292, 78.114381]\"],\"line_alpha\":[1.0],\"line_color\":[\"black\"],\"width\":[1.9560889049004118],\"x\":[\"77.1363365\"],\"y\":[130.0]}},\"id\":\"25f119ca-2278-45eb-9e76-3f53153a80d8\",\"type\":\"ColumnDataSource\"},{\"attributes\":{\"fill_alpha\":{\"field\":\"fill_alpha\"},\"fill_color\":{\"field\":\"color\"},\"height\":{\"field\":\"height\",\"units\":\"data\"},\"line_color\":{\"field\":\"line_color\"},\"width\":{\"field\":\"width\",\"units\":\"data\"},\"x\":{\"field\":\"x\"},\"y\":{\"field\":\"y\"}},\"id\":\"8adc132c-9c7f-4412-bc6a-b12360ad0c83\",\"type\":\"Rect\"},{\"attributes\":{\"fill_alpha\":{\"field\":\"fill_alpha\"},\"fill_color\":{\"field\":\"color\"},\"height\":{\"field\":\"height\",\"units\":\"data\"},\"line_color\":{\"field\":\"line_color\"},\"width\":{\"field\":\"width\",\"units\":\"data\"},\"x\":{\"field\":\"x\"},\"y\":{\"field\":\"y\"}},\"id\":\"8d8f655c-1639-4d9d-a03c-9a9521d5b502\",\"type\":\"Rect\"},{\"attributes\":{},\"id\":\"0384cc9a-151d-44db-9eb8-a16e07bad895\",\"type\":\"BasicTicker\"},{\"attributes\":{\"data_source\":{\"id\":\"f301d7e4-f49d-43f9-a71e-277a62556f9f\",\"type\":\"ColumnDataSource\"},\"glyph\":{\"id\":\"65c475d3-767b-4c1e-826b-ab7b0e030772\",\"type\":\"Rect\"},\"hover_glyph\":null,\"nonselection_glyph\":null,\"selection_glyph\":null},\"id\":\"251185f7-49ea-49ef-9515-312ba5bd7b4f\",\"type\":\"GlyphRenderer\"},{\"attributes\":{\"data_source\":{\"id\":\"7246d587-0367-4c02-a339-697b5b4ea7be\",\"type\":\"ColumnDataSource\"},\"glyph\":{\"id\":\"a00ff080-53a5-4a61-befc-99f235d32ec5\",\"type\":\"Rect\"},\"hover_glyph\":null,\"nonselection_glyph\":null,\"selection_glyph\":null},\"id\":\"af890a3f-3622-4cd2-801c-3c0b2b48985f\",\"type\":\"GlyphRenderer\"},{\"attributes\":{\"callback\":null,\"column_names\":[\"y\",\"fill_alpha\",\"label\",\"line_alpha\",\"x\",\"line_color\",\"color\",\"height\",\"width\"],\"data\":{\"chart_index\":[\"(73.887625, 75.438165]\"],\"color\":[\"#f22c40\"],\"fill_alpha\":[0.8],\"height\":[0.0],\"label\":[\"(73.887625, 75.438165]\"],\"line_alpha\":[1.0],\"line_color\":[\"black\"],\"width\":[1.5505400157089895],\"x\":[\"74.66289499999999\"],\"y\":[0.0]}},\"id\":\"3f0009f5-0c3e-4986-9cd8-9ffca432d35d\",\"type\":\"ColumnDataSource\"},{\"attributes\":{\"data_source\":{\"id\":\"662659e1-49f1-4162-b077-9d9ae0cc7b30\",\"type\":\"ColumnDataSource\"},\"glyph\":{\"id\":\"95604688-ab9a-4e83-a276-b0697aa8cb27\",\"type\":\"Rect\"},\"hover_glyph\":null,\"nonselection_glyph\":null,\"selection_glyph\":null},\"id\":\"051ad4d2-d2b0-4583-b12d-7939b100619f\",\"type\":\"GlyphRenderer\"},{\"attributes\":{\"data_source\":{\"id\":\"c4861ef0-a587-47ce-9703-d6d35117eb43\",\"type\":\"ColumnDataSource\"},\"glyph\":{\"id\":\"198eaef3-0f65-49e6-b426-04f7298ddf4a\",\"type\":\"Rect\"},\"hover_glyph\":null,\"nonselection_glyph\":null,\"selection_glyph\":null},\"id\":\"aff9d93d-6a4b-46c8-92e5-9cfd915cd5e0\",\"type\":\"GlyphRenderer\"},{\"attributes\":{\"fill_alpha\":{\"field\":\"fill_alpha\"},\"fill_color\":{\"field\":\"color\"},\"height\":{\"field\":\"height\",\"units\":\"data\"},\"line_color\":{\"field\":\"line_color\"},\"width\":{\"field\":\"width\",\"units\":\"data\"},\"x\":{\"field\":\"x\"},\"y\":{\"field\":\"y\"}},\"id\":\"eb35ae61-ebe5-4d87-8aac-6252bbfec561\",\"type\":\"Rect\"},{\"attributes\":{\"data_source\":{\"id\":\"ac2189f0-380a-4c6b-9f17-f6e366a27d69\",\"type\":\"ColumnDataSource\"},\"glyph\":{\"id\":\"81306d3b-0605-4b1c-988b-c78749515351\",\"type\":\"Rect\"},\"hover_glyph\":null,\"nonselection_glyph\":null,\"selection_glyph\":null},\"id\":\"f4fc78d7-08b4-4bd9-8f88-8e77098fcdaf\",\"type\":\"GlyphRenderer\"},{\"attributes\":{\"data_source\":{\"id\":\"9648e2ec-6030-4025-bef7-f898e5180590\",\"type\":\"ColumnDataSource\"},\"glyph\":{\"id\":\"c7f6ccdd-5757-4843-9bd6-cb46edd1c997\",\"type\":\"Rect\"},\"hover_glyph\":null,\"nonselection_glyph\":null,\"selection_glyph\":null},\"id\":\"e4a86b95-9b1d-4dda-b939-6cad56427be0\",\"type\":\"GlyphRenderer\"},{\"attributes\":{\"data_source\":{\"id\":\"34d8bd31-aa6a-4838-92eb-25a363fcacd8\",\"type\":\"ColumnDataSource\"},\"glyph\":{\"id\":\"5cb65332-0b50-40e4-8c0c-ed2a69056586\",\"type\":\"Rect\"},\"hover_glyph\":null,\"nonselection_glyph\":null,\"selection_glyph\":null},\"id\":\"62f4f982-d48f-49fb-8962-04b92511d6d6\",\"type\":\"GlyphRenderer\"},{\"attributes\":{\"fill_alpha\":{\"field\":\"fill_alpha\"},\"fill_color\":{\"field\":\"color\"},\"height\":{\"field\":\"height\",\"units\":\"data\"},\"line_color\":{\"field\":\"line_color\"},\"width\":{\"field\":\"width\",\"units\":\"data\"},\"x\":{\"field\":\"x\"},\"y\":{\"field\":\"y\"}},\"id\":\"48c8ebcf-8159-47ff-8157-8c98eeffd0f7\",\"type\":\"Rect\"},{\"attributes\":{\"callback\":null,\"column_names\":[\"y\",\"fill_alpha\",\"label\",\"line_alpha\",\"x\",\"line_color\",\"color\",\"height\",\"width\"],\"data\":{\"chart_index\":[\"(49.078985, 50.629525]\"],\"color\":[\"#f22c40\"],\"fill_alpha\":[0.8],\"height\":[341.0],\"label\":[\"(49.078985, 50.629525]\"],\"line_alpha\":[1.0],\"line_color\":[\"black\"],\"width\":[1.5505400157089895],\"x\":[\"49.854255\"],\"y\":[170.5]}},\"id\":\"56d4edd4-f4a0-4c8a-aa14-f0dcd9212a02\",\"type\":\"ColumnDataSource\"},{\"attributes\":{\"data_source\":{\"id\":\"2958b524-9bae-4b77-b7c9-5debd698dea6\",\"type\":\"ColumnDataSource\"},\"glyph\":{\"id\":\"acd0e18a-3c2c-404f-b746-1f65de42e99f\",\"type\":\"Rect\"},\"hover_glyph\":null,\"nonselection_glyph\":null,\"selection_glyph\":null},\"id\":\"4ae9594b-b52c-4778-a586-6b0938095ab1\",\"type\":\"GlyphRenderer\"},{\"attributes\":{\"callback\":null,\"column_names\":[\"y\",\"fill_alpha\",\"label\",\"line_alpha\",\"x\",\"line_color\",\"color\",\"height\",\"width\"],\"data\":{\"chart_index\":[\"(87.997610, 89.997402]\"],\"color\":[\"#f22c40\"],\"fill_alpha\":[0.8],\"height\":[190.0],\"label\":[\"(87.997610, 89.997402]\"],\"line_alpha\":[1.0],\"line_color\":[\"black\"],\"width\":[1.9997923043628987],\"x\":[\"88.99750599999999\"],\"y\":[95.0]}},\"id\":\"9b4aa91d-c6a8-4100-912a-03f197cdc4ea\",\"type\":\"ColumnDataSource\"},{\"attributes\":{\"fill_alpha\":{\"field\":\"fill_alpha\"},\"fill_color\":{\"field\":\"color\"},\"height\":{\"field\":\"height\",\"units\":\"data\"},\"line_color\":{\"field\":\"line_color\"},\"width\":{\"field\":\"width\",\"units\":\"data\"},\"x\":{\"field\":\"x\"},\"y\":{\"field\":\"y\"}},\"id\":\"570e04e2-28d9-466d-a0f4-97b3bbb1d5c7\",\"type\":\"Rect\"},{\"attributes\":{\"fill_alpha\":{\"field\":\"fill_alpha\"},\"fill_color\":{\"field\":\"color\"},\"height\":{\"field\":\"height\",\"units\":\"data\"},\"line_color\":{\"field\":\"line_color\"},\"width\":{\"field\":\"width\",\"units\":\"data\"},\"x\":{\"field\":\"x\"},\"y\":{\"field\":\"y\"}},\"id\":\"cc0f7a90-bbfe-4893-930b-8d1f3f290649\",\"type\":\"Rect\"},{\"attributes\":{\"fill_alpha\":{\"field\":\"fill_alpha\"},\"fill_color\":{\"field\":\"color\"},\"height\":{\"field\":\"height\",\"units\":\"data\"},\"line_color\":{\"field\":\"line_color\"},\"width\":{\"field\":\"width\",\"units\":\"data\"},\"x\":{\"field\":\"x\"},\"y\":{\"field\":\"y\"}},\"id\":\"30c8940d-bc84-4105-8861-fd8641908785\",\"type\":\"Rect\"},{\"attributes\":{\"data_source\":{\"id\":\"ce592784-a6ba-41f6-a484-4d965cc62853\",\"type\":\"ColumnDataSource\"},\"glyph\":{\"id\":\"1fda4639-fa63-4c2b-b1fe-e4277a1cf930\",\"type\":\"Rect\"},\"hover_glyph\":null,\"nonselection_glyph\":null,\"selection_glyph\":null},\"id\":\"2ceeb5e7-f066-488a-be9d-7b313eaa17ad\",\"type\":\"GlyphRenderer\"},{\"attributes\":{\"fill_alpha\":{\"field\":\"fill_alpha\"},\"fill_color\":{\"field\":\"color\"},\"height\":{\"field\":\"height\",\"units\":\"data\"},\"line_color\":{\"field\":\"line_color\"},\"width\":{\"field\":\"width\",\"units\":\"data\"},\"x\":{\"field\":\"x\"},\"y\":{\"field\":\"y\"}},\"id\":\"77f47785-d1c8-4b79-bcdf-b2c97fdf3d29\",\"type\":\"Rect\"},{\"attributes\":{\"data_source\":{\"id\":\"6a2600c0-cddf-48ea-91e1-76e2e1e7835c\",\"type\":\"ColumnDataSource\"},\"glyph\":{\"id\":\"e1f3c286-70a5-4ab6-ace2-9144df5a9500\",\"type\":\"Rect\"},\"hover_glyph\":null,\"nonselection_glyph\":null,\"selection_glyph\":null},\"id\":\"49abb9d4-7185-4855-87e0-e407123efe4f\",\"type\":\"GlyphRenderer\"},{\"attributes\":{\"callback\":null,\"column_names\":[\"y\",\"fill_alpha\",\"label\",\"line_alpha\",\"x\",\"line_color\",\"color\",\"height\",\"width\"],\"data\":{\"chart_index\":[\"(44.002179, 46.001972]\"],\"color\":[\"#f22c40\"],\"fill_alpha\":[0.8],\"height\":[197.0],\"label\":[\"(44.002179, 46.001972]\"],\"line_alpha\":[1.0],\"line_color\":[\"black\"],\"width\":[1.9997923043628987],\"x\":[\"45.002075500000004\"],\"y\":[98.5]}},\"id\":\"f03c981d-6009-47e7-bb61-5433dc8338f4\",\"type\":\"ColumnDataSource\"},{\"attributes\":{\"callback\":null,\"column_names\":[\"y\",\"fill_alpha\",\"label\",\"line_alpha\",\"x\",\"line_color\",\"color\",\"height\",\"width\"],\"data\":{\"chart_index\":[\"(99.996364, 101.996156]\"],\"color\":[\"#f22c40\"],\"fill_alpha\":[0.8],\"height\":[179.0],\"label\":[\"(99.996364, 101.996156]\"],\"line_alpha\":[1.0],\"line_color\":[\"black\"],\"width\":[1.9997923043628987],\"x\":[\"100.99626\"],\"y\":[89.5]}},\"id\":\"5c9d757c-bec1-4d54-9d3d-fc516e9c5bc4\",\"type\":\"ColumnDataSource\"},{\"attributes\":{\"axis_label\":\"a\",\"formatter\":{\"id\":\"2dda0ef5-6ea1-46f0-aec1-01be90dc029a\",\"type\":\"BasicTickFormatter\"},\"plot\":{\"id\":\"ebf80998-1d9b-4911-98bb-96a6b2bac537\",\"subtype\":\"Chart\",\"type\":\"Plot\"},\"ticker\":{\"id\":\"97a39d2a-fae9-4384-9815-40db4965ac8d\",\"type\":\"BasicTicker\"}},\"id\":\"345b920c-7bc2-4f13-88b2-00b7f8f59b8b\",\"type\":\"LinearAxis\"},{\"attributes\":{\"callback\":null,\"column_names\":[\"y\",\"fill_alpha\",\"label\",\"line_alpha\",\"x\",\"line_color\",\"color\",\"height\",\"width\"],\"data\":{\"chart_index\":[\"(38.002802, 40.002595]\"],\"color\":[\"#f22c40\"],\"fill_alpha\":[0.8],\"height\":[218.0],\"label\":[\"(38.002802, 40.002595]\"],\"line_alpha\":[1.0],\"line_color\":[\"black\"],\"width\":[1.9997923043628987],\"x\":[\"39.0026985\"],\"y\":[109.0]}},\"id\":\"a32591a0-5df0-435b-9018-f6961571fe64\",\"type\":\"ColumnDataSource\"},{\"attributes\":{\"callback\":null,\"column_names\":[\"y\",\"fill_alpha\",\"label\",\"line_alpha\",\"x\",\"line_color\",\"color\",\"height\",\"width\"],\"data\":{\"chart_index\":[\"(25.299980, 27.256069]\"],\"color\":[\"#f22c40\"],\"fill_alpha\":[0.8],\"height\":[63.0],\"label\":[\"(25.299980, 27.256069]\"],\"line_alpha\":[1.0],\"line_color\":[\"black\"],\"width\":[1.9560889049004047],\"x\":[\"26.2780245\"],\"y\":[31.5]}},\"id\":\"9289e883-ed0a-47c7-a65e-c1dd8769f10b\",\"type\":\"ColumnDataSource\"},{\"attributes\":{\"data_source\":{\"id\":\"1477ece2-23fb-4b15-82a8-73335366cd9e\",\"type\":\"ColumnDataSource\"},\"glyph\":{\"id\":\"e4515c87-4d23-4104-81ae-797db3f65278\",\"type\":\"Rect\"},\"hover_glyph\":null,\"nonselection_glyph\":null,\"selection_glyph\":null},\"id\":\"bb75840d-5c22-4959-9c3e-80fb7510aafd\",\"type\":\"GlyphRenderer\"},{\"attributes\":{\"callback\":null,\"column_names\":[\"y\",\"fill_alpha\",\"label\",\"line_alpha\",\"x\",\"line_color\",\"color\",\"height\",\"width\"],\"data\":{\"chart_index\":[\"(85.938736, 87.894825]\"],\"color\":[\"#f22c40\"],\"fill_alpha\":[0.8],\"height\":[281.0],\"label\":[\"(85.938736, 87.894825]\"],\"line_alpha\":[1.0],\"line_color\":[\"black\"],\"width\":[1.9560889049003833],\"x\":[\"86.9167805\"],\"y\":[140.5]}},\"id\":\"ca64e8b3-0c8d-4c50-9030-4f76638e049b\",\"type\":\"ColumnDataSource\"},{\"attributes\":{\"children\":[{\"id\":\"ebf80998-1d9b-4911-98bb-96a6b2bac537\",\"subtype\":\"Chart\",\"type\":\"Plot\"},{\"id\":\"e248c624-063b-473b-9b7d-e65e46602b02\",\"subtype\":\"Chart\",\"type\":\"Plot\"}]},\"id\":\"c7ded51f-eea9-447a-b2ab-21ad0daf2071\",\"type\":\"Row\"},{\"attributes\":{\"fill_alpha\":{\"field\":\"fill_alpha\"},\"fill_color\":{\"field\":\"color\"},\"height\":{\"field\":\"height\",\"units\":\"data\"},\"line_color\":{\"field\":\"line_color\"},\"width\":{\"field\":\"width\",\"units\":\"data\"},\"x\":{\"field\":\"x\"},\"y\":{\"field\":\"y\"}},\"id\":\"ce61f0ab-b4fd-4432-8bf1-201738aeea22\",\"type\":\"Rect\"},{\"attributes\":{\"fill_alpha\":{\"field\":\"fill_alpha\"},\"fill_color\":{\"field\":\"color\"},\"height\":{\"field\":\"height\",\"units\":\"data\"},\"line_color\":{\"field\":\"line_color\"},\"width\":{\"field\":\"width\",\"units\":\"data\"},\"x\":{\"field\":\"x\"},\"y\":{\"field\":\"y\"}},\"id\":\"76b67f08-eb1d-43e5-a7d0-d094e14980b1\",\"type\":\"Rect\"},{\"attributes\":{\"data_source\":{\"id\":\"ffca2815-7db8-438c-8ecb-37e1d3b3e50d\",\"type\":\"ColumnDataSource\"},\"glyph\":{\"id\":\"759c1c76-33e2-479d-98bb-bd6ff2c75b71\",\"type\":\"Rect\"},\"hover_glyph\":null,\"nonselection_glyph\":null,\"selection_glyph\":null},\"id\":\"4338c211-9388-4aa4-977b-4d3be04d4137\",\"type\":\"GlyphRenderer\"},{\"attributes\":{\"data_source\":{\"id\":\"5b747e7a-0578-4872-985f-a09df47c3bb1\",\"type\":\"ColumnDataSource\"},\"glyph\":{\"id\":\"db48ec0e-3769-4901-ac0a-e11f8630a46e\",\"type\":\"Rect\"},\"hover_glyph\":null,\"nonselection_glyph\":null,\"selection_glyph\":null},\"id\":\"996aa07b-5cfe-499e-bde7-d841bd9cbd13\",\"type\":\"GlyphRenderer\"},{\"attributes\":{\"data_source\":{\"id\":\"57105d1d-9616-4b16-a075-0187cdaae2c7\",\"type\":\"ColumnDataSource\"},\"glyph\":{\"id\":\"41b45b01-a59e-4e5d-8a6a-b0f2b9f8fe81\",\"type\":\"Rect\"},\"hover_glyph\":null,\"nonselection_glyph\":null,\"selection_glyph\":null},\"id\":\"0baf8660-3d40-4875-8ade-afd5c704fa30\",\"type\":\"GlyphRenderer\"},{\"attributes\":{\"fill_alpha\":{\"field\":\"fill_alpha\"},\"fill_color\":{\"field\":\"color\"},\"height\":{\"field\":\"height\",\"units\":\"data\"},\"line_color\":{\"field\":\"line_color\"},\"width\":{\"field\":\"width\",\"units\":\"data\"},\"x\":{\"field\":\"x\"},\"y\":{\"field\":\"y\"}},\"id\":\"cb786360-cc6b-4074-966c-07cc62f1fd32\",\"type\":\"Rect\"},{\"attributes\":{\"data_source\":{\"id\":\"23386c2b-e2e5-4caa-8cfb-5b873e04a66e\",\"type\":\"ColumnDataSource\"},\"glyph\":{\"id\":\"b00f68c5-d87e-4dfc-b377-9ab1ab2b25a1\",\"type\":\"Rect\"},\"hover_glyph\":null,\"nonselection_glyph\":null,\"selection_glyph\":null},\"id\":\"8f1b8bbe-98ed-4c78-99e6-5c0a71ec9058\",\"type\":\"GlyphRenderer\"},{\"attributes\":{\"data_source\":{\"id\":\"87b95995-40b5-4ba5-be72-de1cbe8fb4f5\",\"type\":\"ColumnDataSource\"},\"glyph\":{\"id\":\"dbb400e1-2bb6-47d6-abaa-752dca31e473\",\"type\":\"Rect\"},\"hover_glyph\":null,\"nonselection_glyph\":null,\"selection_glyph\":null},\"id\":\"27d229c1-41b5-4437-845a-954116821dc0\",\"type\":\"GlyphRenderer\"},{\"attributes\":{\"data_source\":{\"id\":\"642db14a-ca92-43b4-8b68-d15f606d8099\",\"type\":\"ColumnDataSource\"},\"glyph\":{\"id\":\"b8f3d078-48ae-4c51-824e-99b2df9e370e\",\"type\":\"Rect\"},\"hover_glyph\":null,\"nonselection_glyph\":null,\"selection_glyph\":null},\"id\":\"dc6f5894-f217-4b65-a0f8-d1bf36ce85c5\",\"type\":\"GlyphRenderer\"},{\"attributes\":{\"fill_alpha\":{\"field\":\"fill_alpha\"},\"fill_color\":{\"field\":\"color\"},\"height\":{\"field\":\"height\",\"units\":\"data\"},\"line_color\":{\"field\":\"line_color\"},\"width\":{\"field\":\"width\",\"units\":\"data\"},\"x\":{\"field\":\"x\"},\"y\":{\"field\":\"y\"}},\"id\":\"3a3b8f38-1ee1-4574-901b-ae30c212eb17\",\"type\":\"Rect\"},{\"attributes\":{\"callback\":null,\"column_names\":[\"y\",\"fill_alpha\",\"label\",\"line_alpha\",\"x\",\"line_color\",\"color\",\"height\",\"width\"],\"data\":{\"chart_index\":[\"(236.969206, 256.716215]\"],\"color\":[\"#f22c40\"],\"fill_alpha\":[0.8],\"height\":[167.0],\"label\":[\"(236.969206, 256.716215]\"],\"line_alpha\":[1.0],\"line_color\":[\"black\"],\"width\":[19.747009118806403],\"x\":[\"246.8427105\"],\"y\":[83.5]}},\"id\":\"ffca2815-7db8-438c-8ecb-37e1d3b3e50d\",\"type\":\"ColumnDataSource\"},{\"attributes\":{\"data_source\":{\"id\":\"c9fe10d3-64ec-41bc-bef2-da8a82eb620a\",\"type\":\"ColumnDataSource\"},\"glyph\":{\"id\":\"53169768-99be-41a0-8cf6-63637c14498d\",\"type\":\"Rect\"},\"hover_glyph\":null,\"nonselection_glyph\":null,\"selection_glyph\":null},\"id\":\"a6daafc9-57cb-447e-b668-0c7691bceb35\",\"type\":\"GlyphRenderer\"},{\"attributes\":{\"location\":\"top_left\",\"plot\":{\"id\":\"ebf80998-1d9b-4911-98bb-96a6b2bac537\",\"subtype\":\"Chart\",\"type\":\"Plot\"}},\"id\":\"51af8cc9-5521-4016-a5c6-292f0c6fcd5c\",\"type\":\"Legend\"},{\"attributes\":{\"data_source\":{\"id\":\"294defcb-e98b-49d8-80ae-7f57780fcac8\",\"type\":\"ColumnDataSource\"},\"glyph\":{\"id\":\"d8603532-ae9e-4515-ab5d-1d655105c0e5\",\"type\":\"Rect\"},\"hover_glyph\":null,\"nonselection_glyph\":null,\"selection_glyph\":null},\"id\":\"5a3409e1-f024-4087-96f7-0c03a159bd4b\",\"type\":\"GlyphRenderer\"},{\"attributes\":{\"callback\":null,\"column_names\":[\"y\",\"fill_alpha\",\"label\",\"line_alpha\",\"x\",\"line_color\",\"color\",\"height\",\"width\"],\"data\":{\"chart_index\":[\"(115.280070, 117.236159]\"],\"color\":[\"#f22c40\"],\"fill_alpha\":[0.8],\"height\":[24.0],\"label\":[\"(115.280070, 117.236159]\"],\"line_alpha\":[1.0],\"line_color\":[\"black\"],\"width\":[1.9560889049004118],\"x\":[\"116.2581145\"],\"y\":[12.0]}},\"id\":\"e91f6b93-2b14-4096-9982-8719b749293b\",\"type\":\"ColumnDataSource\"},{\"attributes\":{\"callback\":null,\"column_names\":[\"y\",\"fill_alpha\",\"label\",\"line_alpha\",\"x\",\"line_color\",\"color\",\"height\",\"width\"],\"data\":{\"chart_index\":[\"(14.967105, 16.517645]\"],\"color\":[\"#f22c40\"],\"fill_alpha\":[0.8],\"height\":[19.0],\"label\":[\"(14.967105, 16.517645]\"],\"line_alpha\":[1.0],\"line_color\":[\"black\"],\"width\":[1.5505400157089877],\"x\":[\"15.742375000000001\"],\"y\":[9.5]}},\"id\":\"af158fd6-b928-476c-a2fb-911ced2cb1f7\",\"type\":\"ColumnDataSource\"},{\"attributes\":{\"callback\":null,\"column_names\":[\"y\",\"fill_alpha\",\"label\",\"line_alpha\",\"x\",\"line_color\",\"color\",\"height\",\"width\"],\"data\":{\"chart_index\":[\"(315.957243, 335.704252]\"],\"color\":[\"#f22c40\"],\"fill_alpha\":[0.8],\"height\":[87.0],\"label\":[\"(315.957243, 335.704252]\"],\"line_alpha\":[1.0],\"line_color\":[\"black\"],\"width\":[19.74700911880643],\"x\":[\"325.83074750000003\"],\"y\":[43.5]}},\"id\":\"e41b4242-b25b-4f17-b06b-b1161d7fd0aa\",\"type\":\"ColumnDataSource\"},{\"attributes\":{\"callback\":null,\"column_names\":[\"y\",\"fill_alpha\",\"label\",\"line_alpha\",\"x\",\"line_color\",\"color\",\"height\",\"width\"],\"data\":{\"chart_index\":[\"(97.675270, 99.631359]\"],\"color\":[\"#f22c40\"],\"fill_alpha\":[0.8],\"height\":[184.0],\"label\":[\"(97.675270, 99.631359]\"],\"line_alpha\":[1.0],\"line_color\":[\"black\"],\"width\":[1.9560889049004118],\"x\":[\"98.6533145\"],\"y\":[92.0]}},\"id\":\"f37674ab-875e-4d27-b374-5c28abb6ac9e\",\"type\":\"ColumnDataSource\"},{\"attributes\":{\"location\":\"top_left\",\"plot\":{\"id\":\"7a1cd8b3-4ad4-43a6-9e36-4c8297df94c3\",\"subtype\":\"Chart\",\"type\":\"Plot\"}},\"id\":\"8758e149-b1df-4ba5-a7c1-53549ca0782e\",\"type\":\"Legend\"},{\"attributes\":{\"fill_alpha\":{\"field\":\"fill_alpha\"},\"fill_color\":{\"field\":\"color\"},\"height\":{\"field\":\"height\",\"units\":\"data\"},\"line_color\":{\"field\":\"line_color\"},\"width\":{\"field\":\"width\",\"units\":\"data\"},\"x\":{\"field\":\"x\"},\"y\":{\"field\":\"y\"}},\"id\":\"321c1fa7-6e9d-4c9d-9daf-7e7d085919d3\",\"type\":\"Rect\"},{\"attributes\":{\"data_source\":{\"id\":\"eb519fcb-467c-481e-9967-23da754a2385\",\"type\":\"ColumnDataSource\"},\"glyph\":{\"id\":\"a28b8db0-7568-494b-ad48-719f03e4eea7\",\"type\":\"Rect\"},\"hover_glyph\":null,\"nonselection_glyph\":null,\"selection_glyph\":null},\"id\":\"d4427266-45a9-407a-9e51-151e3848e966\",\"type\":\"GlyphRenderer\"},{\"attributes\":{\"data_source\":{\"id\":\"7d716517-353d-475f-9871-b392f0b91207\",\"type\":\"ColumnDataSource\"},\"glyph\":{\"id\":\"b80081c9-710f-4eac-91ea-813b3d9002d2\",\"type\":\"Rect\"},\"hover_glyph\":null,\"nonselection_glyph\":null,\"selection_glyph\":null},\"id\":\"fb02ac7e-0f70-4118-bf6d-e2788c31cdf4\",\"type\":\"GlyphRenderer\"},{\"attributes\":{\"callback\":null,\"column_names\":[\"y\",\"fill_alpha\",\"label\",\"line_alpha\",\"x\",\"line_color\",\"color\",\"height\",\"width\"],\"data\":{\"chart_index\":[\"(64.584385, 66.134925]\"],\"color\":[\"#f22c40\"],\"fill_alpha\":[0.8],\"height\":[19.0],\"label\":[\"(64.584385, 66.134925]\"],\"line_alpha\":[1.0],\"line_color\":[\"black\"],\"width\":[1.5505400157089895],\"x\":[\"65.359655\"],\"y\":[9.5]}},\"id\":\"224707f9-7f9c-4db8-a20a-343011946191\",\"type\":\"ColumnDataSource\"},{\"attributes\":{\"data_source\":{\"id\":\"b06ec6ed-5203-485d-a5f6-e1c3d1563cea\",\"type\":\"ColumnDataSource\"},\"glyph\":{\"id\":\"77f47785-d1c8-4b79-bcdf-b2c97fdf3d29\",\"type\":\"Rect\"},\"hover_glyph\":null,\"nonselection_glyph\":null,\"selection_glyph\":null},\"id\":\"bf1603de-78ab-461f-9b76-e018282ad658\",\"type\":\"GlyphRenderer\"},{\"attributes\":{\"data_source\":{\"id\":\"62a355ad-5c25-4cb7-a250-46905c053808\",\"type\":\"ColumnDataSource\"},\"glyph\":{\"id\":\"e32dbbba-0dd7-457a-beb7-5e9925338557\",\"type\":\"Rect\"},\"hover_glyph\":null,\"nonselection_glyph\":null,\"selection_glyph\":null},\"id\":\"63a9ad28-17ac-4269-b879-737c74279eee\",\"type\":\"GlyphRenderer\"},{\"attributes\":{\"data_source\":{\"id\":\"fedc639c-7713-46d4-9716-6c42a8fbe74e\",\"type\":\"ColumnDataSource\"},\"glyph\":{\"id\":\"d8d59940-5d70-4215-9505-778a81443875\",\"type\":\"Rect\"},\"hover_glyph\":null,\"nonselection_glyph\":null,\"selection_glyph\":null},\"id\":\"fb03f005-fb42-4177-94b8-65f884730fac\",\"type\":\"GlyphRenderer\"},{\"attributes\":{\"fill_alpha\":{\"field\":\"fill_alpha\"},\"fill_color\":{\"field\":\"color\"},\"height\":{\"field\":\"height\",\"units\":\"data\"},\"line_color\":{\"field\":\"line_color\"},\"width\":{\"field\":\"width\",\"units\":\"data\"},\"x\":{\"field\":\"x\"},\"y\":{\"field\":\"y\"}},\"id\":\"65c475d3-767b-4c1e-826b-ab7b0e030772\",\"type\":\"Rect\"},{\"attributes\":{\"data_source\":{\"id\":\"17ba9708-0766-4ac3-8d45-0a644241b3fc\",\"type\":\"ColumnDataSource\"},\"glyph\":{\"id\":\"aa752af4-d615-4a30-96fe-1d767eccd674\",\"type\":\"Rect\"},\"hover_glyph\":null,\"nonselection_glyph\":null,\"selection_glyph\":null},\"id\":\"fd8bec5c-55cd-4222-a8c7-e3e95ed49661\",\"type\":\"GlyphRenderer\"},{\"attributes\":{},\"id\":\"ca12f928-d2e6-490e-9665-f62a02b78a8b\",\"type\":\"ToolEvents\"},{\"attributes\":{\"fill_alpha\":{\"field\":\"fill_alpha\"},\"fill_color\":{\"field\":\"color\"},\"height\":{\"field\":\"height\",\"units\":\"data\"},\"line_color\":{\"field\":\"line_color\"},\"width\":{\"field\":\"width\",\"units\":\"data\"},\"x\":{\"field\":\"x\"},\"y\":{\"field\":\"y\"}},\"id\":\"6929c529-ddce-4ad6-b377-79f2107f9806\",\"type\":\"Rect\"},{\"attributes\":{},\"id\":\"1d69fffa-2813-4642-8e77-97dbd4b59e09\",\"type\":\"BasicTickFormatter\"},{\"attributes\":{\"data_source\":{\"id\":\"11b8ebb7-4a11-4e6f-adc9-5a49fd26c970\",\"type\":\"ColumnDataSource\"},\"glyph\":{\"id\":\"6ba80ab6-bca2-45f5-9152-bf163d66332d\",\"type\":\"Rect\"},\"hover_glyph\":null,\"nonselection_glyph\":null,\"selection_glyph\":null},\"id\":\"9266de05-94a6-41e2-af51-68c31483115e\",\"type\":\"GlyphRenderer\"},{\"attributes\":{},\"id\":\"75c13de2-b18d-46e5-8d65-8930924fc080\",\"type\":\"BasicTickFormatter\"},{\"attributes\":{\"data_source\":{\"id\":\"4f0f1018-2c5d-46bc-828b-c798d9263186\",\"type\":\"ColumnDataSource\"},\"glyph\":{\"id\":\"d7465cbe-ccbc-4de4-9fc7-61ff4c8e629b\",\"type\":\"Rect\"},\"hover_glyph\":null,\"nonselection_glyph\":null,\"selection_glyph\":null},\"id\":\"52b74e9a-4c38-42f0-b4fc-d07f79b2039e\",\"type\":\"GlyphRenderer\"},{\"attributes\":{\"callback\":null,\"column_names\":[\"y\",\"fill_alpha\",\"label\",\"line_alpha\",\"x\",\"line_color\",\"color\",\"height\",\"width\"],\"data\":{\"chart_index\":[\"(117.994494, 119.994287]\"],\"color\":[\"#f22c40\"],\"fill_alpha\":[0.8],\"height\":[223.0],\"label\":[\"(117.994494, 119.994287]\"],\"line_alpha\":[1.0],\"line_color\":[\"black\"],\"width\":[1.9997923043629129],\"x\":[\"118.99439050000001\"],\"y\":[111.5]}},\"id\":\"3a393941-ee33-49cc-89c9-793fc76df3d0\",\"type\":\"ColumnDataSource\"},{\"attributes\":{\"fill_alpha\":{\"field\":\"fill_alpha\"},\"fill_color\":{\"field\":\"color\"},\"height\":{\"field\":\"height\",\"units\":\"data\"},\"line_color\":{\"field\":\"line_color\"},\"width\":{\"field\":\"width\",\"units\":\"data\"},\"x\":{\"field\":\"x\"},\"y\":{\"field\":\"y\"}},\"id\":\"26a900f0-dd32-47e2-90e8-d0505a83cd7e\",\"type\":\"Rect\"},{\"attributes\":{\"callback\":null,\"column_names\":[\"y\",\"fill_alpha\",\"label\",\"line_alpha\",\"x\",\"line_color\",\"color\",\"height\",\"width\"],\"data\":{\"chart_index\":[\"(60.509581, 62.465669]\"],\"color\":[\"#f22c40\"],\"fill_alpha\":[0.8],\"height\":[283.0],\"label\":[\"(60.509581, 62.465669]\"],\"line_alpha\":[1.0],\"line_color\":[\"black\"],\"width\":[1.9560889049004047],\"x\":[\"61.487624999999994\"],\"y\":[141.5]}},\"id\":\"9fa9c741-f4c8-4ff9-9dd6-e9e590d08216\",\"type\":\"ColumnDataSource\"},{\"attributes\":{\"data_source\":{\"id\":\"e41b4242-b25b-4f17-b06b-b1161d7fd0aa\",\"type\":\"ColumnDataSource\"},\"glyph\":{\"id\":\"ce61f0ab-b4fd-4432-8bf1-201738aeea22\",\"type\":\"Rect\"},\"hover_glyph\":null,\"nonselection_glyph\":null,\"selection_glyph\":null},\"id\":\"f73e9c12-b9d7-4dd3-ac2b-0b049eadbb6f\",\"type\":\"GlyphRenderer\"},{\"attributes\":{\"callback\":null,\"column_names\":[\"y\",\"fill_alpha\",\"label\",\"line_alpha\",\"x\",\"line_color\",\"color\",\"height\",\"width\"],\"data\":{\"chart_index\":[\"(52.001348, 54.001141]\"],\"color\":[\"#f22c40\"],\"fill_alpha\":[0.8],\"height\":[207.0],\"label\":[\"(52.001348, 54.001141]\"],\"line_alpha\":[1.0],\"line_color\":[\"black\"],\"width\":[1.9997923043628916],\"x\":[\"53.0012445\"],\"y\":[103.5]}},\"id\":\"223d7369-91d0-4012-b8e6-be5914294e58\",\"type\":\"ColumnDataSource\"},{\"attributes\":{\"callback\":null,\"column_names\":[\"y\",\"fill_alpha\",\"label\",\"line_alpha\",\"x\",\"line_color\",\"color\",\"height\",\"width\"],\"data\":{\"chart_index\":[\"(48.773047, 50.729136]\"],\"color\":[\"#f22c40\"],\"fill_alpha\":[0.8],\"height\":[267.0],\"label\":[\"(48.773047, 50.729136]\"],\"line_alpha\":[1.0],\"line_color\":[\"black\"],\"width\":[1.9560889049004118],\"x\":[\"49.7510915\"],\"y\":[133.5]}},\"id\":\"6a5abf69-1432-4476-9442-eba56f18b2b3\",\"type\":\"ColumnDataSource\"},{\"attributes\":{\"fill_alpha\":{\"field\":\"fill_alpha\"},\"fill_color\":{\"field\":\"color\"},\"height\":{\"field\":\"height\",\"units\":\"data\"},\"line_color\":{\"field\":\"line_color\"},\"width\":{\"field\":\"width\",\"units\":\"data\"},\"x\":{\"field\":\"x\"},\"y\":{\"field\":\"y\"}},\"id\":\"75c6c00d-70d1-48e6-bc07-77b0be1238c8\",\"type\":\"Rect\"},{\"attributes\":{\"callback\":null,\"column_names\":[\"y\",\"fill_alpha\",\"label\",\"line_alpha\",\"x\",\"line_color\",\"color\",\"height\",\"width\"],\"data\":{\"chart_index\":[\"(33.124336, 35.080425]\"],\"color\":[\"#f22c40\"],\"fill_alpha\":[0.8],\"height\":[141.0],\"label\":[\"(33.124336, 35.080425]\"],\"line_alpha\":[1.0],\"line_color\":[\"black\"],\"width\":[1.9560889049004047],\"x\":[\"34.102380499999995\"],\"y\":[70.5]}},\"id\":\"7004f0f0-1506-454d-886d-fbe309ba09c6\",\"type\":\"ColumnDataSource\"},{\"attributes\":{\"data_source\":{\"id\":\"33d86223-eb56-402c-baee-6be20b2f430a\",\"type\":\"ColumnDataSource\"},\"glyph\":{\"id\":\"672f8087-6211-4f29-8b98-409c77ce6f66\",\"type\":\"Rect\"},\"hover_glyph\":null,\"nonselection_glyph\":null,\"selection_glyph\":null},\"id\":\"a66d2688-bb02-4603-a2c4-873f0c031d81\",\"type\":\"GlyphRenderer\"},{\"attributes\":{},\"id\":\"58d8f96a-a619-4e06-adcd-1cae550f3e51\",\"type\":\"BasicTickFormatter\"},{\"attributes\":{\"data_source\":{\"id\":\"2d5162ee-8be8-4726-9e2c-a6dc00c796bf\",\"type\":\"ColumnDataSource\"},\"glyph\":{\"id\":\"7ef1737a-3074-4542-8cd5-507713c79726\",\"type\":\"Rect\"},\"hover_glyph\":null,\"nonselection_glyph\":null,\"selection_glyph\":null},\"id\":\"381fb5bd-84c3-4419-8d9d-31f2227ab098\",\"type\":\"GlyphRenderer\"},{\"attributes\":{\"axis_label\":\"a\",\"formatter\":{\"id\":\"1d69fffa-2813-4642-8e77-97dbd4b59e09\",\"type\":\"BasicTickFormatter\"},\"plot\":{\"id\":\"e248c624-063b-473b-9b7d-e65e46602b02\",\"subtype\":\"Chart\",\"type\":\"Plot\"},\"ticker\":{\"id\":\"0a2f0aa6-c8f3-4c41-90ea-b84362b2af10\",\"type\":\"BasicTicker\"}},\"id\":\"b58272d6-43b3-48b8-807a-a321c75f7e6a\",\"type\":\"LinearAxis\"},{\"attributes\":{\"fill_alpha\":{\"field\":\"fill_alpha\"},\"fill_color\":{\"field\":\"color\"},\"height\":{\"field\":\"height\",\"units\":\"data\"},\"line_color\":{\"field\":\"line_color\"},\"width\":{\"field\":\"width\",\"units\":\"data\"},\"x\":{\"field\":\"x\"},\"y\":{\"field\":\"y\"}},\"id\":\"f755c3f0-75a4-46e2-a29b-81b02346d990\",\"type\":\"Rect\"},{\"attributes\":{\"data_source\":{\"id\":\"abb4b375-1de7-4aeb-b76a-5d56833349cc\",\"type\":\"ColumnDataSource\"},\"glyph\":{\"id\":\"30c8940d-bc84-4105-8861-fd8641908785\",\"type\":\"Rect\"},\"hover_glyph\":null,\"nonselection_glyph\":null,\"selection_glyph\":null},\"id\":\"ec046f6a-e8ec-444a-95fc-da48dd1d9dc8\",\"type\":\"GlyphRenderer\"},{\"attributes\":{\"below\":[{\"id\":\"5d6efc35-a807-4b1f-ae43-68b6a348e116\",\"type\":\"LinearAxis\"}],\"css_classes\":null,\"height\":300,\"left\":[{\"id\":\"7a4c5e84-1f14-4eda-aa02-2bdd071715e1\",\"type\":\"LinearAxis\"}],\"renderers\":[{\"id\":\"113154cd-7598-47dd-867a-c0f401c38521\",\"type\":\"BoxAnnotation\"},{\"id\":\"970cb5fc-5f7b-48f7-bb2f-43b73f5247b5\",\"type\":\"GlyphRenderer\"},{\"id\":\"cf70bb9f-2a8d-4dea-b28c-5dc91e6afb38\",\"type\":\"GlyphRenderer\"},{\"id\":\"381fb5bd-84c3-4419-8d9d-31f2227ab098\",\"type\":\"GlyphRenderer\"},{\"id\":\"bff3ed5d-7111-42ef-a4e0-366638138f5c\",\"type\":\"GlyphRenderer\"},{\"id\":\"d4427266-45a9-407a-9e51-151e3848e966\",\"type\":\"GlyphRenderer\"},{\"id\":\"3f710c54-8b8f-4de1-87f4-6cdd91177768\",\"type\":\"GlyphRenderer\"},{\"id\":\"e101ebe7-f843-435d-bd61-af0f6c2b9b93\",\"type\":\"GlyphRenderer\"},{\"id\":\"f4fc78d7-08b4-4bd9-8f88-8e77098fcdaf\",\"type\":\"GlyphRenderer\"},{\"id\":\"c2a40d99-681b-4ddc-98ed-b673e2cf8f17\",\"type\":\"GlyphRenderer\"},{\"id\":\"0e8da037-f28a-4aef-a451-af0b0662f785\",\"type\":\"GlyphRenderer\"},{\"id\":\"24e6540b-a6ea-401c-90b9-19404b2246e9\",\"type\":\"GlyphRenderer\"},{\"id\":\"ef446f9f-c3f1-45b4-a670-f3fbaf7cc334\",\"type\":\"GlyphRenderer\"},{\"id\":\"a2be36ba-7928-4964-a9aa-39ec43bdb45f\",\"type\":\"GlyphRenderer\"},{\"id\":\"1f63011e-9f2b-420c-a611-b7467c0b18ad\",\"type\":\"GlyphRenderer\"},{\"id\":\"e5993439-a5bc-485e-982c-a20b9c1d76f9\",\"type\":\"GlyphRenderer\"},{\"id\":\"4667f12d-5507-4b3d-8966-da77213b1f4f\",\"type\":\"GlyphRenderer\"},{\"id\":\"080fe3bb-6622-49ad-a2bb-4719f2e8203c\",\"type\":\"GlyphRenderer\"},{\"id\":\"a401e9ca-72d9-4c0c-b128-aed32aa6c694\",\"type\":\"GlyphRenderer\"},{\"id\":\"97a94b16-9452-4eee-8389-0384b7dd3da0\",\"type\":\"GlyphRenderer\"},{\"id\":\"c8791145-613c-46c7-b817-a85dac1aab98\",\"type\":\"GlyphRenderer\"},{\"id\":\"49abb9d4-7185-4855-87e0-e407123efe4f\",\"type\":\"GlyphRenderer\"},{\"id\":\"847f9257-bd59-4757-8a80-f37d9a5bfbf8\",\"type\":\"GlyphRenderer\"},{\"id\":\"52b74e9a-4c38-42f0-b4fc-d07f79b2039e\",\"type\":\"GlyphRenderer\"},{\"id\":\"a0011f0e-4b68-4b2e-a764-ae4833cece6c\",\"type\":\"GlyphRenderer\"},{\"id\":\"37596f95-0a47-434c-8985-d236f3311217\",\"type\":\"GlyphRenderer\"},{\"id\":\"48837a5c-fee6-40ad-b02c-18c7d3abc6e9\",\"type\":\"GlyphRenderer\"},{\"id\":\"eb5118bf-beeb-4849-aeab-e1de24207769\",\"type\":\"GlyphRenderer\"},{\"id\":\"092662bf-d965-4332-aac6-93fb9706f276\",\"type\":\"GlyphRenderer\"},{\"id\":\"d660224a-6699-4ca5-8c10-f2e96d964939\",\"type\":\"GlyphRenderer\"},{\"id\":\"4d673668-70e0-48e3-b9ba-133d1ac9f83e\",\"type\":\"GlyphRenderer\"},{\"id\":\"2e70c7f3-8b95-4f05-8a9f-dc5a0a8d3a62\",\"type\":\"GlyphRenderer\"},{\"id\":\"252a6231-7ae1-464e-ba47-d30aa7f51768\",\"type\":\"GlyphRenderer\"},{\"id\":\"93067e60-caa9-43c2-808f-2dc3f4e366ba\",\"type\":\"GlyphRenderer\"},{\"id\":\"093ddee6-fdda-4d24-b1e5-4749041f1328\",\"type\":\"GlyphRenderer\"},{\"id\":\"c55493ce-f969-47c8-bc84-2e4fb5a0f202\",\"type\":\"GlyphRenderer\"},{\"id\":\"6c43aadb-8683-4164-9c25-74645d4e2bf0\",\"type\":\"GlyphRenderer\"},{\"id\":\"aeecfcbb-f576-40e4-84de-7454c4713968\",\"type\":\"GlyphRenderer\"},{\"id\":\"db6c2309-a091-4c43-8eaf-868d5c3647f1\",\"type\":\"GlyphRenderer\"},{\"id\":\"130bc728-22a2-4b4b-b3db-cb01b59e65cf\",\"type\":\"GlyphRenderer\"},{\"id\":\"2bb174b8-b24a-494f-9c29-7742bca4f9dc\",\"type\":\"GlyphRenderer\"},{\"id\":\"6b48dbed-e0c7-4fee-9648-9d378291319f\",\"type\":\"GlyphRenderer\"},{\"id\":\"f4807438-180a-42a7-98ff-71f919007042\",\"type\":\"GlyphRenderer\"},{\"id\":\"b56bfbd0-f4b6-44d6-8a04-d4769c039218\",\"type\":\"GlyphRenderer\"},{\"id\":\"e591f0ea-6885-4a51-a507-0fc93f7690fe\",\"type\":\"GlyphRenderer\"},{\"id\":\"02bc2fcc-f763-45ad-bc61-cc07ede2239d\",\"type\":\"GlyphRenderer\"},{\"id\":\"65151d46-d262-4525-817f-4a4c951022ce\",\"type\":\"GlyphRenderer\"},{\"id\":\"dc6f5894-f217-4b65-a0f8-d1bf36ce85c5\",\"type\":\"GlyphRenderer\"},{\"id\":\"5104553a-fbe3-404e-887f-9b8c02024385\",\"type\":\"GlyphRenderer\"},{\"id\":\"a8f43385-5582-4157-870e-3e1814b0a84c\",\"type\":\"GlyphRenderer\"},{\"id\":\"d34118b7-c2f1-4940-928c-5bd81ddcfedd\",\"type\":\"GlyphRenderer\"},{\"id\":\"8758e149-b1df-4ba5-a7c1-53549ca0782e\",\"type\":\"Legend\"},{\"id\":\"5d6efc35-a807-4b1f-ae43-68b6a348e116\",\"type\":\"LinearAxis\"},{\"id\":\"7a4c5e84-1f14-4eda-aa02-2bdd071715e1\",\"type\":\"LinearAxis\"},{\"id\":\"317bdc6e-9812-49ac-802a-ae590cbee498\",\"type\":\"Grid\"}],\"title\":{\"id\":\"489d59c6-7bb8-467d-9bfb-9958b955db05\",\"type\":\"Title\"},\"tool_events\":{\"id\":\"d2700ba2-ad07-4864-b356-2f2da1f354e4\",\"type\":\"ToolEvents\"},\"toolbar\":{\"id\":\"7c51ddd0-b67b-462a-8cd4-d98a2eb7286c\",\"type\":\"Toolbar\"},\"toolbar_location\":null,\"width\":350,\"x_mapper_type\":\"auto\",\"x_range\":{\"id\":\"005437ad-0b27-4fec-ae6a-1e7ec464eedd\",\"type\":\"Range1d\"},\"y_mapper_type\":\"auto\",\"y_range\":{\"id\":\"737f5e13-01a9-46a1-8300-11f8d552b706\",\"type\":\"Range1d\"}},\"id\":\"7a1cd8b3-4ad4-43a6-9e36-4c8297df94c3\",\"subtype\":\"Chart\",\"type\":\"Plot\"},{\"attributes\":{\"fill_alpha\":{\"field\":\"fill_alpha\"},\"fill_color\":{\"field\":\"color\"},\"height\":{\"field\":\"height\",\"units\":\"data\"},\"line_color\":{\"field\":\"line_color\"},\"width\":{\"field\":\"width\",\"units\":\"data\"},\"x\":{\"field\":\"x\"},\"y\":{\"field\":\"y\"}},\"id\":\"a00ff080-53a5-4a61-befc-99f235d32ec5\",\"type\":\"Rect\"},{\"attributes\":{\"data_source\":{\"id\":\"c0f3b78d-f291-41ff-8664-8a080e70ea91\",\"type\":\"ColumnDataSource\"},\"glyph\":{\"id\":\"ea9efcaf-a218-4abf-bf0b-4f50f4e38347\",\"type\":\"Rect\"},\"hover_glyph\":null,\"nonselection_glyph\":null,\"selection_glyph\":null},\"id\":\"d3d17263-4aab-47a6-aff3-a3b1c7ceb182\",\"type\":\"GlyphRenderer\"},{\"attributes\":{\"callback\":null,\"column_names\":[\"y\",\"fill_alpha\",\"label\",\"line_alpha\",\"x\",\"line_color\",\"color\",\"height\",\"width\"],\"data\":{\"chart_index\":[\"(42.876825, 44.427365]\"],\"color\":[\"#f22c40\"],\"fill_alpha\":[0.8],\"height\":[583.0],\"label\":[\"(42.876825, 44.427365]\"],\"line_alpha\":[1.0],\"line_color\":[\"black\"],\"width\":[1.5505400157089824],\"x\":[\"43.652095\"],\"y\":[291.5]}},\"id\":\"a5138ef6-fc42-4859-9b9f-f0f76a90440e\",\"type\":\"ColumnDataSource\"},{\"attributes\":{\"fill_alpha\":{\"field\":\"fill_alpha\"},\"fill_color\":{\"field\":\"color\"},\"height\":{\"field\":\"height\",\"units\":\"data\"},\"line_color\":{\"field\":\"line_color\"},\"width\":{\"field\":\"width\",\"units\":\"data\"},\"x\":{\"field\":\"x\"},\"y\":{\"field\":\"y\"}},\"id\":\"d8d59940-5d70-4215-9505-778a81443875\",\"type\":\"Rect\"},{\"attributes\":{\"fill_alpha\":{\"field\":\"fill_alpha\"},\"fill_color\":{\"field\":\"color\"},\"height\":{\"field\":\"height\",\"units\":\"data\"},\"line_color\":{\"field\":\"line_color\"},\"width\":{\"field\":\"width\",\"units\":\"data\"},\"x\":{\"field\":\"x\"},\"y\":{\"field\":\"y\"}},\"id\":\"c92cab64-0987-4c2d-89a1-6fe220180dde\",\"type\":\"Rect\"},{\"attributes\":{\"fill_alpha\":{\"field\":\"fill_alpha\"},\"fill_color\":{\"field\":\"color\"},\"height\":{\"field\":\"height\",\"units\":\"data\"},\"line_color\":{\"field\":\"line_color\"},\"width\":{\"field\":\"width\",\"units\":\"data\"},\"x\":{\"field\":\"x\"},\"y\":{\"field\":\"y\"}},\"id\":\"0f991b76-33a1-4edc-8297-0250259d077a\",\"type\":\"Rect\"},{\"attributes\":{\"callback\":null,\"column_names\":[\"y\",\"fill_alpha\",\"label\",\"line_alpha\",\"x\",\"line_color\",\"color\",\"height\",\"width\"],\"data\":{\"chart_index\":[\"(26.004048, 28.003841]\"],\"color\":[\"#f22c40\"],\"fill_alpha\":[0.8],\"height\":[185.0],\"label\":[\"(26.004048, 28.003841]\"],\"line_alpha\":[1.0],\"line_color\":[\"black\"],\"width\":[1.9997923043628951],\"x\":[\"27.003944500000003\"],\"y\":[92.5]}},\"id\":\"344b1990-7c13-4074-9921-5ca8828d2799\",\"type\":\"ColumnDataSource\"},{\"attributes\":{\"fill_alpha\":{\"field\":\"fill_alpha\"},\"fill_color\":{\"field\":\"color\"},\"height\":{\"field\":\"height\",\"units\":\"data\"},\"line_color\":{\"field\":\"line_color\"},\"width\":{\"field\":\"width\",\"units\":\"data\"},\"x\":{\"field\":\"x\"},\"y\":{\"field\":\"y\"}},\"id\":\"79eb09eb-923d-46ba-94f2-1f07cc7b9850\",\"type\":\"Rect\"},{\"attributes\":{\"fill_alpha\":{\"field\":\"fill_alpha\"},\"fill_color\":{\"field\":\"color\"},\"height\":{\"field\":\"height\",\"units\":\"data\"},\"line_color\":{\"field\":\"line_color\"},\"width\":{\"field\":\"width\",\"units\":\"data\"},\"x\":{\"field\":\"x\"},\"y\":{\"field\":\"y\"}},\"id\":\"db8bd6fc-3acf-46ef-97f7-7d4883e85e39\",\"type\":\"Rect\"},{\"attributes\":{\"data_source\":{\"id\":\"5e553c62-7ea4-4805-afe0-012b6b989aaf\",\"type\":\"ColumnDataSource\"},\"glyph\":{\"id\":\"6865b796-bb48-42c8-a48b-97ad3c026225\",\"type\":\"Rect\"},\"hover_glyph\":null,\"nonselection_glyph\":null,\"selection_glyph\":null},\"id\":\"cd72a65b-eac7-43b8-a615-4eddc1e7c6ef\",\"type\":\"GlyphRenderer\"},{\"attributes\":{\"fill_alpha\":{\"field\":\"fill_alpha\"},\"fill_color\":{\"field\":\"color\"},\"height\":{\"field\":\"height\",\"units\":\"data\"},\"line_color\":{\"field\":\"line_color\"},\"width\":{\"field\":\"width\",\"units\":\"data\"},\"x\":{\"field\":\"x\"},\"y\":{\"field\":\"y\"}},\"id\":\"6f6f0da8-a3ca-4a56-b070-0fad075ceead\",\"type\":\"Rect\"},{\"attributes\":{\"data_source\":{\"id\":\"62f94850-96cd-4961-873a-d71a7f29996c\",\"type\":\"ColumnDataSource\"},\"glyph\":{\"id\":\"df2e260c-3915-483b-9e01-f64949666c23\",\"type\":\"Rect\"},\"hover_glyph\":null,\"nonselection_glyph\":null,\"selection_glyph\":null},\"id\":\"683e2c71-eb9a-4db9-806d-b1d8864e92a3\",\"type\":\"GlyphRenderer\"},{\"attributes\":{\"data_source\":{\"id\":\"ceb22121-7a36-4b84-8eab-56b799a4fbd9\",\"type\":\"ColumnDataSource\"},\"glyph\":{\"id\":\"762cd8d2-ff81-4bb6-bdeb-59021335a9d6\",\"type\":\"Rect\"},\"hover_glyph\":null,\"nonselection_glyph\":null,\"selection_glyph\":null},\"id\":\"6a048001-a113-44b8-bfb0-2d136f7bd8c1\",\"type\":\"GlyphRenderer\"},{\"attributes\":{\"plot\":{\"id\":\"7a1cd8b3-4ad4-43a6-9e36-4c8297df94c3\",\"subtype\":\"Chart\",\"type\":\"Plot\"}},\"id\":\"7ffcade7-9c6a-4e7f-83e0-ab31613c589f\",\"type\":\"WheelZoomTool\"},{\"attributes\":{\"data_source\":{\"id\":\"84544d48-c96d-4d04-a8f8-4ff1f771a7d0\",\"type\":\"ColumnDataSource\"},\"glyph\":{\"id\":\"348c9162-d07f-4520-93d3-c38d1688d9ce\",\"type\":\"Rect\"},\"hover_glyph\":null,\"nonselection_glyph\":null,\"selection_glyph\":null},\"id\":\"22d802bf-d05d-4269-b0cb-190a590f3732\",\"type\":\"GlyphRenderer\"},{\"attributes\":{\"fill_alpha\":{\"field\":\"fill_alpha\"},\"fill_color\":{\"field\":\"color\"},\"height\":{\"field\":\"height\",\"units\":\"data\"},\"line_color\":{\"field\":\"line_color\"},\"width\":{\"field\":\"width\",\"units\":\"data\"},\"x\":{\"field\":\"x\"},\"y\":{\"field\":\"y\"}},\"id\":\"92fcc1cb-c930-46e2-b140-e629f9b20e6b\",\"type\":\"Rect\"},{\"attributes\":{\"callback\":null,\"column_names\":[\"y\",\"fill_alpha\",\"label\",\"line_alpha\",\"x\",\"line_color\",\"color\",\"height\",\"width\"],\"data\":{\"chart_index\":[\"(40.002595, 42.002387]\"],\"color\":[\"#f22c40\"],\"fill_alpha\":[0.8],\"height\":[189.0],\"label\":[\"(40.002595, 42.002387]\"],\"line_alpha\":[1.0],\"line_color\":[\"black\"],\"width\":[1.9997923043628987],\"x\":[\"41.002491\"],\"y\":[94.5]}},\"id\":\"3980a6d2-d705-4f4b-8474-f81c92107ec2\",\"type\":\"ColumnDataSource\"},{\"attributes\":{\"callback\":null,\"end\":1012.0395693094033,\"start\":-24.678919309403206},\"id\":\"b8cd6db5-c7d8-4d8b-a534-e019438a915a\",\"type\":\"Range1d\"},{\"attributes\":{\"data_source\":{\"id\":\"224707f9-7f9c-4db8-a20a-343011946191\",\"type\":\"ColumnDataSource\"},\"glyph\":{\"id\":\"3de6e56c-e3c4-4509-8437-8cf7120a6322\",\"type\":\"Rect\"},\"hover_glyph\":null,\"nonselection_glyph\":null,\"selection_glyph\":null},\"id\":\"78d6e035-78df-476e-9ac9-6ed0e705f6ab\",\"type\":\"GlyphRenderer\"},{\"attributes\":{\"callback\":null,\"column_names\":[\"y\",\"fill_alpha\",\"label\",\"line_alpha\",\"x\",\"line_color\",\"color\",\"height\",\"width\"],\"data\":{\"chart_index\":[\"(19.752106, 39.499115]\"],\"color\":[\"#f22c40\"],\"fill_alpha\":[0.8],\"height\":[1476.0],\"label\":[\"(19.752106, 39.499115]\"],\"line_alpha\":[1.0],\"line_color\":[\"black\"],\"width\":[19.74700911880641],\"x\":[\"29.6256105\"],\"y\":[738.0]}},\"id\":\"99cc85ce-5d6e-4a89-9f19-9f4ccf36740e\",\"type\":\"ColumnDataSource\"},{\"attributes\":{\"data_source\":{\"id\":\"2a5c081e-4ffc-468c-806e-d1bf311e36ad\",\"type\":\"ColumnDataSource\"},\"glyph\":{\"id\":\"c92cab64-0987-4c2d-89a1-6fe220180dde\",\"type\":\"Rect\"},\"hover_glyph\":null,\"nonselection_glyph\":null,\"selection_glyph\":null},\"id\":\"21421db4-c386-48a7-b55c-c59e0255dfb8\",\"type\":\"GlyphRenderer\"},{\"attributes\":{\"below\":[{\"id\":\"62db9dbb-b640-4fd7-b857-c6870cc36c48\",\"type\":\"LinearAxis\"}],\"css_classes\":null,\"height\":300,\"left\":[{\"id\":\"899be959-006b-4ec5-af02-2658400af21e\",\"type\":\"LinearAxis\"}],\"renderers\":[{\"id\":\"40c6d669-642a-419a-a9cb-cfae9d7cf540\",\"type\":\"BoxAnnotation\"},{\"id\":\"b648f306-f193-4176-a4dd-539c8364cdf4\",\"type\":\"GlyphRenderer\"},{\"id\":\"474d40ba-fe84-462f-9462-1e8402de36c4\",\"type\":\"GlyphRenderer\"},{\"id\":\"2d4da949-faea-4d4e-9640-bd907267757b\",\"type\":\"GlyphRenderer\"},{\"id\":\"7731e8c1-312c-44dc-99ce-58a626c0920e\",\"type\":\"GlyphRenderer\"},{\"id\":\"c681a6a1-aa40-444c-a72e-e28c85c89e91\",\"type\":\"GlyphRenderer\"},{\"id\":\"f28d907e-1cef-483e-8d92-b920ea6196b1\",\"type\":\"GlyphRenderer\"},{\"id\":\"fe806e50-12bc-4e3a-a3a5-38266c1a175f\",\"type\":\"GlyphRenderer\"},{\"id\":\"26a4d4dc-d782-479f-bf29-e741321eb843\",\"type\":\"GlyphRenderer\"},{\"id\":\"99a0eda2-bb86-4c60-84ab-3cf56914050f\",\"type\":\"GlyphRenderer\"},{\"id\":\"4c86abbd-98f8-4786-8888-3f8ae12e73f7\",\"type\":\"GlyphRenderer\"},{\"id\":\"1928cb8c-13b6-45b4-b1bf-397fd1e30a57\",\"type\":\"GlyphRenderer\"},{\"id\":\"b29d7f12-eabf-4e97-97b5-7066aa630000\",\"type\":\"GlyphRenderer\"},{\"id\":\"62f4f982-d48f-49fb-8962-04b92511d6d6\",\"type\":\"GlyphRenderer\"},{\"id\":\"21d298e3-5676-406a-8ad9-d9164dabdb8b\",\"type\":\"GlyphRenderer\"},{\"id\":\"28211538-4540-464a-83cc-3bfb4e71becb\",\"type\":\"GlyphRenderer\"},{\"id\":\"133173be-208f-4320-a3d1-797d796ee884\",\"type\":\"GlyphRenderer\"},{\"id\":\"e5b659c9-5b08-4f93-bb14-71e229896a95\",\"type\":\"GlyphRenderer\"},{\"id\":\"8b5a4e7e-622b-4852-a1c4-301acd617458\",\"type\":\"GlyphRenderer\"},{\"id\":\"8e618c12-8871-4bbf-883f-374a788905a3\",\"type\":\"GlyphRenderer\"},{\"id\":\"5a3409e1-f024-4087-96f7-0c03a159bd4b\",\"type\":\"GlyphRenderer\"},{\"id\":\"3cd69d30-1298-49f4-b747-f2f714ee4297\",\"type\":\"GlyphRenderer\"},{\"id\":\"ec046f6a-e8ec-444a-95fc-da48dd1d9dc8\",\"type\":\"GlyphRenderer\"},{\"id\":\"26a0eb84-4244-4b88-95c0-5a08f943124a\",\"type\":\"GlyphRenderer\"},{\"id\":\"bf1603de-78ab-461f-9b76-e018282ad658\",\"type\":\"GlyphRenderer\"},{\"id\":\"061a94e6-69e4-49c4-ad64-e62ceccc7b7d\",\"type\":\"GlyphRenderer\"},{\"id\":\"d3d17263-4aab-47a6-aff3-a3b1c7ceb182\",\"type\":\"GlyphRenderer\"},{\"id\":\"732cb44e-cad9-4210-9e10-c1ab701ea107\",\"type\":\"GlyphRenderer\"},{\"id\":\"a5fd5f3d-5b54-4175-ab7a-2b35949309a2\",\"type\":\"GlyphRenderer\"},{\"id\":\"47babe31-2d30-491d-953c-c8b66aee7767\",\"type\":\"GlyphRenderer\"},{\"id\":\"705b29c3-f9e6-4db7-be73-99770fd119ca\",\"type\":\"GlyphRenderer\"},{\"id\":\"9a42212c-b428-4f0c-b8cc-7bc3a39d8588\",\"type\":\"GlyphRenderer\"},{\"id\":\"8138a81f-e336-4af4-baf5-3581e4ad8b1c\",\"type\":\"GlyphRenderer\"},{\"id\":\"58d8c0ae-d7be-422a-a93c-5538ba8da203\",\"type\":\"GlyphRenderer\"},{\"id\":\"5201a242-bdf9-40e0-8dc9-434e291d72b7\",\"type\":\"GlyphRenderer\"},{\"id\":\"22d802bf-d05d-4269-b0cb-190a590f3732\",\"type\":\"GlyphRenderer\"},{\"id\":\"6c714077-9f65-4478-a19f-62bbaea3e248\",\"type\":\"GlyphRenderer\"},{\"id\":\"1b4451e0-9015-4f87-baa7-9c96090f946e\",\"type\":\"GlyphRenderer\"},{\"id\":\"683e2c71-eb9a-4db9-806d-b1d8864e92a3\",\"type\":\"GlyphRenderer\"},{\"id\":\"7a103df1-f95e-497d-bb6a-166aca99ff56\",\"type\":\"GlyphRenderer\"},{\"id\":\"130ce64c-4cfd-4185-846b-7720a7451163\",\"type\":\"GlyphRenderer\"},{\"id\":\"72113edc-5573-4b74-92f0-c24ab9e32c20\",\"type\":\"GlyphRenderer\"},{\"id\":\"46fddb68-d7db-4f06-b709-24b16dbea11b\",\"type\":\"GlyphRenderer\"},{\"id\":\"6c3d2aaa-88e9-41cd-ae30-9a8a8feaecd5\",\"type\":\"GlyphRenderer\"},{\"id\":\"3c3b3e7f-b82d-4065-aecd-f911f1f0b70d\",\"type\":\"GlyphRenderer\"},{\"id\":\"57c62e2b-12f0-44c8-b499-e3d97f25a079\",\"type\":\"GlyphRenderer\"},{\"id\":\"251185f7-49ea-49ef-9515-312ba5bd7b4f\",\"type\":\"GlyphRenderer\"},{\"id\":\"e4bfc5fd-42fc-434e-b059-8b0b0bbe133e\",\"type\":\"GlyphRenderer\"},{\"id\":\"188c47ab-6b11-41ed-b04b-0fea6ae42102\",\"type\":\"GlyphRenderer\"},{\"id\":\"d4e35b21-7744-4039-8192-17f6eecdeb87\",\"type\":\"GlyphRenderer\"},{\"id\":\"92c1fc04-696b-4f74-be6e-03361cfda69f\",\"type\":\"GlyphRenderer\"},{\"id\":\"6fd03de5-1ce0-40ee-811f-dbda893959e4\",\"type\":\"Legend\"},{\"id\":\"62db9dbb-b640-4fd7-b857-c6870cc36c48\",\"type\":\"LinearAxis\"},{\"id\":\"899be959-006b-4ec5-af02-2658400af21e\",\"type\":\"LinearAxis\"},{\"id\":\"e7555eca-df05-4d50-a14d-2c00aad45a43\",\"type\":\"Grid\"}],\"title\":{\"id\":\"e24364f1-3000-406f-b02d-1575067add9b\",\"type\":\"Title\"},\"tool_events\":{\"id\":\"ca12f928-d2e6-490e-9665-f62a02b78a8b\",\"type\":\"ToolEvents\"},\"toolbar\":{\"id\":\"3e66da9e-8d33-4bd0-a4d3-2dfbc11d9653\",\"type\":\"Toolbar\"},\"toolbar_location\":null,\"width\":350,\"x_mapper_type\":\"auto\",\"x_range\":{\"id\":\"eaec2e11-48f1-4a94-8dc8-af5314f58e95\",\"type\":\"Range1d\"},\"y_mapper_type\":\"auto\",\"y_range\":{\"id\":\"0e9dee5a-1115-4c48-bb74-bfafd4e0d336\",\"type\":\"Range1d\"}},\"id\":\"42cfec60-226a-4b10-b05a-c87660a395df\",\"subtype\":\"Chart\",\"type\":\"Plot\"},{\"attributes\":{\"fill_alpha\":{\"field\":\"fill_alpha\"},\"fill_color\":{\"field\":\"color\"},\"height\":{\"field\":\"height\",\"units\":\"data\"},\"line_color\":{\"field\":\"line_color\"},\"width\":{\"field\":\"width\",\"units\":\"data\"},\"x\":{\"field\":\"x\"},\"y\":{\"field\":\"y\"}},\"id\":\"b2b78ace-7a57-4b7e-8155-91bdae710a4b\",\"type\":\"Rect\"},{\"attributes\":{\"data_source\":{\"id\":\"4e2310d9-4b6b-4265-b3e1-698f4cf8d466\",\"type\":\"ColumnDataSource\"},\"glyph\":{\"id\":\"8e2afebd-43ff-4597-a028-c9136c3ae9ec\",\"type\":\"Rect\"},\"hover_glyph\":null,\"nonselection_glyph\":null,\"selection_glyph\":null},\"id\":\"bcd76839-be4a-4542-af73-2cbefd480012\",\"type\":\"GlyphRenderer\"},{\"attributes\":{\"overlay\":{\"id\":\"683beb0e-57f9-490f-9720-56e0733a7bea\",\"type\":\"BoxAnnotation\"},\"plot\":{\"id\":\"ebf80998-1d9b-4911-98bb-96a6b2bac537\",\"subtype\":\"Chart\",\"type\":\"Plot\"}},\"id\":\"60dbb18e-1ebb-441f-8988-d56575b2f7be\",\"type\":\"BoxZoomTool\"},{\"attributes\":{\"callback\":null,\"column_names\":[\"y\",\"fill_alpha\",\"label\",\"line_alpha\",\"x\",\"line_color\",\"color\",\"height\",\"width\"],\"data\":{\"chart_index\":[\"(296.210234, 315.957243]\"],\"color\":[\"#f22c40\"],\"fill_alpha\":[0.8],\"height\":[92.0],\"label\":[\"(296.210234, 315.957243]\"],\"line_alpha\":[1.0],\"line_color\":[\"black\"],\"width\":[19.74700911880643],\"x\":[\"306.0837385\"],\"y\":[46.0]}},\"id\":\"23386c2b-e2e5-4caa-8cfb-5b873e04a66e\",\"type\":\"ColumnDataSource\"},{\"attributes\":{\"children\":[{\"id\":\"7a1cd8b3-4ad4-43a6-9e36-4c8297df94c3\",\"subtype\":\"Chart\",\"type\":\"Plot\"},{\"id\":\"42cfec60-226a-4b10-b05a-c87660a395df\",\"subtype\":\"Chart\",\"type\":\"Plot\"}]},\"id\":\"5bb3a33c-d254-4abc-b761-71cff8e5dd0f\",\"type\":\"Row\"},{\"attributes\":{\"data_source\":{\"id\":\"b8b20d25-6059-49fe-ab90-527adfd1d04e\",\"type\":\"ColumnDataSource\"},\"glyph\":{\"id\":\"4ea3149f-dc9f-4115-919d-35ba0a675723\",\"type\":\"Rect\"},\"hover_glyph\":null,\"nonselection_glyph\":null,\"selection_glyph\":null},\"id\":\"705b29c3-f9e6-4db7-be73-99770fd119ca\",\"type\":\"GlyphRenderer\"},{\"attributes\":{\"active_drag\":\"auto\",\"active_scroll\":\"auto\",\"active_tap\":\"auto\",\"tools\":[{\"id\":\"616a64c6-f255-4d0e-96f7-4895b8e16b52\",\"type\":\"PanTool\"},{\"id\":\"29675712-0cbf-4b38-a473-68b1191c4e8f\",\"type\":\"WheelZoomTool\"},{\"id\":\"60dbb18e-1ebb-441f-8988-d56575b2f7be\",\"type\":\"BoxZoomTool\"},{\"id\":\"6ca9fbbb-3851-40a5-8cd6-7f66a156c78d\",\"type\":\"SaveTool\"},{\"id\":\"47f9e7b3-3101-4878-a122-634fdf208483\",\"type\":\"ResetTool\"},{\"id\":\"2d1a4c14-6098-4cfd-a992-9c32e8abd5e0\",\"type\":\"HelpTool\"}]},\"id\":\"3c7335cc-e6c4-4cc3-9426-e39972a226ed\",\"type\":\"Toolbar\"},{\"attributes\":{\"callback\":null,\"column_names\":[\"y\",\"fill_alpha\",\"label\",\"line_alpha\",\"x\",\"line_color\",\"color\",\"height\",\"width\"],\"data\":{\"chart_index\":[\"(105.499625, 107.455714]\"],\"color\":[\"#f22c40\"],\"fill_alpha\":[0.8],\"height\":[143.0],\"label\":[\"(105.499625, 107.455714]\"],\"line_alpha\":[1.0],\"line_color\":[\"black\"],\"width\":[1.9560889049004118],\"x\":[\"106.47766949999999\"],\"y\":[71.5]}},\"id\":\"6f17a9ac-07fc-46fc-8f38-218a5858bd00\",\"type\":\"ColumnDataSource\"},{\"attributes\":{\"callback\":null,\"column_names\":[\"y\",\"fill_alpha\",\"label\",\"line_alpha\",\"x\",\"line_color\",\"color\",\"height\",\"width\"],\"data\":{\"chart_index\":[\"(98.740142, 118.487152]\"],\"color\":[\"#f22c40\"],\"fill_alpha\":[0.8],\"height\":[707.0],\"label\":[\"(98.740142, 118.487152]\"],\"line_alpha\":[1.0],\"line_color\":[\"black\"],\"width\":[19.747009118806417],\"x\":[\"108.613647\"],\"y\":[353.5]}},\"id\":\"5b747e7a-0578-4872-985f-a09df47c3bb1\",\"type\":\"ColumnDataSource\"},{\"attributes\":{\"data_source\":{\"id\":\"b9311cca-990d-4e5b-80fd-ed8f75cc314a\",\"type\":\"ColumnDataSource\"},\"glyph\":{\"id\":\"4f9e8aa5-dd5c-4696-b82a-3f4725f9c563\",\"type\":\"Rect\"},\"hover_glyph\":null,\"nonselection_glyph\":null,\"selection_glyph\":null},\"id\":\"c89b3fb9-e219-42a3-9bcc-0b959197a1a7\",\"type\":\"GlyphRenderer\"},{\"attributes\":{\"fill_alpha\":{\"field\":\"fill_alpha\"},\"fill_color\":{\"field\":\"color\"},\"height\":{\"field\":\"height\",\"units\":\"data\"},\"line_color\":{\"field\":\"line_color\"},\"width\":{\"field\":\"width\",\"units\":\"data\"},\"x\":{\"field\":\"x\"},\"y\":{\"field\":\"y\"}},\"id\":\"be94f6bb-08bd-4bc3-833b-bd168329002b\",\"type\":\"Rect\"},{\"attributes\":{\"callback\":null,\"column_names\":[\"y\",\"fill_alpha\",\"label\",\"line_alpha\",\"x\",\"line_color\",\"color\",\"height\",\"width\"],\"data\":{\"chart_index\":[\"(13.416565, 14.967105]\"],\"color\":[\"#f22c40\"],\"fill_alpha\":[0.8],\"height\":[20.0],\"label\":[\"(13.416565, 14.967105]\"],\"line_alpha\":[1.0],\"line_color\":[\"black\"],\"width\":[1.5505400157089877],\"x\":[\"14.191835000000001\"],\"y\":[10.0]}},\"id\":\"5e553c62-7ea4-4805-afe0-012b6b989aaf\",\"type\":\"ColumnDataSource\"},{\"attributes\":{\"data_source\":{\"id\":\"12a08d23-27a1-4656-a62d-523884930659\",\"type\":\"ColumnDataSource\"},\"glyph\":{\"id\":\"48c8ebcf-8159-47ff-8157-8c98eeffd0f7\",\"type\":\"Rect\"},\"hover_glyph\":null,\"nonselection_glyph\":null,\"selection_glyph\":null},\"id\":\"befe894a-17ff-4232-9b3a-b0036e0d8686\",\"type\":\"GlyphRenderer\"},{\"attributes\":{\"data_source\":{\"id\":\"48298d5f-1a57-4983-b159-e8ccf10378e6\",\"type\":\"ColumnDataSource\"},\"glyph\":{\"id\":\"2de036df-1986-47f9-8c2b-77697b2854e9\",\"type\":\"Rect\"},\"hover_glyph\":null,\"nonselection_glyph\":null,\"selection_glyph\":null},\"id\":\"acf035d8-6597-4e2d-93db-a3a84315880d\",\"type\":\"GlyphRenderer\"},{\"attributes\":{\"fill_alpha\":{\"field\":\"fill_alpha\"},\"fill_color\":{\"field\":\"color\"},\"height\":{\"field\":\"height\",\"units\":\"data\"},\"line_color\":{\"field\":\"line_color\"},\"width\":{\"field\":\"width\",\"units\":\"data\"},\"x\":{\"field\":\"x\"},\"y\":{\"field\":\"y\"}},\"id\":\"43bc8812-c6cc-436d-b518-adc2c135d33f\",\"type\":\"Rect\"},{\"attributes\":{\"fill_alpha\":{\"field\":\"fill_alpha\"},\"fill_color\":{\"field\":\"color\"},\"height\":{\"field\":\"height\",\"units\":\"data\"},\"line_color\":{\"field\":\"line_color\"},\"width\":{\"field\":\"width\",\"units\":\"data\"},\"x\":{\"field\":\"x\"},\"y\":{\"field\":\"y\"}},\"id\":\"82381cea-99d6-4499-9acc-819165d5157d\",\"type\":\"Rect\"},{\"attributes\":{\"data_source\":{\"id\":\"fc2251da-72c2-4f6e-959c-36bfa5019aa9\",\"type\":\"ColumnDataSource\"},\"glyph\":{\"id\":\"669d5458-6414-4ea1-a052-7f597e6af951\",\"type\":\"Rect\"},\"hover_glyph\":null,\"nonselection_glyph\":null,\"selection_glyph\":null},\"id\":\"a8f43385-5582-4157-870e-3e1814b0a84c\",\"type\":\"GlyphRenderer\"},{\"attributes\":{\"callback\":null,\"column_names\":[\"y\",\"fill_alpha\",\"label\",\"line_alpha\",\"x\",\"line_color\",\"color\",\"height\",\"width\"],\"data\":{\"chart_index\":[\"(888.620507, 908.367516]\"],\"color\":[\"#f22c40\"],\"fill_alpha\":[0.8],\"height\":[0.0],\"label\":[\"(888.620507, 908.367516]\"],\"line_alpha\":[1.0],\"line_color\":[\"black\"],\"width\":[19.747009118806318],\"x\":[\"898.4940114999999\"],\"y\":[0.0]}},\"id\":\"41473bc3-49f1-46ab-911d-98d57b04f9f3\",\"type\":\"ColumnDataSource\"},{\"attributes\":{\"fill_alpha\":{\"field\":\"fill_alpha\"},\"fill_color\":{\"field\":\"color\"},\"height\":{\"field\":\"height\",\"units\":\"data\"},\"line_color\":{\"field\":\"line_color\"},\"width\":{\"field\":\"width\",\"units\":\"data\"},\"x\":{\"field\":\"x\"},\"y\":{\"field\":\"y\"}},\"id\":\"cfe73879-b1e4-45c1-b1dc-a860a2d5f723\",\"type\":\"Rect\"},{\"attributes\":{\"data_source\":{\"id\":\"0151c009-4ae0-440a-ae68-d354c971d8f4\",\"type\":\"ColumnDataSource\"},\"glyph\":{\"id\":\"e9471b23-ad47-46d6-9cb7-4088ab6bae69\",\"type\":\"Rect\"},\"hover_glyph\":null,\"nonselection_glyph\":null,\"selection_glyph\":null},\"id\":\"e5dd4f19-f968-475c-8012-3de6d4e32c83\",\"type\":\"GlyphRenderer\"},{\"attributes\":{\"callback\":null,\"column_names\":[\"y\",\"fill_alpha\",\"label\",\"line_alpha\",\"x\",\"line_color\",\"color\",\"height\",\"width\"],\"data\":{\"chart_index\":[\"(60.000518, 62.000310]\"],\"color\":[\"#f22c40\"],\"fill_alpha\":[0.8],\"height\":[185.0],\"label\":[\"(60.000518, 62.000310]\"],\"line_alpha\":[1.0],\"line_color\":[\"black\"],\"width\":[1.9997923043628987],\"x\":[\"61.000414\"],\"y\":[92.5]}},\"id\":\"6a2600c0-cddf-48ea-91e1-76e2e1e7835c\",\"type\":\"ColumnDataSource\"},{\"attributes\":{\"data_source\":{\"id\":\"5da3eb41-fdd6-40c5-9755-98089819478d\",\"type\":\"ColumnDataSource\"},\"glyph\":{\"id\":\"51ea8496-dd20-45e9-9ad3-e1ccc0873e32\",\"type\":\"Rect\"},\"hover_glyph\":null,\"nonselection_glyph\":null,\"selection_glyph\":null},\"id\":\"fc6ae4aa-1e79-4fdb-ac4f-2e54552c1bfc\",\"type\":\"GlyphRenderer\"},{\"attributes\":{\"fill_alpha\":{\"field\":\"fill_alpha\"},\"fill_color\":{\"field\":\"color\"},\"height\":{\"field\":\"height\",\"units\":\"data\"},\"line_color\":{\"field\":\"line_color\"},\"width\":{\"field\":\"width\",\"units\":\"data\"},\"x\":{\"field\":\"x\"},\"y\":{\"field\":\"y\"}},\"id\":\"0eca5f23-ccc1-4d6b-9956-25d3c597b51d\",\"type\":\"Rect\"},{\"attributes\":{\"callback\":null,\"column_names\":[\"y\",\"fill_alpha\",\"label\",\"line_alpha\",\"x\",\"line_color\",\"color\",\"height\",\"width\"],\"data\":{\"chart_index\":[\"(533.174343, 552.921352]\"],\"color\":[\"#f22c40\"],\"fill_alpha\":[0.8],\"height\":[7.0],\"label\":[\"(533.174343, 552.921352]\"],\"line_alpha\":[1.0],\"line_color\":[\"black\"],\"width\":[19.74700911880643],\"x\":[\"543.0478475\"],\"y\":[3.5]}},\"id\":\"4452b940-8b54-4c69-9fbc-f6928b4a2674\",\"type\":\"ColumnDataSource\"},{\"attributes\":{\"data_source\":{\"id\":\"6181ac2f-f66f-4f6f-9aff-a899cf656e28\",\"type\":\"ColumnDataSource\"},\"glyph\":{\"id\":\"563c7ae4-2fe4-41c7-9b56-265b24b64035\",\"type\":\"Rect\"},\"hover_glyph\":null,\"nonselection_glyph\":null,\"selection_glyph\":null},\"id\":\"26a4d4dc-d782-479f-bf29-e741321eb843\",\"type\":\"GlyphRenderer\"},{\"attributes\":{\"data_source\":{\"id\":\"ac25e28d-cd5c-4594-b377-0137c302f897\",\"type\":\"ColumnDataSource\"},\"glyph\":{\"id\":\"e43b5d17-ce51-4f44-8a5f-e67b269f3342\",\"type\":\"Rect\"},\"hover_glyph\":null,\"nonselection_glyph\":null,\"selection_glyph\":null},\"id\":\"b648f306-f193-4176-a4dd-539c8364cdf4\",\"type\":\"GlyphRenderer\"},{\"attributes\":{\"fill_alpha\":{\"field\":\"fill_alpha\"},\"fill_color\":{\"field\":\"color\"},\"height\":{\"field\":\"height\",\"units\":\"data\"},\"line_color\":{\"field\":\"line_color\"},\"width\":{\"field\":\"width\",\"units\":\"data\"},\"x\":{\"field\":\"x\"},\"y\":{\"field\":\"y\"}},\"id\":\"adb4fd04-92f9-4279-94cf-168421208f1f\",\"type\":\"Rect\"},{\"attributes\":{\"data_source\":{\"id\":\"f32822d2-ad56-4ee5-80be-d039543ba8b9\",\"type\":\"ColumnDataSource\"},\"glyph\":{\"id\":\"6171acca-28a9-4259-87ba-3633e378e63b\",\"type\":\"Rect\"},\"hover_glyph\":null,\"nonselection_glyph\":null,\"selection_glyph\":null},\"id\":\"2e70c7f3-8b95-4f05-8a9f-dc5a0a8d3a62\",\"type\":\"GlyphRenderer\"},{\"attributes\":{\"data_source\":{\"id\":\"ac31fa51-bddc-40dd-bc78-18dbb3e0260b\",\"type\":\"ColumnDataSource\"},\"glyph\":{\"id\":\"ecfbc020-a46d-479c-b6c8-da828fb602c0\",\"type\":\"Rect\"},\"hover_glyph\":null,\"nonselection_glyph\":null,\"selection_glyph\":null},\"id\":\"46fddb68-d7db-4f06-b709-24b16dbea11b\",\"type\":\"GlyphRenderer\"},{\"attributes\":{\"fill_alpha\":{\"field\":\"fill_alpha\"},\"fill_color\":{\"field\":\"color\"},\"height\":{\"field\":\"height\",\"units\":\"data\"},\"line_color\":{\"field\":\"line_color\"},\"width\":{\"field\":\"width\",\"units\":\"data\"},\"x\":{\"field\":\"x\"},\"y\":{\"field\":\"y\"}},\"id\":\"fd82cef5-d900-4b0a-b039-5f025c9e2384\",\"type\":\"Rect\"},{\"attributes\":{\"callback\":null,\"column_names\":[\"y\",\"fill_alpha\",\"label\",\"line_alpha\",\"x\",\"line_color\",\"color\",\"height\",\"width\"],\"data\":{\"chart_index\":[\"(107.455714, 109.411803]\"],\"color\":[\"#f22c40\"],\"fill_alpha\":[0.8],\"height\":[125.0],\"label\":[\"(107.455714, 109.411803]\"],\"line_alpha\":[1.0],\"line_color\":[\"black\"],\"width\":[1.9560889049004118],\"x\":[\"108.43375850000001\"],\"y\":[62.5]}},\"id\":\"89aa9084-e1f5-481b-a3a5-ae48d275c468\",\"type\":\"ColumnDataSource\"},{\"attributes\":{\"callback\":null,\"column_names\":[\"y\",\"fill_alpha\",\"label\",\"line_alpha\",\"x\",\"line_color\",\"color\",\"height\",\"width\"],\"data\":{\"chart_index\":[\"(40.948692, 42.904780]\"],\"color\":[\"#f22c40\"],\"fill_alpha\":[0.8],\"height\":[211.0],\"label\":[\"(40.948692, 42.904780]\"],\"line_alpha\":[1.0],\"line_color\":[\"black\"],\"width\":[1.9560889049004047],\"x\":[\"41.926736000000005\"],\"y\":[105.5]}},\"id\":\"64b3c0e4-79d6-4ed8-9cde-0c4c99fb9b51\",\"type\":\"ColumnDataSource\"},{\"attributes\":{\"data_source\":{\"id\":\"08374b74-c12a-4d82-8d0c-42c0ba49fb17\",\"type\":\"ColumnDataSource\"},\"glyph\":{\"id\":\"8adc132c-9c7f-4412-bc6a-b12360ad0c83\",\"type\":\"Rect\"},\"hover_glyph\":null,\"nonselection_glyph\":null,\"selection_glyph\":null},\"id\":\"3ff5f8b4-765f-4048-b633-bf441c2e7d5b\",\"type\":\"GlyphRenderer\"},{\"attributes\":{\"callback\":null,\"column_names\":[\"y\",\"fill_alpha\",\"label\",\"line_alpha\",\"x\",\"line_color\",\"color\",\"height\",\"width\"],\"data\":{\"chart_index\":[\"(67.685465, 69.236005]\"],\"color\":[\"#f22c40\"],\"fill_alpha\":[0.8],\"height\":[9.0],\"label\":[\"(67.685465, 69.236005]\"],\"line_alpha\":[1.0],\"line_color\":[\"black\"],\"width\":[1.5505400157089895],\"x\":[\"68.460735\"],\"y\":[4.5]}},\"id\":\"62a355ad-5c25-4cb7-a250-46905c053808\",\"type\":\"ColumnDataSource\"},{\"attributes\":{\"callback\":null,\"column_names\":[\"y\",\"fill_alpha\",\"label\",\"line_alpha\",\"x\",\"line_color\",\"color\",\"height\",\"width\"],\"data\":{\"chart_index\":[\"(56.000933, 58.000725]\"],\"color\":[\"#f22c40\"],\"fill_alpha\":[0.8],\"height\":[219.0],\"label\":[\"(56.000933, 58.000725]\"],\"line_alpha\":[1.0],\"line_color\":[\"black\"],\"width\":[1.9997923043628987],\"x\":[\"57.000829\"],\"y\":[109.5]}},\"id\":\"24fa2a33-10b5-4e9c-b166-e8b8b10aba05\",\"type\":\"ColumnDataSource\"},{\"attributes\":{\"data_source\":{\"id\":\"f90133e9-ea49-484e-9977-41ef7d2fef25\",\"type\":\"ColumnDataSource\"},\"glyph\":{\"id\":\"79eb09eb-923d-46ba-94f2-1f07cc7b9850\",\"type\":\"Rect\"},\"hover_glyph\":null,\"nonselection_glyph\":null,\"selection_glyph\":null},\"id\":\"e5993439-a5bc-485e-982c-a20b9c1d76f9\",\"type\":\"GlyphRenderer\"},{\"attributes\":{\"callback\":null,\"column_names\":[\"y\",\"fill_alpha\",\"label\",\"line_alpha\",\"x\",\"line_color\",\"color\",\"height\",\"width\"],\"data\":{\"chart_index\":[\"(177.728179, 197.475188]\"],\"color\":[\"#f22c40\"],\"fill_alpha\":[0.8],\"height\":[297.0],\"label\":[\"(177.728179, 197.475188]\"],\"line_alpha\":[1.0],\"line_color\":[\"black\"],\"width\":[19.747009118806403],\"x\":[\"187.6016835\"],\"y\":[148.5]}},\"id\":\"1819ed15-e34a-4a3d-9a65-8aca4e8b2f4e\",\"type\":\"ColumnDataSource\"}],\"root_ids\":[\"ee7e99b1-47c0-4522-a9cd-351bf9b71d8b\"]},\"title\":\"Bokeh Application\",\"version\":\"0.12.4\"}};\n",
       "            var render_items = [{\"docid\":\"76c0ceb9-606b-409d-ab3c-7262b92ab353\",\"elementid\":\"25313650-59dd-4012-87fb-21c30d6f2c0f\",\"modelid\":\"ee7e99b1-47c0-4522-a9cd-351bf9b71d8b\"}];\n",
       "            \n",
       "            Bokeh.embed.embed_items(docs_json, render_items);\n",
       "          };\n",
       "          if (document.readyState != \"loading\") fn();\n",
       "          else document.addEventListener(\"DOMContentLoaded\", fn);\n",
       "        })();\n",
       "      },\n",
       "      function(Bokeh) {\n",
       "      }\n",
       "    ];\n",
       "  \n",
       "    function run_inline_js() {\n",
       "      \n",
       "      if ((window.Bokeh !== undefined) || (force === true)) {\n",
       "        for (var i = 0; i < inline_js.length; i++) {\n",
       "          inline_js[i](window.Bokeh);\n",
       "        }if (force === true) {\n",
       "          display_loaded();\n",
       "        }} else if (Date.now() < window._bokeh_timeout) {\n",
       "        setTimeout(run_inline_js, 100);\n",
       "      } else if (!window._bokeh_failed_load) {\n",
       "        console.log(\"Bokeh: BokehJS failed to load within specified timeout.\");\n",
       "        window._bokeh_failed_load = true;\n",
       "      } else if (force !== true) {\n",
       "        var cell = $(document.getElementById(\"25313650-59dd-4012-87fb-21c30d6f2c0f\")).parents('.cell').data().cell;\n",
       "        cell.output_area.append_execute_result(NB_LOAD_WARNING)\n",
       "      }\n",
       "  \n",
       "    }\n",
       "  \n",
       "    if (window._bokeh_is_loading === 0) {\n",
       "      console.log(\"Bokeh: BokehJS loaded, going straight to plotting\");\n",
       "      run_inline_js();\n",
       "    } else {\n",
       "      load_libs(js_urls, function() {\n",
       "        console.log(\"Bokeh: BokehJS plotting callback run at\", now());\n",
       "        run_inline_js();\n",
       "      });\n",
       "    }\n",
       "  }(this));\n",
       "</script>"
      ]
     },
     "metadata": {},
     "output_type": "display_data"
    }
   ],
   "source": [
    "import scipy.stats\n",
    "from bokeh.charts import Histogram\n",
    "\n",
    "w, h = 350, 300\n",
    "\n",
    "dists = [\n",
    "    scipy.stats.expon(scale=100), # the frozed uniform distribution\n",
    "    scipy.stats.norm(loc=40, scale=10), # the frozed uniform distribution\n",
    "    scipy.stats.uniform(loc=20, scale=100), # the frozed uniform distribution\n",
    "    scipy.stats.beta(2,2,loc=20, scale=100) # the frozed uniform distribution\n",
    "]\n",
    "\n",
    "figs = [ Histogram(dist.rvs(1e4), bins=50, \n",
    "                   width=w, height=h, \n",
    "                   xlabel=None, ylabel=None)\n",
    "        for dist in dists ]\n",
    "\n",
    "bk.show(bk.gridplot([[figs[0], figs[1]],\n",
    "                     [figs[2], figs[3]] \n",
    "                     ]))"
   ]
  },
  {
   "cell_type": "markdown",
   "metadata": {},
   "source": [
    "---\n",
    "\n",
    "Visit [www.add-for.com](<http://www.add-for.com/IT>) for more tutorials and updates.\n",
    "\n",
    "This work is licensed under a <a rel=\"license\" href=\"http://creativecommons.org/licenses/by-sa/4.0/\">Creative Commons Attribution-ShareAlike 4.0 International License</a>."
   ]
  }
 ],
 "metadata": {
  "anaconda-cloud": {},
  "kernelspec": {
   "display_name": "Python [conda env:addtrain]",
   "language": "python",
   "name": "conda-env-addtrain-py"
  },
  "language_info": {
   "codemirror_mode": {
    "name": "ipython",
    "version": 3
   },
   "file_extension": ".py",
   "mimetype": "text/x-python",
   "name": "python",
   "nbconvert_exporter": "python",
   "pygments_lexer": "ipython3",
   "version": "3.5.2"
  }
 },
 "nbformat": 4,
 "nbformat_minor": 0
}
