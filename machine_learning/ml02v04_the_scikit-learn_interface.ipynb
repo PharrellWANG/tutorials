{
 "cells": [
  {
   "cell_type": "markdown",
   "metadata": {},
   "source": [
    "# The scikit-learn interface"
   ]
  },
  {
   "cell_type": "code",
   "execution_count": 1,
   "metadata": {
    "collapsed": false
   },
   "outputs": [
    {
     "data": {
      "text/html": [
       "<div id='toc-container'><script type='text/javascript'>\n",
       "$(function() {\n",
       "    function regenTOC(){\n",
       "        element = $(\"#toc-container\");\n",
       "\n",
       "\tvar toc = document.createElement(\"div\");\n",
       "\t$(toc).attr(\"class\", \"table-of-contents\");\n",
       "\n",
       "\tvar curLevel = 0;\n",
       "\tvar containerStack = [toc];\n",
       "\tvar levelOfTag = {\"h2\": 1, \"h3\": 2, \"h4\": 3, \"h5\": 4};\n",
       "\n",
       "\tfunction pushLevel() {\n",
       "            var list = document.createElement(\"ul\");\n",
       "            containerStack.push(list);\n",
       "            curLevel++;\n",
       "\t}\n",
       "\t\n",
       "\tfunction popLevel() {\n",
       "            var lastContainer = containerStack.pop();\n",
       "            $(lastContainer).appendTo(containerStack[containerStack.length - 1]);\n",
       "            curLevel--;\n",
       "\t}\n",
       "\t\n",
       "\t$(\".text_cell_render :header\").each(function (i, elem) {\n",
       "            var level = levelOfTag[ elem.tagName.toLowerCase() ];\n",
       "\n",
       "            if (level === undefined)\n",
       "\t\treturn;\n",
       "\n",
       "            while (curLevel < level)\n",
       "\t\tpushLevel();\n",
       "            while (curLevel > level)\n",
       "\t\tpopLevel();\n",
       "            \n",
       "            var listItem = document.createElement(\"li\");\n",
       "            var link = document.createElement(\"a\");\n",
       "            $(link)\n",
       "\t\t.text($(elem).contents().first().text()) // Remove the pilcrow sign\n",
       "\t\t.attr(\"href\", \"#\" + $(elem).attr(\"id\"))\n",
       "\t\t.appendTo(listItem);\n",
       "            $(listItem).appendTo(containerStack[containerStack.length - 1]);\n",
       "\t});\n",
       "\t\n",
       "\twhile (curLevel > 0)\n",
       "            popLevel();\n",
       "\n",
       "        $(\"<a class='btn-update' href='#'>Update</a>\")\n",
       "          .click(regenTOC).prependTo(toc);\n",
       "\n",
       "\t$(toc).prepend(\"<div class='title'>Contents</div>\")\n",
       "          .wrap(\"<div class='toc-headings'/>\");\n",
       "\n",
       "        $(element).empty();\n",
       "        $(element).append(toc);\n",
       "    }\n",
       "\n",
       "    if (typeof(IPython) !== 'undefined')\n",
       "        $([IPython.events]).on('notebook_loaded.Notebook', regenTOC);\n",
       "    regenTOC();\n",
       "});\n",
       "\n",
       "</script></div>"
      ],
      "text/plain": [
       "<IPython.core.display.HTML object>"
      ]
     },
     "execution_count": 1,
     "metadata": {},
     "output_type": "execute_result"
    }
   ],
   "source": [
    "import addutils.toc ; addutils.toc.js(ipy_notebook=True)"
   ]
  },
  {
   "cell_type": "code",
   "execution_count": 2,
   "metadata": {
    "collapsed": false
   },
   "outputs": [
    {
     "data": {
      "text/html": [
       "<style>\n",
       ".text_cell_render @font-face {\n",
       "    font-family: \"Computer Modern\";\n",
       "    src: url('http://mirrors.ctan.org/fonts/cm-unicode/fonts/otf/cmunss.otf');\n",
       "}\n",
       "\n",
       "div.cell {\n",
       "    width: 900px;\n",
       "    margin-left: 0% !important;\n",
       "    margin-right: 0%;\n",
       "}\n",
       "\n",
       "code {\n",
       "    font-size:10pt;\n",
       "}\n",
       "\n",
       ".text_cell_render  h1 {\n",
       "    font-family: Tahoma, sans-serif;\n",
       "    color: rgb( 10, 88, 126 );\n",
       "    font-size:28pt;\n",
       "}\n",
       ".text_cell_render h2 {\n",
       "    font-family: Tahoma, sans-serif;\n",
       "    color: rgb( 10, 88, 126 );\n",
       "    font-size:24pt;\n",
       "}\n",
       ".text_cell_render h3 {\n",
       "    font-family: Tahoma, sans-serif;\n",
       "    color: rgb( 10, 88, 126 );\n",
       "    font-size:20pt;\n",
       "}\n",
       ".text_cell_render h4 {\n",
       "    font-family: Tahoma, sans-serif;\n",
       "    color: rgb( 10, 88, 126 );\n",
       "    font-size:18pt;\n",
       "    margin-top:12px;\n",
       "    margin-bottom: 3px;\n",
       "}\n",
       "\n",
       ".text_cell_render h5 {\n",
       "    font-weight: 300;\n",
       "    font-size: 11pt;\n",
       "    color: rgb( 48, 48, 48 );\n",
       "    font-style: italic;\n",
       "    margin-bottom: .5em;\n",
       "    margin-top: 0.5em;\n",
       "    display: block;\n",
       "}\n",
       "\n",
       ".text_cell_render ul {\n",
       "    font-family: Tahoma, sans-serif;\n",
       "    color: rgb( 90, 90, 90 );\n",
       "    font-size:11pt;\n",
       "    line-height: 185%;\n",
       "}\n",
       "\n",
       ".text_cell_render yp {\n",
       "    font-family: Tahoma, sans-serif;\n",
       "    color: rgb( 90, 90, 90 );\n",
       "    font-size:11pt;\n",
       "}\n",
       "\n",
       ".text_cell_render strong {\n",
       "    font-family: Tahoma, sans-serif;\n",
       "    color: rgb( 30, 30, 30 );\n",
       "    font-size:11pt;\n",
       "}\n",
       "\n",
       ".text_cell_render a:link {\n",
       "    font-family: Tahoma, sans-serif;\n",
       "    color: rgb( 10, 88, 126 );\n",
       "    font-size:11pt;\n",
       "}\n",
       "\n",
       ".text_cell_render a:visited {\n",
       "    color:rgb( 10, 88, 126 );\n",
       "}\n",
       "\n",
       ".text_cell_render {\n",
       "    font-family: Helvetica, Courier, Computer Modern, \"Helvetica Neue\", Arial, Geneva, sans-serif;\n",
       "    color: rgb( 84, 84, 84 );\n",
       "    font-size:11pt;\n",
       "    line-height: 125%;\n",
       "    font-size: 100%;\n",
       "    width:800px;\n",
       "}\n",
       "\n",
       ".CodeMirror {\n",
       "    font-family: Courier, \"Source Code Pro\", source-code-pro,Consolas, monospace;\n",
       "}\n",
       "\n",
       ".warning {\n",
       "    color: rgb( 240, 20, 20 );\n",
       "}\n",
       "\n",
       "/* Pandas tables */\n",
       "/*\n",
       ".rendered_html td {\n",
       "    text-align: right;\n",
       "}\n",
       "*/\n",
       "\n",
       "table.dataframe td {\n",
       "    text-align: right;\n",
       "}\n",
       "\n",
       ".output .table-of-contents {\n",
       "    border: 1px #cecece solid;\n",
       "    background-color: #fafafa;\n",
       "    padding-top: 10px;\n",
       "    padding-bottom: 5px;\n",
       "    padding-right: 15px;\n",
       "    padding-left: 0px;\n",
       "    margin-bottom: 20px;\n",
       "    display: inline-block;\n",
       "    position: relative;\n",
       "}\n",
       "\n",
       ".output .table-of-contents ul {\n",
       "    list-style-type: none;\n",
       "    padding-left: 20px;\n",
       "}\n",
       "\n",
       ".output .table-of-contents .title {\n",
       "    font-weight: bold;\n",
       "    font-height: 11pt;\n",
       "    padding-left: 20px; /* looks better if it's the same to the <ul> */\n",
       "}\n",
       "\n",
       ".output .table-of-contents .btn-update {\n",
       "    position: absolute;\n",
       "    float: right;\n",
       "    right: 11px;\n",
       "    top: 4px;\n",
       "    font-size: 9pt;\n",
       "}\n",
       "\n",
       "</style>\n",
       "<script>\n",
       "    MathJax.Hub.Config({\n",
       "                        TeX: {\n",
       "                           extensions: [\"AMSmath.js\"]\n",
       "                           },\n",
       "                displayAlign: 'center', // Change this to 'center' to center equations.\n",
       "                \"HTML-CSS\": {\n",
       "                    styles: {'.MathJax_Display': {\"margin\": 4}}\n",
       "                }\n",
       "        });\n",
       "</script>\n"
      ],
      "text/plain": [
       "<IPython.core.display.HTML object>"
      ]
     },
     "execution_count": 2,
     "metadata": {},
     "output_type": "execute_result"
    }
   ],
   "source": [
    "import scipy.io\n",
    "import numpy as np\n",
    "import pandas as pd\n",
    "import warnings\n",
    "from addutils import css_notebook\n",
    "css_notebook()"
   ]
  },
  {
   "cell_type": "code",
   "execution_count": 3,
   "metadata": {
    "collapsed": true
   },
   "outputs": [],
   "source": [
    "warnings.filterwarnings('ignore')"
   ]
  },
  {
   "cell_type": "markdown",
   "metadata": {},
   "source": [
    "## Defining the estimator object"
   ]
  },
  {
   "cell_type": "markdown",
   "metadata": {},
   "source": [
    "In scikit-learn, almost all operations are done through an **estimator object**. For example, a linear regression estimator can be instantiated as follows:"
   ]
  },
  {
   "cell_type": "code",
   "execution_count": 4,
   "metadata": {
    "collapsed": false
   },
   "outputs": [
    {
     "name": "stdout",
     "output_type": "stream",
     "text": [
      "LinearRegression(copy_X=True, fit_intercept=True, n_jobs=1, normalize=True)\n"
     ]
    }
   ],
   "source": [
    "from sklearn import linear_model\n",
    "model = linear_model.LinearRegression(fit_intercept=True, normalize=True)\n",
    "print(model)"
   ]
  },
  {
   "cell_type": "markdown",
   "metadata": {},
   "source": [
    "In brackets are displayed the current values for the “hyperparameters” of the estimator. To learn about the specific “hyperparameters” check the documentation:"
   ]
  },
  {
   "cell_type": "code",
   "execution_count": 5,
   "metadata": {
    "collapsed": false
   },
   "outputs": [],
   "source": [
    "# Try: model?"
   ]
  },
  {
   "cell_type": "markdown",
   "metadata": {},
   "source": [
    "Meta parameters can be changed after the model has been created:"
   ]
  },
  {
   "cell_type": "code",
   "execution_count": 6,
   "metadata": {
    "collapsed": false
   },
   "outputs": [
    {
     "name": "stdout",
     "output_type": "stream",
     "text": [
      "LinearRegression(copy_X=True, fit_intercept=False, n_jobs=1, normalize=True)\n"
     ]
    }
   ],
   "source": [
    "model.fit_intercept = False\n",
    "print(model)"
   ]
  },
  {
   "cell_type": "markdown",
   "metadata": {},
   "source": [
    "Given a scikit-learn *estimator* object named `model`, the following methods are available:\n",
    "\n",
    "* *Available in all Estimators*\n",
    "  * `model.fit()` : fit training data.\n",
    "      * For supervised learning, this accepts two arguments: `model.fit(X, y)`.\n",
    "      * For unsupervised learning, this accepts only a single argument `model.fit(X)`.\n",
    "* *Available in supervised estimators*\n",
    "  * `model.predict()` : predict the label of a new set of data. This accepts one argument `model.predict(X_new)`).\n",
    "  * `model.predict_proba()`: Returns the probability of a categorical label. The label itself is returned by `model.predict()`.\n",
    "  * `model.score()`: Scores are between 0 and 1, with a larger score indicating a better fit.\n",
    "* *Available in unsupervised estimators*\n",
    "  * `model.transform()`: Transform new data into the new basis. This accepts one argument `X_new`, and returns the new representation of the data.\n",
    "  * `model.fit_transform()`: some estimators implement this method, which more efficiently performs a fit and a transform on the same input data."
   ]
  },
  {
   "cell_type": "markdown",
   "metadata": {},
   "source": [
    "## 1 Simple estimator example: fit a linear regression model"
   ]
  },
  {
   "cell_type": "code",
   "execution_count": 7,
   "metadata": {
    "collapsed": false
   },
   "outputs": [
    {
     "data": {
      "text/html": [
       "\n",
       "    <div class=\"bk-root\">\n",
       "        <a href=\"http://bokeh.pydata.org\" target=\"_blank\" class=\"bk-logo bk-logo-small bk-logo-notebook\"></a>\n",
       "        <span id=\"d48b843d-0960-45a1-95fc-b6117666261c\">Loading BokehJS ...</span>\n",
       "    </div>"
      ]
     },
     "metadata": {},
     "output_type": "display_data"
    },
    {
     "data": {
      "application/javascript": [
       "\n",
       "(function(global) {\n",
       "  function now() {\n",
       "    return new Date();\n",
       "  }\n",
       "\n",
       "  var force = true;\n",
       "\n",
       "  if (typeof (window._bokeh_onload_callbacks) === \"undefined\" || force === true) {\n",
       "    window._bokeh_onload_callbacks = [];\n",
       "    window._bokeh_is_loading = undefined;\n",
       "  }\n",
       "\n",
       "\n",
       "  \n",
       "  if (typeof (window._bokeh_timeout) === \"undefined\" || force === true) {\n",
       "    window._bokeh_timeout = Date.now() + 5000;\n",
       "    window._bokeh_failed_load = false;\n",
       "  }\n",
       "\n",
       "  var NB_LOAD_WARNING = {'data': {'text/html':\n",
       "     \"<div style='background-color: #fdd'>\\n\"+\n",
       "     \"<p>\\n\"+\n",
       "     \"BokehJS does not appear to have successfully loaded. If loading BokehJS from CDN, this \\n\"+\n",
       "     \"may be due to a slow or bad network connection. Possible fixes:\\n\"+\n",
       "     \"</p>\\n\"+\n",
       "     \"<ul>\\n\"+\n",
       "     \"<li>re-rerun `output_notebook()` to attempt to load from CDN again, or</li>\\n\"+\n",
       "     \"<li>use INLINE resources instead, as so:</li>\\n\"+\n",
       "     \"</ul>\\n\"+\n",
       "     \"<code>\\n\"+\n",
       "     \"from bokeh.resources import INLINE\\n\"+\n",
       "     \"output_notebook(resources=INLINE)\\n\"+\n",
       "     \"</code>\\n\"+\n",
       "     \"</div>\"}};\n",
       "\n",
       "  function display_loaded() {\n",
       "    if (window.Bokeh !== undefined) {\n",
       "      document.getElementById(\"d48b843d-0960-45a1-95fc-b6117666261c\").textContent = \"BokehJS successfully loaded.\";\n",
       "    } else if (Date.now() < window._bokeh_timeout) {\n",
       "      setTimeout(display_loaded, 100)\n",
       "    }\n",
       "  }\n",
       "\n",
       "  function run_callbacks() {\n",
       "    window._bokeh_onload_callbacks.forEach(function(callback) { callback() });\n",
       "    delete window._bokeh_onload_callbacks\n",
       "    console.info(\"Bokeh: all callbacks have finished\");\n",
       "  }\n",
       "\n",
       "  function load_libs(js_urls, callback) {\n",
       "    window._bokeh_onload_callbacks.push(callback);\n",
       "    if (window._bokeh_is_loading > 0) {\n",
       "      console.log(\"Bokeh: BokehJS is being loaded, scheduling callback at\", now());\n",
       "      return null;\n",
       "    }\n",
       "    if (js_urls == null || js_urls.length === 0) {\n",
       "      run_callbacks();\n",
       "      return null;\n",
       "    }\n",
       "    console.log(\"Bokeh: BokehJS not loaded, scheduling load and callback at\", now());\n",
       "    window._bokeh_is_loading = js_urls.length;\n",
       "    for (var i = 0; i < js_urls.length; i++) {\n",
       "      var url = js_urls[i];\n",
       "      var s = document.createElement('script');\n",
       "      s.src = url;\n",
       "      s.async = false;\n",
       "      s.onreadystatechange = s.onload = function() {\n",
       "        window._bokeh_is_loading--;\n",
       "        if (window._bokeh_is_loading === 0) {\n",
       "          console.log(\"Bokeh: all BokehJS libraries loaded\");\n",
       "          run_callbacks()\n",
       "        }\n",
       "      };\n",
       "      s.onerror = function() {\n",
       "        console.warn(\"failed to load library \" + url);\n",
       "      };\n",
       "      console.log(\"Bokeh: injecting script tag for BokehJS library: \", url);\n",
       "      document.getElementsByTagName(\"head\")[0].appendChild(s);\n",
       "    }\n",
       "  };var element = document.getElementById(\"d48b843d-0960-45a1-95fc-b6117666261c\");\n",
       "  if (element == null) {\n",
       "    console.log(\"Bokeh: ERROR: autoload.js configured with elementid 'd48b843d-0960-45a1-95fc-b6117666261c' but no matching script tag was found. \")\n",
       "    return false;\n",
       "  }\n",
       "\n",
       "  var js_urls = [\"https://cdn.pydata.org/bokeh/release/bokeh-0.12.4.min.js\", \"https://cdn.pydata.org/bokeh/release/bokeh-widgets-0.12.4.min.js\"];\n",
       "\n",
       "  var inline_js = [\n",
       "    function(Bokeh) {\n",
       "      Bokeh.set_log_level(\"info\");\n",
       "    },\n",
       "    \n",
       "    function(Bokeh) {\n",
       "      \n",
       "      document.getElementById(\"d48b843d-0960-45a1-95fc-b6117666261c\").textContent = \"BokehJS is loading...\";\n",
       "    },\n",
       "    function(Bokeh) {\n",
       "      console.log(\"Bokeh: injecting CSS: https://cdn.pydata.org/bokeh/release/bokeh-0.12.4.min.css\");\n",
       "      Bokeh.embed.inject_css(\"https://cdn.pydata.org/bokeh/release/bokeh-0.12.4.min.css\");\n",
       "      console.log(\"Bokeh: injecting CSS: https://cdn.pydata.org/bokeh/release/bokeh-widgets-0.12.4.min.css\");\n",
       "      Bokeh.embed.inject_css(\"https://cdn.pydata.org/bokeh/release/bokeh-widgets-0.12.4.min.css\");\n",
       "    }\n",
       "  ];\n",
       "\n",
       "  function run_inline_js() {\n",
       "    \n",
       "    if ((window.Bokeh !== undefined) || (force === true)) {\n",
       "      for (var i = 0; i < inline_js.length; i++) {\n",
       "        inline_js[i](window.Bokeh);\n",
       "      }if (force === true) {\n",
       "        display_loaded();\n",
       "      }} else if (Date.now() < window._bokeh_timeout) {\n",
       "      setTimeout(run_inline_js, 100);\n",
       "    } else if (!window._bokeh_failed_load) {\n",
       "      console.log(\"Bokeh: BokehJS failed to load within specified timeout.\");\n",
       "      window._bokeh_failed_load = true;\n",
       "    } else if (force !== true) {\n",
       "      var cell = $(document.getElementById(\"d48b843d-0960-45a1-95fc-b6117666261c\")).parents('.cell').data().cell;\n",
       "      cell.output_area.append_execute_result(NB_LOAD_WARNING)\n",
       "    }\n",
       "\n",
       "  }\n",
       "\n",
       "  if (window._bokeh_is_loading === 0) {\n",
       "    console.log(\"Bokeh: BokehJS loaded, going straight to plotting\");\n",
       "    run_inline_js();\n",
       "  } else {\n",
       "    load_libs(js_urls, function() {\n",
       "      console.log(\"Bokeh: BokehJS plotting callback run at\", now());\n",
       "      run_inline_js();\n",
       "    });\n",
       "  }\n",
       "}(this));"
      ]
     },
     "metadata": {},
     "output_type": "display_data"
    }
   ],
   "source": [
    "import bokeh.plotting as bk\n",
    "bk.output_notebook()"
   ]
  },
  {
   "cell_type": "code",
   "execution_count": 8,
   "metadata": {
    "collapsed": false
   },
   "outputs": [
    {
     "name": "stdout",
     "output_type": "stream",
     "text": [
      "LinearRegression(copy_X=True, fit_intercept=True, n_jobs=1, normalize=False)\n",
      "Model coefficient: 275.99550, and intercept: -145.41186\n",
      "Mean Squared Error: 23.04\n"
     ]
    },
    {
     "data": {
      "text/html": [
       "\n",
       "\n",
       "    <div class=\"bk-root\">\n",
       "        <div class=\"bk-plotdiv\" id=\"4d1505eb-d07a-49b6-b848-f45a17f849b7\"></div>\n",
       "    </div>\n",
       "<script type=\"text/javascript\">\n",
       "  \n",
       "  (function(global) {\n",
       "    function now() {\n",
       "      return new Date();\n",
       "    }\n",
       "  \n",
       "    var force = false;\n",
       "  \n",
       "    if (typeof (window._bokeh_onload_callbacks) === \"undefined\" || force === true) {\n",
       "      window._bokeh_onload_callbacks = [];\n",
       "      window._bokeh_is_loading = undefined;\n",
       "    }\n",
       "  \n",
       "  \n",
       "    \n",
       "    if (typeof (window._bokeh_timeout) === \"undefined\" || force === true) {\n",
       "      window._bokeh_timeout = Date.now() + 0;\n",
       "      window._bokeh_failed_load = false;\n",
       "    }\n",
       "  \n",
       "    var NB_LOAD_WARNING = {'data': {'text/html':\n",
       "       \"<div style='background-color: #fdd'>\\n\"+\n",
       "       \"<p>\\n\"+\n",
       "       \"BokehJS does not appear to have successfully loaded. If loading BokehJS from CDN, this \\n\"+\n",
       "       \"may be due to a slow or bad network connection. Possible fixes:\\n\"+\n",
       "       \"</p>\\n\"+\n",
       "       \"<ul>\\n\"+\n",
       "       \"<li>re-rerun `output_notebook()` to attempt to load from CDN again, or</li>\\n\"+\n",
       "       \"<li>use INLINE resources instead, as so:</li>\\n\"+\n",
       "       \"</ul>\\n\"+\n",
       "       \"<code>\\n\"+\n",
       "       \"from bokeh.resources import INLINE\\n\"+\n",
       "       \"output_notebook(resources=INLINE)\\n\"+\n",
       "       \"</code>\\n\"+\n",
       "       \"</div>\"}};\n",
       "  \n",
       "    function display_loaded() {\n",
       "      if (window.Bokeh !== undefined) {\n",
       "        document.getElementById(\"4d1505eb-d07a-49b6-b848-f45a17f849b7\").textContent = \"BokehJS successfully loaded.\";\n",
       "      } else if (Date.now() < window._bokeh_timeout) {\n",
       "        setTimeout(display_loaded, 100)\n",
       "      }\n",
       "    }\n",
       "  \n",
       "    function run_callbacks() {\n",
       "      window._bokeh_onload_callbacks.forEach(function(callback) { callback() });\n",
       "      delete window._bokeh_onload_callbacks\n",
       "      console.info(\"Bokeh: all callbacks have finished\");\n",
       "    }\n",
       "  \n",
       "    function load_libs(js_urls, callback) {\n",
       "      window._bokeh_onload_callbacks.push(callback);\n",
       "      if (window._bokeh_is_loading > 0) {\n",
       "        console.log(\"Bokeh: BokehJS is being loaded, scheduling callback at\", now());\n",
       "        return null;\n",
       "      }\n",
       "      if (js_urls == null || js_urls.length === 0) {\n",
       "        run_callbacks();\n",
       "        return null;\n",
       "      }\n",
       "      console.log(\"Bokeh: BokehJS not loaded, scheduling load and callback at\", now());\n",
       "      window._bokeh_is_loading = js_urls.length;\n",
       "      for (var i = 0; i < js_urls.length; i++) {\n",
       "        var url = js_urls[i];\n",
       "        var s = document.createElement('script');\n",
       "        s.src = url;\n",
       "        s.async = false;\n",
       "        s.onreadystatechange = s.onload = function() {\n",
       "          window._bokeh_is_loading--;\n",
       "          if (window._bokeh_is_loading === 0) {\n",
       "            console.log(\"Bokeh: all BokehJS libraries loaded\");\n",
       "            run_callbacks()\n",
       "          }\n",
       "        };\n",
       "        s.onerror = function() {\n",
       "          console.warn(\"failed to load library \" + url);\n",
       "        };\n",
       "        console.log(\"Bokeh: injecting script tag for BokehJS library: \", url);\n",
       "        document.getElementsByTagName(\"head\")[0].appendChild(s);\n",
       "      }\n",
       "    };var element = document.getElementById(\"4d1505eb-d07a-49b6-b848-f45a17f849b7\");\n",
       "    if (element == null) {\n",
       "      console.log(\"Bokeh: ERROR: autoload.js configured with elementid '4d1505eb-d07a-49b6-b848-f45a17f849b7' but no matching script tag was found. \")\n",
       "      return false;\n",
       "    }\n",
       "  \n",
       "    var js_urls = [];\n",
       "  \n",
       "    var inline_js = [\n",
       "      function(Bokeh) {\n",
       "        (function() {\n",
       "          var fn = function() {\n",
       "            var docs_json = {\"5c2fc736-1a5a-4e70-bd33-e74fbdcfef64\":{\"roots\":{\"references\":[{\"attributes\":{\"plot\":{\"id\":\"8eff1b24-5586-44fc-a5b0-69b514025439\",\"subtype\":\"Figure\",\"type\":\"Plot\"}},\"id\":\"c4bd7a1e-b03f-404c-b62f-2991ac7b79ea\",\"type\":\"WheelZoomTool\"},{\"attributes\":{},\"id\":\"c9fffe7d-265e-435b-b0d5-b9cb5d45a8ee\",\"type\":\"BasicTickFormatter\"},{\"attributes\":{\"data_source\":{\"id\":\"d7356ad2-be4c-4874-b197-93675534e5e3\",\"type\":\"ColumnDataSource\"},\"glyph\":{\"id\":\"c16f726f-3bf7-446e-80ca-39b37e7afdb1\",\"type\":\"Circle\"},\"hover_glyph\":null,\"nonselection_glyph\":{\"id\":\"0c856507-fa35-4f16-ae31-0cb43c86f072\",\"type\":\"Circle\"},\"selection_glyph\":null},\"id\":\"2ecc8838-91a2-47ba-90c6-745e3948ab74\",\"type\":\"GlyphRenderer\"},{\"attributes\":{\"plot\":{\"id\":\"8eff1b24-5586-44fc-a5b0-69b514025439\",\"subtype\":\"Figure\",\"type\":\"Plot\"}},\"id\":\"73c6abab-ea59-4d05-802a-a0c616cf8f9b\",\"type\":\"SaveTool\"},{\"attributes\":{\"plot\":{\"id\":\"8eff1b24-5586-44fc-a5b0-69b514025439\",\"subtype\":\"Figure\",\"type\":\"Plot\"}},\"id\":\"f475c034-f985-414c-b280-04f9b5c53f3b\",\"type\":\"ResetTool\"},{\"attributes\":{\"line_color\":{\"value\":\"blue\"},\"x\":{\"field\":\"x\"},\"y\":{\"field\":\"y\"}},\"id\":\"1caba6e8-9455-481b-a506-93d28b7c5132\",\"type\":\"Line\"},{\"attributes\":{},\"id\":\"87255f71-86f0-4f93-a1f6-20d138e1c8d3\",\"type\":\"BasicTicker\"},{\"attributes\":{\"label\":{\"value\":\"Measured Data\"},\"renderers\":[{\"id\":\"2ecc8838-91a2-47ba-90c6-745e3948ab74\",\"type\":\"GlyphRenderer\"}]},\"id\":\"6e184d96-5f03-4006-bd5d-1ca589f05033\",\"type\":\"LegendItem\"},{\"attributes\":{\"fill_alpha\":{\"value\":0.1},\"fill_color\":{\"value\":\"#1f77b4\"},\"line_alpha\":{\"value\":0.1},\"line_color\":{\"value\":\"#1f77b4\"},\"size\":{\"units\":\"screen\",\"value\":10},\"x\":{\"field\":\"x\"},\"y\":{\"field\":\"y\"}},\"id\":\"0c856507-fa35-4f16-ae31-0cb43c86f072\",\"type\":\"Circle\"},{\"attributes\":{\"axis_label\":\"y\",\"formatter\":{\"id\":\"470c4a82-1a3f-4094-a366-d674937a5a54\",\"type\":\"BasicTickFormatter\"},\"plot\":{\"id\":\"8eff1b24-5586-44fc-a5b0-69b514025439\",\"subtype\":\"Figure\",\"type\":\"Plot\"},\"ticker\":{\"id\":\"87255f71-86f0-4f93-a1f6-20d138e1c8d3\",\"type\":\"BasicTicker\"}},\"id\":\"3d44cb11-78d7-4929-a23d-dc40768fff4a\",\"type\":\"LinearAxis\"},{\"attributes\":{\"plot\":{\"id\":\"8eff1b24-5586-44fc-a5b0-69b514025439\",\"subtype\":\"Figure\",\"type\":\"Plot\"}},\"id\":\"88043ed0-75ae-46a5-8b94-ecd374337f00\",\"type\":\"HelpTool\"},{\"attributes\":{},\"id\":\"470c4a82-1a3f-4094-a366-d674937a5a54\",\"type\":\"BasicTickFormatter\"},{\"attributes\":{\"line_alpha\":{\"value\":0.1},\"line_color\":{\"value\":\"#1f77b4\"},\"x\":{\"field\":\"x\"},\"y\":{\"field\":\"y\"}},\"id\":\"abbb53ac-e69b-4917-94b6-33d8526f6451\",\"type\":\"Line\"},{\"attributes\":{\"fill_alpha\":{\"value\":0.5},\"fill_color\":{\"value\":\"green\"},\"line_color\":{\"value\":\"darkgreen\"},\"size\":{\"units\":\"screen\",\"value\":10},\"x\":{\"field\":\"x\"},\"y\":{\"field\":\"y\"}},\"id\":\"c16f726f-3bf7-446e-80ca-39b37e7afdb1\",\"type\":\"Circle\"},{\"attributes\":{\"callback\":null},\"id\":\"b5890daf-8473-4fb1-916d-c7d96cf7c60b\",\"type\":\"DataRange1d\"},{\"attributes\":{\"bottom_units\":\"screen\",\"fill_alpha\":{\"value\":0.5},\"fill_color\":{\"value\":\"lightgrey\"},\"left_units\":\"screen\",\"level\":\"overlay\",\"line_alpha\":{\"value\":1.0},\"line_color\":{\"value\":\"black\"},\"line_dash\":[4,4],\"line_width\":{\"value\":2},\"plot\":null,\"render_mode\":\"css\",\"right_units\":\"screen\",\"top_units\":\"screen\"},\"id\":\"1c5c013c-bc33-4cda-8a73-1c6bd7f0fff7\",\"type\":\"BoxAnnotation\"},{\"attributes\":{\"plot\":null,\"text\":\"Simple Regression\"},\"id\":\"b482f2d7-37f4-43a0-8642-4fbe13e87a1f\",\"type\":\"Title\"},{\"attributes\":{\"plot\":{\"id\":\"8eff1b24-5586-44fc-a5b0-69b514025439\",\"subtype\":\"Figure\",\"type\":\"Plot\"},\"ticker\":{\"id\":\"87fe9087-3462-4878-8d14-ce004d9844e1\",\"type\":\"BasicTicker\"}},\"id\":\"95988671-2543-440b-b25a-47c7534ffb79\",\"type\":\"Grid\"},{\"attributes\":{\"callback\":null,\"column_names\":[\"x\",\"y\"],\"data\":{\"x\":{\"__ndarray__\":\"R5MkkUS93D++AhuVNhnmP0IKp+BWJ+M/lB0l7imM3D+4xXLJO7/hP/L5tOUJ8cU//qAOJWEO3z8Ricohsx3bP7AXcxqfG90/+Cx0VNJU7T8wkXXz7h3iP2bw0A4pHOs/////////7z9jct+qOuXhPyS8B37MB9g/SgTUBpr02D9ghjRQ//7VPzFvtO+uwOA/CCIXYuF9yD+H6oTJRz7hP87m5GXocuM/P+IpGoLi4z+3kqEPAarjP8y5GfrxEc4/DTB6M4uL1j+1gxhCFxnWP2AIxRkt4u0/V3mUiOne3z8PjbswZD7nP9biMy4DecY/cy+7LxFB0T8PGXSm5qzmPyBenibPluo/sMuoa81G5T9+5kFZIMjjPwFStvHAgeM/Xx4FOET95T/WWdkn8OroP79+0UjN1tU//cFPWA5v5z8AAAAAAAAAAKq/Gt7dENw/Zg8shcoQ3T9MJUEqVgTjP8zariDKSOE/38J5626w6j+Lpr4qwPfhPwMUxZ5W8uI/BPYxWR3e3T/M1ju4+c7vP5YrFwySKM0/ZnpyqSp22T+OSY33pALkP0XtRWrIGds/U/m6PO320z/BsXpgM2XfP51sfKGKYeE/Zc1tnyH64T+U8Ak5ouzIP5aPoiojKN8/Gm1VtESY4z9WFheMOUHgP8I3BHNs2uo/kk6aoagW1z+a5gbzODbSP2xx5TMrQ90/bKa8SwGl7D9NTAcTWRrpP0o1ZqIQ6dQ/ED0IvIBfvj8=\",\"dtype\":\"float64\",\"shape\":[70]},\"y\":{\"__ndarray__\":\"OPITuPtIM8A4mChlpmlBQPAr3nUYPTZAIogSUvv1OMCrYWZDiskhQH/SmpLaYVnAKUXFgFtbJ8BYfvMnIcM4wOgamcrj9yrAg4sGVNamWUCEbO9MiesyQK2asKkP1VRAbvt1cyoHYUD0fy6bvIMxQJzGLT6q2kTAX5nTjYM3SMB3LwmBZ0BLwCSWEkdTof2/R1URhvDKVcCZV4t8aKsWQEZjYCv/CzZAd8lqxBs2OUCrjE8k1R8zQDsmBXzsHVLAE8q3NGsPSsBr6MX0Iv1GwKpPQarktl1AEHXlTY/xLcBiJeHyxjZMQFZEDFIr9FbAKJTqR2A+U8An8dWM01NLQB4OcLyy2FZAolixNJovQkBA6nYwS+s4QPk1+voBxzdAXFyZoVBNQkBAIKPEHg1RQMveFg7G60nAMQQFWdYWSkD68xdsOcthwIdIxT5VBjrA5n+i4ejZMsDQggJBkZE2QGs9M5FHtQvALv6xn05/V0B1n557BuAeQGAMd06S2zJAKFXz/VUgOsDkBapRBF9gQMaUbcsbxFPAx/BrP59dQcAHEuuZC5A2QMNzgJfvTjzANaDSS4xiSsAycQN+QYslwGTbf8h6F+u/dNo9CnHe+D9JMVbgNCBXwKWC5k6g3R7ArAcbJzJ9OUDM9b8k/Bj1v7lwgWJZGlZAl+pCVC3vRsCZoYGhnnRQwMLJ7MLUsi/AELKZA1gkWUAouyAXdGBQQPKUZG0pmUnA6logX/cdXsA=\",\"dtype\":\"float64\",\"shape\":[70]}}},\"id\":\"d7356ad2-be4c-4874-b197-93675534e5e3\",\"type\":\"ColumnDataSource\"},{\"attributes\":{\"label\":{\"value\":\"Predicted Values\"},\"renderers\":[{\"id\":\"454fc6d6-a459-4321-9aa3-630fb7ab42d9\",\"type\":\"GlyphRenderer\"}]},\"id\":\"0ff13957-e080-45ae-9b93-0163904c5d1d\",\"type\":\"LegendItem\"},{\"attributes\":{\"dimension\":1,\"plot\":{\"id\":\"8eff1b24-5586-44fc-a5b0-69b514025439\",\"subtype\":\"Figure\",\"type\":\"Plot\"},\"ticker\":{\"id\":\"87255f71-86f0-4f93-a1f6-20d138e1c8d3\",\"type\":\"BasicTicker\"}},\"id\":\"d366c887-5ac8-4509-b685-7a00ca2a3004\",\"type\":\"Grid\"},{\"attributes\":{\"plot\":{\"id\":\"8eff1b24-5586-44fc-a5b0-69b514025439\",\"subtype\":\"Figure\",\"type\":\"Plot\"}},\"id\":\"0e30ecad-a64a-424d-b5bc-fb4fcb6cc4bf\",\"type\":\"PanTool\"},{\"attributes\":{\"below\":[{\"id\":\"920a281c-4d91-49ae-967c-7e49642604d5\",\"type\":\"LinearAxis\"}],\"left\":[{\"id\":\"3d44cb11-78d7-4929-a23d-dc40768fff4a\",\"type\":\"LinearAxis\"}],\"plot_height\":300,\"renderers\":[{\"id\":\"920a281c-4d91-49ae-967c-7e49642604d5\",\"type\":\"LinearAxis\"},{\"id\":\"95988671-2543-440b-b25a-47c7534ffb79\",\"type\":\"Grid\"},{\"id\":\"3d44cb11-78d7-4929-a23d-dc40768fff4a\",\"type\":\"LinearAxis\"},{\"id\":\"d366c887-5ac8-4509-b685-7a00ca2a3004\",\"type\":\"Grid\"},{\"id\":\"1c5c013c-bc33-4cda-8a73-1c6bd7f0fff7\",\"type\":\"BoxAnnotation\"},{\"id\":\"1e20f9e6-58e5-446e-b3c9-7d68f816d989\",\"type\":\"Legend\"},{\"id\":\"2ecc8838-91a2-47ba-90c6-745e3948ab74\",\"type\":\"GlyphRenderer\"},{\"id\":\"454fc6d6-a459-4321-9aa3-630fb7ab42d9\",\"type\":\"GlyphRenderer\"}],\"title\":{\"id\":\"b482f2d7-37f4-43a0-8642-4fbe13e87a1f\",\"type\":\"Title\"},\"tool_events\":{\"id\":\"14e26e88-d64e-474b-adc5-059875c2f8f0\",\"type\":\"ToolEvents\"},\"toolbar\":{\"id\":\"078b0d93-4f8b-457e-9ff9-02997b755644\",\"type\":\"Toolbar\"},\"x_range\":{\"id\":\"b5890daf-8473-4fb1-916d-c7d96cf7c60b\",\"type\":\"DataRange1d\"},\"y_range\":{\"id\":\"27e9f612-46f1-4457-930e-b8555d6d621f\",\"type\":\"DataRange1d\"}},\"id\":\"8eff1b24-5586-44fc-a5b0-69b514025439\",\"subtype\":\"Figure\",\"type\":\"Plot\"},{\"attributes\":{\"active_drag\":\"auto\",\"active_scroll\":\"auto\",\"active_tap\":\"auto\",\"tools\":[{\"id\":\"0e30ecad-a64a-424d-b5bc-fb4fcb6cc4bf\",\"type\":\"PanTool\"},{\"id\":\"c4bd7a1e-b03f-404c-b62f-2991ac7b79ea\",\"type\":\"WheelZoomTool\"},{\"id\":\"90a8c743-afe9-47e6-a698-4a8840932ec5\",\"type\":\"BoxZoomTool\"},{\"id\":\"73c6abab-ea59-4d05-802a-a0c616cf8f9b\",\"type\":\"SaveTool\"},{\"id\":\"f475c034-f985-414c-b280-04f9b5c53f3b\",\"type\":\"ResetTool\"},{\"id\":\"88043ed0-75ae-46a5-8b94-ecd374337f00\",\"type\":\"HelpTool\"}]},\"id\":\"078b0d93-4f8b-457e-9ff9-02997b755644\",\"type\":\"Toolbar\"},{\"attributes\":{},\"id\":\"14e26e88-d64e-474b-adc5-059875c2f8f0\",\"type\":\"ToolEvents\"},{\"attributes\":{},\"id\":\"87fe9087-3462-4878-8d14-ce004d9844e1\",\"type\":\"BasicTicker\"},{\"attributes\":{\"callback\":null},\"id\":\"27e9f612-46f1-4457-930e-b8555d6d621f\",\"type\":\"DataRange1d\"},{\"attributes\":{\"data_source\":{\"id\":\"4236efd6-c643-473e-8673-28c49d04a323\",\"type\":\"ColumnDataSource\"},\"glyph\":{\"id\":\"1caba6e8-9455-481b-a506-93d28b7c5132\",\"type\":\"Line\"},\"hover_glyph\":null,\"nonselection_glyph\":{\"id\":\"abbb53ac-e69b-4917-94b6-33d8526f6451\",\"type\":\"Line\"},\"selection_glyph\":null},\"id\":\"454fc6d6-a459-4321-9aa3-630fb7ab42d9\",\"type\":\"GlyphRenderer\"},{\"attributes\":{\"items\":[{\"id\":\"6e184d96-5f03-4006-bd5d-1ca589f05033\",\"type\":\"LegendItem\"},{\"id\":\"0ff13957-e080-45ae-9b93-0163904c5d1d\",\"type\":\"LegendItem\"}],\"location\":\"bottom_right\",\"plot\":{\"id\":\"8eff1b24-5586-44fc-a5b0-69b514025439\",\"subtype\":\"Figure\",\"type\":\"Plot\"}},\"id\":\"1e20f9e6-58e5-446e-b3c9-7d68f816d989\",\"type\":\"Legend\"},{\"attributes\":{\"overlay\":{\"id\":\"1c5c013c-bc33-4cda-8a73-1c6bd7f0fff7\",\"type\":\"BoxAnnotation\"},\"plot\":{\"id\":\"8eff1b24-5586-44fc-a5b0-69b514025439\",\"subtype\":\"Figure\",\"type\":\"Plot\"}},\"id\":\"90a8c743-afe9-47e6-a698-4a8840932ec5\",\"type\":\"BoxZoomTool\"},{\"attributes\":{\"callback\":null,\"column_names\":[\"x\",\"y\"],\"data\":{\"x\":{\"__ndarray__\":\"AAAAAAAAAAAAAAAAAADwPw==\",\"dtype\":\"float64\",\"shape\":[2]},\"y\":{\"__ndarray__\":\"796e/C0tYsBdvJQprVJgQA==\",\"dtype\":\"float64\",\"shape\":[2]}}},\"id\":\"4236efd6-c643-473e-8673-28c49d04a323\",\"type\":\"ColumnDataSource\"},{\"attributes\":{\"axis_label\":\"X scaled\",\"formatter\":{\"id\":\"c9fffe7d-265e-435b-b0d5-b9cb5d45a8ee\",\"type\":\"BasicTickFormatter\"},\"plot\":{\"id\":\"8eff1b24-5586-44fc-a5b0-69b514025439\",\"subtype\":\"Figure\",\"type\":\"Plot\"},\"ticker\":{\"id\":\"87fe9087-3462-4878-8d14-ce004d9844e1\",\"type\":\"BasicTicker\"}},\"id\":\"920a281c-4d91-49ae-967c-7e49642604d5\",\"type\":\"LinearAxis\"}],\"root_ids\":[\"8eff1b24-5586-44fc-a5b0-69b514025439\"]},\"title\":\"Bokeh Application\",\"version\":\"0.12.4\"}};\n",
       "            var render_items = [{\"docid\":\"5c2fc736-1a5a-4e70-bd33-e74fbdcfef64\",\"elementid\":\"4d1505eb-d07a-49b6-b848-f45a17f849b7\",\"modelid\":\"8eff1b24-5586-44fc-a5b0-69b514025439\"}];\n",
       "            \n",
       "            Bokeh.embed.embed_items(docs_json, render_items);\n",
       "          };\n",
       "          if (document.readyState != \"loading\") fn();\n",
       "          else document.addEventListener(\"DOMContentLoaded\", fn);\n",
       "        })();\n",
       "      },\n",
       "      function(Bokeh) {\n",
       "      }\n",
       "    ];\n",
       "  \n",
       "    function run_inline_js() {\n",
       "      \n",
       "      if ((window.Bokeh !== undefined) || (force === true)) {\n",
       "        for (var i = 0; i < inline_js.length; i++) {\n",
       "          inline_js[i](window.Bokeh);\n",
       "        }if (force === true) {\n",
       "          display_loaded();\n",
       "        }} else if (Date.now() < window._bokeh_timeout) {\n",
       "        setTimeout(run_inline_js, 100);\n",
       "      } else if (!window._bokeh_failed_load) {\n",
       "        console.log(\"Bokeh: BokehJS failed to load within specified timeout.\");\n",
       "        window._bokeh_failed_load = true;\n",
       "      } else if (force !== true) {\n",
       "        var cell = $(document.getElementById(\"4d1505eb-d07a-49b6-b848-f45a17f849b7\")).parents('.cell').data().cell;\n",
       "        cell.output_area.append_execute_result(NB_LOAD_WARNING)\n",
       "      }\n",
       "  \n",
       "    }\n",
       "  \n",
       "    if (window._bokeh_is_loading === 0) {\n",
       "      console.log(\"Bokeh: BokehJS loaded, going straight to plotting\");\n",
       "      run_inline_js();\n",
       "    } else {\n",
       "      load_libs(js_urls, function() {\n",
       "        console.log(\"Bokeh: BokehJS plotting callback run at\", now());\n",
       "        run_inline_js();\n",
       "      });\n",
       "    }\n",
       "  }(this));\n",
       "</script>"
      ]
     },
     "metadata": {},
     "output_type": "display_data"
    }
   ],
   "source": [
    "from sklearn import datasets, preprocessing, metrics\n",
    "X, y = datasets.samples_generator.make_regression(n_samples=70,\n",
    "                                                  n_features=1, n_informative=1,\n",
    "                                                  random_state=0, noise=5)\n",
    "scaler = preprocessing.MinMaxScaler()\n",
    "X_sc = scaler.fit_transform(X)\n",
    "\n",
    "lin = linear_model.LinearRegression(fit_intercept=True)\n",
    "lin.fit(X_sc, y)\n",
    "\n",
    "print(lin)\n",
    "print(\"Model coefficient: %.5f, and intercept: %.5f\" % (lin.coef_, lin.intercept_))\n",
    "err = metrics.mean_squared_error(lin.predict(X_sc), y)\n",
    "print(\"Mean Squared Error: %.2f\" % err)\n",
    "\n",
    "# Plot the data and the model prediction\n",
    "X_p = np.linspace(0, 1, 2)[:, np.newaxis]\n",
    "y_p = lin.predict(X_p)\n",
    "\n",
    "fig = bk.figure(title='Simple Regression', \n",
    "                x_axis_label='X scaled',\n",
    "                y_axis_label='y',\n",
    "                plot_width=600, plot_height=300)\n",
    "fig.circle(X_sc.squeeze(), y, line_color='darkgreen', size=10,\n",
    "           fill_color='green', fill_alpha=0.5, legend='Measured Data')\n",
    "fig.line(X_p.ravel(), y_p, line_color='blue', legend='Predicted Values')\n",
    "fig.legend.location = 'bottom_right'\n",
    "bk.show(fig)"
   ]
  },
  {
   "cell_type": "markdown",
   "metadata": {},
   "source": [
    "## 2 Separate Training and Validation Sets"
   ]
  },
  {
   "cell_type": "markdown",
   "metadata": {},
   "source": [
    "**Fitting a model and testing it on the same data is a methodological mistake:** a model could have a perfect score but would fail to predict anything useful on yet-unseen data. This situation is called <font color=\"Red\">overfitting</font>. To avoid it, it is common practice to hold out part of the available data as a **Validation  Set** `X_valid, y_valid`.\n",
    "\n",
    "In scikit-learn a random split into **Training** and **Validation** sets can be quickly computed with the `train_test_split` helper function:"
   ]
  },
  {
   "cell_type": "code",
   "execution_count": 9,
   "metadata": {
    "collapsed": false
   },
   "outputs": [
    {
     "name": "stdout",
     "output_type": "stream",
     "text": [
      "Mean Squared Error: 23.34\n",
      "Model coefficient: 273.00288, and intercept: -143.70277\n"
     ]
    },
    {
     "data": {
      "text/html": [
       "\n",
       "\n",
       "    <div class=\"bk-root\">\n",
       "        <div class=\"bk-plotdiv\" id=\"8a9a949a-8114-46a5-aaef-28ea6feba591\"></div>\n",
       "    </div>\n",
       "<script type=\"text/javascript\">\n",
       "  \n",
       "  (function(global) {\n",
       "    function now() {\n",
       "      return new Date();\n",
       "    }\n",
       "  \n",
       "    var force = false;\n",
       "  \n",
       "    if (typeof (window._bokeh_onload_callbacks) === \"undefined\" || force === true) {\n",
       "      window._bokeh_onload_callbacks = [];\n",
       "      window._bokeh_is_loading = undefined;\n",
       "    }\n",
       "  \n",
       "  \n",
       "    \n",
       "    if (typeof (window._bokeh_timeout) === \"undefined\" || force === true) {\n",
       "      window._bokeh_timeout = Date.now() + 0;\n",
       "      window._bokeh_failed_load = false;\n",
       "    }\n",
       "  \n",
       "    var NB_LOAD_WARNING = {'data': {'text/html':\n",
       "       \"<div style='background-color: #fdd'>\\n\"+\n",
       "       \"<p>\\n\"+\n",
       "       \"BokehJS does not appear to have successfully loaded. If loading BokehJS from CDN, this \\n\"+\n",
       "       \"may be due to a slow or bad network connection. Possible fixes:\\n\"+\n",
       "       \"</p>\\n\"+\n",
       "       \"<ul>\\n\"+\n",
       "       \"<li>re-rerun `output_notebook()` to attempt to load from CDN again, or</li>\\n\"+\n",
       "       \"<li>use INLINE resources instead, as so:</li>\\n\"+\n",
       "       \"</ul>\\n\"+\n",
       "       \"<code>\\n\"+\n",
       "       \"from bokeh.resources import INLINE\\n\"+\n",
       "       \"output_notebook(resources=INLINE)\\n\"+\n",
       "       \"</code>\\n\"+\n",
       "       \"</div>\"}};\n",
       "  \n",
       "    function display_loaded() {\n",
       "      if (window.Bokeh !== undefined) {\n",
       "        document.getElementById(\"8a9a949a-8114-46a5-aaef-28ea6feba591\").textContent = \"BokehJS successfully loaded.\";\n",
       "      } else if (Date.now() < window._bokeh_timeout) {\n",
       "        setTimeout(display_loaded, 100)\n",
       "      }\n",
       "    }\n",
       "  \n",
       "    function run_callbacks() {\n",
       "      window._bokeh_onload_callbacks.forEach(function(callback) { callback() });\n",
       "      delete window._bokeh_onload_callbacks\n",
       "      console.info(\"Bokeh: all callbacks have finished\");\n",
       "    }\n",
       "  \n",
       "    function load_libs(js_urls, callback) {\n",
       "      window._bokeh_onload_callbacks.push(callback);\n",
       "      if (window._bokeh_is_loading > 0) {\n",
       "        console.log(\"Bokeh: BokehJS is being loaded, scheduling callback at\", now());\n",
       "        return null;\n",
       "      }\n",
       "      if (js_urls == null || js_urls.length === 0) {\n",
       "        run_callbacks();\n",
       "        return null;\n",
       "      }\n",
       "      console.log(\"Bokeh: BokehJS not loaded, scheduling load and callback at\", now());\n",
       "      window._bokeh_is_loading = js_urls.length;\n",
       "      for (var i = 0; i < js_urls.length; i++) {\n",
       "        var url = js_urls[i];\n",
       "        var s = document.createElement('script');\n",
       "        s.src = url;\n",
       "        s.async = false;\n",
       "        s.onreadystatechange = s.onload = function() {\n",
       "          window._bokeh_is_loading--;\n",
       "          if (window._bokeh_is_loading === 0) {\n",
       "            console.log(\"Bokeh: all BokehJS libraries loaded\");\n",
       "            run_callbacks()\n",
       "          }\n",
       "        };\n",
       "        s.onerror = function() {\n",
       "          console.warn(\"failed to load library \" + url);\n",
       "        };\n",
       "        console.log(\"Bokeh: injecting script tag for BokehJS library: \", url);\n",
       "        document.getElementsByTagName(\"head\")[0].appendChild(s);\n",
       "      }\n",
       "    };var element = document.getElementById(\"8a9a949a-8114-46a5-aaef-28ea6feba591\");\n",
       "    if (element == null) {\n",
       "      console.log(\"Bokeh: ERROR: autoload.js configured with elementid '8a9a949a-8114-46a5-aaef-28ea6feba591' but no matching script tag was found. \")\n",
       "      return false;\n",
       "    }\n",
       "  \n",
       "    var js_urls = [];\n",
       "  \n",
       "    var inline_js = [\n",
       "      function(Bokeh) {\n",
       "        (function() {\n",
       "          var fn = function() {\n",
       "            var docs_json = {\"4c589a2b-3336-4638-b3b1-8eefbf132d16\":{\"roots\":{\"references\":[{\"attributes\":{\"items\":[{\"id\":\"be34944d-3e86-4462-bd89-fb62260a20a4\",\"type\":\"LegendItem\"},{\"id\":\"13ab63a7-8b30-4264-ae45-294f501dea04\",\"type\":\"LegendItem\"},{\"id\":\"8041d64b-7f38-4e2b-9352-9a7aea5bc53e\",\"type\":\"LegendItem\"}],\"location\":\"bottom_right\",\"plot\":{\"id\":\"cbd3151f-9f55-4634-bece-1c064ebde453\",\"subtype\":\"Figure\",\"type\":\"Plot\"}},\"id\":\"9fcf83d5-8646-4ef1-a3f7-998a989f2e91\",\"type\":\"Legend\"},{\"attributes\":{\"label\":{\"value\":\"Training Set\"},\"renderers\":[{\"id\":\"36ebde4a-1536-4178-9f77-b858d2056677\",\"type\":\"GlyphRenderer\"}]},\"id\":\"be34944d-3e86-4462-bd89-fb62260a20a4\",\"type\":\"LegendItem\"},{\"attributes\":{\"overlay\":{\"id\":\"39c3164f-4953-4864-b6b6-8f3826a20f4e\",\"type\":\"BoxAnnotation\"},\"plot\":{\"id\":\"cbd3151f-9f55-4634-bece-1c064ebde453\",\"subtype\":\"Figure\",\"type\":\"Plot\"}},\"id\":\"334adfcc-31ab-46b8-baf7-7e2a674fe422\",\"type\":\"BoxZoomTool\"},{\"attributes\":{\"plot\":null,\"text\":\"Training and Validation Sets\"},\"id\":\"d53e2b42-84ac-4744-b608-7b98af4bb602\",\"type\":\"Title\"},{\"attributes\":{\"callback\":null,\"column_names\":[\"x\",\"y\"],\"data\":{\"x\":{\"__ndarray__\":\"lisXDJIozT9CCqfgVifjPwAAAAAAAAAAZvDQDikc6z+UHSXuKYzcP1P5ujzt9tM/38J5626w6j8wkXXz7h3iP6q/Gt7dENw/zNY7uPnO7z9F7UVqyBnbP2XNbZ8h+uE/IF6eJs+W6j8kvAd+zAfYP01MBxNZGuk/h+qEyUc+4T/W4jMuA3nGP45JjfekAuQ/AVK28cCB4z8IIhdi4X3IP0eTJJFEvdw/SgTUBpr02D/y+bTlCfHFP2CGNFD//tU/zubkZehy4z9sprxLAaXsP7AXcxqfG90/Y3Lfqjrl4T+1gxhCFxnWP9ZZ2Sfw6ug/MW+0767A4D8abVW0RJjjP4umvirA9+E/kk6aoagW1z/9wU9YDm/nP79+0UjN1tU/vgIblTYZ5j+U8Ak5ouzIP////////+8/VhYXjDlB4D8NMHozi4vWP/6gDiVhDt8/zLkZ+vERzj9fHgU4RP3lPz/iKRqC4uM/+Cx0VNJU7T+a5gbzODbSPwMUxZ5W8uI/zNquIMpI4T8=\",\"dtype\":\"float64\",\"shape\":[49]},\"y\":{\"__ndarray__\":\"xpRtyxvEU8DwK951GD02QPrzF2w5y2HArZqwqQ/VVEAiiBJS+/U4wDWg0kuMYkrALv6xn05/V0CEbO9MiesyQIdIxT5VBjrA5AWqUQRfYEDDc4CX7048wHTaPQpx3vg/Hg5wvLLYVkCcxi0+qtpEwCi7IBd0YFBAmVeLfGirFkBWRAxSK/RWwAcS65kLkDZA+TX6+gHHN0BHVRGG8MpVwDjyE7j7SDPAX5nTjYM3SMB/0pqS2mFZwHcvCYFnQEvARmNgK/8LNkAQspkDWCRZQOgamcrj9yrA9H8um7yDMUBr6MX0Iv1GwEAgo8QeDVFAJJYSR1Oh/b+sBxsnMn05QHWfnnsG4B5Al+pCVC3vRsAxBAVZ1hZKQMveFg7G60nAOJgoZaZpQUBJMVbgNCBXwG77dXMqB2FAzPW/JPwY9b8Tyrc0aw9KwClFxYBbWyfAOyYFfOwdUsBcXJmhUE1CQHfJasQbNjlAg4sGVNamWUCZoYGhnnRQwGAMd06S2zJAaz0zkUe1C8A=\",\"dtype\":\"float64\",\"shape\":[49]}}},\"id\":\"4730c536-af1a-4b4c-9f40-468ede67bd65\",\"type\":\"ColumnDataSource\"},{\"attributes\":{\"data_source\":{\"id\":\"23981145-32f5-40f3-b1cc-56d8d14163df\",\"type\":\"ColumnDataSource\"},\"glyph\":{\"id\":\"869e4e3f-b092-43d0-b170-d9853e11840f\",\"type\":\"Circle\"},\"hover_glyph\":null,\"nonselection_glyph\":{\"id\":\"8d090778-382f-4b16-b0aa-3288c5d79060\",\"type\":\"Circle\"},\"selection_glyph\":null},\"id\":\"fd707b45-5855-49e3-86a6-f2e580840cc3\",\"type\":\"GlyphRenderer\"},{\"attributes\":{\"below\":[{\"id\":\"6f08f917-a54b-49a1-a159-ab12fba5e924\",\"type\":\"LinearAxis\"}],\"left\":[{\"id\":\"0f5ac5fe-0310-4a4b-a250-38701fa41d52\",\"type\":\"LinearAxis\"}],\"plot_height\":400,\"plot_width\":700,\"renderers\":[{\"id\":\"6f08f917-a54b-49a1-a159-ab12fba5e924\",\"type\":\"LinearAxis\"},{\"id\":\"fc968019-52fb-4aa0-9b78-86510d3541e2\",\"type\":\"Grid\"},{\"id\":\"0f5ac5fe-0310-4a4b-a250-38701fa41d52\",\"type\":\"LinearAxis\"},{\"id\":\"b7ca311d-a755-4bf8-b6f5-e0eedcdea7bc\",\"type\":\"Grid\"},{\"id\":\"39c3164f-4953-4864-b6b6-8f3826a20f4e\",\"type\":\"BoxAnnotation\"},{\"id\":\"9fcf83d5-8646-4ef1-a3f7-998a989f2e91\",\"type\":\"Legend\"},{\"id\":\"36ebde4a-1536-4178-9f77-b858d2056677\",\"type\":\"GlyphRenderer\"},{\"id\":\"fd707b45-5855-49e3-86a6-f2e580840cc3\",\"type\":\"GlyphRenderer\"},{\"id\":\"dfbf36f0-c8cf-484c-a71c-9b1db66e625f\",\"type\":\"GlyphRenderer\"}],\"title\":{\"id\":\"d53e2b42-84ac-4744-b608-7b98af4bb602\",\"type\":\"Title\"},\"tool_events\":{\"id\":\"450d0b7e-fe2b-41cd-996d-5e8def1e7f62\",\"type\":\"ToolEvents\"},\"toolbar\":{\"id\":\"d347c8a9-648d-4070-9be0-5efe76e90ab3\",\"type\":\"Toolbar\"},\"x_range\":{\"id\":\"b577b217-fd10-4249-af95-7e13807b8339\",\"type\":\"DataRange1d\"},\"y_range\":{\"id\":\"f4a4c57c-bce3-4618-8c6d-1b688547a0df\",\"type\":\"DataRange1d\"}},\"id\":\"cbd3151f-9f55-4634-bece-1c064ebde453\",\"subtype\":\"Figure\",\"type\":\"Plot\"},{\"attributes\":{\"callback\":null,\"column_names\":[\"x\",\"y\"],\"data\":{\"x\":{\"__ndarray__\":\"YAjFGS3i7T9XeZSI6d7fPwT2MVkd3t0/t5KhDwGq4z9zL7svEUHRP2Z6cqkqdtk/EYnKIbMd2z+Wj6IqIyjfP37mQVkgyOM/ED0IvIBfvj+dbHyhimHhPw+NuzBkPuc/Dxl0puas5j9mDyyFyhDdP7DLqGvNRuU/wbF6YDNl3z9KNWaiEOnUP8I3BHNs2uo/TCVBKlYE4z+4xXLJO7/hP2xx5TMrQ90/\",\"dtype\":\"float64\",\"shape\":[21]},\"y\":{\"__ndarray__\":\"qk9BquS2XUAQdeVNj/EtwChV8/1VIDrAq4xPJNUfM0AolOpHYD5TwMfwaz+fXUHAWH7zJyHDOMClguZOoN0ewEDqdjBL6zhA6logX/cdXsBk23/Iehfrv2Il4fLGNkxAJ/HVjNNTS0Dmf6Lh6NkywKJYsTSaL0JAMnEDfkGLJcDylGRtKZlJwLlwgWJZGlZA0IICQZGRNkCrYWZDiskhQMLJ7MLUsi/A\",\"dtype\":\"float64\",\"shape\":[21]}}},\"id\":\"23981145-32f5-40f3-b1cc-56d8d14163df\",\"type\":\"ColumnDataSource\"},{\"attributes\":{\"plot\":{\"id\":\"cbd3151f-9f55-4634-bece-1c064ebde453\",\"subtype\":\"Figure\",\"type\":\"Plot\"}},\"id\":\"8b22ad00-b2de-43dd-88ed-0d21b9b369d8\",\"type\":\"HelpTool\"},{\"attributes\":{\"formatter\":{\"id\":\"e3fe70a0-872d-4783-8237-297ad97c1d63\",\"type\":\"BasicTickFormatter\"},\"plot\":{\"id\":\"cbd3151f-9f55-4634-bece-1c064ebde453\",\"subtype\":\"Figure\",\"type\":\"Plot\"},\"ticker\":{\"id\":\"34133d08-c002-49cb-b735-fe57105c35b9\",\"type\":\"BasicTicker\"}},\"id\":\"6f08f917-a54b-49a1-a159-ab12fba5e924\",\"type\":\"LinearAxis\"},{\"attributes\":{\"fill_color\":{\"value\":\"green\"},\"line_alpha\":{\"value\":0.85},\"line_color\":{\"value\":\"darkgreen\"},\"size\":{\"units\":\"screen\",\"value\":5},\"x\":{\"field\":\"x\"},\"y\":{\"field\":\"y\"}},\"id\":\"5b4027b3-7ee4-46a1-a899-a5c147a2ba3f\",\"type\":\"Circle\"},{\"attributes\":{},\"id\":\"89915248-b43e-4258-935d-321dad3040cb\",\"type\":\"BasicTickFormatter\"},{\"attributes\":{},\"id\":\"e3fe70a0-872d-4783-8237-297ad97c1d63\",\"type\":\"BasicTickFormatter\"},{\"attributes\":{\"dimension\":1,\"plot\":{\"id\":\"cbd3151f-9f55-4634-bece-1c064ebde453\",\"subtype\":\"Figure\",\"type\":\"Plot\"},\"ticker\":{\"id\":\"2ece2ca0-a4b9-4b28-92a1-3cfbb7ea9ec9\",\"type\":\"BasicTicker\"}},\"id\":\"b7ca311d-a755-4bf8-b6f5-e0eedcdea7bc\",\"type\":\"Grid\"},{\"attributes\":{\"plot\":{\"id\":\"cbd3151f-9f55-4634-bece-1c064ebde453\",\"subtype\":\"Figure\",\"type\":\"Plot\"}},\"id\":\"b5918b03-1ddb-4070-8c22-97d2d636a7bc\",\"type\":\"SaveTool\"},{\"attributes\":{\"callback\":null,\"column_names\":[\"x\",\"y\"],\"data\":{\"x\":{\"__ndarray__\":\"AAAAAAAAAAAAAAAAAADwPw==\",\"dtype\":\"float64\",\"shape\":[2]},\"y\":{\"__ndarray__\":\"y7T4GH32YcBvxIaGmilgQA==\",\"dtype\":\"float64\",\"shape\":[2]}}},\"id\":\"bc941537-de9b-469c-9ac9-1f21cc3315dd\",\"type\":\"ColumnDataSource\"},{\"attributes\":{\"callback\":null},\"id\":\"b577b217-fd10-4249-af95-7e13807b8339\",\"type\":\"DataRange1d\"},{\"attributes\":{\"label\":{\"value\":\"Validation Set\"},\"renderers\":[{\"id\":\"fd707b45-5855-49e3-86a6-f2e580840cc3\",\"type\":\"GlyphRenderer\"}]},\"id\":\"13ab63a7-8b30-4264-ae45-294f501dea04\",\"type\":\"LegendItem\"},{\"attributes\":{\"fill_alpha\":{\"value\":0.1},\"fill_color\":{\"value\":\"#1f77b4\"},\"line_alpha\":{\"value\":0.1},\"line_color\":{\"value\":\"#1f77b4\"},\"size\":{\"units\":\"screen\",\"value\":5},\"x\":{\"field\":\"x\"},\"y\":{\"field\":\"y\"}},\"id\":\"d6700b74-b581-4b6f-9b00-5287b1de0a67\",\"type\":\"Circle\"},{\"attributes\":{},\"id\":\"450d0b7e-fe2b-41cd-996d-5e8def1e7f62\",\"type\":\"ToolEvents\"},{\"attributes\":{\"fill_color\":{\"value\":\"orangered\"},\"line_alpha\":{\"value\":0.85},\"line_color\":{\"value\":\"#1f77b4\"},\"size\":{\"units\":\"screen\",\"value\":5},\"x\":{\"field\":\"x\"},\"y\":{\"field\":\"y\"}},\"id\":\"869e4e3f-b092-43d0-b170-d9853e11840f\",\"type\":\"Circle\"},{\"attributes\":{\"plot\":{\"id\":\"cbd3151f-9f55-4634-bece-1c064ebde453\",\"subtype\":\"Figure\",\"type\":\"Plot\"}},\"id\":\"be51b1d8-a107-4290-b871-941225fa834d\",\"type\":\"PanTool\"},{\"attributes\":{\"plot\":{\"id\":\"cbd3151f-9f55-4634-bece-1c064ebde453\",\"subtype\":\"Figure\",\"type\":\"Plot\"}},\"id\":\"25d0dac8-db18-4535-9771-d7b924b92e44\",\"type\":\"WheelZoomTool\"},{\"attributes\":{\"formatter\":{\"id\":\"89915248-b43e-4258-935d-321dad3040cb\",\"type\":\"BasicTickFormatter\"},\"plot\":{\"id\":\"cbd3151f-9f55-4634-bece-1c064ebde453\",\"subtype\":\"Figure\",\"type\":\"Plot\"},\"ticker\":{\"id\":\"2ece2ca0-a4b9-4b28-92a1-3cfbb7ea9ec9\",\"type\":\"BasicTicker\"}},\"id\":\"0f5ac5fe-0310-4a4b-a250-38701fa41d52\",\"type\":\"LinearAxis\"},{\"attributes\":{\"line_color\":{\"value\":\"blue\"},\"x\":{\"field\":\"x\"},\"y\":{\"field\":\"y\"}},\"id\":\"1a33d347-d28c-4b8e-a1c8-92fbf86146e5\",\"type\":\"Line\"},{\"attributes\":{\"active_drag\":\"auto\",\"active_scroll\":\"auto\",\"active_tap\":\"auto\",\"tools\":[{\"id\":\"be51b1d8-a107-4290-b871-941225fa834d\",\"type\":\"PanTool\"},{\"id\":\"25d0dac8-db18-4535-9771-d7b924b92e44\",\"type\":\"WheelZoomTool\"},{\"id\":\"334adfcc-31ab-46b8-baf7-7e2a674fe422\",\"type\":\"BoxZoomTool\"},{\"id\":\"b5918b03-1ddb-4070-8c22-97d2d636a7bc\",\"type\":\"SaveTool\"},{\"id\":\"1d71d007-918c-4e45-9bc0-d9862fcc437d\",\"type\":\"ResetTool\"},{\"id\":\"8b22ad00-b2de-43dd-88ed-0d21b9b369d8\",\"type\":\"HelpTool\"}]},\"id\":\"d347c8a9-648d-4070-9be0-5efe76e90ab3\",\"type\":\"Toolbar\"},{\"attributes\":{\"label\":{\"value\":\"Linear Regression\"},\"renderers\":[{\"id\":\"dfbf36f0-c8cf-484c-a71c-9b1db66e625f\",\"type\":\"GlyphRenderer\"}]},\"id\":\"8041d64b-7f38-4e2b-9352-9a7aea5bc53e\",\"type\":\"LegendItem\"},{\"attributes\":{},\"id\":\"34133d08-c002-49cb-b735-fe57105c35b9\",\"type\":\"BasicTicker\"},{\"attributes\":{\"line_alpha\":{\"value\":0.1},\"line_color\":{\"value\":\"#1f77b4\"},\"x\":{\"field\":\"x\"},\"y\":{\"field\":\"y\"}},\"id\":\"383a4931-0e30-403e-b86a-ed2a1d177a14\",\"type\":\"Line\"},{\"attributes\":{\"fill_alpha\":{\"value\":0.1},\"fill_color\":{\"value\":\"#1f77b4\"},\"line_alpha\":{\"value\":0.1},\"line_color\":{\"value\":\"#1f77b4\"},\"size\":{\"units\":\"screen\",\"value\":5},\"x\":{\"field\":\"x\"},\"y\":{\"field\":\"y\"}},\"id\":\"8d090778-382f-4b16-b0aa-3288c5d79060\",\"type\":\"Circle\"},{\"attributes\":{\"bottom_units\":\"screen\",\"fill_alpha\":{\"value\":0.5},\"fill_color\":{\"value\":\"lightgrey\"},\"left_units\":\"screen\",\"level\":\"overlay\",\"line_alpha\":{\"value\":1.0},\"line_color\":{\"value\":\"black\"},\"line_dash\":[4,4],\"line_width\":{\"value\":2},\"plot\":null,\"render_mode\":\"css\",\"right_units\":\"screen\",\"top_units\":\"screen\"},\"id\":\"39c3164f-4953-4864-b6b6-8f3826a20f4e\",\"type\":\"BoxAnnotation\"},{\"attributes\":{\"plot\":{\"id\":\"cbd3151f-9f55-4634-bece-1c064ebde453\",\"subtype\":\"Figure\",\"type\":\"Plot\"}},\"id\":\"1d71d007-918c-4e45-9bc0-d9862fcc437d\",\"type\":\"ResetTool\"},{\"attributes\":{\"data_source\":{\"id\":\"bc941537-de9b-469c-9ac9-1f21cc3315dd\",\"type\":\"ColumnDataSource\"},\"glyph\":{\"id\":\"1a33d347-d28c-4b8e-a1c8-92fbf86146e5\",\"type\":\"Line\"},\"hover_glyph\":null,\"nonselection_glyph\":{\"id\":\"383a4931-0e30-403e-b86a-ed2a1d177a14\",\"type\":\"Line\"},\"selection_glyph\":null},\"id\":\"dfbf36f0-c8cf-484c-a71c-9b1db66e625f\",\"type\":\"GlyphRenderer\"},{\"attributes\":{\"callback\":null},\"id\":\"f4a4c57c-bce3-4618-8c6d-1b688547a0df\",\"type\":\"DataRange1d\"},{\"attributes\":{},\"id\":\"2ece2ca0-a4b9-4b28-92a1-3cfbb7ea9ec9\",\"type\":\"BasicTicker\"},{\"attributes\":{\"plot\":{\"id\":\"cbd3151f-9f55-4634-bece-1c064ebde453\",\"subtype\":\"Figure\",\"type\":\"Plot\"},\"ticker\":{\"id\":\"34133d08-c002-49cb-b735-fe57105c35b9\",\"type\":\"BasicTicker\"}},\"id\":\"fc968019-52fb-4aa0-9b78-86510d3541e2\",\"type\":\"Grid\"},{\"attributes\":{\"data_source\":{\"id\":\"4730c536-af1a-4b4c-9f40-468ede67bd65\",\"type\":\"ColumnDataSource\"},\"glyph\":{\"id\":\"5b4027b3-7ee4-46a1-a899-a5c147a2ba3f\",\"type\":\"Circle\"},\"hover_glyph\":null,\"nonselection_glyph\":{\"id\":\"d6700b74-b581-4b6f-9b00-5287b1de0a67\",\"type\":\"Circle\"},\"selection_glyph\":null},\"id\":\"36ebde4a-1536-4178-9f77-b858d2056677\",\"type\":\"GlyphRenderer\"}],\"root_ids\":[\"cbd3151f-9f55-4634-bece-1c064ebde453\"]},\"title\":\"Bokeh Application\",\"version\":\"0.12.4\"}};\n",
       "            var render_items = [{\"docid\":\"4c589a2b-3336-4638-b3b1-8eefbf132d16\",\"elementid\":\"8a9a949a-8114-46a5-aaef-28ea6feba591\",\"modelid\":\"cbd3151f-9f55-4634-bece-1c064ebde453\"}];\n",
       "            \n",
       "            Bokeh.embed.embed_items(docs_json, render_items);\n",
       "          };\n",
       "          if (document.readyState != \"loading\") fn();\n",
       "          else document.addEventListener(\"DOMContentLoaded\", fn);\n",
       "        })();\n",
       "      },\n",
       "      function(Bokeh) {\n",
       "      }\n",
       "    ];\n",
       "  \n",
       "    function run_inline_js() {\n",
       "      \n",
       "      if ((window.Bokeh !== undefined) || (force === true)) {\n",
       "        for (var i = 0; i < inline_js.length; i++) {\n",
       "          inline_js[i](window.Bokeh);\n",
       "        }if (force === true) {\n",
       "          display_loaded();\n",
       "        }} else if (Date.now() < window._bokeh_timeout) {\n",
       "        setTimeout(run_inline_js, 100);\n",
       "      } else if (!window._bokeh_failed_load) {\n",
       "        console.log(\"Bokeh: BokehJS failed to load within specified timeout.\");\n",
       "        window._bokeh_failed_load = true;\n",
       "      } else if (force !== true) {\n",
       "        var cell = $(document.getElementById(\"8a9a949a-8114-46a5-aaef-28ea6feba591\")).parents('.cell').data().cell;\n",
       "        cell.output_area.append_execute_result(NB_LOAD_WARNING)\n",
       "      }\n",
       "  \n",
       "    }\n",
       "  \n",
       "    if (window._bokeh_is_loading === 0) {\n",
       "      console.log(\"Bokeh: BokehJS loaded, going straight to plotting\");\n",
       "      run_inline_js();\n",
       "    } else {\n",
       "      load_libs(js_urls, function() {\n",
       "        console.log(\"Bokeh: BokehJS plotting callback run at\", now());\n",
       "        run_inline_js();\n",
       "      });\n",
       "    }\n",
       "  }(this));\n",
       "</script>"
      ]
     },
     "metadata": {},
     "output_type": "display_data"
    }
   ],
   "source": [
    "from sklearn import model_selection\n",
    "X_tr, X_valid, y_tr, y_valid = model_selection.train_test_split(X_sc, y,\n",
    "                                                                 test_size=0.30, random_state=0)\n",
    "lin.fit(X_tr, y_tr)\n",
    "MSE = metrics.mean_squared_error(lin.predict(X_valid), y_valid)\n",
    "print(\"Mean Squared Error: %.2f\" % MSE)\n",
    "print(\"Model coefficient: %.5f, and intercept: %.5f\" % (lin.coef_, lin.intercept_))\n",
    "\n",
    "X_predicted = np.linspace(0, 1, 2)[:, np.newaxis]\n",
    "y_predicted = lin.predict(X_predicted)\n",
    "fig = bk.figure(title='Training and Validation Sets', \n",
    "                plot_width=700, plot_height=400)\n",
    "fig.circle(X_tr.squeeze(), y_tr,\n",
    "           size=5, line_alpha=0.85, fill_color='green', line_color='darkgreen',\n",
    "           legend='Training Set')\n",
    "fig.circle(X_valid.squeeze(), y_valid, \n",
    "           size=5, line_alpha=0.85, fill_color='orangered', legend='Validation Set')\n",
    "fig.line(X_predicted.ravel(), y_predicted, line_color='blue', legend='Linear Regression')\n",
    "fig.legend.location = 'bottom_right'\n",
    "bk.show(fig)"
   ]
  },
  {
   "cell_type": "markdown",
   "metadata": {},
   "source": [
    "### 2.1 Example: Do a Regression Analysis on MATLAB<sup>&reg;</sup> data"
   ]
  },
  {
   "cell_type": "markdown",
   "metadata": {},
   "source": [
    "The data are generated with the following MATLAB code:\n",
    "\n",
    "    % Generate Regression Test Data 02 ----------------------------------------\n",
    "    samples = 100; features = 5;\n",
    "    \n",
    "    X = rand(samples, features)\n",
    "    for i = 1:samples\n",
    "        X(i,:) = (X(i,:)*i)+i+0.1;\n",
    "    end\n",
    "    % Calculate y as a linear combination of features with coeff. 1.5, 2.5, ...\n",
    "    % and add some noise\n",
    "    noise = 0.1;\n",
    "    lin_comb = (1:features) + 0.5\n",
    "    y = (X+rand(samples, features)*noise)*lin_comb'\n",
    "    % Define feature names as 'F001', ... , 'Fnnn' up to 9999 features\n",
    "    feat_names = sprintf('F%04i',1);\n",
    "    for i = 2:features\n",
    "        feat_names = strvcat(feat_names, sprintf('F%04i',i));\n",
    "    end\n",
    "    \n",
    "    save ('matlab_test_data_02', 'X','y', 'feat_names')"
   ]
  },
  {
   "cell_type": "code",
   "execution_count": 10,
   "metadata": {
    "collapsed": false
   },
   "outputs": [],
   "source": [
    "from sklearn import preprocessing, linear_model\n",
    "mat = scipy.io.loadmat('example_data/matlab_test_data_02.mat')\n",
    "col = [s.strip() for s in list(mat['feat_names'])]"
   ]
  },
  {
   "cell_type": "code",
   "execution_count": 11,
   "metadata": {
    "collapsed": false
   },
   "outputs": [],
   "source": [
    "Xt,Xv,yt,yv = model_selection.train_test_split(mat['X'], mat['y'],test_size=0.30,\n",
    "                                                random_state=0)\n",
    "Xt = pd.DataFrame(Xt, columns=col)\n",
    "Xv = pd.DataFrame(Xv, columns=col)\n",
    "yt = pd.DataFrame(yt, columns=['measured'])\n",
    "yv = pd.DataFrame(yv, columns=['measured'])"
   ]
  },
  {
   "cell_type": "code",
   "execution_count": 12,
   "metadata": {
    "collapsed": false
   },
   "outputs": [
    {
     "data": {
      "text/html": [
       "<div>\n",
       "<table border=\"1\" class=\"dataframe\">\n",
       "  <thead>\n",
       "    <tr style=\"text-align: right;\">\n",
       "      <th></th>\n",
       "      <th>F0001</th>\n",
       "      <th>F0002</th>\n",
       "      <th>F0003</th>\n",
       "      <th>F0004</th>\n",
       "      <th>F0005</th>\n",
       "      <th>F0006</th>\n",
       "    </tr>\n",
       "  </thead>\n",
       "  <tbody>\n",
       "    <tr>\n",
       "      <th>0</th>\n",
       "      <td>131.391611</td>\n",
       "      <td>178.588071</td>\n",
       "      <td>191.836028</td>\n",
       "      <td>206.928031</td>\n",
       "      <td>188.601869</td>\n",
       "      <td>195.879822</td>\n",
       "    </tr>\n",
       "    <tr>\n",
       "      <th>1</th>\n",
       "      <td>137.771630</td>\n",
       "      <td>91.462643</td>\n",
       "      <td>76.438656</td>\n",
       "      <td>104.585583</td>\n",
       "      <td>123.265090</td>\n",
       "      <td>73.587835</td>\n",
       "    </tr>\n",
       "    <tr>\n",
       "      <th>2</th>\n",
       "      <td>789.737369</td>\n",
       "      <td>671.934539</td>\n",
       "      <td>835.830887</td>\n",
       "      <td>515.921167</td>\n",
       "      <td>901.167154</td>\n",
       "      <td>813.659391</td>\n",
       "    </tr>\n",
       "  </tbody>\n",
       "</table>\n",
       "</div>"
      ],
      "text/plain": [
       "        F0001       F0002       F0003       F0004       F0005       F0006\n",
       "0  131.391611  178.588071  191.836028  206.928031  188.601869  195.879822\n",
       "1  137.771630   91.462643   76.438656  104.585583  123.265090   73.587835\n",
       "2  789.737369  671.934539  835.830887  515.921167  901.167154  813.659391"
      ]
     },
     "execution_count": 12,
     "metadata": {},
     "output_type": "execute_result"
    }
   ],
   "source": [
    "Xt.head(3)"
   ]
  },
  {
   "cell_type": "code",
   "execution_count": 13,
   "metadata": {
    "collapsed": false
   },
   "outputs": [],
   "source": [
    "# Scaler is fitted only on training data\n",
    "Xts = Xt.copy()\n",
    "Xvs = Xv.copy()\n",
    "scaler = preprocessing.StandardScaler(copy=False, with_mean=True, with_std=True).fit(Xt)\n",
    "scaler.transform(Xts)\n",
    "scaler.transform(Xv);"
   ]
  },
  {
   "cell_type": "code",
   "execution_count": 14,
   "metadata": {
    "collapsed": false
   },
   "outputs": [
    {
     "data": {
      "text/html": [
       "<div>\n",
       "<table border=\"1\" class=\"dataframe\">\n",
       "  <thead>\n",
       "    <tr style=\"text-align: right;\">\n",
       "      <th></th>\n",
       "      <th>F0001</th>\n",
       "      <th>F0002</th>\n",
       "      <th>F0003</th>\n",
       "      <th>F0004</th>\n",
       "      <th>F0005</th>\n",
       "      <th>F0006</th>\n",
       "    </tr>\n",
       "  </thead>\n",
       "  <tbody>\n",
       "    <tr>\n",
       "      <th>0</th>\n",
       "      <td>-1.294851</td>\n",
       "      <td>-1.210162</td>\n",
       "      <td>-1.171325</td>\n",
       "      <td>-1.148142</td>\n",
       "      <td>-1.198971</td>\n",
       "      <td>-1.160278</td>\n",
       "    </tr>\n",
       "    <tr>\n",
       "      <th>1</th>\n",
       "      <td>-1.281377</td>\n",
       "      <td>-1.399557</td>\n",
       "      <td>-1.416333</td>\n",
       "      <td>-1.371187</td>\n",
       "      <td>-1.344097</td>\n",
       "      <td>-1.424161</td>\n",
       "    </tr>\n",
       "    <tr>\n",
       "      <th>2</th>\n",
       "      <td>0.095500</td>\n",
       "      <td>-0.137716</td>\n",
       "      <td>0.195982</td>\n",
       "      <td>-0.474723</td>\n",
       "      <td>0.383782</td>\n",
       "      <td>0.172776</td>\n",
       "    </tr>\n",
       "  </tbody>\n",
       "</table>\n",
       "</div>"
      ],
      "text/plain": [
       "      F0001     F0002     F0003     F0004     F0005     F0006\n",
       "0 -1.294851 -1.210162 -1.171325 -1.148142 -1.198971 -1.160278\n",
       "1 -1.281377 -1.399557 -1.416333 -1.371187 -1.344097 -1.424161\n",
       "2  0.095500 -0.137716  0.195982 -0.474723  0.383782  0.172776"
      ]
     },
     "execution_count": 14,
     "metadata": {},
     "output_type": "execute_result"
    }
   ],
   "source": [
    "Xts.head(3)"
   ]
  },
  {
   "cell_type": "code",
   "execution_count": 15,
   "metadata": {
    "collapsed": false
   },
   "outputs": [
    {
     "name": "stdout",
     "output_type": "stream",
     "text": [
      "[[  708.82319504  1153.80993668  1647.24008556  2066.72663569\n",
      "   2474.24236679  3011.70541794]]\n",
      "[ 17692.80536173]\n"
     ]
    }
   ],
   "source": [
    "model = linear_model.LinearRegression(fit_intercept=True, normalize=True)\n",
    "model.fit(Xts, yt)\n",
    "# NOTICE: coefficients are much different from 1.5, 2.5, ... when fitting on scaled data\n",
    "print(model.coef_)\n",
    "print(model.intercept_)"
   ]
  },
  {
   "cell_type": "code",
   "execution_count": 16,
   "metadata": {
    "collapsed": false,
    "scrolled": false
   },
   "outputs": [
    {
     "data": {
      "text/html": [
       "\n",
       "\n",
       "    <div class=\"bk-root\">\n",
       "        <div class=\"bk-plotdiv\" id=\"b192d738-9b09-4f38-9f4d-cde69a4239f3\"></div>\n",
       "    </div>\n",
       "<script type=\"text/javascript\">\n",
       "  \n",
       "  (function(global) {\n",
       "    function now() {\n",
       "      return new Date();\n",
       "    }\n",
       "  \n",
       "    var force = false;\n",
       "  \n",
       "    if (typeof (window._bokeh_onload_callbacks) === \"undefined\" || force === true) {\n",
       "      window._bokeh_onload_callbacks = [];\n",
       "      window._bokeh_is_loading = undefined;\n",
       "    }\n",
       "  \n",
       "  \n",
       "    \n",
       "    if (typeof (window._bokeh_timeout) === \"undefined\" || force === true) {\n",
       "      window._bokeh_timeout = Date.now() + 0;\n",
       "      window._bokeh_failed_load = false;\n",
       "    }\n",
       "  \n",
       "    var NB_LOAD_WARNING = {'data': {'text/html':\n",
       "       \"<div style='background-color: #fdd'>\\n\"+\n",
       "       \"<p>\\n\"+\n",
       "       \"BokehJS does not appear to have successfully loaded. If loading BokehJS from CDN, this \\n\"+\n",
       "       \"may be due to a slow or bad network connection. Possible fixes:\\n\"+\n",
       "       \"</p>\\n\"+\n",
       "       \"<ul>\\n\"+\n",
       "       \"<li>re-rerun `output_notebook()` to attempt to load from CDN again, or</li>\\n\"+\n",
       "       \"<li>use INLINE resources instead, as so:</li>\\n\"+\n",
       "       \"</ul>\\n\"+\n",
       "       \"<code>\\n\"+\n",
       "       \"from bokeh.resources import INLINE\\n\"+\n",
       "       \"output_notebook(resources=INLINE)\\n\"+\n",
       "       \"</code>\\n\"+\n",
       "       \"</div>\"}};\n",
       "  \n",
       "    function display_loaded() {\n",
       "      if (window.Bokeh !== undefined) {\n",
       "        document.getElementById(\"b192d738-9b09-4f38-9f4d-cde69a4239f3\").textContent = \"BokehJS successfully loaded.\";\n",
       "      } else if (Date.now() < window._bokeh_timeout) {\n",
       "        setTimeout(display_loaded, 100)\n",
       "      }\n",
       "    }\n",
       "  \n",
       "    function run_callbacks() {\n",
       "      window._bokeh_onload_callbacks.forEach(function(callback) { callback() });\n",
       "      delete window._bokeh_onload_callbacks\n",
       "      console.info(\"Bokeh: all callbacks have finished\");\n",
       "    }\n",
       "  \n",
       "    function load_libs(js_urls, callback) {\n",
       "      window._bokeh_onload_callbacks.push(callback);\n",
       "      if (window._bokeh_is_loading > 0) {\n",
       "        console.log(\"Bokeh: BokehJS is being loaded, scheduling callback at\", now());\n",
       "        return null;\n",
       "      }\n",
       "      if (js_urls == null || js_urls.length === 0) {\n",
       "        run_callbacks();\n",
       "        return null;\n",
       "      }\n",
       "      console.log(\"Bokeh: BokehJS not loaded, scheduling load and callback at\", now());\n",
       "      window._bokeh_is_loading = js_urls.length;\n",
       "      for (var i = 0; i < js_urls.length; i++) {\n",
       "        var url = js_urls[i];\n",
       "        var s = document.createElement('script');\n",
       "        s.src = url;\n",
       "        s.async = false;\n",
       "        s.onreadystatechange = s.onload = function() {\n",
       "          window._bokeh_is_loading--;\n",
       "          if (window._bokeh_is_loading === 0) {\n",
       "            console.log(\"Bokeh: all BokehJS libraries loaded\");\n",
       "            run_callbacks()\n",
       "          }\n",
       "        };\n",
       "        s.onerror = function() {\n",
       "          console.warn(\"failed to load library \" + url);\n",
       "        };\n",
       "        console.log(\"Bokeh: injecting script tag for BokehJS library: \", url);\n",
       "        document.getElementsByTagName(\"head\")[0].appendChild(s);\n",
       "      }\n",
       "    };var element = document.getElementById(\"b192d738-9b09-4f38-9f4d-cde69a4239f3\");\n",
       "    if (element == null) {\n",
       "      console.log(\"Bokeh: ERROR: autoload.js configured with elementid 'b192d738-9b09-4f38-9f4d-cde69a4239f3' but no matching script tag was found. \")\n",
       "      return false;\n",
       "    }\n",
       "  \n",
       "    var js_urls = [];\n",
       "  \n",
       "    var inline_js = [\n",
       "      function(Bokeh) {\n",
       "        (function() {\n",
       "          var fn = function() {\n",
       "            var docs_json = {\"f03d4261-e09d-4a28-ab41-d1895bda8398\":{\"roots\":{\"references\":[{\"attributes\":{\"callback\":null},\"id\":\"fc55d882-26b1-49df-86a2-8e5a9f634776\",\"type\":\"DataRange1d\"},{\"attributes\":{\"active_drag\":\"auto\",\"active_scroll\":\"auto\",\"active_tap\":\"auto\",\"tools\":[{\"id\":\"f1662ffd-fe7b-4042-b3a1-1018fec84d43\",\"type\":\"PanTool\"},{\"id\":\"f93943bc-f2b4-4861-ac51-2025f1a93d7d\",\"type\":\"WheelZoomTool\"},{\"id\":\"344cd3db-c5b4-477e-8f40-3cc03ba7007a\",\"type\":\"BoxZoomTool\"},{\"id\":\"715b63d6-2a6b-4c4f-899b-f423c8e5099e\",\"type\":\"SaveTool\"},{\"id\":\"6b631892-52ab-4359-93d8-699f9ffea937\",\"type\":\"ResetTool\"},{\"id\":\"bf4af59d-5abd-44e8-901a-67a4a782f9ec\",\"type\":\"HelpTool\"}]},\"id\":\"2b192731-e3e6-4cc4-b0e0-35f21bdce4bc\",\"type\":\"Toolbar\"},{\"attributes\":{\"callback\":null,\"column_names\":[\"x\",\"y\"],\"data\":{\"x\":{\"__ndarray__\":\"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\",\"dtype\":\"float64\",\"shape\":[300]},\"y\":{\"__ndarray__\":\"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\",\"dtype\":\"float64\",\"shape\":[300]}}},\"id\":\"85431c6d-8096-4d24-ad7b-1d8ef4f8ebc1\",\"type\":\"ColumnDataSource\"},{\"attributes\":{\"plot\":{\"id\":\"f12a726a-c53a-4279-9259-8c8ed3521797\",\"subtype\":\"Figure\",\"type\":\"Plot\"}},\"id\":\"6b631892-52ab-4359-93d8-699f9ffea937\",\"type\":\"ResetTool\"},{\"attributes\":{\"below\":[{\"id\":\"79fde889-40a5-44d3-b694-102effacdc8f\",\"type\":\"LinearAxis\"}],\"left\":[{\"id\":\"17be6f33-82bc-4b2d-af5f-9464f56ee013\",\"type\":\"LinearAxis\"}],\"plot_height\":400,\"renderers\":[{\"id\":\"79fde889-40a5-44d3-b694-102effacdc8f\",\"type\":\"LinearAxis\"},{\"id\":\"e29d4231-33c8-4d00-b83e-2c1af1a51d4e\",\"type\":\"Grid\"},{\"id\":\"17be6f33-82bc-4b2d-af5f-9464f56ee013\",\"type\":\"LinearAxis\"},{\"id\":\"4caef2df-415e-4fb1-bcca-15cc22e2d495\",\"type\":\"Grid\"},{\"id\":\"91ab860d-dbf5-4cbc-8b85-81a45fe47d9d\",\"type\":\"BoxAnnotation\"},{\"id\":\"39d09090-e434-4a52-94f9-ef74b65516c9\",\"type\":\"GlyphRenderer\"}],\"title\":{\"id\":\"556bb2d7-7e0a-4fe4-8850-d3b703ab8e37\",\"type\":\"Title\"},\"tool_events\":{\"id\":\"21589912-093d-4dc8-b89e-056bb790e5a7\",\"type\":\"ToolEvents\"},\"toolbar\":{\"id\":\"2b192731-e3e6-4cc4-b0e0-35f21bdce4bc\",\"type\":\"Toolbar\"},\"x_range\":{\"id\":\"2563b4e8-d913-44f6-a34b-847d6b0d2f2e\",\"type\":\"DataRange1d\"},\"y_range\":{\"id\":\"fc55d882-26b1-49df-86a2-8e5a9f634776\",\"type\":\"DataRange1d\"}},\"id\":\"f12a726a-c53a-4279-9259-8c8ed3521797\",\"subtype\":\"Figure\",\"type\":\"Plot\"},{\"attributes\":{\"plot\":{\"id\":\"f12a726a-c53a-4279-9259-8c8ed3521797\",\"subtype\":\"Figure\",\"type\":\"Plot\"}},\"id\":\"f93943bc-f2b4-4861-ac51-2025f1a93d7d\",\"type\":\"WheelZoomTool\"},{\"attributes\":{},\"id\":\"0dd28996-7f38-440c-97ad-f5f55ff9176f\",\"type\":\"BasicTicker\"},{\"attributes\":{\"fill_alpha\":{\"value\":0.1},\"fill_color\":{\"value\":\"#1f77b4\"},\"line_alpha\":{\"value\":0.1},\"line_color\":{\"value\":\"#1f77b4\"},\"size\":{\"units\":\"screen\",\"value\":8},\"x\":{\"field\":\"x\"},\"y\":{\"field\":\"y\"}},\"id\":\"1b9d439c-6824-45f8-8d1e-ada0b880ae39\",\"type\":\"Circle\"},{\"attributes\":{\"plot\":{\"id\":\"f12a726a-c53a-4279-9259-8c8ed3521797\",\"subtype\":\"Figure\",\"type\":\"Plot\"},\"ticker\":{\"id\":\"0dd28996-7f38-440c-97ad-f5f55ff9176f\",\"type\":\"BasicTicker\"}},\"id\":\"e29d4231-33c8-4d00-b83e-2c1af1a51d4e\",\"type\":\"Grid\"},{\"attributes\":{\"axis_label\":\"y val\",\"formatter\":{\"id\":\"44650466-8404-4a22-b777-2dd915ba6d11\",\"type\":\"BasicTickFormatter\"},\"plot\":{\"id\":\"f12a726a-c53a-4279-9259-8c8ed3521797\",\"subtype\":\"Figure\",\"type\":\"Plot\"},\"ticker\":{\"id\":\"0dd28996-7f38-440c-97ad-f5f55ff9176f\",\"type\":\"BasicTicker\"}},\"id\":\"79fde889-40a5-44d3-b694-102effacdc8f\",\"type\":\"LinearAxis\"},{\"attributes\":{},\"id\":\"7a354ac7-8327-4a0e-ae7e-32368550ad07\",\"type\":\"BasicTicker\"},{\"attributes\":{\"plot\":null,\"text\":\"Measured Values VS Predicted Values\"},\"id\":\"556bb2d7-7e0a-4fe4-8850-d3b703ab8e37\",\"type\":\"Title\"},{\"attributes\":{\"callback\":null},\"id\":\"2563b4e8-d913-44f6-a34b-847d6b0d2f2e\",\"type\":\"DataRange1d\"},{\"attributes\":{\"overlay\":{\"id\":\"91ab860d-dbf5-4cbc-8b85-81a45fe47d9d\",\"type\":\"BoxAnnotation\"},\"plot\":{\"id\":\"f12a726a-c53a-4279-9259-8c8ed3521797\",\"subtype\":\"Figure\",\"type\":\"Plot\"}},\"id\":\"344cd3db-c5b4-477e-8f40-3cc03ba7007a\",\"type\":\"BoxZoomTool\"},{\"attributes\":{\"fill_alpha\":{\"value\":0.5},\"fill_color\":{\"value\":\"blue\"},\"line_alpha\":{\"value\":0.2},\"size\":{\"units\":\"screen\",\"value\":8},\"x\":{\"field\":\"x\"},\"y\":{\"field\":\"y\"}},\"id\":\"9b7713ff-b2ca-4d8a-83c6-c61f62ba61d5\",\"type\":\"Circle\"},{\"attributes\":{\"axis_label\":\"y pred\",\"formatter\":{\"id\":\"8329375a-736b-4d9f-bf39-5865d8a6afe5\",\"type\":\"BasicTickFormatter\"},\"plot\":{\"id\":\"f12a726a-c53a-4279-9259-8c8ed3521797\",\"subtype\":\"Figure\",\"type\":\"Plot\"},\"ticker\":{\"id\":\"7a354ac7-8327-4a0e-ae7e-32368550ad07\",\"type\":\"BasicTicker\"}},\"id\":\"17be6f33-82bc-4b2d-af5f-9464f56ee013\",\"type\":\"LinearAxis\"},{\"attributes\":{\"plot\":{\"id\":\"f12a726a-c53a-4279-9259-8c8ed3521797\",\"subtype\":\"Figure\",\"type\":\"Plot\"}},\"id\":\"bf4af59d-5abd-44e8-901a-67a4a782f9ec\",\"type\":\"HelpTool\"},{\"attributes\":{},\"id\":\"8329375a-736b-4d9f-bf39-5865d8a6afe5\",\"type\":\"BasicTickFormatter\"},{\"attributes\":{\"plot\":{\"id\":\"f12a726a-c53a-4279-9259-8c8ed3521797\",\"subtype\":\"Figure\",\"type\":\"Plot\"}},\"id\":\"f1662ffd-fe7b-4042-b3a1-1018fec84d43\",\"type\":\"PanTool\"},{\"attributes\":{},\"id\":\"21589912-093d-4dc8-b89e-056bb790e5a7\",\"type\":\"ToolEvents\"},{\"attributes\":{\"dimension\":1,\"plot\":{\"id\":\"f12a726a-c53a-4279-9259-8c8ed3521797\",\"subtype\":\"Figure\",\"type\":\"Plot\"},\"ticker\":{\"id\":\"7a354ac7-8327-4a0e-ae7e-32368550ad07\",\"type\":\"BasicTicker\"}},\"id\":\"4caef2df-415e-4fb1-bcca-15cc22e2d495\",\"type\":\"Grid\"},{\"attributes\":{},\"id\":\"44650466-8404-4a22-b777-2dd915ba6d11\",\"type\":\"BasicTickFormatter\"},{\"attributes\":{\"data_source\":{\"id\":\"85431c6d-8096-4d24-ad7b-1d8ef4f8ebc1\",\"type\":\"ColumnDataSource\"},\"glyph\":{\"id\":\"9b7713ff-b2ca-4d8a-83c6-c61f62ba61d5\",\"type\":\"Circle\"},\"hover_glyph\":null,\"nonselection_glyph\":{\"id\":\"1b9d439c-6824-45f8-8d1e-ada0b880ae39\",\"type\":\"Circle\"},\"selection_glyph\":null},\"id\":\"39d09090-e434-4a52-94f9-ef74b65516c9\",\"type\":\"GlyphRenderer\"},{\"attributes\":{\"bottom_units\":\"screen\",\"fill_alpha\":{\"value\":0.5},\"fill_color\":{\"value\":\"lightgrey\"},\"left_units\":\"screen\",\"level\":\"overlay\",\"line_alpha\":{\"value\":1.0},\"line_color\":{\"value\":\"black\"},\"line_dash\":[4,4],\"line_width\":{\"value\":2},\"plot\":null,\"render_mode\":\"css\",\"right_units\":\"screen\",\"top_units\":\"screen\"},\"id\":\"91ab860d-dbf5-4cbc-8b85-81a45fe47d9d\",\"type\":\"BoxAnnotation\"},{\"attributes\":{\"plot\":{\"id\":\"f12a726a-c53a-4279-9259-8c8ed3521797\",\"subtype\":\"Figure\",\"type\":\"Plot\"}},\"id\":\"715b63d6-2a6b-4c4f-899b-f423c8e5099e\",\"type\":\"SaveTool\"}],\"root_ids\":[\"f12a726a-c53a-4279-9259-8c8ed3521797\"]},\"title\":\"Bokeh Application\",\"version\":\"0.12.4\"}};\n",
       "            var render_items = [{\"docid\":\"f03d4261-e09d-4a28-ab41-d1895bda8398\",\"elementid\":\"b192d738-9b09-4f38-9f4d-cde69a4239f3\",\"modelid\":\"f12a726a-c53a-4279-9259-8c8ed3521797\"}];\n",
       "            \n",
       "            Bokeh.embed.embed_items(docs_json, render_items);\n",
       "          };\n",
       "          if (document.readyState != \"loading\") fn();\n",
       "          else document.addEventListener(\"DOMContentLoaded\", fn);\n",
       "        })();\n",
       "      },\n",
       "      function(Bokeh) {\n",
       "      }\n",
       "    ];\n",
       "  \n",
       "    function run_inline_js() {\n",
       "      \n",
       "      if ((window.Bokeh !== undefined) || (force === true)) {\n",
       "        for (var i = 0; i < inline_js.length; i++) {\n",
       "          inline_js[i](window.Bokeh);\n",
       "        }if (force === true) {\n",
       "          display_loaded();\n",
       "        }} else if (Date.now() < window._bokeh_timeout) {\n",
       "        setTimeout(run_inline_js, 100);\n",
       "      } else if (!window._bokeh_failed_load) {\n",
       "        console.log(\"Bokeh: BokehJS failed to load within specified timeout.\");\n",
       "        window._bokeh_failed_load = true;\n",
       "      } else if (force !== true) {\n",
       "        var cell = $(document.getElementById(\"b192d738-9b09-4f38-9f4d-cde69a4239f3\")).parents('.cell').data().cell;\n",
       "        cell.output_area.append_execute_result(NB_LOAD_WARNING)\n",
       "      }\n",
       "  \n",
       "    }\n",
       "  \n",
       "    if (window._bokeh_is_loading === 0) {\n",
       "      console.log(\"Bokeh: BokehJS loaded, going straight to plotting\");\n",
       "      run_inline_js();\n",
       "    } else {\n",
       "      load_libs(js_urls, function() {\n",
       "        console.log(\"Bokeh: BokehJS plotting callback run at\", now());\n",
       "        run_inline_js();\n",
       "      });\n",
       "    }\n",
       "  }(this));\n",
       "</script>"
      ]
     },
     "metadata": {},
     "output_type": "display_data"
    }
   ],
   "source": [
    "# Plot the data and the model prediction\n",
    "yp = model.predict(Xvs)\n",
    "fig = bk.figure(title='Measured Values VS Predicted Values',\n",
    "                x_axis_label='y val', y_axis_label='y pred',\n",
    "                plot_width=600, plot_height=400)\n",
    "fig.circle(yv['measured'], yp[:,0], size=8,\n",
    "           fill_color='blue', fill_alpha=0.5, line_color='black', alpha=0.2)\n",
    "bk.show(fig)"
   ]
  },
  {
   "cell_type": "markdown",
   "metadata": {},
   "source": [
    "### 2.2 Example: Training and a Validation Sets on a Classification Problem"
   ]
  },
  {
   "cell_type": "markdown",
   "metadata": {},
   "source": [
    "The K-neighbors is an instance-based classifier that predicts the label of an unknown point based on the labels of the *K* nearest points in the parameter space:"
   ]
  },
  {
   "cell_type": "code",
   "execution_count": 17,
   "metadata": {
    "collapsed": false
   },
   "outputs": [
    {
     "name": "stdout",
     "output_type": "stream",
     "text": [
      "[[178   0   0   0   0   0   0   0   0   0]\n",
      " [  0 182   0   0   0   0   0   0   0   0]\n",
      " [  0   0 177   0   0   0   0   0   0   0]\n",
      " [  0   0   0 183   0   0   0   0   0   0]\n",
      " [  0   0   0   0 181   0   0   0   0   0]\n",
      " [  0   0   0   0   0 182   0   0   0   0]\n",
      " [  0   0   0   0   0   0 181   0   0   0]\n",
      " [  0   0   0   0   0   0   0 179   0   0]\n",
      " [  0   0   0   0   0   0   0   0 174   0]\n",
      " [  0   0   0   0   0   0   0   0   0 180]]\n",
      "\n",
      "F1 Score:   1.0\n"
     ]
    }
   ],
   "source": [
    "from sklearn import neighbors\n",
    "digits = datasets.load_digits()\n",
    "X, y = digits.data, digits.target\n",
    "\n",
    "clf = neighbors.KNeighborsClassifier(n_neighbors=1)\n",
    "clf.fit(X, y)\n",
    "y_pred = clf.predict(X)\n",
    "print(metrics.confusion_matrix(y_pred, y))\n",
    "print('\\nF1 Score:  ', metrics.f1_score(y_pred, y, average='weighted'))"
   ]
  },
  {
   "cell_type": "markdown",
   "metadata": {},
   "source": [
    "Apparently, we've found a perfect classifier!  But this is misleading for the reasons we saw before: the classifier essentially \"memorizes\" all the samples it has already seen.  To really test how well this algorithm does, we need to try some samples it *hasn't* yet seen.\n",
    "\n",
    "Here we split the original data in **Training** and **Validation** sets and run again the previous algorithm. In this case we see that we still have a good classifier but the precision is reduced:"
   ]
  },
  {
   "cell_type": "code",
   "execution_count": 18,
   "metadata": {
    "collapsed": false
   },
   "outputs": [
    {
     "name": "stdout",
     "output_type": "stream",
     "text": [
      "[[60  0  0  0  0  0  0  0  0  0]\n",
      " [ 0 73  0  0  0  0  0  0  0  0]\n",
      " [ 0  0 71  0  0  0  0  0  0  0]\n",
      " [ 0  0  0 70  0  0  0  0  0  0]\n",
      " [ 0  0  0  0 63  0  0  0  0  0]\n",
      " [ 0  0  0  0  0 87  1  0  0  1]\n",
      " [ 0  0  0  0  0  0 76  0  0  0]\n",
      " [ 0  0  0  0  0  0  0 65  0  0]\n",
      " [ 0  2  0  1  0  0  0  0 74  1]\n",
      " [ 0  0  0  2  0  1  0  0  0 71]]\n",
      "\n",
      "F1 Score:   0.987441080752\n"
     ]
    }
   ],
   "source": [
    "X_tr, X_valid, y_tr, y_valid = model_selection.train_test_split(X, \n",
    "                                                                 y,\n",
    "                                                                 test_size=0.40, \n",
    "                                                                 random_state=0)\n",
    "clf = neighbors.KNeighborsClassifier(n_neighbors=1).fit(X_tr, y_tr)\n",
    "y_pred = clf.predict(X_valid)\n",
    "print(metrics.confusion_matrix(y_valid, y_pred))\n",
    "print('\\nF1 Score:  ', metrics.f1_score(y_valid, y_pred, average='weighted'))"
   ]
  },
  {
   "cell_type": "markdown",
   "metadata": {},
   "source": [
    "## 3 Cross Validation (CV)"
   ]
  },
  {
   "cell_type": "markdown",
   "metadata": {},
   "source": [
    "By partitioning the available data into **Training** and **Validation** sets, we reduce the number of samples which can be used for learning the model.\n",
    "\n",
    "By using cross-validation **(CV)** the *validation set is defined automatically by the CV algoritm. * The training set is split into k smaller sets and:\n",
    "\n",
    "* A model is trained using k-1 of the folds as training data\n",
    "* The resulting model is validated on the remaining part of the data\n",
    "\n",
    "In this example we first calculate the Mean Squared Error on the Test DatasetSet (which is a methodological error) and then we calculate again the same MSE using a KFold CV. The MSE calculated with Cv is much larger:"
   ]
  },
  {
   "cell_type": "code",
   "execution_count": 19,
   "metadata": {
    "collapsed": false
   },
   "outputs": [
    {
     "name": "stdout",
     "output_type": "stream",
     "text": [
      "MSE Calculated on the Training Set:    19.5876545263\n",
      "MSE Calculated with Cross Validation: -49.85 (+/- 80.06)\n"
     ]
    }
   ],
   "source": [
    "X, y = datasets.samples_generator.make_regression(n_samples=7,\n",
    "                                                  n_features=1, n_informative=1,\n",
    "                                                  random_state=0, noise=5)\n",
    "lin = linear_model.LinearRegression(fit_intercept=True)\n",
    "lin.fit(X, y)\n",
    "MSE = metrics.mean_squared_error(lin.predict(X), y)\n",
    "print('MSE Calculated on the Training Set:   ', MSE)\n",
    "MSE_CV = model_selection.cross_val_score(lin, X, y, cv=5, scoring='neg_mean_squared_error')\n",
    "print(\"MSE Calculated with Cross Validation: %0.2f (+/- %0.2f)\"\n",
    "      % (MSE_CV.mean(), MSE_CV.std() * 2))"
   ]
  },
  {
   "cell_type": "markdown",
   "metadata": {},
   "source": [
    "When the `cv` argument is an integer like `cv=10`, `cross_val_score` uses the `KFold` or `StratifiedKFold` strategies. It is also possible to use other cross validation strategies by passing a cross validation iterator instead, for instance we can use `model_selection.ShuffleSplit` where `n_iter` is the number of re-shuffling and splitting operations:"
   ]
  },
  {
   "cell_type": "code",
   "execution_count": 20,
   "metadata": {
    "collapsed": false
   },
   "outputs": [
    {
     "name": "stdout",
     "output_type": "stream",
     "text": [
      "MSE Calculated with Cross Validation: -31.07 (+/- 36.74)\n"
     ]
    }
   ],
   "source": [
    "n_samples = X.shape[0]\n",
    "cv_iter = model_selection.ShuffleSplit(n_samples, test_size=0.2, random_state=0)\n",
    "MSE_CV = model_selection.cross_val_score(lin, X, y, cv=cv_iter, scoring='neg_mean_squared_error')\n",
    "print(\"MSE Calculated with Cross Validation: %0.2f (+/- %0.2f)\"\n",
    "      % (MSE_CV.mean(), MSE_CV.std() * 2))"
   ]
  },
  {
   "cell_type": "markdown",
   "metadata": {},
   "source": [
    "### 3.1 Cross Validation: test many estimators on the same dataset:"
   ]
  },
  {
   "cell_type": "markdown",
   "metadata": {},
   "source": [
    "In this example *we use the \"diabetes\" dataset* to fit tree different linear models. For each model the default CV score is calculated and displayed:"
   ]
  },
  {
   "cell_type": "code",
   "execution_count": 21,
   "metadata": {
    "collapsed": false
   },
   "outputs": [
    {
     "name": "stdout",
     "output_type": "stream",
     "text": [
      "LinearRegression :  0.488702767247\n",
      "Ridge :  0.409427438303\n",
      "Lasso :  0.353800083299\n"
     ]
    }
   ],
   "source": [
    "data = datasets.load_diabetes()\n",
    "X, y = data.data, data.target\n",
    "\n",
    "for Model in [linear_model.LinearRegression,\n",
    "              linear_model.Ridge,\n",
    "              linear_model.Lasso]:\n",
    "    model = Model()\n",
    "    print(Model.__name__, ': ', model_selection.cross_val_score(model, X, y).mean())"
   ]
  },
  {
   "cell_type": "markdown",
   "metadata": {},
   "source": [
    "### 3.2 Cross Validation: test many hyperparamaters and estimators on the same dataset:"
   ]
  },
  {
   "cell_type": "markdown",
   "metadata": {},
   "source": [
    "`Lasso` and `Ridge` accept a regularization parameter `alpha`. Here we plot the CV Score for different values of alpha"
   ]
  },
  {
   "cell_type": "code",
   "execution_count": 22,
   "metadata": {
    "collapsed": false
   },
   "outputs": [
    {
     "data": {
      "text/html": [
       "\n",
       "\n",
       "    <div class=\"bk-root\">\n",
       "        <div class=\"bk-plotdiv\" id=\"973b3bc1-42d1-4b98-a1c0-b24d9358841d\"></div>\n",
       "    </div>\n",
       "<script type=\"text/javascript\">\n",
       "  \n",
       "  (function(global) {\n",
       "    function now() {\n",
       "      return new Date();\n",
       "    }\n",
       "  \n",
       "    var force = false;\n",
       "  \n",
       "    if (typeof (window._bokeh_onload_callbacks) === \"undefined\" || force === true) {\n",
       "      window._bokeh_onload_callbacks = [];\n",
       "      window._bokeh_is_loading = undefined;\n",
       "    }\n",
       "  \n",
       "  \n",
       "    \n",
       "    if (typeof (window._bokeh_timeout) === \"undefined\" || force === true) {\n",
       "      window._bokeh_timeout = Date.now() + 0;\n",
       "      window._bokeh_failed_load = false;\n",
       "    }\n",
       "  \n",
       "    var NB_LOAD_WARNING = {'data': {'text/html':\n",
       "       \"<div style='background-color: #fdd'>\\n\"+\n",
       "       \"<p>\\n\"+\n",
       "       \"BokehJS does not appear to have successfully loaded. If loading BokehJS from CDN, this \\n\"+\n",
       "       \"may be due to a slow or bad network connection. Possible fixes:\\n\"+\n",
       "       \"</p>\\n\"+\n",
       "       \"<ul>\\n\"+\n",
       "       \"<li>re-rerun `output_notebook()` to attempt to load from CDN again, or</li>\\n\"+\n",
       "       \"<li>use INLINE resources instead, as so:</li>\\n\"+\n",
       "       \"</ul>\\n\"+\n",
       "       \"<code>\\n\"+\n",
       "       \"from bokeh.resources import INLINE\\n\"+\n",
       "       \"output_notebook(resources=INLINE)\\n\"+\n",
       "       \"</code>\\n\"+\n",
       "       \"</div>\"}};\n",
       "  \n",
       "    function display_loaded() {\n",
       "      if (window.Bokeh !== undefined) {\n",
       "        document.getElementById(\"973b3bc1-42d1-4b98-a1c0-b24d9358841d\").textContent = \"BokehJS successfully loaded.\";\n",
       "      } else if (Date.now() < window._bokeh_timeout) {\n",
       "        setTimeout(display_loaded, 100)\n",
       "      }\n",
       "    }\n",
       "  \n",
       "    function run_callbacks() {\n",
       "      window._bokeh_onload_callbacks.forEach(function(callback) { callback() });\n",
       "      delete window._bokeh_onload_callbacks\n",
       "      console.info(\"Bokeh: all callbacks have finished\");\n",
       "    }\n",
       "  \n",
       "    function load_libs(js_urls, callback) {\n",
       "      window._bokeh_onload_callbacks.push(callback);\n",
       "      if (window._bokeh_is_loading > 0) {\n",
       "        console.log(\"Bokeh: BokehJS is being loaded, scheduling callback at\", now());\n",
       "        return null;\n",
       "      }\n",
       "      if (js_urls == null || js_urls.length === 0) {\n",
       "        run_callbacks();\n",
       "        return null;\n",
       "      }\n",
       "      console.log(\"Bokeh: BokehJS not loaded, scheduling load and callback at\", now());\n",
       "      window._bokeh_is_loading = js_urls.length;\n",
       "      for (var i = 0; i < js_urls.length; i++) {\n",
       "        var url = js_urls[i];\n",
       "        var s = document.createElement('script');\n",
       "        s.src = url;\n",
       "        s.async = false;\n",
       "        s.onreadystatechange = s.onload = function() {\n",
       "          window._bokeh_is_loading--;\n",
       "          if (window._bokeh_is_loading === 0) {\n",
       "            console.log(\"Bokeh: all BokehJS libraries loaded\");\n",
       "            run_callbacks()\n",
       "          }\n",
       "        };\n",
       "        s.onerror = function() {\n",
       "          console.warn(\"failed to load library \" + url);\n",
       "        };\n",
       "        console.log(\"Bokeh: injecting script tag for BokehJS library: \", url);\n",
       "        document.getElementsByTagName(\"head\")[0].appendChild(s);\n",
       "      }\n",
       "    };var element = document.getElementById(\"973b3bc1-42d1-4b98-a1c0-b24d9358841d\");\n",
       "    if (element == null) {\n",
       "      console.log(\"Bokeh: ERROR: autoload.js configured with elementid '973b3bc1-42d1-4b98-a1c0-b24d9358841d' but no matching script tag was found. \")\n",
       "      return false;\n",
       "    }\n",
       "  \n",
       "    var js_urls = [];\n",
       "  \n",
       "    var inline_js = [\n",
       "      function(Bokeh) {\n",
       "        (function() {\n",
       "          var fn = function() {\n",
       "            var docs_json = {\"ef44a179-1f0a-4287-97e3-7965a120c36c\":{\"roots\":{\"references\":[{\"attributes\":{\"callback\":null,\"column_names\":[\"x\",\"y\"],\"data\":{\"x\":{\"__ndarray__\":\"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\",\"dtype\":\"float64\",\"shape\":[200]},\"y\":[0.4823198719804238,0.48231991884559233,0.48231996700377405,0.48232001435008465,0.4823200641088565,0.48232011438925626,0.4823201651660526,0.48232021628554095,0.4823202688235386,0.48232031506480577,0.4823203646383532,0.4823204159736383,0.48232046553209856,0.482320516352849,0.4823205652553114,0.4823206147625639,0.4823206609496345,0.48232070830886675,0.4823207512358609,0.482320797206757,0.4823208395067294,0.48232086987668144,0.4823209035572457,0.48232093772119244,0.4823209701433882,0.4823209937028287,0.4823210121764812,0.48232102938033955,0.4823210383036353,0.4823210382246398,0.4823210367267542,0.48232102291351353,0.48232100188189336,0.4823209750026871,0.4823209277652788,0.48232087933243156,0.48232080072971284,0.4823207262236314,0.48232062869260883,0.4823205123628167,0.48232038389357185,0.48232023409844027,0.4823200606957142,0.4823198630682636,0.4823196435370619,0.48231939042330474,0.4823191108923064,0.48231878968779507,0.48231843884325176,0.48231805021518487,0.482317618820265,0.48231712705368307,0.48231660577889623,0.4823160117270618,0.4823153648336954,0.48231465857648625,0.4823138863846255,0.48231304096732464,0.4823121039781089,0.48231108218033364,0.48230996012143973,0.4823087455313269,0.48230741896421864,0.482305978413876,0.482304406454792,0.4823027044475654,0.48230545853492474,0.48231236488885987,0.48232198419781025,0.48233192592164953,0.4823420813307693,0.48235254829327623,0.48236328171946086,0.48237432164243293,0.48238559388143454,0.48239721511385414,0.48240912808098085,0.4824213411520935,0.4824338789446873,0.48244661269627176,0.48245976034662946,0.4824682457515436,0.48247049879835613,0.4824726143270068,0.48247456686107026,0.48247632449469985,0.4824778429299572,0.48247920875228684,0.4824802464699305,0.4824810677509467,0.48248142894293655,0.4824815421097517,0.48248688644729876,0.48249238411036577,0.48249777820428585,0.48250292043971843,0.4825077757035716,0.4825123092297484,0.4825165537139525,0.4825202985083378,0.4825236486196308,0.48252651183548184,0.482528745396613,0.48253037056428844,0.48253113755992205,0.4825312510779879,0.48252725863151724,0.482519124511132,0.4825095818562354,0.4824991672498397,0.482487143299243,0.4824732775368445,0.48245738377572556,0.4824355164872955,0.48238751971959815,0.48233330431589894,0.4822766797802669,0.4822171802659293,0.48215421786198903,0.4820878622482356,0.48201796066394687,0.4819445464894012,0.4818668451908086,0.4817850519347996,0.48169878203634753,0.4816077538268825,0.4815119907254619,0.48141173238577817,0.48131684493045856,0.48125683521420565,0.4812150218369049,0.48116892423598606,0.4811179249238876,0.4810983464073743,0.4810991293643679,0.48111933133830787,0.48115650678595134,0.4811802956093871,0.4811998162709455,0.4812176290120428,0.48123329144705396,0.48124695209799845,0.4812844503876915,0.48134172073405673,0.4814039306194536,0.48146432253306076,0.48152029004309665,0.48157635653669484,0.4816320306416987,0.481687577177062,0.481717153147682,0.4817349085093469,0.4817519852888578,0.4817686187602728,0.48178530060589253,0.4818002392200416,0.4818144922628632,0.4818275421949744,0.481840393524093,0.4818499462414998,0.4818827756845915,0.4819158961621567,0.48194828087696584,0.4819797313850289,0.4820098554769894,0.482038668903985,0.48206586949108116,0.48208595408295735,0.4820995110582837,0.4821082651529761,0.4821152713189608,0.48211654452643826,0.48211416669872625,0.48210766275813344,0.4820967786702234,0.48208085909182874,0.4820630346952136,0.48204909514844074,0.4820428973029266,0.4820423170478307,0.48203535099700207,0.48202268559982053,0.48200295920617026,0.4819759672586835,0.4819411629935084,0.4818878476797265,0.48181757338938336,0.48173951676780763,0.4816510140889866,0.4815350476045719,0.48140495190257815,0.4812627586024198,0.4811058827242256,0.4809344025096175,0.48074660077664505,0.4805416840899059,0.48031758713672235,0.4800731162349868,0.4798063836521422,0.4795161392064994]}},\"id\":\"bfd67bf2-5db5-4554-b610-ad6490816a60\",\"type\":\"ColumnDataSource\"},{\"attributes\":{\"plot\":{\"id\":\"891b6bf3-17bf-4a72-b7ec-c83a2ae4f1bd\",\"subtype\":\"Figure\",\"type\":\"Plot\"}},\"id\":\"46237009-8922-4ec1-b6f1-48494fe0b0ae\",\"type\":\"HelpTool\"},{\"attributes\":{\"formatter\":{\"id\":\"e762eeea-dffc-4f98-a5ea-af52f8a30279\",\"type\":\"LogTickFormatter\"},\"plot\":{\"id\":\"891b6bf3-17bf-4a72-b7ec-c83a2ae4f1bd\",\"subtype\":\"Figure\",\"type\":\"Plot\"},\"ticker\":{\"id\":\"6fd937fa-be15-463d-a51e-6400d803d331\",\"type\":\"LogTicker\"}},\"id\":\"8183e89a-217e-45c0-9623-3d8c9d5af68a\",\"type\":\"LogAxis\"},{\"attributes\":{\"items\":[{\"id\":\"8821b4a0-efd9-4770-9b23-9374b2d6a760\",\"type\":\"LegendItem\"},{\"id\":\"d91b7a0d-9f36-4512-b082-dca275be0ad4\",\"type\":\"LegendItem\"}],\"location\":\"bottom_left\",\"plot\":{\"id\":\"891b6bf3-17bf-4a72-b7ec-c83a2ae4f1bd\",\"subtype\":\"Figure\",\"type\":\"Plot\"}},\"id\":\"9c8b3131-d8d2-4824-8fb1-9aea2a5f54ae\",\"type\":\"Legend\"},{\"attributes\":{\"label\":{\"value\":\"Lasso\"},\"renderers\":[{\"id\":\"9eb2e426-bbee-4c81-b5a1-11521edf94ea\",\"type\":\"GlyphRenderer\"}]},\"id\":\"d91b7a0d-9f36-4512-b082-dca275be0ad4\",\"type\":\"LegendItem\"},{\"attributes\":{\"line_color\":{\"value\":\"green\"},\"x\":{\"field\":\"x\"},\"y\":{\"field\":\"y\"}},\"id\":\"edb9a0bf-d97a-4c40-b071-54dbf8b94147\",\"type\":\"Line\"},{\"attributes\":{\"plot\":{\"id\":\"891b6bf3-17bf-4a72-b7ec-c83a2ae4f1bd\",\"subtype\":\"Figure\",\"type\":\"Plot\"}},\"id\":\"28866f95-89fb-42fa-bd95-0832ac062aac\",\"type\":\"SaveTool\"},{\"attributes\":{\"plot\":{\"id\":\"891b6bf3-17bf-4a72-b7ec-c83a2ae4f1bd\",\"subtype\":\"Figure\",\"type\":\"Plot\"}},\"id\":\"0685ccc9-5f41-4c6c-9039-f0a3cdc7d89a\",\"type\":\"ResetTool\"},{\"attributes\":{\"active_drag\":\"auto\",\"active_scroll\":\"auto\",\"active_tap\":\"auto\",\"tools\":[{\"id\":\"07615b47-41eb-4517-b54e-8b6077a230f2\",\"type\":\"PanTool\"},{\"id\":\"4f5628fd-55b7-4849-97ba-dc85bd1d0fc1\",\"type\":\"WheelZoomTool\"},{\"id\":\"3fba8004-5d1b-4be6-82d9-bc43e7e0585c\",\"type\":\"BoxZoomTool\"},{\"id\":\"28866f95-89fb-42fa-bd95-0832ac062aac\",\"type\":\"SaveTool\"},{\"id\":\"0685ccc9-5f41-4c6c-9039-f0a3cdc7d89a\",\"type\":\"ResetTool\"},{\"id\":\"46237009-8922-4ec1-b6f1-48494fe0b0ae\",\"type\":\"HelpTool\"}]},\"id\":\"4865dc56-cc78-4289-b299-bb979e66a015\",\"type\":\"Toolbar\"},{\"attributes\":{\"line_alpha\":{\"value\":0.1},\"line_color\":{\"value\":\"#1f77b4\"},\"x\":{\"field\":\"x\"},\"y\":{\"field\":\"y\"}},\"id\":\"0e4527c2-1454-4c1e-b37c-f9b591596fc2\",\"type\":\"Line\"},{\"attributes\":{\"bottom_units\":\"screen\",\"fill_alpha\":{\"value\":0.5},\"fill_color\":{\"value\":\"lightgrey\"},\"left_units\":\"screen\",\"level\":\"overlay\",\"line_alpha\":{\"value\":1.0},\"line_color\":{\"value\":\"black\"},\"line_dash\":[4,4],\"line_width\":{\"value\":2},\"plot\":null,\"render_mode\":\"css\",\"right_units\":\"screen\",\"top_units\":\"screen\"},\"id\":\"75e05b4b-1315-4300-a9bc-e36e0ab6af4f\",\"type\":\"BoxAnnotation\"},{\"attributes\":{\"data_source\":{\"id\":\"bfd67bf2-5db5-4554-b610-ad6490816a60\",\"type\":\"ColumnDataSource\"},\"glyph\":{\"id\":\"edb9a0bf-d97a-4c40-b071-54dbf8b94147\",\"type\":\"Line\"},\"hover_glyph\":null,\"nonselection_glyph\":{\"id\":\"d88629be-e9c8-4bcc-8835-0a02c17c3f52\",\"type\":\"Line\"},\"selection_glyph\":null},\"id\":\"9eb2e426-bbee-4c81-b5a1-11521edf94ea\",\"type\":\"GlyphRenderer\"},{\"attributes\":{\"label\":{\"value\":\"Ridge\"},\"renderers\":[{\"id\":\"86b275de-dc59-4028-bd7b-db635774f4a9\",\"type\":\"GlyphRenderer\"}]},\"id\":\"8821b4a0-efd9-4770-9b23-9374b2d6a760\",\"type\":\"LegendItem\"},{\"attributes\":{\"formatter\":{\"id\":\"60fed2c5-1d19-49ae-9179-916b25cf1f35\",\"type\":\"BasicTickFormatter\"},\"plot\":{\"id\":\"891b6bf3-17bf-4a72-b7ec-c83a2ae4f1bd\",\"subtype\":\"Figure\",\"type\":\"Plot\"},\"ticker\":{\"id\":\"f29db9de-8387-4654-b7ae-37ac2fd138a8\",\"type\":\"BasicTicker\"}},\"id\":\"e18d3579-47c2-49eb-9c54-2f9b7a86c5d9\",\"type\":\"LinearAxis\"},{\"attributes\":{},\"id\":\"60fed2c5-1d19-49ae-9179-916b25cf1f35\",\"type\":\"BasicTickFormatter\"},{\"attributes\":{\"ticker\":null},\"id\":\"e762eeea-dffc-4f98-a5ea-af52f8a30279\",\"type\":\"LogTickFormatter\"},{\"attributes\":{\"plot\":null,\"text\":\"Alpha sensitiveness on different models\"},\"id\":\"743c3d4e-b0ce-4862-ba84-ac820d6c3eea\",\"type\":\"Title\"},{\"attributes\":{},\"id\":\"f29db9de-8387-4654-b7ae-37ac2fd138a8\",\"type\":\"BasicTicker\"},{\"attributes\":{\"dimension\":1,\"plot\":{\"id\":\"891b6bf3-17bf-4a72-b7ec-c83a2ae4f1bd\",\"subtype\":\"Figure\",\"type\":\"Plot\"},\"ticker\":{\"id\":\"f29db9de-8387-4654-b7ae-37ac2fd138a8\",\"type\":\"BasicTicker\"}},\"id\":\"21876099-b18c-4f23-95a6-753753fb1365\",\"type\":\"Grid\"},{\"attributes\":{\"callback\":null},\"id\":\"f5ad9bcb-f4fd-484f-8412-934c11a3781e\",\"type\":\"DataRange1d\"},{\"attributes\":{\"line_alpha\":{\"value\":0.1},\"line_color\":{\"value\":\"#1f77b4\"},\"x\":{\"field\":\"x\"},\"y\":{\"field\":\"y\"}},\"id\":\"d88629be-e9c8-4bcc-8835-0a02c17c3f52\",\"type\":\"Line\"},{\"attributes\":{\"below\":[{\"id\":\"8183e89a-217e-45c0-9623-3d8c9d5af68a\",\"type\":\"LogAxis\"}],\"left\":[{\"id\":\"e18d3579-47c2-49eb-9c54-2f9b7a86c5d9\",\"type\":\"LinearAxis\"}],\"plot_height\":300,\"plot_width\":700,\"renderers\":[{\"id\":\"8183e89a-217e-45c0-9623-3d8c9d5af68a\",\"type\":\"LogAxis\"},{\"id\":\"e9e72639-4f8a-480d-aab1-79a44d169e28\",\"type\":\"Grid\"},{\"id\":\"e18d3579-47c2-49eb-9c54-2f9b7a86c5d9\",\"type\":\"LinearAxis\"},{\"id\":\"21876099-b18c-4f23-95a6-753753fb1365\",\"type\":\"Grid\"},{\"id\":\"75e05b4b-1315-4300-a9bc-e36e0ab6af4f\",\"type\":\"BoxAnnotation\"},{\"id\":\"9c8b3131-d8d2-4824-8fb1-9aea2a5f54ae\",\"type\":\"Legend\"},{\"id\":\"86b275de-dc59-4028-bd7b-db635774f4a9\",\"type\":\"GlyphRenderer\"},{\"id\":\"9eb2e426-bbee-4c81-b5a1-11521edf94ea\",\"type\":\"GlyphRenderer\"}],\"title\":{\"id\":\"743c3d4e-b0ce-4862-ba84-ac820d6c3eea\",\"type\":\"Title\"},\"tool_events\":{\"id\":\"03dfb9a6-3eb1-4682-b418-9762bea3c454\",\"type\":\"ToolEvents\"},\"toolbar\":{\"id\":\"4865dc56-cc78-4289-b299-bb979e66a015\",\"type\":\"Toolbar\"},\"x_mapper_type\":\"log\",\"x_range\":{\"id\":\"79282513-4cc1-4175-b16b-0c5ee103e381\",\"type\":\"Range1d\"},\"y_range\":{\"id\":\"f5ad9bcb-f4fd-484f-8412-934c11a3781e\",\"type\":\"DataRange1d\"}},\"id\":\"891b6bf3-17bf-4a72-b7ec-c83a2ae4f1bd\",\"subtype\":\"Figure\",\"type\":\"Plot\"},{\"attributes\":{\"callback\":null,\"column_names\":[\"x\",\"y\"],\"data\":{\"x\":{\"__ndarray__\":\"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\",\"dtype\":\"float64\",\"shape\":[200]},\"y\":[0.4823231384163484,0.48232328486322984,0.4823234343437865,0.48232358681895865,0.48232374223859775,0.4823239005404606,0.48232406164913294,0.48232422547487774,0.48232439191240284,0.4823245608395461,0.4823247321158702,0.4823249055811646,0.48232508105384736,0.48232525832926376,0.4823254371778744,0.482325617343328,0.48232579854041296,0.4823259804528813,0.4823261627311388,0.48232634498979665,0.48232652680507615,0.48232670771205993,0.482326887201786,0.48232706471817466,0.48232723965478363,0.4823274113513851,0.4823275790903562,0.4823277420928795,0.48232789951494504,0.48232805044314964,0.48232819389028714,0.48232832879072374,0.482328453995556,0.4823285682675455,0.48232867027582743,0.48232875859039037,0.48232883167632623,0.4823288878878488,0.4823289254620818,0.48232894251261815,0.4823289370228556,0.48232890683911045,0.4823288496635187,0.482328763046734,0.48232864438043127,0.48232849088963226,0.482328299624867,0.4823280674541938,0.4823277910550961,0.4823274669062859,0.4823270912794409,0.48232666023091025,0.482326169593425,0.48232561496785814,0.48232499171507665,0.48232429494794216,0.4823235195235121,0.48232266003550733,0.48232171080710967,0.48232066588416717,0.48231951902888,0.48231826371405706,0.48231689311802955,0.48231540012031865,0.4823137772981596,0.48231201692398845,0.4823101109640035,0.48230805107791924,0.4823058286200331,0.4823034346417322,0.4823008598955666,0.4822980948410214,0.4822951296521204,0.48229195422699433,0.4822885581995452,0.48228493095334,0.48228106163785966,0.4822769391872262,0.4822725523415256,0.4822678896708334,0.48226293960204325,0.4822576904485816,0.48225213044308307,0.48224624777308234,0.48224003061975795,0.4822334671997467,0.4822265458100225,0.48221925487580786,0.48221158300146055,0.4822035190242513,0.48219505207091035,0.4821861716167987,0.48217686754751715,0.48216713022273777,0.4821569505420043,0.4821463200122128,0.48213523081644905,0.48212367588382155,0.48211164895989966,0.4820991446773282,0.4820861586261609,0.4820726874234298,0.4820587287814383,0.482044281574243,0.4820293459017761,0.4820139231510435,0.4819980160538243,0.4819816287402941,0.48196476678799993,0.48194743726561773,0.48192964877093897,0.48191141146255206,0.4818927370847114,0.48187363898491586,0.48185413212375555,0.4818342330766311,0.48181396002699295,0.48179333275080094,0.48177237259196176,0.4817511024285569,0.48172954662973666,0.48170773100321773,0.48168568273338447,0.4816634303100571,0.48164100344805105,0.48161843299771423,0.4815957508466827,0.48157298981314955,0.4815501835309945,0.48152736632716076,0.4815045730917055,0.4814818391409861,0.48145920007446275,0.48143669162562325,0.4814143495075406,0.4813922092535835,0.48137030605378905,0.48134867458740355,0.48132734885206985,0.48130636199012305,0.48128574611241814,0.48126553212007794,0.4812457495245046,0.48122642626595413,0.4812075885309107,0.48118926056845435,0.48117146450574316,0.4811542201626783,0.48113754486575316,0.4811214532610223,0.4811059571260648,0.4810910651807472,0.4810767828965325,0.481063112304016,0.48105005179830995,0.4810375959418403,0.481025735264068,0.481014456057587,0.48100374017001346,0.48099356479102945,0.4809839022339101,0.48097471971082156,0.4809659791011561,0.48095763671213776,0.48094964303091753,0.4809419424673611,0.4809344730867252,0.4809271663314171,0.48091994673103555,0.4809127315999054,0.480905430721333,0.48089794601783986,0.4808901712066616,0.48088199143984395,0.4808732829283164,0.48086391254938166,0.48085373743712934,0.4808426045553581,0.48083035025267806,0.48081679979956304,0.4808017669072296,0.4807850532283398,0.48076644783965394,0.48074572670690047,0.48072265213228516,0.48069697218522467,0.48066842011706595,0.4806367137607433,0.48060155491652,0.48056262872517913,0.48051960303023994,0.4804721277310173,0.4804198341285775,0.48036233426689295,0.48029922027175764,0.48023006369028814,0.4801544148341006,0.4800718021295253,0.4799817314784969,0.47988368563401884]}},\"id\":\"ab26a5b4-9e4b-4834-a4fa-fe555833fe72\",\"type\":\"ColumnDataSource\"},{\"attributes\":{\"line_color\":{\"value\":\"blue\"},\"x\":{\"field\":\"x\"},\"y\":{\"field\":\"y\"}},\"id\":\"8196d8f6-1ad9-4990-84b4-999c52d22415\",\"type\":\"Line\"},{\"attributes\":{\"plot\":{\"id\":\"891b6bf3-17bf-4a72-b7ec-c83a2ae4f1bd\",\"subtype\":\"Figure\",\"type\":\"Plot\"}},\"id\":\"4f5628fd-55b7-4849-97ba-dc85bd1d0fc1\",\"type\":\"WheelZoomTool\"},{\"attributes\":{\"data_source\":{\"id\":\"ab26a5b4-9e4b-4834-a4fa-fe555833fe72\",\"type\":\"ColumnDataSource\"},\"glyph\":{\"id\":\"8196d8f6-1ad9-4990-84b4-999c52d22415\",\"type\":\"Line\"},\"hover_glyph\":null,\"nonselection_glyph\":{\"id\":\"0e4527c2-1454-4c1e-b37c-f9b591596fc2\",\"type\":\"Line\"},\"selection_glyph\":null},\"id\":\"86b275de-dc59-4028-bd7b-db635774f4a9\",\"type\":\"GlyphRenderer\"},{\"attributes\":{\"plot\":{\"id\":\"891b6bf3-17bf-4a72-b7ec-c83a2ae4f1bd\",\"subtype\":\"Figure\",\"type\":\"Plot\"}},\"id\":\"07615b47-41eb-4517-b54e-8b6077a230f2\",\"type\":\"PanTool\"},{\"attributes\":{\"overlay\":{\"id\":\"75e05b4b-1315-4300-a9bc-e36e0ab6af4f\",\"type\":\"BoxAnnotation\"},\"plot\":{\"id\":\"891b6bf3-17bf-4a72-b7ec-c83a2ae4f1bd\",\"subtype\":\"Figure\",\"type\":\"Plot\"}},\"id\":\"3fba8004-5d1b-4be6-82d9-bc43e7e0585c\",\"type\":\"BoxZoomTool\"},{\"attributes\":{\"num_minor_ticks\":10},\"id\":\"6fd937fa-be15-463d-a51e-6400d803d331\",\"type\":\"LogTicker\"},{\"attributes\":{\"callback\":null,\"end\":0.1,\"start\":0.0001},\"id\":\"79282513-4cc1-4175-b16b-0c5ee103e381\",\"type\":\"Range1d\"},{\"attributes\":{},\"id\":\"03dfb9a6-3eb1-4682-b418-9762bea3c454\",\"type\":\"ToolEvents\"},{\"attributes\":{\"plot\":{\"id\":\"891b6bf3-17bf-4a72-b7ec-c83a2ae4f1bd\",\"subtype\":\"Figure\",\"type\":\"Plot\"},\"ticker\":{\"id\":\"6fd937fa-be15-463d-a51e-6400d803d331\",\"type\":\"LogTicker\"}},\"id\":\"e9e72639-4f8a-480d-aab1-79a44d169e28\",\"type\":\"Grid\"}],\"root_ids\":[\"891b6bf3-17bf-4a72-b7ec-c83a2ae4f1bd\"]},\"title\":\"Bokeh Application\",\"version\":\"0.12.4\"}};\n",
       "            var render_items = [{\"docid\":\"ef44a179-1f0a-4287-97e3-7965a120c36c\",\"elementid\":\"973b3bc1-42d1-4b98-a1c0-b24d9358841d\",\"modelid\":\"891b6bf3-17bf-4a72-b7ec-c83a2ae4f1bd\"}];\n",
       "            \n",
       "            Bokeh.embed.embed_items(docs_json, render_items);\n",
       "          };\n",
       "          if (document.readyState != \"loading\") fn();\n",
       "          else document.addEventListener(\"DOMContentLoaded\", fn);\n",
       "        })();\n",
       "      },\n",
       "      function(Bokeh) {\n",
       "      }\n",
       "    ];\n",
       "  \n",
       "    function run_inline_js() {\n",
       "      \n",
       "      if ((window.Bokeh !== undefined) || (force === true)) {\n",
       "        for (var i = 0; i < inline_js.length; i++) {\n",
       "          inline_js[i](window.Bokeh);\n",
       "        }if (force === true) {\n",
       "          display_loaded();\n",
       "        }} else if (Date.now() < window._bokeh_timeout) {\n",
       "        setTimeout(run_inline_js, 100);\n",
       "      } else if (!window._bokeh_failed_load) {\n",
       "        console.log(\"Bokeh: BokehJS failed to load within specified timeout.\");\n",
       "        window._bokeh_failed_load = true;\n",
       "      } else if (force !== true) {\n",
       "        var cell = $(document.getElementById(\"973b3bc1-42d1-4b98-a1c0-b24d9358841d\")).parents('.cell').data().cell;\n",
       "        cell.output_area.append_execute_result(NB_LOAD_WARNING)\n",
       "      }\n",
       "  \n",
       "    }\n",
       "  \n",
       "    if (window._bokeh_is_loading === 0) {\n",
       "      console.log(\"Bokeh: BokehJS loaded, going straight to plotting\");\n",
       "      run_inline_js();\n",
       "    } else {\n",
       "      load_libs(js_urls, function() {\n",
       "        console.log(\"Bokeh: BokehJS plotting callback run at\", now());\n",
       "        run_inline_js();\n",
       "      });\n",
       "    }\n",
       "  }(this));\n",
       "</script>"
      ]
     },
     "metadata": {},
     "output_type": "display_data"
    }
   ],
   "source": [
    "from bokeh.models.axes import LogAxis\n",
    "\n",
    "alphas = np.logspace(-4, -1, 200)\n",
    "fig = bk.figure(title='Alpha sensitiveness on different models',\n",
    "                plot_width=700, plot_height=300,\n",
    "                x_axis_type='log', \n",
    "                x_range=(min(alphas), max(alphas)))\n",
    "\n",
    "for Model, color in [(linear_model.Ridge, 'blue'), (linear_model.Lasso, 'green')]:\n",
    "    scores = [model_selection.cross_val_score(Model(alpha=a), X, y, cv=5).mean()\n",
    "              for a in alphas]\n",
    "    fig.line(alphas, scores, line_color=color, legend=Model.__name__)\n",
    "\n",
    "fig.legend.location = 'bottom_left'\n",
    "bk.show(fig)"
   ]
  },
  {
   "cell_type": "markdown",
   "metadata": {},
   "source": [
    "### 3.3 Model specific Cross Validation:"
   ]
  },
  {
   "cell_type": "markdown",
   "metadata": {},
   "source": [
    "Some models can fit data for a range of parameters almost as efficiently as fitting for a single parameter. The most common parameter amenable to this strategy is the strength of the regularizer. In this case we say that we compute the regularization path of the estimator.\n",
    "\n",
    "This is a particular case of what we are going to see in the next paragraph: **Grid Search**.\n",
    "\n",
    "Model Specific Cross Validation is supported by the following models:\n",
    "\n",
    "* **RidgeCV**\n",
    "* **RidgeClassifierCV**\n",
    "* **LarsCV**\n",
    "* **LassoLarsCV**\n",
    "* **LassoCV**\n",
    "* **ElasticNetCV**"
   ]
  },
  {
   "cell_type": "code",
   "execution_count": 23,
   "metadata": {
    "collapsed": false
   },
   "outputs": [
    {
     "name": "stdout",
     "output_type": "stream",
     "text": [
      "RidgeCV :  0.000373993730248\n",
      "LassoCV :  0.00382749447852\n"
     ]
    }
   ],
   "source": [
    "for Model in [linear_model.RidgeCV, linear_model.LassoCV]:\n",
    "    model = Model(alphas=alphas, cv=5).fit(X, y)\n",
    "    print(Model.__name__, ': ', model.alpha_)"
   ]
  },
  {
   "cell_type": "markdown",
   "metadata": {},
   "source": [
    "### 3.4 Cross-validation iterators"
   ]
  },
  {
   "cell_type": "markdown",
   "metadata": {},
   "source": [
    "* **K-fold** - divide all samples in *K* groups, if *K=n* it is equivalent to leave-one-out.\n",
    "* **Statified K-fold** - each set contains the same prercentage of the target classes as the whole set\n",
    "* **Leave-One-Out (LOO)** - all samples except one\n",
    "* **Leave-P-Out (LPO)** - create all possible training sets by removing *p* samples from the whole set\n",
    "* **Leave-One-Label-Out (LOLO)** - holds out the samples according to a third-party provided label\n",
    "* **ShuffleSplit** - shuffles than split data in train and test sets\n",
    "* **StratifiedShuffleSplit** - ShuffleSplits by preserving percentage\n",
    "* **Bootstrap** - generate independent splits and then resample with replacement each split"
   ]
  },
  {
   "cell_type": "code",
   "execution_count": 24,
   "metadata": {
    "collapsed": false
   },
   "outputs": [],
   "source": [
    "X = np.arange(20).reshape(10,2)\n",
    "y = np.arange(10)"
   ]
  },
  {
   "cell_type": "markdown",
   "metadata": {},
   "source": [
    "**KFold** split dataset into k consecutive folds (without shuffling):"
   ]
  },
  {
   "cell_type": "code",
   "execution_count": 25,
   "metadata": {
    "collapsed": false
   },
   "outputs": [
    {
     "name": "stdout",
     "output_type": "stream",
     "text": [
      "[2 3 4 5 6 7 8 9] [0 1]\n",
      "[0 1 4 5 6 7 8 9] [2 3]\n",
      "[0 1 2 3 6 7 8 9] [4 5]\n",
      "[0 1 2 3 4 5 8 9] [6 7]\n",
      "[0 1 2 3 4 5 6 7] [8 9]\n"
     ]
    }
   ],
   "source": [
    "kf = model_selection.KFold(n_splits=5)\n",
    "for train, test in kf.split(X):\n",
    "    print(train, test)"
   ]
  },
  {
   "cell_type": "markdown",
   "metadata": {},
   "source": [
    "**ShuffleSplit** do not guarantee that all folds will be different:"
   ]
  },
  {
   "cell_type": "code",
   "execution_count": 26,
   "metadata": {
    "collapsed": false
   },
   "outputs": [
    {
     "name": "stdout",
     "output_type": "stream",
     "text": [
      "[0 2 9 5 7 6 8 3] [1 4]\n",
      "[6 7 5 3 2 4 8 1] [9 0]\n",
      "[4 8 9 0 3 2 6 7] [5 1]\n",
      "[2 9 4 1 7 5 8 6] [0 3]\n",
      "[2 7 4 1 8 6 9 0] [5 3]\n"
     ]
    }
   ],
   "source": [
    "ss = model_selection.ShuffleSplit(n_splits=5, test_size=0.2)\n",
    "for train, test in ss.split(X):\n",
    "    print(train, test)"
   ]
  },
  {
   "cell_type": "markdown",
   "metadata": {},
   "source": [
    "**Bootstrap** example:"
   ]
  },
  {
   "cell_type": "code",
   "execution_count": 27,
   "metadata": {
    "collapsed": false
   },
   "outputs": [
    {
     "name": "stdout",
     "output_type": "stream",
     "text": [
      "[1 2 3 4 5 6 7 8 9] [0]\n",
      "[0 2 3 4 5 6 7 8 9] [1]\n",
      "[0 1 3 4 5 6 7 8 9] [2]\n",
      "[0 1 2 4 5 6 7 8 9] [3]\n",
      "[0 1 2 3 5 6 7 8 9] [4]\n",
      "[0 1 2 3 4 6 7 8 9] [5]\n",
      "[0 1 2 3 4 5 7 8 9] [6]\n",
      "[0 1 2 3 4 5 6 8 9] [7]\n",
      "[0 1 2 3 4 5 6 7 9] [8]\n",
      "[0 1 2 3 4 5 6 7 8] [9]\n"
     ]
    }
   ],
   "source": [
    "bs = model_selection.LeaveOneOut()\n",
    "for train, test in bs.split(X):\n",
    "    print(train, test)"
   ]
  },
  {
   "cell_type": "markdown",
   "metadata": {},
   "source": [
    "## 4 Grid Search: Searching for estimator hyperparameters"
   ]
  },
  {
   "cell_type": "markdown",
   "metadata": {},
   "source": [
    "`GridSearchCV` can optimize any parameter provided by `estimator.get_params()` by exhaustively fitting the model with any parameter combination.\n",
    "\n",
    "When evaluating different settings (“hyperparameters”) for estimators.\n",
    "\n",
    "`GridSearchCV` will optimize the hyperparameters on the **TRAINING set** (whereas the **VALIDATION set** is generated by CV). After the optimization has been done, the performances of the estimator can be evaluated on a third set called **TEST set**:"
   ]
  },
  {
   "cell_type": "markdown",
   "metadata": {},
   "source": [
    "### 4.1 Exhaustive Grid Search"
   ]
  },
  {
   "cell_type": "markdown",
   "metadata": {},
   "source": [
    "We'll pass to `GridSearchCV` a dictionary of parameters containing a list of hyperparameters to be searched. In this case we set `verbose=2` to see an output about all the searches done by the algorithm:"
   ]
  },
  {
   "cell_type": "code",
   "execution_count": 28,
   "metadata": {
    "collapsed": false
   },
   "outputs": [
    {
     "name": "stdout",
     "output_type": "stream",
     "text": [
      "Fitting 2 folds for each of 4 candidates, totalling 8 fits\n",
      "[CV] kernel=linear, C=1 ..............................................\n",
      "[CV] kernel=linear, C=10 .............................................\n",
      "[CV] kernel=rbf, C=2, gamma=0.1 ......................................\n",
      "[CV] .............................. kernel=linear, C=10, total=   0.0s\n",
      "[CV] kernel=rbf, C=2, gamma=0.01 .....................................\n",
      "[CV] kernel=rbf, C=2, gamma=0.1 ......................................\n",
      "[CV] kernel=linear, C=10 .............................................\n",
      "[CV] kernel=rbf, C=2, gamma=0.01 .....................................\n",
      "[CV] ...................... kernel=rbf, C=2, gamma=0.01, total=   0.0s\n",
      "[CV] ....................... kernel=rbf, C=2, gamma=0.1, total=   0.0s\n",
      "[CV] ............................... kernel=linear, C=1, total=   0.0s\n",
      "[CV] ....................... kernel=rbf, C=2, gamma=0.1, total=   0.0s\n",
      "[CV] ...................... kernel=rbf, C=2, gamma=0.01, total=   0.0s\n",
      "[CV] .............................. kernel=linear, C=10, total=   0.0s\n",
      "[CV] kernel=linear, C=1 ..............................................\n",
      "[CV] ............................... kernel=linear, C=1, total=   0.0s\n"
     ]
    },
    {
     "name": "stderr",
     "output_type": "stream",
     "text": [
      "[Parallel(n_jobs=-1)]: Done   5 out of   8 | elapsed:    0.0s remaining:    0.0s\n",
      "[Parallel(n_jobs=-1)]: Done   8 out of   8 | elapsed:    0.0s finished\n"
     ]
    },
    {
     "data": {
      "text/plain": [
       "GridSearchCV(cv=2, error_score='raise',\n",
       "       estimator=SVC(C=1.0, cache_size=200, class_weight=None, coef0=0.0,\n",
       "  decision_function_shape=None, degree=3, gamma='auto', kernel='rbf',\n",
       "  max_iter=-1, probability=False, random_state=None, shrinking=True,\n",
       "  tol=0.001, verbose=False),\n",
       "       fit_params={}, iid=True, n_jobs=-1,\n",
       "       param_grid=[{'kernel': ['linear'], 'C': [1, 10]}, {'kernel': ['rbf'], 'C': [2], 'gamma': [0.1, 0.01]}],\n",
       "       pre_dispatch='2*n_jobs', refit=True, return_train_score=True,\n",
       "       scoring=None, verbose=2)"
      ]
     },
     "execution_count": 28,
     "metadata": {},
     "output_type": "execute_result"
    }
   ],
   "source": [
    "from sklearn import svm\n",
    "# Standardize the data\n",
    "iris = datasets.load_iris()\n",
    "scaler = preprocessing.StandardScaler(copy=True, with_mean=True, with_std=True)\n",
    "X = scaler.fit_transform(iris.data)\n",
    "# Keep out the Test Set\n",
    "X_tr, X_test, y_tr, y_test = model_selection.train_test_split(X, iris.target,\n",
    "                                                               test_size=0.30, random_state=0)\n",
    "# Define the Search Grid\n",
    "param_grid = [{'C': [1, 10], 'kernel': ['linear']},\n",
    "              {'C': [2], 'gamma': [0.1, 0.01], 'kernel': ['rbf']}]\n",
    "# GridSearchCV\n",
    "clf = model_selection.GridSearchCV(svm.SVC(), param_grid, cv=2, n_jobs=-1, verbose=2)\n",
    "clf.fit(X_tr, y_tr)"
   ]
  },
  {
   "cell_type": "markdown",
   "metadata": {},
   "source": [
    "**TODO -** Create a Surf Plot with the accuracy values found on an hyperparameter grid using the .grid_scores_ data"
   ]
  },
  {
   "cell_type": "code",
   "execution_count": 29,
   "metadata": {
    "collapsed": false
   },
   "outputs": [
    {
     "name": "stdout",
     "output_type": "stream",
     "text": [
      "mean: 0.95238, std: 0.00998, params: {'kernel': 'linear', 'C': 1}\n",
      "mean: 0.94286, std: 0.00054, params: {'kernel': 'linear', 'C': 10}\n",
      "mean: 0.95238, std: 0.00907, params: {'kernel': 'rbf', 'C': 2, 'gamma': 0.1}\n",
      "mean: 0.86667, std: 0.01778, params: {'kernel': 'rbf', 'C': 2, 'gamma': 0.01}\n"
     ]
    }
   ],
   "source": [
    "for item in clf.grid_scores_:\n",
    "    print(item)"
   ]
  },
  {
   "cell_type": "markdown",
   "metadata": {},
   "source": [
    "Then we can check the accuracy on the **Test Set**:"
   ]
  },
  {
   "cell_type": "code",
   "execution_count": 30,
   "metadata": {
    "collapsed": false
   },
   "outputs": [
    {
     "name": "stdout",
     "output_type": "stream",
     "text": [
      "Best estimator:  SVC(C=1, cache_size=200, class_weight=None, coef0=0.0,\n",
      "  decision_function_shape=None, degree=3, gamma='auto', kernel='linear',\n",
      "  max_iter=-1, probability=False, random_state=None, shrinking=True,\n",
      "  tol=0.001, verbose=False)\n",
      "Accuracy: 0.91 (+/- 0.22)\n"
     ]
    }
   ],
   "source": [
    "best = clf.best_estimator_\n",
    "print('Best estimator: ', best)\n",
    "scores = model_selection.cross_val_score(best, X_test, y_test, cv=10)\n",
    "print(\"Accuracy: %0.2f (+/- %0.2f)\" % (scores.mean(), scores.std() * 2))"
   ]
  },
  {
   "cell_type": "markdown",
   "metadata": {},
   "source": [
    "Different `score` metrics can be used while doing `GridSearchCV`:"
   ]
  },
  {
   "cell_type": "code",
   "execution_count": 31,
   "metadata": {
    "collapsed": false,
    "scrolled": false
   },
   "outputs": [
    {
     "name": "stdout",
     "output_type": "stream",
     "text": [
      "PRECISION: fraction of retrieved instances that are relevant\n",
      "RECALL:    fraction of relevant instances that are retrieved\n",
      "\n",
      "Tuning hyper-parameters for: precision_weighted\n",
      "\n",
      "Best parameters set found on development (training) set:\n",
      "SVC(C=0.5, cache_size=200, class_weight=None, coef0=0.0,\n",
      "  decision_function_shape=None, degree=3, gamma='auto', kernel='linear',\n",
      "  max_iter=-1, probability=False, random_state=None, shrinking=True,\n",
      "  tol=0.001, verbose=False)\n",
      "\n",
      "Grid Scores on development set:\n",
      "mean: 0.92000, std: 0.08354, params: {'kernel': 'linear', 'C': 0.125}\n",
      "mean: 0.95333, std: 0.06504, params: {'kernel': 'linear', 'C': 0.25}\n",
      "mean: 0.98667, std: 0.02667, params: {'kernel': 'linear', 'C': 0.5}\n",
      "mean: 0.97417, std: 0.03480, params: {'kernel': 'linear', 'C': 1.0}\n",
      "mean: 0.94083, std: 0.06132, params: {'kernel': 'rbf', 'C': 1, 'gamma': 0.1}\n",
      "mean: 0.97417, std: 0.03480, params: {'kernel': 'rbf', 'C': 10, 'gamma': 0.1}\n",
      "\n",
      "Detailed classification report (on Testing Set)\n",
      "             precision    recall  f1-score   support\n",
      "\n",
      "          0       1.00      1.00      1.00        26\n",
      "          1       0.89      1.00      0.94        33\n",
      "          2       1.00      0.87      0.93        31\n",
      "\n",
      "avg / total       0.96      0.96      0.96        90\n",
      "\n",
      "-----------------------------------------------------\n",
      "\n",
      "Tuning hyper-parameters for: recall_weighted\n",
      "\n",
      "Best parameters set found on development (training) set:\n",
      "SVC(C=0.5, cache_size=200, class_weight=None, coef0=0.0,\n",
      "  decision_function_shape=None, degree=3, gamma='auto', kernel='linear',\n",
      "  max_iter=-1, probability=False, random_state=None, shrinking=True,\n",
      "  tol=0.001, verbose=False)\n",
      "\n",
      "Grid Scores on development set:\n",
      "mean: 0.91667, std: 0.08287, params: {'kernel': 'linear', 'C': 0.125}\n",
      "mean: 0.95000, std: 0.06607, params: {'kernel': 'linear', 'C': 0.25}\n",
      "mean: 0.98333, std: 0.03333, params: {'kernel': 'linear', 'C': 0.5}\n",
      "mean: 0.96667, std: 0.04522, params: {'kernel': 'linear', 'C': 1.0}\n",
      "mean: 0.93333, std: 0.06338, params: {'kernel': 'rbf', 'C': 1, 'gamma': 0.1}\n",
      "mean: 0.96667, std: 0.04522, params: {'kernel': 'rbf', 'C': 10, 'gamma': 0.1}\n",
      "\n",
      "Detailed classification report (on Testing Set)\n",
      "             precision    recall  f1-score   support\n",
      "\n",
      "          0       1.00      1.00      1.00        26\n",
      "          1       0.89      1.00      0.94        33\n",
      "          2       1.00      0.87      0.93        31\n",
      "\n",
      "avg / total       0.96      0.96      0.96        90\n",
      "\n",
      "-----------------------------------------------------\n"
     ]
    }
   ],
   "source": [
    "X_tr, X_test, y_tr, y_test = model_selection.train_test_split(X, \n",
    "                                                               iris.target,\n",
    "                                                               test_size=0.60, \n",
    "                                                               random_state=0)\n",
    "scores = ['precision_weighted', 'recall_weighted']\n",
    "param_grid = [{'C': np.logspace(-3,0,4, base=2), 'kernel': ['linear']},\n",
    "              {'C': [1, 10], 'gamma': [0.1], 'kernel': ['rbf']}]\n",
    "print('PRECISION: fraction of retrieved instances that are relevant')\n",
    "print('RECALL:    fraction of relevant instances that are retrieved')\n",
    "for score in scores:\n",
    "    print('\\nTuning hyper-parameters for: %s' % score)\n",
    "    clf = model_selection.GridSearchCV(svm.SVC(), param_grid, cv=5, scoring=score)\n",
    "    clf.fit(X_tr, y_tr)\n",
    "    print('\\nBest parameters set found on development (training) set:')\n",
    "    print(clf.best_estimator_)\n",
    "    print('\\nGrid Scores on development set:')\n",
    "    for item in clf.grid_scores_:\n",
    "        print(item)\n",
    "    print('\\nDetailed classification report (on Testing Set)')\n",
    "    y_true, y_pred = y_test, clf.predict(X_test)\n",
    "    print(metrics.classification_report(y_true, y_pred))\n",
    "    print('-----------------------------------------------------')\n",
    "        "
   ]
  },
  {
   "cell_type": "markdown",
   "metadata": {},
   "source": [
    "### 4.2 Randomized Parameter Optimization"
   ]
  },
  {
   "cell_type": "markdown",
   "metadata": {},
   "source": [
    "`RandomizedSearchCV` implements a randomized search over parameters, where each setting is sampled from a distribution over possible parameter values. This has two main benefits:\n",
    "\n",
    "* A budget can be chosen independent of the number of parameters and possible values.\n",
    "* Adding parameters that do not influence the performance does not decrease efficiency.\n",
    "\n",
    "Specifying how parameters should be sampled is done using a dictionary. The number of sampling iterations, is specified using the `n_iter` parameter. For each parameter, either a distribution over possible values or a list of discrete choices (which will be sampled uniformly) can be specified. This is a little example of the many statistical distributions available in `scipy`:"
   ]
  },
  {
   "cell_type": "code",
   "execution_count": 32,
   "metadata": {
    "collapsed": false
   },
   "outputs": [
    {
     "data": {
      "text/html": [
       "\n",
       "\n",
       "    <div class=\"bk-root\">\n",
       "        <div class=\"bk-plotdiv\" id=\"d680a566-e4d1-421e-b0eb-84cf9cb9142e\"></div>\n",
       "    </div>\n",
       "<script type=\"text/javascript\">\n",
       "  \n",
       "  (function(global) {\n",
       "    function now() {\n",
       "      return new Date();\n",
       "    }\n",
       "  \n",
       "    var force = false;\n",
       "  \n",
       "    if (typeof (window._bokeh_onload_callbacks) === \"undefined\" || force === true) {\n",
       "      window._bokeh_onload_callbacks = [];\n",
       "      window._bokeh_is_loading = undefined;\n",
       "    }\n",
       "  \n",
       "  \n",
       "    \n",
       "    if (typeof (window._bokeh_timeout) === \"undefined\" || force === true) {\n",
       "      window._bokeh_timeout = Date.now() + 0;\n",
       "      window._bokeh_failed_load = false;\n",
       "    }\n",
       "  \n",
       "    var NB_LOAD_WARNING = {'data': {'text/html':\n",
       "       \"<div style='background-color: #fdd'>\\n\"+\n",
       "       \"<p>\\n\"+\n",
       "       \"BokehJS does not appear to have successfully loaded. If loading BokehJS from CDN, this \\n\"+\n",
       "       \"may be due to a slow or bad network connection. Possible fixes:\\n\"+\n",
       "       \"</p>\\n\"+\n",
       "       \"<ul>\\n\"+\n",
       "       \"<li>re-rerun `output_notebook()` to attempt to load from CDN again, or</li>\\n\"+\n",
       "       \"<li>use INLINE resources instead, as so:</li>\\n\"+\n",
       "       \"</ul>\\n\"+\n",
       "       \"<code>\\n\"+\n",
       "       \"from bokeh.resources import INLINE\\n\"+\n",
       "       \"output_notebook(resources=INLINE)\\n\"+\n",
       "       \"</code>\\n\"+\n",
       "       \"</div>\"}};\n",
       "  \n",
       "    function display_loaded() {\n",
       "      if (window.Bokeh !== undefined) {\n",
       "        document.getElementById(\"d680a566-e4d1-421e-b0eb-84cf9cb9142e\").textContent = \"BokehJS successfully loaded.\";\n",
       "      } else if (Date.now() < window._bokeh_timeout) {\n",
       "        setTimeout(display_loaded, 100)\n",
       "      }\n",
       "    }\n",
       "  \n",
       "    function run_callbacks() {\n",
       "      window._bokeh_onload_callbacks.forEach(function(callback) { callback() });\n",
       "      delete window._bokeh_onload_callbacks\n",
       "      console.info(\"Bokeh: all callbacks have finished\");\n",
       "    }\n",
       "  \n",
       "    function load_libs(js_urls, callback) {\n",
       "      window._bokeh_onload_callbacks.push(callback);\n",
       "      if (window._bokeh_is_loading > 0) {\n",
       "        console.log(\"Bokeh: BokehJS is being loaded, scheduling callback at\", now());\n",
       "        return null;\n",
       "      }\n",
       "      if (js_urls == null || js_urls.length === 0) {\n",
       "        run_callbacks();\n",
       "        return null;\n",
       "      }\n",
       "      console.log(\"Bokeh: BokehJS not loaded, scheduling load and callback at\", now());\n",
       "      window._bokeh_is_loading = js_urls.length;\n",
       "      for (var i = 0; i < js_urls.length; i++) {\n",
       "        var url = js_urls[i];\n",
       "        var s = document.createElement('script');\n",
       "        s.src = url;\n",
       "        s.async = false;\n",
       "        s.onreadystatechange = s.onload = function() {\n",
       "          window._bokeh_is_loading--;\n",
       "          if (window._bokeh_is_loading === 0) {\n",
       "            console.log(\"Bokeh: all BokehJS libraries loaded\");\n",
       "            run_callbacks()\n",
       "          }\n",
       "        };\n",
       "        s.onerror = function() {\n",
       "          console.warn(\"failed to load library \" + url);\n",
       "        };\n",
       "        console.log(\"Bokeh: injecting script tag for BokehJS library: \", url);\n",
       "        document.getElementsByTagName(\"head\")[0].appendChild(s);\n",
       "      }\n",
       "    };var element = document.getElementById(\"d680a566-e4d1-421e-b0eb-84cf9cb9142e\");\n",
       "    if (element == null) {\n",
       "      console.log(\"Bokeh: ERROR: autoload.js configured with elementid 'd680a566-e4d1-421e-b0eb-84cf9cb9142e' but no matching script tag was found. \")\n",
       "      return false;\n",
       "    }\n",
       "  \n",
       "    var js_urls = [];\n",
       "  \n",
       "    var inline_js = [\n",
       "      function(Bokeh) {\n",
       "        (function() {\n",
       "          var fn = function() {\n",
       "            var docs_json = {\"1852ae9c-d849-4fa0-a017-f4028c57153e\":{\"roots\":{\"references\":[{\"attributes\":{\"callback\":null,\"column_names\":[\"fill_alpha\",\"line_color\",\"y\",\"line_alpha\",\"height\",\"width\",\"x\",\"color\",\"label\"],\"data\":{\"chart_index\":[\"(68.002473, 70.002330]\"],\"color\":[\"#f22c40\"],\"fill_alpha\":[0.8],\"height\":[214.0],\"label\":[\"(68.002473, 70.002330]\"],\"line_alpha\":[1.0],\"line_color\":[\"black\"],\"width\":[1.9998572472758411],\"x\":[\"69.00240149999999\"],\"y\":[107.0]}},\"id\":\"2eb02274-eecf-4a57-8cae-7dda9d39c0e8\",\"type\":\"ColumnDataSource\"},{\"attributes\":{\"callback\":null,\"column_names\":[\"fill_alpha\",\"line_color\",\"y\",\"line_alpha\",\"height\",\"width\",\"x\",\"color\",\"label\"],\"data\":{\"chart_index\":[\"(41.644521, 43.166354]\"],\"color\":[\"#f22c40\"],\"fill_alpha\":[0.8],\"height\":[599.0],\"label\":[\"(41.644521, 43.166354]\"],\"line_alpha\":[1.0],\"line_color\":[\"black\"],\"width\":[1.5218330971588685],\"x\":[\"42.4054375\"],\"y\":[299.5]}},\"id\":\"0c06010f-df41-4410-8899-e168e6dca741\",\"type\":\"ColumnDataSource\"},{\"attributes\":{\"callback\":null,\"column_names\":[\"fill_alpha\",\"line_color\",\"y\",\"line_alpha\",\"height\",\"width\",\"x\",\"color\",\"label\"],\"data\":{\"chart_index\":[\"(305.712973, 321.803112]\"],\"color\":[\"#f22c40\"],\"fill_alpha\":[0.8],\"height\":[70.0],\"label\":[\"(305.712973, 321.803112]\"],\"line_alpha\":[1.0],\"line_color\":[\"black\"],\"width\":[16.090139566527057],\"x\":[\"313.7580425\"],\"y\":[35.0]}},\"id\":\"3d87d756-a2ae-46cb-b054-3210d91dcfa9\",\"type\":\"ColumnDataSource\"},{\"attributes\":{\"fill_alpha\":{\"field\":\"fill_alpha\"},\"fill_color\":{\"field\":\"color\"},\"height\":{\"field\":\"height\",\"units\":\"data\"},\"line_color\":{\"field\":\"line_color\"},\"width\":{\"field\":\"width\",\"units\":\"data\"},\"x\":{\"field\":\"x\"},\"y\":{\"field\":\"y\"}},\"id\":\"1e604bc4-f3b8-41e8-bb02-fd602b516399\",\"type\":\"Rect\"},{\"attributes\":{\"callback\":null,\"column_names\":[\"fill_alpha\",\"line_color\",\"y\",\"line_alpha\",\"height\",\"width\",\"x\",\"color\",\"label\"],\"data\":{\"chart_index\":[\"(58.384685, 59.906518]\"],\"color\":[\"#f22c40\"],\"fill_alpha\":[0.8],\"height\":[99.0],\"label\":[\"(58.384685, 59.906518]\"],\"line_alpha\":[1.0],\"line_color\":[\"black\"],\"width\":[1.5218330971588614],\"x\":[\"59.1456015\"],\"y\":[49.5]}},\"id\":\"898eeff2-3a97-40f4-b2df-b882d229efb3\",\"type\":\"ColumnDataSource\"},{\"attributes\":{\"callback\":null,\"column_names\":[\"fill_alpha\",\"line_color\",\"y\",\"line_alpha\",\"height\",\"width\",\"x\",\"color\",\"label\"],\"data\":{\"chart_index\":[\"(25.092179, 27.066145]\"],\"color\":[\"#f22c40\"],\"fill_alpha\":[0.8],\"height\":[58.0],\"label\":[\"(25.092179, 27.066145]\"],\"line_alpha\":[1.0],\"line_color\":[\"black\"],\"width\":[1.9739660980509086],\"x\":[\"26.079162\"],\"y\":[29.0]}},\"id\":\"b645078d-58fd-4523-9cac-9c0ee3f47a08\",\"type\":\"ColumnDataSource\"},{\"attributes\":{\"data_source\":{\"id\":\"2f7852f0-4062-4b76-a188-2b953cc38f2d\",\"type\":\"ColumnDataSource\"},\"glyph\":{\"id\":\"ada041a7-0a02-4359-a769-5a1da7a2d4b7\",\"type\":\"Rect\"},\"hover_glyph\":null,\"nonselection_glyph\":null,\"selection_glyph\":null},\"id\":\"4f355f52-048b-4581-a3d0-2977456a8b0d\",\"type\":\"GlyphRenderer\"},{\"attributes\":{\"data_source\":{\"id\":\"de5a0124-0234-4306-9d75-80f45309d633\",\"type\":\"ColumnDataSource\"},\"glyph\":{\"id\":\"9f548473-ecbd-4d96-9e66-5e519a340c5c\",\"type\":\"Rect\"},\"hover_glyph\":null,\"nonselection_glyph\":null,\"selection_glyph\":null},\"id\":\"27e750b4-0f53-41b4-a2d6-5f8eb3a37a72\",\"type\":\"GlyphRenderer\"},{\"attributes\":{\"fill_alpha\":{\"field\":\"fill_alpha\"},\"fill_color\":{\"field\":\"color\"},\"height\":{\"field\":\"height\",\"units\":\"data\"},\"line_color\":{\"field\":\"line_color\"},\"width\":{\"field\":\"width\",\"units\":\"data\"},\"x\":{\"field\":\"x\"},\"y\":{\"field\":\"y\"}},\"id\":\"d008f2e1-0303-41ee-8104-8e755fa21f68\",\"type\":\"Rect\"},{\"attributes\":{\"data_source\":{\"id\":\"e17d78d0-ced0-4fd6-a7ae-004e2ff7b5d3\",\"type\":\"ColumnDataSource\"},\"glyph\":{\"id\":\"076161b8-d80c-46e8-b063-b344dd9a994b\",\"type\":\"Rect\"},\"hover_glyph\":null,\"nonselection_glyph\":null,\"selection_glyph\":null},\"id\":\"81ad2cc9-0aab-4318-a022-3046d723ad7a\",\"type\":\"GlyphRenderer\"},{\"attributes\":{\"fill_alpha\":{\"field\":\"fill_alpha\"},\"fill_color\":{\"field\":\"color\"},\"height\":{\"field\":\"height\",\"units\":\"data\"},\"line_color\":{\"field\":\"line_color\"},\"width\":{\"field\":\"width\",\"units\":\"data\"},\"x\":{\"field\":\"x\"},\"y\":{\"field\":\"y\"}},\"id\":\"c368adbc-2d87-4964-a76e-12004974d21f\",\"type\":\"Rect\"},{\"attributes\":{\"callback\":null,\"column_names\":[\"fill_alpha\",\"line_color\",\"y\",\"line_alpha\",\"height\",\"width\",\"x\",\"color\",\"label\"],\"data\":{\"chart_index\":[\"(50.775520, 52.297353]\"],\"color\":[\"#f22c40\"],\"fill_alpha\":[0.8],\"height\":[323.0],\"label\":[\"(50.775520, 52.297353]\"],\"line_alpha\":[1.0],\"line_color\":[\"black\"],\"width\":[1.5218330971588614],\"x\":[\"51.5364365\"],\"y\":[161.5]}},\"id\":\"443961d1-e394-4145-a3f7-332c473447e0\",\"type\":\"ColumnDataSource\"},{\"attributes\":{\"data_source\":{\"id\":\"c71a9ae0-b531-45a6-8362-07325f01504e\",\"type\":\"ColumnDataSource\"},\"glyph\":{\"id\":\"95115eb9-1179-4b9e-a8c7-5c6f8ebcf6d0\",\"type\":\"Rect\"},\"hover_glyph\":null,\"nonselection_glyph\":null,\"selection_glyph\":null},\"id\":\"1a317cee-ada1-47ba-a0e1-089ff67a2214\",\"type\":\"GlyphRenderer\"},{\"attributes\":{\"callback\":null,\"column_names\":[\"fill_alpha\",\"line_color\",\"y\",\"line_alpha\",\"height\",\"width\",\"x\",\"color\",\"label\"],\"data\":{\"chart_index\":[\"(64.472018, 65.993851]\"],\"color\":[\"#f22c40\"],\"fill_alpha\":[0.8],\"height\":[23.0],\"label\":[\"(64.472018, 65.993851]\"],\"line_alpha\":[1.0],\"line_color\":[\"black\"],\"width\":[1.5218330971588614],\"x\":[\"65.2329345\"],\"y\":[11.5]}},\"id\":\"ea64e518-f344-4154-814d-2f22c13fba8a\",\"type\":\"ColumnDataSource\"},{\"attributes\":{\"plot\":{\"id\":\"421ef4f4-0375-4874-a721-d926330ec546\",\"subtype\":\"Chart\",\"type\":\"Plot\"}},\"id\":\"2d0e55eb-defa-42c2-b030-123b2082e484\",\"type\":\"SaveTool\"},{\"attributes\":{},\"id\":\"29ffee4a-f7db-48ac-a90b-22d04a9cc248\",\"type\":\"BasicTicker\"},{\"attributes\":{\"fill_alpha\":{\"field\":\"fill_alpha\"},\"fill_color\":{\"field\":\"color\"},\"height\":{\"field\":\"height\",\"units\":\"data\"},\"line_color\":{\"field\":\"line_color\"},\"width\":{\"field\":\"width\",\"units\":\"data\"},\"x\":{\"field\":\"x\"},\"y\":{\"field\":\"y\"}},\"id\":\"9d629807-e0ae-469f-9f5a-eba09d493e00\",\"type\":\"Rect\"},{\"attributes\":{\"data_source\":{\"id\":\"c31dc53c-56d9-4599-9e75-ec83ce58e171\",\"type\":\"ColumnDataSource\"},\"glyph\":{\"id\":\"bb58486b-e85d-4d30-9512-8fff3541b331\",\"type\":\"Rect\"},\"hover_glyph\":null,\"nonselection_glyph\":null,\"selection_glyph\":null},\"id\":\"aea541ca-15c4-48c7-b9cf-2ca3e19c61f1\",\"type\":\"GlyphRenderer\"},{\"attributes\":{\"plot\":{\"id\":\"aa6e7afa-191b-4b23-9254-e85c48fbf314\",\"subtype\":\"Chart\",\"type\":\"Plot\"}},\"id\":\"d7a0a74f-9879-4730-a553-43f2edb9c712\",\"type\":\"WheelZoomTool\"},{\"attributes\":{\"fill_alpha\":{\"field\":\"fill_alpha\"},\"fill_color\":{\"field\":\"color\"},\"height\":{\"field\":\"height\",\"units\":\"data\"},\"line_color\":{\"field\":\"line_color\"},\"width\":{\"field\":\"width\",\"units\":\"data\"},\"x\":{\"field\":\"x\"},\"y\":{\"field\":\"y\"}},\"id\":\"ba8aa589-63a5-4a14-86f1-d3a53116ef0c\",\"type\":\"Rect\"},{\"attributes\":{\"plot\":{\"id\":\"421ef4f4-0375-4874-a721-d926330ec546\",\"subtype\":\"Chart\",\"type\":\"Plot\"}},\"id\":\"3c4781e5-438f-489a-962b-f462f634f4d5\",\"type\":\"HelpTool\"},{\"attributes\":{\"fill_alpha\":{\"field\":\"fill_alpha\"},\"fill_color\":{\"field\":\"color\"},\"height\":{\"field\":\"height\",\"units\":\"data\"},\"line_color\":{\"field\":\"line_color\"},\"width\":{\"field\":\"width\",\"units\":\"data\"},\"x\":{\"field\":\"x\"},\"y\":{\"field\":\"y\"}},\"id\":\"b7e9cedb-840f-4b8c-9669-349055c1b2ac\",\"type\":\"Rect\"},{\"attributes\":{\"callback\":null,\"column_names\":[\"fill_alpha\",\"line_color\",\"y\",\"line_alpha\",\"height\",\"width\",\"x\",\"color\",\"label\"],\"data\":{\"chart_index\":[\"(49.253687, 50.775520]\"],\"color\":[\"#f22c40\"],\"fill_alpha\":[0.8],\"height\":[361.0],\"label\":[\"(49.253687, 50.775520]\"],\"line_alpha\":[1.0],\"line_color\":[\"black\"],\"width\":[1.5218330971588685],\"x\":[\"50.0146035\"],\"y\":[180.5]}},\"id\":\"d252bc4b-e363-4974-aa91-8dc9d9ef7999\",\"type\":\"ColumnDataSource\"},{\"attributes\":{\"callback\":null,\"column_names\":[\"fill_alpha\",\"line_color\",\"y\",\"line_alpha\",\"height\",\"width\",\"x\",\"color\",\"label\"],\"data\":{\"chart_index\":[\"(88.259094, 90.233060]\"],\"color\":[\"#f22c40\"],\"fill_alpha\":[0.8],\"height\":[245.0],\"label\":[\"(88.259094, 90.233060]\"],\"line_alpha\":[1.0],\"line_color\":[\"black\"],\"width\":[1.9739660980509086],\"x\":[\"89.246077\"],\"y\":[122.5]}},\"id\":\"6bb8ec49-850a-40e6-ab8d-523a37abf32d\",\"type\":\"ColumnDataSource\"},{\"attributes\":{\"data_source\":{\"id\":\"e6499645-a99a-4d3b-83b8-1d0c9935432e\",\"type\":\"ColumnDataSource\"},\"glyph\":{\"id\":\"ba8aa589-63a5-4a14-86f1-d3a53116ef0c\",\"type\":\"Rect\"},\"hover_glyph\":null,\"nonselection_glyph\":null,\"selection_glyph\":null},\"id\":\"dba345f5-833a-4938-bb66-45ffcda77aa9\",\"type\":\"GlyphRenderer\"},{\"attributes\":{\"data_source\":{\"id\":\"662c549a-1e5c-43d4-9ccf-50b67e5d4a95\",\"type\":\"ColumnDataSource\"},\"glyph\":{\"id\":\"10abf69c-c9f2-4cf9-8cc4-bad0189df585\",\"type\":\"Rect\"},\"hover_glyph\":null,\"nonselection_glyph\":null,\"selection_glyph\":null},\"id\":\"9370ce6d-96dd-4397-afc1-3219d2fa08dc\",\"type\":\"GlyphRenderer\"},{\"attributes\":{\"callback\":null,\"column_names\":[\"fill_alpha\",\"line_color\",\"y\",\"line_alpha\",\"height\",\"width\",\"x\",\"color\",\"label\"],\"data\":{\"chart_index\":[\"(80.363230, 82.337196]\"],\"color\":[\"#f22c40\"],\"fill_alpha\":[0.8],\"height\":[276.0],\"label\":[\"(80.363230, 82.337196]\"],\"line_alpha\":[1.0],\"line_color\":[\"black\"],\"width\":[1.9739660980509086],\"x\":[\"81.350213\"],\"y\":[138.0]}},\"id\":\"d6c7335b-33eb-4694-bad9-5bacc8e261a8\",\"type\":\"ColumnDataSource\"},{\"attributes\":{\"fill_alpha\":{\"field\":\"fill_alpha\"},\"fill_color\":{\"field\":\"color\"},\"height\":{\"field\":\"height\",\"units\":\"data\"},\"line_color\":{\"field\":\"line_color\"},\"width\":{\"field\":\"width\",\"units\":\"data\"},\"x\":{\"field\":\"x\"},\"y\":{\"field\":\"y\"}},\"id\":\"51765b00-2f2a-4542-8e89-022fd3ca6f84\",\"type\":\"Rect\"},{\"attributes\":{\"data_source\":{\"id\":\"7f12bf1b-899d-4730-bd71-e7063b16e12c\",\"type\":\"ColumnDataSource\"},\"glyph\":{\"id\":\"3da07641-38d5-4b02-a4cb-a44c48fdb585\",\"type\":\"Rect\"},\"hover_glyph\":null,\"nonselection_glyph\":null,\"selection_glyph\":null},\"id\":\"770d3e25-7123-417f-a2f8-4264b55fa649\",\"type\":\"GlyphRenderer\"},{\"attributes\":{\"fill_alpha\":{\"field\":\"fill_alpha\"},\"fill_color\":{\"field\":\"color\"},\"height\":{\"field\":\"height\",\"units\":\"data\"},\"line_color\":{\"field\":\"line_color\"},\"width\":{\"field\":\"width\",\"units\":\"data\"},\"x\":{\"field\":\"x\"},\"y\":{\"field\":\"y\"}},\"id\":\"886f7a38-d5a9-41e5-96b8-c65897688f6a\",\"type\":\"Rect\"},{\"attributes\":{\"callback\":null,\"column_names\":[\"fill_alpha\",\"line_color\",\"y\",\"line_alpha\",\"height\",\"width\",\"x\",\"color\",\"label\"],\"data\":{\"chart_index\":[\"(14.251526, 15.773359]\"],\"color\":[\"#f22c40\"],\"fill_alpha\":[0.8],\"height\":[30.0],\"label\":[\"(14.251526, 15.773359]\"],\"line_alpha\":[1.0],\"line_color\":[\"black\"],\"width\":[1.521833097158865],\"x\":[\"15.012442499999999\"],\"y\":[15.0]}},\"id\":\"5630bb2a-5830-45ff-9f0f-0bd4bc699652\",\"type\":\"ColumnDataSource\"},{\"attributes\":{\"data_source\":{\"id\":\"cd5258cd-0d38-4500-b051-ebabed6c7e05\",\"type\":\"ColumnDataSource\"},\"glyph\":{\"id\":\"f9204b50-1c7a-4733-83d1-a102a91b4e97\",\"type\":\"Rect\"},\"hover_glyph\":null,\"nonselection_glyph\":null,\"selection_glyph\":null},\"id\":\"71e67a2d-1725-4edd-813c-a7165c9c6ba7\",\"type\":\"GlyphRenderer\"},{\"attributes\":{\"bottom_units\":\"screen\",\"fill_alpha\":{\"value\":0.5},\"fill_color\":{\"value\":\"lightgrey\"},\"left_units\":\"screen\",\"level\":\"overlay\",\"line_alpha\":{\"value\":1.0},\"line_color\":{\"value\":\"black\"},\"line_dash\":[4,4],\"line_width\":{\"value\":2},\"plot\":null,\"render_mode\":\"css\",\"right_units\":\"screen\",\"top_units\":\"screen\"},\"id\":\"dc1ce3f4-a193-4100-a320-e2f46dbbfa61\",\"type\":\"BoxAnnotation\"},{\"attributes\":{\"fill_alpha\":{\"field\":\"fill_alpha\"},\"fill_color\":{\"field\":\"color\"},\"height\":{\"field\":\"height\",\"units\":\"data\"},\"line_color\":{\"field\":\"line_color\"},\"width\":{\"field\":\"width\",\"units\":\"data\"},\"x\":{\"field\":\"x\"},\"y\":{\"field\":\"y\"}},\"id\":\"10abf69c-c9f2-4cf9-8cc4-bad0189df585\",\"type\":\"Rect\"},{\"attributes\":{\"callback\":null,\"end\":81.77257512357941,\"start\":1.5164678764205686},\"id\":\"68ae1899-a650-47ff-86a1-32e526958c67\",\"type\":\"Range1d\"},{\"attributes\":{\"fill_alpha\":{\"field\":\"fill_alpha\"},\"fill_color\":{\"field\":\"color\"},\"height\":{\"field\":\"height\",\"units\":\"data\"},\"line_color\":{\"field\":\"line_color\"},\"width\":{\"field\":\"width\",\"units\":\"data\"},\"x\":{\"field\":\"x\"},\"y\":{\"field\":\"y\"}},\"id\":\"ec0e63a6-8bfa-48a3-b83c-881cf3859c61\",\"type\":\"Rect\"},{\"attributes\":{\"data_source\":{\"id\":\"b6cc4a9d-ff9a-478f-8864-b0898655df31\",\"type\":\"ColumnDataSource\"},\"glyph\":{\"id\":\"14610de9-b7fb-4b2e-b440-d0a77f0f8e72\",\"type\":\"Rect\"},\"hover_glyph\":null,\"nonselection_glyph\":null,\"selection_glyph\":null},\"id\":\"4d98bb96-5617-491b-8175-c6f40cd89f19\",\"type\":\"GlyphRenderer\"},{\"attributes\":{\"data_source\":{\"id\":\"012f86c0-4eee-4292-bc3c-69175e80c97a\",\"type\":\"ColumnDataSource\"},\"glyph\":{\"id\":\"db07252b-ac1a-480e-b794-df955a058db8\",\"type\":\"Rect\"},\"hover_glyph\":null,\"nonselection_glyph\":null,\"selection_glyph\":null},\"id\":\"e5e6caa4-19f6-4313-a6fb-2251fa7cc03f\",\"type\":\"GlyphRenderer\"},{\"attributes\":{\"overlay\":{\"id\":\"1680aafb-64de-469b-86e5-5c5fa4c195ad\",\"type\":\"BoxAnnotation\"},\"plot\":{\"id\":\"aa6e7afa-191b-4b23-9254-e85c48fbf314\",\"subtype\":\"Chart\",\"type\":\"Plot\"}},\"id\":\"facae820-50b8-4ed3-8a00-421ec9afc4be\",\"type\":\"BoxZoomTool\"},{\"attributes\":{\"fill_alpha\":{\"field\":\"fill_alpha\"},\"fill_color\":{\"field\":\"color\"},\"height\":{\"field\":\"height\",\"units\":\"data\"},\"line_color\":{\"field\":\"line_color\"},\"width\":{\"field\":\"width\",\"units\":\"data\"},\"x\":{\"field\":\"x\"},\"y\":{\"field\":\"y\"}},\"id\":\"a841cea9-d8c7-451b-bef5-bf5c362e1016\",\"type\":\"Rect\"},{\"attributes\":{\"callback\":null,\"column_names\":[\"fill_alpha\",\"line_color\",\"y\",\"line_alpha\",\"height\",\"width\",\"x\",\"color\",\"label\"],\"data\":{\"chart_index\":[\"(23.382524, 24.904357]\"],\"color\":[\"#f22c40\"],\"fill_alpha\":[0.8],\"height\":[184.0],\"label\":[\"(23.382524, 24.904357]\"],\"line_alpha\":[1.0],\"line_color\":[\"black\"],\"width\":[1.5218330971588614],\"x\":[\"24.1434405\"],\"y\":[92.0]}},\"id\":\"6f36f7e9-d3d5-4621-b25c-410d7ad216e6\",\"type\":\"ColumnDataSource\"},{\"attributes\":{\"data_source\":{\"id\":\"05e503c6-f7d6-495f-9ad4-91fdffbbe9d7\",\"type\":\"ColumnDataSource\"},\"glyph\":{\"id\":\"955e0c72-0b61-4aee-bd93-bf8ddb2fac73\",\"type\":\"Rect\"},\"hover_glyph\":null,\"nonselection_glyph\":null,\"selection_glyph\":null},\"id\":\"52dc8daf-14d8-40d6-94ba-1c94ec93c47d\",\"type\":\"GlyphRenderer\"},{\"attributes\":{\"data_source\":{\"id\":\"d0e8de77-2c48-431c-9b5b-88e56c95e091\",\"type\":\"ColumnDataSource\"},\"glyph\":{\"id\":\"a4139d01-8f28-4200-857a-5ee58b03727a\",\"type\":\"Rect\"},\"hover_glyph\":null,\"nonselection_glyph\":null,\"selection_glyph\":null},\"id\":\"f41d3175-c179-4592-85a5-53f3ecbf4de2\",\"type\":\"GlyphRenderer\"},{\"attributes\":{\"callback\":null,\"column_names\":[\"fill_alpha\",\"line_color\",\"y\",\"line_alpha\",\"height\",\"width\",\"x\",\"color\",\"label\"],\"data\":{\"chart_index\":[\"(94.000617, 96.000474]\"],\"color\":[\"#f22c40\"],\"fill_alpha\":[0.8],\"height\":[202.0],\"label\":[\"(94.000617, 96.000474]\"],\"line_alpha\":[1.0],\"line_color\":[\"black\"],\"width\":[1.999857247275827],\"x\":[\"95.0005455\"],\"y\":[101.0]}},\"id\":\"d5a3adf2-4d33-4d96-a798-85431e03bc64\",\"type\":\"ColumnDataSource\"},{\"attributes\":{\"callback\":null,\"column_names\":[\"fill_alpha\",\"line_color\",\"y\",\"line_alpha\",\"height\",\"width\",\"x\",\"color\",\"label\"],\"data\":{\"chart_index\":[\"(76.646682, 78.168516]\"],\"color\":[\"#f22c40\"],\"fill_alpha\":[0.8],\"height\":[0.0],\"label\":[\"(76.646682, 78.168516]\"],\"line_alpha\":[1.0],\"line_color\":[\"black\"],\"width\":[1.5218330971588614],\"x\":[\"77.407599\"],\"y\":[0.0]}},\"id\":\"6d41f71d-38dd-49c1-842d-2851257b626b\",\"type\":\"ColumnDataSource\"},{\"attributes\":{\"callback\":null,\"column_names\":[\"fill_alpha\",\"line_color\",\"y\",\"line_alpha\",\"height\",\"width\",\"x\",\"color\",\"label\"],\"data\":{\"chart_index\":[\"(92.000760, 94.000617]\"],\"color\":[\"#f22c40\"],\"fill_alpha\":[0.8],\"height\":[212.0],\"label\":[\"(92.000760, 94.000617]\"],\"line_alpha\":[1.0],\"line_color\":[\"black\"],\"width\":[1.999857247275827],\"x\":[\"93.0006885\"],\"y\":[106.0]}},\"id\":\"b15a7a80-a1a6-43e4-b3a6-52c572152709\",\"type\":\"ColumnDataSource\"},{\"attributes\":{\"fill_alpha\":{\"field\":\"fill_alpha\"},\"fill_color\":{\"field\":\"color\"},\"height\":{\"field\":\"height\",\"units\":\"data\"},\"line_color\":{\"field\":\"line_color\"},\"width\":{\"field\":\"width\",\"units\":\"data\"},\"x\":{\"field\":\"x\"},\"y\":{\"field\":\"y\"}},\"id\":\"c1d66c85-f0c8-4cb2-b695-f5a5ddf311ed\",\"type\":\"Rect\"},{\"attributes\":{\"callback\":null,\"column_names\":[\"fill_alpha\",\"line_color\",\"y\",\"line_alpha\",\"height\",\"width\",\"x\",\"color\",\"label\"],\"data\":{\"chart_index\":[\"(111.999332, 113.999190]\"],\"color\":[\"#f22c40\"],\"fill_alpha\":[0.8],\"height\":[197.0],\"label\":[\"(111.999332, 113.999190]\"],\"line_alpha\":[1.0],\"line_color\":[\"black\"],\"width\":[1.999857247275827],\"x\":[\"112.99926099999999\"],\"y\":[98.5]}},\"id\":\"6dd898f0-db9a-434e-a347-92dfe267335a\",\"type\":\"ColumnDataSource\"},{\"attributes\":{\"data_source\":{\"id\":\"d81aa8c4-1d67-4887-9382-2e91932af413\",\"type\":\"ColumnDataSource\"},\"glyph\":{\"id\":\"831aba71-82c5-46ff-ba6b-db990e0c241c\",\"type\":\"Rect\"},\"hover_glyph\":null,\"nonselection_glyph\":null,\"selection_glyph\":null},\"id\":\"ed574d5e-d643-40da-9dd5-562e295a3ff9\",\"type\":\"GlyphRenderer\"},{\"attributes\":{\"data_source\":{\"id\":\"b15a7a80-a1a6-43e4-b3a6-52c572152709\",\"type\":\"ColumnDataSource\"},\"glyph\":{\"id\":\"4de2dc2d-88a5-4721-a9df-3e424e3df0db\",\"type\":\"Rect\"},\"hover_glyph\":null,\"nonselection_glyph\":null,\"selection_glyph\":null},\"id\":\"09f4ebc8-4d01-41f9-b937-70c381825272\",\"type\":\"GlyphRenderer\"},{\"attributes\":{\"fill_alpha\":{\"field\":\"fill_alpha\"},\"fill_color\":{\"field\":\"color\"},\"height\":{\"field\":\"height\",\"units\":\"data\"},\"line_color\":{\"field\":\"line_color\"},\"width\":{\"field\":\"width\",\"units\":\"data\"},\"x\":{\"field\":\"x\"},\"y\":{\"field\":\"y\"}},\"id\":\"eadfcc6c-dd93-43f2-a775-526c70c705e5\",\"type\":\"Rect\"},{\"attributes\":{\"fill_alpha\":{\"field\":\"fill_alpha\"},\"fill_color\":{\"field\":\"color\"},\"height\":{\"field\":\"height\",\"units\":\"data\"},\"line_color\":{\"field\":\"line_color\"},\"width\":{\"field\":\"width\",\"units\":\"data\"},\"x\":{\"field\":\"x\"},\"y\":{\"field\":\"y\"}},\"id\":\"d960f7c8-028b-4fd6-8ca3-7f4692882eb7\",\"type\":\"Rect\"},{\"attributes\":{\"callback\":null,\"column_names\":[\"fill_alpha\",\"line_color\",\"y\",\"line_alpha\",\"height\",\"width\",\"x\",\"color\",\"label\"],\"data\":{\"chart_index\":[\"(98.000332, 100.000189]\"],\"color\":[\"#f22c40\"],\"fill_alpha\":[0.8],\"height\":[196.0],\"label\":[\"(98.000332, 100.000189]\"],\"line_alpha\":[1.0],\"line_color\":[\"black\"],\"width\":[1.999857247275827],\"x\":[\"99.0002605\"],\"y\":[98.0]}},\"id\":\"17270bde-862a-40d7-bc0d-e6a5fef951b6\",\"type\":\"ColumnDataSource\"},{\"attributes\":{\"callback\":null,\"end\":1684.1000000000001},\"id\":\"e701aaa9-d0c7-4d54-8233-76a13b5c2f29\",\"type\":\"Range1d\"},{\"attributes\":{\"fill_alpha\":{\"field\":\"fill_alpha\"},\"fill_color\":{\"field\":\"color\"},\"height\":{\"field\":\"height\",\"units\":\"data\"},\"line_color\":{\"field\":\"line_color\"},\"width\":{\"field\":\"width\",\"units\":\"data\"},\"x\":{\"field\":\"x\"},\"y\":{\"field\":\"y\"}},\"id\":\"2bb81b52-dc49-4ed8-bbb1-09a5277ee038\",\"type\":\"Rect\"},{\"attributes\":{},\"id\":\"e2b7b703-13a6-4395-b6ff-439a25f39a57\",\"type\":\"BasicTicker\"},{\"attributes\":{\"fill_alpha\":{\"field\":\"fill_alpha\"},\"fill_color\":{\"field\":\"color\"},\"height\":{\"field\":\"height\",\"units\":\"data\"},\"line_color\":{\"field\":\"line_color\"},\"width\":{\"field\":\"width\",\"units\":\"data\"},\"x\":{\"field\":\"x\"},\"y\":{\"field\":\"y\"}},\"id\":\"129d8efa-0787-4d02-8a67-6e032cc9d13b\",\"type\":\"Rect\"},{\"attributes\":{\"data_source\":{\"id\":\"12b41bd2-efef-4671-8d13-b874e53e784c\",\"type\":\"ColumnDataSource\"},\"glyph\":{\"id\":\"e0c65a77-82a7-4641-ab29-372a89254a48\",\"type\":\"Rect\"},\"hover_glyph\":null,\"nonselection_glyph\":null,\"selection_glyph\":null},\"id\":\"0303f9ef-9d54-467a-9bd1-cd8f39619766\",\"type\":\"GlyphRenderer\"},{\"attributes\":{\"children\":[{\"id\":\"9cc69f70-46a7-4021-9555-472f210df783\",\"type\":\"Row\"},{\"id\":\"7582c1ca-e6da-49f0-b1bd-835ffb484027\",\"type\":\"Row\"}]},\"id\":\"a5fe4a40-59a2-401e-ba6b-194184495c37\",\"type\":\"Column\"},{\"attributes\":{\"data_source\":{\"id\":\"5edc1831-6390-4097-bf79-87ca7793172d\",\"type\":\"ColumnDataSource\"},\"glyph\":{\"id\":\"98aa79e3-108a-4845-b8e3-713080b085df\",\"type\":\"Rect\"},\"hover_glyph\":null,\"nonselection_glyph\":null,\"selection_glyph\":null},\"id\":\"52ef0a2e-7158-4ac6-a017-6ceee1962031\",\"type\":\"GlyphRenderer\"},{\"attributes\":{\"fill_alpha\":{\"field\":\"fill_alpha\"},\"fill_color\":{\"field\":\"color\"},\"height\":{\"field\":\"height\",\"units\":\"data\"},\"line_color\":{\"field\":\"line_color\"},\"width\":{\"field\":\"width\",\"units\":\"data\"},\"x\":{\"field\":\"x\"},\"y\":{\"field\":\"y\"}},\"id\":\"b552c71c-b8ee-4167-b610-34c2213d5a1a\",\"type\":\"Rect\"},{\"attributes\":{\"data_source\":{\"id\":\"bcce8ba5-3f0d-4266-b296-82ecbb3fac3e\",\"type\":\"ColumnDataSource\"},\"glyph\":{\"id\":\"32db2636-76a5-47a1-9adc-c8fe6660e51a\",\"type\":\"Rect\"},\"hover_glyph\":null,\"nonselection_glyph\":null,\"selection_glyph\":null},\"id\":\"2e4486d6-3fbf-45ec-addb-55877a71d197\",\"type\":\"GlyphRenderer\"},{\"attributes\":{\"bottom_units\":\"screen\",\"fill_alpha\":{\"value\":0.5},\"fill_color\":{\"value\":\"lightgrey\"},\"left_units\":\"screen\",\"level\":\"overlay\",\"line_alpha\":{\"value\":1.0},\"line_color\":{\"value\":\"black\"},\"line_dash\":[4,4],\"line_width\":{\"value\":2},\"plot\":null,\"render_mode\":\"css\",\"right_units\":\"screen\",\"top_units\":\"screen\"},\"id\":\"1680aafb-64de-469b-86e5-5c5fa4c195ad\",\"type\":\"BoxAnnotation\"},{\"attributes\":{\"fill_alpha\":{\"field\":\"fill_alpha\"},\"fill_color\":{\"field\":\"color\"},\"height\":{\"field\":\"height\",\"units\":\"data\"},\"line_color\":{\"field\":\"line_color\"},\"width\":{\"field\":\"width\",\"units\":\"data\"},\"x\":{\"field\":\"x\"},\"y\":{\"field\":\"y\"}},\"id\":\"de50b884-b8aa-4616-950f-7bd471051322\",\"type\":\"Rect\"},{\"attributes\":{\"fill_alpha\":{\"field\":\"fill_alpha\"},\"fill_color\":{\"field\":\"color\"},\"height\":{\"field\":\"height\",\"units\":\"data\"},\"line_color\":{\"field\":\"line_color\"},\"width\":{\"field\":\"width\",\"units\":\"data\"},\"x\":{\"field\":\"x\"},\"y\":{\"field\":\"y\"}},\"id\":\"6240a1b1-1f6b-44ab-a538-64d0debfa3c5\",\"type\":\"Rect\"},{\"attributes\":{\"callback\":null,\"column_names\":[\"fill_alpha\",\"line_color\",\"y\",\"line_alpha\",\"height\",\"width\",\"x\",\"color\",\"label\"],\"data\":{\"chart_index\":[\"(40.883908, 42.857874]\"],\"color\":[\"#f22c40\"],\"fill_alpha\":[0.8],\"height\":[204.0],\"label\":[\"(40.883908, 42.857874]\"],\"line_alpha\":[1.0],\"line_color\":[\"black\"],\"width\":[1.9739660980509086],\"x\":[\"41.870891\"],\"y\":[102.0]}},\"id\":\"5ad6df52-26cb-4564-99ab-7fc649a3e79e\",\"type\":\"ColumnDataSource\"},{\"attributes\":{\"fill_alpha\":{\"field\":\"fill_alpha\"},\"fill_color\":{\"field\":\"color\"},\"height\":{\"field\":\"height\",\"units\":\"data\"},\"line_color\":{\"field\":\"line_color\"},\"width\":{\"field\":\"width\",\"units\":\"data\"},\"x\":{\"field\":\"x\"},\"y\":{\"field\":\"y\"}},\"id\":\"b0cb0dce-2ecd-464b-87b8-cafe000a8d04\",\"type\":\"Rect\"},{\"attributes\":{\"callback\":null,\"column_names\":[\"fill_alpha\",\"line_color\",\"y\",\"line_alpha\",\"height\",\"width\",\"x\",\"color\",\"label\"],\"data\":{\"chart_index\":[\"(46.210021, 47.731854]\"],\"color\":[\"#f22c40\"],\"fill_alpha\":[0.8],\"height\":[456.0],\"label\":[\"(46.210021, 47.731854]\"],\"line_alpha\":[1.0],\"line_color\":[\"black\"],\"width\":[1.5218330971588685],\"x\":[\"46.9709375\"],\"y\":[228.0]}},\"id\":\"a0c6d8a7-da9a-4ff1-8842-db1fa7f42d39\",\"type\":\"ColumnDataSource\"},{\"attributes\":{\"fill_alpha\":{\"field\":\"fill_alpha\"},\"fill_color\":{\"field\":\"color\"},\"height\":{\"field\":\"height\",\"units\":\"data\"},\"line_color\":{\"field\":\"line_color\"},\"width\":{\"field\":\"width\",\"units\":\"data\"},\"x\":{\"field\":\"x\"},\"y\":{\"field\":\"y\"}},\"id\":\"0d45baf4-7a6c-4702-9c01-721bf7a6fb7c\",\"type\":\"Rect\"},{\"attributes\":{\"fill_alpha\":{\"field\":\"fill_alpha\"},\"fill_color\":{\"field\":\"color\"},\"height\":{\"field\":\"height\",\"units\":\"data\"},\"line_color\":{\"field\":\"line_color\"},\"width\":{\"field\":\"width\",\"units\":\"data\"},\"x\":{\"field\":\"x\"},\"y\":{\"field\":\"y\"}},\"id\":\"7b6e0979-a484-41a1-80be-abb2aecfd784\",\"type\":\"Rect\"},{\"attributes\":{\"callback\":null,\"column_names\":[\"fill_alpha\",\"line_color\",\"y\",\"line_alpha\",\"height\",\"width\",\"x\",\"color\",\"label\"],\"data\":{\"chart_index\":[\"(36.004757, 38.004614]\"],\"color\":[\"#f22c40\"],\"fill_alpha\":[0.8],\"height\":[187.0],\"label\":[\"(36.004757, 38.004614]\"],\"line_alpha\":[1.0],\"line_color\":[\"black\"],\"width\":[1.999857247275827],\"x\":[\"37.004685499999994\"],\"y\":[93.5]}},\"id\":\"012f86c0-4eee-4292-bc3c-69175e80c97a\",\"type\":\"ColumnDataSource\"},{\"attributes\":{\"fill_alpha\":{\"field\":\"fill_alpha\"},\"fill_color\":{\"field\":\"color\"},\"height\":{\"field\":\"height\",\"units\":\"data\"},\"line_color\":{\"field\":\"line_color\"},\"width\":{\"field\":\"width\",\"units\":\"data\"},\"x\":{\"field\":\"x\"},\"y\":{\"field\":\"y\"}},\"id\":\"06026a4d-1f9b-4f93-ab9d-baa666c10c18\",\"type\":\"Rect\"},{\"attributes\":{\"data_source\":{\"id\":\"f22af01b-7603-4105-9891-153e124fb2d7\",\"type\":\"ColumnDataSource\"},\"glyph\":{\"id\":\"77827d2e-550f-401e-9e2a-37f03b875c92\",\"type\":\"Rect\"},\"hover_glyph\":null,\"nonselection_glyph\":null,\"selection_glyph\":null},\"id\":\"dc5daa8e-4bd5-417f-ae04-5ded9b6e40b2\",\"type\":\"GlyphRenderer\"},{\"attributes\":{\"data_source\":{\"id\":\"1dbc059f-1221-4a73-8c66-bbc7c34e6b54\",\"type\":\"ColumnDataSource\"},\"glyph\":{\"id\":\"935d712e-63d7-49b8-bd9f-07ddb06759a0\",\"type\":\"Rect\"},\"hover_glyph\":null,\"nonselection_glyph\":null,\"selection_glyph\":null},\"id\":\"e80ad763-1abe-4c99-b027-c53a6367c7ff\",\"type\":\"GlyphRenderer\"},{\"attributes\":{\"callback\":null,\"column_names\":[\"fill_alpha\",\"line_color\",\"y\",\"line_alpha\",\"height\",\"width\",\"x\",\"color\",\"label\"],\"data\":{\"chart_index\":[\"(78.001759, 80.001616]\"],\"color\":[\"#f22c40\"],\"fill_alpha\":[0.8],\"height\":[193.0],\"label\":[\"(78.001759, 80.001616]\"],\"line_alpha\":[1.0],\"line_color\":[\"black\"],\"width\":[1.999857247275827],\"x\":[\"79.0016875\"],\"y\":[96.5]}},\"id\":\"3402bdea-6fed-409b-90ea-a9c34d3c45e5\",\"type\":\"ColumnDataSource\"},{\"attributes\":{\"fill_alpha\":{\"field\":\"fill_alpha\"},\"fill_color\":{\"field\":\"color\"},\"height\":{\"field\":\"height\",\"units\":\"data\"},\"line_color\":{\"field\":\"line_color\"},\"width\":{\"field\":\"width\",\"units\":\"data\"},\"x\":{\"field\":\"x\"},\"y\":{\"field\":\"y\"}},\"id\":\"def7ace1-6315-45dc-9b46-6e74c233880d\",\"type\":\"Rect\"},{\"attributes\":{\"data_source\":{\"id\":\"65687c66-53c4-4ef7-ada9-888ad778c1bb\",\"type\":\"ColumnDataSource\"},\"glyph\":{\"id\":\"b7e9cedb-840f-4b8c-9669-349055c1b2ac\",\"type\":\"Rect\"},\"hover_glyph\":null,\"nonselection_glyph\":null,\"selection_glyph\":null},\"id\":\"274b4a5b-b031-4a9e-8039-7038620b502c\",\"type\":\"GlyphRenderer\"},{\"attributes\":{\"callback\":null,\"column_names\":[\"fill_alpha\",\"line_color\",\"y\",\"line_alpha\",\"height\",\"width\",\"x\",\"color\",\"label\"],\"data\":{\"chart_index\":[\"(20.338858, 21.860691]\"],\"color\":[\"#f22c40\"],\"fill_alpha\":[0.8],\"height\":[104.0],\"label\":[\"(20.338858, 21.860691]\"],\"line_alpha\":[1.0],\"line_color\":[\"black\"],\"width\":[1.521833097158865],\"x\":[\"21.0997745\"],\"y\":[52.0]}},\"id\":\"b4e8ccff-0a90-41a9-8f44-4fbba4c03345\",\"type\":\"ColumnDataSource\"},{\"attributes\":{\"plot\":{\"id\":\"8882f968-5c95-40a6-97b9-82107bc72984\",\"subtype\":\"Chart\",\"type\":\"Plot\"}},\"id\":\"a21a5748-b863-4249-87ff-08714a294832\",\"type\":\"WheelZoomTool\"},{\"attributes\":{\"callback\":null,\"column_names\":[\"fill_alpha\",\"line_color\",\"y\",\"line_alpha\",\"height\",\"width\",\"x\",\"color\",\"label\"],\"data\":{\"chart_index\":[\"(18.817025, 20.338858]\"],\"color\":[\"#f22c40\"],\"fill_alpha\":[0.8],\"height\":[96.0],\"label\":[\"(18.817025, 20.338858]\"],\"line_alpha\":[1.0],\"line_color\":[\"black\"],\"width\":[1.521833097158865],\"x\":[\"19.5779415\"],\"y\":[48.0]}},\"id\":\"cfe276e0-5aa0-4af5-a4ba-b6507096fb2b\",\"type\":\"ColumnDataSource\"},{\"attributes\":{\"callback\":null,\"column_names\":[\"fill_alpha\",\"line_color\",\"y\",\"line_alpha\",\"height\",\"width\",\"x\",\"color\",\"label\"],\"data\":{\"chart_index\":[\"(15.773359, 17.295192]\"],\"color\":[\"#f22c40\"],\"fill_alpha\":[0.8],\"height\":[26.0],\"label\":[\"(15.773359, 17.295192]\"],\"line_alpha\":[1.0],\"line_color\":[\"black\"],\"width\":[1.5218330971588667],\"x\":[\"16.5342755\"],\"y\":[13.0]}},\"id\":\"69d0a376-cd7a-4fb7-bb94-9e5e20dedd19\",\"type\":\"ColumnDataSource\"},{\"attributes\":{\"fill_alpha\":{\"field\":\"fill_alpha\"},\"fill_color\":{\"field\":\"color\"},\"height\":{\"field\":\"height\",\"units\":\"data\"},\"line_color\":{\"field\":\"line_color\"},\"width\":{\"field\":\"width\",\"units\":\"data\"},\"x\":{\"field\":\"x\"},\"y\":{\"field\":\"y\"}},\"id\":\"130609d1-9491-4d61-978b-dfe05cb30101\",\"type\":\"Rect\"},{\"attributes\":{\"data_source\":{\"id\":\"3bf55b10-7852-4ff4-bd96-10748e877509\",\"type\":\"ColumnDataSource\"},\"glyph\":{\"id\":\"d0bb2f2b-850a-4a6e-b8dc-6e6fae883ace\",\"type\":\"Rect\"},\"hover_glyph\":null,\"nonselection_glyph\":null,\"selection_glyph\":null},\"id\":\"67c6f08c-fc61-4c51-80cf-1b80acac7f8f\",\"type\":\"GlyphRenderer\"},{\"attributes\":{\"callback\":null,\"column_names\":[\"fill_alpha\",\"line_color\",\"y\",\"line_alpha\",\"height\",\"width\",\"x\",\"color\",\"label\"],\"data\":{\"chart_index\":[\"(54.701671, 56.675637]\"],\"color\":[\"#f22c40\"],\"fill_alpha\":[0.8],\"height\":[282.0],\"label\":[\"(54.701671, 56.675637]\"],\"line_alpha\":[1.0],\"line_color\":[\"black\"],\"width\":[1.9739660980509086],\"x\":[\"55.688654\"],\"y\":[141.0]}},\"id\":\"633a21f8-3778-4e08-b2f2-a9e300810d0f\",\"type\":\"ColumnDataSource\"},{\"attributes\":{\"data_source\":{\"id\":\"829d9f94-2cd2-432a-86d2-be3dd5f4b412\",\"type\":\"ColumnDataSource\"},\"glyph\":{\"id\":\"b0cb0dce-2ecd-464b-87b8-cafe000a8d04\",\"type\":\"Rect\"},\"hover_glyph\":null,\"nonselection_glyph\":null,\"selection_glyph\":null},\"id\":\"dcb6342a-379c-4b89-b5e0-b0eae1eb32e6\",\"type\":\"GlyphRenderer\"},{\"attributes\":{\"fill_alpha\":{\"field\":\"fill_alpha\"},\"fill_color\":{\"field\":\"color\"},\"height\":{\"field\":\"height\",\"units\":\"data\"},\"line_color\":{\"field\":\"line_color\"},\"width\":{\"field\":\"width\",\"units\":\"data\"},\"x\":{\"field\":\"x\"},\"y\":{\"field\":\"y\"}},\"id\":\"23793062-b139-4f6d-8ad3-e3eb77251ef9\",\"type\":\"Rect\"},{\"attributes\":{\"data_source\":{\"id\":\"a933f509-f251-426a-bf96-9dec75588d1d\",\"type\":\"ColumnDataSource\"},\"glyph\":{\"id\":\"0f426d2b-419d-4838-875c-204fa97213ff\",\"type\":\"Rect\"},\"hover_glyph\":null,\"nonselection_glyph\":null,\"selection_glyph\":null},\"id\":\"a926630c-89f8-494f-a97a-d455e8a3611a\",\"type\":\"GlyphRenderer\"},{\"attributes\":{\"callback\":null,\"column_names\":[\"fill_alpha\",\"line_color\",\"y\",\"line_alpha\",\"height\",\"width\",\"x\",\"color\",\"label\"],\"data\":{\"chart_index\":[\"(96.000474, 98.000332]\"],\"color\":[\"#f22c40\"],\"fill_alpha\":[0.8],\"height\":[214.0],\"label\":[\"(96.000474, 98.000332]\"],\"line_alpha\":[1.0],\"line_color\":[\"black\"],\"width\":[1.9998572472758411],\"x\":[\"97.000403\"],\"y\":[107.0]}},\"id\":\"2f7852f0-4062-4b76-a188-2b953cc38f2d\",\"type\":\"ColumnDataSource\"},{\"attributes\":{\"callback\":null,\"column_names\":[\"fill_alpha\",\"line_color\",\"y\",\"line_alpha\",\"height\",\"width\",\"x\",\"color\",\"label\"],\"data\":{\"chart_index\":[\"(209.172135, 225.262275]\"],\"color\":[\"#f22c40\"],\"fill_alpha\":[0.8],\"height\":[184.0],\"label\":[\"(209.172135, 225.262275]\"],\"line_alpha\":[1.0],\"line_color\":[\"black\"],\"width\":[16.090139566527114],\"x\":[\"217.21720499999998\"],\"y\":[92.0]}},\"id\":\"99f7fd47-2517-42cb-b43f-5466bc99ca3d\",\"type\":\"ColumnDataSource\"},{\"attributes\":{\"data_source\":{\"id\":\"0c06010f-df41-4410-8899-e168e6dca741\",\"type\":\"ColumnDataSource\"},\"glyph\":{\"id\":\"8b88f411-5bbf-48f7-9880-55772d2331b7\",\"type\":\"Rect\"},\"hover_glyph\":null,\"nonselection_glyph\":null,\"selection_glyph\":null},\"id\":\"bf032f99-78a5-4c4e-aee9-bb84aa259fc1\",\"type\":\"GlyphRenderer\"},{\"attributes\":{\"fill_alpha\":{\"field\":\"fill_alpha\"},\"fill_color\":{\"field\":\"color\"},\"height\":{\"field\":\"height\",\"units\":\"data\"},\"line_color\":{\"field\":\"line_color\"},\"width\":{\"field\":\"width\",\"units\":\"data\"},\"x\":{\"field\":\"x\"},\"y\":{\"field\":\"y\"}},\"id\":\"585b3e68-8456-4c7b-87d5-d4be35a7f61f\",\"type\":\"Rect\"},{\"attributes\":{\"fill_alpha\":{\"field\":\"fill_alpha\"},\"fill_color\":{\"field\":\"color\"},\"height\":{\"field\":\"height\",\"units\":\"data\"},\"line_color\":{\"field\":\"line_color\"},\"width\":{\"field\":\"width\",\"units\":\"data\"},\"x\":{\"field\":\"x\"},\"y\":{\"field\":\"y\"}},\"id\":\"feade3d8-97f0-4058-9b47-c60be49fd206\",\"type\":\"Rect\"},{\"attributes\":{\"data_source\":{\"id\":\"d9caef14-27d3-4695-93a9-17e7a9e2c97e\",\"type\":\"ColumnDataSource\"},\"glyph\":{\"id\":\"bd26b51e-9978-4af8-8879-8128ee42463f\",\"type\":\"Rect\"},\"hover_glyph\":null,\"nonselection_glyph\":null,\"selection_glyph\":null},\"id\":\"26226fb4-2ce4-4e64-b018-06f9ef05200e\",\"type\":\"GlyphRenderer\"},{\"attributes\":{\"data_source\":{\"id\":\"919473fc-1ab3-4b28-96fc-3e3d1d0f4523\",\"type\":\"ColumnDataSource\"},\"glyph\":{\"id\":\"c1d66c85-f0c8-4cb2-b695-f5a5ddf311ed\",\"type\":\"Rect\"},\"hover_glyph\":null,\"nonselection_glyph\":null,\"selection_glyph\":null},\"id\":\"ecffcdb1-170e-4b9a-8a78-dc4af68da8d8\",\"type\":\"GlyphRenderer\"},{\"attributes\":{\"data_source\":{\"id\":\"93a26129-9974-4f6c-aae6-1e805ff1363b\",\"type\":\"ColumnDataSource\"},\"glyph\":{\"id\":\"2f27e812-cc78-4c97-be08-1a7a997f920f\",\"type\":\"Rect\"},\"hover_glyph\":null,\"nonselection_glyph\":null,\"selection_glyph\":null},\"id\":\"c3529dd0-7d78-4131-9293-333cfc9d8283\",\"type\":\"GlyphRenderer\"},{\"attributes\":{\"dimension\":1,\"plot\":{\"id\":\"ea1f27d3-388d-4e34-b976-4573f9f24332\",\"subtype\":\"Chart\",\"type\":\"Plot\"},\"ticker\":{\"id\":\"848092d0-25e6-4afd-8738-261bb6ac0ed5\",\"type\":\"BasicTicker\"}},\"id\":\"03a4562c-328c-442a-86f7-93c2deff4fb7\",\"type\":\"Grid\"},{\"attributes\":{\"callback\":null,\"column_names\":[\"fill_alpha\",\"line_color\",\"y\",\"line_alpha\",\"height\",\"width\",\"x\",\"color\",\"label\"],\"data\":{\"chart_index\":[\"(72.081183, 73.603016]\"],\"color\":[\"#f22c40\"],\"fill_alpha\":[0.8],\"height\":[3.0],\"label\":[\"(72.081183, 73.603016]\"],\"line_alpha\":[1.0],\"line_color\":[\"black\"],\"width\":[1.5218330971588614],\"x\":[\"72.84209949999999\"],\"y\":[1.5]}},\"id\":\"86ad2f07-3801-4490-9cb8-769cc795738a\",\"type\":\"ColumnDataSource\"},{\"attributes\":{\"data_source\":{\"id\":\"5734e39d-f8dc-469a-b52c-a50e87092e9d\",\"type\":\"ColumnDataSource\"},\"glyph\":{\"id\":\"e9f4118e-6570-4df4-86e4-d4f789f94ad1\",\"type\":\"Rect\"},\"hover_glyph\":null,\"nonselection_glyph\":null,\"selection_glyph\":null},\"id\":\"e91b1da2-84bd-4d3f-99ca-9e64dace3178\",\"type\":\"GlyphRenderer\"},{\"attributes\":{\"data_source\":{\"id\":\"5630bb2a-5830-45ff-9f0f-0bd4bc699652\",\"type\":\"ColumnDataSource\"},\"glyph\":{\"id\":\"fdfa0c41-9f55-48d4-975f-98d6ce54c407\",\"type\":\"Rect\"},\"hover_glyph\":null,\"nonselection_glyph\":null,\"selection_glyph\":null},\"id\":\"d3a518d6-c181-4bd2-9b5e-cdb0f3e4601b\",\"type\":\"GlyphRenderer\"},{\"attributes\":{\"data_source\":{\"id\":\"aa6c23b5-49f0-4bfa-aa54-4c8c818c8efc\",\"type\":\"ColumnDataSource\"},\"glyph\":{\"id\":\"d5387bb8-ec7e-47b2-bc40-feb364ed414e\",\"type\":\"Rect\"},\"hover_glyph\":null,\"nonselection_glyph\":null,\"selection_glyph\":null},\"id\":\"66a4f50e-b82c-4577-9b65-d5bb98271c61\",\"type\":\"GlyphRenderer\"},{\"attributes\":{\"data_source\":{\"id\":\"ef037fb5-3670-45d7-bd42-b402a7c4e85c\",\"type\":\"ColumnDataSource\"},\"glyph\":{\"id\":\"c3e68eb2-0fb8-407a-8ee2-19184dd65c63\",\"type\":\"Rect\"},\"hover_glyph\":null,\"nonselection_glyph\":null,\"selection_glyph\":null},\"id\":\"41b55422-1d12-45ff-9ba3-0c9ea959faa7\",\"type\":\"GlyphRenderer\"},{\"attributes\":{\"callback\":null,\"column_names\":[\"fill_alpha\",\"line_color\",\"y\",\"line_alpha\",\"height\",\"width\",\"x\",\"color\",\"label\"],\"data\":{\"chart_index\":[\"(60.003044, 62.002901]\"],\"color\":[\"#f22c40\"],\"fill_alpha\":[0.8],\"height\":[203.0],\"label\":[\"(60.003044, 62.002901]\"],\"line_alpha\":[1.0],\"line_color\":[\"black\"],\"width\":[1.999857247275827],\"x\":[\"61.0029725\"],\"y\":[101.5]}},\"id\":\"6bf1a84c-ad0c-456a-bbcb-eee3ea23f5df\",\"type\":\"ColumnDataSource\"},{\"attributes\":{\"fill_alpha\":{\"field\":\"fill_alpha\"},\"fill_color\":{\"field\":\"color\"},\"height\":{\"field\":\"height\",\"units\":\"data\"},\"line_color\":{\"field\":\"line_color\"},\"width\":{\"field\":\"width\",\"units\":\"data\"},\"x\":{\"field\":\"x\"},\"y\":{\"field\":\"y\"}},\"id\":\"076161b8-d80c-46e8-b063-b344dd9a994b\",\"type\":\"Rect\"},{\"attributes\":{\"fill_alpha\":{\"field\":\"fill_alpha\"},\"fill_color\":{\"field\":\"color\"},\"height\":{\"field\":\"height\",\"units\":\"data\"},\"line_color\":{\"field\":\"line_color\"},\"width\":{\"field\":\"width\",\"units\":\"data\"},\"x\":{\"field\":\"x\"},\"y\":{\"field\":\"y\"}},\"id\":\"9ea98804-1c71-4ae8-ac97-549b0b4a58b4\",\"type\":\"Rect\"},{\"attributes\":{\"callback\":null,\"column_names\":[\"fill_alpha\",\"line_color\",\"y\",\"line_alpha\",\"height\",\"width\",\"x\",\"color\",\"label\"],\"data\":{\"chart_index\":[\"(104.050823, 106.024789]\"],\"color\":[\"#f22c40\"],\"fill_alpha\":[0.8],\"height\":[142.0],\"label\":[\"(104.050823, 106.024789]\"],\"line_alpha\":[1.0],\"line_color\":[\"black\"],\"width\":[1.9739660980509086],\"x\":[\"105.03780599999999\"],\"y\":[71.0]}},\"id\":\"75904894-14fb-4ca7-a3cf-907848cb348c\",\"type\":\"ColumnDataSource\"},{\"attributes\":{\"callback\":null,\"column_names\":[\"fill_alpha\",\"line_color\",\"y\",\"line_alpha\",\"height\",\"width\",\"x\",\"color\",\"label\"],\"data\":{\"chart_index\":[\"(84.001331, 86.001188]\"],\"color\":[\"#f22c40\"],\"fill_alpha\":[0.8],\"height\":[188.0],\"label\":[\"(84.001331, 86.001188]\"],\"line_alpha\":[1.0],\"line_color\":[\"black\"],\"width\":[1.999857247275827],\"x\":[\"85.0012595\"],\"y\":[94.0]}},\"id\":\"e8cfbdd9-271f-48aa-b62b-fc7b4152b06c\",\"type\":\"ColumnDataSource\"},{\"attributes\":{\"bottom_units\":\"screen\",\"fill_alpha\":{\"value\":0.5},\"fill_color\":{\"value\":\"lightgrey\"},\"left_units\":\"screen\",\"level\":\"overlay\",\"line_alpha\":{\"value\":1.0},\"line_color\":{\"value\":\"black\"},\"line_dash\":[4,4],\"line_width\":{\"value\":2},\"plot\":null,\"render_mode\":\"css\",\"right_units\":\"screen\",\"top_units\":\"screen\"},\"id\":\"4afdd7e6-5bee-484d-a6e8-6e4498ea164a\",\"type\":\"BoxAnnotation\"},{\"attributes\":{},\"id\":\"d82d1934-c901-43ad-8ba2-e24582fffba1\",\"type\":\"ToolEvents\"},{\"attributes\":{\"callback\":null,\"column_names\":[\"fill_alpha\",\"line_color\",\"y\",\"line_alpha\",\"height\",\"width\",\"x\",\"color\",\"label\"],\"data\":{\"chart_index\":[\"(34.962010, 36.935976]\"],\"color\":[\"#f22c40\"],\"fill_alpha\":[0.8],\"height\":[170.0],\"label\":[\"(34.962010, 36.935976]\"],\"line_alpha\":[1.0],\"line_color\":[\"black\"],\"width\":[1.9739660980509086],\"x\":[\"35.948993\"],\"y\":[85.0]}},\"id\":\"6b97d3fc-b2f6-4593-aa2b-302ded341a1e\",\"type\":\"ColumnDataSource\"},{\"attributes\":{\"fill_alpha\":{\"field\":\"fill_alpha\"},\"fill_color\":{\"field\":\"color\"},\"height\":{\"field\":\"height\",\"units\":\"data\"},\"line_color\":{\"field\":\"line_color\"},\"width\":{\"field\":\"width\",\"units\":\"data\"},\"x\":{\"field\":\"x\"},\"y\":{\"field\":\"y\"}},\"id\":\"bd26b51e-9978-4af8-8879-8128ee42463f\",\"type\":\"Rect\"},{\"attributes\":{\"fill_alpha\":{\"field\":\"fill_alpha\"},\"fill_color\":{\"field\":\"color\"},\"height\":{\"field\":\"height\",\"units\":\"data\"},\"line_color\":{\"field\":\"line_color\"},\"width\":{\"field\":\"width\",\"units\":\"data\"},\"x\":{\"field\":\"x\"},\"y\":{\"field\":\"y\"}},\"id\":\"3dc83b2c-163d-48ad-bb2c-3ad4ebb5c140\",\"type\":\"Rect\"},{\"attributes\":{\"data_source\":{\"id\":\"6dd898f0-db9a-434e-a347-92dfe267335a\",\"type\":\"ColumnDataSource\"},\"glyph\":{\"id\":\"1038d14f-807c-433e-989f-e96c50de9c2c\",\"type\":\"Rect\"},\"hover_glyph\":null,\"nonselection_glyph\":null,\"selection_glyph\":null},\"id\":\"669eeffc-9941-4c0d-9630-ca03817ad56f\",\"type\":\"GlyphRenderer\"},{\"attributes\":{\"fill_alpha\":{\"field\":\"fill_alpha\"},\"fill_color\":{\"field\":\"color\"},\"height\":{\"field\":\"height\",\"units\":\"data\"},\"line_color\":{\"field\":\"line_color\"},\"width\":{\"field\":\"width\",\"units\":\"data\"},\"x\":{\"field\":\"x\"},\"y\":{\"field\":\"y\"}},\"id\":\"dda051c1-6905-451d-890c-d77337f9f587\",\"type\":\"Rect\"},{\"attributes\":{\"callback\":null,\"column_names\":[\"fill_alpha\",\"line_color\",\"y\",\"line_alpha\",\"height\",\"width\",\"x\",\"color\",\"label\"],\"data\":{\"chart_index\":[\"(42.004329, 44.004186]\"],\"color\":[\"#f22c40\"],\"fill_alpha\":[0.8],\"height\":[201.0],\"label\":[\"(42.004329, 44.004186]\"],\"line_alpha\":[1.0],\"line_color\":[\"black\"],\"width\":[1.999857247275827],\"x\":[\"43.004257499999994\"],\"y\":[100.5]}},\"id\":\"accf360c-dcfa-4817-b4fc-7f6de3ed7408\",\"type\":\"ColumnDataSource\"},{\"attributes\":{\"plot\":{\"id\":\"8882f968-5c95-40a6-97b9-82107bc72984\",\"subtype\":\"Chart\",\"type\":\"Plot\"}},\"id\":\"db2c1372-9fc5-4518-a1cc-f8406ab4f85a\",\"type\":\"ResetTool\"},{\"attributes\":{\"fill_alpha\":{\"field\":\"fill_alpha\"},\"fill_color\":{\"field\":\"color\"},\"height\":{\"field\":\"height\",\"units\":\"data\"},\"line_color\":{\"field\":\"line_color\"},\"width\":{\"field\":\"width\",\"units\":\"data\"},\"x\":{\"field\":\"x\"},\"y\":{\"field\":\"y\"}},\"id\":\"595aac81-a68c-4e63-bd00-d1289728be0b\",\"type\":\"Rect\"},{\"attributes\":{\"data_source\":{\"id\":\"b4e8ccff-0a90-41a9-8f44-4fbba4c03345\",\"type\":\"ColumnDataSource\"},\"glyph\":{\"id\":\"d6e4d626-a33b-47b3-b38b-8727bc7b2903\",\"type\":\"Rect\"},\"hover_glyph\":null,\"nonselection_glyph\":null,\"selection_glyph\":null},\"id\":\"32b98aa2-998f-4015-b271-176d3b23ae6f\",\"type\":\"GlyphRenderer\"},{\"attributes\":{\"data_source\":{\"id\":\"9415c713-7cef-4588-8881-bae288af6d63\",\"type\":\"ColumnDataSource\"},\"glyph\":{\"id\":\"6febe5c2-f8db-4849-98e5-0b3102f60e14\",\"type\":\"Rect\"},\"hover_glyph\":null,\"nonselection_glyph\":null,\"selection_glyph\":null},\"id\":\"8c3ef3d9-74fc-465a-a4ab-57893395c202\",\"type\":\"GlyphRenderer\"},{\"attributes\":{\"callback\":null,\"column_names\":[\"fill_alpha\",\"line_color\",\"y\",\"line_alpha\",\"height\",\"width\",\"x\",\"color\",\"label\"],\"data\":{\"chart_index\":[\"(128.721437, 144.811577]\"],\"color\":[\"#f22c40\"],\"fill_alpha\":[0.8],\"height\":[398.0],\"label\":[\"(128.721437, 144.811577]\"],\"line_alpha\":[1.0],\"line_color\":[\"black\"],\"width\":[16.090139566527085],\"x\":[\"136.766507\"],\"y\":[199.0]}},\"id\":\"7f12bf1b-899d-4730-bd71-e7063b16e12c\",\"type\":\"ColumnDataSource\"},{\"attributes\":{\"data_source\":{\"id\":\"ffb1191a-779c-4703-86c4-c6f62c511a37\",\"type\":\"ColumnDataSource\"},\"glyph\":{\"id\":\"e69e47b3-8d9a-4803-be0e-ad04c4774bfb\",\"type\":\"Rect\"},\"hover_glyph\":null,\"nonselection_glyph\":null,\"selection_glyph\":null},\"id\":\"5e5592c3-0de9-45ca-a836-0809fd79ac12\",\"type\":\"GlyphRenderer\"},{\"attributes\":{\"fill_alpha\":{\"field\":\"fill_alpha\"},\"fill_color\":{\"field\":\"color\"},\"height\":{\"field\":\"height\",\"units\":\"data\"},\"line_color\":{\"field\":\"line_color\"},\"width\":{\"field\":\"width\",\"units\":\"data\"},\"x\":{\"field\":\"x\"},\"y\":{\"field\":\"y\"}},\"id\":\"31474e52-a324-420b-95ef-4ef95e80f137\",\"type\":\"Rect\"},{\"attributes\":{\"dimension\":1,\"plot\":{\"id\":\"aa6e7afa-191b-4b23-9254-e85c48fbf314\",\"subtype\":\"Chart\",\"type\":\"Plot\"},\"ticker\":{\"id\":\"29ffee4a-f7db-48ac-a90b-22d04a9cc248\",\"type\":\"BasicTicker\"}},\"id\":\"6496d014-68c4-4ba9-a099-2fa13ff85e5d\",\"type\":\"Grid\"},{\"attributes\":{\"callback\":null,\"column_names\":[\"fill_alpha\",\"line_color\",\"y\",\"line_alpha\",\"height\",\"width\",\"x\",\"color\",\"label\"],\"data\":{\"chart_index\":[\"(40.122688, 41.644521]\"],\"color\":[\"#f22c40\"],\"fill_alpha\":[0.8],\"height\":[607.0],\"label\":[\"(40.122688, 41.644521]\"],\"line_alpha\":[1.0],\"line_color\":[\"black\"],\"width\":[1.5218330971588614],\"x\":[\"40.8836045\"],\"y\":[303.5]}},\"id\":\"e17d78d0-ced0-4fd6-a7ae-004e2ff7b5d3\",\"type\":\"ColumnDataSource\"},{\"attributes\":{\"fill_alpha\":{\"field\":\"fill_alpha\"},\"fill_color\":{\"field\":\"color\"},\"height\":{\"field\":\"height\",\"units\":\"data\"},\"line_color\":{\"field\":\"line_color\"},\"width\":{\"field\":\"width\",\"units\":\"data\"},\"x\":{\"field\":\"x\"},\"y\":{\"field\":\"y\"}},\"id\":\"dba31bb9-0220-4c25-89d8-dc8567747931\",\"type\":\"Rect\"},{\"attributes\":{\"fill_alpha\":{\"field\":\"fill_alpha\"},\"fill_color\":{\"field\":\"color\"},\"height\":{\"field\":\"height\",\"units\":\"data\"},\"line_color\":{\"field\":\"line_color\"},\"width\":{\"field\":\"width\",\"units\":\"data\"},\"x\":{\"field\":\"x\"},\"y\":{\"field\":\"y\"}},\"id\":\"7513435e-31d0-4b36-9e88-699fd48062e5\",\"type\":\"Rect\"},{\"attributes\":{\"plot\":{\"id\":\"421ef4f4-0375-4874-a721-d926330ec546\",\"subtype\":\"Chart\",\"type\":\"Plot\"}},\"id\":\"1124b74c-dc87-4cd0-a814-8f2da965ac59\",\"type\":\"WheelZoomTool\"},{\"attributes\":{\"data_source\":{\"id\":\"c9fc5f7b-ab43-4099-a998-b9092d7bb860\",\"type\":\"ColumnDataSource\"},\"glyph\":{\"id\":\"afee9184-e939-4340-bba2-608cfffa7ff3\",\"type\":\"Rect\"},\"hover_glyph\":null,\"nonselection_glyph\":null,\"selection_glyph\":null},\"id\":\"db2d9c59-1cfe-4166-8b73-d45feabb0880\",\"type\":\"GlyphRenderer\"},{\"attributes\":{\"callback\":null,\"column_names\":[\"fill_alpha\",\"line_color\",\"y\",\"line_alpha\",\"height\",\"width\",\"x\",\"color\",\"label\"],\"data\":{\"chart_index\":[\"(370.073531, 386.163670]\"],\"color\":[\"#f22c40\"],\"fill_alpha\":[0.8],\"height\":[38.0],\"label\":[\"(370.073531, 386.163670]\"],\"line_alpha\":[1.0],\"line_color\":[\"black\"],\"width\":[16.090139566527114],\"x\":[\"378.1186005\"],\"y\":[19.0]}},\"id\":\"3e5c3bde-9b0d-47d3-ac6c-83cdeed66d60\",\"type\":\"ColumnDataSource\"},{\"attributes\":{\"data_source\":{\"id\":\"e6a3b8ac-31e7-4569-b5a8-e294fe2ec488\",\"type\":\"ColumnDataSource\"},\"glyph\":{\"id\":\"b552c71c-b8ee-4167-b610-34c2213d5a1a\",\"type\":\"Rect\"},\"hover_glyph\":null,\"nonselection_glyph\":null,\"selection_glyph\":null},\"id\":\"49f02a34-c27e-4d7d-af85-d274603917bb\",\"type\":\"GlyphRenderer\"},{\"attributes\":{\"data_source\":{\"id\":\"f6a794ce-a2e2-47fe-8010-e1afd83517e2\",\"type\":\"ColumnDataSource\"},\"glyph\":{\"id\":\"1e604bc4-f3b8-41e8-bb02-fd602b516399\",\"type\":\"Rect\"},\"hover_glyph\":null,\"nonselection_glyph\":null,\"selection_glyph\":null},\"id\":\"97d71db2-3452-4a82-bfb1-b26a88af42b9\",\"type\":\"GlyphRenderer\"},{\"attributes\":{},\"id\":\"bc542ae7-7902-49cd-90c8-141b136ff2b6\",\"type\":\"BasicTicker\"},{\"attributes\":{\"active_drag\":\"auto\",\"active_scroll\":\"auto\",\"active_tap\":\"auto\",\"tools\":[{\"id\":\"3458d0e7-5be7-48b3-bbcc-52d859e84a84\",\"type\":\"PanTool\"},{\"id\":\"79a20f8d-48ef-43e1-a241-e7ef004be7c2\",\"type\":\"WheelZoomTool\"},{\"id\":\"75d6a637-c10f-41e7-a6f1-6c0265df1fdd\",\"type\":\"BoxZoomTool\"},{\"id\":\"a674245b-0bbf-4be6-87fc-abfb85078602\",\"type\":\"SaveTool\"},{\"id\":\"107ea0bd-9441-43f0-907d-850f8e1c7786\",\"type\":\"ResetTool\"},{\"id\":\"1fda3ac5-8170-412d-86f0-18a5844a61df\",\"type\":\"HelpTool\"}]},\"id\":\"760e8020-5401-4b75-ba89-53291a34336a\",\"type\":\"Toolbar\"},{\"attributes\":{\"data_source\":{\"id\":\"5f119e90-1df3-406f-b8d6-e9d70ac20911\",\"type\":\"ColumnDataSource\"},\"glyph\":{\"id\":\"ebffa839-0644-46ed-91d1-b4708804f098\",\"type\":\"Rect\"},\"hover_glyph\":null,\"nonselection_glyph\":null,\"selection_glyph\":null},\"id\":\"66cbd16e-f3e6-4e65-a69a-4319c9385328\",\"type\":\"GlyphRenderer\"},{\"attributes\":{\"fill_alpha\":{\"field\":\"fill_alpha\"},\"fill_color\":{\"field\":\"color\"},\"height\":{\"field\":\"height\",\"units\":\"data\"},\"line_color\":{\"field\":\"line_color\"},\"width\":{\"field\":\"width\",\"units\":\"data\"},\"x\":{\"field\":\"x\"},\"y\":{\"field\":\"y\"}},\"id\":\"fb1de112-05ee-4c0a-9f01-b6c9f94dc6fa\",\"type\":\"Rect\"},{\"attributes\":{\"data_source\":{\"id\":\"439da1c2-443e-420c-8678-6c2bb4fff973\",\"type\":\"ColumnDataSource\"},\"glyph\":{\"id\":\"50aa42f3-69eb-4007-8045-4b79d1c1266b\",\"type\":\"Rect\"},\"hover_glyph\":null,\"nonselection_glyph\":null,\"selection_glyph\":null},\"id\":\"38873104-f447-4c20-8112-3e3f9fb921b5\",\"type\":\"GlyphRenderer\"},{\"attributes\":{\"fill_alpha\":{\"field\":\"fill_alpha\"},\"fill_color\":{\"field\":\"color\"},\"height\":{\"field\":\"height\",\"units\":\"data\"},\"line_color\":{\"field\":\"line_color\"},\"width\":{\"field\":\"width\",\"units\":\"data\"},\"x\":{\"field\":\"x\"},\"y\":{\"field\":\"y\"}},\"id\":\"ff9a2bae-4952-4e8b-875d-b56422244776\",\"type\":\"Rect\"},{\"attributes\":{\"callback\":null,\"column_names\":[\"fill_alpha\",\"line_color\",\"y\",\"line_alpha\",\"height\",\"width\",\"x\",\"color\",\"label\"],\"data\":{\"chart_index\":[\"(29.040111, 31.014077]\"],\"color\":[\"#f22c40\"],\"fill_alpha\":[0.8],\"height\":[111.0],\"label\":[\"(29.040111, 31.014077]\"],\"line_alpha\":[1.0],\"line_color\":[\"black\"],\"width\":[1.9739660980509122],\"x\":[\"30.027093999999998\"],\"y\":[55.5]}},\"id\":\"633352b6-975c-4fb7-987e-2a9299264b4a\",\"type\":\"ColumnDataSource\"},{\"attributes\":{\"callback\":null,\"end\":824.6199897832635,\"start\":-20.112369783263546},\"id\":\"6fc16618-c819-4548-bfad-a3f68a513651\",\"type\":\"Range1d\"},{\"attributes\":{\"callback\":null,\"column_names\":[\"fill_alpha\",\"line_color\",\"y\",\"line_alpha\",\"height\",\"width\",\"x\",\"color\",\"label\"],\"data\":{\"chart_index\":[\"(514.884787, 530.974926]\"],\"color\":[\"#f22c40\"],\"fill_alpha\":[0.8],\"height\":[16.0],\"label\":[\"(514.884787, 530.974926]\"],\"line_alpha\":[1.0],\"line_color\":[\"black\"],\"width\":[16.090139566527114],\"x\":[\"522.9298564999999\"],\"y\":[8.0]}},\"id\":\"1b445fb3-bcd9-486f-bcd4-5a59f153a2fa\",\"type\":\"ColumnDataSource\"},{\"attributes\":{\"callback\":null,\"column_names\":[\"fill_alpha\",\"line_color\",\"y\",\"line_alpha\",\"height\",\"width\",\"x\",\"color\",\"label\"],\"data\":{\"chart_index\":[\"(402.253810, 418.343949]\"],\"color\":[\"#f22c40\"],\"fill_alpha\":[0.8],\"height\":[16.0],\"label\":[\"(402.253810, 418.343949]\"],\"line_alpha\":[1.0],\"line_color\":[\"black\"],\"width\":[16.090139566527057],\"x\":[\"410.2988795\"],\"y\":[8.0]}},\"id\":\"7de95c35-1903-4966-a422-7e7195c30c41\",\"type\":\"ColumnDataSource\"},{\"attributes\":{\"fill_alpha\":{\"field\":\"fill_alpha\"},\"fill_color\":{\"field\":\"color\"},\"height\":{\"field\":\"height\",\"units\":\"data\"},\"line_color\":{\"field\":\"line_color\"},\"width\":{\"field\":\"width\",\"units\":\"data\"},\"x\":{\"field\":\"x\"},\"y\":{\"field\":\"y\"}},\"id\":\"a85b97e1-e5fb-4e09-9a8d-4b9c0620d588\",\"type\":\"Rect\"},{\"attributes\":{\"data_source\":{\"id\":\"629ba8ce-8906-4243-8718-66522b3bebf7\",\"type\":\"ColumnDataSource\"},\"glyph\":{\"id\":\"2bb81b52-dc49-4ed8-bbb1-09a5277ee038\",\"type\":\"Rect\"},\"hover_glyph\":null,\"nonselection_glyph\":null,\"selection_glyph\":null},\"id\":\"f061932b-ab88-4a9c-9b8f-0ad6ad1d5f42\",\"type\":\"GlyphRenderer\"},{\"attributes\":{\"fill_alpha\":{\"field\":\"fill_alpha\"},\"fill_color\":{\"field\":\"color\"},\"height\":{\"field\":\"height\",\"units\":\"data\"},\"line_color\":{\"field\":\"line_color\"},\"width\":{\"field\":\"width\",\"units\":\"data\"},\"x\":{\"field\":\"x\"},\"y\":{\"field\":\"y\"}},\"id\":\"c41b8ec0-b075-49f1-8524-fd16d0b7a16d\",\"type\":\"Rect\"},{\"attributes\":{\"data_source\":{\"id\":\"df412f27-5280-4f7d-8ceb-e220990b962a\",\"type\":\"ColumnDataSource\"},\"glyph\":{\"id\":\"7513435e-31d0-4b36-9e88-699fd48062e5\",\"type\":\"Rect\"},\"hover_glyph\":null,\"nonselection_glyph\":null,\"selection_glyph\":null},\"id\":\"677d489d-35ae-4015-8e7a-8cecaa3380a4\",\"type\":\"GlyphRenderer\"},{\"attributes\":{\"fill_alpha\":{\"field\":\"fill_alpha\"},\"fill_color\":{\"field\":\"color\"},\"height\":{\"field\":\"height\",\"units\":\"data\"},\"line_color\":{\"field\":\"line_color\"},\"width\":{\"field\":\"width\",\"units\":\"data\"},\"x\":{\"field\":\"x\"},\"y\":{\"field\":\"y\"}},\"id\":\"a56e8718-6efb-4c06-8fab-146847eee370\",\"type\":\"Rect\"},{\"attributes\":{\"fill_alpha\":{\"field\":\"fill_alpha\"},\"fill_color\":{\"field\":\"color\"},\"height\":{\"field\":\"height\",\"units\":\"data\"},\"line_color\":{\"field\":\"line_color\"},\"width\":{\"field\":\"width\",\"units\":\"data\"},\"x\":{\"field\":\"x\"},\"y\":{\"field\":\"y\"}},\"id\":\"8077158b-724f-4328-b53b-cb16f6354f31\",\"type\":\"Rect\"},{\"attributes\":{\"data_source\":{\"id\":\"8d81aaad-81e2-4550-a87f-d482f4f1a0d5\",\"type\":\"ColumnDataSource\"},\"glyph\":{\"id\":\"134cdce1-e55a-42e3-8c3a-e4745366e6a9\",\"type\":\"Rect\"},\"hover_glyph\":null,\"nonselection_glyph\":null,\"selection_glyph\":null},\"id\":\"ab580655-de2d-4626-ab87-24f9572cc99a\",\"type\":\"GlyphRenderer\"},{\"attributes\":{\"fill_alpha\":{\"field\":\"fill_alpha\"},\"fill_color\":{\"field\":\"color\"},\"height\":{\"field\":\"height\",\"units\":\"data\"},\"line_color\":{\"field\":\"line_color\"},\"width\":{\"field\":\"width\",\"units\":\"data\"},\"x\":{\"field\":\"x\"},\"y\":{\"field\":\"y\"}},\"id\":\"134cdce1-e55a-42e3-8c3a-e4745366e6a9\",\"type\":\"Rect\"},{\"attributes\":{\"plot\":{\"id\":\"8882f968-5c95-40a6-97b9-82107bc72984\",\"subtype\":\"Chart\",\"type\":\"Plot\"}},\"id\":\"04ad4485-d4c3-47bd-b909-c78895089205\",\"type\":\"HelpTool\"},{\"attributes\":{\"data_source\":{\"id\":\"75904894-14fb-4ca7-a3cf-907848cb348c\",\"type\":\"ColumnDataSource\"},\"glyph\":{\"id\":\"cd6a7f9f-23de-4c72-89df-d138b34ca0e0\",\"type\":\"Rect\"},\"hover_glyph\":null,\"nonselection_glyph\":null,\"selection_glyph\":null},\"id\":\"f905bd8e-d9f8-49b2-ae42-115960f8b303\",\"type\":\"GlyphRenderer\"},{\"attributes\":{\"fill_alpha\":{\"field\":\"fill_alpha\"},\"fill_color\":{\"field\":\"color\"},\"height\":{\"field\":\"height\",\"units\":\"data\"},\"line_color\":{\"field\":\"line_color\"},\"width\":{\"field\":\"width\",\"units\":\"data\"},\"x\":{\"field\":\"x\"},\"y\":{\"field\":\"y\"}},\"id\":\"8f5c7d1f-639d-4af3-bb3f-8cbf20bd2241\",\"type\":\"Rect\"},{\"attributes\":{\"data_source\":{\"id\":\"17270bde-862a-40d7-bc0d-e6a5fef951b6\",\"type\":\"ColumnDataSource\"},\"glyph\":{\"id\":\"fb1de112-05ee-4c0a-9f01-b6c9f94dc6fa\",\"type\":\"Rect\"},\"hover_glyph\":null,\"nonselection_glyph\":null,\"selection_glyph\":null},\"id\":\"b3eca3d4-d6ea-4053-b327-3f3b977a3395\",\"type\":\"GlyphRenderer\"},{\"attributes\":{\"location\":\"top_left\",\"plot\":{\"id\":\"8882f968-5c95-40a6-97b9-82107bc72984\",\"subtype\":\"Chart\",\"type\":\"Plot\"}},\"id\":\"aee4ed33-a538-4c0d-baa1-22b034b9e684\",\"type\":\"Legend\"},{\"attributes\":{\"fill_alpha\":{\"field\":\"fill_alpha\"},\"fill_color\":{\"field\":\"color\"},\"height\":{\"field\":\"height\",\"units\":\"data\"},\"line_color\":{\"field\":\"line_color\"},\"width\":{\"field\":\"width\",\"units\":\"data\"},\"x\":{\"field\":\"x\"},\"y\":{\"field\":\"y\"}},\"id\":\"6febe5c2-f8db-4849-98e5-0b3102f60e14\",\"type\":\"Rect\"},{\"attributes\":{\"plot\":{\"id\":\"aa6e7afa-191b-4b23-9254-e85c48fbf314\",\"subtype\":\"Chart\",\"type\":\"Plot\"}},\"id\":\"73448f4e-144c-4d9b-8895-dd3158580a25\",\"type\":\"HelpTool\"},{\"attributes\":{\"fill_alpha\":{\"field\":\"fill_alpha\"},\"fill_color\":{\"field\":\"color\"},\"height\":{\"field\":\"height\",\"units\":\"data\"},\"line_color\":{\"field\":\"line_color\"},\"width\":{\"field\":\"width\",\"units\":\"data\"},\"x\":{\"field\":\"x\"},\"y\":{\"field\":\"y\"}},\"id\":\"db07252b-ac1a-480e-b794-df955a058db8\",\"type\":\"Rect\"},{\"attributes\":{\"callback\":null,\"column_names\":[\"fill_alpha\",\"line_color\",\"y\",\"line_alpha\",\"height\",\"width\",\"x\",\"color\",\"label\"],\"data\":{\"chart_index\":[\"(50.003758, 52.003615]\"],\"color\":[\"#f22c40\"],\"fill_alpha\":[0.8],\"height\":[210.0],\"label\":[\"(50.003758, 52.003615]\"],\"line_alpha\":[1.0],\"line_color\":[\"black\"],\"width\":[1.999857247275834],\"x\":[\"51.0036865\"],\"y\":[105.0]}},\"id\":\"63ad8bd4-8c00-4a5c-941d-d63efd3131b3\",\"type\":\"ColumnDataSource\"},{\"attributes\":{\"data_source\":{\"id\":\"afe7faa2-158f-4a48-87a3-445b53e78927\",\"type\":\"ColumnDataSource\"},\"glyph\":{\"id\":\"d79ee9a7-9b40-49a7-a576-619b2f00ef39\",\"type\":\"Rect\"},\"hover_glyph\":null,\"nonselection_glyph\":null,\"selection_glyph\":null},\"id\":\"741e90a8-99bc-481a-a441-9dc393099bf8\",\"type\":\"GlyphRenderer\"},{\"attributes\":{\"data_source\":{\"id\":\"b52b83cf-02df-408c-8221-52d268045465\",\"type\":\"ColumnDataSource\"},\"glyph\":{\"id\":\"8f5c7d1f-639d-4af3-bb3f-8cbf20bd2241\",\"type\":\"Rect\"},\"hover_glyph\":null,\"nonselection_glyph\":null,\"selection_glyph\":null},\"id\":\"a42f167a-938c-4fa9-bbb6-317f5086a8cc\",\"type\":\"GlyphRenderer\"},{\"attributes\":{\"data_source\":{\"id\":\"7f20c050-741c-4170-a43d-bf323fd46f1e\",\"type\":\"ColumnDataSource\"},\"glyph\":{\"id\":\"db5d69a5-c165-4ebd-852a-c924cecb3ec5\",\"type\":\"Rect\"},\"hover_glyph\":null,\"nonselection_glyph\":null,\"selection_glyph\":null},\"id\":\"3791bb87-dc7f-4976-bf97-73f72678b408\",\"type\":\"GlyphRenderer\"},{\"attributes\":{\"data_source\":{\"id\":\"8ad5b6bf-eccb-4036-a613-291e1387daea\",\"type\":\"ColumnDataSource\"},\"glyph\":{\"id\":\"a6799848-fc1e-411d-9ae8-0732daf20ba6\",\"type\":\"Rect\"},\"hover_glyph\":null,\"nonselection_glyph\":null,\"selection_glyph\":null},\"id\":\"3204f32c-6c73-4a97-bb77-3002d5ca8d9f\",\"type\":\"GlyphRenderer\"},{\"attributes\":{\"fill_alpha\":{\"field\":\"fill_alpha\"},\"fill_color\":{\"field\":\"color\"},\"height\":{\"field\":\"height\",\"units\":\"data\"},\"line_color\":{\"field\":\"line_color\"},\"width\":{\"field\":\"width\",\"units\":\"data\"},\"x\":{\"field\":\"x\"},\"y\":{\"field\":\"y\"}},\"id\":\"27b1f9a1-4b42-4cec-b145-89e614ec7023\",\"type\":\"Rect\"},{\"attributes\":{\"data_source\":{\"id\":\"663fd37a-fd33-4b53-bc06-f00cde58360f\",\"type\":\"ColumnDataSource\"},\"glyph\":{\"id\":\"c10189b5-012a-49de-81ef-7c7c6d844235\",\"type\":\"Rect\"},\"hover_glyph\":null,\"nonselection_glyph\":null,\"selection_glyph\":null},\"id\":\"cbe1c228-3e97-411b-84e4-f82c6cfdfa8c\",\"type\":\"GlyphRenderer\"},{\"attributes\":{\"data_source\":{\"id\":\"69d0a376-cd7a-4fb7-bb94-9e5e20dedd19\",\"type\":\"ColumnDataSource\"},\"glyph\":{\"id\":\"6bebc320-aa86-4e6a-855e-7fe5975c671b\",\"type\":\"Rect\"},\"hover_glyph\":null,\"nonselection_glyph\":null,\"selection_glyph\":null},\"id\":\"0dc14dc6-55c8-42e1-aa13-e972bd6d97d1\",\"type\":\"GlyphRenderer\"},{\"attributes\":{\"callback\":null,\"column_names\":[\"fill_alpha\",\"line_color\",\"y\",\"line_alpha\",\"height\",\"width\",\"x\",\"color\",\"label\"],\"data\":{\"chart_index\":[\"(24.904357, 26.426190]\"],\"color\":[\"#f22c40\"],\"fill_alpha\":[0.8],\"height\":[215.0],\"label\":[\"(24.904357, 26.426190]\"],\"line_alpha\":[1.0],\"line_color\":[\"black\"],\"width\":[1.521833097158865],\"x\":[\"25.665273499999998\"],\"y\":[107.5]}},\"id\":\"2dc12988-c9d4-4047-91c7-40a3b52471d1\",\"type\":\"ColumnDataSource\"},{\"attributes\":{\"fill_alpha\":{\"field\":\"fill_alpha\"},\"fill_color\":{\"field\":\"color\"},\"height\":{\"field\":\"height\",\"units\":\"data\"},\"line_color\":{\"field\":\"line_color\"},\"width\":{\"field\":\"width\",\"units\":\"data\"},\"x\":{\"field\":\"x\"},\"y\":{\"field\":\"y\"}},\"id\":\"1932af62-a96d-4fe9-830a-ef94ec9af7fe\",\"type\":\"Rect\"},{\"attributes\":{\"fill_alpha\":{\"field\":\"fill_alpha\"},\"fill_color\":{\"field\":\"color\"},\"height\":{\"field\":\"height\",\"units\":\"data\"},\"line_color\":{\"field\":\"line_color\"},\"width\":{\"field\":\"width\",\"units\":\"data\"},\"x\":{\"field\":\"x\"},\"y\":{\"field\":\"y\"}},\"id\":\"90130e33-2a1d-4ada-a67c-728b4d7a2cd7\",\"type\":\"Rect\"},{\"attributes\":{\"callback\":null,\"column_names\":[\"fill_alpha\",\"line_color\",\"y\",\"line_alpha\",\"height\",\"width\",\"x\",\"color\",\"label\"],\"data\":{\"chart_index\":[\"(70.559350, 72.081183]\"],\"color\":[\"#f22c40\"],\"fill_alpha\":[0.8],\"height\":[7.0],\"label\":[\"(70.559350, 72.081183]\"],\"line_alpha\":[1.0],\"line_color\":[\"black\"],\"width\":[1.5218330971588614],\"x\":[\"71.3202665\"],\"y\":[3.5]}},\"id\":\"0f575eed-9586-4eaa-88c3-0ebcec63e41c\",\"type\":\"ColumnDataSource\"},{\"attributes\":{\"data_source\":{\"id\":\"5e6df213-ef6b-46c6-b117-4bb9272af2cf\",\"type\":\"ColumnDataSource\"},\"glyph\":{\"id\":\"791446ce-71ed-4493-afa8-328d2d2b2d80\",\"type\":\"Rect\"},\"hover_glyph\":null,\"nonselection_glyph\":null,\"selection_glyph\":null},\"id\":\"723e68d7-3415-4751-95ab-89f036a14d6b\",\"type\":\"GlyphRenderer\"},{\"attributes\":{\"fill_alpha\":{\"field\":\"fill_alpha\"},\"fill_color\":{\"field\":\"color\"},\"height\":{\"field\":\"height\",\"units\":\"data\"},\"line_color\":{\"field\":\"line_color\"},\"width\":{\"field\":\"width\",\"units\":\"data\"},\"x\":{\"field\":\"x\"},\"y\":{\"field\":\"y\"}},\"id\":\"79922c35-f50a-4a0c-b926-0da83ba5acc6\",\"type\":\"Rect\"},{\"attributes\":{\"callback\":null,\"column_names\":[\"fill_alpha\",\"line_color\",\"y\",\"line_alpha\",\"height\",\"width\",\"x\",\"color\",\"label\"],\"data\":{\"chart_index\":[\"(32.180600, 48.270739]\"],\"color\":[\"#f22c40\"],\"fill_alpha\":[0.8],\"height\":[1039.0],\"label\":[\"(32.180600, 48.270739]\"],\"line_alpha\":[1.0],\"line_color\":[\"black\"],\"width\":[16.090139566527093],\"x\":[\"40.225669499999995\"],\"y\":[519.5]}},\"id\":\"bcce8ba5-3f0d-4266-b296-82ecbb3fac3e\",\"type\":\"ColumnDataSource\"},{\"attributes\":{\"callback\":null,\"column_names\":[\"fill_alpha\",\"line_color\",\"y\",\"line_alpha\",\"height\",\"width\",\"x\",\"color\",\"label\"],\"data\":{\"chart_index\":[\"(44.831840, 46.805806]\"],\"color\":[\"#f22c40\"],\"fill_alpha\":[0.8],\"height\":[219.0],\"label\":[\"(44.831840, 46.805806]\"],\"line_alpha\":[1.0],\"line_color\":[\"black\"],\"width\":[1.9739660980509086],\"x\":[\"45.818822999999995\"],\"y\":[109.5]}},\"id\":\"8495c94a-0d79-49d9-b287-77059b8aa16f\",\"type\":\"ColumnDataSource\"},{\"attributes\":{\"fill_alpha\":{\"field\":\"fill_alpha\"},\"fill_color\":{\"field\":\"color\"},\"height\":{\"field\":\"height\",\"units\":\"data\"},\"line_color\":{\"field\":\"line_color\"},\"width\":{\"field\":\"width\",\"units\":\"data\"},\"x\":{\"field\":\"x\"},\"y\":{\"field\":\"y\"}},\"id\":\"72f159b8-991c-48bc-9e8f-05a70b58a202\",\"type\":\"Rect\"},{\"attributes\":{\"data_source\":{\"id\":\"d273455e-c80d-4c04-845d-b30576abae85\",\"type\":\"ColumnDataSource\"},\"glyph\":{\"id\":\"de50b884-b8aa-4616-950f-7bd471051322\",\"type\":\"Rect\"},\"hover_glyph\":null,\"nonselection_glyph\":null,\"selection_glyph\":null},\"id\":\"6d531c0d-b8c1-4dc1-a7dd-a3aabf6c7730\",\"type\":\"GlyphRenderer\"},{\"attributes\":{\"callback\":null,\"column_names\":[\"fill_alpha\",\"line_color\",\"y\",\"line_alpha\",\"height\",\"width\",\"x\",\"color\",\"label\"],\"data\":{\"chart_index\":[\"(42.857874, 44.831840]\"],\"color\":[\"#f22c40\"],\"fill_alpha\":[0.8],\"height\":[210.0],\"label\":[\"(42.857874, 44.831840]\"],\"line_alpha\":[1.0],\"line_color\":[\"black\"],\"width\":[1.9739660980509157],\"x\":[\"43.844857000000005\"],\"y\":[105.0]}},\"id\":\"7f4c7f28-ea03-4e57-9c34-b4f30f16e9cd\",\"type\":\"ColumnDataSource\"},{\"attributes\":{\"fill_alpha\":{\"field\":\"fill_alpha\"},\"fill_color\":{\"field\":\"color\"},\"height\":{\"field\":\"height\",\"units\":\"data\"},\"line_color\":{\"field\":\"line_color\"},\"width\":{\"field\":\"width\",\"units\":\"data\"},\"x\":{\"field\":\"x\"},\"y\":{\"field\":\"y\"}},\"id\":\"50aa42f3-69eb-4007-8045-4b79d1c1266b\",\"type\":\"Rect\"},{\"attributes\":{\"data_source\":{\"id\":\"4b689272-078d-4e55-a6f6-46a67bfb02de\",\"type\":\"ColumnDataSource\"},\"glyph\":{\"id\":\"ec0e63a6-8bfa-48a3-b83c-881cf3859c61\",\"type\":\"Rect\"},\"hover_glyph\":null,\"nonselection_glyph\":null,\"selection_glyph\":null},\"id\":\"aa0734cf-b464-4a32-844a-a7b613c4965f\",\"type\":\"GlyphRenderer\"},{\"attributes\":{\"callback\":null,\"column_names\":[\"fill_alpha\",\"line_color\",\"y\",\"line_alpha\",\"height\",\"width\",\"x\",\"color\",\"label\"],\"data\":{\"chart_index\":[\"(547.065066, 563.155206]\"],\"color\":[\"#f22c40\"],\"fill_alpha\":[0.8],\"height\":[6.0],\"label\":[\"(547.065066, 563.155206]\"],\"line_alpha\":[1.0],\"line_color\":[\"black\"],\"width\":[16.090139566527],\"x\":[\"555.110136\"],\"y\":[3.0]}},\"id\":\"a933f509-f251-426a-bf96-9dec75588d1d\",\"type\":\"ColumnDataSource\"},{\"attributes\":{\"data_source\":{\"id\":\"0590c16a-77bc-492e-a7a8-e5a7f4cc2602\",\"type\":\"ColumnDataSource\"},\"glyph\":{\"id\":\"6634afa5-df2e-47ce-9514-f394974a3883\",\"type\":\"Rect\"},\"hover_glyph\":null,\"nonselection_glyph\":null,\"selection_glyph\":null},\"id\":\"39a7ae81-7841-478d-ab1f-b02d478a0548\",\"type\":\"GlyphRenderer\"},{\"attributes\":{\"data_source\":{\"id\":\"99f7fd47-2517-42cb-b43f-5466bc99ca3d\",\"type\":\"ColumnDataSource\"},\"glyph\":{\"id\":\"a85b97e1-e5fb-4e09-9a8d-4b9c0620d588\",\"type\":\"Rect\"},\"hover_glyph\":null,\"nonselection_glyph\":null,\"selection_glyph\":null},\"id\":\"6f75e448-b197-43fa-860d-beb051e2ebca\",\"type\":\"GlyphRenderer\"},{\"attributes\":{\"data_source\":{\"id\":\"25d115e3-fd19-46b4-93f0-61a352f2bbce\",\"type\":\"ColumnDataSource\"},\"glyph\":{\"id\":\"b819c9dd-e645-4479-8fb6-238d52e208e6\",\"type\":\"Rect\"},\"hover_glyph\":null,\"nonselection_glyph\":null,\"selection_glyph\":null},\"id\":\"073dbb38-c489-4cc8-af87-5488336c86ef\",\"type\":\"GlyphRenderer\"},{\"attributes\":{\"data_source\":{\"id\":\"9e44d102-1662-4b86-9892-5cac5d5ee599\",\"type\":\"ColumnDataSource\"},\"glyph\":{\"id\":\"d1ecd838-369d-48d4-8131-d62f3e0bc792\",\"type\":\"Rect\"},\"hover_glyph\":null,\"nonselection_glyph\":null,\"selection_glyph\":null},\"id\":\"703c2aba-0eac-4c65-8bc5-dc400edf379e\",\"type\":\"GlyphRenderer\"},{\"attributes\":{\"fill_alpha\":{\"field\":\"fill_alpha\"},\"fill_color\":{\"field\":\"color\"},\"height\":{\"field\":\"height\",\"units\":\"data\"},\"line_color\":{\"field\":\"line_color\"},\"width\":{\"field\":\"width\",\"units\":\"data\"},\"x\":{\"field\":\"x\"},\"y\":{\"field\":\"y\"}},\"id\":\"d106f357-8d03-43ab-8dfa-d5cb167a09da\",\"type\":\"Rect\"},{\"attributes\":{\"fill_alpha\":{\"field\":\"fill_alpha\"},\"fill_color\":{\"field\":\"color\"},\"height\":{\"field\":\"height\",\"units\":\"data\"},\"line_color\":{\"field\":\"line_color\"},\"width\":{\"field\":\"width\",\"units\":\"data\"},\"x\":{\"field\":\"x\"},\"y\":{\"field\":\"y\"}},\"id\":\"d6e4d626-a33b-47b3-b38b-8727bc7b2903\",\"type\":\"Rect\"},{\"attributes\":{\"fill_alpha\":{\"field\":\"fill_alpha\"},\"fill_color\":{\"field\":\"color\"},\"height\":{\"field\":\"height\",\"units\":\"data\"},\"line_color\":{\"field\":\"line_color\"},\"width\":{\"field\":\"width\",\"units\":\"data\"},\"x\":{\"field\":\"x\"},\"y\":{\"field\":\"y\"}},\"id\":\"349837d4-75e7-4eb3-b40c-f14c500f9d71\",\"type\":\"Rect\"},{\"attributes\":{\"callback\":null,\"column_names\":[\"fill_alpha\",\"line_color\",\"y\",\"line_alpha\",\"height\",\"width\",\"x\",\"color\",\"label\"],\"data\":{\"chart_index\":[\"(115.894620, 117.868586]\"],\"color\":[\"#f22c40\"],\"fill_alpha\":[0.8],\"height\":[39.0],\"label\":[\"(115.894620, 117.868586]\"],\"line_alpha\":[1.0],\"line_color\":[\"black\"],\"width\":[1.9739660980509086],\"x\":[\"116.881603\"],\"y\":[19.5]}},\"id\":\"8be88a54-32e1-45b1-b285-ad6fb54ce219\",\"type\":\"ColumnDataSource\"},{\"attributes\":{\"callback\":null,\"column_names\":[\"fill_alpha\",\"line_color\",\"y\",\"line_alpha\",\"height\",\"width\",\"x\",\"color\",\"label\"],\"data\":{\"chart_index\":[\"(61.428352, 62.950185]\"],\"color\":[\"#f22c40\"],\"fill_alpha\":[0.8],\"height\":[47.0],\"label\":[\"(61.428352, 62.950185]\"],\"line_alpha\":[1.0],\"line_color\":[\"black\"],\"width\":[1.5218330971588685],\"x\":[\"62.1892685\"],\"y\":[23.5]}},\"id\":\"56cf731a-5121-4134-8a11-ca5342826969\",\"type\":\"ColumnDataSource\"},{\"attributes\":{\"fill_alpha\":{\"field\":\"fill_alpha\"},\"fill_color\":{\"field\":\"color\"},\"height\":{\"field\":\"height\",\"units\":\"data\"},\"line_color\":{\"field\":\"line_color\"},\"width\":{\"field\":\"width\",\"units\":\"data\"},\"x\":{\"field\":\"x\"},\"y\":{\"field\":\"y\"}},\"id\":\"b43b36e3-8811-4df6-a728-435cb87017c0\",\"type\":\"Rect\"},{\"attributes\":{\"fill_alpha\":{\"field\":\"fill_alpha\"},\"fill_color\":{\"field\":\"color\"},\"height\":{\"field\":\"height\",\"units\":\"data\"},\"line_color\":{\"field\":\"line_color\"},\"width\":{\"field\":\"width\",\"units\":\"data\"},\"x\":{\"field\":\"x\"},\"y\":{\"field\":\"y\"}},\"id\":\"3740fc43-4650-48b5-9d60-0c6f12304bfe\",\"type\":\"Rect\"},{\"attributes\":{\"fill_alpha\":{\"field\":\"fill_alpha\"},\"fill_color\":{\"field\":\"color\"},\"height\":{\"field\":\"height\",\"units\":\"data\"},\"line_color\":{\"field\":\"line_color\"},\"width\":{\"field\":\"width\",\"units\":\"data\"},\"x\":{\"field\":\"x\"},\"y\":{\"field\":\"y\"}},\"id\":\"cd6a7f9f-23de-4c72-89df-d138b34ca0e0\",\"type\":\"Rect\"},{\"attributes\":{\"callback\":null,\"column_names\":[\"fill_alpha\",\"line_color\",\"y\",\"line_alpha\",\"height\",\"width\",\"x\",\"color\",\"label\"],\"data\":{\"chart_index\":[\"(70.002330, 72.002187]\"],\"color\":[\"#f22c40\"],\"fill_alpha\":[0.8],\"height\":[196.0],\"label\":[\"(70.002330, 72.002187]\"],\"line_alpha\":[1.0],\"line_color\":[\"black\"],\"width\":[1.999857247275827],\"x\":[\"71.00225850000001\"],\"y\":[98.0]}},\"id\":\"25f692fc-f765-44f7-8f46-76b0fe0b8840\",\"type\":\"ColumnDataSource\"},{\"attributes\":{\"data_source\":{\"id\":\"1e67df9b-2ed4-40f4-a7d4-79cc61a2a892\",\"type\":\"ColumnDataSource\"},\"glyph\":{\"id\":\"23793062-b139-4f6d-8ad3-e3eb77251ef9\",\"type\":\"Rect\"},\"hover_glyph\":null,\"nonselection_glyph\":null,\"selection_glyph\":null},\"id\":\"b5bd9b1d-f2a7-4a7e-859b-e95c26a5b2a9\",\"type\":\"GlyphRenderer\"},{\"attributes\":{\"data_source\":{\"id\":\"633a21f8-3778-4e08-b2f2-a9e300810d0f\",\"type\":\"ColumnDataSource\"},\"glyph\":{\"id\":\"349837d4-75e7-4eb3-b40c-f14c500f9d71\",\"type\":\"Rect\"},\"hover_glyph\":null,\"nonselection_glyph\":null,\"selection_glyph\":null},\"id\":\"26abdfda-f87c-43a1-9f63-9761037b4663\",\"type\":\"GlyphRenderer\"},{\"attributes\":{\"data_source\":{\"id\":\"9e8ded8d-9fec-4b66-99c6-c9ce607545f4\",\"type\":\"ColumnDataSource\"},\"glyph\":{\"id\":\"11c1a508-390b-4112-8570-aa192644fc2d\",\"type\":\"Rect\"},\"hover_glyph\":null,\"nonselection_glyph\":null,\"selection_glyph\":null},\"id\":\"9125957d-bf9b-4aec-bf25-6b236f827918\",\"type\":\"GlyphRenderer\"},{\"attributes\":{\"callback\":null,\"column_names\":[\"fill_alpha\",\"line_color\",\"y\",\"line_alpha\",\"height\",\"width\",\"x\",\"color\",\"label\"],\"data\":{\"chart_index\":[\"(29.469856, 30.991690]\"],\"color\":[\"#f22c40\"],\"fill_alpha\":[0.8],\"height\":[359.0],\"label\":[\"(29.469856, 30.991690]\"],\"line_alpha\":[1.0],\"line_color\":[\"black\"],\"width\":[1.521833097158865],\"x\":[\"30.230773\"],\"y\":[179.5]}},\"id\":\"662c549a-1e5c-43d4-9ccf-50b67e5d4a95\",\"type\":\"ColumnDataSource\"},{\"attributes\":{\"fill_alpha\":{\"field\":\"fill_alpha\"},\"fill_color\":{\"field\":\"color\"},\"height\":{\"field\":\"height\",\"units\":\"data\"},\"line_color\":{\"field\":\"line_color\"},\"width\":{\"field\":\"width\",\"units\":\"data\"},\"x\":{\"field\":\"x\"},\"y\":{\"field\":\"y\"}},\"id\":\"c9594e57-4a35-4d75-a8f8-75934d90cdf0\",\"type\":\"Rect\"},{\"attributes\":{\"callback\":null,\"column_names\":[\"fill_alpha\",\"line_color\",\"y\",\"line_alpha\",\"height\",\"width\",\"x\",\"color\",\"label\"],\"data\":{\"chart_index\":[\"(92.207026, 94.180992]\"],\"color\":[\"#f22c40\"],\"fill_alpha\":[0.8],\"height\":[246.0],\"label\":[\"(92.207026, 94.180992]\"],\"line_alpha\":[1.0],\"line_color\":[\"black\"],\"width\":[1.9739660980509086],\"x\":[\"93.194009\"],\"y\":[123.0]}},\"id\":\"53b2bcc8-be25-46ba-b526-9459acc38cb6\",\"type\":\"ColumnDataSource\"},{\"attributes\":{\"callback\":null,\"column_names\":[\"fill_alpha\",\"line_color\",\"y\",\"line_alpha\",\"height\",\"width\",\"x\",\"color\",\"label\"],\"data\":{\"chart_index\":[\"(12.729692, 14.251526]\"],\"color\":[\"#f22c40\"],\"fill_alpha\":[0.8],\"height\":[16.0],\"label\":[\"(12.729692, 14.251526]\"],\"line_alpha\":[1.0],\"line_color\":[\"black\"],\"width\":[1.5218330971588632],\"x\":[\"13.490609\"],\"y\":[8.0]}},\"id\":\"2af3031c-e1e9-4fd5-b294-d21a849a9340\",\"type\":\"ColumnDataSource\"},{\"attributes\":{\"axis_label\":\"a\",\"formatter\":{\"id\":\"c6048169-02fb-404a-83a1-76c6e02b19a4\",\"type\":\"BasicTickFormatter\"},\"plot\":{\"id\":\"8882f968-5c95-40a6-97b9-82107bc72984\",\"subtype\":\"Chart\",\"type\":\"Plot\"},\"ticker\":{\"id\":\"e2b7b703-13a6-4395-b6ff-439a25f39a57\",\"type\":\"BasicTicker\"}},\"id\":\"bbc0ee48-1f86-4d28-815c-29c96bd45923\",\"type\":\"LinearAxis\"},{\"attributes\":{\"fill_alpha\":{\"field\":\"fill_alpha\"},\"fill_color\":{\"field\":\"color\"},\"height\":{\"field\":\"height\",\"units\":\"data\"},\"line_color\":{\"field\":\"line_color\"},\"width\":{\"field\":\"width\",\"units\":\"data\"},\"x\":{\"field\":\"x\"},\"y\":{\"field\":\"y\"}},\"id\":\"9c935147-cdd3-4e7e-91e3-cc5c0b1b1c3b\",\"type\":\"Rect\"},{\"attributes\":{\"fill_alpha\":{\"field\":\"fill_alpha\"},\"fill_color\":{\"field\":\"color\"},\"height\":{\"field\":\"height\",\"units\":\"data\"},\"line_color\":{\"field\":\"line_color\"},\"width\":{\"field\":\"width\",\"units\":\"data\"},\"x\":{\"field\":\"x\"},\"y\":{\"field\":\"y\"}},\"id\":\"a9e29096-6048-4056-b24e-51a969cfee8e\",\"type\":\"Rect\"},{\"attributes\":{\"callback\":null,\"column_names\":[\"fill_alpha\",\"line_color\",\"y\",\"line_alpha\",\"height\",\"width\",\"x\",\"color\",\"label\"],\"data\":{\"chart_index\":[\"(160.901716, 176.991856]\"],\"color\":[\"#f22c40\"],\"fill_alpha\":[0.8],\"height\":[295.0],\"label\":[\"(160.901716, 176.991856]\"],\"line_alpha\":[1.0],\"line_color\":[\"black\"],\"width\":[16.090139566527114],\"x\":[\"168.946786\"],\"y\":[147.5]}},\"id\":\"e39fd5eb-a1fe-4fa2-b597-6b5f8fd9302d\",\"type\":\"ColumnDataSource\"},{\"attributes\":{\"callback\":null,\"column_names\":[\"fill_alpha\",\"line_color\",\"y\",\"line_alpha\",\"height\",\"width\",\"x\",\"color\",\"label\"],\"data\":{\"chart_index\":[\"(56.862852, 58.384685]\"],\"color\":[\"#f22c40\"],\"fill_alpha\":[0.8],\"height\":[146.0],\"label\":[\"(56.862852, 58.384685]\"],\"line_alpha\":[1.0],\"line_color\":[\"black\"],\"width\":[1.5218330971588685],\"x\":[\"57.6237685\"],\"y\":[73.0]}},\"id\":\"260243ec-dba2-4b16-b217-c63ca7e024b6\",\"type\":\"ColumnDataSource\"},{\"attributes\":{\"data_source\":{\"id\":\"e487f9f6-d46a-47c6-9820-0aa8b8164655\",\"type\":\"ColumnDataSource\"},\"glyph\":{\"id\":\"194e0ba8-742c-4c4b-b7f0-8a67101f7139\",\"type\":\"Rect\"},\"hover_glyph\":null,\"nonselection_glyph\":null,\"selection_glyph\":null},\"id\":\"3d577ccc-1450-446d-9515-781edd5ac695\",\"type\":\"GlyphRenderer\"},{\"attributes\":{\"fill_alpha\":{\"field\":\"fill_alpha\"},\"fill_color\":{\"field\":\"color\"},\"height\":{\"field\":\"height\",\"units\":\"data\"},\"line_color\":{\"field\":\"line_color\"},\"width\":{\"field\":\"width\",\"units\":\"data\"},\"x\":{\"field\":\"x\"},\"y\":{\"field\":\"y\"}},\"id\":\"21c444ee-aa31-4d1e-aa54-8b672f60e1c6\",\"type\":\"Rect\"},{\"attributes\":{\"data_source\":{\"id\":\"d5a3adf2-4d33-4d96-a798-85431e03bc64\",\"type\":\"ColumnDataSource\"},\"glyph\":{\"id\":\"5f12d553-9e8b-4ad6-9205-e32dfc942f68\",\"type\":\"Rect\"},\"hover_glyph\":null,\"nonselection_glyph\":null,\"selection_glyph\":null},\"id\":\"79c366ee-eb81-4b15-a4c2-56eef0e2d022\",\"type\":\"GlyphRenderer\"},{\"attributes\":{\"children\":[{\"id\":\"ea1f27d3-388d-4e34-b976-4573f9f24332\",\"subtype\":\"Chart\",\"type\":\"Plot\"},{\"id\":\"8882f968-5c95-40a6-97b9-82107bc72984\",\"subtype\":\"Chart\",\"type\":\"Plot\"}]},\"id\":\"7582c1ca-e6da-49f0-b1bd-835ffb484027\",\"type\":\"Row\"},{\"attributes\":{\"data_source\":{\"id\":\"6f36f7e9-d3d5-4621-b25c-410d7ad216e6\",\"type\":\"ColumnDataSource\"},\"glyph\":{\"id\":\"90e7c603-f0b1-4c3d-8fa0-7e3e1104f1cb\",\"type\":\"Rect\"},\"hover_glyph\":null,\"nonselection_glyph\":null,\"selection_glyph\":null},\"id\":\"a1913fa1-43a2-4ec5-bb30-bc9964ca5e8d\",\"type\":\"GlyphRenderer\"},{\"attributes\":{\"fill_alpha\":{\"field\":\"fill_alpha\"},\"fill_color\":{\"field\":\"color\"},\"height\":{\"field\":\"height\",\"units\":\"data\"},\"line_color\":{\"field\":\"line_color\"},\"width\":{\"field\":\"width\",\"units\":\"data\"},\"x\":{\"field\":\"x\"},\"y\":{\"field\":\"y\"}},\"id\":\"e62b65af-b87a-483e-b1ab-bf3f4dc43241\",\"type\":\"Rect\"},{\"attributes\":{\"data_source\":{\"id\":\"3e5c3bde-9b0d-47d3-ac6c-83cdeed66d60\",\"type\":\"ColumnDataSource\"},\"glyph\":{\"id\":\"0d45baf4-7a6c-4702-9c01-721bf7a6fb7c\",\"type\":\"Rect\"},\"hover_glyph\":null,\"nonselection_glyph\":null,\"selection_glyph\":null},\"id\":\"e9fde7a4-c0a2-439f-869b-ad9375a47bef\",\"type\":\"GlyphRenderer\"},{\"attributes\":{\"fill_alpha\":{\"field\":\"fill_alpha\"},\"fill_color\":{\"field\":\"color\"},\"height\":{\"field\":\"height\",\"units\":\"data\"},\"line_color\":{\"field\":\"line_color\"},\"width\":{\"field\":\"width\",\"units\":\"data\"},\"x\":{\"field\":\"x\"},\"y\":{\"field\":\"y\"}},\"id\":\"935d712e-63d7-49b8-bd9f-07ddb06759a0\",\"type\":\"Rect\"},{\"attributes\":{\"data_source\":{\"id\":\"ed4ffd07-f06d-4871-bb67-5179b5eba875\",\"type\":\"ColumnDataSource\"},\"glyph\":{\"id\":\"d71f4555-8165-4a39-ab4f-9a7052c69b63\",\"type\":\"Rect\"},\"hover_glyph\":null,\"nonselection_glyph\":null,\"selection_glyph\":null},\"id\":\"35616e1f-2022-48b1-a6c4-0aa5e35e4740\",\"type\":\"GlyphRenderer\"},{\"attributes\":{\"callback\":null,\"column_names\":[\"fill_alpha\",\"line_color\",\"y\",\"line_alpha\",\"height\",\"width\",\"x\",\"color\",\"label\"],\"data\":{\"chart_index\":[\"(54.003472, 56.003330]\"],\"color\":[\"#f22c40\"],\"fill_alpha\":[0.8],\"height\":[190.0],\"label\":[\"(54.003472, 56.003330]\"],\"line_alpha\":[1.0],\"line_color\":[\"black\"],\"width\":[1.999857247275834],\"x\":[\"55.003401\"],\"y\":[95.0]}},\"id\":\"c1a3f139-c552-4722-9da0-0c4040379515\",\"type\":\"ColumnDataSource\"},{\"attributes\":{\"axis_label\":\"a\",\"formatter\":{\"id\":\"06769d04-eef6-4e3a-9795-df5fde9dfe96\",\"type\":\"BasicTickFormatter\"},\"plot\":{\"id\":\"aa6e7afa-191b-4b23-9254-e85c48fbf314\",\"subtype\":\"Chart\",\"type\":\"Plot\"},\"ticker\":{\"id\":\"0aa9e338-1031-4201-9d5f-f442c14325fb\",\"type\":\"BasicTicker\"}},\"id\":\"8e3b70bf-4217-45d0-a3ef-0dc2e049d7e6\",\"type\":\"LinearAxis\"},{\"attributes\":{\"data_source\":{\"id\":\"fce94dbd-86d3-4c29-9588-4e4621eee950\",\"type\":\"ColumnDataSource\"},\"glyph\":{\"id\":\"2a9deea9-6d4a-4c34-92e5-a8aa5d1b7130\",\"type\":\"Rect\"},\"hover_glyph\":null,\"nonselection_glyph\":null,\"selection_glyph\":null},\"id\":\"b581826f-b9a7-4f27-81fe-01272f1d5a0a\",\"type\":\"GlyphRenderer\"},{\"attributes\":{\"callback\":null,\"column_names\":[\"fill_alpha\",\"line_color\",\"y\",\"line_alpha\",\"height\",\"width\",\"x\",\"color\",\"label\"],\"data\":{\"chart_index\":[\"(74.002045, 76.001902]\"],\"color\":[\"#f22c40\"],\"fill_alpha\":[0.8],\"height\":[196.0],\"label\":[\"(74.002045, 76.001902]\"],\"line_alpha\":[1.0],\"line_color\":[\"black\"],\"width\":[1.999857247275827],\"x\":[\"75.00197349999999\"],\"y\":[98.0]}},\"id\":\"8622a171-345d-40c1-8d85-3897de6820ab\",\"type\":\"ColumnDataSource\"},{\"attributes\":{},\"id\":\"6e37be4a-7beb-404d-8310-c4f3ef52e4c1\",\"type\":\"BasicTicker\"},{\"attributes\":{\"fill_alpha\":{\"field\":\"fill_alpha\"},\"fill_color\":{\"field\":\"color\"},\"height\":{\"field\":\"height\",\"units\":\"data\"},\"line_color\":{\"field\":\"line_color\"},\"width\":{\"field\":\"width\",\"units\":\"data\"},\"x\":{\"field\":\"x\"},\"y\":{\"field\":\"y\"}},\"id\":\"c0bd71cc-da28-43cc-8360-ebad12ac684b\",\"type\":\"Rect\"},{\"attributes\":{\"fill_alpha\":{\"field\":\"fill_alpha\"},\"fill_color\":{\"field\":\"color\"},\"height\":{\"field\":\"height\",\"units\":\"data\"},\"line_color\":{\"field\":\"line_color\"},\"width\":{\"field\":\"width\",\"units\":\"data\"},\"x\":{\"field\":\"x\"},\"y\":{\"field\":\"y\"}},\"id\":\"dc376510-c5a0-4f67-ab81-bbd820f4c9ff\",\"type\":\"Rect\"},{\"attributes\":{\"fill_alpha\":{\"field\":\"fill_alpha\"},\"fill_color\":{\"field\":\"color\"},\"height\":{\"field\":\"height\",\"units\":\"data\"},\"line_color\":{\"field\":\"line_color\"},\"width\":{\"field\":\"width\",\"units\":\"data\"},\"x\":{\"field\":\"x\"},\"y\":{\"field\":\"y\"}},\"id\":\"4438845e-392b-4787-af24-c14f99bc2afb\",\"type\":\"Rect\"},{\"attributes\":{\"fill_alpha\":{\"field\":\"fill_alpha\"},\"fill_color\":{\"field\":\"color\"},\"height\":{\"field\":\"height\",\"units\":\"data\"},\"line_color\":{\"field\":\"line_color\"},\"width\":{\"field\":\"width\",\"units\":\"data\"},\"x\":{\"field\":\"x\"},\"y\":{\"field\":\"y\"}},\"id\":\"1bb641c4-5a4c-45a0-8a6c-0dc05e957ab5\",\"type\":\"Rect\"},{\"attributes\":{\"callback\":null,\"column_names\":[\"fill_alpha\",\"line_color\",\"y\",\"line_alpha\",\"height\",\"width\",\"x\",\"color\",\"label\"],\"data\":{\"chart_index\":[\"(176.991856, 193.081996]\"],\"color\":[\"#f22c40\"],\"fill_alpha\":[0.8],\"height\":[233.0],\"label\":[\"(176.991856, 193.081996]\"],\"line_alpha\":[1.0],\"line_color\":[\"black\"],\"width\":[16.090139566527085],\"x\":[\"185.036926\"],\"y\":[116.5]}},\"id\":\"d0ab07ab-662f-4b1b-bdf1-862affae14b7\",\"type\":\"ColumnDataSource\"},{\"attributes\":{\"callback\":null,\"column_names\":[\"fill_alpha\",\"line_color\",\"y\",\"line_alpha\",\"height\",\"width\",\"x\",\"color\",\"label\"],\"data\":{\"chart_index\":[\"(90.000903, 92.000760]\"],\"color\":[\"#f22c40\"],\"fill_alpha\":[0.8],\"height\":[209.0],\"label\":[\"(90.000903, 92.000760]\"],\"line_alpha\":[1.0],\"line_color\":[\"black\"],\"width\":[1.999857247275827],\"x\":[\"91.0008315\"],\"y\":[104.5]}},\"id\":\"56d6ca05-cab9-42d6-8449-217e1e5c329a\",\"type\":\"ColumnDataSource\"},{\"attributes\":{\"data_source\":{\"id\":\"72beb1e6-794f-47dd-9b8f-d3ff09886f4d\",\"type\":\"ColumnDataSource\"},\"glyph\":{\"id\":\"9627cb8e-4317-4824-91ef-62155d9274a4\",\"type\":\"Rect\"},\"hover_glyph\":null,\"nonselection_glyph\":null,\"selection_glyph\":null},\"id\":\"aa38a092-5da1-409c-9d5d-e8e2f0547816\",\"type\":\"GlyphRenderer\"},{\"attributes\":{\"below\":[{\"id\":\"2808709d-d469-496a-8c58-01ced4a64afc\",\"type\":\"LinearAxis\"}],\"css_classes\":null,\"height\":300,\"left\":[{\"id\":\"5b9060e8-dccd-4f84-860c-886da77bab07\",\"type\":\"LinearAxis\"}],\"renderers\":[{\"id\":\"4afdd7e6-5bee-484d-a6e8-6e4498ea164a\",\"type\":\"BoxAnnotation\"},{\"id\":\"967d4138-6d52-49ab-9de1-a6abda0de3f8\",\"type\":\"GlyphRenderer\"},{\"id\":\"0ae2790b-f20a-457f-8694-233deb468e23\",\"type\":\"GlyphRenderer\"},{\"id\":\"2e4486d6-3fbf-45ec-addb-55877a71d197\",\"type\":\"GlyphRenderer\"},{\"id\":\"097f777a-bf8b-4327-9d51-124a0f04a087\",\"type\":\"GlyphRenderer\"},{\"id\":\"7cba369d-f181-482b-bc6d-b8243cd6e830\",\"type\":\"GlyphRenderer\"},{\"id\":\"5448f1f1-ee64-40b7-8b61-9349a84f4128\",\"type\":\"GlyphRenderer\"},{\"id\":\"1ec20638-8fc9-4ead-b0b8-ee6c93f5d2c1\",\"type\":\"GlyphRenderer\"},{\"id\":\"ed743753-c6bd-4b02-a1b0-b5159396bf3e\",\"type\":\"GlyphRenderer\"},{\"id\":\"770d3e25-7123-417f-a2f8-4264b55fa649\",\"type\":\"GlyphRenderer\"},{\"id\":\"fc48bde5-6a8b-4321-a121-24435128955c\",\"type\":\"GlyphRenderer\"},{\"id\":\"1c0c220c-f6ab-4421-ba77-169eb48e5861\",\"type\":\"GlyphRenderer\"},{\"id\":\"4922e9dc-3149-44b8-b684-92e03c908e1c\",\"type\":\"GlyphRenderer\"},{\"id\":\"dd2b9d76-4364-44fb-aea2-f10525d10a7e\",\"type\":\"GlyphRenderer\"},{\"id\":\"6f75e448-b197-43fa-860d-beb051e2ebca\",\"type\":\"GlyphRenderer\"},{\"id\":\"3c15537d-0802-42ac-942b-cb89e9cbbb68\",\"type\":\"GlyphRenderer\"},{\"id\":\"049bb1a7-90db-4d74-9518-5bd62a9c4d06\",\"type\":\"GlyphRenderer\"},{\"id\":\"3791bb87-dc7f-4976-bf97-73f72678b408\",\"type\":\"GlyphRenderer\"},{\"id\":\"cad2e4aa-edf4-4a6e-b2a8-5dd183d43391\",\"type\":\"GlyphRenderer\"},{\"id\":\"677d489d-35ae-4015-8e7a-8cecaa3380a4\",\"type\":\"GlyphRenderer\"},{\"id\":\"6042434c-7366-4bf3-8e04-65d4700d4b4e\",\"type\":\"GlyphRenderer\"},{\"id\":\"6345a424-129b-4886-9257-3dd5c9387712\",\"type\":\"GlyphRenderer\"},{\"id\":\"71306da0-3f2a-4e2a-8424-3cb293252bfd\",\"type\":\"GlyphRenderer\"},{\"id\":\"52ef0a2e-7158-4ac6-a017-6ceee1962031\",\"type\":\"GlyphRenderer\"},{\"id\":\"e9fde7a4-c0a2-439f-869b-ad9375a47bef\",\"type\":\"GlyphRenderer\"},{\"id\":\"f9262360-4683-4628-bda4-2912dabf5b3b\",\"type\":\"GlyphRenderer\"},{\"id\":\"15a413a5-252f-4392-ac86-d6d551cfb0a9\",\"type\":\"GlyphRenderer\"},{\"id\":\"84e10783-8509-4682-a051-81bad0e543b6\",\"type\":\"GlyphRenderer\"},{\"id\":\"26226fb4-2ce4-4e64-b018-06f9ef05200e\",\"type\":\"GlyphRenderer\"},{\"id\":\"24e2365f-0b24-4e38-9178-321730dafd66\",\"type\":\"GlyphRenderer\"},{\"id\":\"c6d57868-0f18-4bfc-9b54-dff21e7bfaa6\",\"type\":\"GlyphRenderer\"},{\"id\":\"fc84e230-b767-4eb2-85a8-8d23ea9dc591\",\"type\":\"GlyphRenderer\"},{\"id\":\"e7b15a65-488b-4b05-aa01-015861033eb6\",\"type\":\"GlyphRenderer\"},{\"id\":\"2f75d3c0-c171-42f8-b2f9-1a36e6fd9130\",\"type\":\"GlyphRenderer\"},{\"id\":\"f5dbfeb6-c7db-4373-af43-34d83ece4366\",\"type\":\"GlyphRenderer\"},{\"id\":\"a926630c-89f8-494f-a97a-d455e8a3611a\",\"type\":\"GlyphRenderer\"},{\"id\":\"a6ffee91-018d-4788-9c55-de79f9c2a465\",\"type\":\"GlyphRenderer\"},{\"id\":\"41b55422-1d12-45ff-9ba3-0c9ea959faa7\",\"type\":\"GlyphRenderer\"},{\"id\":\"741e90a8-99bc-481a-a441-9dc393099bf8\",\"type\":\"GlyphRenderer\"},{\"id\":\"0fde23a5-77de-455c-b2c1-80f40be63034\",\"type\":\"GlyphRenderer\"},{\"id\":\"67c6f08c-fc61-4c51-80cf-1b80acac7f8f\",\"type\":\"GlyphRenderer\"},{\"id\":\"4d98bb96-5617-491b-8175-c6f40cd89f19\",\"type\":\"GlyphRenderer\"},{\"id\":\"d6e04041-e71f-46b1-8d03-7b890c0d58c6\",\"type\":\"GlyphRenderer\"},{\"id\":\"c8790760-494b-40ed-8b82-2dd2ee353045\",\"type\":\"GlyphRenderer\"},{\"id\":\"0303f9ef-9d54-467a-9bd1-cd8f39619766\",\"type\":\"GlyphRenderer\"},{\"id\":\"723e68d7-3415-4751-95ab-89f036a14d6b\",\"type\":\"GlyphRenderer\"},{\"id\":\"57b96cb0-aea2-40bd-a92f-e66dffae16d2\",\"type\":\"GlyphRenderer\"},{\"id\":\"df3c89cf-1196-4193-aeca-f69e33d76614\",\"type\":\"GlyphRenderer\"},{\"id\":\"71e67a2d-1725-4edd-813c-a7165c9c6ba7\",\"type\":\"GlyphRenderer\"},{\"id\":\"6f06e56e-c38e-4825-a5ca-d63c43b718d6\",\"type\":\"GlyphRenderer\"},{\"id\":\"5ffa2d67-8764-4d8f-ae43-5284618d33b0\",\"type\":\"GlyphRenderer\"},{\"id\":\"06ca0baf-937f-46c0-a533-843a2a61a615\",\"type\":\"Legend\"},{\"id\":\"2808709d-d469-496a-8c58-01ced4a64afc\",\"type\":\"LinearAxis\"},{\"id\":\"5b9060e8-dccd-4f84-860c-886da77bab07\",\"type\":\"LinearAxis\"},{\"id\":\"01e50da0-ea55-408c-87d2-8a05a6eb882c\",\"type\":\"Grid\"}],\"title\":{\"id\":\"b85c76f4-9140-49b8-8c5b-7bbb9f3b68d3\",\"type\":\"Title\"},\"tool_events\":{\"id\":\"1a4fdba5-b822-4241-9117-aaf72843470e\",\"type\":\"ToolEvents\"},\"toolbar\":{\"id\":\"1f8066b9-6942-4261-afaf-331477be3907\",\"type\":\"Toolbar\"},\"toolbar_location\":null,\"width\":350,\"x_mapper_type\":\"auto\",\"x_range\":{\"id\":\"6fc16618-c819-4548-bfad-a3f68a513651\",\"type\":\"Range1d\"},\"y_mapper_type\":\"auto\",\"y_range\":{\"id\":\"e701aaa9-d0c7-4d54-8233-76a13b5c2f29\",\"type\":\"Range1d\"}},\"id\":\"421ef4f4-0375-4874-a721-d926330ec546\",\"subtype\":\"Chart\",\"type\":\"Plot\"},{\"attributes\":{\"data_source\":{\"id\":\"d252bc4b-e363-4974-aa91-8dc9d9ef7999\",\"type\":\"ColumnDataSource\"},\"glyph\":{\"id\":\"90130e33-2a1d-4ada-a67c-728b4d7a2cd7\",\"type\":\"Rect\"},\"hover_glyph\":null,\"nonselection_glyph\":null,\"selection_glyph\":null},\"id\":\"200594c2-fbb6-4a75-b24d-e1b74d291073\",\"type\":\"GlyphRenderer\"},{\"attributes\":{\"fill_alpha\":{\"field\":\"fill_alpha\"},\"fill_color\":{\"field\":\"color\"},\"height\":{\"field\":\"height\",\"units\":\"data\"},\"line_color\":{\"field\":\"line_color\"},\"width\":{\"field\":\"width\",\"units\":\"data\"},\"x\":{\"field\":\"x\"},\"y\":{\"field\":\"y\"}},\"id\":\"fdfa0c41-9f55-48d4-975f-98d6ce54c407\",\"type\":\"Rect\"},{\"attributes\":{\"callback\":null,\"column_names\":[\"fill_alpha\",\"line_color\",\"y\",\"line_alpha\",\"height\",\"width\",\"x\",\"color\",\"label\"],\"data\":{\"chart_index\":[\"(27.948023, 29.469856]\"],\"color\":[\"#f22c40\"],\"fill_alpha\":[0.8],\"height\":[303.0],\"label\":[\"(27.948023, 29.469856]\"],\"line_alpha\":[1.0],\"line_color\":[\"black\"],\"width\":[1.521833097158865],\"x\":[\"28.7089395\"],\"y\":[151.5]}},\"id\":\"52f6fe71-9e59-4e5c-930f-b814196b9822\",\"type\":\"ColumnDataSource\"},{\"attributes\":{\"data_source\":{\"id\":\"0c25832b-e684-4241-b692-57f5e3a6597b\",\"type\":\"ColumnDataSource\"},\"glyph\":{\"id\":\"b73bffa7-3af8-40d0-b9d1-1e8493da3ebf\",\"type\":\"Rect\"},\"hover_glyph\":null,\"nonselection_glyph\":null,\"selection_glyph\":null},\"id\":\"dd2b9d76-4364-44fb-aea2-f10525d10a7e\",\"type\":\"GlyphRenderer\"},{\"attributes\":{\"data_source\":{\"id\":\"11ea38f4-0821-48db-92df-e5c292aa57ab\",\"type\":\"ColumnDataSource\"},\"glyph\":{\"id\":\"cddd19dd-a891-4c75-aeae-f1c7287fbdc7\",\"type\":\"Rect\"},\"hover_glyph\":null,\"nonselection_glyph\":null,\"selection_glyph\":null},\"id\":\"8a05e430-b26c-4b73-bc3f-50d0e15fc493\",\"type\":\"GlyphRenderer\"},{\"attributes\":{\"data_source\":{\"id\":\"2134fe60-edb5-4f35-bb2a-02f1bbc7b11e\",\"type\":\"ColumnDataSource\"},\"glyph\":{\"id\":\"51765b00-2f2a-4542-8e89-022fd3ca6f84\",\"type\":\"Rect\"},\"hover_glyph\":null,\"nonselection_glyph\":null,\"selection_glyph\":null},\"id\":\"7c5c5d43-1dd1-4b72-a685-077d9cde351a\",\"type\":\"GlyphRenderer\"},{\"attributes\":{\"callback\":null,\"column_names\":[\"fill_alpha\",\"line_color\",\"y\",\"line_alpha\",\"height\",\"width\",\"x\",\"color\",\"label\"],\"data\":{\"chart_index\":[\"(112.631298, 128.721437]\"],\"color\":[\"#f22c40\"],\"fill_alpha\":[0.8],\"height\":[484.0],\"label\":[\"(112.631298, 128.721437]\"],\"line_alpha\":[1.0],\"line_color\":[\"black\"],\"width\":[16.0901395665271],\"x\":[\"120.6763675\"],\"y\":[242.0]}},\"id\":\"19600e7a-eb35-42a8-9aa5-7ca4a273495b\",\"type\":\"ColumnDataSource\"},{\"attributes\":{\"data_source\":{\"id\":\"1168e934-01cc-4527-96a1-feaa926878e5\",\"type\":\"ColumnDataSource\"},\"glyph\":{\"id\":\"b43b36e3-8811-4df6-a728-435cb87017c0\",\"type\":\"Rect\"},\"hover_glyph\":null,\"nonselection_glyph\":null,\"selection_glyph\":null},\"id\":\"ef5c61bb-bb8f-4eb4-86c3-76d9bba85d8e\",\"type\":\"GlyphRenderer\"},{\"attributes\":{\"children\":[{\"id\":\"421ef4f4-0375-4874-a721-d926330ec546\",\"subtype\":\"Chart\",\"type\":\"Plot\"},{\"id\":\"aa6e7afa-191b-4b23-9254-e85c48fbf314\",\"subtype\":\"Chart\",\"type\":\"Plot\"}]},\"id\":\"9cc69f70-46a7-4021-9555-472f210df783\",\"type\":\"Row\"},{\"attributes\":{\"callback\":null,\"column_names\":[\"fill_alpha\",\"line_color\",\"y\",\"line_alpha\",\"height\",\"width\",\"x\",\"color\",\"label\"],\"data\":{\"chart_index\":[\"(109.972721, 111.946687]\"],\"color\":[\"#f22c40\"],\"fill_alpha\":[0.8],\"height\":[96.0],\"label\":[\"(109.972721, 111.946687]\"],\"line_alpha\":[1.0],\"line_color\":[\"black\"],\"width\":[1.9739660980509086],\"x\":[\"110.959704\"],\"y\":[48.0]}},\"id\":\"1005c2b2-2e5d-418a-bf6a-cd65ca7f37c2\",\"type\":\"ColumnDataSource\"},{\"attributes\":{\"callback\":null,\"column_names\":[\"fill_alpha\",\"line_color\",\"y\",\"line_alpha\",\"height\",\"width\",\"x\",\"color\",\"label\"],\"data\":{\"chart_index\":[\"(16.090460, 32.180600]\"],\"color\":[\"#f22c40\"],\"fill_alpha\":[0.8],\"height\":[1219.0],\"label\":[\"(16.090460, 32.180600]\"],\"line_alpha\":[1.0],\"line_color\":[\"black\"],\"width\":[16.09013956652709],\"x\":[\"24.13553\"],\"y\":[609.5]}},\"id\":\"3f3a3845-c9e2-495d-bbaf-fa08d99d0af2\",\"type\":\"ColumnDataSource\"},{\"attributes\":{\"data_source\":{\"id\":\"1bbed5d3-5b8b-4fb2-9c43-2f93f1476dbe\",\"type\":\"ColumnDataSource\"},\"glyph\":{\"id\":\"f2cbc3c4-d536-40d2-a2d3-3be9891294d7\",\"type\":\"Rect\"},\"hover_glyph\":null,\"nonselection_glyph\":null,\"selection_glyph\":null},\"id\":\"6f06e56e-c38e-4825-a5ca-d63c43b718d6\",\"type\":\"GlyphRenderer\"},{\"attributes\":{\"fill_alpha\":{\"field\":\"fill_alpha\"},\"fill_color\":{\"field\":\"color\"},\"height\":{\"field\":\"height\",\"units\":\"data\"},\"line_color\":{\"field\":\"line_color\"},\"width\":{\"field\":\"width\",\"units\":\"data\"},\"x\":{\"field\":\"x\"},\"y\":{\"field\":\"y\"}},\"id\":\"2a9deea9-6d4a-4c34-92e5-a8aa5d1b7130\",\"type\":\"Rect\"},{\"attributes\":{\"fill_alpha\":{\"field\":\"fill_alpha\"},\"fill_color\":{\"field\":\"color\"},\"height\":{\"field\":\"height\",\"units\":\"data\"},\"line_color\":{\"field\":\"line_color\"},\"width\":{\"field\":\"width\",\"units\":\"data\"},\"x\":{\"field\":\"x\"},\"y\":{\"field\":\"y\"}},\"id\":\"3da07641-38d5-4b02-a4cb-a44c48fdb585\",\"type\":\"Rect\"},{\"attributes\":{\"data_source\":{\"id\":\"898eeff2-3a97-40f4-b2df-b882d229efb3\",\"type\":\"ColumnDataSource\"},\"glyph\":{\"id\":\"4438845e-392b-4787-af24-c14f99bc2afb\",\"type\":\"Rect\"},\"hover_glyph\":null,\"nonselection_glyph\":null,\"selection_glyph\":null},\"id\":\"aada4f0c-cae1-4a6a-a799-ada1ba126705\",\"type\":\"GlyphRenderer\"},{\"attributes\":{\"callback\":null,\"column_names\":[\"fill_alpha\",\"line_color\",\"y\",\"line_alpha\",\"height\",\"width\",\"x\",\"color\",\"label\"],\"data\":{\"chart_index\":[\"(37.079022, 38.600855]\"],\"color\":[\"#f22c40\"],\"fill_alpha\":[0.8],\"height\":[605.0],\"label\":[\"(37.079022, 38.600855]\"],\"line_alpha\":[1.0],\"line_color\":[\"black\"],\"width\":[1.5218330971588614],\"x\":[\"37.8399385\"],\"y\":[302.5]}},\"id\":\"8d81aaad-81e2-4550-a87f-d482f4f1a0d5\",\"type\":\"ColumnDataSource\"},{\"attributes\":{\"fill_alpha\":{\"field\":\"fill_alpha\"},\"fill_color\":{\"field\":\"color\"},\"height\":{\"field\":\"height\",\"units\":\"data\"},\"line_color\":{\"field\":\"line_color\"},\"width\":{\"field\":\"width\",\"units\":\"data\"},\"x\":{\"field\":\"x\"},\"y\":{\"field\":\"y\"}},\"id\":\"ebffa839-0644-46ed-91d1-b4708804f098\",\"type\":\"Rect\"},{\"attributes\":{\"fill_alpha\":{\"field\":\"fill_alpha\"},\"fill_color\":{\"field\":\"color\"},\"height\":{\"field\":\"height\",\"units\":\"data\"},\"line_color\":{\"field\":\"line_color\"},\"width\":{\"field\":\"width\",\"units\":\"data\"},\"x\":{\"field\":\"x\"},\"y\":{\"field\":\"y\"}},\"id\":\"14610de9-b7fb-4b2e-b440-d0a77f0f8e72\",\"type\":\"Rect\"},{\"attributes\":{\"callback\":null,\"column_names\":[\"fill_alpha\",\"line_color\",\"y\",\"line_alpha\",\"height\",\"width\",\"x\",\"color\",\"label\"],\"data\":{\"chart_index\":[\"(44.688187, 46.210021]\"],\"color\":[\"#f22c40\"],\"fill_alpha\":[0.8],\"height\":[507.0],\"label\":[\"(44.688187, 46.210021]\"],\"line_alpha\":[1.0],\"line_color\":[\"black\"],\"width\":[1.5218330971588614],\"x\":[\"45.449104\"],\"y\":[253.5]}},\"id\":\"93a26129-9974-4f6c-aae6-1e805ff1363b\",\"type\":\"ColumnDataSource\"},{\"attributes\":{\"callback\":null,\"column_names\":[\"fill_alpha\",\"line_color\",\"y\",\"line_alpha\",\"height\",\"width\",\"x\",\"color\",\"label\"],\"data\":{\"chart_index\":[\"(707.966462, 724.056601]\"],\"color\":[\"#f22c40\"],\"fill_alpha\":[0.8],\"height\":[0.0],\"label\":[\"(707.966462, 724.056601]\"],\"line_alpha\":[1.0],\"line_color\":[\"black\"],\"width\":[16.090139566527114],\"x\":[\"716.0115315\"],\"y\":[0.0]}},\"id\":\"5e6df213-ef6b-46c6-b117-4bb9272af2cf\",\"type\":\"ColumnDataSource\"},{\"attributes\":{\"callback\":null,\"column_names\":[\"fill_alpha\",\"line_color\",\"y\",\"line_alpha\",\"height\",\"width\",\"x\",\"color\",\"label\"],\"data\":{\"chart_index\":[\"(32.988043, 34.962010]\"],\"color\":[\"#f22c40\"],\"fill_alpha\":[0.8],\"height\":[147.0],\"label\":[\"(32.988043, 34.962010]\"],\"line_alpha\":[1.0],\"line_color\":[\"black\"],\"width\":[1.9739660980509086],\"x\":[\"33.9750265\"],\"y\":[73.5]}},\"id\":\"308355c9-15a1-41a6-943d-d88381af774d\",\"type\":\"ColumnDataSource\"},{\"attributes\":{\"callback\":null,\"column_names\":[\"fill_alpha\",\"line_color\",\"y\",\"line_alpha\",\"height\",\"width\",\"x\",\"color\",\"label\"],\"data\":{\"chart_index\":[\"(193.081996, 209.172135]\"],\"color\":[\"#f22c40\"],\"fill_alpha\":[0.8],\"height\":[196.0],\"label\":[\"(193.081996, 209.172135]\"],\"line_alpha\":[1.0],\"line_color\":[\"black\"],\"width\":[16.090139566527085],\"x\":[\"201.12706550000001\"],\"y\":[98.0]}},\"id\":\"0c25832b-e684-4241-b692-57f5e3a6597b\",\"type\":\"ColumnDataSource\"},{\"attributes\":{\"plot\":null,\"text\":null},\"id\":\"d30302ad-261e-48ea-b8d0-97daa21ce3c5\",\"type\":\"Title\"},{\"attributes\":{\"fill_alpha\":{\"field\":\"fill_alpha\"},\"fill_color\":{\"field\":\"color\"},\"height\":{\"field\":\"height\",\"units\":\"data\"},\"line_color\":{\"field\":\"line_color\"},\"width\":{\"field\":\"width\",\"units\":\"data\"},\"x\":{\"field\":\"x\"},\"y\":{\"field\":\"y\"}},\"id\":\"5118b434-cd10-4863-9c94-b65472f4ae03\",\"type\":\"Rect\"},{\"attributes\":{\"callback\":null,\"column_names\":[\"fill_alpha\",\"line_color\",\"y\",\"line_alpha\",\"height\",\"width\",\"x\",\"color\",\"label\"],\"data\":{\"chart_index\":[\"(86.001188, 88.001045]\"],\"color\":[\"#f22c40\"],\"fill_alpha\":[0.8],\"height\":[222.0],\"label\":[\"(86.001188, 88.001045]\"],\"line_alpha\":[1.0],\"line_color\":[\"black\"],\"width\":[1.999857247275827],\"x\":[\"87.0011165\"],\"y\":[111.0]}},\"id\":\"715db401-22b0-4531-a7df-8a9b3ae9b8b0\",\"type\":\"ColumnDataSource\"},{\"attributes\":{\"data_source\":{\"id\":\"accf360c-dcfa-4817-b4fc-7f6de3ed7408\",\"type\":\"ColumnDataSource\"},\"glyph\":{\"id\":\"3040d499-fec1-46c9-9b20-598db8939cd6\",\"type\":\"Rect\"},\"hover_glyph\":null,\"nonselection_glyph\":null,\"selection_glyph\":null},\"id\":\"9f96a31a-4176-4fd5-8ac7-dc262533935e\",\"type\":\"GlyphRenderer\"},{\"attributes\":{\"callback\":null,\"column_names\":[\"fill_alpha\",\"line_color\",\"y\",\"line_alpha\",\"height\",\"width\",\"x\",\"color\",\"label\"],\"data\":{\"chart_index\":[\"(48.270739, 64.360879]\"],\"color\":[\"#f22c40\"],\"fill_alpha\":[0.8],\"height\":[977.0],\"label\":[\"(48.270739, 64.360879]\"],\"line_alpha\":[1.0],\"line_color\":[\"black\"],\"width\":[16.090139566527093],\"x\":[\"56.315809\"],\"y\":[488.5]}},\"id\":\"abc12e89-8fbc-4deb-b40e-2167461f42f7\",\"type\":\"ColumnDataSource\"},{\"attributes\":{\"fill_alpha\":{\"field\":\"fill_alpha\"},\"fill_color\":{\"field\":\"color\"},\"height\":{\"field\":\"height\",\"units\":\"data\"},\"line_color\":{\"field\":\"line_color\"},\"width\":{\"field\":\"width\",\"units\":\"data\"},\"x\":{\"field\":\"x\"},\"y\":{\"field\":\"y\"}},\"id\":\"a7b53631-10a7-4a17-ad86-8466579cfb0d\",\"type\":\"Rect\"},{\"attributes\":{\"fill_alpha\":{\"field\":\"fill_alpha\"},\"fill_color\":{\"field\":\"color\"},\"height\":{\"field\":\"height\",\"units\":\"data\"},\"line_color\":{\"field\":\"line_color\"},\"width\":{\"field\":\"width\",\"units\":\"data\"},\"x\":{\"field\":\"x\"},\"y\":{\"field\":\"y\"}},\"id\":\"a97ecf9e-2da2-4a23-9238-ccf1dfaaa96b\",\"type\":\"Rect\"},{\"attributes\":{\"callback\":null,\"column_names\":[\"fill_alpha\",\"line_color\",\"y\",\"line_alpha\",\"height\",\"width\",\"x\",\"color\",\"label\"],\"data\":{\"chart_index\":[\"(58.003187, 60.003044]\"],\"color\":[\"#f22c40\"],\"fill_alpha\":[0.8],\"height\":[200.0],\"label\":[\"(58.003187, 60.003044]\"],\"line_alpha\":[1.0],\"line_color\":[\"black\"],\"width\":[1.999857247275834],\"x\":[\"59.0031155\"],\"y\":[100.0]}},\"id\":\"e6499645-a99a-4d3b-83b8-1d0c9935432e\",\"type\":\"ColumnDataSource\"},{\"attributes\":{\"callback\":null,\"column_names\":[\"fill_alpha\",\"line_color\",\"y\",\"line_alpha\",\"height\",\"width\",\"x\",\"color\",\"label\"],\"data\":{\"chart_index\":[\"(22.005756, 24.005614]\"],\"color\":[\"#f22c40\"],\"fill_alpha\":[0.8],\"height\":[216.0],\"label\":[\"(22.005756, 24.005614]\"],\"line_alpha\":[1.0],\"line_color\":[\"black\"],\"width\":[1.9998572472758305],\"x\":[\"23.005685\"],\"y\":[108.0]}},\"id\":\"c173bab6-c2e6-4eb6-8c38-6462b5be45a4\",\"type\":\"ColumnDataSource\"},{\"attributes\":{\"fill_alpha\":{\"field\":\"fill_alpha\"},\"fill_color\":{\"field\":\"color\"},\"height\":{\"field\":\"height\",\"units\":\"data\"},\"line_color\":{\"field\":\"line_color\"},\"width\":{\"field\":\"width\",\"units\":\"data\"},\"x\":{\"field\":\"x\"},\"y\":{\"field\":\"y\"}},\"id\":\"b73bffa7-3af8-40d0-b9d1-1e8493da3ebf\",\"type\":\"Rect\"},{\"attributes\":{\"callback\":null,\"column_names\":[\"fill_alpha\",\"line_color\",\"y\",\"line_alpha\",\"height\",\"width\",\"x\",\"color\",\"label\"],\"data\":{\"chart_index\":[\"(76.415298, 78.389264]\"],\"color\":[\"#f22c40\"],\"fill_alpha\":[0.8],\"height\":[290.0],\"label\":[\"(76.415298, 78.389264]\"],\"line_alpha\":[1.0],\"line_color\":[\"black\"],\"width\":[1.9739660980509228],\"x\":[\"77.402281\"],\"y\":[145.0]}},\"id\":\"51a913ae-594b-4856-916d-3db712f621d9\",\"type\":\"ColumnDataSource\"},{\"attributes\":{\"data_source\":{\"id\":\"ff5828c1-b1ed-4212-b2cc-d8b903da9014\",\"type\":\"ColumnDataSource\"},\"glyph\":{\"id\":\"79f84828-0f04-41df-83ea-ff1023826d7a\",\"type\":\"Rect\"},\"hover_glyph\":null,\"nonselection_glyph\":null,\"selection_glyph\":null},\"id\":\"18abdfcd-78ab-4e5c-b83b-a48f25d7d67e\",\"type\":\"GlyphRenderer\"},{\"attributes\":{\"overlay\":{\"id\":\"2fbe2c8b-8291-41e4-bf72-0800c6392034\",\"type\":\"BoxAnnotation\"},\"plot\":{\"id\":\"8882f968-5c95-40a6-97b9-82107bc72984\",\"subtype\":\"Chart\",\"type\":\"Plot\"}},\"id\":\"3fbba2e0-0aa6-4dec-aacc-397f5896cb2b\",\"type\":\"BoxZoomTool\"},{\"attributes\":{\"data_source\":{\"id\":\"09723ae7-424b-4f77-83e0-d621224d19be\",\"type\":\"ColumnDataSource\"},\"glyph\":{\"id\":\"21c444ee-aa31-4d1e-aa54-8b672f60e1c6\",\"type\":\"Rect\"},\"hover_glyph\":null,\"nonselection_glyph\":null,\"selection_glyph\":null},\"id\":\"fc48bde5-6a8b-4321-a121-24435128955c\",\"type\":\"GlyphRenderer\"},{\"attributes\":{\"callback\":null,\"column_names\":[\"fill_alpha\",\"line_color\",\"y\",\"line_alpha\",\"height\",\"width\",\"x\",\"color\",\"label\"],\"data\":{\"chart_index\":[\"(6.642360, 8.164193]\"],\"color\":[\"#f22c40\"],\"fill_alpha\":[0.8],\"height\":[4.0],\"label\":[\"(6.642360, 8.164193]\"],\"line_alpha\":[1.0],\"line_color\":[\"black\"],\"width\":[1.521833097158865],\"x\":[\"7.4032765\"],\"y\":[2.0]}},\"id\":\"d273455e-c80d-4c04-845d-b30576abae85\",\"type\":\"ColumnDataSource\"},{\"attributes\":{\"data_source\":{\"id\":\"3d87d756-a2ae-46cb-b054-3210d91dcfa9\",\"type\":\"ColumnDataSource\"},\"glyph\":{\"id\":\"70b32c6b-5170-4b2c-81f5-76168c532f08\",\"type\":\"Rect\"},\"hover_glyph\":null,\"nonselection_glyph\":null,\"selection_glyph\":null},\"id\":\"6042434c-7366-4bf3-8e04-65d4700d4b4e\",\"type\":\"GlyphRenderer\"},{\"attributes\":{\"fill_alpha\":{\"field\":\"fill_alpha\"},\"fill_color\":{\"field\":\"color\"},\"height\":{\"field\":\"height\",\"units\":\"data\"},\"line_color\":{\"field\":\"line_color\"},\"width\":{\"field\":\"width\",\"units\":\"data\"},\"x\":{\"field\":\"x\"},\"y\":{\"field\":\"y\"}},\"id\":\"013d993f-8041-4a97-b6a7-ad49cdded99a\",\"type\":\"Rect\"},{\"attributes\":{\"callback\":null,\"column_names\":[\"fill_alpha\",\"line_color\",\"y\",\"line_alpha\",\"height\",\"width\",\"x\",\"color\",\"label\"],\"data\":{\"chart_index\":[\"(659.696043, 675.786183]\"],\"color\":[\"#f22c40\"],\"fill_alpha\":[0.8],\"height\":[0.0],\"label\":[\"(659.696043, 675.786183]\"],\"line_alpha\":[1.0],\"line_color\":[\"black\"],\"width\":[16.090139566527114],\"x\":[\"667.741113\"],\"y\":[0.0]}},\"id\":\"3c2c0b84-651e-40d2-8b17-78e063ecc331\",\"type\":\"ColumnDataSource\"},{\"attributes\":{},\"id\":\"848092d0-25e6-4afd-8738-261bb6ac0ed5\",\"type\":\"BasicTicker\"},{\"attributes\":{\"dimension\":1,\"plot\":{\"id\":\"421ef4f4-0375-4874-a721-d926330ec546\",\"subtype\":\"Chart\",\"type\":\"Plot\"},\"ticker\":{\"id\":\"bc542ae7-7902-49cd-90c8-141b136ff2b6\",\"type\":\"BasicTicker\"}},\"id\":\"01e50da0-ea55-408c-87d2-8a05a6eb882c\",\"type\":\"Grid\"},{\"attributes\":{\"callback\":null,\"column_names\":[\"fill_alpha\",\"line_color\",\"y\",\"line_alpha\",\"height\",\"width\",\"x\",\"color\",\"label\"],\"data\":{\"chart_index\":[\"(64.571501, 66.545467]\"],\"color\":[\"#f22c40\"],\"fill_alpha\":[0.8],\"height\":[281.0],\"label\":[\"(64.571501, 66.545467]\"],\"line_alpha\":[1.0],\"line_color\":[\"black\"],\"width\":[1.9739660980509086],\"x\":[\"65.55848399999999\"],\"y\":[140.5]}},\"id\":\"c98e0b9a-d2d3-4baa-a45e-76bc84fea9a1\",\"type\":\"ColumnDataSource\"},{\"attributes\":{\"data_source\":{\"id\":\"88d4fe84-74ed-476f-9de6-7333d61d4b92\",\"type\":\"ColumnDataSource\"},\"glyph\":{\"id\":\"564b899f-3366-4620-afb7-27146acb75a5\",\"type\":\"Rect\"},\"hover_glyph\":null,\"nonselection_glyph\":null,\"selection_glyph\":null},\"id\":\"b857fc70-23b5-4d88-a7fc-75503de3328b\",\"type\":\"GlyphRenderer\"},{\"attributes\":{\"callback\":null,\"column_names\":[\"fill_alpha\",\"line_color\",\"y\",\"line_alpha\",\"height\",\"width\",\"x\",\"color\",\"label\"],\"data\":{\"chart_index\":[\"(62.002901, 64.002758]\"],\"color\":[\"#f22c40\"],\"fill_alpha\":[0.8],\"height\":[214.0],\"label\":[\"(62.002901, 64.002758]\"],\"line_alpha\":[1.0],\"line_color\":[\"black\"],\"width\":[1.999857247275834],\"x\":[\"63.002829500000004\"],\"y\":[107.0]}},\"id\":\"6ab8f4a7-2790-4c73-93c4-3d2e4202409a\",\"type\":\"ColumnDataSource\"},{\"attributes\":{\"plot\":{\"id\":\"aa6e7afa-191b-4b23-9254-e85c48fbf314\",\"subtype\":\"Chart\",\"type\":\"Plot\"}},\"id\":\"695af0b1-3045-4bcc-9bf8-fefa6a551785\",\"type\":\"SaveTool\"},{\"attributes\":{\"fill_alpha\":{\"field\":\"fill_alpha\"},\"fill_color\":{\"field\":\"color\"},\"height\":{\"field\":\"height\",\"units\":\"data\"},\"line_color\":{\"field\":\"line_color\"},\"width\":{\"field\":\"width\",\"units\":\"data\"},\"x\":{\"field\":\"x\"},\"y\":{\"field\":\"y\"}},\"id\":\"791446ce-71ed-4493-afa8-328d2d2b2d80\",\"type\":\"Rect\"},{\"attributes\":{\"plot\":null,\"text\":null},\"id\":\"4334cbca-b4ce-4aa4-a5ef-a622a6069f4a\",\"type\":\"Title\"},{\"attributes\":{\"fill_alpha\":{\"field\":\"fill_alpha\"},\"fill_color\":{\"field\":\"color\"},\"height\":{\"field\":\"height\",\"units\":\"data\"},\"line_color\":{\"field\":\"line_color\"},\"width\":{\"field\":\"width\",\"units\":\"data\"},\"x\":{\"field\":\"x\"},\"y\":{\"field\":\"y\"}},\"id\":\"8d89e4ae-08b3-490c-87ba-7e46bea0b8b3\",\"type\":\"Rect\"},{\"attributes\":{\"fill_alpha\":{\"field\":\"fill_alpha\"},\"fill_color\":{\"field\":\"color\"},\"height\":{\"field\":\"height\",\"units\":\"data\"},\"line_color\":{\"field\":\"line_color\"},\"width\":{\"field\":\"width\",\"units\":\"data\"},\"x\":{\"field\":\"x\"},\"y\":{\"field\":\"y\"}},\"id\":\"087c5a66-6ab0-43e8-a427-f6a9512d552a\",\"type\":\"Rect\"},{\"attributes\":{\"callback\":null,\"column_names\":[\"fill_alpha\",\"line_color\",\"y\",\"line_alpha\",\"height\",\"width\",\"x\",\"color\",\"label\"],\"data\":{\"chart_index\":[\"(26.426190, 27.948023]\"],\"color\":[\"#f22c40\"],\"fill_alpha\":[0.8],\"height\":[276.0],\"label\":[\"(26.426190, 27.948023]\"],\"line_alpha\":[1.0],\"line_color\":[\"black\"],\"width\":[1.521833097158865],\"x\":[\"27.1871065\"],\"y\":[138.0]}},\"id\":\"2a1b3438-2fb4-4ae4-b5bc-38679057b3c4\",\"type\":\"ColumnDataSource\"},{\"attributes\":{\"callback\":null,\"column_names\":[\"fill_alpha\",\"line_color\",\"y\",\"line_alpha\",\"height\",\"width\",\"x\",\"color\",\"label\"],\"data\":{\"chart_index\":[\"(38.909942, 40.883908]\"],\"color\":[\"#f22c40\"],\"fill_alpha\":[0.8],\"height\":[189.0],\"label\":[\"(38.909942, 40.883908]\"],\"line_alpha\":[1.0],\"line_color\":[\"black\"],\"width\":[1.9739660980509086],\"x\":[\"39.896924999999996\"],\"y\":[94.5]}},\"id\":\"5f8dc2df-8ad7-4c6b-bb9e-a0eac363552b\",\"type\":\"ColumnDataSource\"},{\"attributes\":{\"data_source\":{\"id\":\"cfe276e0-5aa0-4af5-a4ba-b6507096fb2b\",\"type\":\"ColumnDataSource\"},\"glyph\":{\"id\":\"078188bd-366f-48dd-ac27-1631616481ca\",\"type\":\"Rect\"},\"hover_glyph\":null,\"nonselection_glyph\":null,\"selection_glyph\":null},\"id\":\"d2bcf63a-dd93-443d-ba51-c15ff9929fdd\",\"type\":\"GlyphRenderer\"},{\"attributes\":{\"fill_alpha\":{\"field\":\"fill_alpha\"},\"fill_color\":{\"field\":\"color\"},\"height\":{\"field\":\"height\",\"units\":\"data\"},\"line_color\":{\"field\":\"line_color\"},\"width\":{\"field\":\"width\",\"units\":\"data\"},\"x\":{\"field\":\"x\"},\"y\":{\"field\":\"y\"}},\"id\":\"303640b0-8892-4f86-9329-19244c6cda25\",\"type\":\"Rect\"},{\"attributes\":{\"fill_alpha\":{\"field\":\"fill_alpha\"},\"fill_color\":{\"field\":\"color\"},\"height\":{\"field\":\"height\",\"units\":\"data\"},\"line_color\":{\"field\":\"line_color\"},\"width\":{\"field\":\"width\",\"units\":\"data\"},\"x\":{\"field\":\"x\"},\"y\":{\"field\":\"y\"}},\"id\":\"50ab4ddc-82b1-429f-98b0-f03cc188dfd8\",\"type\":\"Rect\"},{\"attributes\":{\"fill_alpha\":{\"field\":\"fill_alpha\"},\"fill_color\":{\"field\":\"color\"},\"height\":{\"field\":\"height\",\"units\":\"data\"},\"line_color\":{\"field\":\"line_color\"},\"width\":{\"field\":\"width\",\"units\":\"data\"},\"x\":{\"field\":\"x\"},\"y\":{\"field\":\"y\"}},\"id\":\"32db2636-76a5-47a1-9adc-c8fe6660e51a\",\"type\":\"Rect\"},{\"attributes\":{\"callback\":null,\"column_names\":[\"fill_alpha\",\"line_color\",\"y\",\"line_alpha\",\"height\",\"width\",\"x\",\"color\",\"label\"],\"data\":{\"chart_index\":[\"(65.993851, 67.515684]\"],\"color\":[\"#f22c40\"],\"fill_alpha\":[0.8],\"height\":[20.0],\"label\":[\"(65.993851, 67.515684]\"],\"line_alpha\":[1.0],\"line_color\":[\"black\"],\"width\":[1.5218330971588614],\"x\":[\"66.7547675\"],\"y\":[10.0]}},\"id\":\"38cb4827-564f-4425-af9e-a23828425799\",\"type\":\"ColumnDataSource\"},{\"attributes\":{\"fill_alpha\":{\"field\":\"fill_alpha\"},\"fill_color\":{\"field\":\"color\"},\"height\":{\"field\":\"height\",\"units\":\"data\"},\"line_color\":{\"field\":\"line_color\"},\"width\":{\"field\":\"width\",\"units\":\"data\"},\"x\":{\"field\":\"x\"},\"y\":{\"field\":\"y\"}},\"id\":\"4de2dc2d-88a5-4721-a9df-3e424e3df0db\",\"type\":\"Rect\"},{\"attributes\":{\"fill_alpha\":{\"field\":\"fill_alpha\"},\"fill_color\":{\"field\":\"color\"},\"height\":{\"field\":\"height\",\"units\":\"data\"},\"line_color\":{\"field\":\"line_color\"},\"width\":{\"field\":\"width\",\"units\":\"data\"},\"x\":{\"field\":\"x\"},\"y\":{\"field\":\"y\"}},\"id\":\"5aa5f756-5d3e-46af-9c32-bffeb25b93a8\",\"type\":\"Rect\"},{\"attributes\":{\"fill_alpha\":{\"field\":\"fill_alpha\"},\"fill_color\":{\"field\":\"color\"},\"height\":{\"field\":\"height\",\"units\":\"data\"},\"line_color\":{\"field\":\"line_color\"},\"width\":{\"field\":\"width\",\"units\":\"data\"},\"x\":{\"field\":\"x\"},\"y\":{\"field\":\"y\"}},\"id\":\"73f003fc-8b1a-40b0-a77a-15944cf8ca01\",\"type\":\"Rect\"},{\"attributes\":{\"callback\":null,\"column_names\":[\"fill_alpha\",\"line_color\",\"y\",\"line_alpha\",\"height\",\"width\",\"x\",\"color\",\"label\"],\"data\":{\"chart_index\":[\"(56.675637, 58.649603]\"],\"color\":[\"#f22c40\"],\"fill_alpha\":[0.8],\"height\":[319.0],\"label\":[\"(56.675637, 58.649603]\"],\"line_alpha\":[1.0],\"line_color\":[\"black\"],\"width\":[1.9739660980509086],\"x\":[\"57.662620000000004\"],\"y\":[159.5]}},\"id\":\"829d9f94-2cd2-432a-86d2-be3dd5f4b412\",\"type\":\"ColumnDataSource\"},{\"attributes\":{\"callback\":null,\"column_names\":[\"fill_alpha\",\"line_color\",\"y\",\"line_alpha\",\"height\",\"width\",\"x\",\"color\",\"label\"],\"data\":{\"chart_index\":[\"(32.005043, 34.004900]\"],\"color\":[\"#f22c40\"],\"fill_alpha\":[0.8],\"height\":[169.0],\"label\":[\"(32.005043, 34.004900]\"],\"line_alpha\":[1.0],\"line_color\":[\"black\"],\"width\":[1.999857247275834],\"x\":[\"33.004971499999996\"],\"y\":[84.5]}},\"id\":\"c7153240-613a-498f-8c84-2f1baa0140ae\",\"type\":\"ColumnDataSource\"},{\"attributes\":{\"callback\":null,\"column_names\":[\"fill_alpha\",\"line_color\",\"y\",\"line_alpha\",\"height\",\"width\",\"x\",\"color\",\"label\"],\"data\":{\"chart_index\":[\"(8.164193, 9.686026]\"],\"color\":[\"#f22c40\"],\"fill_alpha\":[0.8],\"height\":[6.0],\"label\":[\"(8.164193, 9.686026]\"],\"line_alpha\":[1.0],\"line_color\":[\"black\"],\"width\":[1.5218330971588632],\"x\":[\"8.9251095\"],\"y\":[3.0]}},\"id\":\"0e99537a-ffcd-4647-91d6-e78464674f64\",\"type\":\"ColumnDataSource\"},{\"attributes\":{\"dimension\":1,\"plot\":{\"id\":\"8882f968-5c95-40a6-97b9-82107bc72984\",\"subtype\":\"Chart\",\"type\":\"Plot\"},\"ticker\":{\"id\":\"d9c927f1-cf54-4ce6-85c2-43b2cd4a924f\",\"type\":\"BasicTicker\"}},\"id\":\"77d17d46-42b6-4197-882f-1d12c0a501eb\",\"type\":\"Grid\"},{\"attributes\":{},\"id\":\"e7f8ddb2-dd87-47fe-95c1-b2dae3350a06\",\"type\":\"BasicTickFormatter\"},{\"attributes\":{\"callback\":null,\"end\":123.36722202402547,\"start\":17.619576975974546},\"id\":\"f385a4a2-890c-4ff2-8701-c8be8deb1c32\",\"type\":\"Range1d\"},{\"attributes\":{\"data_source\":{\"id\":\"3f3a3845-c9e2-495d-bbaf-fa08d99d0af2\",\"type\":\"ColumnDataSource\"},\"glyph\":{\"id\":\"797d2813-f1d4-48e8-ac13-6e8b0eddaa91\",\"type\":\"Rect\"},\"hover_glyph\":null,\"nonselection_glyph\":null,\"selection_glyph\":null},\"id\":\"0ae2790b-f20a-457f-8694-233deb468e23\",\"type\":\"GlyphRenderer\"},{\"attributes\":{\"data_source\":{\"id\":\"2a1b3438-2fb4-4ae4-b5bc-38679057b3c4\",\"type\":\"ColumnDataSource\"},\"glyph\":{\"id\":\"5118b434-cd10-4863-9c94-b65472f4ae03\",\"type\":\"Rect\"},\"hover_glyph\":null,\"nonselection_glyph\":null,\"selection_glyph\":null},\"id\":\"d9ce4125-51e3-4c45-aaeb-86a17e3b1753\",\"type\":\"GlyphRenderer\"},{\"attributes\":{\"fill_alpha\":{\"field\":\"fill_alpha\"},\"fill_color\":{\"field\":\"color\"},\"height\":{\"field\":\"height\",\"units\":\"data\"},\"line_color\":{\"field\":\"line_color\"},\"width\":{\"field\":\"width\",\"units\":\"data\"},\"x\":{\"field\":\"x\"},\"y\":{\"field\":\"y\"}},\"id\":\"810c2224-b3cc-40f3-a7e4-d7731935722d\",\"type\":\"Rect\"},{\"attributes\":{\"fill_alpha\":{\"field\":\"fill_alpha\"},\"fill_color\":{\"field\":\"color\"},\"height\":{\"field\":\"height\",\"units\":\"data\"},\"line_color\":{\"field\":\"line_color\"},\"width\":{\"field\":\"width\",\"units\":\"data\"},\"x\":{\"field\":\"x\"},\"y\":{\"field\":\"y\"}},\"id\":\"c3e68eb2-0fb8-407a-8ee2-19184dd65c63\",\"type\":\"Rect\"},{\"attributes\":{\"fill_alpha\":{\"field\":\"fill_alpha\"},\"fill_color\":{\"field\":\"color\"},\"height\":{\"field\":\"height\",\"units\":\"data\"},\"line_color\":{\"field\":\"line_color\"},\"width\":{\"field\":\"width\",\"units\":\"data\"},\"x\":{\"field\":\"x\"},\"y\":{\"field\":\"y\"}},\"id\":\"28fac22f-ba41-46e1-8f51-a78240277703\",\"type\":\"Rect\"},{\"attributes\":{\"axis_label\":\"a\",\"formatter\":{\"id\":\"8a15045c-561a-4b5b-90a6-4c7697230b71\",\"type\":\"BasicTickFormatter\"},\"plot\":{\"id\":\"ea1f27d3-388d-4e34-b976-4573f9f24332\",\"subtype\":\"Chart\",\"type\":\"Plot\"},\"ticker\":{\"id\":\"d39aa1fd-fea7-46fc-9471-5c06b2717dce\",\"type\":\"BasicTicker\"}},\"id\":\"07bb91e1-a68c-4eba-abf4-53cc1dfc4a4f\",\"type\":\"LinearAxis\"},{\"attributes\":{\"fill_alpha\":{\"field\":\"fill_alpha\"},\"fill_color\":{\"field\":\"color\"},\"height\":{\"field\":\"height\",\"units\":\"data\"},\"line_color\":{\"field\":\"line_color\"},\"width\":{\"field\":\"width\",\"units\":\"data\"},\"x\":{\"field\":\"x\"},\"y\":{\"field\":\"y\"}},\"id\":\"797d2813-f1d4-48e8-ac13-6e8b0eddaa91\",\"type\":\"Rect\"},{\"attributes\":{\"callback\":null,\"column_names\":[\"fill_alpha\",\"line_color\",\"y\",\"line_alpha\",\"height\",\"width\",\"x\",\"color\",\"label\"],\"data\":{\"chart_index\":[\"[0.000321, 16.090460]\"],\"color\":[\"#f22c40\"],\"fill_alpha\":[0.8],\"height\":[1531.0],\"label\":[\"[0.000321, 16.090460]\"],\"line_alpha\":[1.0],\"line_color\":[\"black\"],\"width\":[16.090139566527093],\"x\":[\"8.0453905\"],\"y\":[765.5]}},\"id\":\"42e17986-8386-454c-8bb4-01c9b631839c\",\"type\":\"ColumnDataSource\"},{\"attributes\":{\"data_source\":{\"id\":\"5ad6df52-26cb-4564-99ab-7fc649a3e79e\",\"type\":\"ColumnDataSource\"},\"glyph\":{\"id\":\"feade3d8-97f0-4058-9b47-c60be49fd206\",\"type\":\"Rect\"},\"hover_glyph\":null,\"nonselection_glyph\":null,\"selection_glyph\":null},\"id\":\"c6c2cd97-3716-4195-8488-8b4216e265a8\",\"type\":\"GlyphRenderer\"},{\"attributes\":{\"fill_alpha\":{\"field\":\"fill_alpha\"},\"fill_color\":{\"field\":\"color\"},\"height\":{\"field\":\"height\",\"units\":\"data\"},\"line_color\":{\"field\":\"line_color\"},\"width\":{\"field\":\"width\",\"units\":\"data\"},\"x\":{\"field\":\"x\"},\"y\":{\"field\":\"y\"}},\"id\":\"6634afa5-df2e-47ce-9514-f394974a3883\",\"type\":\"Rect\"},{\"attributes\":{\"callback\":null,\"column_names\":[\"fill_alpha\",\"line_color\",\"y\",\"line_alpha\",\"height\",\"width\",\"x\",\"color\",\"label\"],\"data\":{\"chart_index\":[\"(117.998904, 119.998761]\"],\"color\":[\"#f22c40\"],\"fill_alpha\":[0.8],\"height\":[209.0],\"label\":[\"(117.998904, 119.998761]\"],\"line_alpha\":[1.0],\"line_color\":[\"black\"],\"width\":[1.999857247275827],\"x\":[\"118.99883249999999\"],\"y\":[104.5]}},\"id\":\"972923d6-b1e7-4eb0-a328-965b348c7dc5\",\"type\":\"ColumnDataSource\"},{\"attributes\":{\"callback\":null,\"column_names\":[\"fill_alpha\",\"line_color\",\"y\",\"line_alpha\",\"height\",\"width\",\"x\",\"color\",\"label\"],\"data\":{\"chart_index\":[\"(103.999903, 105.999761]\"],\"color\":[\"#f22c40\"],\"fill_alpha\":[0.8],\"height\":[188.0],\"label\":[\"(103.999903, 105.999761]\"],\"line_alpha\":[1.0],\"line_color\":[\"black\"],\"width\":[1.999857247275827],\"x\":[\"104.999832\"],\"y\":[94.0]}},\"id\":\"f7cf2c60-7ba2-4870-a0a6-fe75d7b4d0a5\",\"type\":\"ColumnDataSource\"},{\"attributes\":{\"data_source\":{\"id\":\"d0ab07ab-662f-4b1b-bdf1-862affae14b7\",\"type\":\"ColumnDataSource\"},\"glyph\":{\"id\":\"a97ecf9e-2da2-4a23-9238-ccf1dfaaa96b\",\"type\":\"Rect\"},\"hover_glyph\":null,\"nonselection_glyph\":null,\"selection_glyph\":null},\"id\":\"4922e9dc-3149-44b8-b684-92e03c908e1c\",\"type\":\"GlyphRenderer\"},{\"attributes\":{\"fill_alpha\":{\"field\":\"fill_alpha\"},\"fill_color\":{\"field\":\"color\"},\"height\":{\"field\":\"height\",\"units\":\"data\"},\"line_color\":{\"field\":\"line_color\"},\"width\":{\"field\":\"width\",\"units\":\"data\"},\"x\":{\"field\":\"x\"},\"y\":{\"field\":\"y\"}},\"id\":\"9f548473-ecbd-4d96-9e66-5e519a340c5c\",\"type\":\"Rect\"},{\"attributes\":{\"fill_alpha\":{\"field\":\"fill_alpha\"},\"fill_color\":{\"field\":\"color\"},\"height\":{\"field\":\"height\",\"units\":\"data\"},\"line_color\":{\"field\":\"line_color\"},\"width\":{\"field\":\"width\",\"units\":\"data\"},\"x\":{\"field\":\"x\"},\"y\":{\"field\":\"y\"}},\"id\":\"45922a32-c5c5-46a8-8dfb-01f07e792f43\",\"type\":\"Rect\"},{\"attributes\":{\"data_source\":{\"id\":\"42e17986-8386-454c-8bb4-01c9b631839c\",\"type\":\"ColumnDataSource\"},\"glyph\":{\"id\":\"fdf4b03d-ddf0-4eec-9dbd-fbd6f4808fae\",\"type\":\"Rect\"},\"hover_glyph\":null,\"nonselection_glyph\":null,\"selection_glyph\":null},\"id\":\"967d4138-6d52-49ab-9de1-a6abda0de3f8\",\"type\":\"GlyphRenderer\"},{\"attributes\":{\"fill_alpha\":{\"field\":\"fill_alpha\"},\"fill_color\":{\"field\":\"color\"},\"height\":{\"field\":\"height\",\"units\":\"data\"},\"line_color\":{\"field\":\"line_color\"},\"width\":{\"field\":\"width\",\"units\":\"data\"},\"x\":{\"field\":\"x\"},\"y\":{\"field\":\"y\"}},\"id\":\"28da8ab5-3fd9-4ead-8fa3-8497161f2b9c\",\"type\":\"Rect\"},{\"attributes\":{\"data_source\":{\"id\":\"2dc12988-c9d4-4047-91c7-40a3b52471d1\",\"type\":\"ColumnDataSource\"},\"glyph\":{\"id\":\"2f12e942-0a53-4f79-922f-c555f1e87503\",\"type\":\"Rect\"},\"hover_glyph\":null,\"nonselection_glyph\":null,\"selection_glyph\":null},\"id\":\"c5ced1ca-3e9c-4f49-bda3-706eeb21beb6\",\"type\":\"GlyphRenderer\"},{\"attributes\":{\"data_source\":{\"id\":\"abc12e89-8fbc-4deb-b40e-2167461f42f7\",\"type\":\"ColumnDataSource\"},\"glyph\":{\"id\":\"a7b53631-10a7-4a17-ad86-8466579cfb0d\",\"type\":\"Rect\"},\"hover_glyph\":null,\"nonselection_glyph\":null,\"selection_glyph\":null},\"id\":\"097f777a-bf8b-4327-9d51-124a0f04a087\",\"type\":\"GlyphRenderer\"},{\"attributes\":{\"fill_alpha\":{\"field\":\"fill_alpha\"},\"fill_color\":{\"field\":\"color\"},\"height\":{\"field\":\"height\",\"units\":\"data\"},\"line_color\":{\"field\":\"line_color\"},\"width\":{\"field\":\"width\",\"units\":\"data\"},\"x\":{\"field\":\"x\"},\"y\":{\"field\":\"y\"}},\"id\":\"59b806f5-be7e-4c2b-9e3f-bcac1f0dd036\",\"type\":\"Rect\"},{\"attributes\":{\"fill_alpha\":{\"field\":\"fill_alpha\"},\"fill_color\":{\"field\":\"color\"},\"height\":{\"field\":\"height\",\"units\":\"data\"},\"line_color\":{\"field\":\"line_color\"},\"width\":{\"field\":\"width\",\"units\":\"data\"},\"x\":{\"field\":\"x\"},\"y\":{\"field\":\"y\"}},\"id\":\"a6799848-fc1e-411d-9ae8-0732daf20ba6\",\"type\":\"Rect\"},{\"attributes\":{},\"id\":\"0aa9e338-1031-4201-9d5f-f442c14325fb\",\"type\":\"BasicTicker\"},{\"attributes\":{\"fill_alpha\":{\"field\":\"fill_alpha\"},\"fill_color\":{\"field\":\"color\"},\"height\":{\"field\":\"height\",\"units\":\"data\"},\"line_color\":{\"field\":\"line_color\"},\"width\":{\"field\":\"width\",\"units\":\"data\"},\"x\":{\"field\":\"x\"},\"y\":{\"field\":\"y\"}},\"id\":\"729bc8b9-a91c-4438-9328-4a7a681eff7b\",\"type\":\"Rect\"},{\"attributes\":{\"callback\":null,\"column_names\":[\"fill_alpha\",\"line_color\",\"y\",\"line_alpha\",\"height\",\"width\",\"x\",\"color\",\"label\"],\"data\":{\"chart_index\":[\"(450.524229, 466.614368]\"],\"color\":[\"#f22c40\"],\"fill_alpha\":[0.8],\"height\":[13.0],\"label\":[\"(450.524229, 466.614368]\"],\"line_alpha\":[1.0],\"line_color\":[\"black\"],\"width\":[16.090139566527057],\"x\":[\"458.5692985\"],\"y\":[6.5]}},\"id\":\"bb3f0292-9538-4238-9fe1-d9bc0a79b379\",\"type\":\"ColumnDataSource\"},{\"attributes\":{\"data_source\":{\"id\":\"3402bdea-6fed-409b-90ea-a9c34d3c45e5\",\"type\":\"ColumnDataSource\"},\"glyph\":{\"id\":\"3c861e03-e976-4f54-aa7d-af9fd1ece7dc\",\"type\":\"Rect\"},\"hover_glyph\":null,\"nonselection_glyph\":null,\"selection_glyph\":null},\"id\":\"a2c7e95b-8053-4db1-8943-d1a1c104b805\",\"type\":\"GlyphRenderer\"},{\"attributes\":{},\"id\":\"06769d04-eef6-4e3a-9795-df5fde9dfe96\",\"type\":\"BasicTickFormatter\"},{\"attributes\":{\"callback\":null,\"column_names\":[\"fill_alpha\",\"line_color\",\"y\",\"line_alpha\",\"height\",\"width\",\"x\",\"color\",\"label\"],\"data\":{\"chart_index\":[\"(82.337196, 84.311162]\"],\"color\":[\"#f22c40\"],\"fill_alpha\":[0.8],\"height\":[281.0],\"label\":[\"(82.337196, 84.311162]\"],\"line_alpha\":[1.0],\"line_color\":[\"black\"],\"width\":[1.9739660980509086],\"x\":[\"83.324179\"],\"y\":[140.5]}},\"id\":\"7cfd482d-82df-4488-9329-5ceaf77d38ca\",\"type\":\"ColumnDataSource\"},{\"attributes\":{\"plot\":{\"id\":\"ea1f27d3-388d-4e34-b976-4573f9f24332\",\"subtype\":\"Chart\",\"type\":\"Plot\"}},\"id\":\"1fda3ac5-8170-412d-86f0-18a5844a61df\",\"type\":\"HelpTool\"},{\"attributes\":{\"data_source\":{\"id\":\"6bb8ec49-850a-40e6-ab8d-523a37abf32d\",\"type\":\"ColumnDataSource\"},\"glyph\":{\"id\":\"2acfef01-7c84-4850-8f2c-f52baed6ae37\",\"type\":\"Rect\"},\"hover_glyph\":null,\"nonselection_glyph\":null,\"selection_glyph\":null},\"id\":\"2c1d48ac-cf11-4a0c-a29a-f1ef7339bfd2\",\"type\":\"GlyphRenderer\"},{\"attributes\":{\"data_source\":{\"id\":\"63ad8bd4-8c00-4a5c-941d-d63efd3131b3\",\"type\":\"ColumnDataSource\"},\"glyph\":{\"id\":\"34613e28-40e8-469f-9e8d-146c105af56e\",\"type\":\"Rect\"},\"hover_glyph\":null,\"nonselection_glyph\":null,\"selection_glyph\":null},\"id\":\"415da85a-d583-44f7-9700-1cf7971aca4b\",\"type\":\"GlyphRenderer\"},{\"attributes\":{\"fill_alpha\":{\"field\":\"fill_alpha\"},\"fill_color\":{\"field\":\"color\"},\"height\":{\"field\":\"height\",\"units\":\"data\"},\"line_color\":{\"field\":\"line_color\"},\"width\":{\"field\":\"width\",\"units\":\"data\"},\"x\":{\"field\":\"x\"},\"y\":{\"field\":\"y\"}},\"id\":\"4c47446c-17b9-480d-a1f4-3b1b9b28f646\",\"type\":\"Rect\"},{\"attributes\":{\"callback\":null,\"column_names\":[\"fill_alpha\",\"line_color\",\"y\",\"line_alpha\",\"height\",\"width\",\"x\",\"color\",\"label\"],\"data\":{\"chart_index\":[\"(86.285128, 88.259094]\"],\"color\":[\"#f22c40\"],\"fill_alpha\":[0.8],\"height\":[236.0],\"label\":[\"(86.285128, 88.259094]\"],\"line_alpha\":[1.0],\"line_color\":[\"black\"],\"width\":[1.9739660980509086],\"x\":[\"87.272111\"],\"y\":[118.0]}},\"id\":\"9e44d102-1662-4b86-9892-5cac5d5ee599\",\"type\":\"ColumnDataSource\"},{\"attributes\":{\"children\":[{\"id\":\"1e1dbc4b-d36f-4e9d-97a8-074d704736ee\",\"type\":\"ToolbarBox\"},{\"id\":\"a5fe4a40-59a2-401e-ba6b-194184495c37\",\"type\":\"Column\"}]},\"id\":\"7c603cda-ff69-4478-b302-cc8bd200c228\",\"type\":\"Column\"},{\"attributes\":{\"fill_alpha\":{\"field\":\"fill_alpha\"},\"fill_color\":{\"field\":\"color\"},\"height\":{\"field\":\"height\",\"units\":\"data\"},\"line_color\":{\"field\":\"line_color\"},\"width\":{\"field\":\"width\",\"units\":\"data\"},\"x\":{\"field\":\"x\"},\"y\":{\"field\":\"y\"}},\"id\":\"2f27e812-cc78-4c97-be08-1a7a997f920f\",\"type\":\"Rect\"},{\"attributes\":{\"callback\":null,\"column_names\":[\"fill_alpha\",\"line_color\",\"y\",\"line_alpha\",\"height\",\"width\",\"x\",\"color\",\"label\"],\"data\":{\"chart_index\":[\"(100.000189, 102.000046]\"],\"color\":[\"#f22c40\"],\"fill_alpha\":[0.8],\"height\":[178.0],\"label\":[\"(100.000189, 102.000046]\"],\"line_alpha\":[1.0],\"line_color\":[\"black\"],\"width\":[1.999857247275827],\"x\":[\"101.0001175\"],\"y\":[89.0]}},\"id\":\"f1d3312e-08d4-4db5-8440-99d4d9825275\",\"type\":\"ColumnDataSource\"},{\"attributes\":{\"callback\":null,\"column_names\":[\"fill_alpha\",\"line_color\",\"y\",\"line_alpha\",\"height\",\"width\",\"x\",\"color\",\"label\"],\"data\":{\"chart_index\":[\"(34.035356, 35.557189]\"],\"color\":[\"#f22c40\"],\"fill_alpha\":[0.8],\"height\":[571.0],\"label\":[\"(34.035356, 35.557189]\"],\"line_alpha\":[1.0],\"line_color\":[\"black\"],\"width\":[1.5218330971588614],\"x\":[\"34.7962725\"],\"y\":[285.5]}},\"id\":\"5eb6e4c3-75ce-4a5e-820f-7f5cd55b082c\",\"type\":\"ColumnDataSource\"},{\"attributes\":{\"location\":\"top_left\",\"plot\":{\"id\":\"ea1f27d3-388d-4e34-b976-4573f9f24332\",\"subtype\":\"Chart\",\"type\":\"Plot\"}},\"id\":\"519c2ea3-f61f-4767-b3c2-ed66c1deb90c\",\"type\":\"Legend\"},{\"attributes\":{\"callback\":null,\"column_names\":[\"fill_alpha\",\"line_color\",\"y\",\"line_alpha\",\"height\",\"width\",\"x\",\"color\",\"label\"],\"data\":{\"chart_index\":[\"(756.236880, 772.327020]\"],\"color\":[\"#f22c40\"],\"fill_alpha\":[0.8],\"height\":[1.0],\"label\":[\"(756.236880, 772.327020]\"],\"line_alpha\":[1.0],\"line_color\":[\"black\"],\"width\":[16.090139566527114],\"x\":[\"764.28195\"],\"y\":[0.5]}},\"id\":\"cd5258cd-0d38-4500-b051-ebabed6c7e05\",\"type\":\"ColumnDataSource\"},{\"attributes\":{\"callback\":null,\"column_names\":[\"fill_alpha\",\"line_color\",\"y\",\"line_alpha\",\"height\",\"width\",\"x\",\"color\",\"label\"],\"data\":{\"chart_index\":[\"(321.803112, 337.893252]\"],\"color\":[\"#f22c40\"],\"fill_alpha\":[0.8],\"height\":[57.0],\"label\":[\"(321.803112, 337.893252]\"],\"line_alpha\":[1.0],\"line_color\":[\"black\"],\"width\":[16.090139566527114],\"x\":[\"329.848182\"],\"y\":[28.5]}},\"id\":\"67e816eb-6991-4d75-93cc-31bb5a38acac\",\"type\":\"ColumnDataSource\"},{\"attributes\":{\"callback\":null,\"column_names\":[\"fill_alpha\",\"line_color\",\"y\",\"line_alpha\",\"height\",\"width\",\"x\",\"color\",\"label\"],\"data\":{\"chart_index\":[\"(64.002758, 66.002616]\"],\"color\":[\"#f22c40\"],\"fill_alpha\":[0.8],\"height\":[196.0],\"label\":[\"(64.002758, 66.002616]\"],\"line_alpha\":[1.0],\"line_color\":[\"black\"],\"width\":[1.999857247275827],\"x\":[\"65.00268700000001\"],\"y\":[98.0]}},\"id\":\"36ff40c8-6c36-4084-a27a-d509abf0f466\",\"type\":\"ColumnDataSource\"},{\"attributes\":{\"callback\":null,\"column_names\":[\"fill_alpha\",\"line_color\",\"y\",\"line_alpha\",\"height\",\"width\",\"x\",\"color\",\"label\"],\"data\":{\"chart_index\":[\"(30.991690, 32.513523]\"],\"color\":[\"#f22c40\"],\"fill_alpha\":[0.8],\"height\":[421.0],\"label\":[\"(30.991690, 32.513523]\"],\"line_alpha\":[1.0],\"line_color\":[\"black\"],\"width\":[1.521833097158865],\"x\":[\"31.7526065\"],\"y\":[210.5]}},\"id\":\"fce94dbd-86d3-4c29-9588-4e4621eee950\",\"type\":\"ColumnDataSource\"},{\"attributes\":{\"fill_alpha\":{\"field\":\"fill_alpha\"},\"fill_color\":{\"field\":\"color\"},\"height\":{\"field\":\"height\",\"units\":\"data\"},\"line_color\":{\"field\":\"line_color\"},\"width\":{\"field\":\"width\",\"units\":\"data\"},\"x\":{\"field\":\"x\"},\"y\":{\"field\":\"y\"}},\"id\":\"fdf4b03d-ddf0-4eec-9dbd-fbd6f4808fae\",\"type\":\"Rect\"},{\"attributes\":{\"data_source\":{\"id\":\"2af3031c-e1e9-4fd5-b294-d21a849a9340\",\"type\":\"ColumnDataSource\"},\"glyph\":{\"id\":\"8d89e4ae-08b3-490c-87ba-7e46bea0b8b3\",\"type\":\"Rect\"},\"hover_glyph\":null,\"nonselection_glyph\":null,\"selection_glyph\":null},\"id\":\"5fad88bf-89eb-4a00-ad51-16c8b2e139d0\",\"type\":\"GlyphRenderer\"},{\"attributes\":{\"fill_alpha\":{\"field\":\"fill_alpha\"},\"fill_color\":{\"field\":\"color\"},\"height\":{\"field\":\"height\",\"units\":\"data\"},\"line_color\":{\"field\":\"line_color\"},\"width\":{\"field\":\"width\",\"units\":\"data\"},\"x\":{\"field\":\"x\"},\"y\":{\"field\":\"y\"}},\"id\":\"7a893cff-a09d-4e27-89b0-a723a44d677b\",\"type\":\"Rect\"},{\"attributes\":{\"fill_alpha\":{\"field\":\"fill_alpha\"},\"fill_color\":{\"field\":\"color\"},\"height\":{\"field\":\"height\",\"units\":\"data\"},\"line_color\":{\"field\":\"line_color\"},\"width\":{\"field\":\"width\",\"units\":\"data\"},\"x\":{\"field\":\"x\"},\"y\":{\"field\":\"y\"}},\"id\":\"0e85443f-d3e0-472c-99e1-92deef006e4d\",\"type\":\"Rect\"},{\"attributes\":{\"overlay\":{\"id\":\"dc1ce3f4-a193-4100-a320-e2f46dbbfa61\",\"type\":\"BoxAnnotation\"},\"plot\":{\"id\":\"ea1f27d3-388d-4e34-b976-4573f9f24332\",\"subtype\":\"Chart\",\"type\":\"Plot\"}},\"id\":\"75d6a637-c10f-41e7-a6f1-6c0265df1fdd\",\"type\":\"BoxZoomTool\"},{\"attributes\":{\"data_source\":{\"id\":\"633352b6-975c-4fb7-987e-2a9299264b4a\",\"type\":\"ColumnDataSource\"},\"glyph\":{\"id\":\"94fb4be4-8086-468c-a1a3-5f9034ecf194\",\"type\":\"Rect\"},\"hover_glyph\":null,\"nonselection_glyph\":null,\"selection_glyph\":null},\"id\":\"4dd21bc0-fa05-4278-a564-418f746f4262\",\"type\":\"GlyphRenderer\"},{\"attributes\":{},\"id\":\"4893ecee-e1c8-4a57-bfda-c1d43561cef2\",\"type\":\"BasicTickFormatter\"},{\"attributes\":{\"data_source\":{\"id\":\"1005c2b2-2e5d-418a-bf6a-cd65ca7f37c2\",\"type\":\"ColumnDataSource\"},\"glyph\":{\"id\":\"51f09ac9-b250-42d6-bdaf-d065871ea07d\",\"type\":\"Rect\"},\"hover_glyph\":null,\"nonselection_glyph\":null,\"selection_glyph\":null},\"id\":\"25410839-890f-46b5-891d-ed5b89a2fe3a\",\"type\":\"GlyphRenderer\"},{\"attributes\":{\"data_source\":{\"id\":\"e8cfbdd9-271f-48aa-b62b-fc7b4152b06c\",\"type\":\"ColumnDataSource\"},\"glyph\":{\"id\":\"770424a7-8b34-487d-8d89-72d0af3ab89a\",\"type\":\"Rect\"},\"hover_glyph\":null,\"nonselection_glyph\":null,\"selection_glyph\":null},\"id\":\"c4acf8a3-e7ee-46cb-abd3-f53ea0e6ad1c\",\"type\":\"GlyphRenderer\"},{\"attributes\":{\"data_source\":{\"id\":\"6d41f71d-38dd-49c1-842d-2851257b626b\",\"type\":\"ColumnDataSource\"},\"glyph\":{\"id\":\"51e259fe-11aa-4dfc-952b-cee1f2f18a24\",\"type\":\"Rect\"},\"hover_glyph\":null,\"nonselection_glyph\":null,\"selection_glyph\":null},\"id\":\"9d9b3c39-906d-4bc0-a4bf-045980217dbb\",\"type\":\"GlyphRenderer\"},{\"attributes\":{\"data_source\":{\"id\":\"51a913ae-594b-4856-916d-3db712f621d9\",\"type\":\"ColumnDataSource\"},\"glyph\":{\"id\":\"e8579342-d82f-4830-b092-270dcf9888a3\",\"type\":\"Rect\"},\"hover_glyph\":null,\"nonselection_glyph\":null,\"selection_glyph\":null},\"id\":\"d270cce3-a8c7-477b-a833-7e618fb42361\",\"type\":\"GlyphRenderer\"},{\"attributes\":{\"fill_alpha\":{\"field\":\"fill_alpha\"},\"fill_color\":{\"field\":\"color\"},\"height\":{\"field\":\"height\",\"units\":\"data\"},\"line_color\":{\"field\":\"line_color\"},\"width\":{\"field\":\"width\",\"units\":\"data\"},\"x\":{\"field\":\"x\"},\"y\":{\"field\":\"y\"}},\"id\":\"f2cbc3c4-d536-40d2-a2d3-3be9891294d7\",\"type\":\"Rect\"},{\"attributes\":{\"overlay\":{\"id\":\"4afdd7e6-5bee-484d-a6e8-6e4498ea164a\",\"type\":\"BoxAnnotation\"},\"plot\":{\"id\":\"421ef4f4-0375-4874-a721-d926330ec546\",\"subtype\":\"Chart\",\"type\":\"Plot\"}},\"id\":\"0c524199-9cc8-4e7a-b346-0015e73ba01a\",\"type\":\"BoxZoomTool\"},{\"attributes\":{\"fill_alpha\":{\"field\":\"fill_alpha\"},\"fill_color\":{\"field\":\"color\"},\"height\":{\"field\":\"height\",\"units\":\"data\"},\"line_color\":{\"field\":\"line_color\"},\"width\":{\"field\":\"width\",\"units\":\"data\"},\"x\":{\"field\":\"x\"},\"y\":{\"field\":\"y\"}},\"id\":\"77827d2e-550f-401e-9e2a-37f03b875c92\",\"type\":\"Rect\"},{\"attributes\":{\"fill_alpha\":{\"field\":\"fill_alpha\"},\"fill_color\":{\"field\":\"color\"},\"height\":{\"field\":\"height\",\"units\":\"data\"},\"line_color\":{\"field\":\"line_color\"},\"width\":{\"field\":\"width\",\"units\":\"data\"},\"x\":{\"field\":\"x\"},\"y\":{\"field\":\"y\"}},\"id\":\"9627cb8e-4317-4824-91ef-62155d9274a4\",\"type\":\"Rect\"},{\"attributes\":{\"data_source\":{\"id\":\"a0c6d8a7-da9a-4ff1-8842-db1fa7f42d39\",\"type\":\"ColumnDataSource\"},\"glyph\":{\"id\":\"d0c405c7-683b-42db-b4f6-ed631482f26a\",\"type\":\"Rect\"},\"hover_glyph\":null,\"nonselection_glyph\":null,\"selection_glyph\":null},\"id\":\"a21a4b31-6de5-4d5a-9c91-b6344808ab9b\",\"type\":\"GlyphRenderer\"},{\"attributes\":{\"callback\":null,\"column_names\":[\"fill_alpha\",\"line_color\",\"y\",\"line_alpha\",\"height\",\"width\",\"x\",\"color\",\"label\"],\"data\":{\"chart_index\":[\"(113.920653, 115.894620]\"],\"color\":[\"#f22c40\"],\"fill_alpha\":[0.8],\"height\":[74.0],\"label\":[\"(113.920653, 115.894620]\"],\"line_alpha\":[1.0],\"line_color\":[\"black\"],\"width\":[1.9739660980509086],\"x\":[\"114.9076365\"],\"y\":[37.0]}},\"id\":\"1e67df9b-2ed4-40f4-a7d4-79cc61a2a892\",\"type\":\"ColumnDataSource\"},{\"attributes\":{\"callback\":null,\"column_names\":[\"fill_alpha\",\"line_color\",\"y\",\"line_alpha\",\"height\",\"width\",\"x\",\"color\",\"label\"],\"data\":{\"chart_index\":[\"(38.600855, 40.122688]\"],\"color\":[\"#f22c40\"],\"fill_alpha\":[0.8],\"height\":[612.0],\"label\":[\"(38.600855, 40.122688]\"],\"line_alpha\":[1.0],\"line_color\":[\"black\"],\"width\":[1.5218330971588685],\"x\":[\"39.3617715\"],\"y\":[306.0]}},\"id\":\"25a44c0c-b422-4d9c-9e96-c61a553a54a3\",\"type\":\"ColumnDataSource\"},{\"attributes\":{\"data_source\":{\"id\":\"3c2c0b84-651e-40d2-8b17-78e063ecc331\",\"type\":\"ColumnDataSource\"},\"glyph\":{\"id\":\"28fac22f-ba41-46e1-8f51-a78240277703\",\"type\":\"Rect\"},\"hover_glyph\":null,\"nonselection_glyph\":null,\"selection_glyph\":null},\"id\":\"d6e04041-e71f-46b1-8d03-7b890c0d58c6\",\"type\":\"GlyphRenderer\"},{\"attributes\":{\"data_source\":{\"id\":\"fdf9f11d-eabc-4194-a748-88b2ec0f83f7\",\"type\":\"ColumnDataSource\"},\"glyph\":{\"id\":\"a9e29096-6048-4056-b24e-51a969cfee8e\",\"type\":\"Rect\"},\"hover_glyph\":null,\"nonselection_glyph\":null,\"selection_glyph\":null},\"id\":\"491cc3e1-87a4-46bc-96e2-45037e0b3d8a\",\"type\":\"GlyphRenderer\"},{\"attributes\":{\"data_source\":{\"id\":\"19600e7a-eb35-42a8-9aa5-7ca4a273495b\",\"type\":\"ColumnDataSource\"},\"glyph\":{\"id\":\"2f350206-2231-4ed5-9370-3b1868ddbf6e\",\"type\":\"Rect\"},\"hover_glyph\":null,\"nonselection_glyph\":null,\"selection_glyph\":null},\"id\":\"ed743753-c6bd-4b02-a1b0-b5159396bf3e\",\"type\":\"GlyphRenderer\"},{\"attributes\":{},\"id\":\"1a4fdba5-b822-4241-9117-aaf72843470e\",\"type\":\"ToolEvents\"},{\"attributes\":{\"fill_alpha\":{\"field\":\"fill_alpha\"},\"fill_color\":{\"field\":\"color\"},\"height\":{\"field\":\"height\",\"units\":\"data\"},\"line_color\":{\"field\":\"line_color\"},\"width\":{\"field\":\"width\",\"units\":\"data\"},\"x\":{\"field\":\"x\"},\"y\":{\"field\":\"y\"}},\"id\":\"e0c65a77-82a7-4641-ab29-372a89254a48\",\"type\":\"Rect\"},{\"attributes\":{\"callback\":null,\"column_names\":[\"fill_alpha\",\"line_color\",\"y\",\"line_alpha\",\"height\",\"width\",\"x\",\"color\",\"label\"],\"data\":{\"chart_index\":[\"(105.999761, 107.999618]\"],\"color\":[\"#f22c40\"],\"fill_alpha\":[0.8],\"height\":[213.0],\"label\":[\"(105.999761, 107.999618]\"],\"line_alpha\":[1.0],\"line_color\":[\"black\"],\"width\":[1.9998572472758411],\"x\":[\"106.9996895\"],\"y\":[106.5]}},\"id\":\"3f533152-eb8c-43d0-9e91-6127601c177c\",\"type\":\"ColumnDataSource\"},{\"attributes\":{\"fill_alpha\":{\"field\":\"fill_alpha\"},\"fill_color\":{\"field\":\"color\"},\"height\":{\"field\":\"height\",\"units\":\"data\"},\"line_color\":{\"field\":\"line_color\"},\"width\":{\"field\":\"width\",\"units\":\"data\"},\"x\":{\"field\":\"x\"},\"y\":{\"field\":\"y\"}},\"id\":\"d71f4555-8165-4a39-ab4f-9a7052c69b63\",\"type\":\"Rect\"},{\"attributes\":{\"callback\":null,\"column_names\":[\"fill_alpha\",\"line_color\",\"y\",\"line_alpha\",\"height\",\"width\",\"x\",\"color\",\"label\"],\"data\":{\"chart_index\":[\"(102.076857, 104.050823]\"],\"color\":[\"#f22c40\"],\"fill_alpha\":[0.8],\"height\":[147.0],\"label\":[\"(102.076857, 104.050823]\"],\"line_alpha\":[1.0],\"line_color\":[\"black\"],\"width\":[1.9739660980509086],\"x\":[\"103.06384\"],\"y\":[73.5]}},\"id\":\"72beb1e6-794f-47dd-9b8f-d3ff09886f4d\",\"type\":\"ColumnDataSource\"},{\"attributes\":{\"fill_alpha\":{\"field\":\"fill_alpha\"},\"fill_color\":{\"field\":\"color\"},\"height\":{\"field\":\"height\",\"units\":\"data\"},\"line_color\":{\"field\":\"line_color\"},\"width\":{\"field\":\"width\",\"units\":\"data\"},\"x\":{\"field\":\"x\"},\"y\":{\"field\":\"y\"}},\"id\":\"b819c9dd-e645-4479-8fb6-238d52e208e6\",\"type\":\"Rect\"},{\"attributes\":{\"callback\":null,\"column_names\":[\"fill_alpha\",\"line_color\",\"y\",\"line_alpha\",\"height\",\"width\",\"x\",\"color\",\"label\"],\"data\":{\"chart_index\":[\"(62.597535, 64.571501]\"],\"color\":[\"#f22c40\"],\"fill_alpha\":[0.8],\"height\":[297.0],\"label\":[\"(62.597535, 64.571501]\"],\"line_alpha\":[1.0],\"line_color\":[\"black\"],\"width\":[1.9739660980509086],\"x\":[\"63.584518\"],\"y\":[148.5]}},\"id\":\"05e503c6-f7d6-495f-9ad4-91fdffbbe9d7\",\"type\":\"ColumnDataSource\"},{\"attributes\":{\"callback\":null,\"column_names\":[\"fill_alpha\",\"line_color\",\"y\",\"line_alpha\",\"height\",\"width\",\"x\",\"color\",\"label\"],\"data\":{\"chart_index\":[\"(788.417160, 804.507299]\"],\"color\":[\"#f22c40\"],\"fill_alpha\":[0.8],\"height\":[2.0],\"label\":[\"(788.417160, 804.507299]\"],\"line_alpha\":[1.0],\"line_color\":[\"black\"],\"width\":[16.090139566527114],\"x\":[\"796.4622294999999\"],\"y\":[1.0]}},\"id\":\"3770f694-663c-4af6-949b-fba9c497875f\",\"type\":\"ColumnDataSource\"},{\"attributes\":{\"fill_alpha\":{\"field\":\"fill_alpha\"},\"fill_color\":{\"field\":\"color\"},\"height\":{\"field\":\"height\",\"units\":\"data\"},\"line_color\":{\"field\":\"line_color\"},\"width\":{\"field\":\"width\",\"units\":\"data\"},\"x\":{\"field\":\"x\"},\"y\":{\"field\":\"y\"}},\"id\":\"d5387bb8-ec7e-47b2-bc40-feb364ed414e\",\"type\":\"Rect\"},{\"attributes\":{\"callback\":null,\"column_names\":[\"fill_alpha\",\"line_color\",\"y\",\"line_alpha\",\"height\",\"width\",\"x\",\"color\",\"label\"],\"data\":{\"chart_index\":[\"(5.120527, 6.642360]\"],\"color\":[\"#f22c40\"],\"fill_alpha\":[0.8],\"height\":[3.0],\"label\":[\"(5.120527, 6.642360]\"],\"line_alpha\":[1.0],\"line_color\":[\"black\"],\"width\":[1.521833097158864],\"x\":[\"5.8814435\"],\"y\":[1.5]}},\"id\":\"63226801-3259-4a6c-85c5-644f9d98eb4f\",\"type\":\"ColumnDataSource\"},{\"attributes\":{\"callback\":null,\"column_names\":[\"fill_alpha\",\"line_color\",\"y\",\"line_alpha\",\"height\",\"width\",\"x\",\"color\",\"label\"],\"data\":{\"chart_index\":[\"(48.779772, 50.753738]\"],\"color\":[\"#f22c40\"],\"fill_alpha\":[0.8],\"height\":[251.0],\"label\":[\"(48.779772, 50.753738]\"],\"line_alpha\":[1.0],\"line_color\":[\"black\"],\"width\":[1.9739660980509157],\"x\":[\"49.766755\"],\"y\":[125.5]}},\"id\":\"c31dc53c-56d9-4599-9e75-ec83ce58e171\",\"type\":\"ColumnDataSource\"},{\"attributes\":{\"callback\":null,\"column_names\":[\"fill_alpha\",\"line_color\",\"y\",\"line_alpha\",\"height\",\"width\",\"x\",\"color\",\"label\"],\"data\":{\"chart_index\":[\"(67.515684, 69.037517]\"],\"color\":[\"#f22c40\"],\"fill_alpha\":[0.8],\"height\":[11.0],\"label\":[\"(67.515684, 69.037517]\"],\"line_alpha\":[1.0],\"line_color\":[\"black\"],\"width\":[1.5218330971588756],\"x\":[\"68.2766005\"],\"y\":[5.5]}},\"id\":\"e6a3b8ac-31e7-4569-b5a8-e294fe2ec488\",\"type\":\"ColumnDataSource\"},{\"attributes\":{\"fill_alpha\":{\"field\":\"fill_alpha\"},\"fill_color\":{\"field\":\"color\"},\"height\":{\"field\":\"height\",\"units\":\"data\"},\"line_color\":{\"field\":\"line_color\"},\"width\":{\"field\":\"width\",\"units\":\"data\"},\"x\":{\"field\":\"x\"},\"y\":{\"field\":\"y\"}},\"id\":\"1bd62ec8-24e8-40d7-8820-401c11461961\",\"type\":\"Rect\"},{\"attributes\":{\"fill_alpha\":{\"field\":\"fill_alpha\"},\"fill_color\":{\"field\":\"color\"},\"height\":{\"field\":\"height\",\"units\":\"data\"},\"line_color\":{\"field\":\"line_color\"},\"width\":{\"field\":\"width\",\"units\":\"data\"},\"x\":{\"field\":\"x\"},\"y\":{\"field\":\"y\"}},\"id\":\"95115eb9-1179-4b9e-a8c7-5c6f8ebcf6d0\",\"type\":\"Rect\"},{\"attributes\":{\"callback\":null,\"column_names\":[\"fill_alpha\",\"line_color\",\"y\",\"line_alpha\",\"height\",\"width\",\"x\",\"color\",\"label\"],\"data\":{\"chart_index\":[\"(691.876322, 707.966462]\"],\"color\":[\"#f22c40\"],\"fill_alpha\":[0.8],\"height\":[3.0],\"label\":[\"(691.876322, 707.966462]\"],\"line_alpha\":[1.0],\"line_color\":[\"black\"],\"width\":[16.090139566527114],\"x\":[\"699.921392\"],\"y\":[1.5]}},\"id\":\"12b41bd2-efef-4671-8d13-b874e53e784c\",\"type\":\"ColumnDataSource\"},{\"attributes\":{\"callback\":null,\"column_names\":[\"fill_alpha\",\"line_color\",\"y\",\"line_alpha\",\"height\",\"width\",\"x\",\"color\",\"label\"],\"data\":{\"chart_index\":[\"(106.024789, 107.998755]\"],\"color\":[\"#f22c40\"],\"fill_alpha\":[0.8],\"height\":[129.0],\"label\":[\"(106.024789, 107.998755]\"],\"line_alpha\":[1.0],\"line_color\":[\"black\"],\"width\":[1.9739660980509086],\"x\":[\"107.01177200000001\"],\"y\":[64.5]}},\"id\":\"9415c713-7cef-4588-8881-bae288af6d63\",\"type\":\"ColumnDataSource\"},{\"attributes\":{\"fill_alpha\":{\"field\":\"fill_alpha\"},\"fill_color\":{\"field\":\"color\"},\"height\":{\"field\":\"height\",\"units\":\"data\"},\"line_color\":{\"field\":\"line_color\"},\"width\":{\"field\":\"width\",\"units\":\"data\"},\"x\":{\"field\":\"x\"},\"y\":{\"field\":\"y\"}},\"id\":\"cddd19dd-a891-4c75-aeae-f1c7287fbdc7\",\"type\":\"Rect\"},{\"attributes\":{\"data_source\":{\"id\":\"7bcbcbdb-1e96-4bd4-ac49-d37fc6509475\",\"type\":\"ColumnDataSource\"},\"glyph\":{\"id\":\"7a893cff-a09d-4e27-89b0-a723a44d677b\",\"type\":\"Rect\"},\"hover_glyph\":null,\"nonselection_glyph\":null,\"selection_glyph\":null},\"id\":\"08533e90-e3b0-46b8-b2b6-077025fc5ec4\",\"type\":\"GlyphRenderer\"},{\"attributes\":{\"callback\":null,\"column_names\":[\"fill_alpha\",\"line_color\",\"y\",\"line_alpha\",\"height\",\"width\",\"x\",\"color\",\"label\"],\"data\":{\"chart_index\":[\"(82.001474, 84.001331]\"],\"color\":[\"#f22c40\"],\"fill_alpha\":[0.8],\"height\":[189.0],\"label\":[\"(82.001474, 84.001331]\"],\"line_alpha\":[1.0],\"line_color\":[\"black\"],\"width\":[1.999857247275827],\"x\":[\"83.0014025\"],\"y\":[94.5]}},\"id\":\"1168e934-01cc-4527-96a1-feaa926878e5\",\"type\":\"ColumnDataSource\"},{\"attributes\":{\"callback\":null,\"column_names\":[\"fill_alpha\",\"line_color\",\"y\",\"line_alpha\",\"height\",\"width\",\"x\",\"color\",\"label\"],\"data\":{\"chart_index\":[\"(23.118213, 25.092179]\"],\"color\":[\"#f22c40\"],\"fill_alpha\":[0.8],\"height\":[44.0],\"label\":[\"(23.118213, 25.092179]\"],\"line_alpha\":[1.0],\"line_color\":[\"black\"],\"width\":[1.9739660980509122],\"x\":[\"24.105196\"],\"y\":[22.0]}},\"id\":\"de5a0124-0234-4306-9d75-80f45309d633\",\"type\":\"ColumnDataSource\"},{\"attributes\":{\"plot\":null,\"text\":null},\"id\":\"20d70614-2f63-4890-9e22-4b10a12e9a19\",\"type\":\"Title\"},{\"attributes\":{\"callback\":null,\"column_names\":[\"fill_alpha\",\"line_color\",\"y\",\"line_alpha\",\"height\",\"width\",\"x\",\"color\",\"label\"],\"data\":{\"chart_index\":[\"[21.144247, 23.118213]\"],\"color\":[\"#f22c40\"],\"fill_alpha\":[0.8],\"height\":[24.0],\"label\":[\"[21.144247, 23.118213]\"],\"line_alpha\":[1.0],\"line_color\":[\"black\"],\"width\":[1.9739660980509086],\"x\":[\"22.131230000000002\"],\"y\":[12.0]}},\"id\":\"754bf541-4b95-475f-8871-ebd810ade9d1\",\"type\":\"ColumnDataSource\"},{\"attributes\":{\"fill_alpha\":{\"field\":\"fill_alpha\"},\"fill_color\":{\"field\":\"color\"},\"height\":{\"field\":\"height\",\"units\":\"data\"},\"line_color\":{\"field\":\"line_color\"},\"width\":{\"field\":\"width\",\"units\":\"data\"},\"x\":{\"field\":\"x\"},\"y\":{\"field\":\"y\"}},\"id\":\"bb58486b-e85d-4d30-9512-8fff3541b331\",\"type\":\"Rect\"},{\"attributes\":{\"callback\":null,\"column_names\":[\"fill_alpha\",\"line_color\",\"y\",\"line_alpha\",\"height\",\"width\",\"x\",\"color\",\"label\"],\"data\":{\"chart_index\":[\"(21.860691, 23.382524]\"],\"color\":[\"#f22c40\"],\"fill_alpha\":[0.8],\"height\":[121.0],\"label\":[\"(21.860691, 23.382524]\"],\"line_alpha\":[1.0],\"line_color\":[\"black\"],\"width\":[1.521833097158865],\"x\":[\"22.6216075\"],\"y\":[60.5]}},\"id\":\"8c57a5c9-112c-496f-8f25-2e48034d789a\",\"type\":\"ColumnDataSource\"},{\"attributes\":{\"callback\":null,\"column_names\":[\"fill_alpha\",\"line_color\",\"y\",\"line_alpha\",\"height\",\"width\",\"x\",\"color\",\"label\"],\"data\":{\"chart_index\":[\"(73.603016, 75.124849]\"],\"color\":[\"#f22c40\"],\"fill_alpha\":[0.8],\"height\":[0.0],\"label\":[\"(73.603016, 75.124849]\"],\"line_alpha\":[1.0],\"line_color\":[\"black\"],\"width\":[1.5218330971588756],\"x\":[\"74.3639325\"],\"y\":[0.0]}},\"id\":\"5001a40d-6608-4b2e-a772-0ce8fc69eb49\",\"type\":\"ColumnDataSource\"},{\"attributes\":{\"fill_alpha\":{\"field\":\"fill_alpha\"},\"fill_color\":{\"field\":\"color\"},\"height\":{\"field\":\"height\",\"units\":\"data\"},\"line_color\":{\"field\":\"line_color\"},\"width\":{\"field\":\"width\",\"units\":\"data\"},\"x\":{\"field\":\"x\"},\"y\":{\"field\":\"y\"}},\"id\":\"e69e47b3-8d9a-4803-be0e-ad04c4774bfb\",\"type\":\"Rect\"},{\"attributes\":{\"data_source\":{\"id\":\"8be88a54-32e1-45b1-b285-ad6fb54ce219\",\"type\":\"ColumnDataSource\"},\"glyph\":{\"id\":\"88e03764-ae7f-44f5-99fc-6dcf5a78c27e\",\"type\":\"Rect\"},\"hover_glyph\":null,\"nonselection_glyph\":null,\"selection_glyph\":null},\"id\":\"f6fafc70-27a5-43f0-8709-a9385fb6e40a\",\"type\":\"GlyphRenderer\"},{\"attributes\":{\"bottom_units\":\"screen\",\"fill_alpha\":{\"value\":0.5},\"fill_color\":{\"value\":\"lightgrey\"},\"left_units\":\"screen\",\"level\":\"overlay\",\"line_alpha\":{\"value\":1.0},\"line_color\":{\"value\":\"black\"},\"line_dash\":[4,4],\"line_width\":{\"value\":2},\"plot\":null,\"render_mode\":\"css\",\"right_units\":\"screen\",\"top_units\":\"screen\"},\"id\":\"2fbe2c8b-8291-41e4-bf72-0800c6392034\",\"type\":\"BoxAnnotation\"},{\"attributes\":{\"callback\":null,\"column_names\":[\"fill_alpha\",\"line_color\",\"y\",\"line_alpha\",\"height\",\"width\",\"x\",\"color\",\"label\"],\"data\":{\"chart_index\":[\"(115.999047, 117.998904]\"],\"color\":[\"#f22c40\"],\"fill_alpha\":[0.8],\"height\":[214.0],\"label\":[\"(115.999047, 117.998904]\"],\"line_alpha\":[1.0],\"line_color\":[\"black\"],\"width\":[1.9998572472758411],\"x\":[\"116.9989755\"],\"y\":[107.0]}},\"id\":\"1d44f1f5-49fc-4dde-b929-8ef82328fca8\",\"type\":\"ColumnDataSource\"},{\"attributes\":{\"data_source\":{\"id\":\"9797f4ba-ee7a-41b9-9b4e-871d9e8937cf\",\"type\":\"ColumnDataSource\"},\"glyph\":{\"id\":\"8ee79af0-a287-41cf-9cc2-999c793f3047\",\"type\":\"Rect\"},\"hover_glyph\":null,\"nonselection_glyph\":null,\"selection_glyph\":null},\"id\":\"6f01d48b-68e8-43e7-a05f-858d9d4fb7c3\",\"type\":\"GlyphRenderer\"},{\"attributes\":{\"fill_alpha\":{\"field\":\"fill_alpha\"},\"fill_color\":{\"field\":\"color\"},\"height\":{\"field\":\"height\",\"units\":\"data\"},\"line_color\":{\"field\":\"line_color\"},\"width\":{\"field\":\"width\",\"units\":\"data\"},\"x\":{\"field\":\"x\"},\"y\":{\"field\":\"y\"}},\"id\":\"d0bb2f2b-850a-4a6e-b8dc-6e6fae883ace\",\"type\":\"Rect\"},{\"attributes\":{\"fill_alpha\":{\"field\":\"fill_alpha\"},\"fill_color\":{\"field\":\"color\"},\"height\":{\"field\":\"height\",\"units\":\"data\"},\"line_color\":{\"field\":\"line_color\"},\"width\":{\"field\":\"width\",\"units\":\"data\"},\"x\":{\"field\":\"x\"},\"y\":{\"field\":\"y\"}},\"id\":\"e7d2948a-37d2-4dab-9960-3b2db4534f07\",\"type\":\"Rect\"},{\"attributes\":{\"axis_label\":\"Count( A )\",\"formatter\":{\"id\":\"898da6c4-d2a2-4e86-acf8-e041bdfdedd3\",\"type\":\"BasicTickFormatter\"},\"plot\":{\"id\":\"aa6e7afa-191b-4b23-9254-e85c48fbf314\",\"subtype\":\"Chart\",\"type\":\"Plot\"},\"ticker\":{\"id\":\"29ffee4a-f7db-48ac-a90b-22d04a9cc248\",\"type\":\"BasicTicker\"}},\"id\":\"cfe81284-d20a-4688-8503-daddf0a2ab8c\",\"type\":\"LinearAxis\"},{\"attributes\":{\"callback\":null,\"end\":673.2},\"id\":\"ae8e6aa4-49d8-4182-9c7d-392b9522aab8\",\"type\":\"Range1d\"},{\"attributes\":{\"callback\":null,\"column_names\":[\"fill_alpha\",\"line_color\",\"y\",\"line_alpha\",\"height\",\"width\",\"x\",\"color\",\"label\"],\"data\":{\"chart_index\":[\"(66.002616, 68.002473]\"],\"color\":[\"#f22c40\"],\"fill_alpha\":[0.8],\"height\":[202.0],\"label\":[\"(66.002616, 68.002473]\"],\"line_alpha\":[1.0],\"line_color\":[\"black\"],\"width\":[1.999857247275827],\"x\":[\"67.0025445\"],\"y\":[101.0]}},\"id\":\"f22af01b-7603-4105-9891-153e124fb2d7\",\"type\":\"ColumnDataSource\"},{\"attributes\":{\"fill_alpha\":{\"field\":\"fill_alpha\"},\"fill_color\":{\"field\":\"color\"},\"height\":{\"field\":\"height\",\"units\":\"data\"},\"line_color\":{\"field\":\"line_color\"},\"width\":{\"field\":\"width\",\"units\":\"data\"},\"x\":{\"field\":\"x\"},\"y\":{\"field\":\"y\"}},\"id\":\"7fb3f0bc-e4dd-4d72-8fc2-c4fb6322adbd\",\"type\":\"Rect\"},{\"attributes\":{\"axis_label\":\"a\",\"formatter\":{\"id\":\"4893ecee-e1c8-4a57-bfda-c1d43561cef2\",\"type\":\"BasicTickFormatter\"},\"plot\":{\"id\":\"421ef4f4-0375-4874-a721-d926330ec546\",\"subtype\":\"Chart\",\"type\":\"Plot\"},\"ticker\":{\"id\":\"6e37be4a-7beb-404d-8310-c4f3ef52e4c1\",\"type\":\"BasicTicker\"}},\"id\":\"2808709d-d469-496a-8c58-01ced4a64afc\",\"type\":\"LinearAxis\"},{\"attributes\":{\"fill_alpha\":{\"field\":\"fill_alpha\"},\"fill_color\":{\"field\":\"color\"},\"height\":{\"field\":\"height\",\"units\":\"data\"},\"line_color\":{\"field\":\"line_color\"},\"width\":{\"field\":\"width\",\"units\":\"data\"},\"x\":{\"field\":\"x\"},\"y\":{\"field\":\"y\"}},\"id\":\"0be64344-bf92-4125-bbfb-340a7ccaa8e3\",\"type\":\"Rect\"},{\"attributes\":{\"fill_alpha\":{\"field\":\"fill_alpha\"},\"fill_color\":{\"field\":\"color\"},\"height\":{\"field\":\"height\",\"units\":\"data\"},\"line_color\":{\"field\":\"line_color\"},\"width\":{\"field\":\"width\",\"units\":\"data\"},\"x\":{\"field\":\"x\"},\"y\":{\"field\":\"y\"}},\"id\":\"02124b09-d42e-422c-9403-d93ceb578c97\",\"type\":\"Rect\"},{\"attributes\":{\"fill_alpha\":{\"field\":\"fill_alpha\"},\"fill_color\":{\"field\":\"color\"},\"height\":{\"field\":\"height\",\"units\":\"data\"},\"line_color\":{\"field\":\"line_color\"},\"width\":{\"field\":\"width\",\"units\":\"data\"},\"x\":{\"field\":\"x\"},\"y\":{\"field\":\"y\"}},\"id\":\"faca75f9-8f43-4a8e-9197-2aa06fa1089e\",\"type\":\"Rect\"},{\"attributes\":{\"data_source\":{\"id\":\"a0dbe38c-10ae-45ff-b37c-feb61b69f9a8\",\"type\":\"ColumnDataSource\"},\"glyph\":{\"id\":\"6b7fca0d-2c77-431f-8532-657806d7d464\",\"type\":\"Rect\"},\"hover_glyph\":null,\"nonselection_glyph\":null,\"selection_glyph\":null},\"id\":\"79ad95e0-f048-4004-85c3-1a05a9163439\",\"type\":\"GlyphRenderer\"},{\"attributes\":{\"data_source\":{\"id\":\"36223c46-0d0b-45c4-891d-ba8d03811bd2\",\"type\":\"ColumnDataSource\"},\"glyph\":{\"id\":\"d008f2e1-0303-41ee-8104-8e755fa21f68\",\"type\":\"Rect\"},\"hover_glyph\":null,\"nonselection_glyph\":null,\"selection_glyph\":null},\"id\":\"fc84e230-b767-4eb2-85a8-8d23ea9dc591\",\"type\":\"GlyphRenderer\"},{\"attributes\":{\"callback\":null,\"column_names\":[\"fill_alpha\",\"line_color\",\"y\",\"line_alpha\",\"height\",\"width\",\"x\",\"color\",\"label\"],\"data\":{\"chart_index\":[\"(386.163670, 402.253810]\"],\"color\":[\"#f22c40\"],\"fill_alpha\":[0.8],\"height\":[30.0],\"label\":[\"(386.163670, 402.253810]\"],\"line_alpha\":[1.0],\"line_color\":[\"black\"],\"width\":[16.090139566527114],\"x\":[\"394.20874000000003\"],\"y\":[15.0]}},\"id\":\"40c784ae-c621-4a2d-a96a-36e61fad37cc\",\"type\":\"ColumnDataSource\"},{\"attributes\":{},\"id\":\"898da6c4-d2a2-4e86-acf8-e041bdfdedd3\",\"type\":\"BasicTickFormatter\"},{\"attributes\":{\"callback\":null,\"column_names\":[\"fill_alpha\",\"line_color\",\"y\",\"line_alpha\",\"height\",\"width\",\"x\",\"color\",\"label\"],\"data\":{\"chart_index\":[\"(59.906518, 61.428352]\"],\"color\":[\"#f22c40\"],\"fill_alpha\":[0.8],\"height\":[68.0],\"label\":[\"(59.906518, 61.428352]\"],\"line_alpha\":[1.0],\"line_color\":[\"black\"],\"width\":[1.5218330971588614],\"x\":[\"60.667435\"],\"y\":[34.0]}},\"id\":\"dbc805d5-c5b0-440a-b6a6-7fc7699290f5\",\"type\":\"ColumnDataSource\"},{\"attributes\":{\"fill_alpha\":{\"field\":\"fill_alpha\"},\"fill_color\":{\"field\":\"color\"},\"height\":{\"field\":\"height\",\"units\":\"data\"},\"line_color\":{\"field\":\"line_color\"},\"width\":{\"field\":\"width\",\"units\":\"data\"},\"x\":{\"field\":\"x\"},\"y\":{\"field\":\"y\"}},\"id\":\"88e03764-ae7f-44f5-99fc-6dcf5a78c27e\",\"type\":\"Rect\"},{\"attributes\":{\"callback\":null,\"column_names\":[\"fill_alpha\",\"line_color\",\"y\",\"line_alpha\",\"height\",\"width\",\"x\",\"color\",\"label\"],\"data\":{\"chart_index\":[\"(76.001902, 78.001759]\"],\"color\":[\"#f22c40\"],\"fill_alpha\":[0.8],\"height\":[195.0],\"label\":[\"(76.001902, 78.001759]\"],\"line_alpha\":[1.0],\"line_color\":[\"black\"],\"width\":[1.999857247275827],\"x\":[\"77.00183050000001\"],\"y\":[97.5]}},\"id\":\"5734e39d-f8dc-469a-b52c-a50e87092e9d\",\"type\":\"ColumnDataSource\"},{\"attributes\":{\"fill_alpha\":{\"field\":\"fill_alpha\"},\"fill_color\":{\"field\":\"color\"},\"height\":{\"field\":\"height\",\"units\":\"data\"},\"line_color\":{\"field\":\"line_color\"},\"width\":{\"field\":\"width\",\"units\":\"data\"},\"x\":{\"field\":\"x\"},\"y\":{\"field\":\"y\"}},\"id\":\"c10189b5-012a-49de-81ef-7c7c6d844235\",\"type\":\"Rect\"},{\"attributes\":{\"active_drag\":\"auto\",\"active_scroll\":\"auto\",\"active_tap\":\"auto\",\"tools\":[{\"id\":\"8c116193-f2d6-44f0-8937-b23c880c60a9\",\"type\":\"PanTool\"},{\"id\":\"1124b74c-dc87-4cd0-a814-8f2da965ac59\",\"type\":\"WheelZoomTool\"},{\"id\":\"0c524199-9cc8-4e7a-b346-0015e73ba01a\",\"type\":\"BoxZoomTool\"},{\"id\":\"2d0e55eb-defa-42c2-b030-123b2082e484\",\"type\":\"SaveTool\"},{\"id\":\"a254afe2-6768-4cec-a30b-19a399567d04\",\"type\":\"ResetTool\"},{\"id\":\"3c4781e5-438f-489a-962b-f462f634f4d5\",\"type\":\"HelpTool\"}]},\"id\":\"1f8066b9-6942-4261-afaf-331477be3907\",\"type\":\"Toolbar\"},{\"attributes\":{\"callback\":null,\"column_names\":[\"fill_alpha\",\"line_color\",\"y\",\"line_alpha\",\"height\",\"width\",\"x\",\"color\",\"label\"],\"data\":{\"chart_index\":[\"(48.003901, 50.003758]\"],\"color\":[\"#f22c40\"],\"fill_alpha\":[0.8],\"height\":[191.0],\"label\":[\"(48.003901, 50.003758]\"],\"line_alpha\":[1.0],\"line_color\":[\"black\"],\"width\":[1.999857247275827],\"x\":[\"49.003829499999995\"],\"y\":[95.5]}},\"id\":\"5f119e90-1df3-406f-b8d6-e9d70ac20911\",\"type\":\"ColumnDataSource\"},{\"attributes\":{},\"id\":\"8e18e0b1-cdf7-4dba-ba90-e739723aa9e2\",\"type\":\"BasicTickFormatter\"},{\"attributes\":{\"data_source\":{\"id\":\"5f8dc2df-8ad7-4c6b-bb9e-a0eac363552b\",\"type\":\"ColumnDataSource\"},\"glyph\":{\"id\":\"61a7dac4-abec-487a-9f52-daa729e07c0e\",\"type\":\"Rect\"},\"hover_glyph\":null,\"nonselection_glyph\":null,\"selection_glyph\":null},\"id\":\"38c81480-207c-46ea-984f-77f724d3c51b\",\"type\":\"GlyphRenderer\"},{\"attributes\":{\"fill_alpha\":{\"field\":\"fill_alpha\"},\"fill_color\":{\"field\":\"color\"},\"height\":{\"field\":\"height\",\"units\":\"data\"},\"line_color\":{\"field\":\"line_color\"},\"width\":{\"field\":\"width\",\"units\":\"data\"},\"x\":{\"field\":\"x\"},\"y\":{\"field\":\"y\"}},\"id\":\"2f12e942-0a53-4f79-922f-c555f1e87503\",\"type\":\"Rect\"},{\"attributes\":{\"fill_alpha\":{\"field\":\"fill_alpha\"},\"fill_color\":{\"field\":\"color\"},\"height\":{\"field\":\"height\",\"units\":\"data\"},\"line_color\":{\"field\":\"line_color\"},\"width\":{\"field\":\"width\",\"units\":\"data\"},\"x\":{\"field\":\"x\"},\"y\":{\"field\":\"y\"}},\"id\":\"65d48743-a54d-4df6-9d6a-dae2074bb8ef\",\"type\":\"Rect\"},{\"attributes\":{\"callback\":null,\"column_names\":[\"fill_alpha\",\"line_color\",\"y\",\"line_alpha\",\"height\",\"width\",\"x\",\"color\",\"label\"],\"data\":{\"chart_index\":[\"(100.102891, 102.076857]\"],\"color\":[\"#f22c40\"],\"fill_alpha\":[0.8],\"height\":[169.0],\"label\":[\"(100.102891, 102.076857]\"],\"line_alpha\":[1.0],\"line_color\":[\"black\"],\"width\":[1.9739660980509086],\"x\":[\"101.08987400000001\"],\"y\":[84.5]}},\"id\":\"e4a49f63-4c00-45c7-a28b-c6504f40b746\",\"type\":\"ColumnDataSource\"},{\"attributes\":{\"callback\":null,\"column_names\":[\"fill_alpha\",\"line_color\",\"y\",\"line_alpha\",\"height\",\"width\",\"x\",\"color\",\"label\"],\"data\":{\"chart_index\":[\"(53.819186, 55.341019]\"],\"color\":[\"#f22c40\"],\"fill_alpha\":[0.8],\"height\":[199.0],\"label\":[\"(53.819186, 55.341019]\"],\"line_alpha\":[1.0],\"line_color\":[\"black\"],\"width\":[1.5218330971588685],\"x\":[\"54.5801025\"],\"y\":[99.5]}},\"id\":\"3346f2f6-a003-4ca4-a621-c918cddbecc9\",\"type\":\"ColumnDataSource\"},{\"attributes\":{\"fill_alpha\":{\"field\":\"fill_alpha\"},\"fill_color\":{\"field\":\"color\"},\"height\":{\"field\":\"height\",\"units\":\"data\"},\"line_color\":{\"field\":\"line_color\"},\"width\":{\"field\":\"width\",\"units\":\"data\"},\"x\":{\"field\":\"x\"},\"y\":{\"field\":\"y\"}},\"id\":\"770424a7-8b34-487d-8d89-72d0af3ab89a\",\"type\":\"Rect\"},{\"attributes\":{\"data_source\":{\"id\":\"ea06435c-8091-4ac0-8d46-e796029dc370\",\"type\":\"ColumnDataSource\"},\"glyph\":{\"id\":\"e62b65af-b87a-483e-b1ab-bf3f4dc43241\",\"type\":\"Rect\"},\"hover_glyph\":null,\"nonselection_glyph\":null,\"selection_glyph\":null},\"id\":\"84e10783-8509-4682-a051-81bad0e543b6\",\"type\":\"GlyphRenderer\"},{\"attributes\":{\"data_source\":{\"id\":\"065230d6-5c1a-4bb3-bfad-37ea56173292\",\"type\":\"ColumnDataSource\"},\"glyph\":{\"id\":\"f4f38763-5bf2-4af6-b92d-bbc195f19e82\",\"type\":\"Rect\"},\"hover_glyph\":null,\"nonselection_glyph\":null,\"selection_glyph\":null},\"id\":\"e7b15a65-488b-4b05-aa01-015861033eb6\",\"type\":\"GlyphRenderer\"},{\"attributes\":{\"data_source\":{\"id\":\"86ad2f07-3801-4490-9cb8-769cc795738a\",\"type\":\"ColumnDataSource\"},\"glyph\":{\"id\":\"c41b8ec0-b075-49f1-8524-fd16d0b7a16d\",\"type\":\"Rect\"},\"hover_glyph\":null,\"nonselection_glyph\":null,\"selection_glyph\":null},\"id\":\"b32dddd9-aec7-4797-973e-6615d1e4749a\",\"type\":\"GlyphRenderer\"},{\"attributes\":{\"callback\":null,\"column_names\":[\"fill_alpha\",\"line_color\",\"y\",\"line_alpha\",\"height\",\"width\",\"x\",\"color\",\"label\"],\"data\":{\"chart_index\":[\"(60.623569, 62.597535]\"],\"color\":[\"#f22c40\"],\"fill_alpha\":[0.8],\"height\":[293.0],\"label\":[\"(60.623569, 62.597535]\"],\"line_alpha\":[1.0],\"line_color\":[\"black\"],\"width\":[1.9739660980509086],\"x\":[\"61.610552\"],\"y\":[146.5]}},\"id\":\"ff5828c1-b1ed-4212-b2cc-d8b903da9014\",\"type\":\"ColumnDataSource\"},{\"attributes\":{\"data_source\":{\"id\":\"0e99537a-ffcd-4647-91d6-e78464674f64\",\"type\":\"ColumnDataSource\"},\"glyph\":{\"id\":\"faca75f9-8f43-4a8e-9197-2aa06fa1089e\",\"type\":\"Rect\"},\"hover_glyph\":null,\"nonselection_glyph\":null,\"selection_glyph\":null},\"id\":\"6c5bf858-2549-4fa4-98e2-f6f0ef14fec1\",\"type\":\"GlyphRenderer\"},{\"attributes\":{},\"id\":\"c6048169-02fb-404a-83a1-76c6e02b19a4\",\"type\":\"BasicTickFormatter\"},{\"attributes\":{\"plot\":null,\"text\":null},\"id\":\"b85c76f4-9140-49b8-8c5b-7bbb9f3b68d3\",\"type\":\"Title\"},{\"attributes\":{\"data_source\":{\"id\":\"8c57a5c9-112c-496f-8f25-2e48034d789a\",\"type\":\"ColumnDataSource\"},\"glyph\":{\"id\":\"0e85443f-d3e0-472c-99e1-92deef006e4d\",\"type\":\"Rect\"},\"hover_glyph\":null,\"nonselection_glyph\":null,\"selection_glyph\":null},\"id\":\"cf46bc06-98c9-4a52-aab8-f100cd2613f4\",\"type\":\"GlyphRenderer\"},{\"attributes\":{\"fill_alpha\":{\"field\":\"fill_alpha\"},\"fill_color\":{\"field\":\"color\"},\"height\":{\"field\":\"height\",\"units\":\"data\"},\"line_color\":{\"field\":\"line_color\"},\"width\":{\"field\":\"width\",\"units\":\"data\"},\"x\":{\"field\":\"x\"},\"y\":{\"field\":\"y\"}},\"id\":\"70b32c6b-5170-4b2c-81f5-76168c532f08\",\"type\":\"Rect\"},{\"attributes\":{\"fill_alpha\":{\"field\":\"fill_alpha\"},\"fill_color\":{\"field\":\"color\"},\"height\":{\"field\":\"height\",\"units\":\"data\"},\"line_color\":{\"field\":\"line_color\"},\"width\":{\"field\":\"width\",\"units\":\"data\"},\"x\":{\"field\":\"x\"},\"y\":{\"field\":\"y\"}},\"id\":\"94fb4be4-8086-468c-a1a3-5f9034ecf194\",\"type\":\"Rect\"},{\"attributes\":{\"callback\":null,\"column_names\":[\"fill_alpha\",\"line_color\",\"y\",\"line_alpha\",\"height\",\"width\",\"x\",\"color\",\"label\"],\"data\":{\"chart_index\":[\"(98.128925, 100.102891]\"],\"color\":[\"#f22c40\"],\"fill_alpha\":[0.8],\"height\":[191.0],\"label\":[\"(98.128925, 100.102891]\"],\"line_alpha\":[1.0],\"line_color\":[\"black\"],\"width\":[1.9739660980509086],\"x\":[\"99.11590799999999\"],\"y\":[95.5]}},\"id\":\"56b2e44e-429e-4e66-8190-a664478f19c1\",\"type\":\"ColumnDataSource\"},{\"attributes\":{\"data_source\":{\"id\":\"a1660616-659f-40f6-bb0f-70974e73a73b\",\"type\":\"ColumnDataSource\"},\"glyph\":{\"id\":\"dda051c1-6905-451d-890c-d77337f9f587\",\"type\":\"Rect\"},\"hover_glyph\":null,\"nonselection_glyph\":null,\"selection_glyph\":null},\"id\":\"75635586-8367-4354-af16-20ffe2c4da0c\",\"type\":\"GlyphRenderer\"},{\"attributes\":{\"callback\":null,\"end\":350.90000000000003},\"id\":\"c5414919-b2be-4d6e-a041-61645a4322d8\",\"type\":\"Range1d\"},{\"attributes\":{},\"id\":\"517247cf-9652-4b6d-8c60-fe55a87b93d0\",\"type\":\"ToolEvents\"},{\"attributes\":{\"data_source\":{\"id\":\"36ff40c8-6c36-4084-a27a-d509abf0f466\",\"type\":\"ColumnDataSource\"},\"glyph\":{\"id\":\"ff9a2bae-4952-4e8b-875d-b56422244776\",\"type\":\"Rect\"},\"hover_glyph\":null,\"nonselection_glyph\":null,\"selection_glyph\":null},\"id\":\"b96b14f8-4cc0-4abd-a4dd-bfac78aed7ce\",\"type\":\"GlyphRenderer\"},{\"attributes\":{\"callback\":null,\"column_names\":[\"fill_alpha\",\"line_color\",\"y\",\"line_alpha\",\"height\",\"width\",\"x\",\"color\",\"label\"],\"data\":{\"chart_index\":[\"(9.686026, 11.207859]\"],\"color\":[\"#f22c40\"],\"fill_alpha\":[0.8],\"height\":[4.0],\"label\":[\"(9.686026, 11.207859]\"],\"line_alpha\":[1.0],\"line_color\":[\"black\"],\"width\":[1.521833097158865],\"x\":[\"10.446942499999999\"],\"y\":[2.0]}},\"id\":\"439da1c2-443e-420c-8678-6c2bb4fff973\",\"type\":\"ColumnDataSource\"},{\"attributes\":{\"data_source\":{\"id\":\"260243ec-dba2-4b16-b217-c63ca7e024b6\",\"type\":\"ColumnDataSource\"},\"glyph\":{\"id\":\"e989f91f-55d3-46c8-9a79-ed1d25c2167d\",\"type\":\"Rect\"},\"hover_glyph\":null,\"nonselection_glyph\":null,\"selection_glyph\":null},\"id\":\"7ade8337-af0e-4b53-aa25-e39c78c39bc2\",\"type\":\"GlyphRenderer\"},{\"attributes\":{\"callback\":null,\"column_names\":[\"fill_alpha\",\"line_color\",\"y\",\"line_alpha\",\"height\",\"width\",\"x\",\"color\",\"label\"],\"data\":{\"chart_index\":[\"(241.352414, 257.442554]\"],\"color\":[\"#f22c40\"],\"fill_alpha\":[0.8],\"height\":[121.0],\"label\":[\"(241.352414, 257.442554]\"],\"line_alpha\":[1.0],\"line_color\":[\"black\"],\"width\":[16.090139566527057],\"x\":[\"249.397484\"],\"y\":[60.5]}},\"id\":\"ff4bb92f-85c3-43cd-99aa-d9854b90845b\",\"type\":\"ColumnDataSource\"},{\"attributes\":{\"fill_alpha\":{\"field\":\"fill_alpha\"},\"fill_color\":{\"field\":\"color\"},\"height\":{\"field\":\"height\",\"units\":\"data\"},\"line_color\":{\"field\":\"line_color\"},\"width\":{\"field\":\"width\",\"units\":\"data\"},\"x\":{\"field\":\"x\"},\"y\":{\"field\":\"y\"}},\"id\":\"cc205cd3-057a-4b3a-a750-9c3d1c7365b0\",\"type\":\"Rect\"},{\"attributes\":{\"callback\":null,\"column_names\":[\"fill_alpha\",\"line_color\",\"y\",\"line_alpha\",\"height\",\"width\",\"x\",\"color\",\"label\"],\"data\":{\"chart_index\":[\"(96.154959, 98.128925]\"],\"color\":[\"#f22c40\"],\"fill_alpha\":[0.8],\"height\":[200.0],\"label\":[\"(96.154959, 98.128925]\"],\"line_alpha\":[1.0],\"line_color\":[\"black\"],\"width\":[1.9739660980509086],\"x\":[\"97.141942\"],\"y\":[100.0]}},\"id\":\"e94ea0a6-0d7a-40ee-b10f-2818d45390ed\",\"type\":\"ColumnDataSource\"},{\"attributes\":{\"fill_alpha\":{\"field\":\"fill_alpha\"},\"fill_color\":{\"field\":\"color\"},\"height\":{\"field\":\"height\",\"units\":\"data\"},\"line_color\":{\"field\":\"line_color\"},\"width\":{\"field\":\"width\",\"units\":\"data\"},\"x\":{\"field\":\"x\"},\"y\":{\"field\":\"y\"}},\"id\":\"18e41a4a-5a48-45cd-855a-00269ecd9e3e\",\"type\":\"Rect\"},{\"attributes\":{\"data_source\":{\"id\":\"0f575eed-9586-4eaa-88c3-0ebcec63e41c\",\"type\":\"ColumnDataSource\"},\"glyph\":{\"id\":\"8077158b-724f-4328-b53b-cb16f6354f31\",\"type\":\"Rect\"},\"hover_glyph\":null,\"nonselection_glyph\":null,\"selection_glyph\":null},\"id\":\"c56a5acf-93ae-4e28-a839-b80049d71b3f\",\"type\":\"GlyphRenderer\"},{\"attributes\":{\"callback\":null,\"column_names\":[\"fill_alpha\",\"line_color\",\"y\",\"line_alpha\",\"height\",\"width\",\"x\",\"color\",\"label\"],\"data\":{\"chart_index\":[\"(35.557189, 37.079022]\"],\"color\":[\"#f22c40\"],\"fill_alpha\":[0.8],\"height\":[552.0],\"label\":[\"(35.557189, 37.079022]\"],\"line_alpha\":[1.0],\"line_color\":[\"black\"],\"width\":[1.5218330971588685],\"x\":[\"36.3181055\"],\"y\":[276.0]}},\"id\":\"4b689272-078d-4e55-a6f6-46a67bfb02de\",\"type\":\"ColumnDataSource\"},{\"attributes\":{\"data_source\":{\"id\":\"e39fd5eb-a1fe-4fa2-b597-6b5f8fd9302d\",\"type\":\"ColumnDataSource\"},\"glyph\":{\"id\":\"06026a4d-1f9b-4f93-ab9d-baa666c10c18\",\"type\":\"Rect\"},\"hover_glyph\":null,\"nonselection_glyph\":null,\"selection_glyph\":null},\"id\":\"1c0c220c-f6ab-4421-ba77-169eb48e5861\",\"type\":\"GlyphRenderer\"},{\"attributes\":{\"data_source\":{\"id\":\"cf61480f-cc00-4b9c-85ef-9764e9e44dee\",\"type\":\"ColumnDataSource\"},\"glyph\":{\"id\":\"7fb3f0bc-e4dd-4d72-8fc2-c4fb6322adbd\",\"type\":\"Rect\"},\"hover_glyph\":null,\"nonselection_glyph\":null,\"selection_glyph\":null},\"id\":\"71306da0-3f2a-4e2a-8424-3cb293252bfd\",\"type\":\"GlyphRenderer\"},{\"attributes\":{\"callback\":null,\"column_names\":[\"fill_alpha\",\"line_color\",\"y\",\"line_alpha\",\"height\",\"width\",\"x\",\"color\",\"label\"],\"data\":{\"chart_index\":[\"(75.124849, 76.646682]\"],\"color\":[\"#f22c40\"],\"fill_alpha\":[0.8],\"height\":[2.0],\"label\":[\"(75.124849, 76.646682]\"],\"line_alpha\":[1.0],\"line_color\":[\"black\"],\"width\":[1.5218330971588614],\"x\":[\"75.88576549999999\"],\"y\":[1.0]}},\"id\":\"f8c35824-5d54-4ee5-8b6b-322c9cb8acf6\",\"type\":\"ColumnDataSource\"},{\"attributes\":{\"data_source\":{\"id\":\"522d75db-e83d-4d51-ac40-f07bd424a5f4\",\"type\":\"ColumnDataSource\"},\"glyph\":{\"id\":\"595aac81-a68c-4e63-bd00-d1289728be0b\",\"type\":\"Rect\"},\"hover_glyph\":null,\"nonselection_glyph\":null,\"selection_glyph\":null},\"id\":\"5448f1f1-ee64-40b7-8b61-9349a84f4128\",\"type\":\"GlyphRenderer\"},{\"attributes\":{\"fill_alpha\":{\"field\":\"fill_alpha\"},\"fill_color\":{\"field\":\"color\"},\"height\":{\"field\":\"height\",\"units\":\"data\"},\"line_color\":{\"field\":\"line_color\"},\"width\":{\"field\":\"width\",\"units\":\"data\"},\"x\":{\"field\":\"x\"},\"y\":{\"field\":\"y\"}},\"id\":\"834b8033-1eb2-4253-8c5f-f7fd93ba65f1\",\"type\":\"Rect\"},{\"attributes\":{\"fill_alpha\":{\"field\":\"fill_alpha\"},\"fill_color\":{\"field\":\"color\"},\"height\":{\"field\":\"height\",\"units\":\"data\"},\"line_color\":{\"field\":\"line_color\"},\"width\":{\"field\":\"width\",\"units\":\"data\"},\"x\":{\"field\":\"x\"},\"y\":{\"field\":\"y\"}},\"id\":\"6b7fca0d-2c77-431f-8532-657806d7d464\",\"type\":\"Rect\"},{\"attributes\":{\"callback\":null,\"column_names\":[\"fill_alpha\",\"line_color\",\"y\",\"line_alpha\",\"height\",\"width\",\"x\",\"color\",\"label\"],\"data\":{\"chart_index\":[\"(107.998755, 109.972721]\"],\"color\":[\"#f22c40\"],\"fill_alpha\":[0.8],\"height\":[122.0],\"label\":[\"(107.998755, 109.972721]\"],\"line_alpha\":[1.0],\"line_color\":[\"black\"],\"width\":[1.9739660980509086],\"x\":[\"108.985738\"],\"y\":[61.0]}},\"id\":\"629ba8ce-8906-4243-8718-66522b3bebf7\",\"type\":\"ColumnDataSource\"},{\"attributes\":{\"callback\":null,\"column_names\":[\"fill_alpha\",\"line_color\",\"y\",\"line_alpha\",\"height\",\"width\",\"x\",\"color\",\"label\"],\"data\":{\"chart_index\":[\"(109.999475, 111.999332]\"],\"color\":[\"#f22c40\"],\"fill_alpha\":[0.8],\"height\":[197.0],\"label\":[\"(109.999475, 111.999332]\"],\"line_alpha\":[1.0],\"line_color\":[\"black\"],\"width\":[1.999857247275827],\"x\":[\"110.9994035\"],\"y\":[98.5]}},\"id\":\"1dbc059f-1221-4a73-8c66-bbc7c34e6b54\",\"type\":\"ColumnDataSource\"},{\"attributes\":{\"callback\":null,\"column_names\":[\"fill_alpha\",\"line_color\",\"y\",\"line_alpha\",\"height\",\"width\",\"x\",\"color\",\"label\"],\"data\":{\"chart_index\":[\"(353.983391, 370.073531]\"],\"color\":[\"#f22c40\"],\"fill_alpha\":[0.8],\"height\":[44.0],\"label\":[\"(353.983391, 370.073531]\"],\"line_alpha\":[1.0],\"line_color\":[\"black\"],\"width\":[16.090139566527057],\"x\":[\"362.028461\"],\"y\":[22.0]}},\"id\":\"5edc1831-6390-4097-bf79-87ca7793172d\",\"type\":\"ColumnDataSource\"},{\"attributes\":{\"callback\":null,\"end\":123.49887762363791,\"start\":16.505782376362088},\"id\":\"e6ed0952-54bc-48c1-ac48-9690f35a876e\",\"type\":\"Range1d\"},{\"attributes\":{\"callback\":null,\"column_names\":[\"fill_alpha\",\"line_color\",\"y\",\"line_alpha\",\"height\",\"width\",\"x\",\"color\",\"label\"],\"data\":{\"chart_index\":[\"(530.974926, 547.065066]\"],\"color\":[\"#f22c40\"],\"fill_alpha\":[0.8],\"height\":[5.0],\"label\":[\"(530.974926, 547.065066]\"],\"line_alpha\":[1.0],\"line_color\":[\"black\"],\"width\":[16.090139566527114],\"x\":[\"539.019996\"],\"y\":[2.5]}},\"id\":\"47d22841-30d4-4f7e-92cd-3a0727917c19\",\"type\":\"ColumnDataSource\"},{\"attributes\":{\"fill_alpha\":{\"field\":\"fill_alpha\"},\"fill_color\":{\"field\":\"color\"},\"height\":{\"field\":\"height\",\"units\":\"data\"},\"line_color\":{\"field\":\"line_color\"},\"width\":{\"field\":\"width\",\"units\":\"data\"},\"x\":{\"field\":\"x\"},\"y\":{\"field\":\"y\"}},\"id\":\"e8579342-d82f-4830-b092-270dcf9888a3\",\"type\":\"Rect\"},{\"attributes\":{\"fill_alpha\":{\"field\":\"fill_alpha\"},\"fill_color\":{\"field\":\"color\"},\"height\":{\"field\":\"height\",\"units\":\"data\"},\"line_color\":{\"field\":\"line_color\"},\"width\":{\"field\":\"width\",\"units\":\"data\"},\"x\":{\"field\":\"x\"},\"y\":{\"field\":\"y\"}},\"id\":\"00d341d8-cc50-4d33-8704-71e3436b3f01\",\"type\":\"Rect\"},{\"attributes\":{\"data_source\":{\"id\":\"7cfd482d-82df-4488-9329-5ceaf77d38ca\",\"type\":\"ColumnDataSource\"},\"glyph\":{\"id\":\"45922a32-c5c5-46a8-8dfb-01f07e792f43\",\"type\":\"Rect\"},\"hover_glyph\":null,\"nonselection_glyph\":null,\"selection_glyph\":null},\"id\":\"a61bc210-d7e5-4819-a30f-631db992f9df\",\"type\":\"GlyphRenderer\"},{\"attributes\":{\"callback\":null,\"column_names\":[\"fill_alpha\",\"line_color\",\"y\",\"line_alpha\",\"height\",\"width\",\"x\",\"color\",\"label\"],\"data\":{\"chart_index\":[\"(50.753738, 52.727704]\"],\"color\":[\"#f22c40\"],\"fill_alpha\":[0.8],\"height\":[257.0],\"label\":[\"(50.753738, 52.727704]\"],\"line_alpha\":[1.0],\"line_color\":[\"black\"],\"width\":[1.9739660980509086],\"x\":[\"51.740721\"],\"y\":[128.5]}},\"id\":\"cbc00138-fdd6-4810-858d-ecfac39f4010\",\"type\":\"ColumnDataSource\"},{\"attributes\":{\"data_source\":{\"id\":\"8410ab65-d33f-4f74-a8b1-427e3464bea1\",\"type\":\"ColumnDataSource\"},\"glyph\":{\"id\":\"fe4c73ac-2850-402b-aa1f-8c5dfeda96be\",\"type\":\"Rect\"},\"hover_glyph\":null,\"nonselection_glyph\":null,\"selection_glyph\":null},\"id\":\"3c15537d-0802-42ac-942b-cb89e9cbbb68\",\"type\":\"GlyphRenderer\"},{\"attributes\":{\"data_source\":{\"id\":\"3346f2f6-a003-4ca4-a621-c918cddbecc9\",\"type\":\"ColumnDataSource\"},\"glyph\":{\"id\":\"7bf259ca-d0d8-4a4e-8ba7-f9da77a817f1\",\"type\":\"Rect\"},\"hover_glyph\":null,\"nonselection_glyph\":null,\"selection_glyph\":null},\"id\":\"7631c67c-0889-4636-b71c-6ce3293c1195\",\"type\":\"GlyphRenderer\"},{\"attributes\":{\"location\":\"top_left\",\"plot\":{\"id\":\"aa6e7afa-191b-4b23-9254-e85c48fbf314\",\"subtype\":\"Chart\",\"type\":\"Plot\"}},\"id\":\"b653aebf-9905-49a1-84cd-089e5c482fd2\",\"type\":\"Legend\"},{\"attributes\":{\"callback\":null,\"column_names\":[\"fill_alpha\",\"line_color\",\"y\",\"line_alpha\",\"height\",\"width\",\"x\",\"color\",\"label\"],\"data\":{\"chart_index\":[\"(563.155206, 579.245345]\"],\"color\":[\"#f22c40\"],\"fill_alpha\":[0.8],\"height\":[6.0],\"label\":[\"(563.155206, 579.245345]\"],\"line_alpha\":[1.0],\"line_color\":[\"black\"],\"width\":[16.090139566527114],\"x\":[\"571.2002755000001\"],\"y\":[3.0]}},\"id\":\"3d864bfb-11ce-4bda-b9cf-ee30311a94a4\",\"type\":\"ColumnDataSource\"},{\"attributes\":{\"plot\":{\"id\":\"421ef4f4-0375-4874-a721-d926330ec546\",\"subtype\":\"Chart\",\"type\":\"Plot\"}},\"id\":\"8c116193-f2d6-44f0-8937-b23c880c60a9\",\"type\":\"PanTool\"},{\"attributes\":{\"callback\":null,\"column_names\":[\"fill_alpha\",\"line_color\",\"y\",\"line_alpha\",\"height\",\"width\",\"x\",\"color\",\"label\"],\"data\":{\"chart_index\":[\"(78.168516, 79.690349]\"],\"color\":[\"#f22c40\"],\"fill_alpha\":[0.8],\"height\":[1.0],\"label\":[\"(78.168516, 79.690349]\"],\"line_alpha\":[1.0],\"line_color\":[\"black\"],\"width\":[1.5218330971588614],\"x\":[\"78.92943249999999\"],\"y\":[0.5]}},\"id\":\"7bcbcbdb-1e96-4bd4-ac49-d37fc6509475\",\"type\":\"ColumnDataSource\"},{\"attributes\":{\"callback\":null,\"column_names\":[\"fill_alpha\",\"line_color\",\"y\",\"line_alpha\",\"height\",\"width\",\"x\",\"color\",\"label\"],\"data\":{\"chart_index\":[\"(32.513523, 34.035356]\"],\"color\":[\"#f22c40\"],\"fill_alpha\":[0.8],\"height\":[482.0],\"label\":[\"(32.513523, 34.035356]\"],\"line_alpha\":[1.0],\"line_color\":[\"black\"],\"width\":[1.5218330971588614],\"x\":[\"33.2744395\"],\"y\":[241.0]}},\"id\":\"ffb1191a-779c-4703-86c4-c6f62c511a37\",\"type\":\"ColumnDataSource\"},{\"attributes\":{\"data_source\":{\"id\":\"6b97d3fc-b2f6-4593-aa2b-302ded341a1e\",\"type\":\"ColumnDataSource\"},\"glyph\":{\"id\":\"65d48743-a54d-4df6-9d6a-dae2074bb8ef\",\"type\":\"Rect\"},\"hover_glyph\":null,\"nonselection_glyph\":null,\"selection_glyph\":null},\"id\":\"8c1ceb91-608d-447f-b8b1-3eaecb96d7e5\",\"type\":\"GlyphRenderer\"},{\"attributes\":{\"data_source\":{\"id\":\"06d3c1b1-45d4-40c1-8fc3-7035e507152c\",\"type\":\"ColumnDataSource\"},\"glyph\":{\"id\":\"290ece58-1365-4f81-86ba-630e29e429fd\",\"type\":\"Rect\"},\"hover_glyph\":null,\"nonselection_glyph\":null,\"selection_glyph\":null},\"id\":\"6840d847-36b3-4a75-8255-6c38e1f6b75c\",\"type\":\"GlyphRenderer\"},{\"attributes\":{\"data_source\":{\"id\":\"38095c4e-065a-45f9-ad84-aef1050fc203\",\"type\":\"ColumnDataSource\"},\"glyph\":{\"id\":\"80895331-b448-45ad-acb9-350e5f9d8e3f\",\"type\":\"Rect\"},\"hover_glyph\":null,\"nonselection_glyph\":null,\"selection_glyph\":null},\"id\":\"1bb35fef-1018-4947-b1cf-b6537b52cedf\",\"type\":\"GlyphRenderer\"},{\"attributes\":{\"data_source\":{\"id\":\"f8c35824-5d54-4ee5-8b6b-322c9cb8acf6\",\"type\":\"ColumnDataSource\"},\"glyph\":{\"id\":\"38a48bc6-ab8f-4647-9deb-434c1724d1c7\",\"type\":\"Rect\"},\"hover_glyph\":null,\"nonselection_glyph\":null,\"selection_glyph\":null},\"id\":\"a65b82b7-511b-425f-bc8a-052e2c6eb1c1\",\"type\":\"GlyphRenderer\"},{\"attributes\":{\"callback\":null,\"column_names\":[\"fill_alpha\",\"line_color\",\"y\",\"line_alpha\",\"height\",\"width\",\"x\",\"color\",\"label\"],\"data\":{\"chart_index\":[\"(47.731854, 49.253687]\"],\"color\":[\"#f22c40\"],\"fill_alpha\":[0.8],\"height\":[433.0],\"label\":[\"(47.731854, 49.253687]\"],\"line_alpha\":[1.0],\"line_color\":[\"black\"],\"width\":[1.5218330971588614],\"x\":[\"48.4927705\"],\"y\":[216.5]}},\"id\":\"9e8ded8d-9fec-4b66-99c6-c9ce607545f4\",\"type\":\"ColumnDataSource\"},{\"attributes\":{\"callback\":null,\"column_names\":[\"fill_alpha\",\"line_color\",\"y\",\"line_alpha\",\"height\",\"width\",\"x\",\"color\",\"label\"],\"data\":{\"chart_index\":[\"(772.327020, 788.417160]\"],\"color\":[\"#f22c40\"],\"fill_alpha\":[0.8],\"height\":[1.0],\"label\":[\"(772.327020, 788.417160]\"],\"line_alpha\":[1.0],\"line_color\":[\"black\"],\"width\":[16.090139566527114],\"x\":[\"780.37209\"],\"y\":[0.5]}},\"id\":\"1bbed5d3-5b8b-4fb2-9c43-2f93f1476dbe\",\"type\":\"ColumnDataSource\"},{\"attributes\":{\"data_source\":{\"id\":\"f1d3312e-08d4-4db5-8440-99d4d9825275\",\"type\":\"ColumnDataSource\"},\"glyph\":{\"id\":\"dfeb2247-a300-4556-ab4b-b2b280bd0abb\",\"type\":\"Rect\"},\"hover_glyph\":null,\"nonselection_glyph\":null,\"selection_glyph\":null},\"id\":\"113ffcfc-910b-471c-8d28-1a046edec795\",\"type\":\"GlyphRenderer\"},{\"attributes\":{\"data_source\":{\"id\":\"e94ea0a6-0d7a-40ee-b10f-2818d45390ed\",\"type\":\"ColumnDataSource\"},\"glyph\":{\"id\":\"79922c35-f50a-4a0c-b926-0da83ba5acc6\",\"type\":\"Rect\"},\"hover_glyph\":null,\"nonselection_glyph\":null,\"selection_glyph\":null},\"id\":\"cd092dd7-058c-4ea3-82ae-cda819076622\",\"type\":\"GlyphRenderer\"},{\"attributes\":{\"fill_alpha\":{\"field\":\"fill_alpha\"},\"fill_color\":{\"field\":\"color\"},\"height\":{\"field\":\"height\",\"units\":\"data\"},\"line_color\":{\"field\":\"line_color\"},\"width\":{\"field\":\"width\",\"units\":\"data\"},\"x\":{\"field\":\"x\"},\"y\":{\"field\":\"y\"}},\"id\":\"ada041a7-0a02-4359-a769-5a1da7a2d4b7\",\"type\":\"Rect\"},{\"attributes\":{\"callback\":null,\"column_names\":[\"fill_alpha\",\"line_color\",\"y\",\"line_alpha\",\"height\",\"width\",\"x\",\"color\",\"label\"],\"data\":{\"chart_index\":[\"(58.649603, 60.623569]\"],\"color\":[\"#f22c40\"],\"fill_alpha\":[0.8],\"height\":[276.0],\"label\":[\"(58.649603, 60.623569]\"],\"line_alpha\":[1.0],\"line_color\":[\"black\"],\"width\":[1.9739660980509086],\"x\":[\"59.636586\"],\"y\":[138.0]}},\"id\":\"ed4ffd07-f06d-4871-bb67-5179b5eba875\",\"type\":\"ColumnDataSource\"},{\"attributes\":{\"callback\":null,\"column_names\":[\"fill_alpha\",\"line_color\",\"y\",\"line_alpha\",\"height\",\"width\",\"x\",\"color\",\"label\"],\"data\":{\"chart_index\":[\"(68.519433, 70.493399]\"],\"color\":[\"#f22c40\"],\"fill_alpha\":[0.8],\"height\":[288.0],\"label\":[\"(68.519433, 70.493399]\"],\"line_alpha\":[1.0],\"line_color\":[\"black\"],\"width\":[1.9739660980509086],\"x\":[\"69.506416\"],\"y\":[144.0]}},\"id\":\"5b04efeb-79bf-4f6e-b62c-f44226b78260\",\"type\":\"ColumnDataSource\"},{\"attributes\":{\"plot\":{\"id\":\"aa6e7afa-191b-4b23-9254-e85c48fbf314\",\"subtype\":\"Chart\",\"type\":\"Plot\"}},\"id\":\"2fe98680-d113-485e-8cc7-8f35389a2623\",\"type\":\"ResetTool\"},{\"attributes\":{\"callback\":null,\"column_names\":[\"fill_alpha\",\"line_color\",\"y\",\"line_alpha\",\"height\",\"width\",\"x\",\"color\",\"label\"],\"data\":{\"chart_index\":[\"(466.614368, 482.704508]\"],\"color\":[\"#f22c40\"],\"fill_alpha\":[0.8],\"height\":[11.0],\"label\":[\"(466.614368, 482.704508]\"],\"line_alpha\":[1.0],\"line_color\":[\"black\"],\"width\":[16.090139566527114],\"x\":[\"474.659438\"],\"y\":[5.5]}},\"id\":\"228a9466-32f2-44ea-bf8b-5ca668fa9199\",\"type\":\"ColumnDataSource\"},{\"attributes\":{\"data_source\":{\"id\":\"63226801-3259-4a6c-85c5-644f9d98eb4f\",\"type\":\"ColumnDataSource\"},\"glyph\":{\"id\":\"ea31825d-dd76-4fcc-99c3-6ad1906b45d1\",\"type\":\"Rect\"},\"hover_glyph\":null,\"nonselection_glyph\":null,\"selection_glyph\":null},\"id\":\"c083eb0a-ffe9-432c-9a0e-170b67bdc501\",\"type\":\"GlyphRenderer\"},{\"attributes\":{\"fill_alpha\":{\"field\":\"fill_alpha\"},\"fill_color\":{\"field\":\"color\"},\"height\":{\"field\":\"height\",\"units\":\"data\"},\"line_color\":{\"field\":\"line_color\"},\"width\":{\"field\":\"width\",\"units\":\"data\"},\"x\":{\"field\":\"x\"},\"y\":{\"field\":\"y\"}},\"id\":\"e989f91f-55d3-46c8-9a79-ed1d25c2167d\",\"type\":\"Rect\"},{\"attributes\":{\"callback\":null,\"column_names\":[\"fill_alpha\",\"line_color\",\"y\",\"line_alpha\",\"height\",\"width\",\"x\",\"color\",\"label\"],\"data\":{\"chart_index\":[\"(78.389264, 80.363230]\"],\"color\":[\"#f22c40\"],\"fill_alpha\":[0.8],\"height\":[304.0],\"label\":[\"(78.389264, 80.363230]\"],\"line_alpha\":[1.0],\"line_color\":[\"black\"],\"width\":[1.9739660980509086],\"x\":[\"79.376247\"],\"y\":[152.0]}},\"id\":\"389fd3f7-87e9-45f6-b76b-3c04a168f29f\",\"type\":\"ColumnDataSource\"},{\"attributes\":{\"callback\":null,\"column_names\":[\"fill_alpha\",\"line_color\",\"y\",\"line_alpha\",\"height\",\"width\",\"x\",\"color\",\"label\"],\"data\":{\"chart_index\":[\"(34.004900, 36.004757]\"],\"color\":[\"#f22c40\"],\"fill_alpha\":[0.8],\"height\":[204.0],\"label\":[\"(34.004900, 36.004757]\"],\"line_alpha\":[1.0],\"line_color\":[\"black\"],\"width\":[1.999857247275834],\"x\":[\"35.0048285\"],\"y\":[102.0]}},\"id\":\"e91ce242-40f3-49ab-ac69-b138fab935d0\",\"type\":\"ColumnDataSource\"},{\"attributes\":{\"callback\":null,\"column_names\":[\"fill_alpha\",\"line_color\",\"y\",\"line_alpha\",\"height\",\"width\",\"x\",\"color\",\"label\"],\"data\":{\"chart_index\":[\"(31.014077, 32.988043]\"],\"color\":[\"#f22c40\"],\"fill_alpha\":[0.8],\"height\":[131.0],\"label\":[\"(31.014077, 32.988043]\"],\"line_alpha\":[1.0],\"line_color\":[\"black\"],\"width\":[1.9739660980509086],\"x\":[\"32.001059999999995\"],\"y\":[65.5]}},\"id\":\"d0e8de77-2c48-431c-9b5b-88e56c95e091\",\"type\":\"ColumnDataSource\"},{\"attributes\":{\"data_source\":{\"id\":\"ff4bb92f-85c3-43cd-99aa-d9854b90845b\",\"type\":\"ColumnDataSource\"},\"glyph\":{\"id\":\"cc205cd3-057a-4b3a-a750-9c3d1c7365b0\",\"type\":\"Rect\"},\"hover_glyph\":null,\"nonselection_glyph\":null,\"selection_glyph\":null},\"id\":\"049bb1a7-90db-4d74-9518-5bd62a9c4d06\",\"type\":\"GlyphRenderer\"},{\"attributes\":{\"data_source\":{\"id\":\"bb3f0292-9538-4238-9fe1-d9bc0a79b379\",\"type\":\"ColumnDataSource\"},\"glyph\":{\"id\":\"59f9c81c-d6f2-4c88-98cb-92811cc3001b\",\"type\":\"Rect\"},\"hover_glyph\":null,\"nonselection_glyph\":null,\"selection_glyph\":null},\"id\":\"24e2365f-0b24-4e38-9178-321730dafd66\",\"type\":\"GlyphRenderer\"},{\"attributes\":{\"fill_alpha\":{\"field\":\"fill_alpha\"},\"fill_color\":{\"field\":\"color\"},\"height\":{\"field\":\"height\",\"units\":\"data\"},\"line_color\":{\"field\":\"line_color\"},\"width\":{\"field\":\"width\",\"units\":\"data\"},\"x\":{\"field\":\"x\"},\"y\":{\"field\":\"y\"}},\"id\":\"de55c8b4-d1aa-425a-ac7b-c4f9b653b8fa\",\"type\":\"Rect\"},{\"attributes\":{\"callback\":null,\"column_names\":[\"fill_alpha\",\"line_color\",\"y\",\"line_alpha\",\"height\",\"width\",\"x\",\"color\",\"label\"],\"data\":{\"chart_index\":[\"(418.343949, 434.434089]\"],\"color\":[\"#f22c40\"],\"fill_alpha\":[0.8],\"height\":[25.0],\"label\":[\"(418.343949, 434.434089]\"],\"line_alpha\":[1.0],\"line_color\":[\"black\"],\"width\":[16.090139566527114],\"x\":[\"426.38901899999996\"],\"y\":[12.5]}},\"id\":\"ea06435c-8091-4ac0-8d46-e796029dc370\",\"type\":\"ColumnDataSource\"},{\"attributes\":{\"plot\":{\"id\":\"ea1f27d3-388d-4e34-b976-4573f9f24332\",\"subtype\":\"Chart\",\"type\":\"Plot\"}},\"id\":\"3458d0e7-5be7-48b3-bbcc-52d859e84a84\",\"type\":\"PanTool\"},{\"attributes\":{\"data_source\":{\"id\":\"52f6fe71-9e59-4e5c-930f-b814196b9822\",\"type\":\"ColumnDataSource\"},\"glyph\":{\"id\":\"28da8ab5-3fd9-4ead-8fa3-8497161f2b9c\",\"type\":\"Rect\"},\"hover_glyph\":null,\"nonselection_glyph\":null,\"selection_glyph\":null},\"id\":\"38c042ea-7b5c-444c-a61b-f49d3a2642da\",\"type\":\"GlyphRenderer\"},{\"attributes\":{\"fill_alpha\":{\"field\":\"fill_alpha\"},\"fill_color\":{\"field\":\"color\"},\"height\":{\"field\":\"height\",\"units\":\"data\"},\"line_color\":{\"field\":\"line_color\"},\"width\":{\"field\":\"width\",\"units\":\"data\"},\"x\":{\"field\":\"x\"},\"y\":{\"field\":\"y\"}},\"id\":\"e64df355-4951-46e1-9989-11b2e9558a09\",\"type\":\"Rect\"},{\"attributes\":{\"fill_alpha\":{\"field\":\"fill_alpha\"},\"fill_color\":{\"field\":\"color\"},\"height\":{\"field\":\"height\",\"units\":\"data\"},\"line_color\":{\"field\":\"line_color\"},\"width\":{\"field\":\"width\",\"units\":\"data\"},\"x\":{\"field\":\"x\"},\"y\":{\"field\":\"y\"}},\"id\":\"0f426d2b-419d-4838-875c-204fa97213ff\",\"type\":\"Rect\"},{\"attributes\":{\"fill_alpha\":{\"field\":\"fill_alpha\"},\"fill_color\":{\"field\":\"color\"},\"height\":{\"field\":\"height\",\"units\":\"data\"},\"line_color\":{\"field\":\"line_color\"},\"width\":{\"field\":\"width\",\"units\":\"data\"},\"x\":{\"field\":\"x\"},\"y\":{\"field\":\"y\"}},\"id\":\"76307025-7325-40e8-b0d0-1c28382cb890\",\"type\":\"Rect\"},{\"attributes\":{\"callback\":null,\"column_names\":[\"fill_alpha\",\"line_color\",\"y\",\"line_alpha\",\"height\",\"width\",\"x\",\"color\",\"label\"],\"data\":{\"chart_index\":[\"(675.786183, 691.876322]\"],\"color\":[\"#f22c40\"],\"fill_alpha\":[0.8],\"height\":[4.0],\"label\":[\"(675.786183, 691.876322]\"],\"line_alpha\":[1.0],\"line_color\":[\"black\"],\"width\":[16.090139566527114],\"x\":[\"683.8312525\"],\"y\":[2.0]}},\"id\":\"11328ffc-ad44-402a-8bce-31ef74034456\",\"type\":\"ColumnDataSource\"},{\"attributes\":{\"callback\":null,\"column_names\":[\"fill_alpha\",\"line_color\",\"y\",\"line_alpha\",\"height\",\"width\",\"x\",\"color\",\"label\"],\"data\":{\"chart_index\":[\"(96.541158, 112.631298]\"],\"color\":[\"#f22c40\"],\"fill_alpha\":[0.8],\"height\":[612.0],\"label\":[\"(96.541158, 112.631298]\"],\"line_alpha\":[1.0],\"line_color\":[\"black\"],\"width\":[16.0901395665271],\"x\":[\"104.586228\"],\"y\":[306.0]}},\"id\":\"53669873-7234-4389-aa4c-6cc350b59240\",\"type\":\"ColumnDataSource\"},{\"attributes\":{\"callback\":null,\"column_names\":[\"fill_alpha\",\"line_color\",\"y\",\"line_alpha\",\"height\",\"width\",\"x\",\"color\",\"label\"],\"data\":{\"chart_index\":[\"(498.794647, 514.884787]\"],\"color\":[\"#f22c40\"],\"fill_alpha\":[0.8],\"height\":[13.0],\"label\":[\"(498.794647, 514.884787]\"],\"line_alpha\":[1.0],\"line_color\":[\"black\"],\"width\":[16.090139566527114],\"x\":[\"506.83971699999995\"],\"y\":[6.5]}},\"id\":\"065230d6-5c1a-4bb3-bfad-37ea56173292\",\"type\":\"ColumnDataSource\"},{\"attributes\":{\"fill_alpha\":{\"field\":\"fill_alpha\"},\"fill_color\":{\"field\":\"color\"},\"height\":{\"field\":\"height\",\"units\":\"data\"},\"line_color\":{\"field\":\"line_color\"},\"width\":{\"field\":\"width\",\"units\":\"data\"},\"x\":{\"field\":\"x\"},\"y\":{\"field\":\"y\"}},\"id\":\"d79ee9a7-9b40-49a7-a576-619b2f00ef39\",\"type\":\"Rect\"},{\"attributes\":{\"data_source\":{\"id\":\"11328ffc-ad44-402a-8bce-31ef74034456\",\"type\":\"ColumnDataSource\"},\"glyph\":{\"id\":\"7b6e0979-a484-41a1-80be-abb2aecfd784\",\"type\":\"Rect\"},\"hover_glyph\":null,\"nonselection_glyph\":null,\"selection_glyph\":null},\"id\":\"c8790760-494b-40ed-8b82-2dd2ee353045\",\"type\":\"GlyphRenderer\"},{\"attributes\":{\"fill_alpha\":{\"field\":\"fill_alpha\"},\"fill_color\":{\"field\":\"color\"},\"height\":{\"field\":\"height\",\"units\":\"data\"},\"line_color\":{\"field\":\"line_color\"},\"width\":{\"field\":\"width\",\"units\":\"data\"},\"x\":{\"field\":\"x\"},\"y\":{\"field\":\"y\"}},\"id\":\"80895331-b448-45ad-acb9-350e5f9d8e3f\",\"type\":\"Rect\"},{\"attributes\":{\"callback\":null,\"column_names\":[\"fill_alpha\",\"line_color\",\"y\",\"line_alpha\",\"height\",\"width\",\"x\",\"color\",\"label\"],\"data\":{\"chart_index\":[\"(289.622833, 305.712973]\"],\"color\":[\"#f22c40\"],\"fill_alpha\":[0.8],\"height\":[97.0],\"label\":[\"(289.622833, 305.712973]\"],\"line_alpha\":[1.0],\"line_color\":[\"black\"],\"width\":[16.090139566527114],\"x\":[\"297.667903\"],\"y\":[48.5]}},\"id\":\"df412f27-5280-4f7d-8ceb-e220990b962a\",\"type\":\"ColumnDataSource\"},{\"attributes\":{\"fill_alpha\":{\"field\":\"fill_alpha\"},\"fill_color\":{\"field\":\"color\"},\"height\":{\"field\":\"height\",\"units\":\"data\"},\"line_color\":{\"field\":\"line_color\"},\"width\":{\"field\":\"width\",\"units\":\"data\"},\"x\":{\"field\":\"x\"},\"y\":{\"field\":\"y\"}},\"id\":\"34613e28-40e8-469f-9e8d-146c105af56e\",\"type\":\"Rect\"},{\"attributes\":{\"callback\":null,\"column_names\":[\"fill_alpha\",\"line_color\",\"y\",\"line_alpha\",\"height\",\"width\",\"x\",\"color\",\"label\"],\"data\":{\"chart_index\":[\"(64.360879, 80.451019]\"],\"color\":[\"#f22c40\"],\"fill_alpha\":[0.8],\"height\":[776.0],\"label\":[\"(64.360879, 80.451019]\"],\"line_alpha\":[1.0],\"line_color\":[\"black\"],\"width\":[16.090139566527085],\"x\":[\"72.40594899999999\"],\"y\":[388.0]}},\"id\":\"03b905d2-36f1-44c7-9492-20635077396e\",\"type\":\"ColumnDataSource\"},{\"attributes\":{\"data_source\":{\"id\":\"5eb6e4c3-75ce-4a5e-820f-7f5cd55b082c\",\"type\":\"ColumnDataSource\"},\"glyph\":{\"id\":\"c368adbc-2d87-4964-a76e-12004974d21f\",\"type\":\"Rect\"},\"hover_glyph\":null,\"nonselection_glyph\":null,\"selection_glyph\":null},\"id\":\"ab91cbe9-d17f-42ad-bacb-f90b604f1b06\",\"type\":\"GlyphRenderer\"},{\"attributes\":{\"callback\":null,\"column_names\":[\"fill_alpha\",\"line_color\",\"y\",\"line_alpha\",\"height\",\"width\",\"x\",\"color\",\"label\"],\"data\":{\"chart_index\":[\"(627.515764, 643.605903]\"],\"color\":[\"#f22c40\"],\"fill_alpha\":[0.8],\"height\":[4.0],\"label\":[\"(627.515764, 643.605903]\"],\"line_alpha\":[1.0],\"line_color\":[\"black\"],\"width\":[16.090139566527],\"x\":[\"635.5608335\"],\"y\":[2.0]}},\"id\":\"3bf55b10-7852-4ff4-bd96-10748e877509\",\"type\":\"ColumnDataSource\"},{\"attributes\":{\"fill_alpha\":{\"field\":\"fill_alpha\"},\"fill_color\":{\"field\":\"color\"},\"height\":{\"field\":\"height\",\"units\":\"data\"},\"line_color\":{\"field\":\"line_color\"},\"width\":{\"field\":\"width\",\"units\":\"data\"},\"x\":{\"field\":\"x\"},\"y\":{\"field\":\"y\"}},\"id\":\"98aa79e3-108a-4845-b8e3-713080b085df\",\"type\":\"Rect\"},{\"attributes\":{\"data_source\":{\"id\":\"3770f694-663c-4af6-949b-fba9c497875f\",\"type\":\"ColumnDataSource\"},\"glyph\":{\"id\":\"18e41a4a-5a48-45cd-855a-00269ecd9e3e\",\"type\":\"Rect\"},\"hover_glyph\":null,\"nonselection_glyph\":null,\"selection_glyph\":null},\"id\":\"5ffa2d67-8764-4d8f-ae43-5284618d33b0\",\"type\":\"GlyphRenderer\"},{\"attributes\":{\"data_source\":{\"id\":\"e91ce242-40f3-49ab-ac69-b138fab935d0\",\"type\":\"ColumnDataSource\"},\"glyph\":{\"id\":\"1bb641c4-5a4c-45a0-8a6c-0dc05e957ab5\",\"type\":\"Rect\"},\"hover_glyph\":null,\"nonselection_glyph\":null,\"selection_glyph\":null},\"id\":\"ba2108f5-fb99-430a-81f2-a8f5997e362a\",\"type\":\"GlyphRenderer\"},{\"attributes\":{\"data_source\":{\"id\":\"147a57f8-7b87-433c-9e34-dc4090de8de2\",\"type\":\"ColumnDataSource\"},\"glyph\":{\"id\":\"c9594e57-4a35-4d75-a8f8-75934d90cdf0\",\"type\":\"Rect\"},\"hover_glyph\":null,\"nonselection_glyph\":null,\"selection_glyph\":null},\"id\":\"74d60a5b-602a-4e1a-ba0e-b1d56ef58a86\",\"type\":\"GlyphRenderer\"},{\"attributes\":{\"fill_alpha\":{\"field\":\"fill_alpha\"},\"fill_color\":{\"field\":\"color\"},\"height\":{\"field\":\"height\",\"units\":\"data\"},\"line_color\":{\"field\":\"line_color\"},\"width\":{\"field\":\"width\",\"units\":\"data\"},\"x\":{\"field\":\"x\"},\"y\":{\"field\":\"y\"}},\"id\":\"dfeb2247-a300-4556-ab4b-b2b280bd0abb\",\"type\":\"Rect\"},{\"attributes\":{\"data_source\":{\"id\":\"972923d6-b1e7-4eb0-a328-965b348c7dc5\",\"type\":\"ColumnDataSource\"},\"glyph\":{\"id\":\"1bd62ec8-24e8-40d7-8820-401c11461961\",\"type\":\"Rect\"},\"hover_glyph\":null,\"nonselection_glyph\":null,\"selection_glyph\":null},\"id\":\"e3465a4e-3551-43b3-8bdb-6893f31a24e3\",\"type\":\"GlyphRenderer\"},{\"attributes\":{\"callback\":null,\"column_names\":[\"fill_alpha\",\"line_color\",\"y\",\"line_alpha\",\"height\",\"width\",\"x\",\"color\",\"label\"],\"data\":{\"chart_index\":[\"(740.146741, 756.236880]\"],\"color\":[\"#f22c40\"],\"fill_alpha\":[0.8],\"height\":[1.0],\"label\":[\"(740.146741, 756.236880]\"],\"line_alpha\":[1.0],\"line_color\":[\"black\"],\"width\":[16.090139566527114],\"x\":[\"748.1918105\"],\"y\":[0.5]}},\"id\":\"f6737958-8941-4360-892c-b3d87accb821\",\"type\":\"ColumnDataSource\"},{\"attributes\":{\"axis_label\":\"Count( A )\",\"formatter\":{\"id\":\"8e18e0b1-cdf7-4dba-ba90-e739723aa9e2\",\"type\":\"BasicTickFormatter\"},\"plot\":{\"id\":\"8882f968-5c95-40a6-97b9-82107bc72984\",\"subtype\":\"Chart\",\"type\":\"Plot\"},\"ticker\":{\"id\":\"d9c927f1-cf54-4ce6-85c2-43b2cd4a924f\",\"type\":\"BasicTicker\"}},\"id\":\"39d86354-d805-414b-893a-2e5a016ac89b\",\"type\":\"LinearAxis\"},{\"attributes\":{\"callback\":null,\"column_names\":[\"fill_alpha\",\"line_color\",\"y\",\"line_alpha\",\"height\",\"width\",\"x\",\"color\",\"label\"],\"data\":{\"chart_index\":[\"(44.004186, 46.004043]\"],\"color\":[\"#f22c40\"],\"fill_alpha\":[0.8],\"height\":[165.0],\"label\":[\"(44.004186, 46.004043]\"],\"line_alpha\":[1.0],\"line_color\":[\"black\"],\"width\":[1.999857247275834],\"x\":[\"45.0041145\"],\"y\":[82.5]}},\"id\":\"06d3c1b1-45d4-40c1-8fc3-7035e507152c\",\"type\":\"ColumnDataSource\"},{\"attributes\":{\"callback\":null,\"column_names\":[\"fill_alpha\",\"line_color\",\"y\",\"line_alpha\",\"height\",\"width\",\"x\",\"color\",\"label\"],\"data\":{\"chart_index\":[\"(80.451019, 96.541158]\"],\"color\":[\"#f22c40\"],\"fill_alpha\":[0.8],\"height\":[676.0],\"label\":[\"(80.451019, 96.541158]\"],\"line_alpha\":[1.0],\"line_color\":[\"black\"],\"width\":[16.0901395665271],\"x\":[\"88.4960885\"],\"y\":[338.0]}},\"id\":\"522d75db-e83d-4d51-ac40-f07bd424a5f4\",\"type\":\"ColumnDataSource\"},{\"attributes\":{\"fill_alpha\":{\"field\":\"fill_alpha\"},\"fill_color\":{\"field\":\"color\"},\"height\":{\"field\":\"height\",\"units\":\"data\"},\"line_color\":{\"field\":\"line_color\"},\"width\":{\"field\":\"width\",\"units\":\"data\"},\"x\":{\"field\":\"x\"},\"y\":{\"field\":\"y\"}},\"id\":\"572ad35f-f880-40d5-8cc2-e34968b36d45\",\"type\":\"Rect\"},{\"attributes\":{\"data_source\":{\"id\":\"53b2bcc8-be25-46ba-b526-9459acc38cb6\",\"type\":\"ColumnDataSource\"},\"glyph\":{\"id\":\"a841cea9-d8c7-451b-bef5-bf5c362e1016\",\"type\":\"Rect\"},\"hover_glyph\":null,\"nonselection_glyph\":null,\"selection_glyph\":null},\"id\":\"b79c629c-df18-48fd-9f83-83c5aa2d9815\",\"type\":\"GlyphRenderer\"},{\"attributes\":{\"data_source\":{\"id\":\"67e816eb-6991-4d75-93cc-31bb5a38acac\",\"type\":\"ColumnDataSource\"},\"glyph\":{\"id\":\"e2a5354b-ab75-4ce4-be17-07fd6c8f25d8\",\"type\":\"Rect\"},\"hover_glyph\":null,\"nonselection_glyph\":null,\"selection_glyph\":null},\"id\":\"6345a424-129b-4886-9257-3dd5c9387712\",\"type\":\"GlyphRenderer\"},{\"attributes\":{\"data_source\":{\"id\":\"742f7316-52cd-41de-b175-039f891db354\",\"type\":\"ColumnDataSource\"},\"glyph\":{\"id\":\"e02f8bd7-d2d0-4f49-a6dd-1179fa7a8da5\",\"type\":\"Rect\"},\"hover_glyph\":null,\"nonselection_glyph\":null,\"selection_glyph\":null},\"id\":\"b48d96c6-4b6a-4302-b9cc-7869433bb4bf\",\"type\":\"GlyphRenderer\"},{\"attributes\":{\"data_source\":{\"id\":\"38cb4827-564f-4425-af9e-a23828425799\",\"type\":\"ColumnDataSource\"},\"glyph\":{\"id\":\"5aa5f756-5d3e-46af-9c32-bffeb25b93a8\",\"type\":\"Rect\"},\"hover_glyph\":null,\"nonselection_glyph\":null,\"selection_glyph\":null},\"id\":\"d4bd37c0-8994-4f41-b1ad-0ac054d38ead\",\"type\":\"GlyphRenderer\"},{\"attributes\":{\"fill_alpha\":{\"field\":\"fill_alpha\"},\"fill_color\":{\"field\":\"color\"},\"height\":{\"field\":\"height\",\"units\":\"data\"},\"line_color\":{\"field\":\"line_color\"},\"width\":{\"field\":\"width\",\"units\":\"data\"},\"x\":{\"field\":\"x\"},\"y\":{\"field\":\"y\"}},\"id\":\"955e0c72-0b61-4aee-bd93-bf8ddb2fac73\",\"type\":\"Rect\"},{\"attributes\":{\"below\":[{\"id\":\"8e3b70bf-4217-45d0-a3ef-0dc2e049d7e6\",\"type\":\"LinearAxis\"}],\"css_classes\":null,\"height\":300,\"left\":[{\"id\":\"cfe81284-d20a-4688-8503-daddf0a2ab8c\",\"type\":\"LinearAxis\"}],\"renderers\":[{\"id\":\"1680aafb-64de-469b-86e5-5c5fa4c195ad\",\"type\":\"BoxAnnotation\"},{\"id\":\"491cc3e1-87a4-46bc-96e2-45037e0b3d8a\",\"type\":\"GlyphRenderer\"},{\"id\":\"c083eb0a-ffe9-432c-9a0e-170b67bdc501\",\"type\":\"GlyphRenderer\"},{\"id\":\"6d531c0d-b8c1-4dc1-a7dd-a3aabf6c7730\",\"type\":\"GlyphRenderer\"},{\"id\":\"6c5bf858-2549-4fa4-98e2-f6f0ef14fec1\",\"type\":\"GlyphRenderer\"},{\"id\":\"38873104-f447-4c20-8112-3e3f9fb921b5\",\"type\":\"GlyphRenderer\"},{\"id\":\"db2d9c59-1cfe-4166-8b73-d45feabb0880\",\"type\":\"GlyphRenderer\"},{\"id\":\"5fad88bf-89eb-4a00-ad51-16c8b2e139d0\",\"type\":\"GlyphRenderer\"},{\"id\":\"d3a518d6-c181-4bd2-9b5e-cdb0f3e4601b\",\"type\":\"GlyphRenderer\"},{\"id\":\"0dc14dc6-55c8-42e1-aa13-e972bd6d97d1\",\"type\":\"GlyphRenderer\"},{\"id\":\"74d60a5b-602a-4e1a-ba0e-b1d56ef58a86\",\"type\":\"GlyphRenderer\"},{\"id\":\"d2bcf63a-dd93-443d-ba51-c15ff9929fdd\",\"type\":\"GlyphRenderer\"},{\"id\":\"32b98aa2-998f-4015-b271-176d3b23ae6f\",\"type\":\"GlyphRenderer\"},{\"id\":\"cf46bc06-98c9-4a52-aab8-f100cd2613f4\",\"type\":\"GlyphRenderer\"},{\"id\":\"a1913fa1-43a2-4ec5-bb30-bc9964ca5e8d\",\"type\":\"GlyphRenderer\"},{\"id\":\"c5ced1ca-3e9c-4f49-bda3-706eeb21beb6\",\"type\":\"GlyphRenderer\"},{\"id\":\"d9ce4125-51e3-4c45-aaeb-86a17e3b1753\",\"type\":\"GlyphRenderer\"},{\"id\":\"38c042ea-7b5c-444c-a61b-f49d3a2642da\",\"type\":\"GlyphRenderer\"},{\"id\":\"9370ce6d-96dd-4397-afc1-3219d2fa08dc\",\"type\":\"GlyphRenderer\"},{\"id\":\"b581826f-b9a7-4f27-81fe-01272f1d5a0a\",\"type\":\"GlyphRenderer\"},{\"id\":\"5e5592c3-0de9-45ca-a836-0809fd79ac12\",\"type\":\"GlyphRenderer\"},{\"id\":\"ab91cbe9-d17f-42ad-bacb-f90b604f1b06\",\"type\":\"GlyphRenderer\"},{\"id\":\"aa0734cf-b464-4a32-844a-a7b613c4965f\",\"type\":\"GlyphRenderer\"},{\"id\":\"ab580655-de2d-4626-ab87-24f9572cc99a\",\"type\":\"GlyphRenderer\"},{\"id\":\"a57084c2-f5a5-46c6-ba33-ea476f382d3b\",\"type\":\"GlyphRenderer\"},{\"id\":\"81ad2cc9-0aab-4318-a022-3046d723ad7a\",\"type\":\"GlyphRenderer\"},{\"id\":\"bf032f99-78a5-4c4e-aee9-bb84aa259fc1\",\"type\":\"GlyphRenderer\"},{\"id\":\"6f01d48b-68e8-43e7-a05f-858d9d4fb7c3\",\"type\":\"GlyphRenderer\"},{\"id\":\"c3529dd0-7d78-4131-9293-333cfc9d8283\",\"type\":\"GlyphRenderer\"},{\"id\":\"a21a4b31-6de5-4d5a-9c91-b6344808ab9b\",\"type\":\"GlyphRenderer\"},{\"id\":\"9125957d-bf9b-4aec-bf25-6b236f827918\",\"type\":\"GlyphRenderer\"},{\"id\":\"200594c2-fbb6-4a75-b24d-e1b74d291073\",\"type\":\"GlyphRenderer\"},{\"id\":\"734b4fed-5b61-4185-b387-b9c7bd26209f\",\"type\":\"GlyphRenderer\"},{\"id\":\"97d71db2-3452-4a82-bfb1-b26a88af42b9\",\"type\":\"GlyphRenderer\"},{\"id\":\"7631c67c-0889-4636-b71c-6ce3293c1195\",\"type\":\"GlyphRenderer\"},{\"id\":\"97bcc423-5ddc-4626-a18e-80348990d731\",\"type\":\"GlyphRenderer\"},{\"id\":\"7ade8337-af0e-4b53-aa25-e39c78c39bc2\",\"type\":\"GlyphRenderer\"},{\"id\":\"aada4f0c-cae1-4a6a-a799-ada1ba126705\",\"type\":\"GlyphRenderer\"},{\"id\":\"4e03a1bd-73b4-46c0-b07c-ceb8e3515d14\",\"type\":\"GlyphRenderer\"},{\"id\":\"58bf9160-f684-4457-8f21-e49e99d8d0b1\",\"type\":\"GlyphRenderer\"},{\"id\":\"87c69b29-6a07-4ad3-9a4d-3720555c9e90\",\"type\":\"GlyphRenderer\"},{\"id\":\"aab121a8-f83f-4752-97a3-9a2ec2aafa39\",\"type\":\"GlyphRenderer\"},{\"id\":\"d4bd37c0-8994-4f41-b1ad-0ac054d38ead\",\"type\":\"GlyphRenderer\"},{\"id\":\"49f02a34-c27e-4d7d-af85-d274603917bb\",\"type\":\"GlyphRenderer\"},{\"id\":\"1bb35fef-1018-4947-b1cf-b6537b52cedf\",\"type\":\"GlyphRenderer\"},{\"id\":\"c56a5acf-93ae-4e28-a839-b80049d71b3f\",\"type\":\"GlyphRenderer\"},{\"id\":\"b32dddd9-aec7-4797-973e-6615d1e4749a\",\"type\":\"GlyphRenderer\"},{\"id\":\"7803b501-b0b3-4f70-94ce-f90489e13ee3\",\"type\":\"GlyphRenderer\"},{\"id\":\"a65b82b7-511b-425f-bc8a-052e2c6eb1c1\",\"type\":\"GlyphRenderer\"},{\"id\":\"9d9b3c39-906d-4bc0-a4bf-045980217dbb\",\"type\":\"GlyphRenderer\"},{\"id\":\"08533e90-e3b0-46b8-b2b6-077025fc5ec4\",\"type\":\"GlyphRenderer\"},{\"id\":\"b653aebf-9905-49a1-84cd-089e5c482fd2\",\"type\":\"Legend\"},{\"id\":\"8e3b70bf-4217-45d0-a3ef-0dc2e049d7e6\",\"type\":\"LinearAxis\"},{\"id\":\"cfe81284-d20a-4688-8503-daddf0a2ab8c\",\"type\":\"LinearAxis\"},{\"id\":\"6496d014-68c4-4ba9-a099-2fa13ff85e5d\",\"type\":\"Grid\"}],\"title\":{\"id\":\"20d70614-2f63-4890-9e22-4b10a12e9a19\",\"type\":\"Title\"},\"tool_events\":{\"id\":\"d82d1934-c901-43ad-8ba2-e24582fffba1\",\"type\":\"ToolEvents\"},\"toolbar\":{\"id\":\"680c7012-6854-4e8a-9d01-8538976bdba2\",\"type\":\"Toolbar\"},\"toolbar_location\":null,\"width\":350,\"x_mapper_type\":\"auto\",\"x_range\":{\"id\":\"68ae1899-a650-47ff-86a1-32e526958c67\",\"type\":\"Range1d\"},\"y_mapper_type\":\"auto\",\"y_range\":{\"id\":\"ae8e6aa4-49d8-4182-9c7d-392b9522aab8\",\"type\":\"Range1d\"}},\"id\":\"aa6e7afa-191b-4b23-9254-e85c48fbf314\",\"subtype\":\"Chart\",\"type\":\"Plot\"},{\"attributes\":{\"fill_alpha\":{\"field\":\"fill_alpha\"},\"fill_color\":{\"field\":\"color\"},\"height\":{\"field\":\"height\",\"units\":\"data\"},\"line_color\":{\"field\":\"line_color\"},\"width\":{\"field\":\"width\",\"units\":\"data\"},\"x\":{\"field\":\"x\"},\"y\":{\"field\":\"y\"}},\"id\":\"60d8aeaa-984c-4013-a3a7-2b360f1af58f\",\"type\":\"Rect\"},{\"attributes\":{\"callback\":null,\"column_names\":[\"fill_alpha\",\"line_color\",\"y\",\"line_alpha\",\"height\",\"width\",\"x\",\"color\",\"label\"],\"data\":{\"chart_index\":[\"(611.425624, 627.515764]\"],\"color\":[\"#f22c40\"],\"fill_alpha\":[0.8],\"height\":[1.0],\"label\":[\"(611.425624, 627.515764]\"],\"line_alpha\":[1.0],\"line_color\":[\"black\"],\"width\":[16.090139566527114],\"x\":[\"619.470694\"],\"y\":[0.5]}},\"id\":\"80088bcd-8168-4ffd-a326-890296ae29a8\",\"type\":\"ColumnDataSource\"},{\"attributes\":{\"fill_alpha\":{\"field\":\"fill_alpha\"},\"fill_color\":{\"field\":\"color\"},\"height\":{\"field\":\"height\",\"units\":\"data\"},\"line_color\":{\"field\":\"line_color\"},\"width\":{\"field\":\"width\",\"units\":\"data\"},\"x\":{\"field\":\"x\"},\"y\":{\"field\":\"y\"}},\"id\":\"3c861e03-e976-4f54-aa7d-af9fd1ece7dc\",\"type\":\"Rect\"},{\"attributes\":{\"axis_label\":\"Count( A )\",\"formatter\":{\"id\":\"1459cef4-7dc4-4f80-a526-008b311d24da\",\"type\":\"BasicTickFormatter\"},\"plot\":{\"id\":\"421ef4f4-0375-4874-a721-d926330ec546\",\"subtype\":\"Chart\",\"type\":\"Plot\"},\"ticker\":{\"id\":\"bc542ae7-7902-49cd-90c8-141b136ff2b6\",\"type\":\"BasicTicker\"}},\"id\":\"5b9060e8-dccd-4f84-860c-886da77bab07\",\"type\":\"LinearAxis\"},{\"attributes\":{\"data_source\":{\"id\":\"25a44c0c-b422-4d9c-9e96-c61a553a54a3\",\"type\":\"ColumnDataSource\"},\"glyph\":{\"id\":\"4ee295a7-1e19-49d6-8280-e2f534a37900\",\"type\":\"Rect\"},\"hover_glyph\":null,\"nonselection_glyph\":null,\"selection_glyph\":null},\"id\":\"a57084c2-f5a5-46c6-ba33-ea476f382d3b\",\"type\":\"GlyphRenderer\"},{\"attributes\":{\"callback\":null,\"column_names\":[\"fill_alpha\",\"line_color\",\"y\",\"line_alpha\",\"height\",\"width\",\"x\",\"color\",\"label\"],\"data\":{\"chart_index\":[\"(80.001616, 82.001474]\"],\"color\":[\"#f22c40\"],\"fill_alpha\":[0.8],\"height\":[202.0],\"label\":[\"(80.001616, 82.001474]\"],\"line_alpha\":[1.0],\"line_color\":[\"black\"],\"width\":[1.9998572472758411],\"x\":[\"81.001545\"],\"y\":[101.0]}},\"id\":\"c71a9ae0-b531-45a6-8362-07325f01504e\",\"type\":\"ColumnDataSource\"},{\"attributes\":{\"callback\":null,\"column_names\":[\"fill_alpha\",\"line_color\",\"y\",\"line_alpha\",\"height\",\"width\",\"x\",\"color\",\"label\"],\"data\":{\"chart_index\":[\"(62.950185, 64.472018]\"],\"color\":[\"#f22c40\"],\"fill_alpha\":[0.8],\"height\":[31.0],\"label\":[\"(62.950185, 64.472018]\"],\"line_alpha\":[1.0],\"line_color\":[\"black\"],\"width\":[1.5218330971588614],\"x\":[\"63.7111015\"],\"y\":[15.5]}},\"id\":\"795ac6c8-a804-4607-bcf3-2282dadaa2fe\",\"type\":\"ColumnDataSource\"},{\"attributes\":{\"fill_alpha\":{\"field\":\"fill_alpha\"},\"fill_color\":{\"field\":\"color\"},\"height\":{\"field\":\"height\",\"units\":\"data\"},\"line_color\":{\"field\":\"line_color\"},\"width\":{\"field\":\"width\",\"units\":\"data\"},\"x\":{\"field\":\"x\"},\"y\":{\"field\":\"y\"}},\"id\":\"7bf259ca-d0d8-4a4e-8ba7-f9da77a817f1\",\"type\":\"Rect\"},{\"attributes\":{\"callback\":null,\"column_names\":[\"fill_alpha\",\"line_color\",\"y\",\"line_alpha\",\"height\",\"width\",\"x\",\"color\",\"label\"],\"data\":{\"chart_index\":[\"(72.467365, 74.441331]\"],\"color\":[\"#f22c40\"],\"fill_alpha\":[0.8],\"height\":[289.0],\"label\":[\"(72.467365, 74.441331]\"],\"line_alpha\":[1.0],\"line_color\":[\"black\"],\"width\":[1.9739660980509086],\"x\":[\"73.45434800000001\"],\"y\":[144.5]}},\"id\":\"742f7316-52cd-41de-b175-039f891db354\",\"type\":\"ColumnDataSource\"},{\"attributes\":{\"data_source\":{\"id\":\"3f533152-eb8c-43d0-9e91-6127601c177c\",\"type\":\"ColumnDataSource\"},\"glyph\":{\"id\":\"c0bd71cc-da28-43cc-8360-ebad12ac684b\",\"type\":\"Rect\"},\"hover_glyph\":null,\"nonselection_glyph\":null,\"selection_glyph\":null},\"id\":\"171bd33c-8dfd-400c-9f50-0a18900402b6\",\"type\":\"GlyphRenderer\"},{\"attributes\":{\"callback\":null,\"column_names\":[\"fill_alpha\",\"line_color\",\"y\",\"line_alpha\",\"height\",\"width\",\"x\",\"color\",\"label\"],\"data\":{\"chart_index\":[\"(11.207859, 12.729692]\"],\"color\":[\"#f22c40\"],\"fill_alpha\":[0.8],\"height\":[16.0],\"label\":[\"(11.207859, 12.729692]\"],\"line_alpha\":[1.0],\"line_color\":[\"black\"],\"width\":[1.521833097158865],\"x\":[\"11.9687755\"],\"y\":[8.0]}},\"id\":\"c9fc5f7b-ab43-4099-a998-b9092d7bb860\",\"type\":\"ColumnDataSource\"},{\"attributes\":{\"callback\":null,\"column_names\":[\"fill_alpha\",\"line_color\",\"y\",\"line_alpha\",\"height\",\"width\",\"x\",\"color\",\"label\"],\"data\":{\"chart_index\":[\"(257.442554, 273.532693]\"],\"color\":[\"#f22c40\"],\"fill_alpha\":[0.8],\"height\":[120.0],\"label\":[\"(257.442554, 273.532693]\"],\"line_alpha\":[1.0],\"line_color\":[\"black\"],\"width\":[16.090139566527114],\"x\":[\"265.4876235\"],\"y\":[60.0]}},\"id\":\"7f20c050-741c-4170-a43d-bf323fd46f1e\",\"type\":\"ColumnDataSource\"},{\"attributes\":{\"data_source\":{\"id\":\"b645078d-58fd-4523-9cac-9c0ee3f47a08\",\"type\":\"ColumnDataSource\"},\"glyph\":{\"id\":\"9c935147-cdd3-4e7e-91e3-cc5c0b1b1c3b\",\"type\":\"Rect\"},\"hover_glyph\":null,\"nonselection_glyph\":null,\"selection_glyph\":null},\"id\":\"678967f3-1fe2-4a0e-8757-28864ede2825\",\"type\":\"GlyphRenderer\"},{\"attributes\":{\"callback\":null,\"column_names\":[\"fill_alpha\",\"line_color\",\"y\",\"line_alpha\",\"height\",\"width\",\"x\",\"color\",\"label\"],\"data\":{\"chart_index\":[\"(43.166354, 44.688187]\"],\"color\":[\"#f22c40\"],\"fill_alpha\":[0.8],\"height\":[543.0],\"label\":[\"(43.166354, 44.688187]\"],\"line_alpha\":[1.0],\"line_color\":[\"black\"],\"width\":[1.5218330971588614],\"x\":[\"43.9272705\"],\"y\":[271.5]}},\"id\":\"9797f4ba-ee7a-41b9-9b4e-871d9e8937cf\",\"type\":\"ColumnDataSource\"},{\"attributes\":{\"plot\":{\"id\":\"ea1f27d3-388d-4e34-b976-4573f9f24332\",\"subtype\":\"Chart\",\"type\":\"Plot\"}},\"id\":\"79a20f8d-48ef-43e1-a241-e7ef004be7c2\",\"type\":\"WheelZoomTool\"},{\"attributes\":{\"callback\":null,\"column_names\":[\"fill_alpha\",\"line_color\",\"y\",\"line_alpha\",\"height\",\"width\",\"x\",\"color\",\"label\"],\"data\":{\"chart_index\":[\"(144.811577, 160.901716]\"],\"color\":[\"#f22c40\"],\"fill_alpha\":[0.8],\"height\":[338.0],\"label\":[\"(144.811577, 160.901716]\"],\"line_alpha\":[1.0],\"line_color\":[\"black\"],\"width\":[16.090139566527085],\"x\":[\"152.8566465\"],\"y\":[169.0]}},\"id\":\"09723ae7-424b-4f77-83e0-d621224d19be\",\"type\":\"ColumnDataSource\"},{\"attributes\":{\"fill_alpha\":{\"field\":\"fill_alpha\"},\"fill_color\":{\"field\":\"color\"},\"height\":{\"field\":\"height\",\"units\":\"data\"},\"line_color\":{\"field\":\"line_color\"},\"width\":{\"field\":\"width\",\"units\":\"data\"},\"x\":{\"field\":\"x\"},\"y\":{\"field\":\"y\"}},\"id\":\"38a48bc6-ab8f-4647-9deb-434c1724d1c7\",\"type\":\"Rect\"},{\"attributes\":{\"plot\":{\"id\":\"8882f968-5c95-40a6-97b9-82107bc72984\",\"subtype\":\"Chart\",\"type\":\"Plot\"}},\"id\":\"96b20b5c-1cbd-4b28-af9c-37d708547f08\",\"type\":\"PanTool\"},{\"attributes\":{\"callback\":null,\"column_names\":[\"fill_alpha\",\"line_color\",\"y\",\"line_alpha\",\"height\",\"width\",\"x\",\"color\",\"label\"],\"data\":{\"chart_index\":[\"(579.245345, 595.335485]\"],\"color\":[\"#f22c40\"],\"fill_alpha\":[0.8],\"height\":[4.0],\"label\":[\"(579.245345, 595.335485]\"],\"line_alpha\":[1.0],\"line_color\":[\"black\"],\"width\":[16.090139566527114],\"x\":[\"587.2904149999999\"],\"y\":[2.0]}},\"id\":\"ef037fb5-3670-45d7-bd42-b402a7c4e85c\",\"type\":\"ColumnDataSource\"},{\"attributes\":{\"fill_alpha\":{\"field\":\"fill_alpha\"},\"fill_color\":{\"field\":\"color\"},\"height\":{\"field\":\"height\",\"units\":\"data\"},\"line_color\":{\"field\":\"line_color\"},\"width\":{\"field\":\"width\",\"units\":\"data\"},\"x\":{\"field\":\"x\"},\"y\":{\"field\":\"y\"}},\"id\":\"078188bd-366f-48dd-ac27-1631616481ca\",\"type\":\"Rect\"},{\"attributes\":{\"data_source\":{\"id\":\"751f0d4c-489f-49d9-bb3b-e4bc0565af9f\",\"type\":\"ColumnDataSource\"},\"glyph\":{\"id\":\"def7ace1-6315-45dc-9b46-6e74c233880d\",\"type\":\"Rect\"},\"hover_glyph\":null,\"nonselection_glyph\":null,\"selection_glyph\":null},\"id\":\"e95d4d70-4f7e-4791-bb54-28f73b3ef0f8\",\"type\":\"GlyphRenderer\"},{\"attributes\":{\"active_drag\":\"auto\",\"active_scroll\":\"auto\",\"active_tap\":\"auto\",\"tools\":[{\"id\":\"6fea9265-1224-4485-a303-5dc2dc6b7957\",\"type\":\"PanTool\"},{\"id\":\"d7a0a74f-9879-4730-a553-43f2edb9c712\",\"type\":\"WheelZoomTool\"},{\"id\":\"facae820-50b8-4ed3-8a00-421ec9afc4be\",\"type\":\"BoxZoomTool\"},{\"id\":\"695af0b1-3045-4bcc-9bf8-fefa6a551785\",\"type\":\"SaveTool\"},{\"id\":\"2fe98680-d113-485e-8cc7-8f35389a2623\",\"type\":\"ResetTool\"},{\"id\":\"73448f4e-144c-4d9b-8895-dd3158580a25\",\"type\":\"HelpTool\"}]},\"id\":\"680c7012-6854-4e8a-9d01-8538976bdba2\",\"type\":\"Toolbar\"},{\"attributes\":{\"fill_alpha\":{\"field\":\"fill_alpha\"},\"fill_color\":{\"field\":\"color\"},\"height\":{\"field\":\"height\",\"units\":\"data\"},\"line_color\":{\"field\":\"line_color\"},\"width\":{\"field\":\"width\",\"units\":\"data\"},\"x\":{\"field\":\"x\"},\"y\":{\"field\":\"y\"}},\"id\":\"d140fc90-fa71-4ddb-ba0a-4ca792d8762f\",\"type\":\"Rect\"},{\"attributes\":{\"fill_alpha\":{\"field\":\"fill_alpha\"},\"fill_color\":{\"field\":\"color\"},\"height\":{\"field\":\"height\",\"units\":\"data\"},\"line_color\":{\"field\":\"line_color\"},\"width\":{\"field\":\"width\",\"units\":\"data\"},\"x\":{\"field\":\"x\"},\"y\":{\"field\":\"y\"}},\"id\":\"51e259fe-11aa-4dfc-952b-cee1f2f18a24\",\"type\":\"Rect\"},{\"attributes\":{\"callback\":null,\"column_names\":[\"fill_alpha\",\"line_color\",\"y\",\"line_alpha\",\"height\",\"width\",\"x\",\"color\",\"label\"],\"data\":{\"chart_index\":[\"[3.598694, 5.120527]\"],\"color\":[\"#f22c40\"],\"fill_alpha\":[0.8],\"height\":[5.0],\"label\":[\"[3.598694, 5.120527]\"],\"line_alpha\":[1.0],\"line_color\":[\"black\"],\"width\":[1.521833097158864],\"x\":[\"4.3596105000000005\"],\"y\":[2.5]}},\"id\":\"fdf9f11d-eabc-4194-a748-88b2ec0f83f7\",\"type\":\"ColumnDataSource\"},{\"attributes\":{\"callback\":null,\"column_names\":[\"fill_alpha\",\"line_color\",\"y\",\"line_alpha\",\"height\",\"width\",\"x\",\"color\",\"label\"],\"data\":{\"chart_index\":[\"(102.000046, 103.999903]\"],\"color\":[\"#f22c40\"],\"fill_alpha\":[0.8],\"height\":[213.0],\"label\":[\"(102.000046, 103.999903]\"],\"line_alpha\":[1.0],\"line_color\":[\"black\"],\"width\":[1.999857247275827],\"x\":[\"102.99997450000001\"],\"y\":[106.5]}},\"id\":\"11ea38f4-0821-48db-92df-e5c292aa57ab\",\"type\":\"ColumnDataSource\"},{\"attributes\":{\"data_source\":{\"id\":\"8495c94a-0d79-49d9-b287-77059b8aa16f\",\"type\":\"ColumnDataSource\"},\"glyph\":{\"id\":\"1932af62-a96d-4fe9-830a-ef94ec9af7fe\",\"type\":\"Rect\"},\"hover_glyph\":null,\"nonselection_glyph\":null,\"selection_glyph\":null},\"id\":\"40aa4769-ba2a-4c5f-a91e-df1132619c1d\",\"type\":\"GlyphRenderer\"},{\"attributes\":{\"axis_label\":\"Count( A )\",\"formatter\":{\"id\":\"e7f8ddb2-dd87-47fe-95c1-b2dae3350a06\",\"type\":\"BasicTickFormatter\"},\"plot\":{\"id\":\"ea1f27d3-388d-4e34-b976-4573f9f24332\",\"subtype\":\"Chart\",\"type\":\"Plot\"},\"ticker\":{\"id\":\"848092d0-25e6-4afd-8738-261bb6ac0ed5\",\"type\":\"BasicTicker\"}},\"id\":\"cf60c3e4-9352-49b7-aa18-f3e1cf4d9970\",\"type\":\"LinearAxis\"},{\"attributes\":{\"callback\":null,\"column_names\":[\"fill_alpha\",\"line_color\",\"y\",\"line_alpha\",\"height\",\"width\",\"x\",\"color\",\"label\"],\"data\":{\"chart_index\":[\"(46.805806, 48.779772]\"],\"color\":[\"#f22c40\"],\"fill_alpha\":[0.8],\"height\":[232.0],\"label\":[\"(46.805806, 48.779772]\"],\"line_alpha\":[1.0],\"line_color\":[\"black\"],\"width\":[1.9739660980509086],\"x\":[\"47.792789\"],\"y\":[116.0]}},\"id\":\"aa6c23b5-49f0-4bfa-aa54-4c8c818c8efc\",\"type\":\"ColumnDataSource\"},{\"attributes\":{\"fill_alpha\":{\"field\":\"fill_alpha\"},\"fill_color\":{\"field\":\"color\"},\"height\":{\"field\":\"height\",\"units\":\"data\"},\"line_color\":{\"field\":\"line_color\"},\"width\":{\"field\":\"width\",\"units\":\"data\"},\"x\":{\"field\":\"x\"},\"y\":{\"field\":\"y\"}},\"id\":\"fe0f0b64-08d0-4f5a-98a2-075fc1f8ab41\",\"type\":\"Rect\"},{\"attributes\":{\"callback\":null,\"column_names\":[\"fill_alpha\",\"line_color\",\"y\",\"line_alpha\",\"height\",\"width\",\"x\",\"color\",\"label\"],\"data\":{\"chart_index\":[\"(72.002187, 74.002045]\"],\"color\":[\"#f22c40\"],\"fill_alpha\":[0.8],\"height\":[232.0],\"label\":[\"(72.002187, 74.002045]\"],\"line_alpha\":[1.0],\"line_color\":[\"black\"],\"width\":[1.999857247275827],\"x\":[\"73.002116\"],\"y\":[116.0]}},\"id\":\"a0e2ad74-c388-4921-b0ce-e873dac32e26\",\"type\":\"ColumnDataSource\"},{\"attributes\":{\"data_source\":{\"id\":\"cbc00138-fdd6-4810-858d-ecfac39f4010\",\"type\":\"ColumnDataSource\"},\"glyph\":{\"id\":\"fe0f0b64-08d0-4f5a-98a2-075fc1f8ab41\",\"type\":\"Rect\"},\"hover_glyph\":null,\"nonselection_glyph\":null,\"selection_glyph\":null},\"id\":\"db56c5f6-a5c4-473a-a3c4-9bbc45240c9a\",\"type\":\"GlyphRenderer\"},{\"attributes\":{\"fill_alpha\":{\"field\":\"fill_alpha\"},\"fill_color\":{\"field\":\"color\"},\"height\":{\"field\":\"height\",\"units\":\"data\"},\"line_color\":{\"field\":\"line_color\"},\"width\":{\"field\":\"width\",\"units\":\"data\"},\"x\":{\"field\":\"x\"},\"y\":{\"field\":\"y\"}},\"id\":\"ea31825d-dd76-4fcc-99c3-6ad1906b45d1\",\"type\":\"Rect\"},{\"attributes\":{\"fill_alpha\":{\"field\":\"fill_alpha\"},\"fill_color\":{\"field\":\"color\"},\"height\":{\"field\":\"height\",\"units\":\"data\"},\"line_color\":{\"field\":\"line_color\"},\"width\":{\"field\":\"width\",\"units\":\"data\"},\"x\":{\"field\":\"x\"},\"y\":{\"field\":\"y\"}},\"id\":\"c305a852-d487-406e-b87c-415b0664e7dd\",\"type\":\"Rect\"},{\"attributes\":{\"sizing_mode\":\"scale_width\",\"toolbar_location\":\"above\",\"tools\":[{\"id\":\"8c116193-f2d6-44f0-8937-b23c880c60a9\",\"type\":\"PanTool\"},{\"id\":\"1124b74c-dc87-4cd0-a814-8f2da965ac59\",\"type\":\"WheelZoomTool\"},{\"id\":\"0c524199-9cc8-4e7a-b346-0015e73ba01a\",\"type\":\"BoxZoomTool\"},{\"id\":\"2d0e55eb-defa-42c2-b030-123b2082e484\",\"type\":\"SaveTool\"},{\"id\":\"a254afe2-6768-4cec-a30b-19a399567d04\",\"type\":\"ResetTool\"},{\"id\":\"3c4781e5-438f-489a-962b-f462f634f4d5\",\"type\":\"HelpTool\"},{\"id\":\"6fea9265-1224-4485-a303-5dc2dc6b7957\",\"type\":\"PanTool\"},{\"id\":\"d7a0a74f-9879-4730-a553-43f2edb9c712\",\"type\":\"WheelZoomTool\"},{\"id\":\"facae820-50b8-4ed3-8a00-421ec9afc4be\",\"type\":\"BoxZoomTool\"},{\"id\":\"695af0b1-3045-4bcc-9bf8-fefa6a551785\",\"type\":\"SaveTool\"},{\"id\":\"2fe98680-d113-485e-8cc7-8f35389a2623\",\"type\":\"ResetTool\"},{\"id\":\"73448f4e-144c-4d9b-8895-dd3158580a25\",\"type\":\"HelpTool\"},{\"id\":\"3458d0e7-5be7-48b3-bbcc-52d859e84a84\",\"type\":\"PanTool\"},{\"id\":\"79a20f8d-48ef-43e1-a241-e7ef004be7c2\",\"type\":\"WheelZoomTool\"},{\"id\":\"75d6a637-c10f-41e7-a6f1-6c0265df1fdd\",\"type\":\"BoxZoomTool\"},{\"id\":\"a674245b-0bbf-4be6-87fc-abfb85078602\",\"type\":\"SaveTool\"},{\"id\":\"107ea0bd-9441-43f0-907d-850f8e1c7786\",\"type\":\"ResetTool\"},{\"id\":\"1fda3ac5-8170-412d-86f0-18a5844a61df\",\"type\":\"HelpTool\"},{\"id\":\"96b20b5c-1cbd-4b28-af9c-37d708547f08\",\"type\":\"PanTool\"},{\"id\":\"a21a5748-b863-4249-87ff-08714a294832\",\"type\":\"WheelZoomTool\"},{\"id\":\"3fbba2e0-0aa6-4dec-aacc-397f5896cb2b\",\"type\":\"BoxZoomTool\"},{\"id\":\"3f685c99-61e9-4a64-90b9-e4e9affaa529\",\"type\":\"SaveTool\"},{\"id\":\"db2c1372-9fc5-4518-a1cc-f8406ab4f85a\",\"type\":\"ResetTool\"},{\"id\":\"04ad4485-d4c3-47bd-b909-c78895089205\",\"type\":\"HelpTool\"}]},\"id\":\"1e1dbc4b-d36f-4e9d-97a8-074d704736ee\",\"type\":\"ToolbarBox\"},{\"attributes\":{\"callback\":null,\"column_names\":[\"fill_alpha\",\"line_color\",\"y\",\"line_alpha\",\"height\",\"width\",\"x\",\"color\",\"label\"],\"data\":{\"chart_index\":[\"(111.946687, 113.920653]\"],\"color\":[\"#f22c40\"],\"fill_alpha\":[0.8],\"height\":[68.0],\"label\":[\"(111.946687, 113.920653]\"],\"line_alpha\":[1.0],\"line_color\":[\"black\"],\"width\":[1.9739660980509086],\"x\":[\"112.93367\"],\"y\":[34.0]}},\"id\":\"0fc34452-b7a1-4c08-ad73-26ee100bf461\",\"type\":\"ColumnDataSource\"},{\"attributes\":{\"below\":[{\"id\":\"bbc0ee48-1f86-4d28-815c-29c96bd45923\",\"type\":\"LinearAxis\"}],\"css_classes\":null,\"height\":300,\"left\":[{\"id\":\"39d86354-d805-414b-893a-2e5a016ac89b\",\"type\":\"LinearAxis\"}],\"renderers\":[{\"id\":\"2fbe2c8b-8291-41e4-bf72-0800c6392034\",\"type\":\"BoxAnnotation\"},{\"id\":\"803c937c-ff69-49c6-b622-0628a8d0e8db\",\"type\":\"GlyphRenderer\"},{\"id\":\"27e750b4-0f53-41b4-a2d6-5f8eb3a37a72\",\"type\":\"GlyphRenderer\"},{\"id\":\"678967f3-1fe2-4a0e-8757-28864ede2825\",\"type\":\"GlyphRenderer\"},{\"id\":\"ed574d5e-d643-40da-9dd5-562e295a3ff9\",\"type\":\"GlyphRenderer\"},{\"id\":\"4dd21bc0-fa05-4278-a564-418f746f4262\",\"type\":\"GlyphRenderer\"},{\"id\":\"f41d3175-c179-4592-85a5-53f3ecbf4de2\",\"type\":\"GlyphRenderer\"},{\"id\":\"f171d7d6-fbe7-42c6-99e6-ea1c107f3a2d\",\"type\":\"GlyphRenderer\"},{\"id\":\"8c1ceb91-608d-447f-b8b1-3eaecb96d7e5\",\"type\":\"GlyphRenderer\"},{\"id\":\"f546f706-8a42-48a3-902e-070b004c1c97\",\"type\":\"GlyphRenderer\"},{\"id\":\"38c81480-207c-46ea-984f-77f724d3c51b\",\"type\":\"GlyphRenderer\"},{\"id\":\"c6c2cd97-3716-4195-8488-8b4216e265a8\",\"type\":\"GlyphRenderer\"},{\"id\":\"5649e3da-0383-4b6d-846c-879b5b18ff12\",\"type\":\"GlyphRenderer\"},{\"id\":\"40aa4769-ba2a-4c5f-a91e-df1132619c1d\",\"type\":\"GlyphRenderer\"},{\"id\":\"66a4f50e-b82c-4577-9b65-d5bb98271c61\",\"type\":\"GlyphRenderer\"},{\"id\":\"aea541ca-15c4-48c7-b9cf-2ca3e19c61f1\",\"type\":\"GlyphRenderer\"},{\"id\":\"db56c5f6-a5c4-473a-a3c4-9bbc45240c9a\",\"type\":\"GlyphRenderer\"},{\"id\":\"02cb8abf-2db1-4558-9c5d-152558e18249\",\"type\":\"GlyphRenderer\"},{\"id\":\"26abdfda-f87c-43a1-9f63-9761037b4663\",\"type\":\"GlyphRenderer\"},{\"id\":\"dcb6342a-379c-4b89-b5e0-b0eae1eb32e6\",\"type\":\"GlyphRenderer\"},{\"id\":\"35616e1f-2022-48b1-a6c4-0aa5e35e4740\",\"type\":\"GlyphRenderer\"},{\"id\":\"18abdfcd-78ab-4e5c-b83b-a48f25d7d67e\",\"type\":\"GlyphRenderer\"},{\"id\":\"52dc8daf-14d8-40d6-94ba-1c94ec93c47d\",\"type\":\"GlyphRenderer\"},{\"id\":\"1c2a8e57-c69d-46d2-b67a-40c99872f1cc\",\"type\":\"GlyphRenderer\"},{\"id\":\"6b1de58c-fbc7-4fc9-90bd-8100bde67bb6\",\"type\":\"GlyphRenderer\"},{\"id\":\"f32661c5-2aa8-4dd7-8d72-8f9555dd0802\",\"type\":\"GlyphRenderer\"},{\"id\":\"79ad95e0-f048-4004-85c3-1a05a9163439\",\"type\":\"GlyphRenderer\"},{\"id\":\"b48d96c6-4b6a-4302-b9cc-7869433bb4bf\",\"type\":\"GlyphRenderer\"},{\"id\":\"274b4a5b-b031-4a9e-8039-7038620b502c\",\"type\":\"GlyphRenderer\"},{\"id\":\"d270cce3-a8c7-477b-a833-7e618fb42361\",\"type\":\"GlyphRenderer\"},{\"id\":\"c18fd06a-c11a-4f16-8ac8-66a634307dc0\",\"type\":\"GlyphRenderer\"},{\"id\":\"54de78a4-6e84-43f2-b6d0-0f87cb08026e\",\"type\":\"GlyphRenderer\"},{\"id\":\"a61bc210-d7e5-4819-a30f-631db992f9df\",\"type\":\"GlyphRenderer\"},{\"id\":\"3204f32c-6c73-4a97-bb77-3002d5ca8d9f\",\"type\":\"GlyphRenderer\"},{\"id\":\"703c2aba-0eac-4c65-8bc5-dc400edf379e\",\"type\":\"GlyphRenderer\"},{\"id\":\"2c1d48ac-cf11-4a0c-a29a-f1ef7339bfd2\",\"type\":\"GlyphRenderer\"},{\"id\":\"b857fc70-23b5-4d88-a7fc-75503de3328b\",\"type\":\"GlyphRenderer\"},{\"id\":\"b79c629c-df18-48fd-9f83-83c5aa2d9815\",\"type\":\"GlyphRenderer\"},{\"id\":\"a42f167a-938c-4fa9-bbb6-317f5086a8cc\",\"type\":\"GlyphRenderer\"},{\"id\":\"cd092dd7-058c-4ea3-82ae-cda819076622\",\"type\":\"GlyphRenderer\"},{\"id\":\"8247f816-55ff-4a41-9fff-f4a513fb7b91\",\"type\":\"GlyphRenderer\"},{\"id\":\"e9e81606-42f0-461a-a3b3-d0ded04c3fd4\",\"type\":\"GlyphRenderer\"},{\"id\":\"aa38a092-5da1-409c-9d5d-e8e2f0547816\",\"type\":\"GlyphRenderer\"},{\"id\":\"f905bd8e-d9f8-49b2-ae42-115960f8b303\",\"type\":\"GlyphRenderer\"},{\"id\":\"8c3ef3d9-74fc-465a-a4ab-57893395c202\",\"type\":\"GlyphRenderer\"},{\"id\":\"f061932b-ab88-4a9c-9b8f-0ad6ad1d5f42\",\"type\":\"GlyphRenderer\"},{\"id\":\"25410839-890f-46b5-891d-ed5b89a2fe3a\",\"type\":\"GlyphRenderer\"},{\"id\":\"4a97174d-5c5e-4ff3-b735-bce519ca7c5f\",\"type\":\"GlyphRenderer\"},{\"id\":\"b5bd9b1d-f2a7-4a7e-859b-e95c26a5b2a9\",\"type\":\"GlyphRenderer\"},{\"id\":\"f6fafc70-27a5-43f0-8709-a9385fb6e40a\",\"type\":\"GlyphRenderer\"},{\"id\":\"39a7ae81-7841-478d-ab1f-b02d478a0548\",\"type\":\"GlyphRenderer\"},{\"id\":\"aee4ed33-a538-4c0d-baa1-22b034b9e684\",\"type\":\"Legend\"},{\"id\":\"bbc0ee48-1f86-4d28-815c-29c96bd45923\",\"type\":\"LinearAxis\"},{\"id\":\"39d86354-d805-414b-893a-2e5a016ac89b\",\"type\":\"LinearAxis\"},{\"id\":\"77d17d46-42b6-4197-882f-1d12c0a501eb\",\"type\":\"Grid\"}],\"title\":{\"id\":\"d30302ad-261e-48ea-b8d0-97daa21ce3c5\",\"type\":\"Title\"},\"tool_events\":{\"id\":\"517247cf-9652-4b6d-8c60-fe55a87b93d0\",\"type\":\"ToolEvents\"},\"toolbar\":{\"id\":\"d0e3405f-f53d-4b8e-878e-81902ffe0788\",\"type\":\"Toolbar\"},\"toolbar_location\":null,\"width\":350,\"x_mapper_type\":\"auto\",\"x_range\":{\"id\":\"f385a4a2-890c-4ff2-8701-c8be8deb1c32\",\"type\":\"Range1d\"},\"y_mapper_type\":\"auto\",\"y_range\":{\"id\":\"c5414919-b2be-4d6e-a041-61645a4322d8\",\"type\":\"Range1d\"}},\"id\":\"8882f968-5c95-40a6-97b9-82107bc72984\",\"subtype\":\"Chart\",\"type\":\"Plot\"},{\"attributes\":{\"data_source\":{\"id\":\"1b445fb3-bcd9-486f-bcd4-5a59f153a2fa\",\"type\":\"ColumnDataSource\"},\"glyph\":{\"id\":\"164ec8e0-f7bb-4586-bce9-76ea75384451\",\"type\":\"Rect\"},\"hover_glyph\":null,\"nonselection_glyph\":null,\"selection_glyph\":null},\"id\":\"2f75d3c0-c171-42f8-b2f9-1a36e6fd9130\",\"type\":\"GlyphRenderer\"},{\"attributes\":{\"callback\":null,\"column_names\":[\"fill_alpha\",\"line_color\",\"y\",\"line_alpha\",\"height\",\"width\",\"x\",\"color\",\"label\"],\"data\":{\"chart_index\":[\"(117.868586, 119.842552]\"],\"color\":[\"#f22c40\"],\"fill_alpha\":[0.8],\"height\":[19.0],\"label\":[\"(117.868586, 119.842552]\"],\"line_alpha\":[1.0],\"line_color\":[\"black\"],\"width\":[1.9739660980509228],\"x\":[\"118.855569\"],\"y\":[9.5]}},\"id\":\"0590c16a-77bc-492e-a7a8-e5a7f4cc2602\",\"type\":\"ColumnDataSource\"},{\"attributes\":{\"callback\":null,\"column_names\":[\"fill_alpha\",\"line_color\",\"y\",\"line_alpha\",\"height\",\"width\",\"x\",\"color\",\"label\"],\"data\":{\"chart_index\":[\"(46.004043, 48.003901]\"],\"color\":[\"#f22c40\"],\"fill_alpha\":[0.8],\"height\":[209.0],\"label\":[\"(46.004043, 48.003901]\"],\"line_alpha\":[1.0],\"line_color\":[\"black\"],\"width\":[1.999857247275827],\"x\":[\"47.003972000000005\"],\"y\":[104.5]}},\"id\":\"38687e47-4703-4c76-9195-3fd7136d9e2a\",\"type\":\"ColumnDataSource\"},{\"attributes\":{\"data_source\":{\"id\":\"f6737958-8941-4360-892c-b3d87accb821\",\"type\":\"ColumnDataSource\"},\"glyph\":{\"id\":\"6240a1b1-1f6b-44ab-a538-64d0debfa3c5\",\"type\":\"Rect\"},\"hover_glyph\":null,\"nonselection_glyph\":null,\"selection_glyph\":null},\"id\":\"df3c89cf-1196-4193-aeca-f69e33d76614\",\"type\":\"GlyphRenderer\"},{\"attributes\":{\"data_source\":{\"id\":\"5b04efeb-79bf-4f6e-b62c-f44226b78260\",\"type\":\"ColumnDataSource\"},\"glyph\":{\"id\":\"929dfaa4-43dc-4ce6-908d-70749ca9cb62\",\"type\":\"Rect\"},\"hover_glyph\":null,\"nonselection_glyph\":null,\"selection_glyph\":null},\"id\":\"f32661c5-2aa8-4dd7-8d72-8f9555dd0802\",\"type\":\"GlyphRenderer\"},{\"attributes\":{\"callback\":null,\"column_names\":[\"fill_alpha\",\"line_color\",\"y\",\"line_alpha\",\"height\",\"width\",\"x\",\"color\",\"label\"],\"data\":{\"chart_index\":[\"(28.005328, 30.005185]\"],\"color\":[\"#f22c40\"],\"fill_alpha\":[0.8],\"height\":[197.0],\"label\":[\"(28.005328, 30.005185]\"],\"line_alpha\":[1.0],\"line_color\":[\"black\"],\"width\":[1.999857247275827],\"x\":[\"29.0052565\"],\"y\":[98.5]}},\"id\":\"8ff52ea9-da16-4a91-92f6-f5bf85091bde\",\"type\":\"ColumnDataSource\"},{\"attributes\":{\"data_source\":{\"id\":\"ea64e518-f344-4154-814d-2f22c13fba8a\",\"type\":\"ColumnDataSource\"},\"glyph\":{\"id\":\"eebef704-cd11-446c-a254-6d7b29b9ef6f\",\"type\":\"Rect\"},\"hover_glyph\":null,\"nonselection_glyph\":null,\"selection_glyph\":null},\"id\":\"aab121a8-f83f-4752-97a3-9a2ec2aafa39\",\"type\":\"GlyphRenderer\"},{\"attributes\":{\"callback\":null,\"column_names\":[\"fill_alpha\",\"line_color\",\"y\",\"line_alpha\",\"height\",\"width\",\"x\",\"color\",\"label\"],\"data\":{\"chart_index\":[\"(69.037517, 70.559350]\"],\"color\":[\"#f22c40\"],\"fill_alpha\":[0.8],\"height\":[4.0],\"label\":[\"(69.037517, 70.559350]\"],\"line_alpha\":[1.0],\"line_color\":[\"black\"],\"width\":[1.5218330971588614],\"x\":[\"69.79843349999999\"],\"y\":[2.0]}},\"id\":\"38095c4e-065a-45f9-ad84-aef1050fc203\",\"type\":\"ColumnDataSource\"},{\"attributes\":{\"callback\":null,\"column_names\":[\"fill_alpha\",\"line_color\",\"y\",\"line_alpha\",\"height\",\"width\",\"x\",\"color\",\"label\"],\"data\":{\"chart_index\":[\"(17.295192, 18.817025]\"],\"color\":[\"#f22c40\"],\"fill_alpha\":[0.8],\"height\":[45.0],\"label\":[\"(17.295192, 18.817025]\"],\"line_alpha\":[1.0],\"line_color\":[\"black\"],\"width\":[1.5218330971588614],\"x\":[\"18.0561085\"],\"y\":[22.5]}},\"id\":\"147a57f8-7b87-433c-9e34-dc4090de8de2\",\"type\":\"ColumnDataSource\"},{\"attributes\":{\"data_source\":{\"id\":\"5001a40d-6608-4b2e-a772-0ce8fc69eb49\",\"type\":\"ColumnDataSource\"},\"glyph\":{\"id\":\"a56e8718-6efb-4c06-8fab-146847eee370\",\"type\":\"Rect\"},\"hover_glyph\":null,\"nonselection_glyph\":null,\"selection_glyph\":null},\"id\":\"7803b501-b0b3-4f70-94ce-f90489e13ee3\",\"type\":\"GlyphRenderer\"},{\"attributes\":{\"fill_alpha\":{\"field\":\"fill_alpha\"},\"fill_color\":{\"field\":\"color\"},\"height\":{\"field\":\"height\",\"units\":\"data\"},\"line_color\":{\"field\":\"line_color\"},\"width\":{\"field\":\"width\",\"units\":\"data\"},\"x\":{\"field\":\"x\"},\"y\":{\"field\":\"y\"}},\"id\":\"2f350206-2231-4ed5-9370-3b1868ddbf6e\",\"type\":\"Rect\"},{\"attributes\":{\"data_source\":{\"id\":\"5fba1a08-e987-4efc-bdb5-c1d2c25537ba\",\"type\":\"ColumnDataSource\"},\"glyph\":{\"id\":\"3740fc43-4650-48b5-9d60-0c6f12304bfe\",\"type\":\"Rect\"},\"hover_glyph\":null,\"nonselection_glyph\":null,\"selection_glyph\":null},\"id\":\"6b1de58c-fbc7-4fc9-90bd-8100bde67bb6\",\"type\":\"GlyphRenderer\"},{\"attributes\":{\"data_source\":{\"id\":\"dbc805d5-c5b0-440a-b6a6-7fc7699290f5\",\"type\":\"ColumnDataSource\"},\"glyph\":{\"id\":\"0be64344-bf92-4125-bbfb-340a7ccaa8e3\",\"type\":\"Rect\"},\"hover_glyph\":null,\"nonselection_glyph\":null,\"selection_glyph\":null},\"id\":\"4e03a1bd-73b4-46c0-b07c-ceb8e3515d14\",\"type\":\"GlyphRenderer\"},{\"attributes\":{\"data_source\":{\"id\":\"a0e2ad74-c388-4921-b0ce-e873dac32e26\",\"type\":\"ColumnDataSource\"},\"glyph\":{\"id\":\"e64df355-4951-46e1-9989-11b2e9558a09\",\"type\":\"Rect\"},\"hover_glyph\":null,\"nonselection_glyph\":null,\"selection_glyph\":null},\"id\":\"b856c41f-57eb-4caa-86e9-c30ebae576f8\",\"type\":\"GlyphRenderer\"},{\"attributes\":{\"fill_alpha\":{\"field\":\"fill_alpha\"},\"fill_color\":{\"field\":\"color\"},\"height\":{\"field\":\"height\",\"units\":\"data\"},\"line_color\":{\"field\":\"line_color\"},\"width\":{\"field\":\"width\",\"units\":\"data\"},\"x\":{\"field\":\"x\"},\"y\":{\"field\":\"y\"}},\"id\":\"f4f38763-5bf2-4af6-b92d-bbc195f19e82\",\"type\":\"Rect\"},{\"attributes\":{\"plot\":{\"id\":\"ea1f27d3-388d-4e34-b976-4573f9f24332\",\"subtype\":\"Chart\",\"type\":\"Plot\"}},\"id\":\"107ea0bd-9441-43f0-907d-850f8e1c7786\",\"type\":\"ResetTool\"},{\"attributes\":{\"fill_alpha\":{\"field\":\"fill_alpha\"},\"fill_color\":{\"field\":\"color\"},\"height\":{\"field\":\"height\",\"units\":\"data\"},\"line_color\":{\"field\":\"line_color\"},\"width\":{\"field\":\"width\",\"units\":\"data\"},\"x\":{\"field\":\"x\"},\"y\":{\"field\":\"y\"}},\"id\":\"3380c101-45c3-4497-bd84-960562c3355d\",\"type\":\"Rect\"},{\"attributes\":{\"data_source\":{\"id\":\"b380cbeb-5b25-4f08-8a73-72b6ea4c438f\",\"type\":\"ColumnDataSource\"},\"glyph\":{\"id\":\"d140fc90-fa71-4ddb-ba0a-4ca792d8762f\",\"type\":\"Rect\"},\"hover_glyph\":null,\"nonselection_glyph\":null,\"selection_glyph\":null},\"id\":\"cad2e4aa-edf4-4a6e-b2a8-5dd183d43391\",\"type\":\"GlyphRenderer\"},{\"attributes\":{\"data_source\":{\"id\":\"6bf1a84c-ad0c-456a-bbcb-eee3ea23f5df\",\"type\":\"ColumnDataSource\"},\"glyph\":{\"id\":\"eadfcc6c-dd93-43f2-a775-526c70c705e5\",\"type\":\"Rect\"},\"hover_glyph\":null,\"nonselection_glyph\":null,\"selection_glyph\":null},\"id\":\"8f81fa17-6d4f-4099-8d93-231cf509b952\",\"type\":\"GlyphRenderer\"},{\"attributes\":{\"data_source\":{\"id\":\"29b5ed73-e10e-4b89-ab31-eaa9724c0b91\",\"type\":\"ColumnDataSource\"},\"glyph\":{\"id\":\"57f348b7-ae89-4d78-86b5-303d6a6d82a8\",\"type\":\"Rect\"},\"hover_glyph\":null,\"nonselection_glyph\":null,\"selection_glyph\":null},\"id\":\"8876fc78-8504-44a3-8983-4f25465e583a\",\"type\":\"GlyphRenderer\"},{\"attributes\":{\"data_source\":{\"id\":\"c1a3f139-c552-4722-9da0-0c4040379515\",\"type\":\"ColumnDataSource\"},\"glyph\":{\"id\":\"607f721d-fe74-4a01-8cff-e6739cadd3ec\",\"type\":\"Rect\"},\"hover_glyph\":null,\"nonselection_glyph\":null,\"selection_glyph\":null},\"id\":\"d2d00118-8afb-4fde-8c16-4452ecfa4eb5\",\"type\":\"GlyphRenderer\"},{\"attributes\":{},\"id\":\"d756e104-7fb7-4c88-a550-e7967c85ab53\",\"type\":\"ToolEvents\"},{\"attributes\":{\"fill_alpha\":{\"field\":\"fill_alpha\"},\"fill_color\":{\"field\":\"color\"},\"height\":{\"field\":\"height\",\"units\":\"data\"},\"line_color\":{\"field\":\"line_color\"},\"width\":{\"field\":\"width\",\"units\":\"data\"},\"x\":{\"field\":\"x\"},\"y\":{\"field\":\"y\"}},\"id\":\"eebef704-cd11-446c-a254-6d7b29b9ef6f\",\"type\":\"Rect\"},{\"attributes\":{\"fill_alpha\":{\"field\":\"fill_alpha\"},\"fill_color\":{\"field\":\"color\"},\"height\":{\"field\":\"height\",\"units\":\"data\"},\"line_color\":{\"field\":\"line_color\"},\"width\":{\"field\":\"width\",\"units\":\"data\"},\"x\":{\"field\":\"x\"},\"y\":{\"field\":\"y\"}},\"id\":\"929dfaa4-43dc-4ce6-908d-70749ca9cb62\",\"type\":\"Rect\"},{\"attributes\":{\"callback\":null,\"column_names\":[\"fill_alpha\",\"line_color\",\"y\",\"line_alpha\",\"height\",\"width\",\"x\",\"color\",\"label\"],\"data\":{\"chart_index\":[\"(52.727704, 54.701671]\"],\"color\":[\"#f22c40\"],\"fill_alpha\":[0.8],\"height\":[299.0],\"label\":[\"(52.727704, 54.701671]\"],\"line_alpha\":[1.0],\"line_color\":[\"black\"],\"width\":[1.9739660980509086],\"x\":[\"53.7146875\"],\"y\":[149.5]}},\"id\":\"3860edef-25e5-46c7-824b-baeedc23e595\",\"type\":\"ColumnDataSource\"},{\"attributes\":{\"data_source\":{\"id\":\"7f4c7f28-ea03-4e57-9c34-b4f30f16e9cd\",\"type\":\"ColumnDataSource\"},\"glyph\":{\"id\":\"572ad35f-f880-40d5-8cc2-e34968b36d45\",\"type\":\"Rect\"},\"hover_glyph\":null,\"nonselection_glyph\":null,\"selection_glyph\":null},\"id\":\"5649e3da-0383-4b6d-846c-879b5b18ff12\",\"type\":\"GlyphRenderer\"},{\"attributes\":{\"callback\":null,\"column_names\":[\"fill_alpha\",\"line_color\",\"y\",\"line_alpha\",\"height\",\"width\",\"x\",\"color\",\"label\"],\"data\":{\"chart_index\":[\"(643.605903, 659.696043]\"],\"color\":[\"#f22c40\"],\"fill_alpha\":[0.8],\"height\":[4.0],\"label\":[\"(643.605903, 659.696043]\"],\"line_alpha\":[1.0],\"line_color\":[\"black\"],\"width\":[16.090139566527114],\"x\":[\"651.650973\"],\"y\":[2.0]}},\"id\":\"b6cc4a9d-ff9a-478f-8864-b0898655df31\",\"type\":\"ColumnDataSource\"},{\"attributes\":{\"plot\":{\"id\":\"421ef4f4-0375-4874-a721-d926330ec546\",\"subtype\":\"Chart\",\"type\":\"Plot\"}},\"id\":\"a254afe2-6768-4cec-a30b-19a399567d04\",\"type\":\"ResetTool\"},{\"attributes\":{\"data_source\":{\"id\":\"715db401-22b0-4531-a7df-8a9b3ae9b8b0\",\"type\":\"ColumnDataSource\"},\"glyph\":{\"id\":\"834b8033-1eb2-4253-8c5f-f7fd93ba65f1\",\"type\":\"Rect\"},\"hover_glyph\":null,\"nonselection_glyph\":null,\"selection_glyph\":null},\"id\":\"2354f122-00f2-413f-8c58-8670c025d0c9\",\"type\":\"GlyphRenderer\"},{\"attributes\":{\"data_source\":{\"id\":\"25f692fc-f765-44f7-8f46-76b0fe0b8840\",\"type\":\"ColumnDataSource\"},\"glyph\":{\"id\":\"c305a852-d487-406e-b87c-415b0664e7dd\",\"type\":\"Rect\"},\"hover_glyph\":null,\"nonselection_glyph\":null,\"selection_glyph\":null},\"id\":\"84ebc49d-7774-4fc1-8f33-772bb8b90eb9\",\"type\":\"GlyphRenderer\"},{\"attributes\":{\"callback\":null,\"column_names\":[\"fill_alpha\",\"line_color\",\"y\",\"line_alpha\",\"height\",\"width\",\"x\",\"color\",\"label\"],\"data\":{\"chart_index\":[\"(27.066145, 29.040111]\"],\"color\":[\"#f22c40\"],\"fill_alpha\":[0.8],\"height\":[72.0],\"label\":[\"(27.066145, 29.040111]\"],\"line_alpha\":[1.0],\"line_color\":[\"black\"],\"width\":[1.9739660980509086],\"x\":[\"28.053128\"],\"y\":[36.0]}},\"id\":\"d81aa8c4-1d67-4887-9382-2e91932af413\",\"type\":\"ColumnDataSource\"},{\"attributes\":{\"fill_alpha\":{\"field\":\"fill_alpha\"},\"fill_color\":{\"field\":\"color\"},\"height\":{\"field\":\"height\",\"units\":\"data\"},\"line_color\":{\"field\":\"line_color\"},\"width\":{\"field\":\"width\",\"units\":\"data\"},\"x\":{\"field\":\"x\"},\"y\":{\"field\":\"y\"}},\"id\":\"831aba71-82c5-46ff-ba6b-db990e0c241c\",\"type\":\"Rect\"},{\"attributes\":{\"fill_alpha\":{\"field\":\"fill_alpha\"},\"fill_color\":{\"field\":\"color\"},\"height\":{\"field\":\"height\",\"units\":\"data\"},\"line_color\":{\"field\":\"line_color\"},\"width\":{\"field\":\"width\",\"units\":\"data\"},\"x\":{\"field\":\"x\"},\"y\":{\"field\":\"y\"}},\"id\":\"e2a5354b-ab75-4ce4-be17-07fd6c8f25d8\",\"type\":\"Rect\"},{\"attributes\":{\"data_source\":{\"id\":\"1d44f1f5-49fc-4dde-b929-8ef82328fca8\",\"type\":\"ColumnDataSource\"},\"glyph\":{\"id\":\"1dc8944c-e112-4e23-a5a2-148050b82403\",\"type\":\"Rect\"},\"hover_glyph\":null,\"nonselection_glyph\":null,\"selection_glyph\":null},\"id\":\"e125d6e6-503c-4dbd-be6c-1bb82ff03370\",\"type\":\"GlyphRenderer\"},{\"attributes\":{\"callback\":null,\"column_names\":[\"fill_alpha\",\"line_color\",\"y\",\"line_alpha\",\"height\",\"width\",\"x\",\"color\",\"label\"],\"data\":{\"chart_index\":[\"(30.005185, 32.005043]\"],\"color\":[\"#f22c40\"],\"fill_alpha\":[0.8],\"height\":[197.0],\"label\":[\"(30.005185, 32.005043]\"],\"line_alpha\":[1.0],\"line_color\":[\"black\"],\"width\":[1.999857247275827],\"x\":[\"31.005114\"],\"y\":[98.5]}},\"id\":\"25d115e3-fd19-46b4-93f0-61a352f2bbce\",\"type\":\"ColumnDataSource\"},{\"attributes\":{\"fill_alpha\":{\"field\":\"fill_alpha\"},\"fill_color\":{\"field\":\"color\"},\"height\":{\"field\":\"height\",\"units\":\"data\"},\"line_color\":{\"field\":\"line_color\"},\"width\":{\"field\":\"width\",\"units\":\"data\"},\"x\":{\"field\":\"x\"},\"y\":{\"field\":\"y\"}},\"id\":\"db5d69a5-c165-4ebd-852a-c924cecb3ec5\",\"type\":\"Rect\"},{\"attributes\":{\"fill_alpha\":{\"field\":\"fill_alpha\"},\"fill_color\":{\"field\":\"color\"},\"height\":{\"field\":\"height\",\"units\":\"data\"},\"line_color\":{\"field\":\"line_color\"},\"width\":{\"field\":\"width\",\"units\":\"data\"},\"x\":{\"field\":\"x\"},\"y\":{\"field\":\"y\"}},\"id\":\"a5a9c190-2dfc-4023-b7d5-705950469f1f\",\"type\":\"Rect\"},{\"attributes\":{\"fill_alpha\":{\"field\":\"fill_alpha\"},\"fill_color\":{\"field\":\"color\"},\"height\":{\"field\":\"height\",\"units\":\"data\"},\"line_color\":{\"field\":\"line_color\"},\"width\":{\"field\":\"width\",\"units\":\"data\"},\"x\":{\"field\":\"x\"},\"y\":{\"field\":\"y\"}},\"id\":\"6bebc320-aa86-4e6a-855e-7fe5975c671b\",\"type\":\"Rect\"},{\"attributes\":{\"fill_alpha\":{\"field\":\"fill_alpha\"},\"fill_color\":{\"field\":\"color\"},\"height\":{\"field\":\"height\",\"units\":\"data\"},\"line_color\":{\"field\":\"line_color\"},\"width\":{\"field\":\"width\",\"units\":\"data\"},\"x\":{\"field\":\"x\"},\"y\":{\"field\":\"y\"}},\"id\":\"57f348b7-ae89-4d78-86b5-303d6a6d82a8\",\"type\":\"Rect\"},{\"attributes\":{\"callback\":null,\"column_names\":[\"fill_alpha\",\"line_color\",\"y\",\"line_alpha\",\"height\",\"width\",\"x\",\"color\",\"label\"],\"data\":{\"chart_index\":[\"(113.999190, 115.999047]\"],\"color\":[\"#f22c40\"],\"fill_alpha\":[0.8],\"height\":[177.0],\"label\":[\"(113.999190, 115.999047]\"],\"line_alpha\":[1.0],\"line_color\":[\"black\"],\"width\":[1.999857247275827],\"x\":[\"114.99911850000001\"],\"y\":[88.5]}},\"id\":\"a1660616-659f-40f6-bb0f-70974e73a73b\",\"type\":\"ColumnDataSource\"},{\"attributes\":{\"fill_alpha\":{\"field\":\"fill_alpha\"},\"fill_color\":{\"field\":\"color\"},\"height\":{\"field\":\"height\",\"units\":\"data\"},\"line_color\":{\"field\":\"line_color\"},\"width\":{\"field\":\"width\",\"units\":\"data\"},\"x\":{\"field\":\"x\"},\"y\":{\"field\":\"y\"}},\"id\":\"ad47e1cf-ccef-4074-b02c-c6a4ea8689ef\",\"type\":\"Rect\"},{\"attributes\":{\"data_source\":{\"id\":\"8ff52ea9-da16-4a91-92f6-f5bf85091bde\",\"type\":\"ColumnDataSource\"},\"glyph\":{\"id\":\"303640b0-8892-4f86-9329-19244c6cda25\",\"type\":\"Rect\"},\"hover_glyph\":null,\"nonselection_glyph\":null,\"selection_glyph\":null},\"id\":\"b56d4f8a-1f64-4177-b1ce-1e127ff0857f\",\"type\":\"GlyphRenderer\"},{\"attributes\":{\"fill_alpha\":{\"field\":\"fill_alpha\"},\"fill_color\":{\"field\":\"color\"},\"height\":{\"field\":\"height\",\"units\":\"data\"},\"line_color\":{\"field\":\"line_color\"},\"width\":{\"field\":\"width\",\"units\":\"data\"},\"x\":{\"field\":\"x\"},\"y\":{\"field\":\"y\"}},\"id\":\"607f721d-fe74-4a01-8cff-e6739cadd3ec\",\"type\":\"Rect\"},{\"attributes\":{\"fill_alpha\":{\"field\":\"fill_alpha\"},\"fill_color\":{\"field\":\"color\"},\"height\":{\"field\":\"height\",\"units\":\"data\"},\"line_color\":{\"field\":\"line_color\"},\"width\":{\"field\":\"width\",\"units\":\"data\"},\"x\":{\"field\":\"x\"},\"y\":{\"field\":\"y\"}},\"id\":\"fe4c73ac-2850-402b-aa1f-8c5dfeda96be\",\"type\":\"Rect\"},{\"attributes\":{\"data_source\":{\"id\":\"53669873-7234-4389-aa4c-6cc350b59240\",\"type\":\"ColumnDataSource\"},\"glyph\":{\"id\":\"e7d2948a-37d2-4dab-9960-3b2db4534f07\",\"type\":\"Rect\"},\"hover_glyph\":null,\"nonselection_glyph\":null,\"selection_glyph\":null},\"id\":\"1ec20638-8fc9-4ead-b0b8-ee6c93f5d2c1\",\"type\":\"GlyphRenderer\"},{\"attributes\":{\"data_source\":{\"id\":\"795ac6c8-a804-4607-bcf3-2282dadaa2fe\",\"type\":\"ColumnDataSource\"},\"glyph\":{\"id\":\"dc376510-c5a0-4f67-ab81-bbd820f4c9ff\",\"type\":\"Rect\"},\"hover_glyph\":null,\"nonselection_glyph\":null,\"selection_glyph\":null},\"id\":\"87c69b29-6a07-4ad3-9a4d-3720555c9e90\",\"type\":\"GlyphRenderer\"},{\"attributes\":{},\"id\":\"d9c927f1-cf54-4ce6-85c2-43b2cd4a924f\",\"type\":\"BasicTicker\"},{\"attributes\":{\"fill_alpha\":{\"field\":\"fill_alpha\"},\"fill_color\":{\"field\":\"color\"},\"height\":{\"field\":\"height\",\"units\":\"data\"},\"line_color\":{\"field\":\"line_color\"},\"width\":{\"field\":\"width\",\"units\":\"data\"},\"x\":{\"field\":\"x\"},\"y\":{\"field\":\"y\"}},\"id\":\"194e0ba8-742c-4c4b-b7f0-8a67101f7139\",\"type\":\"Rect\"},{\"attributes\":{\"data_source\":{\"id\":\"c7153240-613a-498f-8c84-2f1baa0140ae\",\"type\":\"ColumnDataSource\"},\"glyph\":{\"id\":\"42892b28-1059-45cc-a93a-0dfb4499f643\",\"type\":\"Rect\"},\"hover_glyph\":null,\"nonselection_glyph\":null,\"selection_glyph\":null},\"id\":\"63ab4739-02da-4b3c-9051-6d30ee477c17\",\"type\":\"GlyphRenderer\"},{\"attributes\":{\"fill_alpha\":{\"field\":\"fill_alpha\"},\"fill_color\":{\"field\":\"color\"},\"height\":{\"field\":\"height\",\"units\":\"data\"},\"line_color\":{\"field\":\"line_color\"},\"width\":{\"field\":\"width\",\"units\":\"data\"},\"x\":{\"field\":\"x\"},\"y\":{\"field\":\"y\"}},\"id\":\"4ee295a7-1e19-49d6-8280-e2f534a37900\",\"type\":\"Rect\"},{\"attributes\":{\"location\":\"top_left\",\"plot\":{\"id\":\"421ef4f4-0375-4874-a721-d926330ec546\",\"subtype\":\"Chart\",\"type\":\"Plot\"}},\"id\":\"06ca0baf-937f-46c0-a533-843a2a61a615\",\"type\":\"Legend\"},{\"attributes\":{\"data_source\":{\"id\":\"56d6ca05-cab9-42d6-8449-217e1e5c329a\",\"type\":\"ColumnDataSource\"},\"glyph\":{\"id\":\"73f003fc-8b1a-40b0-a77a-15944cf8ca01\",\"type\":\"Rect\"},\"hover_glyph\":null,\"nonselection_glyph\":null,\"selection_glyph\":null},\"id\":\"391a2064-5b38-40ac-9f71-6bf0d8cdf3cd\",\"type\":\"GlyphRenderer\"},{\"attributes\":{\"data_source\":{\"id\":\"80088bcd-8168-4ffd-a326-890296ae29a8\",\"type\":\"ColumnDataSource\"},\"glyph\":{\"id\":\"886f7a38-d5a9-41e5-96b8-c65897688f6a\",\"type\":\"Rect\"},\"hover_glyph\":null,\"nonselection_glyph\":null,\"selection_glyph\":null},\"id\":\"0fde23a5-77de-455c-b2c1-80f40be63034\",\"type\":\"GlyphRenderer\"},{\"attributes\":{\"callback\":null,\"column_names\":[\"fill_alpha\",\"line_color\",\"y\",\"line_alpha\",\"height\",\"width\",\"x\",\"color\",\"label\"],\"data\":{\"chart_index\":[\"[20.005899, 22.005756]\"],\"color\":[\"#f22c40\"],\"fill_alpha\":[0.8],\"height\":[203.0],\"label\":[\"[20.005899, 22.005756]\"],\"line_alpha\":[1.0],\"line_color\":[\"black\"],\"width\":[1.9998572472758305],\"x\":[\"21.005827500000002\"],\"y\":[101.5]}},\"id\":\"663fd37a-fd33-4b53-bc06-f00cde58360f\",\"type\":\"ColumnDataSource\"},{\"attributes\":{\"data_source\":{\"id\":\"d6c7335b-33eb-4694-bad9-5bacc8e261a8\",\"type\":\"ColumnDataSource\"},\"glyph\":{\"id\":\"013d993f-8041-4a97-b6a7-ad49cdded99a\",\"type\":\"Rect\"},\"hover_glyph\":null,\"nonselection_glyph\":null,\"selection_glyph\":null},\"id\":\"54de78a4-6e84-43f2-b6d0-0f87cb08026e\",\"type\":\"GlyphRenderer\"},{\"attributes\":{\"callback\":null,\"column_names\":[\"fill_alpha\",\"line_color\",\"y\",\"line_alpha\",\"height\",\"width\",\"x\",\"color\",\"label\"],\"data\":{\"chart_index\":[\"(52.297353, 53.819186]\"],\"color\":[\"#f22c40\"],\"fill_alpha\":[0.8],\"height\":[292.0],\"label\":[\"(52.297353, 53.819186]\"],\"line_alpha\":[1.0],\"line_color\":[\"black\"],\"width\":[1.5218330971588614],\"x\":[\"53.0582695\"],\"y\":[146.0]}},\"id\":\"f6a794ce-a2e2-47fe-8010-e1afd83517e2\",\"type\":\"ColumnDataSource\"},{\"attributes\":{\"fill_alpha\":{\"field\":\"fill_alpha\"},\"fill_color\":{\"field\":\"color\"},\"height\":{\"field\":\"height\",\"units\":\"data\"},\"line_color\":{\"field\":\"line_color\"},\"width\":{\"field\":\"width\",\"units\":\"data\"},\"x\":{\"field\":\"x\"},\"y\":{\"field\":\"y\"}},\"id\":\"9e5cd9b0-1eaf-4836-bd33-232a83be0528\",\"type\":\"Rect\"},{\"attributes\":{\"data_source\":{\"id\":\"38687e47-4703-4c76-9195-3fd7136d9e2a\",\"type\":\"ColumnDataSource\"},\"glyph\":{\"id\":\"27b1f9a1-4b42-4cec-b145-89e614ec7023\",\"type\":\"Rect\"},\"hover_glyph\":null,\"nonselection_glyph\":null,\"selection_glyph\":null},\"id\":\"1fe14b95-d4f4-40c6-9993-c129d22e54b1\",\"type\":\"GlyphRenderer\"},{\"attributes\":{\"callback\":null,\"column_names\":[\"fill_alpha\",\"line_color\",\"y\",\"line_alpha\",\"height\",\"width\",\"x\",\"color\",\"label\"],\"data\":{\"chart_index\":[\"(273.532693, 289.622833]\"],\"color\":[\"#f22c40\"],\"fill_alpha\":[0.8],\"height\":[89.0],\"label\":[\"(273.532693, 289.622833]\"],\"line_alpha\":[1.0],\"line_color\":[\"black\"],\"width\":[16.090139566527057],\"x\":[\"281.577763\"],\"y\":[44.5]}},\"id\":\"b380cbeb-5b25-4f08-8a73-72b6ea4c438f\",\"type\":\"ColumnDataSource\"},{\"attributes\":{\"callback\":null,\"column_names\":[\"fill_alpha\",\"line_color\",\"y\",\"line_alpha\",\"height\",\"width\",\"x\",\"color\",\"label\"],\"data\":{\"chart_index\":[\"(70.493399, 72.467365]\"],\"color\":[\"#f22c40\"],\"fill_alpha\":[0.8],\"height\":[303.0],\"label\":[\"(70.493399, 72.467365]\"],\"line_alpha\":[1.0],\"line_color\":[\"black\"],\"width\":[1.9739660980509086],\"x\":[\"71.48038199999999\"],\"y\":[151.5]}},\"id\":\"a0dbe38c-10ae-45ff-b37c-feb61b69f9a8\",\"type\":\"ColumnDataSource\"},{\"attributes\":{\"data_source\":{\"id\":\"8622a171-345d-40c1-8d85-3897de6820ab\",\"type\":\"ColumnDataSource\"},\"glyph\":{\"id\":\"9d629807-e0ae-469f-9f5a-eba09d493e00\",\"type\":\"Rect\"},\"hover_glyph\":null,\"nonselection_glyph\":null,\"selection_glyph\":null},\"id\":\"0491f361-de35-415d-bbb7-28cdfb5339bb\",\"type\":\"GlyphRenderer\"},{\"attributes\":{\"callback\":null,\"column_names\":[\"fill_alpha\",\"line_color\",\"y\",\"line_alpha\",\"height\",\"width\",\"x\",\"color\",\"label\"],\"data\":{\"chart_index\":[\"(225.262275, 241.352414]\"],\"color\":[\"#f22c40\"],\"fill_alpha\":[0.8],\"height\":[168.0],\"label\":[\"(225.262275, 241.352414]\"],\"line_alpha\":[1.0],\"line_color\":[\"black\"],\"width\":[16.090139566527085],\"x\":[\"233.3073445\"],\"y\":[84.0]}},\"id\":\"8410ab65-d33f-4f74-a8b1-427e3464bea1\",\"type\":\"ColumnDataSource\"},{\"attributes\":{\"data_source\":{\"id\":\"e2988881-2273-4e2f-b165-87f41a7772e9\",\"type\":\"ColumnDataSource\"},\"glyph\":{\"id\":\"d106f357-8d03-43ab-8dfa-d5cb167a09da\",\"type\":\"Rect\"},\"hover_glyph\":null,\"nonselection_glyph\":null,\"selection_glyph\":null},\"id\":\"eb01ef6e-632d-47a1-8ade-e1c05e604991\",\"type\":\"GlyphRenderer\"},{\"attributes\":{\"fill_alpha\":{\"field\":\"fill_alpha\"},\"fill_color\":{\"field\":\"color\"},\"height\":{\"field\":\"height\",\"units\":\"data\"},\"line_color\":{\"field\":\"line_color\"},\"width\":{\"field\":\"width\",\"units\":\"data\"},\"x\":{\"field\":\"x\"},\"y\":{\"field\":\"y\"}},\"id\":\"564b899f-3366-4620-afb7-27146acb75a5\",\"type\":\"Rect\"},{\"attributes\":{\"active_drag\":\"auto\",\"active_scroll\":\"auto\",\"active_tap\":\"auto\",\"tools\":[{\"id\":\"96b20b5c-1cbd-4b28-af9c-37d708547f08\",\"type\":\"PanTool\"},{\"id\":\"a21a5748-b863-4249-87ff-08714a294832\",\"type\":\"WheelZoomTool\"},{\"id\":\"3fbba2e0-0aa6-4dec-aacc-397f5896cb2b\",\"type\":\"BoxZoomTool\"},{\"id\":\"3f685c99-61e9-4a64-90b9-e4e9affaa529\",\"type\":\"SaveTool\"},{\"id\":\"db2c1372-9fc5-4518-a1cc-f8406ab4f85a\",\"type\":\"ResetTool\"},{\"id\":\"04ad4485-d4c3-47bd-b909-c78895089205\",\"type\":\"HelpTool\"}]},\"id\":\"d0e3405f-f53d-4b8e-878e-81902ffe0788\",\"type\":\"Toolbar\"},{\"attributes\":{\"plot\":{\"id\":\"aa6e7afa-191b-4b23-9254-e85c48fbf314\",\"subtype\":\"Chart\",\"type\":\"Plot\"}},\"id\":\"6fea9265-1224-4485-a303-5dc2dc6b7957\",\"type\":\"PanTool\"},{\"attributes\":{\"callback\":null,\"column_names\":[\"fill_alpha\",\"line_color\",\"y\",\"line_alpha\",\"height\",\"width\",\"x\",\"color\",\"label\"],\"data\":{\"chart_index\":[\"(88.001045, 90.000903]\"],\"color\":[\"#f22c40\"],\"fill_alpha\":[0.8],\"height\":[164.0],\"label\":[\"(88.001045, 90.000903]\"],\"line_alpha\":[1.0],\"line_color\":[\"black\"],\"width\":[1.9998572472758411],\"x\":[\"89.000974\"],\"y\":[82.0]}},\"id\":\"e487f9f6-d46a-47c6-9820-0aa8b8164655\",\"type\":\"ColumnDataSource\"},{\"attributes\":{\"callback\":null,\"column_names\":[\"fill_alpha\",\"line_color\",\"y\",\"line_alpha\",\"height\",\"width\",\"x\",\"color\",\"label\"],\"data\":{\"chart_index\":[\"(724.056601, 740.146741]\"],\"color\":[\"#f22c40\"],\"fill_alpha\":[0.8],\"height\":[2.0],\"label\":[\"(724.056601, 740.146741]\"],\"line_alpha\":[1.0],\"line_color\":[\"black\"],\"width\":[16.090139566527],\"x\":[\"732.101671\"],\"y\":[1.0]}},\"id\":\"33cb1d2b-a9d6-41a1-95b7-4c5a22db6b45\",\"type\":\"ColumnDataSource\"},{\"attributes\":{\"fill_alpha\":{\"field\":\"fill_alpha\"},\"fill_color\":{\"field\":\"color\"},\"height\":{\"field\":\"height\",\"units\":\"data\"},\"line_color\":{\"field\":\"line_color\"},\"width\":{\"field\":\"width\",\"units\":\"data\"},\"x\":{\"field\":\"x\"},\"y\":{\"field\":\"y\"}},\"id\":\"d0c405c7-683b-42db-b4f6-ed631482f26a\",\"type\":\"Rect\"},{\"attributes\":{\"data_source\":{\"id\":\"443961d1-e394-4145-a3f7-332c473447e0\",\"type\":\"ColumnDataSource\"},\"glyph\":{\"id\":\"810c2224-b3cc-40f3-a7e4-d7731935722d\",\"type\":\"Rect\"},\"hover_glyph\":null,\"nonselection_glyph\":null,\"selection_glyph\":null},\"id\":\"734b4fed-5b61-4185-b387-b9c7bd26209f\",\"type\":\"GlyphRenderer\"},{\"attributes\":{\"callback\":null,\"column_names\":[\"fill_alpha\",\"line_color\",\"y\",\"line_alpha\",\"height\",\"width\",\"x\",\"color\",\"label\"],\"data\":{\"chart_index\":[\"(66.545467, 68.519433]\"],\"color\":[\"#f22c40\"],\"fill_alpha\":[0.8],\"height\":[263.0],\"label\":[\"(66.545467, 68.519433]\"],\"line_alpha\":[1.0],\"line_color\":[\"black\"],\"width\":[1.9739660980509086],\"x\":[\"67.53245000000001\"],\"y\":[131.5]}},\"id\":\"5fba1a08-e987-4efc-bdb5-c1d2c25537ba\",\"type\":\"ColumnDataSource\"},{\"attributes\":{\"fill_alpha\":{\"field\":\"fill_alpha\"},\"fill_color\":{\"field\":\"color\"},\"height\":{\"field\":\"height\",\"units\":\"data\"},\"line_color\":{\"field\":\"line_color\"},\"width\":{\"field\":\"width\",\"units\":\"data\"},\"x\":{\"field\":\"x\"},\"y\":{\"field\":\"y\"}},\"id\":\"a4139d01-8f28-4200-857a-5ee58b03727a\",\"type\":\"Rect\"},{\"attributes\":{\"data_source\":{\"id\":\"47d22841-30d4-4f7e-92cd-3a0727917c19\",\"type\":\"ColumnDataSource\"},\"glyph\":{\"id\":\"76307025-7325-40e8-b0d0-1c28382cb890\",\"type\":\"Rect\"},\"hover_glyph\":null,\"nonselection_glyph\":null,\"selection_glyph\":null},\"id\":\"f5dbfeb6-c7db-4373-af43-34d83ece4366\",\"type\":\"GlyphRenderer\"},{\"attributes\":{\"fill_alpha\":{\"field\":\"fill_alpha\"},\"fill_color\":{\"field\":\"color\"},\"height\":{\"field\":\"height\",\"units\":\"data\"},\"line_color\":{\"field\":\"line_color\"},\"width\":{\"field\":\"width\",\"units\":\"data\"},\"x\":{\"field\":\"x\"},\"y\":{\"field\":\"y\"}},\"id\":\"e9f4118e-6570-4df4-86e4-d4f789f94ad1\",\"type\":\"Rect\"},{\"attributes\":{\"callback\":null,\"column_names\":[\"fill_alpha\",\"line_color\",\"y\",\"line_alpha\",\"height\",\"width\",\"x\",\"color\",\"label\"],\"data\":{\"chart_index\":[\"(55.341019, 56.862852]\"],\"color\":[\"#f22c40\"],\"fill_alpha\":[0.8],\"height\":[162.0],\"label\":[\"(55.341019, 56.862852]\"],\"line_alpha\":[1.0],\"line_color\":[\"black\"],\"width\":[1.5218330971588614],\"x\":[\"56.101935499999996\"],\"y\":[81.0]}},\"id\":\"ba733e2d-1dd8-4b84-b4ad-0a08e5a8fcdf\",\"type\":\"ColumnDataSource\"},{\"attributes\":{\"data_source\":{\"id\":\"6ab8f4a7-2790-4c73-93c4-3d2e4202409a\",\"type\":\"ColumnDataSource\"},\"glyph\":{\"id\":\"a5a9c190-2dfc-4023-b7d5-705950469f1f\",\"type\":\"Rect\"},\"hover_glyph\":null,\"nonselection_glyph\":null,\"selection_glyph\":null},\"id\":\"1a9eaf76-71bb-41ae-992d-55b255ef9f95\",\"type\":\"GlyphRenderer\"},{\"attributes\":{},\"id\":\"8a15045c-561a-4b5b-90a6-4c7697230b71\",\"type\":\"BasicTickFormatter\"},{\"attributes\":{\"callback\":null,\"column_names\":[\"fill_alpha\",\"line_color\",\"y\",\"line_alpha\",\"height\",\"width\",\"x\",\"color\",\"label\"],\"data\":{\"chart_index\":[\"(26.005471, 28.005328]\"],\"color\":[\"#f22c40\"],\"fill_alpha\":[0.8],\"height\":[187.0],\"label\":[\"(26.005471, 28.005328]\"],\"line_alpha\":[1.0],\"line_color\":[\"black\"],\"width\":[1.999857247275834],\"x\":[\"27.0053995\"],\"y\":[93.5]}},\"id\":\"2134fe60-edb5-4f35-bb2a-02f1bbc7b11e\",\"type\":\"ColumnDataSource\"},{\"attributes\":{\"data_source\":{\"id\":\"40c784ae-c621-4a2d-a96a-36e61fad37cc\",\"type\":\"ColumnDataSource\"},\"glyph\":{\"id\":\"6ff7dc05-2c22-4989-b216-f01e208847f6\",\"type\":\"Rect\"},\"hover_glyph\":null,\"nonselection_glyph\":null,\"selection_glyph\":null},\"id\":\"f9262360-4683-4628-bda4-2912dabf5b3b\",\"type\":\"GlyphRenderer\"},{\"attributes\":{\"fill_alpha\":{\"field\":\"fill_alpha\"},\"fill_color\":{\"field\":\"color\"},\"height\":{\"field\":\"height\",\"units\":\"data\"},\"line_color\":{\"field\":\"line_color\"},\"width\":{\"field\":\"width\",\"units\":\"data\"},\"x\":{\"field\":\"x\"},\"y\":{\"field\":\"y\"}},\"id\":\"290ece58-1365-4f81-86ba-630e29e429fd\",\"type\":\"Rect\"},{\"attributes\":{\"fill_alpha\":{\"field\":\"fill_alpha\"},\"fill_color\":{\"field\":\"color\"},\"height\":{\"field\":\"height\",\"units\":\"data\"},\"line_color\":{\"field\":\"line_color\"},\"width\":{\"field\":\"width\",\"units\":\"data\"},\"x\":{\"field\":\"x\"},\"y\":{\"field\":\"y\"}},\"id\":\"5f12d553-9e8b-4ad6-9205-e32dfc942f68\",\"type\":\"Rect\"},{\"attributes\":{\"data_source\":{\"id\":\"c98e0b9a-d2d3-4baa-a45e-76bc84fea9a1\",\"type\":\"ColumnDataSource\"},\"glyph\":{\"id\":\"585b3e68-8456-4c7b-87d5-d4be35a7f61f\",\"type\":\"Rect\"},\"hover_glyph\":null,\"nonselection_glyph\":null,\"selection_glyph\":null},\"id\":\"1c2a8e57-c69d-46d2-b67a-40c99872f1cc\",\"type\":\"GlyphRenderer\"},{\"attributes\":{\"data_source\":{\"id\":\"308355c9-15a1-41a6-943d-d88381af774d\",\"type\":\"ColumnDataSource\"},\"glyph\":{\"id\":\"dba31bb9-0220-4c25-89d8-dc8567747931\",\"type\":\"Rect\"},\"hover_glyph\":null,\"nonselection_glyph\":null,\"selection_glyph\":null},\"id\":\"f171d7d6-fbe7-42c6-99e6-ea1c107f3a2d\",\"type\":\"GlyphRenderer\"},{\"attributes\":{\"fill_alpha\":{\"field\":\"fill_alpha\"},\"fill_color\":{\"field\":\"color\"},\"height\":{\"field\":\"height\",\"units\":\"data\"},\"line_color\":{\"field\":\"line_color\"},\"width\":{\"field\":\"width\",\"units\":\"data\"},\"x\":{\"field\":\"x\"},\"y\":{\"field\":\"y\"}},\"id\":\"164ec8e0-f7bb-4586-bce9-76ea75384451\",\"type\":\"Rect\"},{\"attributes\":{\"callback\":null,\"end\":255.20000000000002},\"id\":\"22940d7a-baf3-4c45-83c6-8deaf514160f\",\"type\":\"Range1d\"},{\"attributes\":{\"callback\":null,\"column_names\":[\"fill_alpha\",\"line_color\",\"y\",\"line_alpha\",\"height\",\"width\",\"x\",\"color\",\"label\"],\"data\":{\"chart_index\":[\"(38.004614, 40.004472]\"],\"color\":[\"#f22c40\"],\"fill_alpha\":[0.8],\"height\":[188.0],\"label\":[\"(38.004614, 40.004472]\"],\"line_alpha\":[1.0],\"line_color\":[\"black\"],\"width\":[1.999857247275827],\"x\":[\"39.004543\"],\"y\":[94.0]}},\"id\":\"29b5ed73-e10e-4b89-ab31-eaa9724c0b91\",\"type\":\"ColumnDataSource\"},{\"attributes\":{\"fill_alpha\":{\"field\":\"fill_alpha\"},\"fill_color\":{\"field\":\"color\"},\"height\":{\"field\":\"height\",\"units\":\"data\"},\"line_color\":{\"field\":\"line_color\"},\"width\":{\"field\":\"width\",\"units\":\"data\"},\"x\":{\"field\":\"x\"},\"y\":{\"field\":\"y\"}},\"id\":\"afee9184-e939-4340-bba2-608cfffa7ff3\",\"type\":\"Rect\"},{\"attributes\":{\"fill_alpha\":{\"field\":\"fill_alpha\"},\"fill_color\":{\"field\":\"color\"},\"height\":{\"field\":\"height\",\"units\":\"data\"},\"line_color\":{\"field\":\"line_color\"},\"width\":{\"field\":\"width\",\"units\":\"data\"},\"x\":{\"field\":\"x\"},\"y\":{\"field\":\"y\"}},\"id\":\"2acfef01-7c84-4850-8f2c-f52baed6ae37\",\"type\":\"Rect\"},{\"attributes\":{\"callback\":null,\"column_names\":[\"fill_alpha\",\"line_color\",\"y\",\"line_alpha\",\"height\",\"width\",\"x\",\"color\",\"label\"],\"data\":{\"chart_index\":[\"(74.441331, 76.415298]\"],\"color\":[\"#f22c40\"],\"fill_alpha\":[0.8],\"height\":[310.0],\"label\":[\"(74.441331, 76.415298]\"],\"line_alpha\":[1.0],\"line_color\":[\"black\"],\"width\":[1.9739660980509086],\"x\":[\"75.4283145\"],\"y\":[155.0]}},\"id\":\"65687c66-53c4-4ef7-ada9-888ad778c1bb\",\"type\":\"ColumnDataSource\"},{\"attributes\":{\"data_source\":{\"id\":\"03b905d2-36f1-44c7-9492-20635077396e\",\"type\":\"ColumnDataSource\"},\"glyph\":{\"id\":\"00d341d8-cc50-4d33-8704-71e3436b3f01\",\"type\":\"Rect\"},\"hover_glyph\":null,\"nonselection_glyph\":null,\"selection_glyph\":null},\"id\":\"7cba369d-f181-482b-bc6d-b8243cd6e830\",\"type\":\"GlyphRenderer\"},{\"attributes\":{},\"id\":\"1459cef4-7dc4-4f80-a526-008b311d24da\",\"type\":\"BasicTickFormatter\"},{\"attributes\":{\"callback\":null,\"column_names\":[\"fill_alpha\",\"line_color\",\"y\",\"line_alpha\",\"height\",\"width\",\"x\",\"color\",\"label\"],\"data\":{\"chart_index\":[\"(36.935976, 38.909942]\"],\"color\":[\"#f22c40\"],\"fill_alpha\":[0.8],\"height\":[162.0],\"label\":[\"(36.935976, 38.909942]\"],\"line_alpha\":[1.0],\"line_color\":[\"black\"],\"width\":[1.9739660980509086],\"x\":[\"37.922959\"],\"y\":[81.0]}},\"id\":\"66ed7717-8991-43c6-aad9-ced1b621e86d\",\"type\":\"ColumnDataSource\"},{\"attributes\":{\"fill_alpha\":{\"field\":\"fill_alpha\"},\"fill_color\":{\"field\":\"color\"},\"height\":{\"field\":\"height\",\"units\":\"data\"},\"line_color\":{\"field\":\"line_color\"},\"width\":{\"field\":\"width\",\"units\":\"data\"},\"x\":{\"field\":\"x\"},\"y\":{\"field\":\"y\"}},\"id\":\"61a7dac4-abec-487a-9f52-daa729e07c0e\",\"type\":\"Rect\"},{\"attributes\":{\"callback\":null,\"column_names\":[\"fill_alpha\",\"line_color\",\"y\",\"line_alpha\",\"height\",\"width\",\"x\",\"color\",\"label\"],\"data\":{\"chart_index\":[\"(40.004472, 42.004329]\"],\"color\":[\"#f22c40\"],\"fill_alpha\":[0.8],\"height\":[207.0],\"label\":[\"(40.004472, 42.004329]\"],\"line_alpha\":[1.0],\"line_color\":[\"black\"],\"width\":[1.999857247275834],\"x\":[\"41.0044005\"],\"y\":[103.5]}},\"id\":\"94067e7b-2984-4752-97ec-eaaf686e5dff\",\"type\":\"ColumnDataSource\"},{\"attributes\":{\"callback\":null,\"column_names\":[\"fill_alpha\",\"line_color\",\"y\",\"line_alpha\",\"height\",\"width\",\"x\",\"color\",\"label\"],\"data\":{\"chart_index\":[\"(84.311162, 86.285128]\"],\"color\":[\"#f22c40\"],\"fill_alpha\":[0.8],\"height\":[286.0],\"label\":[\"(84.311162, 86.285128]\"],\"line_alpha\":[1.0],\"line_color\":[\"black\"],\"width\":[1.9739660980509228],\"x\":[\"85.298145\"],\"y\":[143.0]}},\"id\":\"8ad5b6bf-eccb-4036-a613-291e1387daea\",\"type\":\"ColumnDataSource\"},{\"attributes\":{},\"id\":\"d39aa1fd-fea7-46fc-9471-5c06b2717dce\",\"type\":\"BasicTicker\"},{\"attributes\":{\"fill_alpha\":{\"field\":\"fill_alpha\"},\"fill_color\":{\"field\":\"color\"},\"height\":{\"field\":\"height\",\"units\":\"data\"},\"line_color\":{\"field\":\"line_color\"},\"width\":{\"field\":\"width\",\"units\":\"data\"},\"x\":{\"field\":\"x\"},\"y\":{\"field\":\"y\"}},\"id\":\"90e7c603-f0b1-4c3d-8fa0-7e3e1104f1cb\",\"type\":\"Rect\"},{\"attributes\":{\"data_source\":{\"id\":\"c173bab6-c2e6-4eb6-8c38-6462b5be45a4\",\"type\":\"ColumnDataSource\"},\"glyph\":{\"id\":\"3380c101-45c3-4497-bd84-960562c3355d\",\"type\":\"Rect\"},\"hover_glyph\":null,\"nonselection_glyph\":null,\"selection_glyph\":null},\"id\":\"db3b65a9-5561-4f20-8edf-73a835d19f04\",\"type\":\"GlyphRenderer\"},{\"attributes\":{\"data_source\":{\"id\":\"7de95c35-1903-4966-a422-7e7195c30c41\",\"type\":\"ColumnDataSource\"},\"glyph\":{\"id\":\"31474e52-a324-420b-95ef-4ef95e80f137\",\"type\":\"Rect\"},\"hover_glyph\":null,\"nonselection_glyph\":null,\"selection_glyph\":null},\"id\":\"15a413a5-252f-4392-ac86-d6d551cfb0a9\",\"type\":\"GlyphRenderer\"},{\"attributes\":{\"fill_alpha\":{\"field\":\"fill_alpha\"},\"fill_color\":{\"field\":\"color\"},\"height\":{\"field\":\"height\",\"units\":\"data\"},\"line_color\":{\"field\":\"line_color\"},\"width\":{\"field\":\"width\",\"units\":\"data\"},\"x\":{\"field\":\"x\"},\"y\":{\"field\":\"y\"}},\"id\":\"f9204b50-1c7a-4733-83d1-a102a91b4e97\",\"type\":\"Rect\"},{\"attributes\":{\"data_source\":{\"id\":\"e4a49f63-4c00-45c7-a28b-c6504f40b746\",\"type\":\"ColumnDataSource\"},\"glyph\":{\"id\":\"50ab4ddc-82b1-429f-98b0-f03cc188dfd8\",\"type\":\"Rect\"},\"hover_glyph\":null,\"nonselection_glyph\":null,\"selection_glyph\":null},\"id\":\"e9e81606-42f0-461a-a3b3-d0ded04c3fd4\",\"type\":\"GlyphRenderer\"},{\"attributes\":{\"below\":[{\"id\":\"07bb91e1-a68c-4eba-abf4-53cc1dfc4a4f\",\"type\":\"LinearAxis\"}],\"css_classes\":null,\"height\":300,\"left\":[{\"id\":\"cf60c3e4-9352-49b7-aa18-f3e1cf4d9970\",\"type\":\"LinearAxis\"}],\"renderers\":[{\"id\":\"dc1ce3f4-a193-4100-a320-e2f46dbbfa61\",\"type\":\"BoxAnnotation\"},{\"id\":\"cbe1c228-3e97-411b-84e4-f82c6cfdfa8c\",\"type\":\"GlyphRenderer\"},{\"id\":\"db3b65a9-5561-4f20-8edf-73a835d19f04\",\"type\":\"GlyphRenderer\"},{\"id\":\"ca126f07-b4a5-4a7a-8d5f-43e322ea3786\",\"type\":\"GlyphRenderer\"},{\"id\":\"7c5c5d43-1dd1-4b72-a685-077d9cde351a\",\"type\":\"GlyphRenderer\"},{\"id\":\"b56d4f8a-1f64-4177-b1ce-1e127ff0857f\",\"type\":\"GlyphRenderer\"},{\"id\":\"073dbb38-c489-4cc8-af87-5488336c86ef\",\"type\":\"GlyphRenderer\"},{\"id\":\"63ab4739-02da-4b3c-9051-6d30ee477c17\",\"type\":\"GlyphRenderer\"},{\"id\":\"ba2108f5-fb99-430a-81f2-a8f5997e362a\",\"type\":\"GlyphRenderer\"},{\"id\":\"e5e6caa4-19f6-4313-a6fb-2251fa7cc03f\",\"type\":\"GlyphRenderer\"},{\"id\":\"8876fc78-8504-44a3-8983-4f25465e583a\",\"type\":\"GlyphRenderer\"},{\"id\":\"8d485f34-3c16-4a49-b066-c9444d24a740\",\"type\":\"GlyphRenderer\"},{\"id\":\"9f96a31a-4176-4fd5-8ac7-dc262533935e\",\"type\":\"GlyphRenderer\"},{\"id\":\"6840d847-36b3-4a75-8255-6c38e1f6b75c\",\"type\":\"GlyphRenderer\"},{\"id\":\"1fe14b95-d4f4-40c6-9993-c129d22e54b1\",\"type\":\"GlyphRenderer\"},{\"id\":\"66cbd16e-f3e6-4e65-a69a-4319c9385328\",\"type\":\"GlyphRenderer\"},{\"id\":\"415da85a-d583-44f7-9700-1cf7971aca4b\",\"type\":\"GlyphRenderer\"},{\"id\":\"ecffcdb1-170e-4b9a-8a78-dc4af68da8d8\",\"type\":\"GlyphRenderer\"},{\"id\":\"d2d00118-8afb-4fde-8c16-4452ecfa4eb5\",\"type\":\"GlyphRenderer\"},{\"id\":\"eb01ef6e-632d-47a1-8ade-e1c05e604991\",\"type\":\"GlyphRenderer\"},{\"id\":\"dba345f5-833a-4938-bb66-45ffcda77aa9\",\"type\":\"GlyphRenderer\"},{\"id\":\"8f81fa17-6d4f-4099-8d93-231cf509b952\",\"type\":\"GlyphRenderer\"},{\"id\":\"1a9eaf76-71bb-41ae-992d-55b255ef9f95\",\"type\":\"GlyphRenderer\"},{\"id\":\"b96b14f8-4cc0-4abd-a4dd-bfac78aed7ce\",\"type\":\"GlyphRenderer\"},{\"id\":\"dc5daa8e-4bd5-417f-ae04-5ded9b6e40b2\",\"type\":\"GlyphRenderer\"},{\"id\":\"11db3da7-11dc-4886-9a56-e12c59beb543\",\"type\":\"GlyphRenderer\"},{\"id\":\"84ebc49d-7774-4fc1-8f33-772bb8b90eb9\",\"type\":\"GlyphRenderer\"},{\"id\":\"b856c41f-57eb-4caa-86e9-c30ebae576f8\",\"type\":\"GlyphRenderer\"},{\"id\":\"0491f361-de35-415d-bbb7-28cdfb5339bb\",\"type\":\"GlyphRenderer\"},{\"id\":\"e91b1da2-84bd-4d3f-99ca-9e64dace3178\",\"type\":\"GlyphRenderer\"},{\"id\":\"a2c7e95b-8053-4db1-8943-d1a1c104b805\",\"type\":\"GlyphRenderer\"},{\"id\":\"1a317cee-ada1-47ba-a0e1-089ff67a2214\",\"type\":\"GlyphRenderer\"},{\"id\":\"ef5c61bb-bb8f-4eb4-86c3-76d9bba85d8e\",\"type\":\"GlyphRenderer\"},{\"id\":\"c4acf8a3-e7ee-46cb-abd3-f53ea0e6ad1c\",\"type\":\"GlyphRenderer\"},{\"id\":\"2354f122-00f2-413f-8c58-8670c025d0c9\",\"type\":\"GlyphRenderer\"},{\"id\":\"3d577ccc-1450-446d-9515-781edd5ac695\",\"type\":\"GlyphRenderer\"},{\"id\":\"391a2064-5b38-40ac-9f71-6bf0d8cdf3cd\",\"type\":\"GlyphRenderer\"},{\"id\":\"09f4ebc8-4d01-41f9-b937-70c381825272\",\"type\":\"GlyphRenderer\"},{\"id\":\"79c366ee-eb81-4b15-a4c2-56eef0e2d022\",\"type\":\"GlyphRenderer\"},{\"id\":\"4f355f52-048b-4581-a3d0-2977456a8b0d\",\"type\":\"GlyphRenderer\"},{\"id\":\"b3eca3d4-d6ea-4053-b327-3f3b977a3395\",\"type\":\"GlyphRenderer\"},{\"id\":\"113ffcfc-910b-471c-8d28-1a046edec795\",\"type\":\"GlyphRenderer\"},{\"id\":\"8a05e430-b26c-4b73-bc3f-50d0e15fc493\",\"type\":\"GlyphRenderer\"},{\"id\":\"ec502f61-fa71-4e4f-8c19-c23e55619d11\",\"type\":\"GlyphRenderer\"},{\"id\":\"171bd33c-8dfd-400c-9f50-0a18900402b6\",\"type\":\"GlyphRenderer\"},{\"id\":\"e95d4d70-4f7e-4791-bb54-28f73b3ef0f8\",\"type\":\"GlyphRenderer\"},{\"id\":\"e80ad763-1abe-4c99-b027-c53a6367c7ff\",\"type\":\"GlyphRenderer\"},{\"id\":\"669eeffc-9941-4c0d-9630-ca03817ad56f\",\"type\":\"GlyphRenderer\"},{\"id\":\"75635586-8367-4354-af16-20ffe2c4da0c\",\"type\":\"GlyphRenderer\"},{\"id\":\"e125d6e6-503c-4dbd-be6c-1bb82ff03370\",\"type\":\"GlyphRenderer\"},{\"id\":\"e3465a4e-3551-43b3-8bdb-6893f31a24e3\",\"type\":\"GlyphRenderer\"},{\"id\":\"519c2ea3-f61f-4767-b3c2-ed66c1deb90c\",\"type\":\"Legend\"},{\"id\":\"07bb91e1-a68c-4eba-abf4-53cc1dfc4a4f\",\"type\":\"LinearAxis\"},{\"id\":\"cf60c3e4-9352-49b7-aa18-f3e1cf4d9970\",\"type\":\"LinearAxis\"},{\"id\":\"03a4562c-328c-442a-86f7-93c2deff4fb7\",\"type\":\"Grid\"}],\"title\":{\"id\":\"4334cbca-b4ce-4aa4-a5ef-a622a6069f4a\",\"type\":\"Title\"},\"tool_events\":{\"id\":\"d756e104-7fb7-4c88-a550-e7967c85ab53\",\"type\":\"ToolEvents\"},\"toolbar\":{\"id\":\"760e8020-5401-4b75-ba89-53291a34336a\",\"type\":\"Toolbar\"},\"toolbar_location\":null,\"width\":350,\"x_mapper_type\":\"auto\",\"x_range\":{\"id\":\"e6ed0952-54bc-48c1-ac48-9690f35a876e\",\"type\":\"Range1d\"},\"y_mapper_type\":\"auto\",\"y_range\":{\"id\":\"22940d7a-baf3-4c45-83c6-8deaf514160f\",\"type\":\"Range1d\"}},\"id\":\"ea1f27d3-388d-4e34-b976-4573f9f24332\",\"subtype\":\"Chart\",\"type\":\"Plot\"},{\"attributes\":{\"fill_alpha\":{\"field\":\"fill_alpha\"},\"fill_color\":{\"field\":\"color\"},\"height\":{\"field\":\"height\",\"units\":\"data\"},\"line_color\":{\"field\":\"line_color\"},\"width\":{\"field\":\"width\",\"units\":\"data\"},\"x\":{\"field\":\"x\"},\"y\":{\"field\":\"y\"}},\"id\":\"1038d14f-807c-433e-989f-e96c50de9c2c\",\"type\":\"Rect\"},{\"attributes\":{\"data_source\":{\"id\":\"3860edef-25e5-46c7-824b-baeedc23e595\",\"type\":\"ColumnDataSource\"},\"glyph\":{\"id\":\"4c47446c-17b9-480d-a1f4-3b1b9b28f646\",\"type\":\"Rect\"},\"hover_glyph\":null,\"nonselection_glyph\":null,\"selection_glyph\":null},\"id\":\"02cb8abf-2db1-4558-9c5d-152558e18249\",\"type\":\"GlyphRenderer\"},{\"attributes\":{\"plot\":{\"id\":\"8882f968-5c95-40a6-97b9-82107bc72984\",\"subtype\":\"Chart\",\"type\":\"Plot\"}},\"id\":\"3f685c99-61e9-4a64-90b9-e4e9affaa529\",\"type\":\"SaveTool\"},{\"attributes\":{\"callback\":null,\"column_names\":[\"fill_alpha\",\"line_color\",\"y\",\"line_alpha\",\"height\",\"width\",\"x\",\"color\",\"label\"],\"data\":{\"chart_index\":[\"(107.999618, 109.999475]\"],\"color\":[\"#f22c40\"],\"fill_alpha\":[0.8],\"height\":[228.0],\"label\":[\"(107.999618, 109.999475]\"],\"line_alpha\":[1.0],\"line_color\":[\"black\"],\"width\":[1.999857247275827],\"x\":[\"108.99954650000001\"],\"y\":[114.0]}},\"id\":\"751f0d4c-489f-49d9-bb3b-e4bc0565af9f\",\"type\":\"ColumnDataSource\"},{\"attributes\":{\"data_source\":{\"id\":\"33cb1d2b-a9d6-41a1-95b7-4c5a22db6b45\",\"type\":\"ColumnDataSource\"},\"glyph\":{\"id\":\"60d8aeaa-984c-4013-a3a7-2b360f1af58f\",\"type\":\"Rect\"},\"hover_glyph\":null,\"nonselection_glyph\":null,\"selection_glyph\":null},\"id\":\"57b96cb0-aea2-40bd-a92f-e66dffae16d2\",\"type\":\"GlyphRenderer\"},{\"attributes\":{\"fill_alpha\":{\"field\":\"fill_alpha\"},\"fill_color\":{\"field\":\"color\"},\"height\":{\"field\":\"height\",\"units\":\"data\"},\"line_color\":{\"field\":\"line_color\"},\"width\":{\"field\":\"width\",\"units\":\"data\"},\"x\":{\"field\":\"x\"},\"y\":{\"field\":\"y\"}},\"id\":\"59f9c81c-d6f2-4c88-98cb-92811cc3001b\",\"type\":\"Rect\"},{\"attributes\":{\"callback\":null,\"column_names\":[\"fill_alpha\",\"line_color\",\"y\",\"line_alpha\",\"height\",\"width\",\"x\",\"color\",\"label\"],\"data\":{\"chart_index\":[\"(52.003615, 54.003472]\"],\"color\":[\"#f22c40\"],\"fill_alpha\":[0.8],\"height\":[211.0],\"label\":[\"(52.003615, 54.003472]\"],\"line_alpha\":[1.0],\"line_color\":[\"black\"],\"width\":[1.999857247275827],\"x\":[\"53.003543500000006\"],\"y\":[105.5]}},\"id\":\"919473fc-1ab3-4b28-96fc-3e3d1d0f4523\",\"type\":\"ColumnDataSource\"},{\"attributes\":{\"callback\":null,\"column_names\":[\"fill_alpha\",\"line_color\",\"y\",\"line_alpha\",\"height\",\"width\",\"x\",\"color\",\"label\"],\"data\":{\"chart_index\":[\"(595.335485, 611.425624]\"],\"color\":[\"#f22c40\"],\"fill_alpha\":[0.8],\"height\":[0.0],\"label\":[\"(595.335485, 611.425624]\"],\"line_alpha\":[1.0],\"line_color\":[\"black\"],\"width\":[16.090139566527114],\"x\":[\"603.3805545\"],\"y\":[0.0]}},\"id\":\"afe7faa2-158f-4a48-87a3-445b53e78927\",\"type\":\"ColumnDataSource\"},{\"attributes\":{\"data_source\":{\"id\":\"56cf731a-5121-4134-8a11-ca5342826969\",\"type\":\"ColumnDataSource\"},\"glyph\":{\"id\":\"129d8efa-0787-4d02-8a67-6e032cc9d13b\",\"type\":\"Rect\"},\"hover_glyph\":null,\"nonselection_glyph\":null,\"selection_glyph\":null},\"id\":\"58bf9160-f684-4457-8f21-e49e99d8d0b1\",\"type\":\"GlyphRenderer\"},{\"attributes\":{\"plot\":{\"id\":\"ea1f27d3-388d-4e34-b976-4573f9f24332\",\"subtype\":\"Chart\",\"type\":\"Plot\"}},\"id\":\"a674245b-0bbf-4be6-87fc-abfb85078602\",\"type\":\"SaveTool\"},{\"attributes\":{\"fill_alpha\":{\"field\":\"fill_alpha\"},\"fill_color\":{\"field\":\"color\"},\"height\":{\"field\":\"height\",\"units\":\"data\"},\"line_color\":{\"field\":\"line_color\"},\"width\":{\"field\":\"width\",\"units\":\"data\"},\"x\":{\"field\":\"x\"},\"y\":{\"field\":\"y\"}},\"id\":\"e02f8bd7-d2d0-4f49-a6dd-1179fa7a8da5\",\"type\":\"Rect\"},{\"attributes\":{\"callback\":null,\"column_names\":[\"fill_alpha\",\"line_color\",\"y\",\"line_alpha\",\"height\",\"width\",\"x\",\"color\",\"label\"],\"data\":{\"chart_index\":[\"(434.434089, 450.524229]\"],\"color\":[\"#f22c40\"],\"fill_alpha\":[0.8],\"height\":[8.0],\"label\":[\"(434.434089, 450.524229]\"],\"line_alpha\":[1.0],\"line_color\":[\"black\"],\"width\":[16.090139566527114],\"x\":[\"442.479159\"],\"y\":[4.0]}},\"id\":\"d9caef14-27d3-4695-93a9-17e7a9e2c97e\",\"type\":\"ColumnDataSource\"},{\"attributes\":{\"data_source\":{\"id\":\"94067e7b-2984-4752-97ec-eaaf686e5dff\",\"type\":\"ColumnDataSource\"},\"glyph\":{\"id\":\"9ea98804-1c71-4ae8-ac97-549b0b4a58b4\",\"type\":\"Rect\"},\"hover_glyph\":null,\"nonselection_glyph\":null,\"selection_glyph\":null},\"id\":\"8d485f34-3c16-4a49-b066-c9444d24a740\",\"type\":\"GlyphRenderer\"},{\"attributes\":{\"fill_alpha\":{\"field\":\"fill_alpha\"},\"fill_color\":{\"field\":\"color\"},\"height\":{\"field\":\"height\",\"units\":\"data\"},\"line_color\":{\"field\":\"line_color\"},\"width\":{\"field\":\"width\",\"units\":\"data\"},\"x\":{\"field\":\"x\"},\"y\":{\"field\":\"y\"}},\"id\":\"3040d499-fec1-46c9-9b20-598db8939cd6\",\"type\":\"Rect\"},{\"attributes\":{\"data_source\":{\"id\":\"4f6c66d6-6ff9-4416-8dd5-c31a5c2f2581\",\"type\":\"ColumnDataSource\"},\"glyph\":{\"id\":\"3dc83b2c-163d-48ad-bb2c-3ad4ebb5c140\",\"type\":\"Rect\"},\"hover_glyph\":null,\"nonselection_glyph\":null,\"selection_glyph\":null},\"id\":\"ca126f07-b4a5-4a7a-8d5f-43e322ea3786\",\"type\":\"GlyphRenderer\"},{\"attributes\":{\"fill_alpha\":{\"field\":\"fill_alpha\"},\"fill_color\":{\"field\":\"color\"},\"height\":{\"field\":\"height\",\"units\":\"data\"},\"line_color\":{\"field\":\"line_color\"},\"width\":{\"field\":\"width\",\"units\":\"data\"},\"x\":{\"field\":\"x\"},\"y\":{\"field\":\"y\"}},\"id\":\"d1ecd838-369d-48d4-8131-d62f3e0bc792\",\"type\":\"Rect\"},{\"attributes\":{\"data_source\":{\"id\":\"389fd3f7-87e9-45f6-b76b-3c04a168f29f\",\"type\":\"ColumnDataSource\"},\"glyph\":{\"id\":\"729bc8b9-a91c-4438-9328-4a7a681eff7b\",\"type\":\"Rect\"},\"hover_glyph\":null,\"nonselection_glyph\":null,\"selection_glyph\":null},\"id\":\"c18fd06a-c11a-4f16-8ac8-66a634307dc0\",\"type\":\"GlyphRenderer\"},{\"attributes\":{\"data_source\":{\"id\":\"f7cf2c60-7ba2-4870-a0a6-fe75d7b4d0a5\",\"type\":\"ColumnDataSource\"},\"glyph\":{\"id\":\"de55c8b4-d1aa-425a-ac7b-c4f9b653b8fa\",\"type\":\"Rect\"},\"hover_glyph\":null,\"nonselection_glyph\":null,\"selection_glyph\":null},\"id\":\"ec502f61-fa71-4e4f-8c19-c23e55619d11\",\"type\":\"GlyphRenderer\"},{\"attributes\":{\"callback\":null,\"column_names\":[\"fill_alpha\",\"line_color\",\"y\",\"line_alpha\",\"height\",\"width\",\"x\",\"color\",\"label\"],\"data\":{\"chart_index\":[\"(90.233060, 92.207026]\"],\"color\":[\"#f22c40\"],\"fill_alpha\":[0.8],\"height\":[249.0],\"label\":[\"(90.233060, 92.207026]\"],\"line_alpha\":[1.0],\"line_color\":[\"black\"],\"width\":[1.9739660980509086],\"x\":[\"91.220043\"],\"y\":[124.5]}},\"id\":\"88d4fe84-74ed-476f-9de6-7333d61d4b92\",\"type\":\"ColumnDataSource\"},{\"attributes\":{\"fill_alpha\":{\"field\":\"fill_alpha\"},\"fill_color\":{\"field\":\"color\"},\"height\":{\"field\":\"height\",\"units\":\"data\"},\"line_color\":{\"field\":\"line_color\"},\"width\":{\"field\":\"width\",\"units\":\"data\"},\"x\":{\"field\":\"x\"},\"y\":{\"field\":\"y\"}},\"id\":\"11c1a508-390b-4112-8570-aa192644fc2d\",\"type\":\"Rect\"},{\"attributes\":{\"fill_alpha\":{\"field\":\"fill_alpha\"},\"fill_color\":{\"field\":\"color\"},\"height\":{\"field\":\"height\",\"units\":\"data\"},\"line_color\":{\"field\":\"line_color\"},\"width\":{\"field\":\"width\",\"units\":\"data\"},\"x\":{\"field\":\"x\"},\"y\":{\"field\":\"y\"}},\"id\":\"6ff7dc05-2c22-4989-b216-f01e208847f6\",\"type\":\"Rect\"},{\"attributes\":{\"data_source\":{\"id\":\"754bf541-4b95-475f-8871-ebd810ade9d1\",\"type\":\"ColumnDataSource\"},\"glyph\":{\"id\":\"ad47e1cf-ccef-4074-b02c-c6a4ea8689ef\",\"type\":\"Rect\"},\"hover_glyph\":null,\"nonselection_glyph\":null,\"selection_glyph\":null},\"id\":\"803c937c-ff69-49c6-b622-0628a8d0e8db\",\"type\":\"GlyphRenderer\"},{\"attributes\":{\"callback\":null,\"column_names\":[\"fill_alpha\",\"line_color\",\"y\",\"line_alpha\",\"height\",\"width\",\"x\",\"color\",\"label\"],\"data\":{\"chart_index\":[\"(482.704508, 498.794647]\"],\"color\":[\"#f22c40\"],\"fill_alpha\":[0.8],\"height\":[13.0],\"label\":[\"(482.704508, 498.794647]\"],\"line_alpha\":[1.0],\"line_color\":[\"black\"],\"width\":[16.090139566527057],\"x\":[\"490.7495775\"],\"y\":[6.5]}},\"id\":\"36223c46-0d0b-45c4-891d-ba8d03811bd2\",\"type\":\"ColumnDataSource\"},{\"attributes\":{\"data_source\":{\"id\":\"66ed7717-8991-43c6-aad9-ced1b621e86d\",\"type\":\"ColumnDataSource\"},\"glyph\":{\"id\":\"130609d1-9491-4d61-978b-dfe05cb30101\",\"type\":\"Rect\"},\"hover_glyph\":null,\"nonselection_glyph\":null,\"selection_glyph\":null},\"id\":\"f546f706-8a42-48a3-902e-070b004c1c97\",\"type\":\"GlyphRenderer\"},{\"attributes\":{\"data_source\":{\"id\":\"ba733e2d-1dd8-4b84-b4ad-0a08e5a8fcdf\",\"type\":\"ColumnDataSource\"},\"glyph\":{\"id\":\"087c5a66-6ab0-43e8-a427-f6a9512d552a\",\"type\":\"Rect\"},\"hover_glyph\":null,\"nonselection_glyph\":null,\"selection_glyph\":null},\"id\":\"97bcc423-5ddc-4626-a18e-80348990d731\",\"type\":\"GlyphRenderer\"},{\"attributes\":{\"callback\":null,\"column_names\":[\"fill_alpha\",\"line_color\",\"y\",\"line_alpha\",\"height\",\"width\",\"x\",\"color\",\"label\"],\"data\":{\"chart_index\":[\"(56.003330, 58.003187]\"],\"color\":[\"#f22c40\"],\"fill_alpha\":[0.8],\"height\":[222.0],\"label\":[\"(56.003330, 58.003187]\"],\"line_alpha\":[1.0],\"line_color\":[\"black\"],\"width\":[1.999857247275827],\"x\":[\"57.0032585\"],\"y\":[111.0]}},\"id\":\"e2988881-2273-4e2f-b165-87f41a7772e9\",\"type\":\"ColumnDataSource\"},{\"attributes\":{\"fill_alpha\":{\"field\":\"fill_alpha\"},\"fill_color\":{\"field\":\"color\"},\"height\":{\"field\":\"height\",\"units\":\"data\"},\"line_color\":{\"field\":\"line_color\"},\"width\":{\"field\":\"width\",\"units\":\"data\"},\"x\":{\"field\":\"x\"},\"y\":{\"field\":\"y\"}},\"id\":\"79f84828-0f04-41df-83ea-ff1023826d7a\",\"type\":\"Rect\"},{\"attributes\":{\"fill_alpha\":{\"field\":\"fill_alpha\"},\"fill_color\":{\"field\":\"color\"},\"height\":{\"field\":\"height\",\"units\":\"data\"},\"line_color\":{\"field\":\"line_color\"},\"width\":{\"field\":\"width\",\"units\":\"data\"},\"x\":{\"field\":\"x\"},\"y\":{\"field\":\"y\"}},\"id\":\"8b88f411-5bbf-48f7-9880-55772d2331b7\",\"type\":\"Rect\"},{\"attributes\":{\"data_source\":{\"id\":\"3d864bfb-11ce-4bda-b9cf-ee30311a94a4\",\"type\":\"ColumnDataSource\"},\"glyph\":{\"id\":\"02124b09-d42e-422c-9403-d93ceb578c97\",\"type\":\"Rect\"},\"hover_glyph\":null,\"nonselection_glyph\":null,\"selection_glyph\":null},\"id\":\"a6ffee91-018d-4788-9c55-de79f9c2a465\",\"type\":\"GlyphRenderer\"},{\"attributes\":{\"data_source\":{\"id\":\"2eb02274-eecf-4a57-8cae-7dda9d39c0e8\",\"type\":\"ColumnDataSource\"},\"glyph\":{\"id\":\"72f159b8-991c-48bc-9e8f-05a70b58a202\",\"type\":\"Rect\"},\"hover_glyph\":null,\"nonselection_glyph\":null,\"selection_glyph\":null},\"id\":\"11db3da7-11dc-4886-9a56-e12c59beb543\",\"type\":\"GlyphRenderer\"},{\"attributes\":{\"fill_alpha\":{\"field\":\"fill_alpha\"},\"fill_color\":{\"field\":\"color\"},\"height\":{\"field\":\"height\",\"units\":\"data\"},\"line_color\":{\"field\":\"line_color\"},\"width\":{\"field\":\"width\",\"units\":\"data\"},\"x\":{\"field\":\"x\"},\"y\":{\"field\":\"y\"}},\"id\":\"51f09ac9-b250-42d6-bdaf-d065871ea07d\",\"type\":\"Rect\"},{\"attributes\":{\"callback\":null,\"column_names\":[\"fill_alpha\",\"line_color\",\"y\",\"line_alpha\",\"height\",\"width\",\"x\",\"color\",\"label\"],\"data\":{\"chart_index\":[\"(337.893252, 353.983391]\"],\"color\":[\"#f22c40\"],\"fill_alpha\":[0.8],\"height\":[49.0],\"label\":[\"(337.893252, 353.983391]\"],\"line_alpha\":[1.0],\"line_color\":[\"black\"],\"width\":[16.090139566527114],\"x\":[\"345.93832150000003\"],\"y\":[24.5]}},\"id\":\"cf61480f-cc00-4b9c-85ef-9764e9e44dee\",\"type\":\"ColumnDataSource\"},{\"attributes\":{\"callback\":null,\"column_names\":[\"fill_alpha\",\"line_color\",\"y\",\"line_alpha\",\"height\",\"width\",\"x\",\"color\",\"label\"],\"data\":{\"chart_index\":[\"(24.005614, 26.005471]\"],\"color\":[\"#f22c40\"],\"fill_alpha\":[0.8],\"height\":[193.0],\"label\":[\"(24.005614, 26.005471]\"],\"line_alpha\":[1.0],\"line_color\":[\"black\"],\"width\":[1.999857247275827],\"x\":[\"25.0055425\"],\"y\":[96.5]}},\"id\":\"4f6c66d6-6ff9-4416-8dd5-c31a5c2f2581\",\"type\":\"ColumnDataSource\"},{\"attributes\":{\"data_source\":{\"id\":\"0fc34452-b7a1-4c08-ad73-26ee100bf461\",\"type\":\"ColumnDataSource\"},\"glyph\":{\"id\":\"d960f7c8-028b-4fd6-8ca3-7f4692882eb7\",\"type\":\"Rect\"},\"hover_glyph\":null,\"nonselection_glyph\":null,\"selection_glyph\":null},\"id\":\"4a97174d-5c5e-4ff3-b735-bce519ca7c5f\",\"type\":\"GlyphRenderer\"},{\"attributes\":{\"callback\":null,\"column_names\":[\"fill_alpha\",\"line_color\",\"y\",\"line_alpha\",\"height\",\"width\",\"x\",\"color\",\"label\"],\"data\":{\"chart_index\":[\"(94.180992, 96.154959]\"],\"color\":[\"#f22c40\"],\"fill_alpha\":[0.8],\"height\":[210.0],\"label\":[\"(94.180992, 96.154959]\"],\"line_alpha\":[1.0],\"line_color\":[\"black\"],\"width\":[1.9739660980509086],\"x\":[\"95.16797550000001\"],\"y\":[105.0]}},\"id\":\"b52b83cf-02df-408c-8221-52d268045465\",\"type\":\"ColumnDataSource\"},{\"attributes\":{\"fill_alpha\":{\"field\":\"fill_alpha\"},\"fill_color\":{\"field\":\"color\"},\"height\":{\"field\":\"height\",\"units\":\"data\"},\"line_color\":{\"field\":\"line_color\"},\"width\":{\"field\":\"width\",\"units\":\"data\"},\"x\":{\"field\":\"x\"},\"y\":{\"field\":\"y\"}},\"id\":\"42892b28-1059-45cc-a93a-0dfb4499f643\",\"type\":\"Rect\"},{\"attributes\":{\"data_source\":{\"id\":\"228a9466-32f2-44ea-bf8b-5ca668fa9199\",\"type\":\"ColumnDataSource\"},\"glyph\":{\"id\":\"9e5cd9b0-1eaf-4836-bd33-232a83be0528\",\"type\":\"Rect\"},\"hover_glyph\":null,\"nonselection_glyph\":null,\"selection_glyph\":null},\"id\":\"c6d57868-0f18-4bfc-9b54-dff21e7bfaa6\",\"type\":\"GlyphRenderer\"},{\"attributes\":{\"data_source\":{\"id\":\"56b2e44e-429e-4e66-8190-a664478f19c1\",\"type\":\"ColumnDataSource\"},\"glyph\":{\"id\":\"59b806f5-be7e-4c2b-9e3f-bcac1f0dd036\",\"type\":\"Rect\"},\"hover_glyph\":null,\"nonselection_glyph\":null,\"selection_glyph\":null},\"id\":\"8247f816-55ff-4a41-9fff-f4a513fb7b91\",\"type\":\"GlyphRenderer\"},{\"attributes\":{\"fill_alpha\":{\"field\":\"fill_alpha\"},\"fill_color\":{\"field\":\"color\"},\"height\":{\"field\":\"height\",\"units\":\"data\"},\"line_color\":{\"field\":\"line_color\"},\"width\":{\"field\":\"width\",\"units\":\"data\"},\"x\":{\"field\":\"x\"},\"y\":{\"field\":\"y\"}},\"id\":\"8ee79af0-a287-41cf-9cc2-999c793f3047\",\"type\":\"Rect\"},{\"attributes\":{\"fill_alpha\":{\"field\":\"fill_alpha\"},\"fill_color\":{\"field\":\"color\"},\"height\":{\"field\":\"height\",\"units\":\"data\"},\"line_color\":{\"field\":\"line_color\"},\"width\":{\"field\":\"width\",\"units\":\"data\"},\"x\":{\"field\":\"x\"},\"y\":{\"field\":\"y\"}},\"id\":\"1dc8944c-e112-4e23-a5a2-148050b82403\",\"type\":\"Rect\"}],\"root_ids\":[\"7c603cda-ff69-4478-b302-cc8bd200c228\"]},\"title\":\"Bokeh Application\",\"version\":\"0.12.4\"}};\n",
       "            var render_items = [{\"docid\":\"1852ae9c-d849-4fa0-a017-f4028c57153e\",\"elementid\":\"d680a566-e4d1-421e-b0eb-84cf9cb9142e\",\"modelid\":\"7c603cda-ff69-4478-b302-cc8bd200c228\"}];\n",
       "            \n",
       "            Bokeh.embed.embed_items(docs_json, render_items);\n",
       "          };\n",
       "          if (document.readyState != \"loading\") fn();\n",
       "          else document.addEventListener(\"DOMContentLoaded\", fn);\n",
       "        })();\n",
       "      },\n",
       "      function(Bokeh) {\n",
       "      }\n",
       "    ];\n",
       "  \n",
       "    function run_inline_js() {\n",
       "      \n",
       "      if ((window.Bokeh !== undefined) || (force === true)) {\n",
       "        for (var i = 0; i < inline_js.length; i++) {\n",
       "          inline_js[i](window.Bokeh);\n",
       "        }if (force === true) {\n",
       "          display_loaded();\n",
       "        }} else if (Date.now() < window._bokeh_timeout) {\n",
       "        setTimeout(run_inline_js, 100);\n",
       "      } else if (!window._bokeh_failed_load) {\n",
       "        console.log(\"Bokeh: BokehJS failed to load within specified timeout.\");\n",
       "        window._bokeh_failed_load = true;\n",
       "      } else if (force !== true) {\n",
       "        var cell = $(document.getElementById(\"d680a566-e4d1-421e-b0eb-84cf9cb9142e\")).parents('.cell').data().cell;\n",
       "        cell.output_area.append_execute_result(NB_LOAD_WARNING)\n",
       "      }\n",
       "  \n",
       "    }\n",
       "  \n",
       "    if (window._bokeh_is_loading === 0) {\n",
       "      console.log(\"Bokeh: BokehJS loaded, going straight to plotting\");\n",
       "      run_inline_js();\n",
       "    } else {\n",
       "      load_libs(js_urls, function() {\n",
       "        console.log(\"Bokeh: BokehJS plotting callback run at\", now());\n",
       "        run_inline_js();\n",
       "      });\n",
       "    }\n",
       "  }(this));\n",
       "</script>"
      ]
     },
     "metadata": {},
     "output_type": "display_data"
    }
   ],
   "source": [
    "import scipy.stats\n",
    "from bokeh.charts import Histogram\n",
    "\n",
    "w, h = 350, 300\n",
    "\n",
    "dists = [\n",
    "    scipy.stats.expon(scale=100), # the frozed uniform distribution\n",
    "    scipy.stats.norm(loc=40, scale=10), # the frozed uniform distribution\n",
    "    scipy.stats.uniform(loc=20, scale=100), # the frozed uniform distribution\n",
    "    scipy.stats.beta(2,2,loc=20, scale=100) # the frozed uniform distribution\n",
    "]\n",
    "\n",
    "figs = [ Histogram(dist.rvs(1e4), bins=50, \n",
    "                   width=w, height=h, \n",
    "                   xlabel=None, ylabel=None)\n",
    "        for dist in dists ]\n",
    "\n",
    "bk.show(bk.gridplot([[figs[0], figs[1]],\n",
    "                     [figs[2], figs[3]] \n",
    "                     ]))"
   ]
  },
  {
   "cell_type": "markdown",
   "metadata": {},
   "source": [
    "---\n",
    "\n",
    "Visit [www.add-for.com](<http://www.add-for.com/IT>) for more tutorials and updates.\n",
    "\n",
    "This work is licensed under a <a rel=\"license\" href=\"http://creativecommons.org/licenses/by-sa/4.0/\">Creative Commons Attribution-ShareAlike 4.0 International License</a>."
   ]
  }
 ],
 "metadata": {
  "anaconda-cloud": {},
  "kernelspec": {
   "display_name": "Python [conda env:addtrain]",
   "language": "python",
   "name": "conda-env-addtrain-py"
  },
  "language_info": {
   "codemirror_mode": {
    "name": "ipython",
    "version": 3
   },
   "file_extension": ".py",
   "mimetype": "text/x-python",
   "name": "python",
   "nbconvert_exporter": "python",
   "pygments_lexer": "ipython3",
   "version": "3.5.2"
  }
 },
 "nbformat": 4,
 "nbformat_minor": 0
}
